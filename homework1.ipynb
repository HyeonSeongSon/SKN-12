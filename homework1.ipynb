{
  "nbformat": 4,
  "nbformat_minor": 0,
  "metadata": {
    "colab": {
      "provenance": []
    },
    "kernelspec": {
      "name": "python3",
      "display_name": "Python 3"
    },
    "language_info": {
      "name": "python"
    }
  },
  "cells": [
    {
      "cell_type": "code",
      "execution_count": 8,
      "metadata": {
        "colab": {
          "base_uri": "https://localhost:8080/"
        },
        "id": "oqeViHsIf7OD",
        "outputId": "85f5b8b5-dec9-4420-ba97-dc7852c1983f"
      },
      "outputs": [
        {
          "output_type": "stream",
          "name": "stdout",
          "text": [
            "[{'name': '이민수', 'avg_score': 98.33333333333333, 'subjects': ['kor', 'eng', 'math'], 'grades': ['kor: 100', 'eng: 95', 'math: 100']}, {'name': '홍길동', 'avg_score': 90.0, 'subjects': ['kor', 'eng', 'math'], 'grades': ['kor: 90', 'eng: 85', 'math: 95']}]\n",
            "전체 학생 수: 4\n",
            "기준 이상 학생 수: 2\n",
            "최고 평균: 98.33\n",
            "상위 학생:\n",
            " - 이민수: 평균 98.33, 과목: ['kor: 100', 'eng: 95', 'math: 100']\n",
            " - 홍길동: 평균 90.00, 과목: ['kor: 90', 'eng: 85', 'math: 95']\n"
          ]
        }
      ],
      "source": [
        "from functools import reduce\n",
        "\n",
        "# 1.\n",
        "students = [\n",
        "    {'name': '홍길동', 'scores': {'kor': 90, 'eng': 85, 'math': 95}},\n",
        "    {'name': '김영희', 'scores': {'kor': 80, 'eng': 90, 'math': 85}},\n",
        "    {'name': '이민수', 'scores': {'kor': 100, 'eng': 95, 'math': 100}}\n",
        "]\n",
        "\n",
        "# 2.\n",
        "def add_student_scores(name, **scores):\n",
        "    \"\"\"\n",
        "    학생 이름과 과목별 점수를 받아 딕셔너리로 반환\n",
        "    :param name: 학생 이름\n",
        "    :param scores: 과목별 점수 (키워드 가변 매개변수)\n",
        "    :return: 학생 데이터 딕셔너리\n",
        "    \"\"\"\n",
        "    return {'name': name, 'scores': scores}\n",
        "\n",
        "# 3.\n",
        "def process_student_data(*students_data, threshold=90):\n",
        "    # packing: 여러 학생 데이터를 튜플로 받음\n",
        "    processed = []\n",
        "\n",
        "    for student in students_data:\n",
        "        name, scores = student['name'], student['scores']  # for문으로 들어온 튜플 데이터를 딕셔너리형태로 student에 받아서\n",
        "                                                           # key가 'name'인 값을 name에 key가 'scores'인 값을 scores에 저장\n",
        "\n",
        "        # values()으로 scores의 values만 뽑아내서 더한 후 len으로 scores의 개수를 나눔으로써 얻은 평균을 avg_score에 저장하고 매개변수로 받은값(defaolt=90)\n",
        "        # 보다 평균이 클 경우 processed 리스트에 아래 정보가 들어있는 딕셔너리를 보냄\n",
        "        avg_score = sum(scores.values()) / len(scores)\n",
        "        if avg_score >= threshold:\n",
        "            processed.append({\n",
        "                'name': name,\n",
        "                'avg_score': avg_score,\n",
        "                'subjects': list(scores.keys()),  # subjects를 키로 하는 value값에 scores(딕셔너리)에 키값인 과목명만 리스트에 담음\n",
        "                'grades': [f\"{k}: {v}\" for k, v in scores.items()]  # grades를 키로 하는 value값에 .items()를 써서 딕셔너리의 key, value를 k,v로 하여\n",
        "                                                                    # '과목:점수'의 문자열을 리스트에 담음\n",
        "            })\n",
        "\n",
        "    return processed\n",
        "\n",
        "# 4.\n",
        "def analyze_classroom(*students, **options):\n",
        "    # options에서 threshold가 있으면 그값을 threshold에 할당, 없으면 defoalt=85\n",
        "    # options에서 sort_by가 있으면 그값을 sort_by할당, 없으면 defoalt='avg_score'\n",
        "    threshold = options.get('threshold', 85)\n",
        "    sort_by = options.get('sort_by', 'avg_score')\n",
        "\n",
        "    # process_student_data 함수에 students와 threshold값을 매개변수로 넣어 전처리된 값을 processed_students에 할당\n",
        "    processed_students = process_student_data(*students, threshold=threshold)\n",
        "\n",
        "    # 전처리한 데이터를 sort_by(defoalt=avg_score)을 기준으로 내림차순한 값을 sorted_result에 할당\n",
        "    sorted_result = sorted(processed_students, key=lambda x: x[sort_by], reverse=True)\n",
        "    print(sorted_result)\n",
        "\n",
        "    # 전체학생수, 기준 이상 학생수, 기준 이상 학생 데이터, avg_score가 가장큰 학생의 점수가 담겨있는 result데이터를 반환\n",
        "    result = {\n",
        "        'total_students': len(students),\n",
        "        'above_threshold': len(sorted_result),\n",
        "        'top_students': sorted_result,\n",
        "        'highest_avg': max([s['avg_score'] for s in sorted_result], default=0)\n",
        "    }\n",
        "\n",
        "    return result\n",
        "\n",
        "# 5.\n",
        "# 학생 데이터 생성\n",
        "new_student = add_student_scores('최민재', kor=88, eng=92, math=87)\n",
        "\n",
        "# 학생 데이터 추가\n",
        "students.append(new_student)\n",
        "\n",
        "# 90점 이상의 avg_score를 가진 학생 데이터를 추출\n",
        "result = analyze_classroom(*students, threshold=90, sort_by='avg_score')\n",
        "\n",
        "# 결과 출력\n",
        "print(f\"전체 학생 수: {result['total_students']}\")\n",
        "print(f\"기준 이상 학생 수: {result['above_threshold']}\")\n",
        "print(f\"최고 평균: {result['highest_avg']:.2f}\")\n",
        "print(\"상위 학생:\")\n",
        "for student in result['top_students']:\n",
        "    print(f\" - {student['name']}: 평균 {student['avg_score']:.2f}, 과목: {student['grades']}\")\n",
        "\n",
        "# 출력 예시:\n",
        "# 전체 학생 수: 4\n",
        "# 기준 이상 학생 수: 2\n",
        "# 최고 평균: 98.33\n",
        "# 상위 학생:\n",
        "#  - 이민수: 평균 98.33, 과목: ['kor: 100', 'eng: 95', 'math: 100']\n",
        "#  - 홍길동: 평균 90.00, 과목: ['kor: 90', 'eng: 85', 'math: 95']"
      ]
    }
  ]
}