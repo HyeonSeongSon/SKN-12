{
  "nbformat": 4,
  "nbformat_minor": 0,
  "metadata": {
    "colab": {
      "provenance": []
    },
    "kernelspec": {
      "name": "python3",
      "display_name": "Python 3"
    },
    "language_info": {
      "name": "python"
    }
  },
  "cells": [
    {
      "cell_type": "markdown",
      "source": [
        "# 선형 회귀\n",
        "$$y = w_0x + w_1$$\n",
        "```\n",
        "a : 기울기\n",
        "b : 절편\n",
        "x : 독립변수\n",
        "y : 종속변수\n",
        "```\n",
        "# 손실함수  MSE\n",
        "$$J(w_0, w_1) = \\frac{1}{n} \\sum_{i=1}^{n} (y_i - ( w_0x_i + w_1))^2$$\n",
        "```\n",
        "선형회귀는 손실함수의 값이 최소가 되는 방향으로 계수(가중치)를 구한다\n",
        "```\n",
        "\n"
      ],
      "metadata": {
        "id": "_Xn9sCJw3_fb"
      }
    },
    {
      "cell_type": "code",
      "source": [],
      "metadata": {
        "id": "2gpOjU-V4Aj-"
      },
      "execution_count": null,
      "outputs": []
    },
    {
      "cell_type": "code",
      "source": [
        "perch_length.reshape(-1,1)"
      ],
      "metadata": {
        "colab": {
          "base_uri": "https://localhost:8080/"
        },
        "collapsed": true,
        "id": "B6PpoYQ04LUW",
        "outputId": "9c930fc8-10d2-4d2f-d933-abf163f8262d"
      },
      "execution_count": null,
      "outputs": [
        {
          "output_type": "execute_result",
          "data": {
            "text/plain": [
              "array([[ 8.4],\n",
              "       [13.7],\n",
              "       [15. ],\n",
              "       [16.2],\n",
              "       [17.4],\n",
              "       [18. ],\n",
              "       [18.7],\n",
              "       [19. ],\n",
              "       [19.6],\n",
              "       [20. ],\n",
              "       [21. ],\n",
              "       [21. ],\n",
              "       [21. ],\n",
              "       [21.3],\n",
              "       [22. ],\n",
              "       [22. ],\n",
              "       [22. ],\n",
              "       [22. ],\n",
              "       [22. ],\n",
              "       [22.5],\n",
              "       [22.5],\n",
              "       [22.7],\n",
              "       [23. ],\n",
              "       [23.5],\n",
              "       [24. ],\n",
              "       [24. ],\n",
              "       [24.6],\n",
              "       [25. ],\n",
              "       [25.6],\n",
              "       [26.5],\n",
              "       [27.3],\n",
              "       [27.5],\n",
              "       [27.5],\n",
              "       [27.5],\n",
              "       [28. ],\n",
              "       [28.7],\n",
              "       [30. ],\n",
              "       [32.8],\n",
              "       [34.5],\n",
              "       [35. ],\n",
              "       [36.5],\n",
              "       [36. ],\n",
              "       [37. ],\n",
              "       [37. ],\n",
              "       [39. ],\n",
              "       [39. ],\n",
              "       [39. ],\n",
              "       [40. ],\n",
              "       [40. ],\n",
              "       [40. ],\n",
              "       [40. ],\n",
              "       [42. ],\n",
              "       [43. ],\n",
              "       [43. ],\n",
              "       [43.5],\n",
              "       [44. ]])"
            ]
          },
          "metadata": {},
          "execution_count": 8
        }
      ]
    },
    {
      "cell_type": "code",
      "source": [
        "# 선형 모델\n",
        "from sklearn.linear_model import LinearRegression\n",
        "lr = LinearRegression()\n",
        "# 훈련\n",
        "lr.fit(perch_length.reshape(-1, 1), perch_weight)\n",
        "# 예측\n",
        "y_predict = lr.predict([[50]])\n",
        "print(f'기울기 : {lr.coef_[0]}')\n",
        "print(f'절편 : {lr.intercept_}')\n",
        "print(f'예측 : {y_predict}')\n",
        "lr.coef_[0]*50+lr.intercept_"
      ],
      "metadata": {
        "colab": {
          "base_uri": "https://localhost:8080/"
        },
        "id": "Kot26vyD4i0-",
        "outputId": "8772fade-719a-4997-b6af-363c1baad51d"
      },
      "execution_count": null,
      "outputs": [
        {
          "output_type": "stream",
          "name": "stdout",
          "text": [
            "기울기 : 36.938375967836976\n",
            "절편 : -648.0775582457385\n",
            "예측 : [1198.84124015]\n"
          ]
        },
        {
          "output_type": "execute_result",
          "data": {
            "text/plain": [
              "np.float64(1198.84124014611)"
            ]
          },
          "metadata": {},
          "execution_count": 22
        }
      ]
    },
    {
      "cell_type": "code",
      "source": [
        "import matplotlib.pyplot as plt\n",
        "plt.figure(figsize=(8,3))\n",
        "plt.scatter(perch_length, perch_weight)\n",
        "plt.plot([min(perch_length)-2, 50], [lr.predict([[0]]), lr.predict([[50]])])\n",
        "plt.plot(50,lr.predict([[50]]),marker='^')\n",
        "plt.xlabel('length')\n",
        "plt.ylabel('weight')\n",
        "plt.show()"
      ],
      "metadata": {
        "colab": {
          "base_uri": "https://localhost:8080/",
          "height": 311
        },
        "id": "Q3lUk9XY5YWZ",
        "outputId": "34672a9f-d33b-4fe4-9fc4-e5267d54f5fa"
      },
      "execution_count": null,
      "outputs": [
        {
          "output_type": "display_data",
          "data": {
            "text/plain": [
              "<Figure size 800x300 with 1 Axes>"
            ],
            "image/png": "[encoded data removed]"
          },
          "metadata": {}
        }
      ]
    },
    {
      "cell_type": "markdown",
      "source": [
        "# 학습데이터와 모델의 시각화"
      ],
      "metadata": {
        "id": "HsMOJKeV-e8n"
      }
    },
    {
      "cell_type": "code",
      "source": [
        "import matplotlib.pyplot as plt\n",
        "\n",
        "y_pred = lr.predict(perch_length.reshape(-1, 1))\n",
        "\n",
        "plt.figure(figsize=(8,8))\n",
        "plt.scatter(perch_length, perch_weight)\n",
        "plt.plot(perch_length, y_pred)\n",
        "plt.plot(50,lr.predict([[50]]),marker='^')\n",
        "plt.plot(5,lr.predict([[5]]),marker='^')\n",
        "plt.xlabel('length')\n",
        "plt.ylabel('weight')\n",
        "plt.show()"
      ],
      "metadata": {
        "colab": {
          "base_uri": "https://localhost:8080/",
          "height": 696
        },
        "id": "-WDlE6sW5tZp",
        "outputId": "0a7761d8-4e99-4e05-86e8-2989af677a5f"
      },
      "execution_count": null,
      "outputs": [
        {
          "output_type": "display_data",
          "data": {
            "text/plain": [
              "<Figure size 800x800 with 1 Axes>"
            ],
            "image/png": "[encoded data removed]"
          },
          "metadata": {}
        }
      ]
    },
    {
      "cell_type": "markdown",
      "source": [
        "# 다항 회귀\n",
        "$$y = w_0 + w_1 x + w_2 x^2 + w_3 x^3 + \\dots + w_n x^n + \\epsilon$$\n",
        "```\n",
        "기존선형회귀를 비선형 관계로 확장한 모델\n",
        "x값의 거듭제곱(제곱, 세제곱, ... )을 추가해서 복잡한 패턴을 학습가능\n",
        "n이 클수록 곡선이 더 유연해진다. 그러나 과적합 위험\n",
        "```"
      ],
      "metadata": {
        "id": "KcT9M8hI_AIi"
      }
    },
    {
      "cell_type": "markdown",
      "source": [
        "$$y = w_0 + w_1 x + w_2 x^2$$"
      ],
      "metadata": {
        "id": "OMhumyhpA88S"
      }
    },
    {
      "cell_type": "code",
      "source": [
        "import numpy as np\n",
        "np.stack( [perch_length, perch_length**2]).reshape(-1,2)"
      ],
      "metadata": {
        "colab": {
          "base_uri": "https://localhost:8080/"
        },
        "id": "BOx7v8I0_An_",
        "outputId": "84256892-c27b-4360-ae83-4ecf4c8ebb91"
      },
      "execution_count": null,
      "outputs": [
        {
          "output_type": "execute_result",
          "data": {
            "text/plain": [
              "array([[   8.4 ,   13.7 ],\n",
              "       [  15.  ,   16.2 ],\n",
              "       [  17.4 ,   18.  ],\n",
              "       [  18.7 ,   19.  ],\n",
              "       [  19.6 ,   20.  ],\n",
              "       [  21.  ,   21.  ],\n",
              "       [  21.  ,   21.3 ],\n",
              "       [  22.  ,   22.  ],\n",
              "       [  22.  ,   22.  ],\n",
              "       [  22.  ,   22.5 ],\n",
              "       [  22.5 ,   22.7 ],\n",
              "       [  23.  ,   23.5 ],\n",
              "       [  24.  ,   24.  ],\n",
              "       [  24.6 ,   25.  ],\n",
              "       [  25.6 ,   26.5 ],\n",
              "       [  27.3 ,   27.5 ],\n",
              "       [  27.5 ,   27.5 ],\n",
              "       [  28.  ,   28.7 ],\n",
              "       [  30.  ,   32.8 ],\n",
              "       [  34.5 ,   35.  ],\n",
              "       [  36.5 ,   36.  ],\n",
              "       [  37.  ,   37.  ],\n",
              "       [  39.  ,   39.  ],\n",
              "       [  39.  ,   40.  ],\n",
              "       [  40.  ,   40.  ],\n",
              "       [  40.  ,   42.  ],\n",
              "       [  43.  ,   43.  ],\n",
              "       [  43.5 ,   44.  ],\n",
              "       [  70.56,  187.69],\n",
              "       [ 225.  ,  262.44],\n",
              "       [ 302.76,  324.  ],\n",
              "       [ 349.69,  361.  ],\n",
              "       [ 384.16,  400.  ],\n",
              "       [ 441.  ,  441.  ],\n",
              "       [ 441.  ,  453.69],\n",
              "       [ 484.  ,  484.  ],\n",
              "       [ 484.  ,  484.  ],\n",
              "       [ 484.  ,  506.25],\n",
              "       [ 506.25,  515.29],\n",
              "       [ 529.  ,  552.25],\n",
              "       [ 576.  ,  576.  ],\n",
              "       [ 605.16,  625.  ],\n",
              "       [ 655.36,  702.25],\n",
              "       [ 745.29,  756.25],\n",
              "       [ 756.25,  756.25],\n",
              "       [ 784.  ,  823.69],\n",
              "       [ 900.  , 1075.84],\n",
              "       [1190.25, 1225.  ],\n",
              "       [1332.25, 1296.  ],\n",
              "       [1369.  , 1369.  ],\n",
              "       [1521.  , 1521.  ],\n",
              "       [1521.  , 1600.  ],\n",
              "       [1600.  , 1600.  ],\n",
              "       [1600.  , 1764.  ],\n",
              "       [1849.  , 1849.  ],\n",
              "       [1892.25, 1936.  ]])"
            ]
          },
          "metadata": {},
          "execution_count": 26
        }
      ]
    },
    {
      "cell_type": "code",
      "source": [
        "import numpy as np\n",
        "perch_length_poly = np.column_stack( [perch_length, perch_length**2])\n",
        "# 데이터 확인\n",
        "print(perch_length_poly[:5])\n",
        "# 학습\n",
        "lr = LinearRegression()\n",
        "lr.fit(perch_length_poly, perch_weight)\n",
        "print(f'기울기 : {lr.coef_} 절편 : {lr.intercept_}')"
      ],
      "metadata": {
        "colab": {
          "base_uri": "https://localhost:8080/"
        },
        "id": "cr4JLbYRA-4a",
        "outputId": "2c805636-00b7-4bee-bd22-35cdb1387373"
      },
      "execution_count": null,
      "outputs": [
        {
          "output_type": "stream",
          "name": "stdout",
          "text": [
            "[[  8.4   70.56]\n",
            " [ 13.7  187.69]\n",
            " [ 15.   225.  ]\n",
            " [ 16.2  262.44]\n",
            " [ 17.4  302.76]]\n",
            "기울기 : [-22.4189282    1.02094922] 절편 : 131.6453196989612\n"
          ]
        }
      ]
    },
    {
      "cell_type": "code",
      "source": [
        "import numpy as np\n",
        "perch_length_poly = np.column_stack( [perch_length, perch_length**2])\n",
        "# 데이터 확인\n",
        "print(perch_length_poly[:5])\n",
        "# 학습\n",
        "lr = LinearRegression()\n",
        "lr.fit(perch_length_poly, perch_weight)\n",
        "print(f'기울기 : {lr.coef_} 절편 : {lr.intercept_}')\n",
        "plt.scatter(perch_length, perch_weight)\n",
        "plt.plot(perch_length, lr.predict(perch_length_poly))\n",
        "plt.plot(50,lr.predict([[  50 ,  2500]]),marker='^')\n",
        "plt.plot(5,lr.predict([[  5 ,  25]]),marker='^')\n",
        "plt.xlabel('length')\n",
        "plt.ylabel('weight')\n",
        "plt.show()"
      ],
      "metadata": {
        "colab": {
          "base_uri": "https://localhost:8080/",
          "height": 558
        },
        "id": "6UMSeparCsaB",
        "outputId": "a3a96583-9a16-480d-d250-fc10c2dbff49"
      },
      "execution_count": null,
      "outputs": [
        {
          "output_type": "stream",
          "name": "stdout",
          "text": [
            "[[  8.4   70.56]\n",
            " [ 13.7  187.69]\n",
            " [ 15.   225.  ]\n",
            " [ 16.2  262.44]\n",
            " [ 17.4  302.76]]\n",
            "기울기 : [-22.4189282    1.02094922] 절편 : 131.6453196989612\n"
          ]
        },
        {
          "output_type": "display_data",
          "data": {
            "text/plain": [
              "<Figure size 640x480 with 1 Axes>"
            ],
            "image/png": "[encoded data removed]"
          },
          "metadata": {}
        }
      ]
    },
    {
      "cell_type": "markdown",
      "source": [
        "# 다항 특성을 가지는 데이터를 비선형으로 만들기"
      ],
      "metadata": {
        "id": "KQGsZIkrRfCQ"
      }
    },
    {
      "cell_type": "markdown",
      "source": [
        "손실함수 MSE\n",
        "$$J(w_0, w_1) = \\frac{1}{n} \\sum_{i=1}^{n} (y_i - ( w_0x_i + w_1))^2$$\n",
        "릿지 - L2규제\n",
        "$$J(w) = \\frac{1}{n} \\sum_{i=1}^{n} (y_i - w_0 - \\sum_{j=1}^{p} w_j x_{ij})^2 + \\lambda \\sum_{j=1}^{p} w_j^2$$\n",
        "라쏘 - L1규제\n",
        "$$J(w) = \\frac{1}{n} \\sum_{i=1}^{n} (y_i - w_0 - \\sum_{j=1}^{p} w_j x_{ij})^2 + \\lambda \\sum_{j=1}^{p} |w_j|$$\n",
        "\n",
        "```\n",
        "        릿지  vs                      라쏘\n",
        "        L2                            L1\n",
        "가중치  작게(0은아님)                 일부가중치를 0으로\n",
        "특징    다중공선성,모델복잡도 감소    중요변수만 선택,차원축소\n",
        "언제     다중공선성이 있는경우        중요변수만 남기\n",
        "공통점                 과적합 방지\n",
        "```"
      ],
      "metadata": {
        "id": "oZcGRoTsNJmd"
      }
    },
    {
      "cell_type": "code",
      "source": [
        "import pandas as pd\n",
        "df = pd.read_csv('https://bit.ly/perch_csv')\n",
        "perch_full = df.to_numpy()"
      ],
      "metadata": {
        "id": "EkAXt5u2Cs0H"
      },
      "execution_count": null,
      "outputs": []
    },
    {
      "cell_type": "code",
      "source": [
        "print(f'original shape : {perch_full.shape}')\n",
        "from sklearn.preprocessing import PolynomialFeatures\n",
        "poly = PolynomialFeatures(include_bias=False)\n",
        "perch_poly = poly.fit_transform(perch_full)\n",
        "print(f'poly shape : {perch_poly.shape}')\n",
        "poly.get_feature_names_out()"
      ],
      "metadata": {
        "colab": {
          "base_uri": "https://localhost:8080/"
        },
        "id": "LuPp72YxH9G1",
        "outputId": "f1e57923-a3f0-4d4e-bfd1-cbabb734aeb3"
      },
      "execution_count": null,
      "outputs": [
        {
          "output_type": "stream",
          "name": "stdout",
          "text": [
            "original shape : (56, 3)\n",
            "poly shape : (56, 9)\n"
          ]
        },
        {
          "output_type": "execute_result",
          "data": {
            "text/plain": [
              "array(['x0', 'x1', 'x2', 'x0^2', 'x0 x1', 'x0 x2', 'x1^2', 'x1 x2',\n",
              "       'x2^2'], dtype=object)"
            ]
          },
          "metadata": {},
          "execution_count": 33
        }
      ]
    },
    {
      "cell_type": "code",
      "source": [
        "from sklearn.model_selection import train_test_split\n",
        "from sklearn.preprocessing import StandardScaler\n",
        "from sklearn.linear_model import Ridge,Lasso, LinearRegression\n",
        "\n",
        "def get_score(degree = 2,model_name = 'lr'):\n",
        "  poly = PolynomialFeatures(include_bias=False,degree=degree)\n",
        "  perch_poly = poly.fit_transform(perch_full)\n",
        "  train_input, test_input, train_target, test_target = train_test_split(perch_poly, perch_weight, random_state=42)\n",
        "\n",
        "  ss = StandardScaler()\n",
        "  train_scaled = ss.fit_transform(train_input)\n",
        "  test_scaled = ss.transform(test_input)\n",
        "\n",
        "  # 모델정의\n",
        "  if model_name == 'lr':\n",
        "    lr_d2 = LinearRegression()\n",
        "  elif model_name == 'ridge':\n",
        "    lr_d2 = Ridge()\n",
        "  elif model_name == 'lasso':\n",
        "    lr_d2 = Lasso()\n",
        "  # 모델학습\n",
        "  lr_d2.fit(train_scaled, train_target)\n",
        "  print(f'lr : train: {lr_d2.score(train_scaled, train_target)} test: {lr_d2.score(test_scaled, test_target)}')"
      ],
      "metadata": {
        "id": "rbkbguVORz8l"
      },
      "execution_count": null,
      "outputs": []
    },
    {
      "cell_type": "code",
      "source": [
        "for i in range(1,6):\n",
        "  print(f'degree : {i}',end='\\t')\n",
        "  get_score(i)"
      ],
      "metadata": {
        "colab": {
          "base_uri": "https://localhost:8080/"
        },
        "id": "vRw7hx8bTV_g",
        "outputId": "f8de333a-6249-47d1-d116-ac73fcebcded"
      },
      "execution_count": null,
      "outputs": [
        {
          "output_type": "stream",
          "name": "stdout",
          "text": [
            "degree : 1\tlr : train: 0.9559326821885706 test: 0.8796419177546367\n",
            "degree : 2\tlr : train: 0.9903183436982124 test: 0.9714559911594131\n",
            "degree : 3\tlr : train: 0.9963872340980034 test: 0.9410534492218112\n",
            "degree : 4\tlr : train: 0.999528689807305 test: -6.786696959975059\n",
            "degree : 5\tlr : train: 1.0 test: -358.85068551974916\n"
          ]
        }
      ]
    },
    {
      "cell_type": "code",
      "source": [
        "get_score(5,'ridge')\n",
        "get_score(5,'lasso')"
      ],
      "metadata": {
        "colab": {
          "base_uri": "https://localhost:8080/"
        },
        "id": "aWeyP2OxVlnG",
        "outputId": "7703dfa9-554c-4342-c2e6-ccb3709172ca"
      },
      "execution_count": null,
      "outputs": [
        {
          "output_type": "stream",
          "name": "stdout",
          "text": [
            "lr : train: 0.9896101671037343 test: 0.9790693977615387\n",
            "lr : train: 0.989789897208096 test: 0.9800593698421883\n"
          ]
        }
      ]
    },
    {
      "cell_type": "markdown",
      "source": [
        "# 리지와 라쏘의 하이퍼 파라메터 튜닝\n",
        "```\n",
        "적절한 규제 강도 찾기\n",
        "```"
      ],
      "metadata": {
        "id": "cMm4ZIzGcEgk"
      }
    },
    {
      "cell_type": "code",
      "source": [
        "from sklearn.model_selection import train_test_split\n",
        "from sklearn.preprocessing import StandardScaler, PolynomialFeatures\n",
        "from sklearn.linear_model import Ridge,Lasso\n",
        "import pandas as pd\n",
        "# 데이터 취득\n",
        "df = pd.read_csv('https://bit.ly/perch_csv_data')\n",
        "perch_full = df.to_numpy()\n",
        "\n",
        "# 데이터를 비선형\n",
        "poly = PolynomialFeatures(include_bias=False,degree=5)\n",
        "perch_poly = poly.fit_transform(perch_full)\n",
        "\n",
        "# 데이터를 표준화\n",
        "ss = StandardScaler()\n",
        "perch_full = ss.fit_transform(perch_poly)\n",
        "\n",
        "# 분할\n",
        "train_input, test_input, train_target, test_target = train_test_split(perch_full, perch_weight, random_state=42)\n",
        "\n",
        "alpha_lists = [0.001,0.01,0.1,1.0,10,100]\n",
        "ridge_train_scores = []\n",
        "ridge_test_scores = []\n",
        "lasso_train_scores = []\n",
        "lasso_test_scores = []\n",
        "for alpha in alpha_lists:\n",
        "  # ridge 모델 정의\n",
        "  ridge = Ridge(alpha=alpha)\n",
        "  ridge.fit(train_input, train_target)\n",
        "  ridge_train_scores.append(ridge.score(train_input, train_target))\n",
        "  ridge_test_scores.append(ridge.score(test_input, test_target))\n",
        "\n",
        "  # lasso 모델 정의\n",
        "  lasso = Lasso(alpha=alpha)\n",
        "  lasso.fit(train_input, train_target)\n",
        "  lasso_train_scores.append(lasso.score(train_input, train_target))\n",
        "  lasso_test_scores.append(lasso.score(test_input, test_target))\n",
        "  # 규제강도별 모델에적용해서 결정계수 값  score 을  리스트에 담기"
      ],
      "metadata": {
        "id": "FYXXwin4XBnU",
        "colab": {
          "base_uri": "https://localhost:8080/"
        },
        "outputId": "0b2b32fc-2420-46ca-d641-70b965be4a58"
      },
      "execution_count": 72,
      "outputs": [
        {
          "output_type": "stream",
          "name": "stderr",
          "text": [
            "/usr/local/lib/python3.11/dist-packages/sklearn/linear_model/_coordinate_descent.py:695: ConvergenceWarning: Objective did not converge. You might want to increase the number of iterations, check the scale of the features or consider increasing regularisation. Duality gap: 2.337e+04, tolerance: 5.183e+02\n",
            "  model = cd_fast.enet_coordinate_descent(\n",
            "/usr/local/lib/python3.11/dist-packages/sklearn/linear_model/_coordinate_descent.py:695: ConvergenceWarning: Objective did not converge. You might want to increase the number of iterations, check the scale of the features or consider increasing regularisation. Duality gap: 2.036e+04, tolerance: 5.183e+02\n",
            "  model = cd_fast.enet_coordinate_descent(\n",
            "/usr/local/lib/python3.11/dist-packages/sklearn/linear_model/_coordinate_descent.py:695: ConvergenceWarning: Objective did not converge. You might want to increase the number of iterations, check the scale of the features or consider increasing regularisation. Duality gap: 1.083e+03, tolerance: 5.183e+02\n",
            "  model = cd_fast.enet_coordinate_descent(\n",
            "/usr/local/lib/python3.11/dist-packages/sklearn/linear_model/_coordinate_descent.py:695: ConvergenceWarning: Objective did not converge. You might want to increase the number of iterations, check the scale of the features or consider increasing regularisation. Duality gap: 5.260e+02, tolerance: 5.183e+02\n",
            "  model = cd_fast.enet_coordinate_descent(\n"
          ]
        }
      ]
    },
    {
      "cell_type": "code",
      "source": [
        "import matplotlib.pyplot as plt\n",
        "plt.figure(figsize=(6,3))\n",
        "plt.subplot(1,2,1)\n",
        "plt.plot(np.log10(alpha_lists),ridge_train_scores,label='train')\n",
        "plt.plot(np.log10(alpha_lists),ridge_test_scores,label='test')\n",
        "------99999999999999999999999999999999999999999999999999999999999999999999999999999999\n",
        "plt.subplot(1,2,2)\n",
        "plt.plot(np.log10(alpha_lists),lasso_train_scores,label='train')\n",
        "plt.plot(np.log10(alpha_lists),lasso_test_scores,label='test')\n",
        "\n",
        "plt.legend()\n",
        "plt.xlabel('alpha')\n",
        "plt.ylabel('score')\n",
        "plt.show()"
      ],
      "metadata": {
        "colab": {
          "base_uri": "https://localhost:8080/",
          "height": 311
        },
        "id": "ZTm583PPeVoB",
        "outputId": "b2c20be5-49e9-4f8b-98d3-000686480fa1"
      },
      "execution_count": 74,
      "outputs": [
        {
          "output_type": "display_data",
          "data": {
            "text/plain": [
              "<Figure size 600x300 with 2 Axes>"
            ],
            "image/png": "[encoded data removed]"
          },
          "metadata": {}
        }
      ]
    },
    {
      "cell_type": "code",
      "source": [
        "print(ridge_test_scores)\n",
        "print(lasso_test_scores)"
      ],
      "metadata": {
        "id": "BBuSOLoQclch",
        "colab": {
          "base_uri": "https://localhost:8080/"
        },
        "outputId": "db057821-8a6d-4099-cf77-a30523c79954"
      },
      "execution_count": 70,
      "outputs": [
        {
          "output_type": "stream",
          "name": "stdout",
          "text": [
            "[0.9569149386027914, 0.9799601201196285, 0.9827696359682672, 0.9791124746385776, 0.9727459642993214, 0.963228784085066]\n",
            "[0.9836873186092867, 0.983677053873293, 0.9818219041153448, 0.9802826595078667, 0.982595350988852, 0.8794922756594648]\n"
          ]
        }
      ]
    },
    {
      "cell_type": "markdown",
      "source": [
        "# 실전 테스트\n",
        "# 데이터\n",
        "```\n",
        "회귀모델에 대해서는\n",
        "  다중공선성 문제... 상관관계가 높은 변수들은 모델의 학습력을 떨어뜨림.. 학습을 위해서 한개는 제거\n",
        "  학습데이터가 왜 독립변수라고 부르는지 생각해 볼것\n",
        "특성공학\n",
        "  다양한 특성의 데이터를 찾기\n",
        "  날자데이터 - 년 월 일 시간, 주말여부\n",
        "  연속형 숫자데이터 - > 구간을 나눠서 범주형으로\n",
        "표준화\n",
        "  StandardScaler  평균 0 ,표준편차 1\n",
        "이상치\n",
        "  IQR\n",
        "결측치\n",
        "  다양한 보간방법\n",
        "클래스 불균형\n",
        "  orversampling\n",
        "    SMOTE, RandomOverSampler\n",
        "  downsampling\n",
        "    RandomUnderSampler\n",
        "```\n",
        "\n",
        "# 모델\n",
        "```\n",
        "분류\n",
        "  KNeighborsClassifier\n",
        "회귀\n",
        "  KNeighborsRegression\n",
        "  LinearRegression, Ridge, Lasso  \n",
        "```\n"
      ],
      "metadata": {
        "id": "1_6zh3kr3Ykh"
      }
    },
    {
      "cell_type": "code",
      "source": [
        "# MedInc: 중간 소득.\n",
        "# HouseAge: 주택의 중간 연령.\n",
        "# AveRooms: 가구당 평균 방 개수.\n",
        "# AveBedrms: 가구당 평균 침실 개수.\n",
        "# Population: 지역 내 총 인구 수.\n",
        "# AveOccup: 가구당 평균 거주 인원.\n",
        "# Latitude, Longitude: 지역의 위도와 경도.\n",
        "from sklearn.datasets import fetch_california_housing\n",
        "house = fetch_california_housing()\n",
        "print(house.keys())\n",
        "house_df = pd.DataFrame(house.data,columns=house.feature_names)\n",
        "house_df.head()\n",
        "house_df['price'] = house.get('target')"
      ],
      "metadata": {
        "colab": {
          "base_uri": "https://localhost:8080/"
        },
        "id": "dJ4Rhm9E3ZLn",
        "outputId": "56c316be-1415-4131-9a37-c6d847f0d8c2"
      },
      "execution_count": 259,
      "outputs": [
        {
          "output_type": "stream",
          "name": "stdout",
          "text": [
            "dict_keys(['data', 'target', 'frame', 'target_names', 'feature_names', 'DESCR'])\n"
          ]
        }
      ]
    },
    {
      "cell_type": "code",
      "source": [
        "house_df.info()"
      ],
      "metadata": {
        "colab": {
          "base_uri": "https://localhost:8080/"
        },
        "id": "DH3Suv0c5RtM",
        "outputId": "b0972628-b9a3-4c63-fba2-5fa6939f0e9e"
      },
      "execution_count": 209,
      "outputs": [
        {
          "output_type": "stream",
          "name": "stdout",
          "text": [
            "<class 'pandas.core.frame.DataFrame'>\n",
            "RangeIndex: 20640 entries, 0 to 20639\n",
            "Data columns (total 9 columns):\n",
            " #   Column      Non-Null Count  Dtype  \n",
            "---  ------      --------------  -----  \n",
            " 0   MedInc      20640 non-null  float64\n",
            " 1   HouseAge    20640 non-null  float64\n",
            " 2   AveRooms    20640 non-null  float64\n",
            " 3   AveBedrms   20640 non-null  float64\n",
            " 4   Population  20640 non-null  float64\n",
            " 5   AveOccup    20640 non-null  float64\n",
            " 6   Latitude    20640 non-null  float64\n",
            " 7   Longitude   20640 non-null  float64\n",
            " 8   price       20640 non-null  float64\n",
            "dtypes: float64(9)\n",
            "memory usage: 1.4 MB\n"
          ]
        }
      ]
    },
    {
      "cell_type": "code",
      "source": [
        "corr = house_df.corr()\n",
        "sns.heatmap(corr,annot=True,cmap='RdYlGn')\n",
        "plt.show()"
      ],
      "metadata": {
        "colab": {
          "base_uri": "https://localhost:8080/",
          "height": 500
        },
        "id": "kw6HPVAsEx5W",
        "outputId": "df04e37e-e8c1-446c-94a1-2e9fa92213f1"
      },
      "execution_count": 210,
      "outputs": [
        {
          "output_type": "display_data",
          "data": {
            "text/plain": [
              "<Figure size 640x480 with 2 Axes>"
            ],
            "image/png": "[encoded data removed]"
          },
          "metadata": {}
        }
      ]
    },
    {
      "cell_type": "code",
      "source": [
        "house_df.describe()"
      ],
      "metadata": {
        "colab": {
          "base_uri": "https://localhost:8080/",
          "height": 300
        },
        "id": "vKn-bAqb5oes",
        "outputId": "17f3d87f-2264-4a90-ff09-ae25ed843963"
      },
      "execution_count": 211,
      "outputs": [
        {
          "output_type": "execute_result",
          "data": {
            "text/plain": [
              "             MedInc      HouseAge      AveRooms  ...      Latitude     Longitude         price\n",
              "count  20640.000000  20640.000000  20640.000000  ...  20640.000000  20640.000000  20640.000000\n",
              "mean       3.870671     28.639486      5.429000  ...     35.631861   -119.569704      2.068558\n",
              "std        1.899822     12.585558      2.474173  ...      2.135952      2.003532      1.153956\n",
              "min        0.499900      1.000000      0.846154  ...     32.540000   -124.350000      0.149990\n",
              "25%        2.563400     18.000000      4.440716  ...     33.930000   -121.800000      1.196000\n",
              "50%        3.534800     29.000000      5.229129  ...     34.260000   -118.490000      1.797000\n",
              "75%        4.743250     37.000000      6.052381  ...     37.710000   -118.010000      2.647250\n",
              "max       15.000100     52.000000    141.909091  ...     41.950000   -114.310000      5.000010\n",
              "\n",
              "[8 rows x 9 columns]"
            ],
            "text/html": [
              "\n",
              "  <div id=\"df-b804b387-b2fa-4d8d-8e99-e9b0c531ab2e\" class=\"colab-df-container\">\n",
              "    <div>\n",
              "<style scoped>\n",
              "    .dataframe tbody tr th:only-of-type {\n",
              "        vertical-align: middle;\n",
              "    }\n",
              "\n",
              "    .dataframe tbody tr th {\n",
              "        vertical-align: top;\n",
              "    }\n",
              "\n",
              "    .dataframe thead th {\n",
              "        text-align: right;\n",
              "    }\n",
              "</style>\n",
              "<table border=\"1\" class=\"dataframe\">\n",
              "  <thead>\n",
              "    <tr style=\"text-align: right;\">\n",
              "      <th></th>\n",
              "      <th>MedInc</th>\n",
              "      <th>HouseAge</th>\n",
              "      <th>AveRooms</th>\n",
              "      <th>AveBedrms</th>\n",
              "      <th>Population</th>\n",
              "      <th>AveOccup</th>\n",
              "      <th>Latitude</th>\n",
              "      <th>Longitude</th>\n",
              "      <th>price</th>\n",
              "    </tr>\n",
              "  </thead>\n",
              "  <tbody>\n",
              "    <tr>\n",
              "      <th>count</th>\n",
              "      <td>20640.000000</td>\n",
              "      <td>20640.000000</td>\n",
              "      <td>20640.000000</td>\n",
              "      <td>20640.000000</td>\n",
              "      <td>20640.000000</td>\n",
              "      <td>20640.000000</td>\n",
              "      <td>20640.000000</td>\n",
              "      <td>20640.000000</td>\n",
              "      <td>20640.000000</td>\n",
              "    </tr>\n",
              "    <tr>\n",
              "      <th>mean</th>\n",
              "      <td>3.870671</td>\n",
              "      <td>28.639486</td>\n",
              "      <td>5.429000</td>\n",
              "      <td>1.096675</td>\n",
              "      <td>1425.476744</td>\n",
              "      <td>3.070655</td>\n",
              "      <td>35.631861</td>\n",
              "      <td>-119.569704</td>\n",
              "      <td>2.068558</td>\n",
              "    </tr>\n",
              "    <tr>\n",
              "      <th>std</th>\n",
              "      <td>1.899822</td>\n",
              "      <td>12.585558</td>\n",
              "      <td>2.474173</td>\n",
              "      <td>0.473911</td>\n",
              "      <td>1132.462122</td>\n",
              "      <td>10.386050</td>\n",
              "      <td>2.135952</td>\n",
              "      <td>2.003532</td>\n",
              "      <td>1.153956</td>\n",
              "    </tr>\n",
              "    <tr>\n",
              "      <th>min</th>\n",
              "      <td>0.499900</td>\n",
              "      <td>1.000000</td>\n",
              "      <td>0.846154</td>\n",
              "      <td>0.333333</td>\n",
              "      <td>3.000000</td>\n",
              "      <td>0.692308</td>\n",
              "      <td>32.540000</td>\n",
              "      <td>-124.350000</td>\n",
              "      <td>0.149990</td>\n",
              "    </tr>\n",
              "    <tr>\n",
              "      <th>25%</th>\n",
              "      <td>2.563400</td>\n",
              "      <td>18.000000</td>\n",
              "      <td>4.440716</td>\n",
              "      <td>1.006079</td>\n",
              "      <td>787.000000</td>\n",
              "      <td>2.429741</td>\n",
              "      <td>33.930000</td>\n",
              "      <td>-121.800000</td>\n",
              "      <td>1.196000</td>\n",
              "    </tr>\n",
              "    <tr>\n",
              "      <th>50%</th>\n",
              "      <td>3.534800</td>\n",
              "      <td>29.000000</td>\n",
              "      <td>5.229129</td>\n",
              "      <td>1.048780</td>\n",
              "      <td>1166.000000</td>\n",
              "      <td>2.818116</td>\n",
              "      <td>34.260000</td>\n",
              "      <td>-118.490000</td>\n",
              "      <td>1.797000</td>\n",
              "    </tr>\n",
              "    <tr>\n",
              "      <th>75%</th>\n",
              "      <td>4.743250</td>\n",
              "      <td>37.000000</td>\n",
              "      <td>6.052381</td>\n",
              "      <td>1.099526</td>\n",
              "      <td>1725.000000</td>\n",
              "      <td>3.282261</td>\n",
              "      <td>37.710000</td>\n",
              "      <td>-118.010000</td>\n",
              "      <td>2.647250</td>\n",
              "    </tr>\n",
              "    <tr>\n",
              "      <th>max</th>\n",
              "      <td>15.000100</td>\n",
              "      <td>52.000000</td>\n",
              "      <td>141.909091</td>\n",
              "      <td>34.066667</td>\n",
              "      <td>35682.000000</td>\n",
              "      <td>1243.333333</td>\n",
              "      <td>41.950000</td>\n",
              "      <td>-114.310000</td>\n",
              "      <td>5.000010</td>\n",
              "    </tr>\n",
              "  </tbody>\n",
              "</table>\n",
              "</div>\n",
              "    <div class=\"colab-df-buttons\">\n",
              "\n",
              "  <div class=\"colab-df-container\">\n",
              "    <button class=\"colab-df-convert\" onclick=\"convertToInteractive('df-b804b387-b2fa-4d8d-8e99-e9b0c531ab2e')\"\n",
              "            title=\"Convert this dataframe to an interactive table.\"\n",
              "            style=\"display:none;\">\n",
              "\n",
              "  <svg xmlns=\"http://www.w3.org/2000/svg\" height=\"24px\" viewBox=\"0 -960 960 960\">\n",
              "    <path d=\"M120-120v-720h720v720H120Zm60-500h600v-160H180v160Zm220 220h160v-160H400v160Zm0 220h160v-160H400v160ZM180-400h160v-160H180v160Zm440 0h160v-160H620v160ZM180-180h160v-160H180v160Zm440 0h160v-160H620v160Z\"/>\n",
              "  </svg>\n",
              "    </button>\n",
              "\n",
              "  <style>\n",
              "    .colab-df-container {\n",
              "      display:flex;\n",
              "      gap: 12px;\n",
              "    }\n",
              "\n",
              "    .colab-df-convert {\n",
              "      background-color: #E8F0FE;\n",
              "      border: none;\n",
              "      border-radius: 50%;\n",
              "      cursor: pointer;\n",
              "      display: none;\n",
              "      fill: #1967D2;\n",
              "      height: 32px;\n",
              "      padding: 0 0 0 0;\n",
              "      width: 32px;\n",
              "    }\n",
              "\n",
              "    .colab-df-convert:hover {\n",
              "      background-color: #E2EBFA;\n",
              "      box-shadow: 0px 1px 2px rgba(60, 64, 67, 0.3), 0px 1px 3px 1px rgba(60, 64, 67, 0.15);\n",
              "      fill: #174EA6;\n",
              "    }\n",
              "\n",
              "    .colab-df-buttons div {\n",
              "      margin-bottom: 4px;\n",
              "    }\n",
              "\n",
              "    [theme=dark] .colab-df-convert {\n",
              "      background-color: #3B4455;\n",
              "      fill: #D2E3FC;\n",
              "    }\n",
              "\n",
              "    [theme=dark] .colab-df-convert:hover {\n",
              "      background-color: #434B5C;\n",
              "      box-shadow: 0px 1px 3px 1px rgba(0, 0, 0, 0.15);\n",
              "      filter: drop-shadow(0px 1px 2px rgba(0, 0, 0, 0.3));\n",
              "      fill: #FFFFFF;\n",
              "    }\n",
              "  </style>\n",
              "\n",
              "    <script>\n",
              "      const buttonEl =\n",
              "        document.querySelector('#df-b804b387-b2fa-4d8d-8e99-e9b0c531ab2e button.colab-df-convert');\n",
              "      buttonEl.style.display =\n",
              "        google.colab.kernel.accessAllowed ? 'block' : 'none';\n",
              "\n",
              "      async function convertToInteractive(key) {\n",
              "        const element = document.querySelector('#df-b804b387-b2fa-4d8d-8e99-e9b0c531ab2e');\n",
              "        const dataTable =\n",
              "          await google.colab.kernel.invokeFunction('convertToInteractive',\n",
              "                                                    [key], {});\n",
              "        if (!dataTable) return;\n",
              "\n",
              "        const docLinkHtml = 'Like what you see? Visit the ' +\n",
              "          '<a target=\"_blank\" href=https://colab.research.google.com/notebooks/data_table.ipynb>data table notebook</a>'\n",
              "          + ' to learn more about interactive tables.';\n",
              "        element.innerHTML = '';\n",
              "        dataTable['output_type'] = 'display_data';\n",
              "        await google.colab.output.renderOutput(dataTable, element);\n",
              "        const docLink = document.createElement('div');\n",
              "        docLink.innerHTML = docLinkHtml;\n",
              "        element.appendChild(docLink);\n",
              "      }\n",
              "    </script>\n",
              "  </div>\n",
              "\n",
              "\n",
              "<div id=\"df-dd9e002e-ddd3-4be7-b0ad-9470d68f4345\">\n",
              "  <button class=\"colab-df-quickchart\" onclick=\"quickchart('df-dd9e002e-ddd3-4be7-b0ad-9470d68f4345')\"\n",
              "            title=\"Suggest charts\"\n",
              "            style=\"display:none;\">\n",
              "\n",
              "<svg xmlns=\"http://www.w3.org/2000/svg\" height=\"24px\"viewBox=\"0 0 24 24\"\n",
              "     width=\"24px\">\n",
              "    <g>\n",
              "        <path d=\"M19 3H5c-1.1 0-2 .9-2 2v14c0 1.1.9 2 2 2h14c1.1 0 2-.9 2-2V5c0-1.1-.9-2-2-2zM9 17H7v-7h2v7zm4 0h-2V7h2v10zm4 0h-2v-4h2v4z\"/>\n",
              "    </g>\n",
              "</svg>\n",
              "  </button>\n",
              "\n",
              "<style>\n",
              "  .colab-df-quickchart {\n",
              "      --bg-color: #E8F0FE;\n",
              "      --fill-color: #1967D2;\n",
              "      --hover-bg-color: #E2EBFA;\n",
              "      --hover-fill-color: #174EA6;\n",
              "      --disabled-fill-color: #AAA;\n",
              "      --disabled-bg-color: #DDD;\n",
              "  }\n",
              "\n",
              "  [theme=dark] .colab-df-quickchart {\n",
              "      --bg-color: #3B4455;\n",
              "      --fill-color: #D2E3FC;\n",
              "      --hover-bg-color: #434B5C;\n",
              "      --hover-fill-color: #FFFFFF;\n",
              "      --disabled-bg-color: #3B4455;\n",
              "      --disabled-fill-color: #666;\n",
              "  }\n",
              "\n",
              "  .colab-df-quickchart {\n",
              "    background-color: var(--bg-color);\n",
              "    border: none;\n",
              "    border-radius: 50%;\n",
              "    cursor: pointer;\n",
              "    display: none;\n",
              "    fill: var(--fill-color);\n",
              "    height: 32px;\n",
              "    padding: 0;\n",
              "    width: 32px;\n",
              "  }\n",
              "\n",
              "  .colab-df-quickchart:hover {\n",
              "    background-color: var(--hover-bg-color);\n",
              "    box-shadow: 0 1px 2px rgba(60, 64, 67, 0.3), 0 1px 3px 1px rgba(60, 64, 67, 0.15);\n",
              "    fill: var(--button-hover-fill-color);\n",
              "  }\n",
              "\n",
              "  .colab-df-quickchart-complete:disabled,\n",
              "  .colab-df-quickchart-complete:disabled:hover {\n",
              "    background-color: var(--disabled-bg-color);\n",
              "    fill: var(--disabled-fill-color);\n",
              "    box-shadow: none;\n",
              "  }\n",
              "\n",
              "  .colab-df-spinner {\n",
              "    border: 2px solid var(--fill-color);\n",
              "    border-color: transparent;\n",
              "    border-bottom-color: var(--fill-color);\n",
              "    animation:\n",
              "      spin 1s steps(1) infinite;\n",
              "  }\n",
              "\n",
              "  @keyframes spin {\n",
              "    0% {\n",
              "      border-color: transparent;\n",
              "      border-bottom-color: var(--fill-color);\n",
              "      border-left-color: var(--fill-color);\n",
              "    }\n",
              "    20% {\n",
              "      border-color: transparent;\n",
              "      border-left-color: var(--fill-color);\n",
              "      border-top-color: var(--fill-color);\n",
              "    }\n",
              "    30% {\n",
              "      border-color: transparent;\n",
              "      border-left-color: var(--fill-color);\n",
              "      border-top-color: var(--fill-color);\n",
              "      border-right-color: var(--fill-color);\n",
              "    }\n",
              "    40% {\n",
              "      border-color: transparent;\n",
              "      border-right-color: var(--fill-color);\n",
              "      border-top-color: var(--fill-color);\n",
              "    }\n",
              "    60% {\n",
              "      border-color: transparent;\n",
              "      border-right-color: var(--fill-color);\n",
              "    }\n",
              "    80% {\n",
              "      border-color: transparent;\n",
              "      border-right-color: var(--fill-color);\n",
              "      border-bottom-color: var(--fill-color);\n",
              "    }\n",
              "    90% {\n",
              "      border-color: transparent;\n",
              "      border-bottom-color: var(--fill-color);\n",
              "    }\n",
              "  }\n",
              "</style>\n",
              "\n",
              "  <script>\n",
              "    async function quickchart(key) {\n",
              "      const quickchartButtonEl =\n",
              "        document.querySelector('#' + key + ' button');\n",
              "      quickchartButtonEl.disabled = true;  // To prevent multiple clicks.\n",
              "      quickchartButtonEl.classList.add('colab-df-spinner');\n",
              "      try {\n",
              "        const charts = await google.colab.kernel.invokeFunction(\n",
              "            'suggestCharts', [key], {});\n",
              "      } catch (error) {\n",
              "        console.error('Error during call to suggestCharts:', error);\n",
              "      }\n",
              "      quickchartButtonEl.classList.remove('colab-df-spinner');\n",
              "      quickchartButtonEl.classList.add('colab-df-quickchart-complete');\n",
              "    }\n",
              "    (() => {\n",
              "      let quickchartButtonEl =\n",
              "        document.querySelector('#df-dd9e002e-ddd3-4be7-b0ad-9470d68f4345 button');\n",
              "      quickchartButtonEl.style.display =\n",
              "        google.colab.kernel.accessAllowed ? 'block' : 'none';\n",
              "    })();\n",
              "  </script>\n",
              "</div>\n",
              "\n",
              "    </div>\n",
              "  </div>\n"
            ],
            "application/vnd.google.colaboratory.intrinsic+json": {
              "type": "dataframe",
              "summary": "{\n  \"name\": \"house_df\",\n  \"rows\": 8,\n  \"fields\": [\n    {\n      \"column\": \"MedInc\",\n      \"properties\": {\n        \"dtype\": \"number\",\n        \"std\": 7295.721435853639,\n        \"min\": 0.4999,\n        \"max\": 20640.0,\n        \"num_unique_values\": 8,\n        \"samples\": [\n          3.8706710029069766,\n          3.5347999999999997,\n          20640.0\n        ],\n        \"semantic_type\": \"\",\n        \"description\": \"\"\n      }\n    },\n    {\n      \"column\": \"HouseAge\",\n      \"properties\": {\n        \"dtype\": \"number\",\n        \"std\": 7288.35672120143,\n        \"min\": 1.0,\n        \"max\": 20640.0,\n        \"num_unique_values\": 8,\n        \"samples\": [\n          28.639486434108527,\n          29.0,\n          20640.0\n        ],\n        \"semantic_type\": \"\",\n        \"description\": \"\"\n      }\n    },\n    {\n      \"column\": \"AveRooms\",\n      \"properties\": {\n        \"dtype\": \"number\",\n        \"std\": 7289.098256602404,\n        \"min\": 0.8461538461538461,\n        \"max\": 20640.0,\n        \"num_unique_values\": 8,\n        \"samples\": [\n          5.428999742190376,\n          5.229128787878788,\n          20640.0\n        ],\n        \"semantic_type\": \"\",\n        \"description\": \"\"\n      }\n    },\n    {\n      \"column\": \"AveBedrms\",\n      \"properties\": {\n        \"dtype\": \"number\",\n        \"std\": 7295.375141615938,\n        \"min\": 0.3333333333333333,\n        \"max\": 20640.0,\n        \"num_unique_values\": 8,\n        \"samples\": [\n          1.096675149606208,\n          1.048780487804878,\n          20640.0\n        ],\n        \"semantic_type\": \"\",\n        \"description\": \"\"\n      }\n    },\n    {\n      \"column\": \"Population\",\n      \"properties\": {\n        \"dtype\": \"number\",\n        \"std\": 13192.258841737372,\n        \"min\": 3.0,\n        \"max\": 35682.0,\n        \"num_unique_values\": 8,\n        \"samples\": [\n          1425.4767441860465,\n          1166.0,\n          20640.0\n        ],\n        \"semantic_type\": \"\",\n        \"description\": \"\"\n      }\n    },\n    {\n      \"column\": \"AveOccup\",\n      \"properties\": {\n        \"dtype\": \"number\",\n        \"std\": 7246.392673190068,\n        \"min\": 0.6923076923076923,\n        \"max\": 20640.0,\n        \"num_unique_values\": 8,\n        \"samples\": [\n          3.0706551594363742,\n          2.818115654360196,\n          20640.0\n        ],\n        \"semantic_type\": \"\",\n        \"description\": \"\"\n      }\n    },\n    {\n      \"column\": \"Latitude\",\n      \"properties\": {\n        \"dtype\": \"number\",\n        \"std\": 7286.333552413666,\n        \"min\": 2.1359523974571117,\n        \"max\": 20640.0,\n        \"num_unique_values\": 8,\n        \"samples\": [\n          35.63186143410853,\n          34.26,\n          20640.0\n        ],\n        \"semantic_type\": \"\",\n        \"description\": \"\"\n      }\n    },\n    {\n      \"column\": \"Longitude\",\n      \"properties\": {\n        \"dtype\": \"number\",\n        \"std\": 7333.554670164394,\n        \"min\": -124.35,\n        \"max\": 20640.0,\n        \"num_unique_values\": 8,\n        \"samples\": [\n          -119.56970445736432,\n          -118.49,\n          20640.0\n        ],\n        \"semantic_type\": \"\",\n        \"description\": \"\"\n      }\n    },\n    {\n      \"column\": \"price\",\n      \"properties\": {\n        \"dtype\": \"number\",\n        \"std\": 7296.634369861169,\n        \"min\": 0.14999,\n        \"max\": 20640.0,\n        \"num_unique_values\": 8,\n        \"samples\": [\n          2.068558169089147,\n          1.797,\n          20640.0\n        ],\n        \"semantic_type\": \"\",\n        \"description\": \"\"\n      }\n    }\n  ]\n}"
            }
          },
          "metadata": {},
          "execution_count": 211
        }
      ]
    },
    {
      "cell_type": "code",
      "source": [
        "plt.scatter(house_df['MedInc'],house_df['price'])"
      ],
      "metadata": {
        "colab": {
          "base_uri": "https://localhost:8080/",
          "height": 448
        },
        "id": "7HEmeZmMIuxW",
        "outputId": "8cb019f0-c9fb-4418-febc-d58d8e591f66"
      },
      "execution_count": 212,
      "outputs": [
        {
          "output_type": "execute_result",
          "data": {
            "text/plain": [
              "<matplotlib.collections.PathCollection at 0x7a05d2d953d0>"
            ]
          },
          "metadata": {},
          "execution_count": 212
        },
        {
          "output_type": "display_data",
          "data": {
            "text/plain": [
              "<Figure size 640x480 with 1 Axes>"
            ],
            "image/png": "[encoded data removed]"
          },
          "metadata": {}
        }
      ]
    },
    {
      "cell_type": "code",
      "source": [
        "sns.boxplot(house_df.iloc[:,:-3])\n",
        "plt.show()"
      ],
      "metadata": {
        "colab": {
          "base_uri": "https://localhost:8080/",
          "height": 430
        },
        "id": "9eSAPb3q6vcF",
        "outputId": "6f578469-5e89-4f66-b8d7-182cec766844"
      },
      "execution_count": 213,
      "outputs": [
        {
          "output_type": "display_data",
          "data": {
            "text/plain": [
              "<Figure size 640x480 with 1 Axes>"
            ],
            "image/png": "[encoded data removed]"
          },
          "metadata": {}
        }
      ]
    },
    {
      "cell_type": "code",
      "source": [
        "from sklearn.model_selection import train_test_split\n",
        "from sklearn.neighbors import KNeighborsRegressor\n",
        "\n",
        "\n",
        "# 베이스라인모델\n",
        "X_tr, X_val, y_tr, y_val = train_test_split(house_df.iloc[:,:-1], house_df.iloc[:,-1], random_state=42)\n",
        "\n",
        "kr = KNeighborsRegressor()\n",
        "kr.fit(X_tr, y_tr)\n",
        "\n",
        "print(f'베이스라인 모델 : {kr.score(X_tr, y_tr)},  {kr.score(X_val,y_val)}')"
      ],
      "metadata": {
        "colab": {
          "base_uri": "https://localhost:8080/"
        },
        "id": "l5fjiBBb7BXa",
        "outputId": "59d6a047-0d82-4adb-9aa6-59a1cc5c6d13"
      },
      "execution_count": 214,
      "outputs": [
        {
          "output_type": "stream",
          "name": "stdout",
          "text": [
            "베이스라인 모델 : 0.44619663323537884,  0.14434206676911643\n"
          ]
        }
      ]
    },
    {
      "cell_type": "code",
      "source": [
        "from sklearn.model_selection import train_test_split\n",
        "from sklearn.preprocessing import StandardScaler, MinMaxScaler\n",
        "from sklearn.metrics import r2_score\n",
        "\n",
        "X_tr, X_val, y_tr, y_val = train_test_split(house_df.iloc[:,:-1], house_df.iloc[:,-1], random_state=42)\n",
        "\n",
        "#스케일링\n",
        "ss = StandardScaler()\n",
        "ms = MinMaxScaler()\n",
        "\n",
        "X_trs = ss.fit_transform(X_tr)\n",
        "X_vals = ss.transform(X_val)\n",
        "X_trm = ms.fit_transform(X_tr)\n",
        "X_valm = ms.transform(X_val)\n",
        "\n",
        "kr = KNeighborsRegressor()\n",
        "kr.fit(X_trs, y_tr)\n",
        "pred = kr.predict(X_vals)\n",
        "print(f'standardscaler : {r2_score(pred, y_val)}')\n",
        "\n",
        "kr = KNeighborsRegressor()\n",
        "kr.fit(X_trm, y_tr)\n",
        "pred = kr.predict(X_valm)\n",
        "print(f'minmaxscaler : {r2_score(pred, y_val)}')"
      ],
      "metadata": {
        "colab": {
          "base_uri": "https://localhost:8080/"
        },
        "id": "y6SpTaCWLFVT",
        "outputId": "db4706bb-769c-4138-a5cb-baf1cd8b98ef"
      },
      "execution_count": 261,
      "outputs": [
        {
          "output_type": "stream",
          "name": "stdout",
          "text": [
            "standardscaler : 0.5414386252492231\n",
            "minmaxscaler : 0.6008259264144165\n"
          ]
        }
      ]
    },
    {
      "cell_type": "code",
      "source": [
        "from sklearn.model_selection import train_test_split\n",
        "from sklearn.neighbors import KNeighborsRegressor\n",
        "from sklearn.preprocessing import StandardScaler, MinMaxScaler\n",
        "from sklearn.metrics import r2_score\n",
        "\n",
        "for col in ['price']:\n",
        "  Q3 = house_df[col].quantile(.75)\n",
        "  Q1 = house_df[col].quantile(.25)\n",
        "  IQR = Q3 - Q1\n",
        "  upper = Q3 + 1.35*IQR\n",
        "  lower = Q1 - 1.35*IQR\n",
        "  house_df = house_df[(house_df[col] > lower )&(house_df[col] < upper)]\n",
        "\n",
        "X_tr, X_val, y_tr, y_val = train_test_split(house_df.iloc[:,:-1], house_df.iloc[:,-1], random_state=42)\n",
        "print(X_tr.shape, X_val.shape, y_tr.shape, y_val.shape)\n",
        "\n",
        "#스케일링\n",
        "ms = MinMaxScaler()\n",
        "\n",
        "X_trm = ms.fit_transform(X_tr)\n",
        "X_valm = ms.transform(X_val)\n",
        "\n",
        "kr = KNeighborsRegressor()\n",
        "kr.fit(X_trm, y_tr)\n",
        "pred = kr.predict(X_valm)\n",
        "print(f'이상치제거 : {r2_score(pred, y_val)}')"
      ],
      "metadata": {
        "colab": {
          "base_uri": "https://localhost:8080/"
        },
        "id": "IEjQkwL6DPJ0",
        "outputId": "984b678b-7cf7-417e-b86c-ec907fe78c93"
      },
      "execution_count": 235,
      "outputs": [
        {
          "output_type": "stream",
          "name": "stdout",
          "text": [
            "(14595, 8) (4866, 8) (14595,) (4866,)\n",
            "이상치제거 : 0.5561929779444861\n"
          ]
        }
      ]
    },
    {
      "cell_type": "code",
      "source": [
        "from sklearn.model_selection import train_test_split\n",
        "from sklearn.neighbors import KNeighborsRegressor\n",
        "from sklearn.preprocessing import StandardScaler, MinMaxScaler\n",
        "from sklearn.metrics import r2_score\n",
        "\n",
        "for col in ['MedInc']:\n",
        "  Q3 = house_df[col].quantile(.75)\n",
        "  Q1 = house_df[col].quantile(.25)\n",
        "  IQR = Q3 - Q1\n",
        "  upper = Q3 + 1.5*IQR\n",
        "  lower = Q1 - 1.5*IQR\n",
        "  house_df = house_df[(house_df[col] > lower )&(house_df[col] < upper)]\n",
        "\n",
        "X_tr, X_val, y_tr, y_val = train_test_split(house_df.iloc[:,:-1], house_df.iloc[:,-1], random_state=42)\n",
        "print(X_tr.shape, X_val.shape, y_tr.shape, y_val.shape)\n",
        "\n",
        "#스케일링\n",
        "ms = MinMaxScaler()\n",
        "\n",
        "X_trm = ms.fit_transform(X_tr)\n",
        "X_valm = ms.transform(X_val)\n",
        "\n",
        "kr = KNeighborsRegressor()\n",
        "kr.fit(X_trm, y_tr)\n",
        "pred = kr.predict(X_valm)\n",
        "print(f'이상치제거 : {r2_score(pred, y_val)}')"
      ],
      "metadata": {
        "colab": {
          "base_uri": "https://localhost:8080/"
        },
        "id": "kj1dpwiqHePF",
        "outputId": "fcaeff1b-62a0-4528-a298-63b659fccf19"
      },
      "execution_count": 198,
      "outputs": [
        {
          "output_type": "stream",
          "name": "stdout",
          "text": [
            "(14846, 8) (4949, 8) (14846,) (4949,)\n",
            "이상치제거 : 0.41369828761784144\n"
          ]
        }
      ]
    },
    {
      "cell_type": "code",
      "source": [
        "from sklearn.model_selection import train_test_split\n",
        "from sklearn.linear_model import Lasso, Ridge\n",
        "from sklearn.preprocessing import StandardScaler, PolynomialFeatures\n",
        "from sklearn.metrics import r2_score\n",
        "\n",
        "X_tr, X_val, y_tr, y_val = train_test_split(house_df.iloc[:,:-1], house_df.iloc[:,-1], random_state=42)\n",
        "print(X_tr.shape, X_val.shape, y_tr.shape, y_val.shape)\n",
        "\n",
        "poly = PolynomialFeatures(include_bias=False,degree=3)\n",
        "X_trp = poly.fit_transform(X_tr)\n",
        "X_valp = poly.transform(X_val)\n",
        "\n",
        "ss = StandardScaler()\n",
        "X_trs = ss.fit_transform(X_trp)\n",
        "X_vals = ss.transform(X_valp)\n",
        "\n",
        "ridge = Ridge()\n",
        "\n",
        "lr = Ridge()\n",
        "lr.fit(X_trs, y_tr)\n",
        "print(lr.score(X_trs, y_tr))\n",
        "print(lr.score(X_vals, y_val))"
      ],
      "metadata": {
        "colab": {
          "base_uri": "https://localhost:8080/"
        },
        "id": "IYDqAY9tQ9Ws",
        "outputId": "7cdfaf3c-98e1-4ecb-a712-a0e6625855c2"
      },
      "execution_count": 256,
      "outputs": [
        {
          "output_type": "stream",
          "name": "stdout",
          "text": [
            "(15480, 8) (5160, 8) (15480,) (5160,)\n",
            "0.7033825365288915\n",
            "0.687843502220072\n"
          ]
        }
      ]
    },
    {
      "cell_type": "markdown",
      "source": [
        "# 베이스 모델 찾기 - KNeighborsRegressor"
      ],
      "metadata": {
        "id": "Kk_f4rPOU9Jo"
      }
    },
    {
      "cell_type": "code",
      "source": [
        "from sklearn.datasets import fetch_california_housing\n",
        "house = fetch_california_housing()\n",
        "y = house.target\n",
        "X = house.data\n",
        "# 스케일링\n",
        "from sklearn.preprocessing import StandardScaler\n",
        "ss = StandardScaler()\n",
        "X_scaled = ss.fit_transform(X)\n",
        "# 데이터 분할\n",
        "from sklearn.model_selection import train_test_split\n",
        "train_input, test_input, train_target, test_target = train_test_split(X_scaled, y, random_state=42)\n",
        "# 모델 정의\n",
        "n_neighbors = list(range(1,20))\n",
        "train_scores, test_scores = [],[]\n",
        "for n in n_neighbors:\n",
        "  kn = KNeighborsRegressor(n_neighbors=n)\n",
        "  kn.fit(train_input, train_target)\n",
        "  train_scores.append(kn.score(train_input, train_target))\n",
        "  test_scores.append(kn.score(test_input, test_target))"
      ],
      "metadata": {
        "id": "Vcwh8WHiU8TY"
      },
      "execution_count": 339,
      "outputs": []
    },
    {
      "cell_type": "code",
      "source": [
        "import matplotlib.pyplot as plt\n",
        "plt.plot(n_neighbors,train_scores)\n",
        "plt.plot(n_neighbors,test_scores)"
      ],
      "metadata": {
        "colab": {
          "base_uri": "https://localhost:8080/",
          "height": 448
        },
        "id": "qv2-vds8VBkC",
        "outputId": "6c19fe38-1805-4343-cc34-a9867cce3d31"
      },
      "execution_count": 264,
      "outputs": [
        {
          "output_type": "execute_result",
          "data": {
            "text/plain": [
              "[<matplotlib.lines.Line2D at 0x7a05d3324f10>]"
            ]
          },
          "metadata": {},
          "execution_count": 264
        },
        {
          "output_type": "display_data",
          "data": {
            "text/plain": [
              "<Figure size 640x480 with 1 Axes>"
            ],
            "image/png": "[encoded data removed]"
          },
          "metadata": {}
        }
      ]
    },
    {
      "cell_type": "code",
      "source": [
        "kn = KNeighborsRegressor(n_neighbors=19)\n",
        "kn.fit(train_input, train_target)\n",
        "print(kn.score(train_input, train_target))\n",
        "print(kn.score(test_input, test_target))"
      ],
      "metadata": {
        "colab": {
          "base_uri": "https://localhost:8080/"
        },
        "id": "-cPkdgPiVELu",
        "outputId": "c4004976-e65d-434b-9aa7-695cbf109fa6"
      },
      "execution_count": 265,
      "outputs": [
        {
          "output_type": "stream",
          "name": "stdout",
          "text": [
            "0.7236669722500604\n",
            "0.6880684906398564\n"
          ]
        }
      ]
    },
    {
      "cell_type": "code",
      "source": [
        "from sklearn.model_selection import train_test_split\n",
        "from sklearn.linear_model import Lasso, Ridge\n",
        "from sklearn.preprocessing import StandardScaler, PolynomialFeatures\n",
        "from sklearn.metrics import r2_score\n",
        "\n",
        "X_tr, X_val, y_tr, y_val = train_test_split(house_df.iloc[:,:-1], house_df.iloc[:,-1], random_state=42)\n",
        "print(X_tr.shape, X_val.shape, y_tr.shape, y_val.shape)\n",
        "\n",
        "poly = PolynomialFeatures(include_bias=False,degree=3)\n",
        "X_trp = poly.fit_transform(X_tr)\n",
        "X_valp = poly.transform(X_val)\n",
        "\n",
        "ss = StandardScaler()\n",
        "X_trs = ss.fit_transform(X_trp)\n",
        "X_vals = ss.transform(X_valp)\n",
        "\n",
        "ridge = Ridge()\n",
        "\n",
        "lr = Ridge()\n",
        "lr.fit(X_trs, y_tr)\n",
        "print(lr.score(X_trs, y_tr))\n",
        "print(lr.score(X_vals, y_val))"
      ],
      "metadata": {
        "colab": {
          "base_uri": "https://localhost:8080/"
        },
        "id": "u-YjSJRdVGdU",
        "outputId": "15cb9506-c245-443b-f53f-7708f08095c8"
      },
      "execution_count": 340,
      "outputs": [
        {
          "output_type": "stream",
          "name": "stdout",
          "text": [
            "(15480, 8) (5160, 8) (15480,) (5160,)\n",
            "0.7033825365288915\n",
            "0.687843502220072\n"
          ]
        }
      ]
    },
    {
      "cell_type": "code",
      "source": [
        "import kagglehub\n",
        "from glob import glob\n",
        "\n",
        "path = kagglehub.dataset_download(\"kukuroo3/churn-model-data-set-competition-form\")\n",
        "\n",
        "file_paths = glob(path+'/*.*')\n",
        "X_df = pd.read_csv(file_paths[0])\n",
        "y_df = pd.read_csv(file_paths[2])\n",
        "df = pd.merge(X_df,y_df,on='CustomerId')\n",
        "X = df.drop(['CustomerId','Exited'],axis=1)\n",
        "y = df['Exited']\n",
        "numerical_df = X.select_dtypes(include='number')"
      ],
      "metadata": {
        "id": "3UfRj4kZWqk0"
      },
      "execution_count": 359,
      "outputs": []
    },
    {
      "cell_type": "code",
      "source": [
        "from sklearn.model_selection import train_test_split\n",
        "from sklearn.neighbors import KNeighborsClassifier\n",
        "from sklearn.preprocessing import LabelEncoder\n",
        "\n",
        "# 베이스라인\n",
        "X_tr, X_val, y_tr, y_val = train_test_split(numerical_df,y, random_state=42)\n",
        "\n",
        "kr = KNeighborsClassifier()\n",
        "kr.fit(X_tr, y_tr)\n",
        "kr.score(X_tr, y_tr), kr.score(X_val, y_val)"
      ],
      "metadata": {
        "colab": {
          "base_uri": "https://localhost:8080/"
        },
        "id": "RcMb14yDXeKq",
        "outputId": "0625554c-87e1-42b0-8efb-a5f9db24f58c"
      },
      "execution_count": 360,
      "outputs": [
        {
          "output_type": "execute_result",
          "data": {
            "text/plain": [
              "(0.8184242921624949, 0.7673846153846153)"
            ]
          },
          "metadata": {},
          "execution_count": 360
        }
      ]
    },
    {
      "cell_type": "code",
      "source": [
        "from sklearn.model_selection import train_test_split\n",
        "from sklearn.neighbors import KNeighborsClassifier\n",
        "from sklearn.preprocessing import LabelEncoder, StandardScaler, MinMaxScaler\n",
        "\n",
        "X_tr, X_val, y_tr, y_val = train_test_split(numerical_df,y, random_state=42)\n",
        "print(X_tr.shape)\n",
        "# 스케일러\n",
        "ms = MinMaxScaler()\n",
        "X_trs = ms.fit_transform(X_tr)\n",
        "X_vals = ms.fit_transform(X_val)\n",
        "\n",
        "kr = KNeighborsClassifier()\n",
        "kr.fit(X_trs, y_tr)\n",
        "print(kr.score(X_trs, y_tr), kr.score(X_vals, y_val))\n",
        "\n",
        "ss = StandardScaler()\n",
        "X_trs = ss.fit_transform(X_tr)\n",
        "X_vals = ss.fit_transform(X_val)\n",
        "\n",
        "kr = KNeighborsClassifier()\n",
        "kr.fit(X_trs, y_tr)\n",
        "print(kr.score(X_trs, y_tr), kr.score(X_vals, y_val))"
      ],
      "metadata": {
        "colab": {
          "base_uri": "https://localhost:8080/"
        },
        "id": "s7Goz8w5X_xd",
        "outputId": "c9aab2b7-30a0-49e7-99ec-efa2cc754c79"
      },
      "execution_count": 361,
      "outputs": [
        {
          "output_type": "stream",
          "name": "stdout",
          "text": [
            "(4874, 8)\n",
            "0.8645876077144029 0.8036923076923077\n",
            "0.8750512925728354 0.8215384615384616\n"
          ]
        }
      ]
    },
    {
      "cell_type": "code",
      "source": [
        "path = kagglehub.dataset_download(\"kukuroo3/churn-model-data-set-competition-form\")\n",
        "\n",
        "file_paths = glob(path+'/*.*')\n",
        "X_df = pd.read_csv(file_paths[0])\n",
        "y_df = pd.read_csv(file_paths[2])\n",
        "\n",
        "# 특성공학\n",
        "X_df['Ages'] = pd.cut(X_df['Age'], bins=[10,20,30,40,50,60,70,100], labels=[1,2,3,4,5,6,7])\n",
        "X_df['CreditScores'] = pd.cut(X_df['CreditScore'], bins=[0,400,500,600,700,800,1000], labels=[1,2,3,4,5,6])\n",
        "X_df['Balances'] = pd.cut(X_df['Balance'], bins=[-1,3000,6000,9000,12000,15000,20000,250000], labels=[1,2,3,4,5,6,7])\n",
        "X_df['EstimatedSalarys'] = pd.cut(X_df['EstimatedSalary'], bins=[-1,1000,3000,5000,7000,10000,15000,30000,50000,100000,200000], labels=[1,2,3,4,5,6,7,8,9,10])\n",
        "print(X_df.head(3))\n",
        "df = pd.merge(X_df,y_df,on='CustomerId')\n",
        "X = df.drop(['CustomerId','Exited'],axis=1)\n",
        "y = df['Exited']\n",
        "\n",
        "numerical_df = X[['CreditScore', 'Age', 'Tenure', 'Balance', 'NumOfProducts','HasCrCard','IsActiveMember', 'EstimatedSalary','Ages','CreditScores']]\n",
        "\n",
        "\n",
        "from sklearn.model_selection import train_test_split\n",
        "from sklearn.neighbors import KNeighborsClassifier\n",
        "from sklearn.preprocessing import LabelEncoder, StandardScaler, MinMaxScaler\n",
        "\n",
        "X_tr, X_val, y_tr, y_val = train_test_split(numerical_df,y, random_state=42)\n",
        "print(X_tr.shape)\n",
        "# 스케일러\n",
        "ms = MinMaxScaler()\n",
        "X_trs = ms.fit_transform(X_tr)\n",
        "X_vals = ms.fit_transform(X_val)\n",
        "\n",
        "kr = KNeighborsClassifier()\n",
        "kr.fit(X_trs, y_tr)\n",
        "print(kr.score(X_trs, y_tr), kr.score(X_vals, y_val))\n",
        "\n",
        "ss = StandardScaler()\n",
        "X_trs = ss.fit_transform(X_tr)\n",
        "X_vals = ss.fit_transform(X_val)\n",
        "\n",
        "kr = KNeighborsClassifier()\n",
        "kr.fit(X_trs, y_tr)\n",
        "print(kr.score(X_trs, y_tr), kr.score(X_vals, y_val))"
      ],
      "metadata": {
        "colab": {
          "base_uri": "https://localhost:8080/"
        },
        "id": "uN8Zk4Hjbb6h",
        "outputId": "582232b7-dbd2-4f53-c7bd-7bde574905c4"
      },
      "execution_count": 391,
      "outputs": [
        {
          "output_type": "stream",
          "name": "stdout",
          "text": [
            "   CustomerId   Surname  CreditScore Geography  ... Ages  CreditScores  Balances  EstimatedSalarys\n",
            "0    15799217  Zetticci          791   Germany  ...    3             5         7                10\n",
            "1    15748986   Bischof          705   Germany  ...    4             5         7                 9\n",
            "2    15722004    Hsiung          543    France  ...    3             3         7                 9\n",
            "\n",
            "[3 rows x 16 columns]\n",
            "(4874, 10)\n",
            "0.8647927780057447 0.8166153846153846\n",
            "0.8734099302421009 0.8313846153846154\n"
          ]
        }
      ]
    },
    {
      "cell_type": "code",
      "source": [
        "from sklearn.metrics import classification_report\n",
        "print(classification_report(y_val,kr.predict(X_vals)))"
      ],
      "metadata": {
        "colab": {
          "base_uri": "https://localhost:8080/"
        },
        "id": "UpaBcrTvk0sA",
        "outputId": "5fcf8d61-7a47-4695-f9ce-d15b6e4a0b49"
      },
      "execution_count": 393,
      "outputs": [
        {
          "output_type": "stream",
          "name": "stdout",
          "text": [
            "              precision    recall  f1-score   support\n",
            "\n",
            "           0       0.85      0.96      0.90      1276\n",
            "           1       0.70      0.38      0.49       349\n",
            "\n",
            "    accuracy                           0.83      1625\n",
            "   macro avg       0.77      0.67      0.69      1625\n",
            "weighted avg       0.82      0.83      0.81      1625\n",
            "\n"
          ]
        }
      ]
    },
    {
      "cell_type": "code",
      "source": [],
      "metadata": {
        "id": "HocPSC0ToV7w"
      },
      "execution_count": null,
      "outputs": []
    }
  ]
}