{
  "nbformat": 4,
  "nbformat_minor": 0,
  "metadata": {
    "colab": {
      "provenance": []
    },
    "kernelspec": {
      "name": "python3",
      "display_name": "Python 3"
    },
    "language_info": {
      "name": "python"
    }
  },
  "cells": [
    {
      "cell_type": "markdown",
      "source": [
        "# 클래스"
      ],
      "metadata": {
        "id": "eUjHKXXPwcSE"
      }
    },
    {
      "cell_type": "code",
      "execution_count": null,
      "metadata": {
        "id": "c9Tl3j4xvZJn"
      },
      "outputs": [],
      "source": [
        "# 변수 : 데이터 저장(바로 사용가능한 데이터, 주소데이터)\n",
        "# 자료구조 : 리스트, 튜플, 딕셔너리로 변수들을 관리\n",
        "# 함수 : 로직의 집합\n",
        "\n",
        "# 비지니스 로직\n",
        "# 변수와 같은 자료구조\n",
        "# 핵심 함수\n",
        "# method = class안에 속해 있는 함수\n",
        "# . = 멤버 연산자\n",
        "# 파이썬은 변수x, 전부다 객체\n",
        "# 그렇기 때문에 멤버 연산자를 쓰면 관련된 연산들이 가능함\n",
        "# 다른 언어에서는 변수와 객체가 다름\n",
        "\n",
        "# 클래스\n",
        "# 멤버(변수, 메소드)"
      ]
    },
    {
      "cell_type": "code",
      "source": [
        "class Student():\n",
        "  pass # 빈 클래스 정의\n",
        "\n",
        "# 클래스 확인\n",
        "print(Student)\n",
        "\n",
        "num =10\n",
        "print(type(num))   # <class 'int'> class라고 하는것을 보면 객체라는 것을 알 수 있음\n",
        "# 그래서 num은 변수가 아닌 정수형 클래스의 객체 라고 표현하는 것이 정확하다"
      ],
      "metadata": {
        "colab": {
          "base_uri": "https://localhost:8080/"
        },
        "id": "7x1PWy7HzoN0",
        "outputId": "e6994f3e-91d5-4295-96aa-2126dcd90cbd"
      },
      "execution_count": null,
      "outputs": [
        {
          "output_type": "stream",
          "name": "stdout",
          "text": [
            "<class '__main__.Student'>\n",
            "<class 'int'>\n"
          ]
        }
      ]
    },
    {
      "cell_type": "markdown",
      "source": [
        "# 객체 생성 및 활용"
      ],
      "metadata": {
        "id": "GXu4w30l1qUM"
      }
    },
    {
      "cell_type": "code",
      "source": [
        "class Student:\n",
        "  def say_hello():   # 클래스 안에서 만든 함수는 '메소드'\n",
        "    print('hello world')\n",
        "\n",
        "hello = Student()\n",
        "print(hello.say_hello())   # TypeError: Student.say_hello() takes 0 positional arguments but 1 was given"
      ],
      "metadata": {
        "colab": {
          "base_uri": "https://localhost:8080/",
          "height": 186
        },
        "id": "QcD00nkR1QaV",
        "outputId": "f5545f95-826d-4231-ffa5-532950aad7b4"
      },
      "execution_count": null,
      "outputs": [
        {
          "output_type": "error",
          "ename": "TypeError",
          "evalue": "Student.say_hello() takes 0 positional arguments but 1 was given",
          "traceback": [
            "\u001b[0;31m---------------------------------------------------------------------------\u001b[0m",
            "\u001b[0;31mTypeError\u001b[0m                                 Traceback (most recent call last)",
            "\u001b[0;32m<ipython-input-20-bd37eb53f909>\u001b[0m in \u001b[0;36m<cell line: 0>\u001b[0;34m()\u001b[0m\n\u001b[1;32m      4\u001b[0m \u001b[0;34m\u001b[0m\u001b[0m\n\u001b[1;32m      5\u001b[0m \u001b[0mhello\u001b[0m \u001b[0;34m=\u001b[0m \u001b[0mStudent\u001b[0m\u001b[0;34m(\u001b[0m\u001b[0;34m)\u001b[0m\u001b[0;34m\u001b[0m\u001b[0;34m\u001b[0m\u001b[0m\n\u001b[0;32m----> 6\u001b[0;31m \u001b[0mprint\u001b[0m\u001b[0;34m(\u001b[0m\u001b[0mhello\u001b[0m\u001b[0;34m.\u001b[0m\u001b[0msay_hello\u001b[0m\u001b[0;34m(\u001b[0m\u001b[0;34m)\u001b[0m\u001b[0;34m)\u001b[0m   \u001b[0;31m# TypeError: Student.say_hello() takes 0 positional arguments but 1 was given\u001b[0m\u001b[0;34m\u001b[0m\u001b[0;34m\u001b[0m\u001b[0m\n\u001b[0m",
            "\u001b[0;31mTypeError\u001b[0m: Student.say_hello() takes 0 positional arguments but 1 was given"
          ]
        }
      ]
    },
    {
      "cell_type": "code",
      "source": [
        "def myfunc():\n",
        "  pass\n",
        "\n",
        "myfunc(10)   # 위와 같은 에러 / TypeError: myfunc() takes 0 positional arguments but 1 was given"
      ],
      "metadata": {
        "colab": {
          "base_uri": "https://localhost:8080/",
          "height": 186
        },
        "id": "V2ZsmjWF1yip",
        "outputId": "b7e57634-73ba-4ef2-f5ff-bb626cbb2f92"
      },
      "execution_count": null,
      "outputs": [
        {
          "output_type": "error",
          "ename": "TypeError",
          "evalue": "myfunc() takes 0 positional arguments but 1 was given",
          "traceback": [
            "\u001b[0;31m---------------------------------------------------------------------------\u001b[0m",
            "\u001b[0;31mTypeError\u001b[0m                                 Traceback (most recent call last)",
            "\u001b[0;32m<ipython-input-18-1e2f6c9b8937>\u001b[0m in \u001b[0;36m<cell line: 0>\u001b[0;34m()\u001b[0m\n\u001b[1;32m      2\u001b[0m   \u001b[0;32mpass\u001b[0m\u001b[0;34m\u001b[0m\u001b[0;34m\u001b[0m\u001b[0m\n\u001b[1;32m      3\u001b[0m \u001b[0;34m\u001b[0m\u001b[0m\n\u001b[0;32m----> 4\u001b[0;31m \u001b[0mmyfunc\u001b[0m\u001b[0;34m(\u001b[0m\u001b[0;36m10\u001b[0m\u001b[0;34m)\u001b[0m\u001b[0;34m\u001b[0m\u001b[0;34m\u001b[0m\u001b[0m\n\u001b[0m",
            "\u001b[0;31mTypeError\u001b[0m: myfunc() takes 0 positional arguments but 1 was given"
          ]
        }
      ]
    },
    {
      "cell_type": "code",
      "source": [
        "class Student:\n",
        "  def say_hello(self):   # 파이썬 고유의 특성으로 클래스로 객체를 만들면 자기 자신이 객체로 들어간다 그래서 self를 넣어줘야함\n",
        "    print('hello world') # 내가 '그 단체의 멤버로서 속해 있어' 라는 개념이 아닌 '나는 그 단체를 가지고 있어'라는 개념, 즉 소유의 개념\n",
        "    # 함수와 메소드의 차이점 중 추가로 자기 자신을 가지고 있는 것이 메소드라고 할수 있음\n",
        "\n",
        "hello = Student()\n",
        "hellohello = Student()\n",
        "\n",
        "hello.say_hello()\n",
        "hellohello.say_hello()"
      ],
      "metadata": {
        "colab": {
          "base_uri": "https://localhost:8080/"
        },
        "id": "w5lRE5Of31ZB",
        "outputId": "a4d928cc-974c-4f09-ef12-aeaa992acd17"
      },
      "execution_count": null,
      "outputs": [
        {
          "output_type": "stream",
          "name": "stdout",
          "text": [
            "hello world\n",
            "hello world\n"
          ]
        }
      ]
    },
    {
      "cell_type": "markdown",
      "source": [
        "# 객체 초기화\n",
        "  - 객체가 생성될때 클래스 내부에서 사용할 변수(객체)를 멤버변수를 자동으로 생성\n",
        "  - 객체가 생성되는 시점에 전달한 값을 내부에서 사용할 변수를 생성\n",
        "  - 변수명 = 클래스명(10,20)\n",
        "  - 클래스 내부에서는 특별함수가 그 역활을 함\n",
        "    - def __init__(self, param1, param2...) 이게 자동으로 호출됨\n",
        "    - 자동으로 호출되는 함수를 콜백함수라고 함"
      ],
      "metadata": {
        "id": "mVZLUBjb5UL9"
      }
    },
    {
      "cell_type": "code",
      "source": [
        "class Student:\n",
        "  def say_hello(self):\n",
        "    print('hello world')\n",
        "\n",
        "  def __init__(self) -> None:   # 리턴의 형태를 정의 None은 리턴이 없다는 뜻  / __init__을 생성자라고 부름\n",
        "    print('객체가 생성되었습니다.')\n",
        "\n",
        "print('객체 생성전')\n",
        "hello = Student()\n",
        "hellohello = Student()\n",
        "\n",
        "hello.say_hello()\n",
        "hellohello.say_hello()\n",
        "print('객체 생성후')"
      ],
      "metadata": {
        "colab": {
          "base_uri": "https://localhost:8080/"
        },
        "id": "RCBTkG6L4NKY",
        "outputId": "d28aa65c-8bf5-48be-da36-dd404df493bf"
      },
      "execution_count": null,
      "outputs": [
        {
          "output_type": "stream",
          "name": "stdout",
          "text": [
            "객체 생성전\n",
            "객체가 생성되었습니다.\n",
            "객체가 생성되었습니다.\n",
            "hello world\n",
            "hello world\n",
            "객체 생성후\n"
          ]
        }
      ]
    },
    {
      "cell_type": "code",
      "source": [
        "# 클래스 설계 방법\n",
        "# 생성자 를 항상 재 정의 --> 특별한함수\n",
        "# 내부에 사용할 변수를 정의 --> 생성자를 통해서 외부로부터 초기값을 전달 받음\n",
        "# 내부에 사용할 변수가 있다고 하면 반드시 그 변수를 사용할 메소드를 정의\n",
        "\n",
        "class Student:\n",
        "  def __init__(self, name, age) -> None:\n",
        "    # 내부 변수 정의\n",
        "    self.name = name\n",
        "    self.age = age\n",
        "\n",
        "  def intruduction(self):\n",
        "    print(f'저의 이름 : {self.name} 나이는 : {self.age}')\n",
        "\n",
        "# 객체 생성\n",
        "# 초기화 --> 최초 생성할때, 즉 최초 값을 할당 할때\n",
        "student = Student('홍길동',20)\n",
        "student.intruduction()\n",
        "print(f'name : {student.name}, age : {student.age}')"
      ],
      "metadata": {
        "colab": {
          "base_uri": "https://localhost:8080/"
        },
        "id": "8pLcWQFo7IF8",
        "outputId": "e275e6d6-4ef0-444d-fa0a-8f610abf70da"
      },
      "execution_count": null,
      "outputs": [
        {
          "output_type": "stream",
          "name": "stdout",
          "text": [
            "저의 이름 : 홍길동 나이는 : 20\n",
            "name : 홍길동, age : 20\n"
          ]
        }
      ]
    },
    {
      "cell_type": "code",
      "source": [
        "from os import WSTOPPED\n",
        "# 새로운 클래스 정의 (속성 : 변수, 동작 : 메소드)\n",
        "# 클래스명 Rectangle\n",
        "# 속성 : 가로 세로\n",
        "# 동작(행위) : 넓이\n",
        "class Rectangle:\n",
        "  def __init__(self, w, h) -> None:\n",
        "    self.w = w\n",
        "    self.h = h\n",
        "\n",
        "  def area(self) -> float:\n",
        "    return self.w * self.h"
      ],
      "metadata": {
        "colab": {
          "base_uri": "https://localhost:8080/"
        },
        "id": "JSxQXznR_9MT",
        "outputId": "8e88a68b-d787-4fb2-dbf9-4833f7f5aab1"
      },
      "execution_count": null,
      "outputs": [
        {
          "output_type": "stream",
          "name": "stdout",
          "text": [
            "가로 : 10, 세로 : 20\n",
            "넓이 : 200\n"
          ]
        }
      ]
    },
    {
      "cell_type": "code",
      "source": [
        "# 객체(인스턴스) 생성\n",
        "# 클래스의 인스턴스가 객체\n",
        "# 객체 : 클래스의 인스턴스\n",
        "# 인스턴스 : 비지니스르 실행가능한 상태로 만드는것 (어떤 자료구조나 실행가능한 집합들을 실제 사용할수 있는 상태로 만드는 것)\n",
        "# 컨테이너 : 비지니스를 구성하는 요소들\n",
        "\n",
        "r1 = Rectangle(10, 20)\n",
        "r2 = Rectangle(10, 20)\n",
        "r1.w =100\n",
        "\n",
        "print(f'r1넓이 : {r1.area()}')\n",
        "print(f'r2넓이 : {r2.area()}')"
      ],
      "metadata": {
        "colab": {
          "base_uri": "https://localhost:8080/"
        },
        "id": "tfXBazHKE-bY",
        "outputId": "6045f808-28f5-4751-d2fe-3059ae29022c"
      },
      "execution_count": null,
      "outputs": [
        {
          "output_type": "stream",
          "name": "stdout",
          "text": [
            "r1넓이 : 2000\n",
            "r2넓이 : 200\n"
          ]
        }
      ]
    },
    {
      "cell_type": "markdown",
      "source": [
        "# 인스턴스 변수 VS 클래스 변수\n",
        "  - 인스턴스 변수 : 클래스 안에서 self.변수, 각 객체의 고유\n",
        "  - 클래스 변수 : 그냥 변수명, 모든 객체가 공유"
      ],
      "metadata": {
        "id": "Q9dlEGT8E2Ld"
      }
    },
    {
      "cell_type": "code",
      "source": [
        "# Student 클래스 생성\n",
        "class Student:\n",
        "  # 클래스 변수 선언 및 초기화\n",
        "  school = '고등학교'   # 모든 객체가 공유\n",
        "  def __init__(self, name) -> None:\n",
        "    self.name = name   # 인스턴스 변수(각 객체마다 고유)\n",
        "\n",
        "  # 사용자 정의 메소드\n",
        "  def show_info(self):\n",
        "    # 여기서 그냥 school이 아니라 self.school라 하는 이유는 여기서 self는 school을 참고한다는 뜻, 지역변수와 같음\n",
        "    print(f'이름 : {self.name}, 학교 : {self.school}')"
      ],
      "metadata": {
        "id": "cuoug0vCEGYT"
      },
      "execution_count": null,
      "outputs": []
    },
    {
      "cell_type": "code",
      "source": [
        "# 이름이 각각 홍길동 이순신 이라는 이름을 가지는 객체 s1, s2 를 생성\n",
        "s1 = Student('홍길동')\n",
        "s2 = Student('이순신')\n",
        "\n",
        "s1.show_info()\n",
        "s2.show_info()\n",
        "\n",
        "# 클래스 변수 수정\n",
        "s1.school = '중학교'   # 객체에 대한 클래스 변수를 변경\n",
        "s1.show_info()\n",
        "s2.show_info()"
      ],
      "metadata": {
        "colab": {
          "base_uri": "https://localhost:8080/"
        },
        "id": "5MoyTIyoImi-",
        "outputId": "5da6f19f-24d3-44a7-ed82-267e46be50d9"
      },
      "execution_count": null,
      "outputs": [
        {
          "output_type": "stream",
          "name": "stdout",
          "text": [
            "이름 : 홍길동, 학교 : 고등학교\n",
            "이름 : 이순신, 학교 : 고등학교\n",
            "이름 : 홍길동, 학교 : 중학교\n",
            "이름 : 이순신, 학교 : 고등학교\n"
          ]
        }
      ]
    },
    {
      "cell_type": "code",
      "source": [
        "s1 = Student('홍길동')\n",
        "s2 = Student('이순신')\n",
        "\n",
        "s1.show_info()\n",
        "s2.show_info()\n",
        "\n",
        "# 클래스 변수 수정\n",
        "Student.school = '중학교' # 클래스에 대한 클래스 변수를 변경\n",
        "s1.show_info()\n",
        "s2.show_info()"
      ],
      "metadata": {
        "colab": {
          "base_uri": "https://localhost:8080/"
        },
        "id": "UsWnrBlfIxU-",
        "outputId": "21f92149-3d9c-40e2-ba5e-5bd085cfed88"
      },
      "execution_count": null,
      "outputs": [
        {
          "output_type": "stream",
          "name": "stdout",
          "text": [
            "이름 : 홍길동, 학교 : 고등학교\n",
            "이름 : 이순신, 학교 : 고등학교\n",
            "이름 : 홍길동, 학교 : 중학교\n",
            "이름 : 이순신, 학교 : 중학교\n"
          ]
        }
      ]
    },
    {
      "cell_type": "markdown",
      "source": [
        "# 인스턴스 변수 동적 추가\n",
        "  - 객체 생성후에 인스턴스 변수 추가"
      ],
      "metadata": {
        "id": "RrHb0TvqN6_S"
      }
    },
    {
      "cell_type": "code",
      "source": [
        "s1 = Student('홍길동')\n",
        "s2 = Student('이순신')\n",
        "s1.show_info()\n",
        "s2.show_info()\n",
        "s1.score = 90   # 동적으로 변수 추가\n",
        "print(s1.score)\n",
        "print(s2.score) # s2에는 스코어라는 변수가 없음"
      ],
      "metadata": {
        "colab": {
          "base_uri": "https://localhost:8080/",
          "height": 242
        },
        "id": "RtuwZFvGNyat",
        "outputId": "8adc022d-5ebd-4600-cd4d-c0b5fcc08182"
      },
      "execution_count": null,
      "outputs": [
        {
          "output_type": "stream",
          "name": "stdout",
          "text": [
            "이름 : 홍길동, 학교 : 고등학교\n",
            "이름 : 이순신, 학교 : 고등학교\n",
            "90\n"
          ]
        },
        {
          "output_type": "error",
          "ename": "AttributeError",
          "evalue": "'Student' object has no attribute 'score'",
          "traceback": [
            "\u001b[0;31m---------------------------------------------------------------------------\u001b[0m",
            "\u001b[0;31mAttributeError\u001b[0m                            Traceback (most recent call last)",
            "\u001b[0;32m<ipython-input-67-fa6cb1f012c7>\u001b[0m in \u001b[0;36m<cell line: 0>\u001b[0;34m()\u001b[0m\n\u001b[1;32m      5\u001b[0m \u001b[0ms1\u001b[0m\u001b[0;34m.\u001b[0m\u001b[0mscore\u001b[0m \u001b[0;34m=\u001b[0m \u001b[0;36m90\u001b[0m   \u001b[0;31m# 동적으로 변수 추가\u001b[0m\u001b[0;34m\u001b[0m\u001b[0;34m\u001b[0m\u001b[0m\n\u001b[1;32m      6\u001b[0m \u001b[0mprint\u001b[0m\u001b[0;34m(\u001b[0m\u001b[0ms1\u001b[0m\u001b[0;34m.\u001b[0m\u001b[0mscore\u001b[0m\u001b[0;34m)\u001b[0m\u001b[0;34m\u001b[0m\u001b[0;34m\u001b[0m\u001b[0m\n\u001b[0;32m----> 7\u001b[0;31m \u001b[0mprint\u001b[0m\u001b[0;34m(\u001b[0m\u001b[0ms2\u001b[0m\u001b[0;34m.\u001b[0m\u001b[0mscore\u001b[0m\u001b[0;34m)\u001b[0m \u001b[0;31m# s2에는 스코어라는 변수가 없음\u001b[0m\u001b[0;34m\u001b[0m\u001b[0;34m\u001b[0m\u001b[0m\n\u001b[0m",
            "\u001b[0;31mAttributeError\u001b[0m: 'Student' object has no attribute 'score'"
          ]
        }
      ]
    },
    {
      "cell_type": "markdown",
      "source": [
        "# 객체를 통해서 수정할때 주의사항"
      ],
      "metadata": {
        "id": "HJUK4kCTOuup"
      }
    },
    {
      "cell_type": "code",
      "source": [
        "# Student 클래스 생성\n",
        "class Student:\n",
        "  # 클래스 변수 선언 및 초기화\n",
        "  school = '고등학교'   # 모든 객체가 공유\n",
        "  def __init__(self, name) -> None:\n",
        "    self.name = name   # 인스턴스 변수(각 객체마다 고유)\n",
        "\n",
        "s1 = Student('홍길동')\n",
        "s2 = Student('이순신')\n",
        "\n",
        "s1.school = '특성화 고등학교'   # s1에 새로운 인스턴스 변수를 생성\n",
        "print(s1.school)   # 방금 만든 인스턴스 변수를 출력\n",
        "print(s2.school)   # 클래스 변수를 참조\n",
        "print(Student.school)"
      ],
      "metadata": {
        "colab": {
          "base_uri": "https://localhost:8080/"
        },
        "id": "nsi_Pq0-OFff",
        "outputId": "ee446ac3-9d07-4dca-bfbe-3e14a26d5ec2"
      },
      "execution_count": null,
      "outputs": [
        {
          "output_type": "stream",
          "name": "stdout",
          "text": [
            "특성화 고등학교\n",
            "고등학교\n",
            "고등학교\n"
          ]
        }
      ]
    },
    {
      "cell_type": "markdown",
      "source": [
        "# 생성자에서 클래스 변수를 사용하면? 또는 클래스 내부에서 진짜 클래스 변수를 사용하면?"
      ],
      "metadata": {
        "id": "6QWpSWAQQj5T"
      }
    },
    {
      "cell_type": "code",
      "source": [
        "class Student:\n",
        "  serialnum = 0\n",
        "  def __init__(self, name ) -> None:\n",
        "    self.name = name\n",
        "    Student.serialnum +=1   # 클래스의 serialnum으로 함으로써 초기화가 안됨\n",
        "\n",
        "s1 = Student('홍길동')\n",
        "print(s1.serialnum)\n",
        "\n",
        "s2 = Student('이순신')\n",
        "print(s2.serialnum)\n",
        "s2.serialnum =100   # s2객체에 대한 인스턴스 변수 serialnum 생성해서 얻은 값을 참조 했던 것을 직접 입력해서 저장\n",
        "print(s2.serialnum)\n",
        "\n",
        "s3 = Student('고길동')\n",
        "print(s3.serialnum)\n",
        "\n",
        "Student.serialnum = 0\n",
        "print(s1.serialnum, s2.serialnum, s3.serialnum)   # 그래서 클래스 변수를 초기화 했을 때 s1과 s3는 초기화된 값을 그래도 참조,\n",
        "                                                  # 하지만 s2는 직접 저장한 값을 가져옴"
      ],
      "metadata": {
        "colab": {
          "base_uri": "https://localhost:8080/"
        },
        "id": "fJFoLT-qQjeB",
        "outputId": "0965e26a-1e15-4a86-e1e9-a74c64d41a62"
      },
      "execution_count": null,
      "outputs": [
        {
          "output_type": "stream",
          "name": "stdout",
          "text": [
            "1\n",
            "2\n",
            "100\n",
            "3\n",
            "0 100 0\n"
          ]
        }
      ]
    },
    {
      "cell_type": "markdown",
      "source": [
        "# 인스턴스 변수정리 | 클래스 변수\n",
        "```\n",
        "  - 만드는 위치 : __init__         | 클래스 내부(self 없이)\n",
        "  - 범       위 : 각 객체에 고유   | 모든 객체가 공유\n",
        "  - 수       정 : 해당 객체만 변경 | 모든 객체에 반영\n",
        "  - 접 근 방 법 : 객체, 변수       | 클래스.변수, 객체.변수\n",
        "```\n",
        "\n",
        "\n"
      ],
      "metadata": {
        "id": "xmaaw0IkUshS"
      }
    },
    {
      "cell_type": "markdown",
      "source": [
        "# 클래스 변수와 인스턴스 변수가 충돌"
      ],
      "metadata": {
        "id": "OyZlEZPQVYGH"
      }
    },
    {
      "cell_type": "code",
      "source": [
        "class Student:\n",
        "  subjects = ['kor','eng']   # 클래스 변수\n",
        "  def __init__(self, name) -> None:\n",
        "    self.name = name\n",
        "\n",
        "s1 = Student('홍길동')\n",
        "s2 = Student('이순신')\n",
        "s1.subjects.append('math')   # 문법적으로는 가능하지만... 이렇게 사용하는것은 안좋음\n",
        "print(s1.subjects)\n",
        "print(s2.subjects)\n",
        "\n",
        "# 클래스 변수를 변경할 때는 클래스명.변수\n",
        "# 인스턴스 변수는 객체.변수\n",
        "\n",
        "s3 = Student('장보고')\n",
        "Student.subjects.append('sci')   # 클래스의 구조를 모르거나 위와 같은점을 모르고 있는 사람이 본다면 헷갈릴 수 있음\n",
        "print(s1.subjects)\n",
        "print(s2.subjects)\n",
        "print(s3.subjects)"
      ],
      "metadata": {
        "colab": {
          "base_uri": "https://localhost:8080/"
        },
        "id": "XVhWFCJvPCFl",
        "outputId": "a051b591-4656-4dd2-a713-2ed2c856c8fd"
      },
      "execution_count": null,
      "outputs": [
        {
          "output_type": "stream",
          "name": "stdout",
          "text": [
            "['kor', 'eng', 'math']\n",
            "['kor', 'eng', 'math']\n",
            "['kor', 'eng', 'math', 'sci']\n",
            "['kor', 'eng', 'math', 'sci']\n",
            "['kor', 'eng', 'math', 'sci']\n"
          ]
        }
      ]
    },
    {
      "cell_type": "code",
      "source": [
        "class Student:\n",
        "  subjects = ['kor','eng']   # 클래스 변수\n",
        "  def __init__(self, name) -> None:\n",
        "    self.name = name\n",
        "    self.subjects = Student.subjects.copy()   # 클래스 변수와 인스턴스 변수의 충돌을 예방 (인스턴스 변수로 재정의)\n",
        "\n",
        "s1 = Student('홍길동')\n",
        "s2 = Student('이순신')\n",
        "s1.subjects.append('math')\n",
        "print(s1.subjects)\n",
        "print(s2.subjects)\n"
      ],
      "metadata": {
        "colab": {
          "base_uri": "https://localhost:8080/"
        },
        "id": "8WrZhFfjaswb",
        "outputId": "3ae953b4-1eec-4687-dc82-b0a86bcefcff"
      },
      "execution_count": null,
      "outputs": [
        {
          "output_type": "stream",
          "name": "stdout",
          "text": [
            "['kor', 'eng', 'math']\n",
            "['kor', 'eng']\n"
          ]
        }
      ]
    },
    {
      "cell_type": "markdown",
      "source": [
        "# 정리\n",
        "  - 클래스 정의\n",
        "  - 생성자\n",
        "    - 정의 def __init__(self)\n",
        "    - 호출 : 객체생성할때... 객체 = 클래스명()\n",
        "  - 인스턴스 변수\n",
        "    - 정의 : 클래스 내부에서 self.변수\n",
        "    - 사용 : 객체.변수'\n",
        "  - 클래스 변수\n",
        "    - 정의 : 클래스에서 self없이 변수 정의\n",
        "    - 사용 : 클래스명.변수(객체.변수 => 가능하나 비추)\n",
        "  - 주의사항\n",
        "    - 객체.클래스변수명을 사용하면 클래스변수에 접근(read)\n",
        "    - 객체.클래스변수명 = 데이터 : 값을 할당하면 같은 이름의 인스턴스 변수가 생성되면서\n",
        "\n",
        "      더이상 객체.변수명으로 클래스변수를 참조 못함"
      ],
      "metadata": {
        "id": "WIfsKbcTbpKk"
      }
    },
    {
      "cell_type": "code",
      "source": [
        "# 성적 관리를 위한 학생 클래스\n",
        "# 학생정보, 모든 학생의 총점,모든 학생의 수\n",
        "# 학생정보 : 이름, 점수\n",
        "\n",
        "# 변수 : 이름 점수, 총점. 총 학생수\n",
        "class Student:\n",
        "  student_name_list = []\n",
        "  total_score_list = []\n",
        "  total_student_num = 0\n",
        "\n",
        "  def __init__(self, name, **score):\n",
        "    self.name = name\n",
        "    self.score = score\n",
        "    Student.student_name_list.append(self.name)\n",
        "    Student.total_student_num +=1\n",
        "    Student.total_score_list.append(self.total_score())\n",
        "\n",
        "  def total_score(self):\n",
        "    # round(sum(self.score.values())/len(self.score.keys()),2)\n",
        "    total = sum(self.score.values())\n",
        "    return total\n",
        "\n",
        "s1 = Student('홍길동', kor=80, eng=95, math=96)\n",
        "print(f'학생 이름 리스트 : {s1.student_name_list}')\n",
        "print( f'총합 리스트 : {s1.total_score_list}')\n",
        "print(f'총 학생수 : {s1.total_student_num}')\n",
        "\n",
        "s2 = Student('이순신', kor=94, eng=86, math=79)\n",
        "print(f'학생 이름 리스트 : {Student.student_name_list}')\n",
        "print( f'총합 리스트 : {Student.total_score_list}')\n",
        "print(f'총 학생수 : {Student.total_student_num}')\n",
        "\n"
      ],
      "metadata": {
        "colab": {
          "base_uri": "https://localhost:8080/"
        },
        "id": "RanaLapmWOEf",
        "outputId": "e9aafd95-3d45-4f4d-9ff1-28b9a0f9e6e8"
      },
      "execution_count": null,
      "outputs": [
        {
          "output_type": "stream",
          "name": "stdout",
          "text": [
            "학생 이름 리스트 : ['홍길동']\n",
            "총합 리스트 : [271]\n",
            "총 학생수 : 1\n",
            "학생 이름 리스트 : ['홍길동', '이순신']\n",
            "총합 리스트 : [271, 259]\n",
            "총 학생수 : 2\n"
          ]
        }
      ]
    },
    {
      "cell_type": "markdown",
      "source": [
        "# 클래스로 만든 객체는 변수처럼 사용하고 있으니..print(객체)"
      ],
      "metadata": {
        "id": "CqQQT8eY1jZG"
      }
    },
    {
      "cell_type": "code",
      "source": [
        "class Student:\n",
        "  def __init__(self, name, score):\n",
        "    self.name = name\n",
        "    self.score = score\n",
        "\n",
        "  def __str__(self) -> str:\n",
        "    return f'이름 : {self.name}, 총점 : {sum(self.score.values())}'\n",
        "\n",
        "s1 = Student('홍길동', {'kor':100, 'eng':90, 'math':95})\n",
        "print(s1)"
      ],
      "metadata": {
        "colab": {
          "base_uri": "https://localhost:8080/"
        },
        "id": "QRDS5n0Hi6pO",
        "outputId": "d3e9cdbb-d6a9-4577-b5cb-ab980d2ffd38"
      },
      "execution_count": null,
      "outputs": [
        {
          "output_type": "stream",
          "name": "stdout",
          "text": [
            "이름 : 홍길동, 총점 : 285\n"
          ]
        }
      ]
    },
    {
      "cell_type": "markdown",
      "source": [
        "```\n",
        "@classmethod\n",
        "@staticmethod\n",
        "@propery\n",
        "@name.setter\n",
        "```"
      ],
      "metadata": {
        "id": "7ObXJTIqaY0j"
      }
    },
    {
      "cell_type": "code",
      "source": [
        "'''\n",
        "@classmethod --> 클래스 메소드를 정의하는 데코레이터\n",
        "사용목적 : 클래스 변수를 다루기 위해서\n",
        "'''\n",
        "\n",
        "class MyClass:\n",
        "  def __init__(self):\n",
        "    pass\n",
        "\n",
        "  def my_instance_method(self):\n",
        "    print('인스턴스 메서드')\n",
        "\n",
        "  @classmethod\n",
        "  def my_class_method(cls):\n",
        "    print('클래스 메서드')\n",
        "    print(cls)\n",
        "\n",
        "myobject = MyClass()\n",
        "myobject.my_instance_method()\n",
        "myobject.my_class_method()   # 클래스 정보를 출력 - 클래스\n",
        "print(myobject)   # 객체의 메모리주소를 출력 - 인스턴스"
      ],
      "metadata": {
        "colab": {
          "base_uri": "https://localhost:8080/"
        },
        "id": "RHvz2h-w32aS",
        "outputId": "9219e437-7028-4a19-dcf7-0d2ccf32d605"
      },
      "execution_count": null,
      "outputs": [
        {
          "output_type": "stream",
          "name": "stdout",
          "text": [
            "인스턴스 메서드\n",
            "클래스 메서드\n",
            "<class '__main__.MyClass'>\n",
            "<__main__.MyClass object at 0x79fd28b81190>\n"
          ]
        }
      ]
    },
    {
      "cell_type": "code",
      "source": [
        "class Student:\n",
        "  # 클래스 변수\n",
        "  school = '고등학교'\n",
        "  def __init__(self, name, score) -> None:   # self 자기자신 즉 객체 Object\n",
        "    self.name = name\n",
        "    self.socre = score\n",
        "\n",
        "  @classmethod\n",
        "  def get_school(cls):   # cls는 Student 즉 클래스\n",
        "    return cls.school\n",
        "\n",
        "  @classmethod\n",
        "  def set_school(cls, school):\n",
        "    cls.school = school\n",
        "    return cls.school\n",
        "\n",
        "# 클래스 호출\n",
        "print(Student.get_school())\n",
        "\n",
        "s = Student('홍길동',{'kor':90, 'eng':100, 'math':95})\n",
        "# 인스턴스 호출\n",
        "print(s.get_school())\n",
        "# 클래스 메소드 호출로 수정\n",
        "Student.set_school('중학교')\n",
        "\n",
        "print(Student.get_school())\n",
        "print(s.get_school())"
      ],
      "metadata": {
        "colab": {
          "base_uri": "https://localhost:8080/"
        },
        "id": "BllXYeuU4x01",
        "outputId": "48b5cc1d-c233-4d98-9d4e-07fb051e7d52"
      },
      "execution_count": null,
      "outputs": [
        {
          "output_type": "stream",
          "name": "stdout",
          "text": [
            "고등학교\n",
            "고등학교\n",
            "중학교\n",
            "중학교\n"
          ]
        }
      ]
    },
    {
      "cell_type": "markdown",
      "source": [
        "# 팩토리 메서드"
      ],
      "metadata": {
        "id": "lhGZ3UOF8aVk"
      }
    },
    {
      "cell_type": "code",
      "source": [
        "class Student:\n",
        "  # 클래스 변수\n",
        "  school = '고등학교'\n",
        "  def __init__(self, name, score) -> None:\n",
        "    self.name = name\n",
        "    self.score = score\n",
        "\n",
        "  @classmethod\n",
        "  def get_school(cls, name, score):   # cls는 Student 즉 클래스\n",
        "    return cls(name,score)   # return Student(name, score)\n",
        "\n",
        "  def __str__(self):\n",
        "    return f'이름 : {self.name}, 총점 : {sum(self.score.values())}'\n",
        "\n",
        "s1 = Student('홍길동',{'kor':90, 'eng':100, 'math':95})\n",
        "print(s1)"
      ],
      "metadata": {
        "colab": {
          "base_uri": "https://localhost:8080/"
        },
        "id": "e2BTzULH6Mdl",
        "outputId": "b2151e45-e652-4fa3-e078-11047971dce1"
      },
      "execution_count": null,
      "outputs": [
        {
          "output_type": "stream",
          "name": "stdout",
          "text": [
            "이름 : 홍길동, 총점 : 285\n"
          ]
        }
      ]
    },
    {
      "cell_type": "code",
      "source": [
        "'''\n",
        "@staticmethod : 정적메서드\n",
        "자동으로 self, cls를 받지 않음\n",
        "클래스와 논리적으로 관련 있지만 객체상태나 클래스 변수에 의존하지 않는 유틸리티 함수 같은 개념\n",
        "'''\n",
        "class MyClass:\n",
        "  def __init__(self):\n",
        "    pass\n",
        "\n",
        "  @staticmethod     # 자동으로 self. cls를 받지 않음\n",
        "  def my_method(a,b):\n",
        "    print(a+b)\n",
        "\n",
        "m = MyClass()\n",
        "m.my_method(10,20)"
      ],
      "metadata": {
        "colab": {
          "base_uri": "https://localhost:8080/"
        },
        "id": "J8o7-n8J9Rcz",
        "outputId": "7bafe426-882f-4b10-9e88-b5b56f223399"
      },
      "execution_count": null,
      "outputs": [
        {
          "output_type": "stream",
          "name": "stdout",
          "text": [
            "30\n"
          ]
        }
      ]
    },
    {
      "cell_type": "markdown",
      "source": [
        "\n",
        "\n",
        "```\n",
        "클래스 명세서\n",
        "  이름 : Student\n",
        "  변수 : 클래스 변수 : school\n",
        "         인스턴스 변수 : name\n",
        "  메소드 : 인스턴스 메소드 : get_name 인스턴스 변수 name을 반환\n",
        "          클래스 메소드 : get_school 클래스 변수를 반환\n",
        "          스태틱 메소드 : is_passing  점수가 60보다 크면 True\n",
        "```\n",
        "\n"
      ],
      "metadata": {
        "id": "3wClaZRO_rAp"
      }
    },
    {
      "cell_type": "code",
      "source": [
        "class Student:\n",
        "  school = '고등학교'\n",
        "  def __init__(self, name):\n",
        "    self.name = name\n",
        "\n",
        "  # 인스턴스 메소드 : 인스턴스 변수 반환\n",
        "  def get_name(self):\n",
        "    return self.name\n",
        "\n",
        "  # 클래스 메소드 : 클래스 변수 반환\n",
        "  @classmethod\n",
        "  def get_school(cls):\n",
        "    return cls.school\n",
        "\n",
        "  @staticmethod\n",
        "  def is_passing(score):\n",
        "    return score > 60\n",
        "\n",
        "s=Student('홍길동')\n",
        "print(s.get_name())\n",
        "print(Student.get_school())\n",
        "print(Student.is_passing(90))"
      ],
      "metadata": {
        "colab": {
          "base_uri": "https://localhost:8080/"
        },
        "id": "3diZIhQw-A0z",
        "outputId": "cba4b639-78f2-49d4-b33b-0c4961c4388d"
      },
      "execution_count": null,
      "outputs": [
        {
          "output_type": "stream",
          "name": "stdout",
          "text": [
            "홍길동\n",
            "고등학교\n",
            "True\n"
          ]
        }
      ]
    },
    {
      "cell_type": "code",
      "source": [
        "'''\n",
        "@property\n",
        "  클래스의 속성을 관리하는 데코레이터\n",
        "  getter, setter, deleter 기능을 제공\n",
        "'''\n",
        "class MyClass:\n",
        "  def __init__(self):\n",
        "    print('생성자 호출')\n",
        "    self._value = 0   # _는 클래스 내부에서만 쓰겠다는 약속\n",
        "\n",
        "  @property\n",
        "  def value(self):\n",
        "    print('def value() 호출')\n",
        "    return self._value\n",
        "\n",
        "  @value.setter\n",
        "  def value(self,val):\n",
        "    print(f'def value(val)호출 변수에 할당할 값은 {val}')\n",
        "    self._value = val\n",
        "\n",
        "  @value.deleter\n",
        "  def value(self):\n",
        "    print('def value() 호출')\n",
        "    self._value = None\n",
        "print('객체생성전')\n",
        "m = MyClass()\n",
        "print('객체 생성후')\n",
        "print(m._value)   # 인스턴습 변수 출력\n",
        "print('1--------------')\n",
        "print(m.value)   # 함수가 변수처럼 작동함\n",
        "print('2--------------')\n",
        "m.value = 200   # AttributeError: property 'value' of 'MyClass' object has no setter\n",
        "del m.value"
      ],
      "metadata": {
        "colab": {
          "base_uri": "https://localhost:8080/"
        },
        "id": "G1fOM4TUER9f",
        "outputId": "d58db3a1-1cb5-430c-ea03-f56cce17b919"
      },
      "execution_count": null,
      "outputs": [
        {
          "output_type": "stream",
          "name": "stdout",
          "text": [
            "객체생성전\n",
            "생성자 호출\n",
            "객체 생성후\n",
            "0\n",
            "1--------------\n",
            "def value() 호출\n",
            "0\n",
            "2--------------\n",
            "def value(val)호출 변수에 할당할 값은 200\n",
            "def value() 호출\n"
          ]
        }
      ]
    },
    {
      "cell_type": "code",
      "source": [
        "class Student:\n",
        "  def __init__(self, name, score):\n",
        "    self.name = name\n",
        "    self.score = score\n",
        "\n",
        "  @property                    # 캡슐화 : 외부로 부터 데이터를 보하기 위해서 사용\n",
        "  def average(self):\n",
        "    return round(sum(self.score.values())/len(self.score.keys()) ,2)\n",
        "\n",
        "s1 = Student('홍길동',{'kor':90, 'eng':100, 'math':95})\n",
        "s1.average()   # TypeError: 'float' object is not callable / 즉 함수가 아닌 변수로 인식"
      ],
      "metadata": {
        "colab": {
          "base_uri": "https://localhost:8080/",
          "height": 186
        },
        "id": "t54PnuAUAWsD",
        "outputId": "bb1ebe0f-a9b6-4c15-ce94-3bca829b1283"
      },
      "execution_count": null,
      "outputs": [
        {
          "output_type": "error",
          "ename": "TypeError",
          "evalue": "'float' object is not callable",
          "traceback": [
            "\u001b[0;31m---------------------------------------------------------------------------\u001b[0m",
            "\u001b[0;31mTypeError\u001b[0m                                 Traceback (most recent call last)",
            "\u001b[0;32m<ipython-input-60-328c57b8e483>\u001b[0m in \u001b[0;36m<cell line: 0>\u001b[0;34m()\u001b[0m\n\u001b[1;32m      9\u001b[0m \u001b[0;34m\u001b[0m\u001b[0m\n\u001b[1;32m     10\u001b[0m \u001b[0ms1\u001b[0m \u001b[0;34m=\u001b[0m \u001b[0mStudent\u001b[0m\u001b[0;34m(\u001b[0m\u001b[0;34m'홍길동'\u001b[0m\u001b[0;34m,\u001b[0m\u001b[0;34m{\u001b[0m\u001b[0;34m'kor'\u001b[0m\u001b[0;34m:\u001b[0m\u001b[0;36m90\u001b[0m\u001b[0;34m,\u001b[0m \u001b[0;34m'eng'\u001b[0m\u001b[0;34m:\u001b[0m\u001b[0;36m100\u001b[0m\u001b[0;34m,\u001b[0m \u001b[0;34m'math'\u001b[0m\u001b[0;34m:\u001b[0m\u001b[0;36m95\u001b[0m\u001b[0;34m}\u001b[0m\u001b[0;34m)\u001b[0m\u001b[0;34m\u001b[0m\u001b[0;34m\u001b[0m\u001b[0m\n\u001b[0;32m---> 11\u001b[0;31m \u001b[0ms1\u001b[0m\u001b[0;34m.\u001b[0m\u001b[0maverage\u001b[0m\u001b[0;34m(\u001b[0m\u001b[0;34m)\u001b[0m   \u001b[0;31m# TypeError: 'float' object is not callable / 즉 함수가 아닌 변수로 인식\u001b[0m\u001b[0;34m\u001b[0m\u001b[0;34m\u001b[0m\u001b[0m\n\u001b[0m",
            "\u001b[0;31mTypeError\u001b[0m: 'float' object is not callable"
          ]
        }
      ]
    },
    {
      "cell_type": "code",
      "source": [
        "#  위와 같은 에러\n",
        "num = 25.0\n",
        "print(num() )"
      ],
      "metadata": {
        "id": "zldYU46XJ7Ux"
      },
      "execution_count": null,
      "outputs": []
    },
    {
      "cell_type": "code",
      "source": [
        "class Student:\n",
        "  def __init__(self, name, age):\n",
        "    self.name = name\n",
        "    self._age = age   # 언더바는 property 할거라는 소리와 같음\n",
        "\n",
        "  @property\n",
        "  def age(self):\n",
        "    return self._age\n",
        "\n",
        "  @age.setter\n",
        "  def age(self,value):\n",
        "    if not (0 <= value <= 100):\n",
        "      # 강제로 에러를 발생\n",
        "      raise ValueError('나이는 0~100사이의 값만  가능합니다')   # 경고 메세지를 바꿀 수 있음\n",
        "    self._age = value\n",
        "\n",
        "# 사용\n",
        "s = Student('홍길동',20)\n",
        "print(s.age)\n",
        "s.age = -500\n",
        "print(s.age)"
      ],
      "metadata": {
        "colab": {
          "base_uri": "https://localhost:8080/",
          "height": 354
        },
        "id": "HsJvDZpAJDEm",
        "outputId": "16687aa7-0b9f-4531-aafd-148b778e1710"
      },
      "execution_count": null,
      "outputs": [
        {
          "output_type": "stream",
          "name": "stdout",
          "text": [
            "20\n"
          ]
        },
        {
          "output_type": "error",
          "ename": "ValueError",
          "evalue": "나이는 0~100사이의 값만  가능합니다",
          "traceback": [
            "\u001b[0;31m---------------------------------------------------------------------------\u001b[0m",
            "\u001b[0;31mValueError\u001b[0m                                Traceback (most recent call last)",
            "\u001b[0;32m<ipython-input-70-3d4de44642e4>\u001b[0m in \u001b[0;36m<cell line: 0>\u001b[0;34m()\u001b[0m\n\u001b[1;32m     18\u001b[0m \u001b[0ms\u001b[0m \u001b[0;34m=\u001b[0m \u001b[0mStudent\u001b[0m\u001b[0;34m(\u001b[0m\u001b[0;34m'홍길동'\u001b[0m\u001b[0;34m,\u001b[0m\u001b[0;36m20\u001b[0m\u001b[0;34m)\u001b[0m\u001b[0;34m\u001b[0m\u001b[0;34m\u001b[0m\u001b[0m\n\u001b[1;32m     19\u001b[0m \u001b[0mprint\u001b[0m\u001b[0;34m(\u001b[0m\u001b[0ms\u001b[0m\u001b[0;34m.\u001b[0m\u001b[0mage\u001b[0m\u001b[0;34m)\u001b[0m\u001b[0;34m\u001b[0m\u001b[0;34m\u001b[0m\u001b[0m\n\u001b[0;32m---> 20\u001b[0;31m \u001b[0ms\u001b[0m\u001b[0;34m.\u001b[0m\u001b[0mage\u001b[0m \u001b[0;34m=\u001b[0m \u001b[0;34m-\u001b[0m\u001b[0;36m500\u001b[0m\u001b[0;34m\u001b[0m\u001b[0;34m\u001b[0m\u001b[0m\n\u001b[0m\u001b[1;32m     21\u001b[0m \u001b[0mprint\u001b[0m\u001b[0;34m(\u001b[0m\u001b[0ms\u001b[0m\u001b[0;34m.\u001b[0m\u001b[0mage\u001b[0m\u001b[0;34m)\u001b[0m\u001b[0;34m\u001b[0m\u001b[0;34m\u001b[0m\u001b[0m\n",
            "\u001b[0;32m<ipython-input-70-3d4de44642e4>\u001b[0m in \u001b[0;36mage\u001b[0;34m(self, value)\u001b[0m\n\u001b[1;32m     12\u001b[0m     \u001b[0;32mif\u001b[0m \u001b[0;32mnot\u001b[0m \u001b[0;34m(\u001b[0m\u001b[0;36m0\u001b[0m \u001b[0;34m<=\u001b[0m \u001b[0mvalue\u001b[0m \u001b[0;34m<=\u001b[0m \u001b[0;36m100\u001b[0m\u001b[0;34m)\u001b[0m\u001b[0;34m:\u001b[0m\u001b[0;34m\u001b[0m\u001b[0;34m\u001b[0m\u001b[0m\n\u001b[1;32m     13\u001b[0m       \u001b[0;31m# 강제로 에러를 발생\u001b[0m\u001b[0;34m\u001b[0m\u001b[0;34m\u001b[0m\u001b[0m\n\u001b[0;32m---> 14\u001b[0;31m       \u001b[0;32mraise\u001b[0m \u001b[0mValueError\u001b[0m\u001b[0;34m(\u001b[0m\u001b[0;34m'나이는 0~100사이의 값만  가능합니다'\u001b[0m\u001b[0;34m)\u001b[0m   \u001b[0;31m# 경고 메세지를 바꿀 수 있음\u001b[0m\u001b[0;34m\u001b[0m\u001b[0;34m\u001b[0m\u001b[0m\n\u001b[0m\u001b[1;32m     15\u001b[0m     \u001b[0mself\u001b[0m\u001b[0;34m.\u001b[0m\u001b[0m_age\u001b[0m \u001b[0;34m=\u001b[0m \u001b[0mvalue\u001b[0m\u001b[0;34m\u001b[0m\u001b[0;34m\u001b[0m\u001b[0m\n\u001b[1;32m     16\u001b[0m \u001b[0;34m\u001b[0m\u001b[0m\n",
            "\u001b[0;31mValueError\u001b[0m: 나이는 0~100사이의 값만  가능합니다"
          ]
        }
      ]
    },
    {
      "cell_type": "markdown",
      "source": [
        "# 상속\n",
        "  - 기존클래스(부모클래스)의 속성과 메서드를 새로운 클래스(자식클래스)가 물려받아 사용하는 기법\n",
        "  - 클래스간의 계층적 구조가 성립\n",
        "  "
      ],
      "metadata": {
        "id": "hwUgXDzjR6XV"
      }
    },
    {
      "cell_type": "code",
      "source": [
        "class Pararent:\n",
        "  pass\n",
        "\n",
        "class Child(Pararent):\n",
        "  pass"
      ],
      "metadata": {
        "id": "xuex1ksGMaQ4"
      },
      "execution_count": null,
      "outputs": []
    },
    {
      "cell_type": "markdown",
      "source": [
        "# 상속의 동작 원리\n",
        "  - 속성과 메서드 상속 : 모든 속성과 메서드를 자동으로 물려받음\n",
        "  - 오버라이드(Overriding) : 부모의 메서드를 재정의\n",
        "  - super() : 부모클래스의 메서드나 초기화를 호출 - 부모의 생성자를 호출\n",
        "  - 확장 : 자식클래스에서 새로운 속성/메서드를 추가"
      ],
      "metadata": {
        "id": "hhK53-jWSjRi"
      }
    },
    {
      "cell_type": "code",
      "source": [
        "class Parents:\n",
        "  def __init__(self,name):\n",
        "    self.name = name\n",
        "\n",
        "  def intruduction(self):\n",
        "    print(f'실례합니다.. 저는 {self.name} 입니다')\n",
        "\n",
        "# 상속\n",
        "class Child(Parents):\n",
        "  pass\n",
        "# 객체 생성 각각\n",
        "\n",
        "p = Parents('홍길동')\n",
        "c = Child()   # 상속 받을때는 기본적으로 부모 클래스의 생성자를 호출하고 나서 자식 본인의 생성자를 호출. 즉 부모 클래스는 선행 후 자식 클래스 실행\n",
        "\n",
        "p.intruduction()"
      ],
      "metadata": {
        "colab": {
          "base_uri": "https://localhost:8080/",
          "height": 223
        },
        "id": "LVbpuAUnSYge",
        "outputId": "88eedc10-b4d9-40f3-b175-006ca5233a4c"
      },
      "execution_count": null,
      "outputs": [
        {
          "output_type": "error",
          "ename": "TypeError",
          "evalue": "Parents.__init__() missing 1 required positional argument: 'name'",
          "traceback": [
            "\u001b[0;31m---------------------------------------------------------------------------\u001b[0m",
            "\u001b[0;31mTypeError\u001b[0m                                 Traceback (most recent call last)",
            "\u001b[0;32m<ipython-input-80-8dc59612d51c>\u001b[0m in \u001b[0;36m<cell line: 0>\u001b[0;34m()\u001b[0m\n\u001b[1;32m     12\u001b[0m \u001b[0;34m\u001b[0m\u001b[0m\n\u001b[1;32m     13\u001b[0m \u001b[0mp\u001b[0m \u001b[0;34m=\u001b[0m \u001b[0mParents\u001b[0m\u001b[0;34m(\u001b[0m\u001b[0;34m'홍길동'\u001b[0m\u001b[0;34m)\u001b[0m\u001b[0;34m\u001b[0m\u001b[0;34m\u001b[0m\u001b[0m\n\u001b[0;32m---> 14\u001b[0;31m \u001b[0mc\u001b[0m \u001b[0;34m=\u001b[0m \u001b[0mChild\u001b[0m\u001b[0;34m(\u001b[0m\u001b[0;34m)\u001b[0m\u001b[0;34m\u001b[0m\u001b[0;34m\u001b[0m\u001b[0m\n\u001b[0m\u001b[1;32m     15\u001b[0m \u001b[0;34m\u001b[0m\u001b[0m\n\u001b[1;32m     16\u001b[0m \u001b[0mp\u001b[0m\u001b[0;34m.\u001b[0m\u001b[0mintruduction\u001b[0m\u001b[0;34m(\u001b[0m\u001b[0;34m)\u001b[0m\u001b[0;34m\u001b[0m\u001b[0;34m\u001b[0m\u001b[0m\n",
            "\u001b[0;31mTypeError\u001b[0m: Parents.__init__() missing 1 required positional argument: 'name'"
          ]
        }
      ]
    },
    {
      "cell_type": "code",
      "source": [
        "class Parents:\n",
        "  def __init__(self,name):\n",
        "    self.name = name\n",
        "\n",
        "  def intruduction(self):\n",
        "    print(f'실례합니다.. 저는 {self.name} 입니다')\n",
        "\n",
        "# 상속\n",
        "class Child(Parents):\n",
        "  pass\n",
        "\n",
        "# 객체 생성 각각\n",
        "p = Parents('홍길동')\n",
        "c = Child('고길동')   # 객체를 생성할 때.. 값을 주면 해당 형태로 부모 생성자를 호출함\n",
        "\n",
        "p.intruduction()\n",
        "c.intruduction()   # 부모 클래스를 선행 했기 때문에 부모 클래스의 함수를 실행 가능"
      ],
      "metadata": {
        "id": "PdFJpb-dW-7M"
      },
      "execution_count": null,
      "outputs": []
    },
    {
      "cell_type": "code",
      "source": [
        "class Parents:\n",
        "  def __init__(self,name):\n",
        "    self.name = name\n",
        "\n",
        "  def intruduction(self):\n",
        "    print(f'실례합니다.. 저는 {self.name} 입니다')\n",
        "\n",
        "# 상속\n",
        "class Child(Parents):\n",
        "  # def __init__(self):\n",
        "  #   super().__init__('홍길동')\n",
        "  def introduce(self):                # 부모 클래스의 함수명가 같지만 재정 => 오버라이드\n",
        "    print(f'안녕 나는 {self.name}야')\n",
        "\n",
        "# 객체 생성 각각\n",
        "p = Parents('홍길동')\n",
        "c = Child('고길동')\n",
        "\n",
        "p.intruduction()\n",
        "c.intruduction()"
      ],
      "metadata": {
        "colab": {
          "base_uri": "https://localhost:8080/"
        },
        "id": "h1MUj8VkUTdT",
        "outputId": "ebb4c4cd-cbce-480e-9d57-51701d710a0d"
      },
      "execution_count": null,
      "outputs": [
        {
          "output_type": "stream",
          "name": "stdout",
          "text": [
            "실례합니다.. 저는 홍길동 입니다\n",
            "실례합니다.. 저는 고길동 입니다\n"
          ]
        }
      ]
    },
    {
      "cell_type": "code",
      "source": [
        "class Parents:\n",
        "  def __init__(self,name):\n",
        "    self.name = name\n",
        "\n",
        "  def intruduction(self):\n",
        "    print(f'실례합니다.. 저는 {self.name} 입니다')\n",
        "\n",
        "# 상속\n",
        "class Child(Parents):\n",
        "  def __init__(self):\n",
        "    super().__init__('홍길동')  # 부모의 생성자를 호출\n",
        "\n",
        "\n",
        "# 객체 생성 각각\n",
        "p = Parents('홍길동')\n",
        "c = Child()\n",
        "\n",
        "p.intruduction()\n",
        "c.intruduction()"
      ],
      "metadata": {
        "colab": {
          "base_uri": "https://localhost:8080/"
        },
        "id": "6qmkauRdWHa7",
        "outputId": "1d896d6b-10e6-4e33-9571-102ba21d331e"
      },
      "execution_count": null,
      "outputs": [
        {
          "output_type": "stream",
          "name": "stdout",
          "text": [
            "실례합니다.. 저는 홍길동 입니다\n",
            "실례합니다.. 저는 홍길동 입니다\n"
          ]
        }
      ]
    },
    {
      "cell_type": "markdown",
      "source": [
        "# 클래스 변수 상속 가능"
      ],
      "metadata": {
        "id": "WQDFWMUwYMNA"
      }
    },
    {
      "cell_type": "code",
      "source": [
        "class Person:\n",
        "  region ='한국'\n",
        "  def __init__(self, name):\n",
        "    self.name = name\n",
        "\n",
        "class Student(Person):\n",
        "  school = '한국어 학교'\n",
        "\n",
        "# 사용\n",
        "p = Person('홍길동')\n",
        "s = Student('이순신')\n",
        "print(p.region)   # 자신의 클래스변수 접근\n",
        "print(s.region)   # 상속받은 자식이 부모클래스의 클래스변수 접근\n",
        "print(s.school)   # 자신의 클래스변수 접근"
      ],
      "metadata": {
        "colab": {
          "base_uri": "https://localhost:8080/"
        },
        "id": "Y5mpOdsUYL4O",
        "outputId": "9c700e4a-3a87-4bd0-b99d-43d69435ecfe"
      },
      "execution_count": null,
      "outputs": [
        {
          "output_type": "stream",
          "name": "stdout",
          "text": [
            "한국\n",
            "한국\n",
            "한국어 학교\n"
          ]
        }
      ]
    },
    {
      "cell_type": "markdown",
      "source": [
        "# 다중상속은 금지해 왔음. 그러나 파이썬은 허용"
      ],
      "metadata": {
        "id": "59U_xVAlY6lb"
      }
    },
    {
      "cell_type": "code",
      "source": [
        "class A:\n",
        "  def A_method(self):\n",
        "    print('A_method')\n",
        "\n",
        "class B:\n",
        "  def  B_method(self):\n",
        "    print('B_method')\n",
        "\n",
        "class AB(A, B):\n",
        "  def  AB_method(self):\n",
        "    print('AB_method')\n",
        "\n",
        "# A와 B 본인인 AB 까지 다 사용가능\n",
        "ab = AB()\n",
        "ab.A_method()\n",
        "ab.B_method()\n",
        "ab.AB_method()"
      ],
      "metadata": {
        "colab": {
          "base_uri": "https://localhost:8080/"
        },
        "id": "McHz6taLYl7O",
        "outputId": "fab0c86e-8a03-4d34-ca41-80b4ed651430"
      },
      "execution_count": null,
      "outputs": [
        {
          "output_type": "stream",
          "name": "stdout",
          "text": [
            "A_method\n",
            "B_method\n",
            "AB_method\n"
          ]
        }
      ]
    },
    {
      "cell_type": "code",
      "source": [
        "class A:\n",
        "  def show(self):\n",
        "    print('A_method')\n",
        "\n",
        "class B:\n",
        "  def  show(self):\n",
        "    print('B_method')\n",
        "\n",
        "class AB(A, B):\n",
        "  def  show(self):\n",
        "    print('AB_method')\n",
        "\n",
        "ab = AB()\n",
        "ab.show()\n",
        "print(AB.__mro__)   # mro 다중 상속시 의미가 중복될때.. 실행 순서 즉 탐색 순서 / 기본적으로 자기 자신 다음 상속받은 순서로 우선순위가 높음ㅁ"
      ],
      "metadata": {
        "colab": {
          "base_uri": "https://localhost:8080/"
        },
        "id": "Q49_md23Z8VF",
        "outputId": "d842e87e-498f-4807-8cb7-8bb1f493de9f"
      },
      "execution_count": null,
      "outputs": [
        {
          "output_type": "stream",
          "name": "stdout",
          "text": [
            "AB_method\n",
            "(<class '__main__.AB'>, <class '__main__.A'>, <class '__main__.B'>, <class 'object'>)\n"
          ]
        }
      ]
    },
    {
      "cell_type": "markdown",
      "source": [
        "# 학생관리 프로그램\n",
        "  - 1. 기본클래스와 인스턴스변수\n",
        "  - 2. 딕셔너리 점수 관리\n",
        "  - 3. 상속기능\n",
        "  - 4. @property 속성제어\n",
        "  - 5. 클래스변수와 @classmethod\n",
        "  - 6. @staticmethod, 유효성 검사\n",
        "  - 7. 키워드 가변 매개변수 packing / unpacking\n",
        "  - 8. 리스트 컴프리헨션, 데코레이터 추가"
      ],
      "metadata": {
        "id": "BaH3FntkewNa"
      }
    },
    {
      "cell_type": "code",
      "source": [
        "# 1. 기본클래스와 인스턴스변수\n",
        "class Person:\n",
        "  def __init__(self, name, age):\n",
        "    self.name = name\n",
        "    self.age = age\n",
        "  def __str__(self):\n",
        "    return f'이름 : {self.name}, 나이 : {self.age}'\n",
        "\n",
        "s = Person('홍길동', 20)\n",
        "print(s)"
      ],
      "metadata": {
        "colab": {
          "base_uri": "https://localhost:8080/"
        },
        "id": "ToTJckoqaiUd",
        "outputId": "6025809e-ab67-4476-f3a0-98dfca94d247"
      },
      "execution_count": null,
      "outputs": [
        {
          "output_type": "stream",
          "name": "stdout",
          "text": [
            "이름 : 홍길동, 나이 : 20\n"
          ]
        }
      ]
    },
    {
      "cell_type": "code",
      "source": [
        "# 2 딕셔너리 점수관리 score = {}\n",
        "class Person:\n",
        "  def __init__(self,name,age,score) -> None:\n",
        "    self.name = name\n",
        "    self.age = age\n",
        "    self.score = score\n",
        "  def get_average(self):\n",
        "    return sum(self.score.values()) / len(self.score)\n",
        "  def __str__(self) -> str:\n",
        "    return f'이름 : {self.name}  나이 : {self.age} 평균 : {self.get_average():.2f}'\n",
        "\n",
        "s = Person('홍길동',20,{'kor':97,'eng':82,'math':95})\n",
        "print(s)"
      ],
      "metadata": {
        "colab": {
          "base_uri": "https://localhost:8080/"
        },
        "id": "TBoIcq9hfvf4",
        "outputId": "ac9e1174-dbb1-4c7b-9931-8b1167f95b37"
      },
      "execution_count": null,
      "outputs": [
        {
          "output_type": "stream",
          "name": "stdout",
          "text": [
            "이름 : 홍길동  나이 : 20 평균 : 91.33\n"
          ]
        }
      ]
    },
    {
      "cell_type": "code",
      "source": [
        "# 3. 상속기능\n",
        "class Person:\n",
        "  def __init__(self,name,age) -> None:\n",
        "    self.name = name\n",
        "    self.age = age\n",
        "\n",
        "class Student(Person):\n",
        "  def __init__(self,name,age,score) -> None:\n",
        "    super().__init__(name,age)  # 부모클래스 생성자를통해 필요한 데이터를 초기화\n",
        "    self.score = score\n",
        "\n",
        "  def get_average(self):\n",
        "    return sum(self.score.values()) / len(self.score)\n",
        "\n",
        "  def __str__(self) -> str:\n",
        "    return f'이름 : {self.name}  나이 : {self.age} 평균 : {self.get_average():.2f}'\n",
        "\n",
        "s = Student('홍길동',20,{'kor':97,'eng':82,'math':95})\n",
        "print(s)"
      ],
      "metadata": {
        "colab": {
          "base_uri": "https://localhost:8080/"
        },
        "id": "3jr12b-ngR04",
        "outputId": "20bd3436-cbc4-408c-8e2a-97a607d3dc2a"
      },
      "execution_count": null,
      "outputs": [
        {
          "output_type": "stream",
          "name": "stdout",
          "text": [
            "이름 : 홍길동  나이 : 20 평균 : 91.33\n"
          ]
        }
      ]
    },
    {
      "cell_type": "code",
      "source": [
        "# 4. property 캡슐화\n",
        "class Person:\n",
        "  def __init__(self,name,age) -> None:\n",
        "    self.name = name\n",
        "    self.age = age\n",
        "\n",
        "  @property\n",
        "  def age(self):\n",
        "    return self._age\n",
        "\n",
        "  @age.setter   # 함수를 변수처럼 외부에서 사용... 함수내부에서 실제 변수를 보호\n",
        "  def age(self, value):\n",
        "    if not (0 <= value <= 100):\n",
        "      raise ValueError('나이는 0~100 사이의 값만 가능합니다')\n",
        "    self._age = value\n",
        "\n",
        "class Student(Person):\n",
        "  def __init__(self,name,age,score) -> None:\n",
        "    super().__init__(name,age)  # 부모클래스 생성자를통해 필요한 데이터를 초기화\n",
        "    self.score = score\n",
        "\n",
        "  @property\n",
        "  def average(self):\n",
        "    return round(sum(self.score.values()) / len(self.score),2)\n",
        "\n",
        "  def __str__(self) -> str:\n",
        "    return f'이름 : {self.name}  나이 : {self.age} 평균 : {self.average:}'\n",
        "\n",
        "s = Student('홍길동',20,{'kor':97,'eng':82,'math':95})\n",
        "print(s)\n",
        "s.age = 25\n",
        "print(s)"
      ],
      "metadata": {
        "colab": {
          "base_uri": "https://localhost:8080/"
        },
        "id": "1hFDIAGLg0uM",
        "outputId": "9d190ba6-0d2c-4e8e-c561-362e52855563"
      },
      "execution_count": null,
      "outputs": [
        {
          "output_type": "stream",
          "name": "stdout",
          "text": [
            "이름 : 홍길동  나이 : 20 평균 : 91.33\n",
            "이름 : 홍길동  나이 : 25 평균 : 91.33\n"
          ]
        }
      ]
    },
    {
      "cell_type": "code",
      "source": [
        "# 5. class변수\n",
        "class Person:\n",
        "  def __init__(self,name,age) -> None:\n",
        "    self.name = name\n",
        "    self.age = age\n",
        "\n",
        "  @property\n",
        "  def age(self):\n",
        "    return self._age\n",
        "\n",
        "  @age.setter   # 함수를 변수처럼 외부에서 사용... 함수내부에서 실제 변수를 보호\n",
        "  def age(self, value):\n",
        "    if not (0 <= value <= 100):\n",
        "      raise ValueError('나이는 0~100 사이의 값만 가능합니다')\n",
        "    self._age = value\n",
        "\n",
        "class Student(Person):\n",
        "  total_student = 0\n",
        "  all_scores = []\n",
        "  def __init__(self,name,age,score) -> None:\n",
        "    super().__init__(name,age)  # 부모클래스 생성자를통해 필요한 데이터를 초기화\n",
        "    self.score = score\n",
        "    Student.total_student += 1\n",
        "    Student.all_scores.append(score)\n",
        "\n",
        "  @classmethod\n",
        "  def get_class_averge(cls):\n",
        "    if not cls.all_scores:\n",
        "      return 0\n",
        "    total = sum(sum(scores.values()) for scores in cls.all_scores)\n",
        "    subject_count = sum(len(scores) for scores in cls.all_scores)\n",
        "    return total/ subject_count\n",
        "\n",
        "  @property\n",
        "  def average(self):\n",
        "    return round(sum(self.score.values()) / len(self.score),2)\n",
        "  def __str__(self) -> str:\n",
        "    return f'이름 : {self.name}  나이 : {self.age} 평균 : {self.average:}'\n",
        "\n",
        "s1 = Student('홍길동',20,{'kor':87,'eng':76,'math':90})\n",
        "s2 = Student('이순신',22,{'kor':91,'eng':89,'math':91})\n",
        "s3 = Student('강감찬',27,{'kor':79,'eng':85,'math':92})\n",
        "\n",
        "print(f'총 학생수 : {Student.total_student}')\n",
        "print(f'학습 평균 : {Student.get_class_averge()}')\n",
        "print(s1)\n",
        "print(s2)\n",
        "print(s3)"
      ],
      "metadata": {
        "colab": {
          "base_uri": "https://localhost:8080/"
        },
        "id": "YuhVI-7FihsQ",
        "outputId": "93bcb929-f937-447c-ef0e-654ad44d5481"
      },
      "execution_count": null,
      "outputs": [
        {
          "output_type": "stream",
          "name": "stdout",
          "text": [
            "총 학생수 : 3\n",
            "학습 평균 : 86.66666666666667\n",
            "이름 : 홍길동  나이 : 20 평균 : 84.33\n",
            "이름 : 이순신  나이 : 22 평균 : 90.33\n",
            "이름 : 강감찬  나이 : 27 평균 : 85.33\n"
          ]
        }
      ]
    }
  ]
}