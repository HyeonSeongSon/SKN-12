{
  "cells": [
    {
      "cell_type": "code",
      "execution_count": null,
      "id": "58340218-ed53-4d80-9723-73a0c52eea6a",
      "metadata": {
        "id": "58340218-ed53-4d80-9723-73a0c52eea6a",
        "outputId": "d453da7d-9c96-4ff8-bee6-75f2bdd34d82"
      },
      "outputs": [
        {
          "name": "stdout",
          "output_type": "stream",
          "text": [
            "Requirement already satisfied: mysql-connector-python in c:\\users\\playdata\\miniconda3\\lib\\site-packages (9.2.0)\n"
          ]
        }
      ],
      "source": [
        "\n",
        "# myslq 패키지 install\n",
        "!pip install mysql-connector-python -q"
      ]
    },
    {
      "cell_type": "code",
      "execution_count": null,
      "id": "5d49ce67-c55d-4c19-bcf9-a9e4d405ecde",
      "metadata": {
        "id": "5d49ce67-c55d-4c19-bcf9-a9e4d405ecde",
        "outputId": "16605648-8193-4c62-eec7-4a1e99df420a"
      },
      "outputs": [
        {
          "name": "stdout",
          "output_type": "stream",
          "text": [
            "9.2.0\n"
          ]
        }
      ],
      "source": [
        "from mysql import connector\n",
        "print(connector.__version__)"
      ]
    },
    {
      "cell_type": "code",
      "execution_count": null,
      "id": "3acdda02-963f-483a-8233-a722db274815",
      "metadata": {
        "id": "3acdda02-963f-483a-8233-a722db274815",
        "outputId": "fc6eec60-70d1-4eb3-aea2-3777b5ea83c2"
      },
      "outputs": [
        {
          "name": "stdout",
          "output_type": "stream",
          "text": [
            "DB success connection\n"
          ]
        }
      ],
      "source": [
        "args = {\n",
        "      'host' : 'localhost',\n",
        "      'user' : 'root',\n",
        "      'password' : 'root1234',\n",
        "      'port' : 3306\n",
        "}\n",
        "\n",
        "try:\n",
        "    conn = connector.connect(**args)   # localhost에 접속 해서 접속 객체를 생성\n",
        "    cursor = conn.cursor() # 실제 db에 명령을 전달(sql)\n",
        "    print('DB success connection')\n",
        "    cursor.execute('select * from world.city limit 10')\n",
        "    # print(cursor.fetchall())   # sql 명령어을 통해 조회한 데이터를 객체로 가져옴\n",
        "    result = []\n",
        "    for id,name,countycode,district,population in cursor.fetchall():\n",
        "        res = {'id':id, 'name':name, 'ct':countycode, 'dt':district, 'pp':population}\n",
        "        result.append(res)\n",
        "except Exception as e:\n",
        "    print(e)\n",
        "finally:\n",
        "    if conn:\n",
        "        conn.close()"
      ]
    },
    {
      "cell_type": "code",
      "execution_count": null,
      "id": "4fab5140-4bba-4fdf-abb0-508b0a1342f9",
      "metadata": {
        "id": "4fab5140-4bba-4fdf-abb0-508b0a1342f9",
        "outputId": "be52cd1f-5409-4947-c3c0-3bf136548f7a"
      },
      "outputs": [
        {
          "name": "stdout",
          "output_type": "stream",
          "text": [
            "DB success connection\n",
            "students 테이블 생성완료\n",
            "테이블 구조 : [('id', 'int', 'NO', 'PRI', None, 'auto_increment'), ('name', 'varchar(100)', 'NO', '', None, ''), ('age', 'int', 'NO', '', None, ''), ('scores', 'json', 'YES', '', None, '')]\n",
            "[{'id': 1, 'name': 'Kabul', 'ct': 'AFG', 'dt': 'Kabol', 'pp': 1780000}, {'id': 2, 'name': 'Qandahar', 'ct': 'AFG', 'dt': 'Qandahar', 'pp': 237500}, {'id': 3, 'name': 'Herat', 'ct': 'AFG', 'dt': 'Herat', 'pp': 186800}, {'id': 4, 'name': 'Mazar-e-Sharif', 'ct': 'AFG', 'dt': 'Balkh', 'pp': 127800}, {'id': 5, 'name': 'Amsterdam', 'ct': 'NLD', 'dt': 'Noord-Holland', 'pp': 731200}, {'id': 6, 'name': 'Rotterdam', 'ct': 'NLD', 'dt': 'Zuid-Holland', 'pp': 593321}, {'id': 7, 'name': 'Haag', 'ct': 'NLD', 'dt': 'Zuid-Holland', 'pp': 440900}, {'id': 8, 'name': 'Utrecht', 'ct': 'NLD', 'dt': 'Utrecht', 'pp': 234323}, {'id': 9, 'name': 'Eindhoven', 'ct': 'NLD', 'dt': 'Noord-Brabant', 'pp': 201843}, {'id': 10, 'name': 'Tilburg', 'ct': 'NLD', 'dt': 'Noord-Brabant', 'pp': 193238}]\n"
          ]
        }
      ],
      "source": [
        "# table 생성\n",
        "args = {\n",
        "    'host' : 'localhost',\n",
        "    'user' : 'root',\n",
        "    'password' : 'root1234',\n",
        "    'port' : 3306,\n",
        "    # 'database' : 'student_db'   # 접속할 때 활성화할 db(스키마)명\n",
        "}\n",
        "\n",
        "try:\n",
        "    conn = connector.connect(**args)   # localhost에 접속 해서 접속 객체를 생성\n",
        "    cursor = conn.cursor() # 실제 db에 명령을 전달(sql)\n",
        "    print('DB success connection')\n",
        "    # db 생성\n",
        "    cursor.execute('create database if not exists student_db')   # 미리 생성해야 파이썬에서 스키마 생성됨\n",
        "    cursor.execute('use student_db')\n",
        "    cursor.execute(\n",
        "        '''\n",
        "        create table if not exists student_db.students(\n",
        "    \tid int auto_increment primary key,\n",
        "        name varchar(100) not null,\n",
        "        age int not null,\n",
        "        scores json\n",
        "        )\n",
        "        '''\n",
        "    )\n",
        "    print('students 테이블 생성완료')\n",
        "    # 테이블 구조 확인\n",
        "    cursor.execute('desc students');\n",
        "    print(f'테이블 구조 : {cursor.fetchall()}')\n",
        "    conn.commit()\n",
        "except Exception as e:\n",
        "    print(e)\n",
        "finally:\n",
        "    if conn:              # 생성의 역순으로 닫아야함\n",
        "        cursor.close()\n",
        "        conn.close()\n",
        "\n",
        "print(result)"
      ]
    },
    {
      "cell_type": "code",
      "execution_count": null,
      "id": "440d1ef8-54f8-41f7-9adf-14fc88c1c686",
      "metadata": {
        "id": "440d1ef8-54f8-41f7-9adf-14fc88c1c686"
      },
      "outputs": [],
      "source": [
        "# 학생 테이블에서 대해서 CRUD 구현\n",
        "# 추가기능\n",
        "\n",
        "# table 생성\n",
        "args = {\n",
        "    'host' : 'localhost',\n",
        "    'user' : 'root',\n",
        "    'password' : 'root1234',\n",
        "    'port' : 3306,\n",
        "    'database' : 'student_db'   # 접속할 때 활성화할 db(스키마)명\n",
        "}\n",
        "\n",
        "# DB 접속 함수\n",
        "# 파라미터 : 접속정보\n",
        "# 리턴값 : 접속객체\n",
        "\n",
        "def get_connection(args):\n",
        "    return connector.connect(**args)   # localhost에 접속 해서 접속 객체를 생성\n",
        "\n",
        "import json\n",
        "def add_student(name, age, scores):\n",
        "    conn = None  # Initialize conn to None\n",
        "    curson = None\n",
        "    try:\n",
        "        conn = connector.connect(**args)  # Unpack args dictionary\n",
        "        cursor = conn.cursor()\n",
        "        query = f'insert into student_db.students(name, age, scores) values(%s, %s, %s)'\n",
        "        cursor.execute(query, (name, age, json.dumps(scores)))\n",
        "        conn.commit()\n",
        "        return True\n",
        "    except Exception as e:\n",
        "        print(e)\n",
        "        return True\n",
        "    finally:\n",
        "        if conn:\n",
        "            cursor.close()\n",
        "            conn.close()"
      ]
    },
    {
      "cell_type": "code",
      "execution_count": null,
      "id": "28480660-ccb0-46b0-b647-dfc41574121c",
      "metadata": {
        "id": "28480660-ccb0-46b0-b647-dfc41574121c",
        "outputId": "1cee1a36-7b0e-4604-ee12-a8bca1b74539"
      },
      "outputs": [
        {
          "data": {
            "text/plain": [
              "True"
            ]
          },
          "execution_count": 8,
          "metadata": {},
          "output_type": "execute_result"
        }
      ],
      "source": [
        "get_connection(args)\n",
        "add_student('이성계', 25, {'kor':95,'eng':95,'math':100})"
      ]
    },
    {
      "cell_type": "code",
      "execution_count": null,
      "id": "166abb40-a44d-4908-88b6-7a81bad453a0",
      "metadata": {
        "id": "166abb40-a44d-4908-88b6-7a81bad453a0"
      },
      "outputs": [],
      "source": [
        "# 학생 정보 조회\n",
        "def get_student(name = None):\n",
        "    '''\n",
        "    parameter : name은 기본값이 None , 원하는 이름으로 조회\n",
        "    return : 성공 = 조회결과, 실패 = False\n",
        "    '''\n",
        "    conn = None\n",
        "    cursor = None\n",
        "    try:\n",
        "        conn = get_connection(args)   # 접속\n",
        "        cursor = conn.cursor()        # 쿼리실행 객체\n",
        "        query = \"select * from students\"   # 쿼리 문장\n",
        "        if name:\n",
        "            query = f\"select * from students where name = '{name}'\"\n",
        "        cursor.execute(query)   # 쿼리 실행\n",
        "        students = cursor.fetchall()       # 실행 한 쿼리의 리턴값(없으면 None)\n",
        "        return students\n",
        "    except Exception as e:\n",
        "        print(e)\n",
        "        return True\n",
        "    finally:\n",
        "        if conn:\n",
        "            cursor.close()\n",
        "            conn.close()"
      ]
    },
    {
      "cell_type": "code",
      "execution_count": null,
      "id": "9c67e6f9-1203-49ed-953c-d8e4a3ba3824",
      "metadata": {
        "id": "9c67e6f9-1203-49ed-953c-d8e4a3ba3824",
        "outputId": "8ab6b82e-aaec-4b28-b20b-50723312a4fc"
      },
      "outputs": [
        {
          "data": {
            "text/plain": [
              "[(1, '이성계', 25, '{\"eng\": 95, \"kor\": 95, \"math\": 100}'),\n",
              " (3, '이성계', 25, '{\"eng\": 95, \"kor\": 95, \"math\": 100}')]"
            ]
          },
          "execution_count": 22,
          "metadata": {},
          "output_type": "execute_result"
        }
      ],
      "source": [
        "get_student('이성계')"
      ]
    },
    {
      "cell_type": "code",
      "execution_count": null,
      "id": "f1551e6d-e88d-4715-aa47-374674f59e1a",
      "metadata": {
        "id": "f1551e6d-e88d-4715-aa47-374674f59e1a"
      },
      "outputs": [],
      "source": [
        "def update_student(id, name=None, age=None, scores=None):\n",
        "    '''\n",
        "    update 테이블명 set 컬럼명=변경될값, 컬럼명=변경될 값 where 조건컬럼 =조건값\n",
        "\n",
        "    parameter : name은 기본값이 None , 원하는 값만 업데이트\n",
        "    return : 성공 = 조회결과, 실패 = False\n",
        "    '''\n",
        "    conn = None\n",
        "    cursor = None\n",
        "    updates, params = [],[]\n",
        "    try:\n",
        "        conn = get_connection(args)   # 접속\n",
        "        cursor = conn.cursor()        # 쿼리실행 객체\n",
        "        if name:\n",
        "            updates.append(\"name = %s\")\n",
        "            params.append(name)\n",
        "        if age:\n",
        "            updates.append(\"age = %s\")\n",
        "            params.append(age)\n",
        "        if scores:\n",
        "            updates.append('scores = %s')\n",
        "            params.append(json.dumps(scores))\n",
        "        merged = ','.join(updates)\n",
        "        query = \"update * from students set\"\n",
        "        query = f'update students set {','.join(updates)} where id ={id}' # 쿼리 문장\n",
        "        print(query)   # 디버깅용\n",
        "        print(params)\n",
        "        cursor.execute(query, params)   # 쿼리 실행\n",
        "        conn.commit()   # 실제 db에 반영\n",
        "        return True\n",
        "    except Exception as e:\n",
        "        print(e)\n",
        "        return True\n",
        "    finally:\n",
        "        if conn:\n",
        "            cursor.close()\n",
        "            conn.close()"
      ]
    },
    {
      "cell_type": "code",
      "execution_count": null,
      "id": "f6eb4127-7627-4115-8d0f-ec004e86bbe7",
      "metadata": {
        "id": "f6eb4127-7627-4115-8d0f-ec004e86bbe7",
        "outputId": "7e017b47-51c1-4c3e-f447-70b1dad3aafc"
      },
      "outputs": [
        {
          "name": "stdout",
          "output_type": "stream",
          "text": [
            "update students set name = %s,age = %s,scores = %s where id =1\n",
            "['장보고', 40, '{\"eng\": 70, \"kor\": 90, \"math\": 80}']\n"
          ]
        },
        {
          "data": {
            "text/plain": [
              "True"
            ]
          },
          "execution_count": 25,
          "metadata": {},
          "output_type": "execute_result"
        }
      ],
      "source": [
        "update_student(1, name='장보고', age=40, scores={\"eng\": 70, \"kor\":90, \"math\":80 })"
      ]
    },
    {
      "cell_type": "code",
      "execution_count": null,
      "id": "a3a3138f-509c-498d-a5b0-172ff27db9f9",
      "metadata": {
        "id": "a3a3138f-509c-498d-a5b0-172ff27db9f9"
      },
      "outputs": [],
      "source": [
        "# 삭제\n",
        "query= 'delete from students where id = %s'\n",
        "def delete_student(student_id:list):\n",
        "    conn,cursor = None,None\n",
        "    try:\n",
        "        conn = get_connection(args)\n",
        "        cursor = conn.cursor()\n",
        "        cursor.execute('delete from students where id = %s',student_id)\n",
        "        conn.commit()\n",
        "        print('삭제완료')\n",
        "    except Exception as e:\n",
        "        print(f'삭제오류 : {e}')\n",
        "        return False\n",
        "    finally:\n",
        "        if conn:\n",
        "            cursor.close()\n",
        "            conn.close()"
      ]
    },
    {
      "cell_type": "code",
      "execution_count": null,
      "id": "60b2423f-48e2-47a2-80ac-425ae05c7e18",
      "metadata": {
        "id": "60b2423f-48e2-47a2-80ac-425ae05c7e18",
        "outputId": "5a65d163-c8b2-48e9-fb56-d180013ba76d"
      },
      "outputs": [
        {
          "name": "stdout",
          "output_type": "stream",
          "text": [
            "삭제완료\n"
          ]
        }
      ],
      "source": [
        "delete_student([2])"
      ]
    },
    {
      "cell_type": "markdown",
      "id": "3ccb9e68-2ee6-412b-95f7-d63332c4b86a",
      "metadata": {
        "id": "3ccb9e68-2ee6-412b-95f7-d63332c4b86a"
      },
      "source": [
        "# 정리"
      ]
    },
    {
      "cell_type": "raw",
      "id": "f9114f0b-9203-4d50-ad71-b0ab95807a53",
      "metadata": {
        "id": "f9114f0b-9203-4d50-ad71-b0ab95807a53"
      },
      "source": [
        "```\n",
        "데이터 베이스\n",
        "    - 데이터를 효율적으로 저장하기 위한 수당\n",
        "    - 쿼리 : 데이터베이스 언어를 사용하기위한 명령어 - 질의어\n",
        "        - select\n",
        "            select 컬컬명, 컬럼명,.... from 테이블 [where 컬럼명 = 값]\n",
        "        - update\n",
        "            update 테이블 set 컬럼명=값, 컬럼명=값,.... [where 컬럼명 = 값]\n",
        "            ex) update students set name = 'XXX'. age = 5, where id = 1\n",
        "        - insert\n",
        "            insert into 테이블 values(값,값,값)\n",
        "        - delete\n",
        "            delete from 테이블 [where 컬럼명 = 값]\n",
        "            ex) delete students where id = 1\n",
        "```\n",
        "\n",
        "\n",
        "\n"
      ]
    },
    {
      "cell_type": "raw",
      "id": "888141d4-5ec0-4819-bbf9-b5206ebdf8a3",
      "metadata": {
        "id": "888141d4-5ec0-4819-bbf9-b5206ebdf8a3"
      },
      "source": [
        "```\n",
        "파이썬 연결\n",
        "    1.\n",
        "    연결객체가 필요 (install)\n",
        "    접속정보를 이용해서 연결 객체 생성\n",
        "    연결객체를 통해 커서 객체 생성\n",
        "\n",
        "    2.\n",
        "    CRUD\n",
        "        쿼리작성\n",
        "        작성한 쿼리를 커서를 통해 execute\n",
        "        select와 같이 결과를 리턴하는 쿼리는 커서.fetchall()실행해서 가져온다\n",
        "        작업이 다 끝나면 실제 DB에 반영 - 연결객체.commit()\n",
        "    DB작업이 끝나면\n",
        "        cursor.close()\n",
        "        connector.connect.close()\n",
        "```"
      ]
    }
  ],
  "metadata": {
    "kernelspec": {
      "display_name": "Python 3 (ipykernel)",
      "language": "python",
      "name": "python3"
    },
    "language_info": {
      "codemirror_mode": {
        "name": "ipython",
        "version": 3
      },
      "file_extension": ".py",
      "mimetype": "text/x-python",
      "name": "python",
      "nbconvert_exporter": "python",
      "pygments_lexer": "ipython3",
      "version": "3.12.9"
    },
    "colab": {
      "provenance": []
    }
  },
  "nbformat": 4,
  "nbformat_minor": 5
}