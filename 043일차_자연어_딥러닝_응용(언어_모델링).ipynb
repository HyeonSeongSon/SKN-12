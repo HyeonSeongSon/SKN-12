{
  "nbformat": 4,
  "nbformat_minor": 0,
  "metadata": {
    "colab": {
      "provenance": [],
      "gpuType": "T4"
    },
    "kernelspec": {
      "name": "python3",
      "display_name": "Python 3"
    },
    "language_info": {
      "name": "python"
    },
    "widgets": {
      "application/vnd.jupyter.widget-state+json": {
        "237d9bbda1a2438b8964a0cf283e5ff3": {
          "model_module": "@jupyter-widgets/controls",
          "model_name": "HBoxModel",
          "model_module_version": "1.5.0",
          "state": {
            "_dom_classes": [],
            "_model_module": "@jupyter-widgets/controls",
            "_model_module_version": "1.5.0",
            "_model_name": "HBoxModel",
            "_view_count": null,
            "_view_module": "@jupyter-widgets/controls",
            "_view_module_version": "1.5.0",
            "_view_name": "HBoxView",
            "box_style": "",
            "children": [
              "IPY_MODEL_67be02c241654530806cbac284abf19e",
              "IPY_MODEL_a03a5dafee554f6d895e2954fd67f2bc",
              "IPY_MODEL_f4d853a75a4d498a965db6306ca456d0"
            ],
            "layout": "IPY_MODEL_9082f3c2ccff441a81c082a18087bf76"
          }
        },
        "67be02c241654530806cbac284abf19e": {
          "model_module": "@jupyter-widgets/controls",
          "model_name": "HTMLModel",
          "model_module_version": "1.5.0",
          "state": {
            "_dom_classes": [],
            "_model_module": "@jupyter-widgets/controls",
            "_model_module_version": "1.5.0",
            "_model_name": "HTMLModel",
            "_view_count": null,
            "_view_module": "@jupyter-widgets/controls",
            "_view_module_version": "1.5.0",
            "_view_name": "HTMLView",
            "description": "",
            "description_tooltip": null,
            "layout": "IPY_MODEL_48adfd03abb945909342adc5c3cf84c8",
            "placeholder": "​",
            "style": "IPY_MODEL_261a4925b3654984ad78a34d54210ae5",
            "value": "Downloading builder script: 100%"
          }
        },
        "a03a5dafee554f6d895e2954fd67f2bc": {
          "model_module": "@jupyter-widgets/controls",
          "model_name": "FloatProgressModel",
          "model_module_version": "1.5.0",
          "state": {
            "_dom_classes": [],
            "_model_module": "@jupyter-widgets/controls",
            "_model_module_version": "1.5.0",
            "_model_name": "FloatProgressModel",
            "_view_count": null,
            "_view_module": "@jupyter-widgets/controls",
            "_view_module_version": "1.5.0",
            "_view_name": "ProgressView",
            "bar_style": "success",
            "description": "",
            "description_tooltip": null,
            "layout": "IPY_MODEL_cf2f29bfb23a44878771aea6393ff59b",
            "max": 6270,
            "min": 0,
            "orientation": "horizontal",
            "style": "IPY_MODEL_9a464551726c425097c75d5306c752bb",
            "value": 6270
          }
        },
        "f4d853a75a4d498a965db6306ca456d0": {
          "model_module": "@jupyter-widgets/controls",
          "model_name": "HTMLModel",
          "model_module_version": "1.5.0",
          "state": {
            "_dom_classes": [],
            "_model_module": "@jupyter-widgets/controls",
            "_model_module_version": "1.5.0",
            "_model_name": "HTMLModel",
            "_view_count": null,
            "_view_module": "@jupyter-widgets/controls",
            "_view_module_version": "1.5.0",
            "_view_name": "HTMLView",
            "description": "",
            "description_tooltip": null,
            "layout": "IPY_MODEL_412645d061ae4823a064113ead3af0b1",
            "placeholder": "​",
            "style": "IPY_MODEL_7333c49151ee47eda0351985172f4480",
            "value": " 6.27k/6.27k [00:00&lt;00:00, 406kB/s]"
          }
        },
        "9082f3c2ccff441a81c082a18087bf76": {
          "model_module": "@jupyter-widgets/base",
          "model_name": "LayoutModel",
          "model_module_version": "1.2.0",
          "state": {
            "_model_module": "@jupyter-widgets/base",
            "_model_module_version": "1.2.0",
            "_model_name": "LayoutModel",
            "_view_count": null,
            "_view_module": "@jupyter-widgets/base",
            "_view_module_version": "1.2.0",
            "_view_name": "LayoutView",
            "align_content": null,
            "align_items": null,
            "align_self": null,
            "border": null,
            "bottom": null,
            "display": null,
            "flex": null,
            "flex_flow": null,
            "grid_area": null,
            "grid_auto_columns": null,
            "grid_auto_flow": null,
            "grid_auto_rows": null,
            "grid_column": null,
            "grid_gap": null,
            "grid_row": null,
            "grid_template_areas": null,
            "grid_template_columns": null,
            "grid_template_rows": null,
            "height": null,
            "justify_content": null,
            "justify_items": null,
            "left": null,
            "margin": null,
            "max_height": null,
            "max_width": null,
            "min_height": null,
            "min_width": null,
            "object_fit": null,
            "object_position": null,
            "order": null,
            "overflow": null,
            "overflow_x": null,
            "overflow_y": null,
            "padding": null,
            "right": null,
            "top": null,
            "visibility": null,
            "width": null
          }
        },
        "48adfd03abb945909342adc5c3cf84c8": {
          "model_module": "@jupyter-widgets/base",
          "model_name": "LayoutModel",
          "model_module_version": "1.2.0",
          "state": {
            "_model_module": "@jupyter-widgets/base",
            "_model_module_version": "1.2.0",
            "_model_name": "LayoutModel",
            "_view_count": null,
            "_view_module": "@jupyter-widgets/base",
            "_view_module_version": "1.2.0",
            "_view_name": "LayoutView",
            "align_content": null,
            "align_items": null,
            "align_self": null,
            "border": null,
            "bottom": null,
            "display": null,
            "flex": null,
            "flex_flow": null,
            "grid_area": null,
            "grid_auto_columns": null,
            "grid_auto_flow": null,
            "grid_auto_rows": null,
            "grid_column": null,
            "grid_gap": null,
            "grid_row": null,
            "grid_template_areas": null,
            "grid_template_columns": null,
            "grid_template_rows": null,
            "height": null,
            "justify_content": null,
            "justify_items": null,
            "left": null,
            "margin": null,
            "max_height": null,
            "max_width": null,
            "min_height": null,
            "min_width": null,
            "object_fit": null,
            "object_position": null,
            "order": null,
            "overflow": null,
            "overflow_x": null,
            "overflow_y": null,
            "padding": null,
            "right": null,
            "top": null,
            "visibility": null,
            "width": null
          }
        },
        "261a4925b3654984ad78a34d54210ae5": {
          "model_module": "@jupyter-widgets/controls",
          "model_name": "DescriptionStyleModel",
          "model_module_version": "1.5.0",
          "state": {
            "_model_module": "@jupyter-widgets/controls",
            "_model_module_version": "1.5.0",
            "_model_name": "DescriptionStyleModel",
            "_view_count": null,
            "_view_module": "@jupyter-widgets/base",
            "_view_module_version": "1.2.0",
            "_view_name": "StyleView",
            "description_width": ""
          }
        },
        "cf2f29bfb23a44878771aea6393ff59b": {
          "model_module": "@jupyter-widgets/base",
          "model_name": "LayoutModel",
          "model_module_version": "1.2.0",
          "state": {
            "_model_module": "@jupyter-widgets/base",
            "_model_module_version": "1.2.0",
            "_model_name": "LayoutModel",
            "_view_count": null,
            "_view_module": "@jupyter-widgets/base",
            "_view_module_version": "1.2.0",
            "_view_name": "LayoutView",
            "align_content": null,
            "align_items": null,
            "align_self": null,
            "border": null,
            "bottom": null,
            "display": null,
            "flex": null,
            "flex_flow": null,
            "grid_area": null,
            "grid_auto_columns": null,
            "grid_auto_flow": null,
            "grid_auto_rows": null,
            "grid_column": null,
            "grid_gap": null,
            "grid_row": null,
            "grid_template_areas": null,
            "grid_template_columns": null,
            "grid_template_rows": null,
            "height": null,
            "justify_content": null,
            "justify_items": null,
            "left": null,
            "margin": null,
            "max_height": null,
            "max_width": null,
            "min_height": null,
            "min_width": null,
            "object_fit": null,
            "object_position": null,
            "order": null,
            "overflow": null,
            "overflow_x": null,
            "overflow_y": null,
            "padding": null,
            "right": null,
            "top": null,
            "visibility": null,
            "width": null
          }
        },
        "9a464551726c425097c75d5306c752bb": {
          "model_module": "@jupyter-widgets/controls",
          "model_name": "ProgressStyleModel",
          "model_module_version": "1.5.0",
          "state": {
            "_model_module": "@jupyter-widgets/controls",
            "_model_module_version": "1.5.0",
            "_model_name": "ProgressStyleModel",
            "_view_count": null,
            "_view_module": "@jupyter-widgets/base",
            "_view_module_version": "1.2.0",
            "_view_name": "StyleView",
            "bar_color": null,
            "description_width": ""
          }
        },
        "412645d061ae4823a064113ead3af0b1": {
          "model_module": "@jupyter-widgets/base",
          "model_name": "LayoutModel",
          "model_module_version": "1.2.0",
          "state": {
            "_model_module": "@jupyter-widgets/base",
            "_model_module_version": "1.2.0",
            "_model_name": "LayoutModel",
            "_view_count": null,
            "_view_module": "@jupyter-widgets/base",
            "_view_module_version": "1.2.0",
            "_view_name": "LayoutView",
            "align_content": null,
            "align_items": null,
            "align_self": null,
            "border": null,
            "bottom": null,
            "display": null,
            "flex": null,
            "flex_flow": null,
            "grid_area": null,
            "grid_auto_columns": null,
            "grid_auto_flow": null,
            "grid_auto_rows": null,
            "grid_column": null,
            "grid_gap": null,
            "grid_row": null,
            "grid_template_areas": null,
            "grid_template_columns": null,
            "grid_template_rows": null,
            "height": null,
            "justify_content": null,
            "justify_items": null,
            "left": null,
            "margin": null,
            "max_height": null,
            "max_width": null,
            "min_height": null,
            "min_width": null,
            "object_fit": null,
            "object_position": null,
            "order": null,
            "overflow": null,
            "overflow_x": null,
            "overflow_y": null,
            "padding": null,
            "right": null,
            "top": null,
            "visibility": null,
            "width": null
          }
        },
        "7333c49151ee47eda0351985172f4480": {
          "model_module": "@jupyter-widgets/controls",
          "model_name": "DescriptionStyleModel",
          "model_module_version": "1.5.0",
          "state": {
            "_model_module": "@jupyter-widgets/controls",
            "_model_module_version": "1.5.0",
            "_model_name": "DescriptionStyleModel",
            "_view_count": null,
            "_view_module": "@jupyter-widgets/base",
            "_view_module_version": "1.2.0",
            "_view_name": "StyleView",
            "description_width": ""
          }
        }
      }
    },
    "accelerator": "GPU"
  },
  "cells": [
    {
      "cell_type": "markdown",
      "source": [
        "Transformer\n",
        "```\n",
        "RNN/LSTM 의 한계\n",
        "  순차처리 : 단어를 하나씩 읽어서 문맥을 이해, 초기 정보 잊음\n",
        "  병렬화 불가 : GPU를 활용한 빠른 학습이 불가\n",
        "Transformer 장점\n",
        "  병렬 처리\n",
        "  self-attention  : 단어간의 관계를 직접계산 긴 문맥도 잘 파악\n",
        "Transformer의 전체 구조\n",
        "  Encoder : 입력문장을 벡터로변환  \"영화가 재미있다\"->의미벡터\n",
        "  Decoder : 출력문장생성, 번역.\n",
        "    구성 : 인코더와 유사 + masked self-attention + encoder-decoder attention\n",
        "  self-attention  : 단어간 중요도를 계산 \"영화가\" \"재미있다\" 강하게 연될\n",
        "Positional Encoding : 단어의 위치를 나타내는 벡터를 추가\n",
        "  방식 : 사인/코사인 함수로 고정된 위치벡터를 생성\n",
        "```"
      ],
      "metadata": {
        "id": "oApkYYarwjtS"
      }
    },
    {
      "cell_type": "markdown",
      "source": [
        "self attention layer 구현\n",
        "\n",
        "\n"
      ],
      "metadata": {
        "id": "dyOQooMowrm0"
      }
    },
    {
      "cell_type": "code",
      "execution_count": null,
      "metadata": {
        "id": "abmI8t8CthgF"
      },
      "outputs": [],
      "source": [
        "import torch\n",
        "import torch.nn as nn\n",
        "import numpy as np\n",
        "import matplotlib.pyplot as plt"
      ]
    },
    {
      "cell_type": "code",
      "source": [
        "from typing import Tuple\n",
        "class SelfAttention(nn.Module):\n",
        "  def __init__(self,embed_dim:int, num_heads:int  = 1):\n",
        "    super().__init__()\n",
        "    self.embed_dim = embed_dim\n",
        "    self.num_heads = num_heads\n",
        "    self.head_dim = embed_dim // num_heads  # 각 헤드가 처리할 feature 크기\n",
        "    self.query = nn.Linear(embed_dim, embed_dim)\n",
        "    self.key = nn.Linear(embed_dim, embed_dim)\n",
        "    self.value = nn.Linear(embed_dim, embed_dim)\n",
        "    # softmax 전에 값이 너무커지는 것을 방지해서 학습 안정화\n",
        "    self.scale = torch.sqrt(torch.FloatTensor([self.head_dim]))\n",
        "  def forward(self, x:torch.Tensor)->Tuple[torch.Tensor, torch.Tensor]:\n",
        "    batch_size,seq_len,embed_dim = x.size()  # x.shape\n",
        "    Q = self.query(x)\n",
        "    K = self.key(x)\n",
        "    V = self.value(x)\n",
        "    # 멀티해드 분할 (batch_size, head수, seq길이,head차원) 형태로 분할\n",
        "    # seq_len, num_heads 축을 swap --> 계산할때 해드별로 묶어서 편하게하려고\n",
        "    Q = Q.view(batch_size,seq_len,self.num_heads,self.head_dim).transpose(1,2)\n",
        "    K = K.view(batch_size,seq_len,self.num_heads,self.head_dim).transpose(1,2)\n",
        "    V = V.view(batch_size,seq_len,self.num_heads,self.head_dim).transpose(1,2)\n",
        "    # 어텐션 스코어(얼마나 주목할지)\n",
        "    scores = torch.matmul(Q, K.transpose(-2,-1)) / self.scale\n",
        "    attn_weight = torch.softmax(scores,dim=-1)  # 0~1 확률 가장중요한 토큰에 높은 점수를 주기위해서\n",
        "    out = torch.matmul(attn_weight,V)\n",
        "    # 헤드들을 다시 합쳐서 원래 차원으로 복원\n",
        "    # batch_size, num_head, seq_len, head_dim -->\n",
        "    # batch_size, seq_len, num_head, head_dim\n",
        "    # contiguous 메모리 재 정렬해서 연속적인 배열형태로 만들어줌(view 에러 방지)\n",
        "    out = out.transpose(1,2).contiguous().view(batch_size,seq_len,embed_dim)\n",
        "    return out, attn_weight"
      ],
      "metadata": {
        "id": "Uek6SpNlxBMI"
      },
      "execution_count": null,
      "outputs": []
    },
    {
      "cell_type": "code",
      "source": [
        "# 샘플데이터\n",
        "batch_size = 1\n",
        "seq_len = 5\n",
        "embed_dim = 64\n",
        "num_head = 4\n",
        "\n",
        "# 임의의 임력데이터(토큰화된 데이터)\n",
        "x = torch.randn(batch_size,seq_len,embed_dim)\n",
        "print(f'입력 데이터 : {x.shape}')\n",
        "\n",
        "# self-attention 적용\n",
        "device = 'cuda' if torch.cuda.is_available() else 'cpu'\n",
        "model = SelfAttention(embed_dim,num_head).to(device)\n",
        "x = x.to(device)\n",
        "out, attn_weight = model(x)\n",
        "print(f'출력 데이터 : {out.shape}')\n",
        "print(f'어텐션 가중치 : {attn_weight.shape}') # 1 4 5 5  (batch,headnum,query seq, key seq)"
      ],
      "metadata": {
        "colab": {
          "base_uri": "https://localhost:8080/"
        },
        "id": "I6Kl3xZfxDOg",
        "outputId": "77a006ba-2a69-4e39-856d-fbb5d92be81e"
      },
      "execution_count": null,
      "outputs": [
        {
          "output_type": "stream",
          "name": "stdout",
          "text": [
            "입력 데이터 : torch.Size([1, 5, 64])\n",
            "출력 데이터 : torch.Size([1, 5, 64])\n",
            "어텐션 가중치 : torch.Size([1, 4, 5, 5])\n"
          ]
        }
      ]
    },
    {
      "cell_type": "markdown",
      "source": [
        "어텐션 가중치 시각화"
      ],
      "metadata": {
        "id": "sNJywdCQ_bCU"
      }
    },
    {
      "cell_type": "code",
      "source": [
        "# 첫번째해드 가중치 시각화 (쿼리와 키들의 어텐션 값)\n",
        "import seaborn as sns\n",
        "attn_weights = attn_weight[0,0].detach().cpu().numpy()\n",
        "sns.heatmap(attn_weights, annot=True, cmap='Blues')\n",
        "plt.xlabel('Query')\n",
        "plt.ylabel('Key')\n",
        "plt.show()"
      ],
      "metadata": {
        "colab": {
          "base_uri": "https://localhost:8080/",
          "height": 449
        },
        "id": "ufv7PjHU3hjJ",
        "outputId": "73d98ddc-de85-4a42-fc61-81ad6a7a9775"
      },
      "execution_count": null,
      "outputs": [
        {
          "output_type": "display_data",
          "data": {
            "text/plain": [
              "<Figure size 640x480 with 2 Axes>"
            ],
            "image/png": "[encoded data removed]"
          },
          "metadata": {}
        }
      ]
    },
    {
      "cell_type": "code",
      "source": [
        "# 실제 단어로 시뮬레이션\n",
        "vocab = {'<PAD>':0,'<UNK>':1,'영화':2,'재밌다':3,'별로':4,'최고':5}\n",
        "embedding_layer = nn.Embedding(len(vocab), embed_dim).to(device)\n",
        "# 영화 재미있다 최고\n",
        "sample_tokens = torch.LongTensor([[vocab['영화'] # 패딩 추가\n",
        "                                  ,vocab['재밌다'],vocab['최고'],0,0 ]]).to(device)\n",
        "print(sample_tokens.shape)\n",
        "sample_embed = embedding_layer(sample_tokens)\n",
        "print(sample_embed.shape)\n",
        "# self attention 적용\n",
        "out, attn_weight = model(sample_embed)\n",
        "print(f'샘플 출력 shpae : {out.shape}')\n",
        "print(f'어텐션 가중치 shape : {attn_weight.shape}')\n",
        "\n",
        "# 첫번째해드 가중치 시각화 (쿼리와 키들의 어텐션 값)\n",
        "import seaborn as sns\n",
        "attn_weights = attn_weight[0,0].detach().cpu().numpy()\n",
        "sns.heatmap(attn_weights, annot=True, cmap='Blues')\n",
        "plt.xlabel('Query')\n",
        "plt.ylabel('Key')\n",
        "plt.show()"
      ],
      "metadata": {
        "colab": {
          "base_uri": "https://localhost:8080/",
          "height": 522
        },
        "id": "7Pz5ASra_d4h",
        "outputId": "d1b3f3c8-4ab8-46f8-dc78-9141887d375f"
      },
      "execution_count": null,
      "outputs": [
        {
          "output_type": "stream",
          "name": "stdout",
          "text": [
            "torch.Size([1, 5])\n",
            "torch.Size([1, 5, 64])\n",
            "샘플 출력 shpae : torch.Size([1, 5, 64])\n",
            "어텐션 가중치 shape : torch.Size([1, 4, 5, 5])\n"
          ]
        },
        {
          "output_type": "display_data",
          "data": {
            "text/plain": [
              "<Figure size 640x480 with 2 Axes>"
            ],
            "image/png": "[encoded data removed]"
          },
          "metadata": {}
        }
      ]
    },
    {
      "cell_type": "code",
      "source": [
        "attn_weights.sum(axis=1)"
      ],
      "metadata": {
        "colab": {
          "base_uri": "https://localhost:8080/"
        },
        "id": "lzxc3096Jtx7",
        "outputId": "0b37dabb-509c-431a-8a5a-7279884272e2"
      },
      "execution_count": null,
      "outputs": [
        {
          "output_type": "execute_result",
          "data": {
            "text/plain": [
              "array([1.        , 1.        , 1.0000001 , 0.99999994, 0.99999994],\n",
              "      dtype=float32)"
            ]
          },
          "metadata": {},
          "execution_count": 14
        }
      ]
    },
    {
      "cell_type": "markdown",
      "source": [
        "Pretraining\n",
        "```\n",
        "MLM : Masked Laguage Nodel\n",
        "  영화가 [mask] 재밌다\n",
        "  특징 : 양방향 문맥,문장 전체를 보고 단어간 관계 학습\n",
        "  용도 : 문맥이해가중요한 작업(감성분석, 질의응답)\n",
        "CLM : Casual Laguage Nodel\n",
        "  \n",
        "```"
      ],
      "metadata": {
        "id": "aAh5i8jGJwXF"
      }
    },
    {
      "cell_type": "markdown",
      "source": [
        "Pretraining\n",
        "```\n",
        "MLM : Masked Laguage Model\n",
        "  영화가 [mask] 재밌다\n",
        "  특징 : 양방향 문맥,문장 전체를 보고 단어간 관계 학습\n",
        "  용도 : 문맥이해가중요한 작업(감성분석, 질의응답)\n",
        "  빈칸채우기로 문장의 전체 맥락을 이해\n",
        "CLM : Casual Laguage Model\n",
        "  이전단어들만 보고 다음단어를 예측: 영화가 매우-> 재밌다\n",
        "  특징:단방향 문맥이해, 텍스트생성에 최적화\n",
        "  용도 : 텍스트생성(챗봇,스토리생성)\n",
        "  다음문장 예측하기\n",
        "BERT vs GPT 학습방식\n",
        "  BERT 방식 : MLM + NSP(Next Sequence Prediction) 문장의 일부를 마스크한다음 두 문장의 연결 여부 판단\n",
        "  Transformer Encoder만사용 양방향 문맥학습\n",
        "  용도 : 텍스트 분류, 질의응답,개체명 인식\n",
        "  문장을 깊이 분석\n",
        "GPT(Generative Pre-Trained Transfomer)\n",
        "  CML : 이전단어로 다음 단어 예측\n",
        "  Transformer Decoder만사용 , 단방향 학습\n",
        "  텍스트생성, 대화, 스토리 작성\n",
        "  창의적인 이야기를 이어간다\n",
        "BERT는 문맥이해도 GPT 유연한 생성\n",
        "  \n",
        "```"
      ],
      "metadata": {
        "id": "SnGk2EGDLVqo"
      }
    },
    {
      "cell_type": "code",
      "source": [
        "import torch\n",
        "from transformers import BertTokenizer, BertForMaskedLM, GPT2Tokenizer, GPT2LMHeadModel\n",
        "import pandas as pd\n",
        "import numpy as np"
      ],
      "metadata": {
        "id": "PIUYXfQzJuJJ"
      },
      "execution_count": null,
      "outputs": []
    },
    {
      "cell_type": "code",
      "source": [
        "# 한글 Bert 와 한글 gpt-2 모델 및 토크나이져\n",
        "bert_tokenizer = BertTokenizer.from_pretrained('klue/bert-base')\n",
        "bert_model = BertForMaskedLM.from_pretrained('klue/bert-base')\n",
        "\n",
        "device = 'cuda' if torch.cuda.is_available() else 'cpu'\n",
        "bert_model.to(device)\n",
        "gpt_model.to(device)\n",
        "# 샘플문장\n",
        "sample_text = '영화가 매우 재미있다'\n",
        "masked_text = '영화가 [MASK] 재미있다'\n",
        "from typing import List, Dict\n",
        "def predict_bert_maksed(text:str, top_k:int = 5) :\n",
        "  inputs = bert_tokenizer(text, return_tensors='pt',padding=True\n",
        "                          , truncation=True).to(device)\n",
        "\n",
        "  mask_idx = torch.where(inputs['input_ids'] == bert_tokenizer.mask_token_id)[1].item()\n",
        "  bert_model.eval()\n",
        "  with torch.no_grad():\n",
        "    outputs = bert_model(**inputs)\n",
        "    logits = outputs.logits[0,mask_idx]\n",
        "    probs = torch.softmax(logits,dim=-1)\n",
        "    top_probs,top_ids =  torch.topk(probs,k=top_k)\n",
        "  result = []\n",
        "  for prob, idx in zip(top_probs, top_ids):\n",
        "    token = bert_tokenizer.decode([idx.item()])\n",
        "    result.append({'token':token,'prob':prob.item()})\n",
        "  return result\n",
        "\n",
        "bert_result = predict_bert_maksed(masked_text)\n",
        "print(bert_result)"
      ],
      "metadata": {
        "colab": {
          "base_uri": "https://localhost:8080/"
        },
        "id": "l7jDZvXRL4Rz",
        "outputId": "085e6db7-d315-439d-8f3c-bc24f140ff94"
      },
      "execution_count": null,
      "outputs": [
        {
          "output_type": "stream",
          "name": "stderr",
          "text": [
            "Some weights of the model checkpoint at klue/bert-base were not used when initializing BertForMaskedLM: ['bert.pooler.dense.bias', 'bert.pooler.dense.weight', 'cls.seq_relationship.bias', 'cls.seq_relationship.weight']\n",
            "- This IS expected if you are initializing BertForMaskedLM from the checkpoint of a model trained on another task or with another architecture (e.g. initializing a BertForSequenceClassification model from a BertForPreTraining model).\n",
            "- This IS NOT expected if you are initializing BertForMaskedLM from the checkpoint of a model that you expect to be exactly identical (initializing a BertForSequenceClassification model from a BertForSequenceClassification model).\n"
          ]
        },
        {
          "output_type": "stream",
          "name": "stdout",
          "text": [
            "[{'token': '너무', 'prob': 0.5043820738792419}, {'token': '참', 'prob': 0.10569418221712112}, {'token': '진짜', 'prob': 0.0575430765748024}, {'token': '정말', 'prob': 0.03511859476566315}, {'token': '더', 'prob': 0.035070035606622696}]\n"
          ]
        }
      ]
    },
    {
      "cell_type": "code",
      "source": [
        "# 한글 gpt\n",
        "from transformers import PreTrainedTokenizerFast\n",
        "gpt_tokenizer = PreTrainedTokenizerFast.from_pretrained(\"skt/kogpt2-base-v2\",\n",
        "            bos_token='</s>', eos_token='</s>', unk_token='<unk>',\n",
        "            pad_token='<pad>', mask_token='<mask>')\n",
        "gpt_model = GPT2LMHeadModel.from_pretrained('skt/kogpt2-base-v2')\n",
        "def predict_gpt_next(text:str, top_k:int=5):\n",
        "  inputs = gpt_tokenizer(text,return_tensors='pt', padding=True, truncation=True).to(device)\n",
        "  input_ids = inputs['input_ids']\n",
        "  gpt_model.eval()\n",
        "  with torch.no_grad():\n",
        "    outputs = gpt_model(**inputs)\n",
        "    logits =  outputs.logits[0,-1]\n",
        "    probs = torch.softmax(logits,dim=-1)\n",
        "    top_probs, top_ids = torch.topk(probs,k=top_k)\n",
        "  results = []\n",
        "  for prob, idx in zip(top_probs,top_ids):\n",
        "    token = gpt_tokenizer.decode([idx.item()])\n",
        "    results.append({'token':token,'prob':prob.item()})\n",
        "  return results\n",
        "gpt_result = predict_gpt_next(sample_text)\n",
        "print(gpt_result)"
      ],
      "metadata": {
        "id": "ZuVec6j8MTjd",
        "colab": {
          "base_uri": "https://localhost:8080/"
        },
        "outputId": "637d27cd-7ea9-4149-9281-12bea8f2e4c3"
      },
      "execution_count": null,
      "outputs": [
        {
          "output_type": "stream",
          "name": "stderr",
          "text": [
            "The tokenizer class you load from this checkpoint is not the same type as the class this function is called from. It may result in unexpected tokenization. \n",
            "The tokenizer class you load from this checkpoint is 'GPT2Tokenizer'. \n",
            "The class this function is called from is 'PreTrainedTokenizerFast'.\n",
            "Asking to truncate to max_length but no maximum length is provided and the model has no predefined maximum length. Default to no truncation.\n"
          ]
        },
        {
          "output_type": "stream",
          "name": "stdout",
          "text": [
            "[{'token': '면서', 'prob': 0.21409927308559418}, {'token': '라는', 'prob': 0.09803730994462967}, {'token': '!\\n', 'prob': 0.06238093972206116}, {'token': '', 'prob': 0.05613355711102486}, {'token': '라고', 'prob': 0.052700772881507874}]\n"
          ]
        }
      ]
    },
    {
      "cell_type": "code",
      "source": [
        "sample_text = '이 영화는 정말 재미있고 친구나 가족과 함께 '\n",
        "masked_text = '이 영화는 정말 재미있고 친구나 가족과 함께 [MASK] 추천합니다.'\n",
        "print(predict_bert_maksed(masked_text))\n",
        "print(predict_gpt_next(sample_text))"
      ],
      "metadata": {
        "colab": {
          "base_uri": "https://localhost:8080/"
        },
        "id": "6xaNGZixRwvc",
        "outputId": "3957df55-2c6d-404e-8797-386bfa802e4d"
      },
      "execution_count": null,
      "outputs": [
        {
          "output_type": "stream",
          "name": "stdout",
          "text": [
            "[{'token': '강력', 'prob': 0.37302467226982117}, {'token': '강력히', 'prob': 0.21866130828857422}, {'token': '적극', 'prob': 0.09216134995222092}, {'token': '간다면', 'prob': 0.04563971236348152}, {'token': '가면', 'prob': 0.032889608293771744}]\n",
            "[{'token': '봤', 'prob': 0.44383004307746887}, {'token': '#', 'prob': 0.07271353155374527}, {'token': '<unk>', 'prob': 0.04385720193386078}, {'token': '뭔', 'prob': 0.04302525520324707}, {'token': '괜', 'prob': 0.03127119690179825}]\n"
          ]
        }
      ]
    },
    {
      "cell_type": "markdown",
      "source": [
        "GPT-2, GPT-3\n",
        "```\n",
        "  구조 : Transfromer의 Deocoder만 사용 Masked Self-Attention 이전 단어만 참고 CLM\n",
        "GPT-2\n",
        "  레이어 수 12~48개\n",
        "  파라메터 : 1.5G\n",
        "  다양한 텍스트 생성기능, 한국어 지원 모델 skt/kogpt2-base-v2\n",
        "GPT-3\n",
        "  레이어 수 96개\n",
        "  파라메터:175G\n",
        "  대규모데이터로 학습, zero-shot, few-shot성능이 뛰어남\n",
        "LayerNorm\n",
        "  각 레이어의 출력을 정규화\n",
        "Residual\n",
        "  잔차의 합...\n",
        "  입력을 이후 출력에 더함(정보손실방지)  \n",
        "Attention Head      \n",
        "  단어간 병렬계산(head의 갯수가 gpt2 12개, gpt3 96개)     \n",
        "```"
      ],
      "metadata": {
        "id": "fgbG4TMnW__F"
      }
    },
    {
      "cell_type": "code",
      "source": [
        "from transformers import PreTrainedTokenizerFast\n",
        "tokenizer = PreTrainedTokenizerFast.from_pretrained(\"skt/kogpt2-base-v2\",\n",
        "  bos_token='</s>', eos_token='</s>', unk_token='<unk>',\n",
        "  pad_token='<pad>', mask_token='<mask>')\n",
        "model = GPT2LMHeadModel.from_pretrained('skt/kogpt2-base-v2')"
      ],
      "metadata": {
        "colab": {
          "base_uri": "https://localhost:8080/"
        },
        "id": "opNp-hUrSoiK",
        "outputId": "0757f8d7-de1c-46bf-ad4e-ac5832d2bf1f"
      },
      "execution_count": null,
      "outputs": [
        {
          "output_type": "stream",
          "name": "stderr",
          "text": [
            "The tokenizer class you load from this checkpoint is not the same type as the class this function is called from. It may result in unexpected tokenization. \n",
            "The tokenizer class you load from this checkpoint is 'GPT2Tokenizer'. \n",
            "The class this function is called from is 'PreTrainedTokenizerFast'.\n"
          ]
        }
      ]
    },
    {
      "cell_type": "code",
      "source": [
        "def generate_text(prompt:str, max_length:int=50,temperature:float=1.0,\n",
        "                  top_k:int=0, top_p:float=1.0,label=None):\n",
        "  inputs = tokenizer(prompt, return_tensors='pt',padding=True\n",
        "                     , truncation=True).to(device)\n",
        "  input_ids = inputs['input_ids']\n",
        "  outputs = model.generate(\n",
        "    input_ids,\n",
        "    max_length = max_length,\n",
        "    temperature = temperature,  # 생성의 다양성(낮을수록 보수적)\n",
        "    top_k = top_k if top_k > 0 else None, #상위 k개의 토큰\n",
        "    top_p = top_p if top_p < 1.0 else None, # 누적 확률 p까지 고려\n",
        "    do_sample = True,\n",
        "    num_return_sequences = 1,\n",
        "    pad_token_id = tokenizer.pad_token_id,\n",
        "  )\n",
        "  generated_token= tokenizer.decode(outputs[0],skip_special_tokens=True)\n",
        "  with torch.no_grad():\n",
        "    logits = model(input_ids).logits[0,-1] # 마지막 토큰의 로짓\n",
        "    probs = torch.softmax(logits, dim=-1)\n",
        "    top_probs, top_idx = torch.topk(probs,5)\n",
        "    top_tokens = [tokenizer.decode([idx.item()]) for idx in top_idx]\n",
        "  return{\n",
        "      \"text\" : generated_token,\n",
        "      \"logits\" : logits[:5].cpu().numpy(),\n",
        "      \"probs\" : top_probs.cpu().numpy(),\n",
        "      \"top_tokens\" : top_tokens,\n",
        "      'label' : label\n",
        "  }"
      ],
      "metadata": {
        "id": "_oSQz8YNYdjU"
      },
      "execution_count": null,
      "outputs": []
    },
    {
      "cell_type": "code",
      "source": [
        "prompt = '영화 리뷰 : 이 영화는'\n",
        "options = [\n",
        "  {'prompt':prompt,'temperature':0.7,\"top_k\":0, \"top_p\":1.0,'max_length':50,\"label\":\"t:0.7\"},\n",
        "  {'prompt':prompt,'temperature':1.2,\"top_k\":0, \"top_p\":1.0,'max_length':50,\"label\":\"t:1.2\"},\n",
        "  {'prompt':prompt,'temperature':0.7,\"top_k\":50, \"top_p\":1.0,'max_length':50,\"label\":\"top_k: 50\"},\n",
        "  {'prompt':prompt,'temperature':0.7,\"top_k\":0, \"top_p\":0.9,'max_length':50,\"label\":\"top_k: 0.9\"}\n",
        "           ]\n",
        "\n",
        "results = [ generate_text(**op) for op in options]"
      ],
      "metadata": {
        "id": "18RFA6ZybsYx"
      },
      "execution_count": null,
      "outputs": []
    },
    {
      "cell_type": "code",
      "source": [
        "for result in results:\n",
        "  print(result['label'])\n",
        "  print('생성 문장:',result['text'])\n",
        "  print(f'마지막 토큰의 상위 5개')\n",
        "  for token, prob in zip(result['top_tokens'],result['probs']):\n",
        "    print(f'토큰:\"{token}\", 확률:{prob}')\n",
        "  print(f'로짓(상위 5개) : {result[\"logits\"]}')\n",
        "  print('')"
      ],
      "metadata": {
        "colab": {
          "base_uri": "https://localhost:8080/"
        },
        "id": "cNs0KE_IeQ-t",
        "outputId": "21f09b7e-ebe1-45a1-91ed-2413bb055bd7"
      },
      "execution_count": null,
      "outputs": [
        {
          "output_type": "stream",
          "name": "stdout",
          "text": [
            "t:0.7\n",
            "생성 문장: 영화 리뷰 : 이 영화는 최근 개봉한 영화 <시크릿 레코드>의 일부를 편집한 것입니다.\n",
            "그런데 이 영화는 제목도 우리나라 영화 중에선 좀 특이한 영화인데, 영화 제목도 한국의 영화 중에선 좀 특이한 영화입니다.\n",
            "우리가 흔히 생각하는\n",
            "마지막 토큰의 상위 5개\n",
            "토큰:\",\", 확률:0.014181885868310928\n",
            "토큰:\"'\", 확률:0.01018199510872364\n",
            "토큰:\"201\", 확률:0.009094958193600178\n",
            "토큰:\"한국\", 확률:0.007404754403978586\n",
            "토큰:\"영화\", 확률:0.007374824024736881\n",
            "로짓(상위 5개) : [-4.746373  -4.7723937 -4.9847445 -6.2160587 -5.208909 ]\n",
            "\n",
            "t:1.2\n",
            "생성 문장: 영화 리뷰 : 이 영화는 강예지의 환상적인 연애 투성이 지금 벌어지고 있다. 적극적인 연애적인 남자 주의를 요란스럽게 사로잡는 다양한 남자 캐릭터, 이유일, 안영미, 최재천은 유능한 팀 보스 제대를 훌륭하게 헤쳐나간다. 방을 구\n",
            "마지막 토큰의 상위 5개\n",
            "토큰:\",\", 확률:0.014181885868310928\n",
            "토큰:\"'\", 확률:0.01018199510872364\n",
            "토큰:\"201\", 확률:0.009094958193600178\n",
            "토큰:\"한국\", 확률:0.007404754403978586\n",
            "토큰:\"영화\", 확률:0.007374824024736881\n",
            "로짓(상위 5개) : [-4.746373  -4.7723937 -4.9847445 -6.2160587 -5.208909 ]\n",
            "\n",
            "top_k: 50\n",
            "생성 문장: 영화 리뷰 : 이 영화는 세계 최고 권위의 영화. #이브닝 #인친 #소통 #인친환영 #소통스타그램\n",
            "#fff #follow #l\n",
            "마지막 토큰의 상위 5개\n",
            "토큰:\",\", 확률:0.014181885868310928\n",
            "토큰:\"'\", 확률:0.01018199510872364\n",
            "토큰:\"201\", 확률:0.009094958193600178\n",
            "토큰:\"한국\", 확률:0.007404754403978586\n",
            "토큰:\"영화\", 확률:0.007374824024736881\n",
            "로짓(상위 5개) : [-4.746373  -4.7723937 -4.9847445 -6.2160587 -5.208909 ]\n",
            "\n",
            "top_k: 0.9\n",
            "생성 문장: 영화 리뷰 : 이 영화는 굉장히 재미있었어요.\n",
            "예. 그래서 이 영화는 무비 액션이잖아요.\n",
            "예. 무비 액션은 아니지만 굉장히 재미있는 영화예요.\n",
            "네. 그래서 사실 이 영화를 보고 나서 뭔가 좀 재\n",
            "마지막 토큰의 상위 5개\n",
            "토큰:\",\", 확률:0.014181885868310928\n",
            "토큰:\"'\", 확률:0.01018199510872364\n",
            "토큰:\"201\", 확률:0.009094958193600178\n",
            "토큰:\"한국\", 확률:0.007404754403978586\n",
            "토큰:\"영화\", 확률:0.007374824024736881\n",
            "로짓(상위 5개) : [-4.746373  -4.7723937 -4.9847445 -6.2160587 -5.208909 ]\n",
            "\n"
          ]
        }
      ]
    },
    {
      "cell_type": "markdown",
      "source": [
        "미니 GPT (Fine-tuning)\n",
        "```\n",
        "파인튜닝: 사전학습된모델을 특정 작업에 맞게 추가 학습\n",
        "목표 : 모델이 도메인별(한국어 영화리뷰) 데이터에 적응해 더 적합 출력 생성\n",
        "방법:\n",
        "  full fine-tuning : 모든 파라메터를 업데이트,성능좋음\n",
        "  parameter-Efficient Fine-tuning : 일부 파라미터만 수정(LoRA)\n",
        "전략\n",
        "  작은학습률: 사전 학습된 지식 보전\n",
        "  적절한 데이터셋 : 적으면 과적합, 많으면 비용상승\n",
        "  정규화:(Dropout, Weight Decay) 과적합방지 및 원활한 학습\n",
        "Dataset\n",
        "  전처리 : 토큰화, 패딩, 특수토큰 추가\n",
        "직접학습루프 작성\n",
        "  데이터로드\n",
        "  옵티마이져\n",
        "  손실함수\n",
        "  학습루프\n",
        "  등등..  \n",
        "```"
      ],
      "metadata": {
        "id": "9ZEUvxAmyCid"
      }
    },
    {
      "cell_type": "code",
      "source": [
        "import torch\n",
        "import torch.nn as nn\n",
        "import pandas as pd\n",
        "import numpy as np\n",
        "from transformers import PreTrainedTokenizerFast\n",
        "from transformers import GPT2LMHeadModel\n",
        "from torch.utils.data import Dataset, DataLoader"
      ],
      "metadata": {
        "id": "jORxJM8GfqVc"
      },
      "execution_count": null,
      "outputs": []
    },
    {
      "cell_type": "code",
      "source": [
        "!wget http://skt-lsl-nlp-model.s3.amazonaws.com/KoBERT/datasets/nsmc/ratings_train.txt"
      ],
      "metadata": {
        "colab": {
          "base_uri": "https://localhost:8080/"
        },
        "id": "8qS1PSBAzeIY",
        "outputId": "7ea2ded3-b84c-4331-fb24-8dc54f0a19c4"
      },
      "execution_count": null,
      "outputs": [
        {
          "output_type": "stream",
          "name": "stdout",
          "text": [
            "--2025-04-28 05:11:06--  http://skt-lsl-nlp-model.s3.amazonaws.com/KoBERT/datasets/nsmc/ratings_train.txt\n",
            "Resolving skt-lsl-nlp-model.s3.amazonaws.com (skt-lsl-nlp-model.s3.amazonaws.com)... 3.5.184.139, 3.5.188.18, 3.5.184.76, ...\n",
            "Connecting to skt-lsl-nlp-model.s3.amazonaws.com (skt-lsl-nlp-model.s3.amazonaws.com)|3.5.184.139|:80... connected.\n",
            "HTTP request sent, awaiting response... 200 OK\n",
            "Length: 14628807 (14M) [text/plain]\n",
            "Saving to: ‘ratings_train.txt’\n",
            "\n",
            "ratings_train.txt   100%[===================>]  13.95M  18.6MB/s    in 0.7s    \n",
            "\n",
            "2025-04-28 05:11:07 (18.6 MB/s) - ‘ratings_train.txt’ saved [14628807/14628807]\n",
            "\n"
          ]
        }
      ]
    },
    {
      "cell_type": "code",
      "source": [
        "df = pd.read_csv('ratings_train.txt', sep='\\t')[:5000]\n",
        "df.dropna(inplace=True)\n",
        "texts = df['document'].tolist()"
      ],
      "metadata": {
        "id": "0QhLRQ9rzlTG"
      },
      "execution_count": null,
      "outputs": []
    },
    {
      "cell_type": "code",
      "source": [
        "# 데이터 셋\n",
        "class NSMCDataSet(Dataset):\n",
        "  def __init__(self,texts: list, tokenizer,max_length:int = 50) -> None:\n",
        "    self.tokenizer = tokenizer\n",
        "    self.max_len = max_length\n",
        "    self.inputs = []\n",
        "    for text in texts:\n",
        "      input_ids = tokenizer(\n",
        "          text,\n",
        "          max_length = max_length,\n",
        "          padding = 'max_length',\n",
        "          truncation = True,\n",
        "          return_tensors = 'pt'\n",
        "      )\n",
        "      self.inputs.append(input_ids)\n",
        "\n",
        "  def __len__(self):\n",
        "    return len(self.inputs)\n",
        "  def __getitem__(self, index):\n",
        "    input_ids = self.inputs[index]['input_ids'].squeeze()\n",
        "    attention_mask = self.inputs[index]['attention_mask'].squeeze()\n",
        "    return input_ids,attention_mask"
      ],
      "metadata": {
        "id": "M6c-H3Hv0Dhd"
      },
      "execution_count": null,
      "outputs": []
    },
    {
      "cell_type": "code",
      "source": [
        "input_ids = tokenizer(\n",
        "          texts[0],\n",
        "          max_length = 50,\n",
        "          padding = 'max_length',\n",
        "          truncation = True,\n",
        "          return_tensors = 'pt'\n",
        "      )\n",
        "input_ids # 3은 패딩"
      ],
      "metadata": {
        "colab": {
          "base_uri": "https://localhost:8080/"
        },
        "id": "PUORencPA47Z",
        "outputId": "49c98a4c-7412-4abd-feda-73d7b6aaea27"
      },
      "execution_count": null,
      "outputs": [
        {
          "output_type": "execute_result",
          "data": {
            "text/plain": [
              "{'input_ids': tensor([[ 9050,  9267,  7700,  9705, 23971, 12870,  8262,  7055,  7098,  8084,\n",
              "         48213,     3,     3,     3,     3,     3,     3,     3,     3,     3,\n",
              "             3,     3,     3,     3,     3,     3,     3,     3,     3,     3,\n",
              "             3,     3,     3,     3,     3,     3,     3,     3,     3,     3,\n",
              "             3,     3,     3,     3,     3,     3,     3,     3,     3,     3]]), 'token_type_ids': tensor([[0, 0, 0, 0, 0, 0, 0, 0, 0, 0, 0, 0, 0, 0, 0, 0, 0, 0, 0, 0, 0, 0, 0, 0,\n",
              "         0, 0, 0, 0, 0, 0, 0, 0, 0, 0, 0, 0, 0, 0, 0, 0, 0, 0, 0, 0, 0, 0, 0, 0,\n",
              "         0, 0]]), 'attention_mask': tensor([[1, 1, 1, 1, 1, 1, 1, 1, 1, 1, 1, 0, 0, 0, 0, 0, 0, 0, 0, 0, 0, 0, 0, 0,\n",
              "         0, 0, 0, 0, 0, 0, 0, 0, 0, 0, 0, 0, 0, 0, 0, 0, 0, 0, 0, 0, 0, 0, 0, 0,\n",
              "         0, 0]])}"
            ]
          },
          "metadata": {},
          "execution_count": 102
        }
      ]
    },
    {
      "cell_type": "code",
      "source": [
        "# 모델 , 토크나이저 로드\n",
        "tokenizer = PreTrainedTokenizerFast.from_pretrained(\"skt/kogpt2-base-v2\",\n",
        "  bos_token='</s>', eos_token='</s>', unk_token='<unk>',\n",
        "  pad_token='<pad>', mask_token='<mask>')\n",
        "\n",
        "model = GPT2LMHeadModel.from_pretrained('skt/kogpt2-base-v2')\n",
        "device = \"cuda\" if torch.cuda.is_available() else \"cpu\"\n",
        "model.to(device)\n",
        "\n",
        "# 데이터셋 및 데이터 로더 준비\n",
        "dataset = NSMCDataSet(texts, tokenizer)\n",
        "dataloader = DataLoader(dataset, batch_size=16, shuffle=True)"
      ],
      "metadata": {
        "colab": {
          "base_uri": "https://localhost:8080/"
        },
        "id": "Ag8zqVat2N5q",
        "outputId": "d4c34999-0756-4b53-b588-4ca61a8af651"
      },
      "execution_count": null,
      "outputs": [
        {
          "output_type": "stream",
          "name": "stderr",
          "text": [
            "The tokenizer class you load from this checkpoint is not the same type as the class this function is called from. It may result in unexpected tokenization. \n",
            "The tokenizer class you load from this checkpoint is 'GPT2Tokenizer'. \n",
            "The class this function is called from is 'PreTrainedTokenizerFast'.\n"
          ]
        }
      ]
    },
    {
      "cell_type": "code",
      "source": [
        "next(iter(dataloader))"
      ],
      "metadata": {
        "colab": {
          "base_uri": "https://localhost:8080/"
        },
        "collapsed": true,
        "id": "Zq_J99iM2aHu",
        "outputId": "4c5d7022-750f-4cc3-9396-df55a781cbd0"
      },
      "execution_count": null,
      "outputs": [
        {
          "output_type": "execute_result",
          "data": {
            "text/plain": [
              "[tensor([[16962,  8811, 24743, 43594,  9166,  9124,  9169,  7285,  9016,     3,\n",
              "              3,     3,     3,     3,     3,     3,     3,     3,     3,     3,\n",
              "              3,     3,     3,     3,     3,     3,     3,     3,     3,     3,\n",
              "              3,     3,     3,     3,     3,     3,     3,     3,     3,     3,\n",
              "              3,     3,     3,     3,     3,     3,     3,     3,     3,     3],\n",
              "         [ 9150,  7592,  9668,     3,     3,     3,     3,     3,     3,     3,\n",
              "              3,     3,     3,     3,     3,     3,     3,     3,     3,     3,\n",
              "              3,     3,     3,     3,     3,     3,     3,     3,     3,     3,\n",
              "              3,     3,     3,     3,     3,     3,     3,     3,     3,     3,\n",
              "              3,     3,     3,     3,     3,     3,     3,     3,     3,     3],\n",
              "         [ 9571,   437,   388, 11509,  7492,  7374, 15630,  7478, 40422,  7372,\n",
              "              3,     3,     3,     3,     3,     3,     3,     3,     3,     3,\n",
              "              3,     3,     3,     3,     3,     3,     3,     3,     3,     3,\n",
              "              3,     3,     3,     3,     3,     3,     3,     3,     3,     3,\n",
              "              3,     3,     3,     3,     3,     3,     3,     3,     3,     3],\n",
              "         [25689, 27113, 16843, 40689,   468,     3,     3,     3,     3,     3,\n",
              "              3,     3,     3,     3,     3,     3,     3,     3,     3,     3,\n",
              "              3,     3,     3,     3,     3,     3,     3,     3,     3,     3,\n",
              "              3,     3,     3,     3,     3,     3,     3,     3,     3,     3,\n",
              "              3,     3,     3,     3,     3,     3,     3,     3,     3,     3],\n",
              "         [10165, 26095,  9695,  9788,  9019,  6921, 25856, 44954, 11891, 31046,\n",
              "          19104, 29045,  8397,  8007,  8146,  7588,  7415,  8052,  7098,     3,\n",
              "              3,     3,     3,     3,     3,     3,     3,     3,     3,     3,\n",
              "              3,     3,     3,     3,     3,     3,     3,     3,     3,     3,\n",
              "              3,     3,     3,     3,     3,     3,     3,     3,     3,     3],\n",
              "         [13111,  8750,  8750, 10521, 13793,  7281,  7481,  6866,     3,     3,\n",
              "              3,     3,     3,     3,     3,     3,     3,     3,     3,     3,\n",
              "              3,     3,     3,     3,     3,     3,     3,     3,     3,     3,\n",
              "              3,     3,     3,     3,     3,     3,     3,     3,     3,     3,\n",
              "              3,     3,     3,     3,     3,     3,     3,     3,     3,     3],\n",
              "         [ 9050, 37558, 21732,  8347,  7235, 29205,  9054,  9150,  7592,  6866,\n",
              "            739,  7662, 16693, 49313, 17055, 11039, 21732,  8347,  9862, 10554,\n",
              "          27796,  7426, 12252,  7172, 23971,  9677,  9016, 29045, 29027, 21502,\n",
              "           8174,   605,   605,   605,  6826,  7187,  8688,  7281,  7483,   605,\n",
              "            605,   605,     3,     3,     3,     3,     3,     3,     3,     3],\n",
              "         [ 9267,  7700,  8146, 12059,  9050,  7080,   402,   402,   402,   402,\n",
              "          12044,  7380, 39259,  8146, 14173,  9621,  7397,  7513,  8017,  8006,\n",
              "              3,     3,     3,     3,     3,     3,     3,     3,     3,     3,\n",
              "              3,     3,     3,     3,     3,     3,     3,     3,     3,     3,\n",
              "              3,     3,     3,     3,     3,     3,     3,     3,     3,     3],\n",
              "         [ 9195, 10836, 10401,  9420,  7080, 34790,   739,  7978,  7162, 10652,\n",
              "           8702, 25830, 10135,  9050,  6969,  8102,   389,     3,     3,     3,\n",
              "              3,     3,     3,     3,     3,     3,     3,     3,     3,     3,\n",
              "              3,     3,     3,     3,     3,     3,     3,     3,     3,     3,\n",
              "              3,     3,     3,     3,     3,     3,     3,     3,     3,     3],\n",
              "         [ 9731, 43990, 19684,  7478, 11481,  8775,  7466,  8704, 11439,  8033,\n",
              "          10163, 43912,  9275,  6835,  8705, 46354, 43056, 32817,  9138, 11789,\n",
              "           9080,  9548, 33463, 12026, 18434,  6860,  9239, 10584,  7182,     3,\n",
              "              3,     3,     3,     3,     3,     3,     3,     3,     3,     3,\n",
              "              3,     3,     3,     3,     3,     3,     3,     3,     3,     3],\n",
              "         [ 9621,  7925, 29045,  6918,  8774,  7235, 17392, 10464,  7982,  7235,\n",
              "          17392,  9231, 24979,  6858,  8688,  9582, 40259,  7162,  9036,  6853,\n",
              "           9239,  7220,  9056,  8599, 11608, 12403, 14285,  7235, 12594,   402,\n",
              "            402,  9137,  8756,  8148,  8360,  8702, 18952,  9137, 22195, 17392,\n",
              "          10765,     3,     3,     3,     3,     3,     3,     3,     3,     3],\n",
              "         [ 9195,  8191, 11213, 10624,  7379,  9016,  9705,   393, 10785,  9050,\n",
              "           6969,  8102,  9094, 42411,  9705, 32434,  9183,  9038, 10138,  7489,\n",
              "          48003,  9018,  6853, 26893,  9049,  7185, 23763,  6872,  9016,   389,\n",
              "           9022, 19255,   739,  8041,  7182,  7071,  8148,  7777, 48183, 10584,\n",
              "              3,     3,     3,     3,     3,     3,     3,     3,     3,     3],\n",
              "         [25689,  7648,  7496,   605,   605,   605,   605,     3,     3,     3,\n",
              "              3,     3,     3,     3,     3,     3,     3,     3,     3,     3,\n",
              "              3,     3,     3,     3,     3,     3,     3,     3,     3,     3,\n",
              "              3,     3,     3,     3,     3,     3,     3,     3,     3,     3,\n",
              "              3,     3,     3,     3,     3,     3,     3,     3,     3,     3],\n",
              "         [10401,  9018,  9097, 10444,  9253,  8191,  7198, 13570, 32385,  9183,\n",
              "           6830,   389,     3,     3,     3,     3,     3,     3,     3,     3,\n",
              "              3,     3,     3,     3,     3,     3,     3,     3,     3,     3,\n",
              "              3,     3,     3,     3,     3,     3,     3,     3,     3,     3,\n",
              "              3,     3,     3,     3,     3,     3,     3,     3,     3,     3],\n",
              "         [ 9538,  7204,  8146, 11271, 11445,  9443,  7916,  7130,  7098,     3,\n",
              "              3,     3,     3,     3,     3,     3,     3,     3,     3,     3,\n",
              "              3,     3,     3,     3,     3,     3,     3,     3,     3,     3,\n",
              "              3,     3,     3,     3,     3,     3,     3,     3,     3,     3,\n",
              "              3,     3,     3,     3,     3,     3,     3,     3,     3,     3],\n",
              "         [ 9265, 25481, 25890,  9123, 10181,  9818,  9016,     3,     3,     3,\n",
              "              3,     3,     3,     3,     3,     3,     3,     3,     3,     3,\n",
              "              3,     3,     3,     3,     3,     3,     3,     3,     3,     3,\n",
              "              3,     3,     3,     3,     3,     3,     3,     3,     3,     3,\n",
              "              3,     3,     3,     3,     3,     3,     3,     3,     3,     3]]),\n",
              " tensor([[1, 1, 1, 1, 1, 1, 1, 1, 1, 0, 0, 0, 0, 0, 0, 0, 0, 0, 0, 0, 0, 0, 0, 0,\n",
              "          0, 0, 0, 0, 0, 0, 0, 0, 0, 0, 0, 0, 0, 0, 0, 0, 0, 0, 0, 0, 0, 0, 0, 0,\n",
              "          0, 0],\n",
              "         [1, 1, 1, 0, 0, 0, 0, 0, 0, 0, 0, 0, 0, 0, 0, 0, 0, 0, 0, 0, 0, 0, 0, 0,\n",
              "          0, 0, 0, 0, 0, 0, 0, 0, 0, 0, 0, 0, 0, 0, 0, 0, 0, 0, 0, 0, 0, 0, 0, 0,\n",
              "          0, 0],\n",
              "         [1, 1, 1, 1, 1, 1, 1, 1, 1, 1, 0, 0, 0, 0, 0, 0, 0, 0, 0, 0, 0, 0, 0, 0,\n",
              "          0, 0, 0, 0, 0, 0, 0, 0, 0, 0, 0, 0, 0, 0, 0, 0, 0, 0, 0, 0, 0, 0, 0, 0,\n",
              "          0, 0],\n",
              "         [1, 1, 1, 1, 1, 0, 0, 0, 0, 0, 0, 0, 0, 0, 0, 0, 0, 0, 0, 0, 0, 0, 0, 0,\n",
              "          0, 0, 0, 0, 0, 0, 0, 0, 0, 0, 0, 0, 0, 0, 0, 0, 0, 0, 0, 0, 0, 0, 0, 0,\n",
              "          0, 0],\n",
              "         [1, 1, 1, 1, 1, 1, 1, 1, 1, 1, 1, 1, 1, 1, 1, 1, 1, 1, 1, 0, 0, 0, 0, 0,\n",
              "          0, 0, 0, 0, 0, 0, 0, 0, 0, 0, 0, 0, 0, 0, 0, 0, 0, 0, 0, 0, 0, 0, 0, 0,\n",
              "          0, 0],\n",
              "         [1, 1, 1, 1, 1, 1, 1, 1, 0, 0, 0, 0, 0, 0, 0, 0, 0, 0, 0, 0, 0, 0, 0, 0,\n",
              "          0, 0, 0, 0, 0, 0, 0, 0, 0, 0, 0, 0, 0, 0, 0, 0, 0, 0, 0, 0, 0, 0, 0, 0,\n",
              "          0, 0],\n",
              "         [1, 1, 1, 1, 1, 1, 1, 1, 1, 1, 1, 1, 1, 1, 1, 1, 1, 1, 1, 1, 1, 1, 1, 1,\n",
              "          1, 1, 1, 1, 1, 1, 1, 1, 1, 1, 1, 1, 1, 1, 1, 1, 1, 1, 0, 0, 0, 0, 0, 0,\n",
              "          0, 0],\n",
              "         [1, 1, 1, 1, 1, 1, 1, 1, 1, 1, 1, 1, 1, 1, 1, 1, 1, 1, 1, 1, 0, 0, 0, 0,\n",
              "          0, 0, 0, 0, 0, 0, 0, 0, 0, 0, 0, 0, 0, 0, 0, 0, 0, 0, 0, 0, 0, 0, 0, 0,\n",
              "          0, 0],\n",
              "         [1, 1, 1, 1, 1, 1, 1, 1, 1, 1, 1, 1, 1, 1, 1, 1, 1, 0, 0, 0, 0, 0, 0, 0,\n",
              "          0, 0, 0, 0, 0, 0, 0, 0, 0, 0, 0, 0, 0, 0, 0, 0, 0, 0, 0, 0, 0, 0, 0, 0,\n",
              "          0, 0],\n",
              "         [1, 1, 1, 1, 1, 1, 1, 1, 1, 1, 1, 1, 1, 1, 1, 1, 1, 1, 1, 1, 1, 1, 1, 1,\n",
              "          1, 1, 1, 1, 1, 0, 0, 0, 0, 0, 0, 0, 0, 0, 0, 0, 0, 0, 0, 0, 0, 0, 0, 0,\n",
              "          0, 0],\n",
              "         [1, 1, 1, 1, 1, 1, 1, 1, 1, 1, 1, 1, 1, 1, 1, 1, 1, 1, 1, 1, 1, 1, 1, 1,\n",
              "          1, 1, 1, 1, 1, 1, 1, 1, 1, 1, 1, 1, 1, 1, 1, 1, 1, 0, 0, 0, 0, 0, 0, 0,\n",
              "          0, 0],\n",
              "         [1, 1, 1, 1, 1, 1, 1, 1, 1, 1, 1, 1, 1, 1, 1, 1, 1, 1, 1, 1, 1, 1, 1, 1,\n",
              "          1, 1, 1, 1, 1, 1, 1, 1, 1, 1, 1, 1, 1, 1, 1, 1, 0, 0, 0, 0, 0, 0, 0, 0,\n",
              "          0, 0],\n",
              "         [1, 1, 1, 1, 1, 1, 1, 0, 0, 0, 0, 0, 0, 0, 0, 0, 0, 0, 0, 0, 0, 0, 0, 0,\n",
              "          0, 0, 0, 0, 0, 0, 0, 0, 0, 0, 0, 0, 0, 0, 0, 0, 0, 0, 0, 0, 0, 0, 0, 0,\n",
              "          0, 0],\n",
              "         [1, 1, 1, 1, 1, 1, 1, 1, 1, 1, 1, 1, 0, 0, 0, 0, 0, 0, 0, 0, 0, 0, 0, 0,\n",
              "          0, 0, 0, 0, 0, 0, 0, 0, 0, 0, 0, 0, 0, 0, 0, 0, 0, 0, 0, 0, 0, 0, 0, 0,\n",
              "          0, 0],\n",
              "         [1, 1, 1, 1, 1, 1, 1, 1, 1, 0, 0, 0, 0, 0, 0, 0, 0, 0, 0, 0, 0, 0, 0, 0,\n",
              "          0, 0, 0, 0, 0, 0, 0, 0, 0, 0, 0, 0, 0, 0, 0, 0, 0, 0, 0, 0, 0, 0, 0, 0,\n",
              "          0, 0],\n",
              "         [1, 1, 1, 1, 1, 1, 1, 0, 0, 0, 0, 0, 0, 0, 0, 0, 0, 0, 0, 0, 0, 0, 0, 0,\n",
              "          0, 0, 0, 0, 0, 0, 0, 0, 0, 0, 0, 0, 0, 0, 0, 0, 0, 0, 0, 0, 0, 0, 0, 0,\n",
              "          0, 0]])]"
            ]
          },
          "metadata": {},
          "execution_count": 104
        }
      ]
    },
    {
      "cell_type": "code",
      "source": [
        "# 학습설정\n",
        "optimizer = torch.optim.AdamW(model.parameters(), lr= 2e-5)\n",
        "criterion = nn.CrossEntropyLoss(ignore_index=tokenizer.pad_token_id)\n",
        "#  학습루프\n",
        "num_epochs = 5\n",
        "for epoch in range(num_epochs):\n",
        "  epoch_loss = 0.0\n",
        "  for batch,attention_mask in dataloader:\n",
        "    batch = batch.to(device)\n",
        "    attention_mask = attention_mask.to(device)\n",
        "    # 순전파(예측)\n",
        "    outputs = model(input_ids=batch,labels=batch,attention_mask=attention_mask)\n",
        "    loss = outputs.loss\n",
        "    # 역전파\n",
        "    loss.backward()\n",
        "    optimizer.step()\n",
        "    optimizer.zero_grad()\n",
        "    epoch_loss += loss.item()\n",
        "  print(f\"Epoch {epoch+1}/{num_epochs}, Loss: {epoch_loss/len(dataloader)}\")"
      ],
      "metadata": {
        "colab": {
          "base_uri": "https://localhost:8080/"
        },
        "id": "5EdqyNuk70Dj",
        "outputId": "fbae238e-8187-40bb-e2d0-4f15057b2f78"
      },
      "execution_count": null,
      "outputs": [
        {
          "output_type": "stream",
          "name": "stdout",
          "text": [
            "Epoch 1/5, Loss: 1.8636864381857192\n",
            "Epoch 2/5, Loss: 1.4739377127287867\n",
            "Epoch 3/5, Loss: 1.217515018991769\n",
            "Epoch 4/5, Loss: 0.9251512770835584\n",
            "Epoch 5/5, Loss: 0.6487343858796567\n"
          ]
        }
      ]
    },
    {
      "cell_type": "code",
      "source": [
        "# 모델 저장\n",
        "model.save_pretrained('nsmc_gpt2') # 모델만 저장하면 안됨\n",
        "tokenizer.save_pretrained('nsmc_gpt2') # 토큰나이저도 저장 / 모델과 같은 이름으로"
      ],
      "metadata": {
        "colab": {
          "base_uri": "https://localhost:8080/"
        },
        "id": "GPrC43QB8GVq",
        "outputId": "dde7be77-a93a-4c3e-a3f2-412cbe42ebc7"
      },
      "execution_count": null,
      "outputs": [
        {
          "output_type": "execute_result",
          "data": {
            "text/plain": [
              "('nsmc_gpt2/tokenizer_config.json',\n",
              " 'nsmc_gpt2/special_tokens_map.json',\n",
              " 'nsmc_gpt2/tokenizer.json')"
            ]
          },
          "metadata": {},
          "execution_count": 106
        }
      ]
    },
    {
      "cell_type": "code",
      "source": [
        "# 모델 불러오기 및 생성 테스트\n",
        "finetuned_model = GPT2LMHeadModel.from_pretrained('nsmc_gpt2')\n",
        "finetuned_tokenizer = PreTrainedTokenizerFast.from_pretrained('nsmc_gpt2')"
      ],
      "metadata": {
        "id": "DYlRmKOeCitm"
      },
      "execution_count": null,
      "outputs": []
    },
    {
      "cell_type": "code",
      "source": [
        "# 생성 테스트\n",
        "def generated_text(model, tokenizer,prompt:str\n",
        "                   , max_length:int=50,temperature:float = 0.7)->str:\n",
        "  model.eval()\n",
        "  input_ids = tokenizer(prompt, return_tensors='pt',padding=True\n",
        "                     , truncation=True).to(device)\n",
        "\n",
        "  outputs = model.generate(\n",
        "      input_ids['input_ids'],\n",
        "      max_length = max_length,\n",
        "      temperature = temperature,  # 생성의 다양성(낮을수록 보수적)\n",
        "      do_sample=True,\n",
        "      num_return_sequences = 1,\n",
        "      pad_token_id = tokenizer.pad_token_id,\n",
        "  )\n",
        "  return tokenizer.decode(outputs[0],skip_special_tokens=True)"
      ],
      "metadata": {
        "id": "aD3kGfKvC7x8"
      },
      "execution_count": null,
      "outputs": []
    },
    {
      "cell_type": "code",
      "source": [
        "finetuned_model.to(device)"
      ],
      "metadata": {
        "colab": {
          "base_uri": "https://localhost:8080/"
        },
        "id": "ZW3QfgS0EmPK",
        "outputId": "e478d26f-ce23-480b-83cb-3d4f1c9748ba"
      },
      "execution_count": null,
      "outputs": [
        {
          "output_type": "execute_result",
          "data": {
            "text/plain": [
              "GPT2LMHeadModel(\n",
              "  (transformer): GPT2Model(\n",
              "    (wte): Embedding(51200, 768)\n",
              "    (wpe): Embedding(1024, 768)\n",
              "    (drop): Dropout(p=0.1, inplace=False)\n",
              "    (h): ModuleList(\n",
              "      (0-11): 12 x GPT2Block(\n",
              "        (ln_1): LayerNorm((768,), eps=1e-05, elementwise_affine=True)\n",
              "        (attn): GPT2Attention(\n",
              "          (c_attn): Conv1D(nf=2304, nx=768)\n",
              "          (c_proj): Conv1D(nf=768, nx=768)\n",
              "          (attn_dropout): Dropout(p=0.1, inplace=False)\n",
              "          (resid_dropout): Dropout(p=0.1, inplace=False)\n",
              "        )\n",
              "        (ln_2): LayerNorm((768,), eps=1e-05, elementwise_affine=True)\n",
              "        (mlp): GPT2MLP(\n",
              "          (c_fc): Conv1D(nf=3072, nx=768)\n",
              "          (c_proj): Conv1D(nf=768, nx=3072)\n",
              "          (act): NewGELUActivation()\n",
              "          (dropout): Dropout(p=0.1, inplace=False)\n",
              "        )\n",
              "      )\n",
              "    )\n",
              "    (ln_f): LayerNorm((768,), eps=1e-05, elementwise_affine=True)\n",
              "  )\n",
              "  (lm_head): Linear(in_features=768, out_features=51200, bias=False)\n",
              ")"
            ]
          },
          "metadata": {},
          "execution_count": 109
        }
      ]
    },
    {
      "cell_type": "code",
      "source": [
        "prompt = '이번주 로또 번호는'\n",
        "generated_text = generated_text(finetuned_model,finetuned_tokenizer,prompt)\n",
        "print(generated_text)"
      ],
      "metadata": {
        "colab": {
          "base_uri": "https://localhost:8080/"
        },
        "id": "7g3Drp0eFgr5",
        "outputId": "ed23dc69-c167-49c9-c510-8c171ff87a50"
      },
      "execution_count": null,
      "outputs": [
        {
          "output_type": "stream",
          "name": "stderr",
          "text": [
            "Asking to truncate to max_length but no maximum length is provided and the model has no predefined maximum length. Default to no truncation.\n"
          ]
        },
        {
          "output_type": "stream",
          "name": "stdout",
          "text": [
            "이번주 로또 번호는 101, 이 주말 로또 추석 때 또 봤네;; 로또 3사 다 잘 만들었어. ᄏᄏᄏᄏ재밌게 잘 봤어. ᄏᄏᄏᄏᄏ\n"
          ]
        }
      ]
    },
    {
      "cell_type": "code",
      "source": [
        "# 생성될 단어의 확률\n",
        "inputs = tokenizer(prompt, return_tensors='pt',padding=True,truncation=True).to(device)\n",
        "with torch.no_grad():\n",
        "   outputs = finetuned_model(**inputs)\n",
        "   logits = outputs.logits[0,-1]\n",
        "   probs = torch.softmax(logits, dim=-1)\n",
        "   top_probs, top_ids = torch.topk(probs, 5)\n",
        "   top_tokens = [  finetuned_tokenizer.decode([idx.item()]) for idx in top_ids]\n",
        "print(f'마지막 토큰 로짓(상위 5개):{logits[:5].cpu().numpy()}')\n",
        "for token, prob in zip(top_tokens, top_probs):\n",
        "  print(f'토큰:{token}, 확률:{prob:.4f}')"
      ],
      "metadata": {
        "colab": {
          "base_uri": "https://localhost:8080/"
        },
        "id": "zQVYEI3gF1jy",
        "outputId": "0a40d8ff-7ac6-4534-87db-43a86eb94554"
      },
      "execution_count": null,
      "outputs": [
        {
          "output_type": "stream",
          "name": "stderr",
          "text": [
            "Asking to truncate to max_length but no maximum length is provided and the model has no predefined maximum length. Default to no truncation.\n"
          ]
        },
        {
          "output_type": "stream",
          "name": "stdout",
          "text": [
            "마지막 토큰 로짓(상위 5개):[-5.6866026 -7.0828223 -4.433782   1.9006023 -4.988313 ]\n",
            "토큰:10, 확률:0.1256\n",
            "토큰:9, 확률:0.1156\n",
            "토큰:8, 확률:0.1093\n",
            "토큰:7, 확률:0.0551\n",
            "토큰:6, 확률:0.0532\n"
          ]
        }
      ]
    },
    {
      "cell_type": "markdown",
      "source": [
        "텍스트 생성 모델 심화\n",
        "```\n",
        "Sampling 전략\n",
        "  텍스트생성 핵심: 각 단계에서 다음 토큰을 예측\n",
        "  Greedy Search:\n",
        "    매번 가장 높은 확률의 토큰 선택\n",
        "    빠르고 간단\n",
        "    단점 : 창의성이 부족 ,결과가 단조롭다\n",
        "  Beam Searh:\n",
        "    상위 k개 시퀀스를 병렬로 추적, 최종적으로 최고 점수 스퀀스선택\n",
        "    더 논리적이고 일관됨 문장\n",
        "  Top-k-Sampling:\n",
        "    상위 k개토큰중에 무작위\n",
        "    창의성과 품질이 균형\n",
        "  Temperature:\n",
        "    로짓을 조정해서 확률분포변경\n",
        "      낮은값 : 0.7 확률분포가 뽀족, 보수적\n",
        "      높은값 : 1.2 확률분포 평평, 창의적/래덤 선택   \n",
        "응용.스토리생성,스타일 변화\n",
        "  스토리생성\n",
        "    프롬프트(시작문장) 제공->모델이 이어서 이야기 생성\n",
        "  스타일 변화\n",
        "    모델이 특정 스타일(공식적, 캐주얼, 문학적)로 텍스트를 생성\n",
        "\n",
        "```"
      ],
      "metadata": {
        "id": "CxnuXXTcRE-n"
      }
    },
    {
      "cell_type": "code",
      "source": [
        "# 한글 gpt2 모델 과 토크나이져 로드\n",
        "tokenizer = PreTrainedTokenizerFast.from_pretrained(\"skt/kogpt2-base-v2\",\n",
        "                  bos_token='</s>', eos_token='</s>', unk_token='<unk>',\n",
        "                  pad_token='<pad>', mask_token='<mask>')\n",
        "model = GPT2LMHeadModel.from_pretrained('skt/kogpt2-base-v2').to(device)\n",
        "# 문장 생성 함수\n",
        "def generated_text(\n",
        "    prompt:str,   # 입력 프롬프트\n",
        "    max_length:int = 100,  # 최대 생성길이\n",
        "    temperature: float=1.0,  # 생성 다양성(낮을수록 보수적)\n",
        "    top_k:int=0,  # 상위 k개의 토큰만 고려\n",
        "    top_p:float=1.0, # 누적확률 p까지 토큰 고려\n",
        "    num_beams:int = 1, # Beam Searh의 빔수\n",
        "    do_sample:bool=True # 샘플링 여부\n",
        "    )->dict:  # 생성 텍스트와 마지막 토큰의 로짓/확률\n",
        "  model.eval()\n",
        "  input_ids = tokenizer(prompt, return_tensors='pt',padding=True\n",
        "                     , truncation=True).to(device)\n",
        "  # Greedy Searh인경우 do_sample=False, num_beams=1\n",
        "  if num_beams == 1 and top_k ==0 and top_p == 1.0 and temperature == 1.0:\n",
        "    do_sample = False\n",
        "  input_ids = input_ids['input_ids']\n",
        "  outputs = model.generate(\n",
        "      input_ids,\n",
        "      max_length = max_length,\n",
        "      temperature = temperature,  # 생성의 다양성(낮을수록 보수적)\n",
        "      top_k = top_k if top_k >0 else None,\n",
        "      top_p = top_p if top_p < 1.0 else None,\n",
        "      num_beams = num_beams,\n",
        "      do_sample=do_sample,\n",
        "      num_return_sequences = 1,\n",
        "      pad_token_id = tokenizer.pad_token_id,\n",
        "      no_repeat_ngram_size=2  # 반복방지\n",
        "  )\n",
        "  output_text = tokenizer.decode(outputs[0],skip_special_tokens=True)\n",
        "  # 마지막 토큰의 로짓과 확률\n",
        "  with torch.no_grad():\n",
        "    logits = model(input_ids).logits[0,-1]  # 프롬프트의 마지막 토큰의 로짓\n",
        "    probs = torch.softmax(logits / temperature, dim=-1)\n",
        "    top_probs, top_ids =  torch.topk(probs, 5)\n",
        "    top_tokens = [  tokenizer.decode([idx.item()])  for idx in top_ids ]\n",
        "  return{\n",
        "      'text': output_text\n",
        "      ,'logits': logits[:5].cpu().numpy()\n",
        "      ,'probs': top_probs.cpu().numpy()\n",
        "      ,'top_tokens': top_tokens\n",
        "  }"
      ],
      "metadata": {
        "colab": {
          "base_uri": "https://localhost:8080/"
        },
        "id": "onF9J6YXRFON",
        "outputId": "12f47dae-34ed-4043-9f2c-218fc26c694d"
      },
      "execution_count": null,
      "outputs": [
        {
          "output_type": "stream",
          "name": "stderr",
          "text": [
            "The tokenizer class you load from this checkpoint is not the same type as the class this function is called from. It may result in unexpected tokenization. \n",
            "The tokenizer class you load from this checkpoint is 'GPT2Tokenizer'. \n",
            "The class this function is called from is 'PreTrainedTokenizerFast'.\n"
          ]
        }
      ]
    },
    {
      "cell_type": "code",
      "source": [
        "prompt = '옛날의 한 마을에'\n",
        "generated_text(prompt,temperature=0.9,top_k = 50)"
      ],
      "metadata": {
        "colab": {
          "base_uri": "https://localhost:8080/"
        },
        "id": "MoX1bDhydNeB",
        "outputId": "c693da25-83a0-48c4-ec91-0fcf43a88cc2"
      },
      "execution_count": null,
      "outputs": [
        {
          "output_type": "stream",
          "name": "stderr",
          "text": [
            "Asking to truncate to max_length but no maximum length is provided and the model has no predefined maximum length. Default to no truncation.\n"
          ]
        },
        {
          "output_type": "execute_result",
          "data": {
            "text/plain": [
              "{'text': '옛날의 한 마을에 살고 있다.\\n그러나 이것은 하나의 방문이지만, 이방인은 그의 이야기를 들어주는 것이 아니라 그의 말을 듣고 있는 것이다.\\n아마 이 방문은 처음의 방문을 통해서만 가능했을 것이다.\\n그것은 그가 지금까지 듣고 있던 이야기의 끝이며, 그 이야기에 나오는 이야기들 또한 그 이야기들을 읽는 것이었기 때문이다.\\n그는 그 이야기를 듣고 있으며, 그의 이야기 속에 들어 있는 이야기를 읽고 있다.\\n그는 이 이야기들로부터 이 이야기의 진실, 그리고 이 이야기에 나타난 이야기를 통하여, 자신이 알고 있는 이야기의 내용들을 말하고 있음을 알게 되었다.\\n따라',\n",
              " 'logits': array([-4.7084203, -5.9164786, -5.5396094, -5.503705 , -4.4116774],\n",
              "       dtype=float32),\n",
              " 'probs': array([0.0764983 , 0.0759229 , 0.04554147, 0.02945458, 0.01672325],\n",
              "       dtype=float32),\n",
              " 'top_tokens': ['사는', '살고', '있는', '살던', '도착']}"
            ]
          },
          "metadata": {},
          "execution_count": 114
        }
      ]
    },
    {
      "cell_type": "markdown",
      "source": [
        "텍스트 요약\n",
        "```\n",
        "Extractive Summarization\n",
        "  원문에서 중요한 문장/구절을 그대로 추출해 요약생성(뉴스기사에서 핵심문장 3개 선택)\n",
        "  장점 : 구조간단\n",
        "  단점 : 자연스럽지 않음\n",
        "\n",
        "Abstractive Summarization\n",
        "  원문의 의미를 이해하고 새로운 문장으로 재구성(뉴스기사를 한 문장으로 요약)\n",
        "  장점 : 인간처럼 자연스러운 요약\n",
        "  단점 : 의미 왜곡\n",
        "\n",
        "GPT\n",
        "  GPT계열은 CLM 기반, 텍스트 생성에 강함\n",
        "  한계 : Decoder-only 모델, 요약처럼 입력 문맥을 깊이 이해하는데 약함\n",
        "  비유 : gpt 이야기를 이어나가는 소설가, 요약은 전체를 분석하는 편집자역활\n",
        "BERT\n",
        "  encoder-decoder 문맥을 이해하는 최적화\n",
        "평가방법\n",
        "  ROUGE(Recall-Oriented Understudy for Gistion Evaluation)\n",
        "    생성요약과 참조요약(정답) 간 단어/구문 중복 측정  \n",
        "    종류\n",
        "      ROUGE-N : N-gram 중복(1그램은 단어, 2그램은 단어쌍)\n",
        "      ROUGE-L : 최장 공통부분열(LCS)기반, 문장구조 반영\n",
        "      점수 : 0~1 높을수록 유사\n",
        "      예측한 요약과 정답의 요약의 단어가 얼마나 일치하는지\n",
        "      BLUE(Billingual Evaluation Understudy):\n",
        "        생성과 참조간의 n-gram 정밀도\n",
        "        기계번역에 주로 사용\n",
        "        번역문과 원문의 단어 일치도 체크\n",
        "```"
      ],
      "metadata": {
        "id": "VAQdf_lldTET"
      }
    },
    {
      "cell_type": "code",
      "source": [
        "from transformers import PreTrainedTokenizerFast, BartForConditionalGeneration\n",
        "tokenizer =  PreTrainedTokenizerFast.from_pretrained(\"gogamza/kobart-summarization\")\n",
        "model = BartForConditionalGeneration.from_pretrained(\"gogamza/kobart-summarization\")"
      ],
      "metadata": {
        "colab": {
          "base_uri": "https://localhost:8080/"
        },
        "id": "R48xXuvOd6X8",
        "outputId": "fc0389e2-6d4a-43a8-f9dd-bc57a082e8cd"
      },
      "execution_count": null,
      "outputs": [
        {
          "output_type": "stream",
          "name": "stderr",
          "text": [
            "You passed along `num_labels=3` with an incompatible id to label map: {'0': 'NEGATIVE', '1': 'POSITIVE'}. The number of labels will be overwritten to 2.\n",
            "The tokenizer class you load from this checkpoint is not the same type as the class this function is called from. It may result in unexpected tokenization. \n",
            "The tokenizer class you load from this checkpoint is 'BartTokenizer'. \n",
            "The class this function is called from is 'PreTrainedTokenizerFast'.\n",
            "You passed along `num_labels=3` with an incompatible id to label map: {'0': 'NEGATIVE', '1': 'POSITIVE'}. The number of labels will be overwritten to 2.\n"
          ]
        }
      ]
    },
    {
      "cell_type": "code",
      "source": [
        "import torch\n",
        "import torch.nn as nn\n",
        "device = 'cuda' if torch.cuda.is_available() else 'cpu'\n",
        "model.to(device)"
      ],
      "metadata": {
        "colab": {
          "base_uri": "https://localhost:8080/"
        },
        "id": "lUe93BEyl9FZ",
        "outputId": "f8de749d-05ba-4b91-98a2-83dd49992868"
      },
      "execution_count": null,
      "outputs": [
        {
          "output_type": "execute_result",
          "data": {
            "text/plain": [
              "BartForConditionalGeneration(\n",
              "  (model): BartModel(\n",
              "    (shared): BartScaledWordEmbedding(30000, 768, padding_idx=3)\n",
              "    (encoder): BartEncoder(\n",
              "      (embed_tokens): BartScaledWordEmbedding(30000, 768, padding_idx=3)\n",
              "      (embed_positions): BartLearnedPositionalEmbedding(1028, 768)\n",
              "      (layers): ModuleList(\n",
              "        (0-5): 6 x BartEncoderLayer(\n",
              "          (self_attn): BartSdpaAttention(\n",
              "            (k_proj): Linear(in_features=768, out_features=768, bias=True)\n",
              "            (v_proj): Linear(in_features=768, out_features=768, bias=True)\n",
              "            (q_proj): Linear(in_features=768, out_features=768, bias=True)\n",
              "            (out_proj): Linear(in_features=768, out_features=768, bias=True)\n",
              "          )\n",
              "          (self_attn_layer_norm): LayerNorm((768,), eps=1e-05, elementwise_affine=True)\n",
              "          (activation_fn): GELUActivation()\n",
              "          (fc1): Linear(in_features=768, out_features=3072, bias=True)\n",
              "          (fc2): Linear(in_features=3072, out_features=768, bias=True)\n",
              "          (final_layer_norm): LayerNorm((768,), eps=1e-05, elementwise_affine=True)\n",
              "        )\n",
              "      )\n",
              "      (layernorm_embedding): LayerNorm((768,), eps=1e-05, elementwise_affine=True)\n",
              "    )\n",
              "    (decoder): BartDecoder(\n",
              "      (embed_tokens): BartScaledWordEmbedding(30000, 768, padding_idx=3)\n",
              "      (embed_positions): BartLearnedPositionalEmbedding(1028, 768)\n",
              "      (layers): ModuleList(\n",
              "        (0-5): 6 x BartDecoderLayer(\n",
              "          (self_attn): BartSdpaAttention(\n",
              "            (k_proj): Linear(in_features=768, out_features=768, bias=True)\n",
              "            (v_proj): Linear(in_features=768, out_features=768, bias=True)\n",
              "            (q_proj): Linear(in_features=768, out_features=768, bias=True)\n",
              "            (out_proj): Linear(in_features=768, out_features=768, bias=True)\n",
              "          )\n",
              "          (activation_fn): GELUActivation()\n",
              "          (self_attn_layer_norm): LayerNorm((768,), eps=1e-05, elementwise_affine=True)\n",
              "          (encoder_attn): BartSdpaAttention(\n",
              "            (k_proj): Linear(in_features=768, out_features=768, bias=True)\n",
              "            (v_proj): Linear(in_features=768, out_features=768, bias=True)\n",
              "            (q_proj): Linear(in_features=768, out_features=768, bias=True)\n",
              "            (out_proj): Linear(in_features=768, out_features=768, bias=True)\n",
              "          )\n",
              "          (encoder_attn_layer_norm): LayerNorm((768,), eps=1e-05, elementwise_affine=True)\n",
              "          (fc1): Linear(in_features=768, out_features=3072, bias=True)\n",
              "          (fc2): Linear(in_features=3072, out_features=768, bias=True)\n",
              "          (final_layer_norm): LayerNorm((768,), eps=1e-05, elementwise_affine=True)\n",
              "        )\n",
              "      )\n",
              "      (layernorm_embedding): LayerNorm((768,), eps=1e-05, elementwise_affine=True)\n",
              "    )\n",
              "  )\n",
              "  (lm_head): Linear(in_features=768, out_features=30000, bias=False)\n",
              ")"
            ]
          },
          "metadata": {},
          "execution_count": 16
        }
      ]
    },
    {
      "cell_type": "code",
      "source": [
        "# 샘플 뉴스 기사 및 참조 요약\n",
        "nws_articles = [\n",
        "    {\n",
        "    'text': '''\n",
        "      28일 오후 2시 1분께 대구 북구 노곡동 함지산에서 난 불이 바람을 타고 계속해서 확산하고 있다.\n",
        "      산림 당국은 오후 3시 50분 현재 산불 대응 2단계를 발령하고 헬기 19대와 장비 38대, 인력 165명을 투입해 진화 작업을 벌이고 있다.\n",
        "      산불 2단계는 예상 피해 면적이 50∼100㏊, 평균 풍속 7∼11m/s, 예상 진화 10∼48시간 미만일 때 발령된다.\n",
        "        '''\n",
        "    ,'reference_summary' : \"대구 함지산에서 산불이 발생해 확산 중이다. 산림 당국은 대응 2단계를 발령하고 헬기 19대 등으로 진화 작업을 벌이고 있다.\"\n",
        "    },\n",
        "    {\n",
        "        'text':'''도널드 트럼프 미국 대통령이 자동차 고율관세의 충격을 줄인다고 로이터 통신이 28일(현지시간) 보도했다.\n",
        "\n",
        "보도에 따르면 미국 당국자들은 이 같은 조치가 미국 내에서 제조되는 자동차에 들어가는 외국산 부품에 대한 일부 관세를 완화하고 외국산 자동차에 여러 관세가 중첩되지 않도록 하는 방식으로 이뤄진다고 밝혔다.\n",
        "\n",
        "이번 방침은 자동차 고율관세 때문에 생산과 경영에 차질을 빚을 수 있다는 미국 내 자동차 업계, 노동계의 의견을 받아들인 데 따른 것이다.\n",
        "\n",
        "\n",
        "하워드 러트닉 미국 상무부 장관은 이날 성명을 통해 \"트럼프 대통령은 국내 자동차 제조업체, 위대한 우리 미국 노동자들과 중요한 제휴관계를 구축하고 있다\"고 말했다.\n",
        "\n",
        "러트닉 장관은 \"이번 합의는 국내에서 생산하는 업체들에 보상하고 미국에 투자하고 국내 제조를 늘리겠다는 약속을 표명한 업체들에게 발판을 마련해주는 방식으로 이뤄진 대통령 통상정책의 중대한 승리\"라고 평가했다.''',\n",
        "        'reference_summary':\"도널드 트럼프 미국 대통령이 자동차 고율관세로 인한 충격을 줄이기 위해 일부 외국산 부품 관세를 완화하고 중복 관세를 방지하기로 했다. 이는 자동차 업계와 노동계의 우려를 반영한 조치다.\"\n",
        "    }\n",
        "\n",
        "]"
      ],
      "metadata": {
        "id": "8bKeubLK27o8"
      },
      "execution_count": null,
      "outputs": []
    },
    {
      "cell_type": "code",
      "source": [
        "# 요약 생성 함수\n",
        "import torch\n",
        "def generate_summary(text:str, max_length:int = 50, min_length:int = 10) ->dict:\n",
        "  model.eval()\n",
        "  inputs = tokenizer(text, return_tensors='pt', max_length=1024, padding=True,truncation=True).to(device)\n",
        "  # 요약생성\n",
        "  summary_dis =  model.generate(\n",
        "      inputs['input_ids'],\n",
        "      max_length = max_length,\n",
        "      min_length = min_length,\n",
        "      num_beams=4,\n",
        "      # length_pealty=2.0,\n",
        "      early_stopping=True,\n",
        "      # no_repeat_ngam_size=2\n",
        "  )\n",
        "  summary = tokenizer.decode(summary_dis[0],skip_special_tokens=True)\n",
        "  with torch.no_grad():\n",
        "    del inputs['token_type_ids']\n",
        "    logits = model(**inputs).logits[0,-1]  # 마지막 토큰 로짓\n",
        "    probs = torch.softmax(logits,dim=-1)\n",
        "    top_probs, top_ids =  torch.topk(probs,5)\n",
        "  return {'summary':summary,'logits':logits[:5].cpu().numpy()\n",
        "  ,'probs':top_probs.cpu().numpy()\n",
        "  ,'top_tokens' : [tokenizer.decode([idx.item()]) for idx in top_ids]\n",
        "  }"
      ],
      "metadata": {
        "id": "-NhoR2P83wZp"
      },
      "execution_count": null,
      "outputs": []
    },
    {
      "cell_type": "code",
      "source": [
        "test_article = '''\n",
        "SK텔레콤은 보안관제센터에서 데이터가 빠져나간 트래픽 이상을 감지한 18일 밤 11시 20분 과금 분석 장비에서 악성코드가 심어진 사실과 함께 파일을 삭제한 흔적을 발견했다.\n",
        "\n",
        "이어 다음 날인 19일 오전 1시 40분 악성코드가 발견된 과금 분석 장비를 격리하고 침입 경로 및 유출 데이터 분석에 착수했다.\n",
        "\n",
        "19일 오후 11시 40분 홈가입자서버(HSS)의 데이터 유출이 의심되는 정황을 확인했다.\n",
        "\n",
        "이 서버는 4G 및 5G 가입자가 음성 통화를 이용할 때 단말 인증을 수행한다.\n",
        "\n",
        "최 의원은 \"국민 불안이 큰 만큼 SK텔레콤은 하루빨리 더 많은 양의 유심을 확보해 택배 운송 등 보다 적극적인 조치에 나서고 번호이동을 원하는 고객에 대해서는 위약금 면제 등 실질적 피해 구제 대책을 즉각 시행해야 한다\"고 말했다.\n",
        "'''\n",
        "result = generate_summary(test_article)\n",
        "print(result['summary'])\n",
        "result"
      ],
      "metadata": {
        "colab": {
          "base_uri": "https://localhost:8080/"
        },
        "id": "aWBXZjM64weQ",
        "outputId": "25182352-dbe6-4166-f859-5f8637eaf94d"
      },
      "execution_count": null,
      "outputs": [
        {
          "output_type": "stream",
          "name": "stdout",
          "text": [
            " SKSK텔레콤은 보안관제센터에서 데이터가 빠져나간 트래픽 이상을 감지한 18일 밤 11시 20분 과금 분석 장비에서 악성코드가 심어진 사실과 함께 파일을 삭제한 흔적을 발견했고, 다음 날\n"
          ]
        },
        {
          "output_type": "execute_result",
          "data": {
            "text/plain": [
              "{'summary': ' SKSK텔레콤은 보안관제센터에서 데이터가 빠져나간 트래픽 이상을 감지한 18일 밤 11시 20분 과금 분석 장비에서 악성코드가 심어진 사실과 함께 파일을 삭제한 흔적을 발견했고, 다음 날',\n",
              " 'logits': array([3.1775098, 9.248589 , 6.083553 , 6.063609 , 6.047577 ],\n",
              "       dtype=float32),\n",
              " 'probs': array([0.04558806, 0.0376569 , 0.03494328, 0.01233411, 0.01191952],\n",
              "       dtype=float32),\n",
              " 'top_tokens': ['말했다.', '밝히', '더불어민주당', '밝혔다.\\n', '']}"
            ]
          },
          "metadata": {},
          "execution_count": 18
        }
      ]
    },
    {
      "cell_type": "code",
      "source": [
        "!pip install -q evaluate rouge-score\n",
        "from evaluate import load\n",
        "rouge = load('rouge')\n",
        "reference = \"SK텔레콤은 18일 밤 과금 분석 장비에서 악성코드와 파일 삭제 흔적을 발견하고, 19일 해당 장비를 격리했다. 이후 홈가입자서버(HSS)에서도 데이터 유출 의심 정황을 확인했다. 이에 대해 신속한 대응과 고객 보호 조치가 요구되고 있다.\"\n",
        "# reference = [reference] * len(result['summary'])\n",
        "results  = rouge.compute(predictions=[result['summary']],references=[reference]) # 값을 리스트에 넣어야함"
      ],
      "metadata": {
        "colab": {
          "base_uri": "https://localhost:8080/",
          "height": 412,
          "referenced_widgets": [
            "237d9bbda1a2438b8964a0cf283e5ff3",
            "67be02c241654530806cbac284abf19e",
            "a03a5dafee554f6d895e2954fd67f2bc",
            "f4d853a75a4d498a965db6306ca456d0",
            "9082f3c2ccff441a81c082a18087bf76",
            "48adfd03abb945909342adc5c3cf84c8",
            "261a4925b3654984ad78a34d54210ae5",
            "cf2f29bfb23a44878771aea6393ff59b",
            "9a464551726c425097c75d5306c752bb",
            "412645d061ae4823a064113ead3af0b1",
            "7333c49151ee47eda0351985172f4480"
          ]
        },
        "id": "RbJqLxTR8-j7",
        "outputId": "860a83b0-70ba-4f3c-d7c6-94f4f43fa6f4"
      },
      "execution_count": null,
      "outputs": [
        {
          "output_type": "stream",
          "name": "stdout",
          "text": [
            "  Preparing metadata (setup.py) ... \u001b[?25l\u001b[?25hdone\n",
            "\u001b[2K   \u001b[90m━━━━━━━━━━━━━━━━━━━━━━━━━━━━━━━━━━━━━━━━\u001b[0m \u001b[32m84.0/84.0 kB\u001b[0m \u001b[31m3.0 MB/s\u001b[0m eta \u001b[36m0:00:00\u001b[0m\n",
            "\u001b[2K   \u001b[90m━━━━━━━━━━━━━━━━━━━━━━━━━━━━━━━━━━━━━━━━\u001b[0m \u001b[32m491.4/491.4 kB\u001b[0m \u001b[31m10.8 MB/s\u001b[0m eta \u001b[36m0:00:00\u001b[0m\n",
            "\u001b[2K   \u001b[90m━━━━━━━━━━━━━━━━━━━━━━━━━━━━━━━━━━━━━━━━\u001b[0m \u001b[32m116.3/116.3 kB\u001b[0m \u001b[31m12.7 MB/s\u001b[0m eta \u001b[36m0:00:00\u001b[0m\n",
            "\u001b[2K   \u001b[90m━━━━━━━━━━━━━━━━━━━━━━━━━━━━━━━━━━━━━━━━\u001b[0m \u001b[32m193.6/193.6 kB\u001b[0m \u001b[31m19.5 MB/s\u001b[0m eta \u001b[36m0:00:00\u001b[0m\n",
            "\u001b[2K   \u001b[90m━━━━━━━━━━━━━━━━━━━━━━━━━━━━━━━━━━━━━━━━\u001b[0m \u001b[32m143.5/143.5 kB\u001b[0m \u001b[31m15.5 MB/s\u001b[0m eta \u001b[36m0:00:00\u001b[0m\n",
            "\u001b[2K   \u001b[90m━━━━━━━━━━━━━━━━━━━━━━━━━━━━━━━━━━━━━━━━\u001b[0m \u001b[32m194.8/194.8 kB\u001b[0m \u001b[31m16.6 MB/s\u001b[0m eta \u001b[36m0:00:00\u001b[0m\n",
            "\u001b[?25h  Building wheel for rouge-score (setup.py) ... \u001b[?25l\u001b[?25hdone\n",
            "\u001b[31mERROR: pip's dependency resolver does not currently take into account all the packages that are installed. This behaviour is the source of the following dependency conflicts.\n",
            "torch 2.6.0+cu124 requires nvidia-cublas-cu12==12.4.5.8; platform_system == \"Linux\" and platform_machine == \"x86_64\", but you have nvidia-cublas-cu12 12.5.3.2 which is incompatible.\n",
            "torch 2.6.0+cu124 requires nvidia-cuda-cupti-cu12==12.4.127; platform_system == \"Linux\" and platform_machine == \"x86_64\", but you have nvidia-cuda-cupti-cu12 12.5.82 which is incompatible.\n",
            "torch 2.6.0+cu124 requires nvidia-cuda-nvrtc-cu12==12.4.127; platform_system == \"Linux\" and platform_machine == \"x86_64\", but you have nvidia-cuda-nvrtc-cu12 12.5.82 which is incompatible.\n",
            "torch 2.6.0+cu124 requires nvidia-cuda-runtime-cu12==12.4.127; platform_system == \"Linux\" and platform_machine == \"x86_64\", but you have nvidia-cuda-runtime-cu12 12.5.82 which is incompatible.\n",
            "torch 2.6.0+cu124 requires nvidia-cudnn-cu12==9.1.0.70; platform_system == \"Linux\" and platform_machine == \"x86_64\", but you have nvidia-cudnn-cu12 9.3.0.75 which is incompatible.\n",
            "torch 2.6.0+cu124 requires nvidia-cufft-cu12==11.2.1.3; platform_system == \"Linux\" and platform_machine == \"x86_64\", but you have nvidia-cufft-cu12 11.2.3.61 which is incompatible.\n",
            "torch 2.6.0+cu124 requires nvidia-curand-cu12==10.3.5.147; platform_system == \"Linux\" and platform_machine == \"x86_64\", but you have nvidia-curand-cu12 10.3.6.82 which is incompatible.\n",
            "torch 2.6.0+cu124 requires nvidia-cusolver-cu12==11.6.1.9; platform_system == \"Linux\" and platform_machine == \"x86_64\", but you have nvidia-cusolver-cu12 11.6.3.83 which is incompatible.\n",
            "torch 2.6.0+cu124 requires nvidia-cusparse-cu12==12.3.1.170; platform_system == \"Linux\" and platform_machine == \"x86_64\", but you have nvidia-cusparse-cu12 12.5.1.3 which is incompatible.\n",
            "torch 2.6.0+cu124 requires nvidia-nvjitlink-cu12==12.4.127; platform_system == \"Linux\" and platform_machine == \"x86_64\", but you have nvidia-nvjitlink-cu12 12.5.82 which is incompatible.\n",
            "gcsfs 2025.3.2 requires fsspec==2025.3.2, but you have fsspec 2025.3.0 which is incompatible.\u001b[0m\u001b[31m\n",
            "\u001b[0m"
          ]
        },
        {
          "output_type": "display_data",
          "data": {
            "text/plain": [
              "Downloading builder script:   0%|          | 0.00/6.27k [00:00<?, ?B/s]"
            ],
            "application/vnd.jupyter.widget-view+json": {
              "version_major": 2,
              "version_minor": 0,
              "model_id": "237d9bbda1a2438b8964a0cf283e5ff3"
            }
          },
          "metadata": {}
        }
      ]
    },
    {
      "cell_type": "code",
      "source": [
        "results"
      ],
      "metadata": {
        "colab": {
          "base_uri": "https://localhost:8080/"
        },
        "id": "Mu1bsfIl-Tzg",
        "outputId": "c80556e4-b0ea-4efc-db73-13ffecdcc2f7"
      },
      "execution_count": null,
      "outputs": [
        {
          "output_type": "execute_result",
          "data": {
            "text/plain": [
              "{'rouge1': np.float64(0.25),\n",
              " 'rouge2': np.float64(0.0),\n",
              " 'rougeL': np.float64(0.25),\n",
              " 'rougeLsum': np.float64(0.25)}"
            ]
          },
          "metadata": {},
          "execution_count": 20
        }
      ]
    }
  ]
}