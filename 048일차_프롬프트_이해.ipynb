{
  "cells": [
    {
      "cell_type": "markdown",
      "metadata": {
        "id": "pfOV4xzNQIIY"
      },
      "source": [
        "prompt\n",
        "```\n",
        "  LLM에 전달되는 입력(질문,지시,문맥), 모델이 원하는 출력을 생성하도록 유도  \n",
        "```\n",
        "GPT(Generative Pre-trained Transformer)\n",
        "```\n",
        "  입력텍스트를 토큰을 분리 각 토큰에 대해 다음 토큰의 확률분포를 예측\n",
        "  ex) 하늘은  \"파랗다\"(0.4) \"맑다\"(0.3),,\n",
        "```\n",
        "파라메터\n",
        "```\n",
        "  Temperature : 출력의 창의성/무작위성 조절\n",
        "    낮은값(0.2) : 결정적이고 일관된 출력  ex 하늘은 파랗다\n",
        "    높은값(0.9) : 창의적이고 다양한 출력  ex) 하늘은 꿈의 캠퍼스다\n",
        "  Top-p(Nucleus Sampling) : 상위 p% 토큰을 고려\n",
        "    0.1 : 상위10% 확률의 토큰만 고려 -> 보수적\n",
        "    0.9 : 더많은 토큰을 고려 -> 다양\n",
        "  Top-k : 상위 k개의 토큰만 고려... 일반적으로 Top-p가 대세적\n",
        "  MaxTokens\n",
        "```"
      ]
    },
    {
      "cell_type": "code",
      "execution_count": 1,
      "metadata": {
        "id": "xkHyrL9hOOgz"
      },
      "outputs": [],
      "source": [
        "prompts = [\n",
        "    \"미래 도시를 짧게 묘사해줘\",\n",
        "    \"하늘이 파란 이유를 한 문장으로 설명해줘\"\n",
        "]"
      ]
    },
    {
      "cell_type": "code",
      "execution_count": 1,
      "metadata": {
        "id": "H6xtqwqyQKzk"
      },
      "outputs": [],
      "source": [
        "import openai\n",
        "\n",
        "class Chatgpt:\n",
        "    def __init__(self, api_key: str, model_name: str = \"gpt-3.5-turbo\"):\n",
        "        self.messages = []\n",
        "        self.model_name = model_name\n",
        "        self.client = openai.OpenAI(api_key=api_key)\n",
        "\n",
        "    def system_prompt(self, prompt: str):\n",
        "        self.messages.append({\"role\": \"system\", \"content\": prompt})\n",
        "\n",
        "    def chatsession(self, prompt: str, temperature: float = 0.0, max_tokens: int = 1000, top_p: float = 1.0):\n",
        "        self.messages.append({\"role\": \"user\", \"content\": prompt})\n",
        "\n",
        "        response = self.client.chat.completions.create(\n",
        "            model=self.model_name,\n",
        "            messages=self.messages,\n",
        "            temperature=temperature,\n",
        "            max_tokens=max_tokens,\n",
        "            top_p=top_p\n",
        "        )\n",
        "\n",
        "        assistant_reply = response.choices[0].message.content\n",
        "        self.messages.append({\"role\": \"assistant\", \"content\": assistant_reply})\n",
        "        return assistant_reply\n",
        "\n",
        "    def get_chat_history(self):\n",
        "        return self.messages\n",
        "\n",
        "    def reset_chat(self):\n",
        "        self.messages = []"
      ]
    },
    {
      "cell_type": "code",
      "execution_count": null,
      "metadata": {
        "id": "DwCFT3ekQcDn"
      },
      "outputs": [],
      "source": [
        "api_key = 'your_api_key'"
      ]
    },
    {
      "cell_type": "code",
      "execution_count": 3,
      "metadata": {
        "id": "KdTkdEgNQdyB"
      },
      "outputs": [],
      "source": [
        "client = Chatgpt(api_key=api_key)"
      ]
    },
    {
      "cell_type": "code",
      "execution_count": 9,
      "metadata": {
        "colab": {
          "base_uri": "https://localhost:8080/"
        },
        "id": "oMuwvWD-Qyon",
        "outputId": "dc1e8f22-601e-4b3b-b9a9-c96a856c1078"
      },
      "outputs": [
        {
          "name": "stdout",
          "output_type": "stream",
          "text": [
            "1) 미래 도시는 높은 첨탑과 혁신적인 기술로 가득한 도시로, 자율 주행 차량이 도로를 지배하고 고층 건물 사이를 오가는 드론들이 떠다니는 모습이 보인다. 또한 인공지능이 모든 가정과 회사에서 일상적으로 사용되며, 친환경적인 재생 에너지 시스템이 도시 전체를 이끌어가고 있다.\n",
            "2) 하늘이 파란 이유는 태양 빛이 대기 중의 공기 분자들과 상호 작용하여 블루 스카이 효과를 만들어내기 때문이다.\n"
          ]
        }
      ],
      "source": [
        "prompts = [\n",
        "    \"미래 도시를 짧게 묘사해줘\",\n",
        "    \"하늘이 파란 이유를 한 문장으로 설명해줘\"\n",
        "]\n",
        "client.reset_chat()\n",
        "for idx, prompt in enumerate(prompts):\n",
        "  print(f'{idx+1}) {client.chatsession(prompt)}')"
      ]
    },
    {
      "cell_type": "markdown",
      "metadata": {
        "id": "JcNtEbGuW8CL"
      },
      "source": [
        "네이버 지식인에 질문을 prompt로 해서 실행\n",
        "  - 네이버 지식인 크롤링"
      ]
    },
    {
      "cell_type": "code",
      "execution_count": 4,
      "metadata": {
        "id": "_Q8aLgbJWb93"
      },
      "outputs": [],
      "source": [
        "import requests\n",
        "from bs4 import BeautifulSoup"
      ]
    },
    {
      "cell_type": "code",
      "execution_count": 5,
      "metadata": {
        "id": "j8YheW2DWcl7"
      },
      "outputs": [],
      "source": [
        "# 네이버 지식인 크롤링\n",
        "def crawl_naver_kin(question,limit=3):\n",
        "  url = \"https://kin.naver.com/search/list.naver?query=\" + question\n",
        "  response = requests.get(url)\n",
        "  html = response.text\n",
        "  soup = BeautifulSoup(html, 'html.parser')\n",
        "  questions = []\n",
        "  for item in soup.select('#s_content > div.section > ul > li > dl > dt > a')[:limit]:\n",
        "    questions.append(item.text)\n",
        "  return questions"
      ]
    },
    {
      "cell_type": "code",
      "execution_count": 26,
      "metadata": {
        "colab": {
          "base_uri": "https://localhost:8080/"
        },
        "id": "X76QH6l_WdQb",
        "outputId": "bff9770b-491f-4777-974c-1defd196fac6"
      },
      "outputs": [
        {
          "name": "stdout",
          "output_type": "stream",
          "text": [
            "1) 1. 다양한 종류의 샐러드: 샐러드에는 다양한 식재료를 활용하여 매일매일 새로운 맛을 즐길 수 있습니다. 시즌별 식재료를 활용하여 색다른 맛을 느껴보세요.\n",
            "\n",
            "2. 차별화된 샌드위치: 샌드위치에는 다양한 재료를 활용하여 맛과 영양을 동시에 챙길 수 있습니다. 예를 들어, 아보카도와 토마토를 넣은 샌드위치나 닭가슴살과 야채를 넣은 샌드위치 등을 시도해보세요.\n",
            "\n",
            "3. 국물 요리: 국물 요리는 포만감을 느끼면서도 건강한 식사를 할 수 있는 메뉴입니다. 다양한 국물 요리를 시도하여 맛과 영양을 동시에 챙겨보세요.\n",
            "\n",
            "4. 다양한 종류의 덮밥: 덮밥은 밥 위에 다양한 재료를 올려 먹는 메뉴로, 다양한 종류의 덮밥을 시도하여 매일매일 새로운 맛을 즐길 수 있습니다.\n",
            "\n",
            "5. 가벼운 요리: 가벼운 요리는 점심 후 졸음을 방지하고 소화를 돕는데 도움이 됩니다. 가벼운 요리를 선택하여 질리지 않게 맛있게 식사하세요.\n",
            "2) 일반적으로 다양한 직장인들이 점심으로 즐기는 메뉴는 다음과 같습니다:\n",
            "\n",
            "1. 샐러드: 가벼우면서도 영양가가 높은 샐러드는 다이어트나 건강식으로 인기가 많습니다.\n",
            "\n",
            "2. 샌드위치: 간편하게 챙겨먹을 수 있는 샌드위치는 다양한 재료를 활용하여 맛을 즐길 수 있어 인기가 많습니다.\n",
            "\n",
            "3. 국물 요리: 국물 요리는 포만감을 느끼면서도 건강한 식사를 할 수 있는 메뉴로, 다양한 종류의 국물 요리가 인기가 있습니다.\n",
            "\n",
            "4. 덮밥: 밥 위에 다양한 재료를 올려 먹는 덮밥은 포만감을 느끼면서도 맛을 즐길 수 있는 메뉴로 인기가 있습니다.\n",
            "\n",
            "5. 중식 또는 일식: 직장인들이 자주 선택하는 중식이나 일식 레스토랑에서 다양한 요리를 즐기는 경우도 많습니다.\n",
            "\n",
            "이외에도 다양한 메뉴를 즐기는 직장인들이 많으니, 다양한 옵션을 고려하여 맛있는 점심을 즐기시면 좋을 것 같습니다.\n",
            "3) 직장인들 사이에서 가장 인기 있는 점심 메뉴 중 하나는 샐러드입니다. 샐러드는 가볍고 건강하면서도 영양가가 높아 다이어트나 건강식으로 인기가 많습니다. 또한, 다양한 식재료를 활용하여 매일매일 새로운 맛을 즐길 수 있어 질리지 않는 장점이 있습니다. 또한, 샐러드는 포만감을 느끼면서도 소화에 도움을 주는데 도움이 되어 인기가 높습니다. 따라서, 직장인들 사이에서 샐러드가 인기 있는 점심 메뉴 중 하나로 꼽히고 있습니다.\n"
          ]
        }
      ],
      "source": [
        "client.reset_chat()\n",
        "for idx, prompt in enumerate(crawl_naver_kin(\"직장인 점심메뉴\")):\n",
        "  print(f'{idx+1}) {client.chatsession(prompt)}')"
      ]
    },
    {
      "cell_type": "markdown",
      "metadata": {
        "id": "f9WJ_em5cuRu"
      },
      "source": [
        "Zero-Shot\n",
        "```\n",
        "모델한테 예시없이(학습) 작업을 수행\n",
        "프롬프트만으로 작업을 수행하도록 모델에 지시\n",
        "적합한 상황\n",
        "  감정분석 : 긍정/부정/중립\n",
        "  카테고리분류 : 뉴스기사등...(정치,경제..)\n",
        "```"
      ]
    },
    {
      "cell_type": "code",
      "execution_count": 32,
      "metadata": {
        "id": "rrwzmTb2csZQ"
      },
      "outputs": [],
      "source": [
        "# 감정분류용 리뷰\n",
        "reviews = [\n",
        "    '이 제품은 정말 훌륭합니다. 적극 추천합니다.',\n",
        "    '배송이 너무 느리고 품질도 별로에요',\n",
        "    '가격대비 괜찮은 제품인거 같습니다',\n",
        "]\n",
        "# 카테고리 분류용 뉴스 헤드라인\n",
        "headlines = [\n",
        "    '국가안보실, 북 미사일 대응 안보상황 점검회의',\n",
        "    'DL이앤씨, 울릉공항 건설 위한 마지막 케이슨 설치 완료',\n",
        "    \"수도권 전세사기로 '88억 원' 가로챈 일당 송치\",\n",
        "]"
      ]
    },
    {
      "cell_type": "code",
      "execution_count": 34,
      "metadata": {
        "colab": {
          "base_uri": "https://localhost:8080/"
        },
        "id": "YKRB4CVkcs0u",
        "outputId": "5965f13b-a7d6-43f9-e8b6-e3e9f111c48e"
      },
      "outputs": [
        {
          "name": "stdout",
          "output_type": "stream",
          "text": [
            "review : 이 제품은 정말 훌륭합니다. 적극 추천합니다., sentiment : 감정: 긍정\n",
            "review : 배송이 너무 느리고 품질도 별로에요, sentiment : 감정: 부정\n",
            "review : 가격대비 괜찮은 제품인거 같습니다, sentiment : 감정: 중립\n"
          ]
        }
      ],
      "source": [
        "# zero-shot 감정분석\n",
        "for review in reviews:\n",
        "  sentiment_prompt = f'''\n",
        "    다음 리뷰의 감정을 긍정 부정 중립으로 분류해줘:\n",
        "    리뷰 : {review}\n",
        "    감정 :\n",
        "  '''\n",
        "  result = client.chatsession(sentiment_prompt)\n",
        "  print(f\"review : {review}, sentiment : {result}\")"
      ]
    },
    {
      "cell_type": "code",
      "execution_count": 35,
      "metadata": {
        "colab": {
          "base_uri": "https://localhost:8080/"
        },
        "id": "uswatK_1cs8s",
        "outputId": "37ed9c06-db3e-4563-c638-21125167dd34"
      },
      "outputs": [
        {
          "name": "stdout",
          "output_type": "stream",
          "text": [
            "headline : 국가안보실, 북 미사일 대응 안보상황 점검회의, sentiment : 카테고리: 정치\n",
            "headline : DL이앤씨, 울릉공항 건설 위한 마지막 케이슨 설치 완료, sentiment : 카테고리: 경제\n",
            "headline : 수도권 전세사기로 '88억 원' 가로챈 일당 송치, sentiment : 카테고리: 사회\n"
          ]
        }
      ],
      "source": [
        "# zero-shot 감정분석\n",
        "for headline in headlines:\n",
        "  sentiment_prompt = f'''\n",
        "    다음 뉴스 헤드라인의 카테고리를 제목을 정치 경제 사회로 분류해줘:\n",
        "    헤드라인 : {headline}\n",
        "    카테고리 :\n",
        "  '''\n",
        "  result = client.chatsession(sentiment_prompt)\n",
        "  print(f\"headline : {headline}, sentiment : {result}\")"
      ]
    },
    {
      "cell_type": "code",
      "execution_count": 6,
      "metadata": {
        "id": "9ZtQg86VctEi"
      },
      "outputs": [],
      "source": [
        "# 네이버 뉴스 헤드라 크롤링\n",
        "def crawl_naver_kin(limit=3):  # cnf_news_title\n",
        "  url = \"https://news.naver.com/\"\n",
        "  response = requests.get(url)\n",
        "  html = response.text\n",
        "  soup = BeautifulSoup(html, 'html.parser')\n",
        "  headlines = []\n",
        "  for item in soup.find_all('strong', class_='cnf_news_title')[:limit]:\n",
        "    headlines.append(item.text)\n",
        "  return headlines"
      ]
    },
    {
      "cell_type": "code",
      "execution_count": 39,
      "metadata": {
        "colab": {
          "base_uri": "https://localhost:8080/"
        },
        "id": "Tvs9dFoDg4w2",
        "outputId": "868687d5-3277-425c-d08a-1d7769edabf3"
      },
      "outputs": [
        {
          "data": {
            "text/plain": [
              "['\"美·中과 경쟁 무의미\"…새 정부, 제조·인재·거버넌스로 AI 패권 도전해야',\n",
              " '김문수 ‘경주 회군’의 전말, 그리고 엇갈리는 민심',\n",
              " '깐깐한 장비 검사…생고생 했는데 더 뛰고 싶다! [제5회 장수트레일레이스 20K 참가기]',\n",
              " '與지도부, 김문수 제안 듣더니…“정말 한심” “날 밟고 가라”',\n",
              " '김문수 \"당, 강제단일화 손 떼라…일주일 뒤 토론·여론조사하자\"',\n",
              " '\\'공직선거법 위반\\' 정동영 항소심.. 검찰 \"이재명 판례 적용해선 안 돼\"',\n",
              " '김문수 \"지도부, 한덕수와 강제 단일화 손 떼라\"',\n",
              " '김문수 “당무 우선권 발동…다음주 여론조사 후 단일화 제안”',\n",
              " '[속보]권성동 “김문수, 알량한 후보자리 지키려 회견…한심”',\n",
              " '김문수 \"지도부, 한덕수와 강제단일화 손 떼라\"…11일 전 단일화 일축']"
            ]
          },
          "execution_count": 39,
          "metadata": {},
          "output_type": "execute_result"
        }
      ],
      "source": [
        "crawl_naver_kin(10)"
      ]
    },
    {
      "cell_type": "code",
      "execution_count": 44,
      "metadata": {
        "colab": {
          "base_uri": "https://localhost:8080/"
        },
        "id": "CBXhKSm2g4_B",
        "outputId": "ef18dc8b-d80b-4944-be43-e38723e2e18f"
      },
      "outputs": [
        {
          "name": "stdout",
          "output_type": "stream",
          "text": [
            "news : [속보]한덕수 “단일화 반드시 필요…김문수와 오후 4시 재논의”, sentiment : 카테고리: 정치\n",
            "news : Korean Ph.D. graduates head overseas on promise of all-round better conditions, sentiment : 카테고리: 교육/학문\n",
            "news : [현장영상+] 이재명 \"우리 경제 어려워...가장 중요한 일은 민생을 살리는 것\", sentiment : 카테고리: 정치\n",
            "news : 김문수 “당 지도부, 단일화 작업 손 떼라”… ‘11일 전 단일화’ 사실상 거부, sentiment : 카테고리: 정치\n",
            "news : [속보]한덕수 \"김문수와 회동 응하기 위해 서울로 이동\", sentiment : 카테고리: 정치\n",
            "news : 경북 산불로 꿀벌 3억2000만마리 사라져…양봉 피해 ‘눈덩이’, sentiment : 카테고리: 사회\n",
            "news : 이재명 \"기초연금 부부감액 줄이고…간병파산 걱정 덜 것\", sentiment : 카테고리: 정치\n",
            "news : 김문수 “지도부, 강압적 단일화 손 떼라···일주일 뒤 토론·여론조사하자”, sentiment : 카테고리: 정치\n",
            "news : \"내년 봄엔 일본 여행 피해라\"…난리난 이유, sentiment : 카테고리: 사회\n",
            "news : 김문수 압박 수위↑…권영세 \"토론 못해도 단일화 조사 예정대로\", sentiment : 카테고리: 정치\n"
          ]
        }
      ],
      "source": [
        "# zero-shot 감정분석\n",
        "for news in crawl_naver_kin(10):\n",
        "  sentiment_prompt = f'''\n",
        "    다음 뉴스 헤드라인의 카테고리를 분류해줘:\n",
        "    헤드라인 : {news}\n",
        "    카테고리 :\n",
        "  '''\n",
        "  result = client.chatsession(sentiment_prompt)\n",
        "  print(f\"news : {news}, sentiment : {result}\")"
      ]
    },
    {
      "cell_type": "markdown",
      "metadata": {
        "id": "W0WG6MFVoon6"
      },
      "source": [
        "one-shot\n",
        "```\n",
        "  하나의 예시(입력과 출력쌍)\n",
        "  제로샷보다는 더 명호가한 가이드 제공,성능 향상\n",
        "  단점 : 예시선택이 결과에 큰 영향, 부적절한 예시는 성능 저하\n",
        "  명확하고 대표적이여야함\n",
        "  프롬프트 : 예시입력->예시출력->실제입력->출력요청\n",
        "  샘플예시기준\n",
        "    대표성 : 일반적인 사례를 포함(감성분석 : 강한긍정/부정)\n",
        "    명확성 : 모호하지않은 예시(좋아요 보다는 정말 훌륭한\n",
        "    일관성 : 실제입력과 유사한 형식과 도메인\n",
        "```"
      ]
    },
    {
      "cell_type": "code",
      "execution_count": 47,
      "metadata": {
        "colab": {
          "base_uri": "https://localhost:8080/"
        },
        "id": "EKvvG5VDg5Ii",
        "outputId": "d803b8cd-fd1d-4126-c3a6-00b69c053593"
      },
      "outputs": [
        {
          "name": "stdout",
          "output_type": "stream",
          "text": [
            "review : 이 제품은 정말 훌륭합니다. 적극 추천합니다., sentiment : 리뷰: \"정말 훌륭한 제품입니다\"\n",
            "감정: 긍정\n",
            "\n",
            "리뷰: \"이 제품은 정말 훌륭합니다. 적극 추천합니다.\"\n",
            "감정: 긍정\n",
            "review : 배송이 너무 느리고 품질도 별로에요, sentiment : 리뷰: \"배송이 너무 느리고 품질도 별로에요\"\n",
            "감정: 부정\n",
            "review : 가격대비 괜찮은 제품인거 같습니다, sentiment : 리뷰: \"가격대비 괜찮은 제품인거 같습니다\"\n",
            "감정: 중립\n"
          ]
        }
      ],
      "source": [
        "  # zero-shot\n",
        "  #  f'''\n",
        "  #   다음 리뷰의 감정을 긍정 부정 중립으로 분류해줘:\n",
        "  #   리뷰 : {review}\n",
        "  #   감정 :\n",
        "  # '''\n",
        "\n",
        "  # one-shot\n",
        "  for review in reviews:\n",
        "    one_shot_sentiment_prompt =f'''\n",
        "    다음 리뷰의 감정을 긍정 부정 중립으로 분류해줘:\n",
        "\n",
        "    예시:\n",
        "    리뷰 : \"정말 훌륭한 제품입니다\"\n",
        "    감정 : 긍정\n",
        "\n",
        "    리뷰 : \"{review}\"\n",
        "    감정 :\n",
        "  '''\n",
        "    result = client.chatsession(one_shot_sentiment_prompt,temperature=0.2)\n",
        "    print(f\"review : {review}, sentiment : {result}\")"
      ]
    },
    {
      "cell_type": "code",
      "execution_count": 56,
      "metadata": {
        "colab": {
          "base_uri": "https://localhost:8080/"
        },
        "id": "zHHCmV3ct0u0",
        "outputId": "241dbffe-1ec9-41f0-a9c9-4c619e00e2ea"
      },
      "outputs": [
        {
          "name": "stdout",
          "output_type": "stream",
          "text": [
            "headline : [속보] 한덕수 “단일화 약속 지키라 할 것…오후 4시에 김문수와 다시 회동”, sentiment : 헤드라인: \"[속보] 한덕수 “단일화 약속 지키라 할 것…오후 4시에 김문수와 다시 회동”\"\n",
            "카테고리: 정치\n",
            "headline : 김문수 \"지도부, 한덕수와 강제단일화 손 떼라\"…11일 전 단일화 일축, sentiment : 헤드라인: \"김문수 \"지도부, 한덕수와 강제단일화 손 떼라\"…11일 전 단일화 일축\"\n",
            "카테고리: 정치\n",
            "headline : 트럼프 \"큰 국가와 첫번째 무역 합의\"…8일 발표 예고, sentiment : 헤드라인: \"트럼프 \"큰 국가와 첫번째 무역 합의\"…8일 발표 예고\"\n",
            "카테고리: 정치\n",
            "headline : 타이어뱅크 돈으로 에어프레미아 인수? 편법 승계 논란 왜 [넘버스], sentiment : 헤드라인: \"타이어뱅크 돈으로 에어프레미아 인수? 편법 승계 논란 왜 [넘버스]\"\n",
            "카테고리: 경제\n",
            "headline : 김문수 “‘무소속 유령’과 단일화가 민주주의냐”…국힘 지도부 맹비난, sentiment : 헤드라인: \"김문수 “‘무소속 유령’과 단일화가 민주주의냐”…국힘 지도부 맹비난\"\n",
            "카테고리: 정치\n",
            "headline : 거울 보듯 30초 쳐다만 봤는데 혈압·체온 등 건강 정보가 좍…, sentiment : 헤드라인: \"거울 보듯 30초 쳐다만 봤는데 혈압·체온 등 건강 정보가 좍…\"\n",
            "카테고리: 건강/의학\n",
            "headline : Korean Ph.D. graduates head overseas on promise of all-round better conditions, sentiment : 헤드라인: \"Korean Ph.D. graduates head overseas on promise of all-round better conditions\"\n",
            "카테고리: 교육/학문\n",
            "headline : 중도층은 조용히 지켜보고 있다[취재 후], sentiment : 헤드라인: \"중도층은 조용히 지켜보고 있다[취재 후]\"\n",
            "카테고리: 사회\n",
            "headline : \"지브리 스타일로 바꿔줘\" AI 이용자 확 늘었다, sentiment : 헤드라인: \"\"지브리 스타일로 바꿔줘\" AI 이용자 확 늘었다\"\n",
            "카테고리: 기술/과학\n",
            "headline : 용인 아파트인데 1000가구 '펑크' 났다…미분양 쓰나미, 침몰하는 '반세권', sentiment : 헤드라인: \"용인 아파트인데 1000가구 '펑크' 났다…미분양 쓰나미, 침몰하는 '반세권'\"\n",
            "카테고리: 사회\n"
          ]
        }
      ],
      "source": [
        "  for headline in crawl_naver_kin(10):\n",
        "    one_shot_sentiment_prompt =f'''\n",
        "    다음 뉴스 헤드라인의 카테고리를 분류해줘:\n",
        "\n",
        "    예시:\n",
        "    헤드라인 : \"[속보]한덕수 “단일화 반드시 필요…김문수와 오후 4시 재논의\"\n",
        "    카테고리 : 정치\n",
        "\n",
        "    헤드라인 : \"{headline}\"\n",
        "    카테고리 :\n",
        "  '''\n",
        "    result = client.chatsession(one_shot_sentiment_prompt,temperature=0.2)\n",
        "    print(f\"headline : {headline}, sentiment : {result}\")"
      ]
    },
    {
      "cell_type": "markdown",
      "metadata": {
        "id": "p80bvuaIwkJe"
      },
      "source": [
        "few-show\n",
        "```\n",
        "예러개의 예시를 제공,복잡한 작업에 효과적(키워드 추출,논리적 추론)\n",
        "토큰의효율성을 고려해서 3~5개로 제한\n",
        "Chain-of-Thought와 결합전략\n",
        "  CoT : 모델이 단계별로 사고과정을 설명하도록 유도\n",
        "    ex 키워드추출: 핵심명사식별->일반단어제외->키워드 목록작성\n",
        "    작업지시문에 \"단계별로 설명하라\" 추가\n",
        "```"
      ]
    },
    {
      "cell_type": "code",
      "execution_count": 58,
      "metadata": {
        "colab": {
          "base_uri": "https://localhost:8080/"
        },
        "id": "re5nmIfxtKqT",
        "outputId": "1c35fa49-1d73-4cfe-ed9b-7112a5fc7508"
      },
      "outputs": [
        {
          "name": "stdout",
          "output_type": "stream",
          "text": [
            "review : 이 제품은 정말 훌륭합니다. 적극 추천합니다.  sentiment : 리뷰: \"이 제품은 정말 훌륭합니다. 적극 추천합니다.\"\n",
            "감정: 긍정\n",
            "review : 배송이 너무 느리고 품질도 별로에요  sentiment : 리뷰: \"배송이 너무 느리고 품질도 별로에요\"\n",
            "감정: 부정\n",
            "review : 가격대비 괜찮은 제품인거 같습니다  sentiment : 리뷰: \"가격대비 괜찮은 제품인거 같습니다\"\n",
            "감정: 긍정\n"
          ]
        }
      ],
      "source": [
        "# few shot 감정 분석\n",
        "few_shot_sentiment_prompt ='''\n",
        "다음 리뷰의 감정을 긍정,부정, 또는 중립으로 분류해줘\n",
        "\n",
        "예시1:\n",
        "리뷰:\"정말 훌륭한 제품입니다. 재 구매의사 있습니다.\"\n",
        "감정:긍정\n",
        "\n",
        "예시2:\n",
        "리뷰:\"품질이 너무 안좋아요, 실망했어요\"\n",
        "감정:부정\n",
        "\n",
        "예시3:\n",
        "리뷰:\"보통이에요, 특별히 좋고 싫은점이 없습니다. 쓸만해요\"\n",
        "감정:중립\n",
        "\n",
        "리뷰:\"{}\"\n",
        "감정:\n",
        "'''\n",
        "for review in reviews:\n",
        "  result = client.chatsession(few_shot_sentiment_prompt.format(review))\n",
        "  print(f'review : {review}  sentiment : {result}')"
      ]
    },
    {
      "cell_type": "code",
      "execution_count": 59,
      "metadata": {
        "id": "RuxVkOuHupmY"
      },
      "outputs": [],
      "source": [
        "# 키워드 추출문장\n",
        "sentences = [\n",
        "    '스마트폰은 강력한 프로세스와 긴 베터리 수명을 제공한다',\n",
        "    '컨퍼런스는 AI, 클라우드 컴퓨팅, 사이버 보안을 논의했다'\n",
        "]\n",
        "# few-shot 키워드 추출 문장( CoT 포함)\n",
        "few_shot_keyword_prompt = '''\n",
        "다음 문장에서 주요  키워드를 추출해줘, 단계별 추론 과정을 설명한뒤 키워드를 추출해\n",
        "\n",
        "예시1:\n",
        "문장 : \"자동차는 첨단 안전 기능과 뛰어난 연비를 제공한다\"\n",
        "추론:\n",
        "1 핵심 명사 와 구체적 개념식별: 자동차, 안전 기능, 연비\n",
        "2 일반 단어 제외 : 제공한다, 뛰어난\n",
        "3 최종키워드 선택 : 자동차, 안전 기능, 연비\n",
        "\n",
        "예시2:\n",
        "문장 : \"인공지능 기술은 다양한 산업 분야에서 활용되고 있다\"\n",
        "추론:\n",
        "1 핵심 명사 와 구체적 개념식별: 인공지능 기술, 산업 분야\n",
        "2 일반 단어 제외 : 다양한, 활용되고 있다\n",
        "3 최종키워드 선택 : 인공지능 기술, 산업 분야\n",
        "\n",
        "예시3:\n",
        "문장 : \"스마트폰은 사용자 경험을 향상시키기 위한 여러 기능을 탑재하고 있다\"\n",
        "추론:\n",
        "1 핵심 명사 와 구체적 개념식별: 스마트폰, 사용자 경험, 기능\n",
        "2 일반 단어 제외 : 향상시키기 위한, 여러, 탑재하고 있다\n",
        "3 최종키워드 선택 : 스마트폰, 사용자 경험, 기능\n",
        "'''"
      ]
    },
    {
      "cell_type": "code",
      "execution_count": 11,
      "metadata": {
        "id": "e-bjT_DSuqUe"
      },
      "outputs": [],
      "source": [
        "# 키워드 추출문장\n",
        "sentences = '''\n",
        "지난 4월 한 달 동안 미 증시에 투자하는 서학개미들은 '관세전쟁' 완화 기대감으로 반도체 관련 상장지수펀드(ETF)에 대한 관심이 많았으나 레버리지와 인버스 상품이 동시에 상위권에 오르는 등 여전히 전망이 엇갈렸으며, 대표적인 선호주인 테슬라는 하락을 멈춤에 따라 다시 매수 상위권에 오른 것으로 분석됐다.\n",
        "\n",
        "이같은 내용은 카카오페이증권(대표 신호철)이 지난 4월 한 달간 자사 플랫폼을 통해 미국주식을 거래한 사용자들의 평균 수익률과 구매 금액 상위 종목을 분석한 결과다.\n",
        "\n",
        "8일 카카오페이증권에 따르면, 지난 4월 한 달 동안 반도체 관련 상장지수펀드(ETF)에 대한 관심이 급증한 것으로 나타났다. 특히 레버리지와 인버스 상품이 나란히 상위권에 올라 반도체 업종을 둘러싼 시장의 방향성 전망은 여전히 엇갈리는 양상을 보였다.\n",
        "\n",
        "먼저 4월 전체 사용자 평균 수익률은 -2.1%로, 전월(-2.8%) 대비 소폭 개선됐다. 미 증시의 변동성 확대 국면 속에서 사용자들은 고위험 상품을 적극 활용하며 대응 전략을 다변화하는 모습이었다는 분석이다.\n",
        "\n",
        "이 기간 동안 가장 많이 구매한 1위 종목은 ICE 반도체지수의 하루 수익률을 3배 추종하는 상품인 SOXL(디렉시온 데일리 세미컨덕터 불 3배 ETF)로, 전월 대비 6계단이나 상승했다.\n",
        "\n",
        "이는 최근 트럼프 대통령의 관세 정책으로 불거졌던 반도체 관세 우려가 일부 해소되면서 투자심리가 회복된 데 따른 것으로 풀이된다. 동시에 반도체 하락을 3배 따르는 SOXS(디렉시온 데일리 세미컨덕터 베어 3배 ETF)가 신규로 4위에 진입해 관련 업종에 대한 상반된 전망을 반영했다.\n",
        "\n",
        "한편 3월까지 이어졌던 테슬라의 하락세는 4월 들어 하락을 멈추고 반등하는 등 전환점을 맞았다. 떠라서 4월에는 테슬라(3위) 수익률이 9%로 반등했고, 테슬라 주가 2배 추종 ETF인 TSLL(2위)도 8% 수익률을 기록한 가운데 여전히 구매 순위 상위권을 유지했다.\n",
        "\n",
        "반면 테슬라 주가 하락 시 수익을 얻는 TSLQ(7위)와 TSLZ(10위)는 각각 마이너스 40% 수익률로 큰 손실을 보여, 3월의 ‘하방 포지션’ 전략이 녹록지 않았다는 분석이다.\n",
        "\n",
        "이외에도 8위에 오른 아메리칸 레블 홀딩스(AREB)는 한 달간 145%의 수익률을 기록해 급등주로 부상했으며, 나스닥 100 지수 수익률을 3배 추종하는 TQQQ가 신규로 5위를 차지했다.\n",
        "\n",
        "◆ 20~30대, 고위험 자산 비중 확대…40~50대도 ‘안정에서 공격’ 전략 변화\n",
        "\n",
        "한편 카카오페이증권은 20~30대 사용자들의 평균 수익률은 -2.4%로 전체 평균(-2.1%)보다 낮았다고 분석했다. 이들은 SOXL, SOXS, TSLL, TQQQ 등 고위험 파생형 상품에 공격적으로 투자하며 시장의 변동성을 활용한 운용 전략을 이어갔다.\n",
        "\n",
        "상대적으로 보수적인 투자 성향을 보여온 40~50대도 4월 들어 SOXL, SOXS, TQQQ 등 파생형 상품 구매를 늘리며 투자 전략에 변화를 꾀한 점은 주목할만한 변화다.\n",
        "\n",
        "물론 ▲테슬라(TSLA) ▲엔비디아(NVDA) ▲팔란티어(PLTR) ▲아이온큐(IONQ) 등 개별 기술주에 대한 지속적인 매수세 역시 유지했다. 해당 연령층의 평균 수익률은 -1.6%로 전 연령대 중 가장 선방한 것으로 나타났다.\n",
        "\n",
        "카카오페이증권은 “3월은 테슬라를 중심으로 기술주에 대한 상승·하락을 겨냥한 포지션이 주요 흐름이었다면, 4월은 반도체 섹터가 핵심 투자 대상으로 떠올라 ‘섹터 전환’이 나타났다”며 “SOXL과 SOXS가 동시에 상위권에 오른 점은 방향성에 대한 확신보다는 변동성 장세에서 분산 전략을 구사하는 투자자들이 늘고 있음을 보여준다”고 설명했다.\n",
        "\n",
        "카카오페이증권 사용자들의 4월 투자 동향에 대한 자세한 내용은 카카오페이앱 하단 메뉴 ‘증권’ 내 ‘발견’ 탭에서 제공되는 ‘무지 쓸모있는 투자 소식’을 통해 확인할 수 있다.\n",
        "\n",
        "'''\n",
        "# few-shot 키워드 추출 문장( CoT 포함)\n",
        "few_shot_keyword_prompt = '''\n",
        "다음 문장에서 주요  키워드를 추출해줘, 단계별 추론 과정을 설명한뒤 키워드를 추출해\n",
        "\n",
        "예시1:\n",
        "문장 : \"자동차는 첨단 안전 기능과 뛰어난 연비를 제공한다\"\n",
        "추론:\n",
        "1 핵심 명사 와 구체적 개념식별: 자동차, 안전 기능, 연비\n",
        "2 일반 단어 제외 : 제공한다, 뛰어난\n",
        "3 최종키워드 선택 : 자동차, 안전 기능, 연비\n",
        "\n",
        "예시2:\n",
        "문장 : \"인공지능 기술은 다양한 산업 분야에서 활용되고 있다\"\n",
        "추론:\n",
        "1 핵심 명사 와 구체적 개념식별: 인공지능 기술, 산업 분야\n",
        "2 일반 단어 제외 : 다양한, 활용되고 있다\n",
        "3 최종키워드 선택 : 인공지능 기술, 산업 분야\n",
        "\n",
        "예시3:\n",
        "문장 : \"스마트폰은 사용자 경험을 향상시키기 위한 여러 기능을 탑재하고 있다\"\n",
        "추론:\n",
        "1 핵심 명사 와 구체적 개념식별: 스마트폰, 사용자 경험, 기능\n",
        "2 일반 단어 제외 : 향상시키기 위한, 여러, 탑재하고 있다\n",
        "3 최종키워드 선택 : 스마트폰, 사용자 경험, 기능\n",
        "\n",
        "문장:\"{}\"\n",
        "추론:\n",
        "키워드:\n",
        "'''"
      ]
    },
    {
      "cell_type": "code",
      "execution_count": 68,
      "metadata": {
        "colab": {
          "base_uri": "https://localhost:8080/"
        },
        "id": "SNcczN6F3PIj",
        "outputId": "6cfb6441-1094-468d-d1e4-bb8836f0a872"
      },
      "outputs": [
        {
          "name": "stdout",
          "output_type": "stream",
          "text": [
            "추론:\n",
            "1. 핵심 명사와 구체적 개념식별: 스마트폰, 사용자 경험, 기능\n",
            "2. 일반 단어 제외: 향상시키기 위한, 여러, 탑재하고 있다\n",
            "3. 최종 키워드 선택: 스마트폰, 사용자 경험, 기능\n"
          ]
        }
      ],
      "source": [
        "client.reset_chat()\n",
        "result = client.chatsession(few_shot_keyword_prompt.format(sentences), temperature=0.5, max_tokens=2048)\n",
        "print(result)"
      ]
    },
    {
      "cell_type": "code",
      "execution_count": 69,
      "metadata": {
        "colab": {
          "base_uri": "https://localhost:8080/"
        },
        "id": "6sQKEEhf3WvE",
        "outputId": "fa8873af-4604-4628-a517-c4329deac74c"
      },
      "outputs": [
        {
          "name": "stdout",
          "output_type": "stream",
          "text": [
            "추론:\n",
            "1. 핵심 명사와 구체적 개념식별: 스마트폰\n",
            " 프로세스\n",
            " 베터리 수명\n",
            " 컨퍼런스\n",
            " AI\n",
            " 클라우드 컴퓨팅\n",
            " 사이버 보안\n",
            "2. 일반 단어 제외: 강력한\n",
            " 제공한다\n",
            " 논의했다\n",
            "3. 최종 키워드 선택: 스마트폰\n",
            " 프로세스\n",
            " 베터리 수명\n",
            " 컨퍼런스\n",
            " AI\n",
            " 클라우드 컴퓨팅\n",
            " 사이버 보안\n"
          ]
        }
      ],
      "source": [
        "zero_shot_keyword_prompt = '''\n",
        "다음문장에서 키워드를 추출해 주세요\n",
        "\n",
        "문장 : {}\n",
        "\n",
        "키워드 :\n",
        "\n",
        "'''\n",
        "\n",
        "result = client.chatsession(zero_shot_keyword_prompt.format(sentences))\n",
        "for word in result.split(\",\"):\n",
        "  print(word)"
      ]
    },
    {
      "cell_type": "code",
      "execution_count": 24,
      "metadata": {
        "colab": {
          "base_uri": "https://localhost:8080/"
        },
        "id": "2aLaeqPA4wDF",
        "outputId": "29547eaf-bc6f-4145-b1a8-595fdd6ebdd5"
      },
      "outputs": [
        {
          "name": "stdout",
          "output_type": "stream",
          "text": [
            "headline : Korean Ph.D. graduates head overseas on promise of all-round better conditions, keyword : Korean, Ph.D. graduates, overseas, promise, all-round, better conditions\n",
            "headline : [속보] 한덕수 “단일화 약속 지키라 할 것…오후 4시에 김문수와 다시 회동”, keyword : 한덕수, 단일화, 약속, 오후 4시, 김문수, 회동\n",
            "headline : 김문수 ‘경주 회군’의 전말, 그리고 엇갈리는 민심, keyword : 김문수, 경주 회군, 전말, 민심, 엇갈리는\n",
            "headline : \"눈 깜짝할새 또\"…압구정 아파트 105억 '신고가' [현장], keyword : 눈, 깜짝할새, 압구정 아파트, 105억, 신고가, 현장\n",
            "headline : 대통령 적합도 이재명 43% 선두…김문수 12%·한덕수 23%[NBS], keyword : 대통령, 적합도, 이재명, 김문수, 한덕수, NBS\n"
          ]
        }
      ],
      "source": [
        "few_shot_keyword_prompt = '''\n",
        "다음 문장에서 주요  키워드를 추출해줘, 단계별 추론 과정을 설명한뒤 키워드를 추출해\n",
        "\n",
        "예시1:\n",
        "문장 : \"자동차는 첨단 안전 기능과 뛰어난 연비를 제공한다\"\n",
        "추론:\n",
        "1 핵심 명사 와 구체적 개념식별: 자동차, 안전 기능, 연비\n",
        "2 일반 단어 제외 : 제공한다, 뛰어난\n",
        "3 최종키워드 선택 : 자동차, 안전 기능, 연비\n",
        "\n",
        "예시2:\n",
        "문장 : \"인공지능 기술은 다양한 산업 분야에서 활용되고 있다\"\n",
        "추론:\n",
        "1 핵심 명사 와 구체적 개념식별: 인공지능 기술, 산업 분야\n",
        "2 일반 단어 제외 : 다양한, 활용되고 있다\n",
        "3 최종키워드 선택 : 인공지능 기술, 산업 분야\n",
        "\n",
        "예시3:\n",
        "문장 : \"스마트폰은 사용자 경험을 향상시키기 위한 여러 기능을 탑재하고 있다\"\n",
        "추론:\n",
        "1 핵심 명사 와 구체적 개념식별: 스마트폰, 사용자 경험, 기능\n",
        "2 일반 단어 제외 : 향상시키기 위한, 여러, 탑재하고 있다\n",
        "3 최종키워드 선택 : 스마트폰, 사용자 경험, 기능\n",
        "\n",
        "헤드라인:\"{}\"\n",
        "추론:\n",
        "키워드:\n",
        "'''\n",
        "enter = '\\n'\n",
        "# 네이버 뉴스 헤드라인을 COT 를 적용 한 Few-shot 러닝으로 각 헤드라인의 키워드 추출\n",
        "for headline in crawl_naver_kin(5):\n",
        "  result = client.chatsession(few_shot_keyword_prompt.format(headline))\n",
        "  print(f\"headline : {headline}, keyword : {result.split('3 최종키워드 선택 : ')[1]}\")"
      ]
    },
    {
      "cell_type": "markdown",
      "metadata": {
        "id": "9QaKmgPfTa28"
      },
      "source": [
        "- 감성분석 파이프라인\n",
        "- FAQ 쳇봇\n",
        "- 뉴스요약 및 키워드 추출\n",
        "- 비용분석"
      ]
    },
    {
      "cell_type": "code",
      "execution_count": 7,
      "metadata": {
        "id": "CXu8aBigTagU"
      },
      "outputs": [],
      "source": [
        "import os\n",
        "import time\n",
        "\n",
        "client = openai.OpenAI(api_key=api_key)\n",
        "\n",
        "# openai api 호출 함수(비용추적 및 예외처리)\n",
        "def call_openai(prompt, model=\"gpt-3.5-turbo\", temperature=0.5, max_tokens=100,n=1):\n",
        "  try:\n",
        "    start_time = time.time()\n",
        "    response = client.chat.completions.create(\n",
        "      model=model,\n",
        "      messages=[{\"role\": \"user\", \"content\": prompt}],\n",
        "      temperature=temperature,\n",
        "      max_tokens=max_tokens,\n",
        "      n=n\n",
        "  )\n",
        "    elapsed_time = time.time() - start_time\n",
        "    tokens_used = response.usage.total_tokens\n",
        "    return {\n",
        "        \"results\" : [choice.message.content for choice in response.choices],\n",
        "        \"tokens_used\" : tokens_used,\n",
        "        \"elapsed_time\" : elapsed_time\n",
        "    }\n",
        "  except Exception as e:\n",
        "    print(f'api 호출 오류 : {e}')\n",
        "    return {\n",
        "        \"results\" : [],\n",
        "        \"tokens_used\" : 0,\n",
        "        \"elapsed_time\" : 0\n",
        "    }"
      ]
    },
    {
      "cell_type": "code",
      "execution_count": 8,
      "metadata": {
        "id": "tFiCFuGGWDGl"
      },
      "outputs": [],
      "source": [
        "# 감성분석 프롬프트(few-shot)  3\n",
        "few_shot_sentiment_prompt = '''\n",
        "다음 리뷰의 감정을 긍정,부정, 또는 중립으로 분류해줘\n",
        "\n",
        "예시1:\n",
        "리뷰:\"정말 훌륭한 제품입니다. 재 구매의사 있습니다.\"\n",
        "감정:긍정\n",
        "\n",
        "예시2:\n",
        "리뷰:\"품질이 너무 안좋아요, 실망했어요\"\n",
        "감정:부정\n",
        "\n",
        "예시3:\n",
        "리뷰:\"보통이에요, 특별한 점은 없는거 같습니다\"\n",
        "감정:중립\n",
        "\n",
        "리뷰:\"{}\"\n",
        "감정:\n",
        "'''\n",
        "# FAQ 챗봇 프롬프트(few-shot)  2\n",
        "few_shot_faq_prompt = '''\n",
        "다음 고객의 문의에 대한 간결하고 친철하게 답변해줘\n",
        "\n",
        "예시 1:\n",
        "문의 : \"배송은 언제되나요?\"\n",
        "답변 : \"보통 주문후 영일일 기준 2~3일 내 배송됩니다\"\n",
        "\n",
        "예시 1:\n",
        "문의 : \"환불은 어떻게 하나요?\"\n",
        "답변 : \"카드는 영업일 기준 7일이내, 계좌이체는 영업일 기준 1일 이내 환불됩니다.\"\n",
        "\n",
        "문의 : \"{}\"\n",
        "답변 :\n",
        "'''\n",
        "\n",
        "# 뉴스요약 및 키워드 추출 프롬프트(Chain-of-Thought  CoT) 1\n",
        "summary_keyword_prompt = '''\n",
        "다음 뉴스의 본문을 한 문장으로 요약하고, 주요 키워드를 단계별로 추출해줘\n",
        "\n",
        "예시:\n",
        "본문 : \"자동차는 첨단 안전기능과 뛰어난 연비를 제공한다\"\n",
        "요약 : \"자동차는 안전기능과 연비를 개선한다\"\n",
        "추론:\n",
        "1. 핵심 명사 식별 : 자동차, 안전 기능, 연비\n",
        "2. 일반 단어 제외 :제공한다 ,뛰어난\n",
        "3. 최종 키워드 선택 : 자동차, 안전 기능, 연비\n",
        "키워드 : 자동차, 안전 기능, 연비\n",
        "\n",
        "본문 : \"{}\"\n",
        "요약 :\n",
        "추론 :\n",
        "'''"
      ]
    },
    {
      "cell_type": "code",
      "execution_count": 9,
      "metadata": {
        "id": "ghw1Ov7PZt-A"
      },
      "outputs": [],
      "source": [
        "# 감정분류용 리뷰\n",
        "reviews = [\n",
        "    '이 제품은 정말 훌륭합니다. 적극 추천합니다.',\n",
        "    '배송이 너무 느리고 품질도 별로에요',\n",
        "    '가격대비 괜찮은 제품인거 같습니다',\n",
        "]\n",
        "# 카테고리 분류용 뉴스 헤드라인\n",
        "headlines = [\n",
        "    '국가안보실, 북 미사일 대응 안보상황 점검회의',\n",
        "    'DL이앤씨, 울릉공항 건설 위한 마지막 케이슨 설치 완료',\n",
        "    \"수도권 전세사기로 '88억 원' 가로챈 일당 송치\",\n",
        "]"
      ]
    },
    {
      "cell_type": "code",
      "execution_count": 10,
      "metadata": {
        "colab": {
          "base_uri": "https://localhost:8080/"
        },
        "id": "KBf4fCPranAe",
        "outputId": "88b4d603-05a0-4e38-8422-e8acf12f9bce"
      },
      "outputs": [
        {
          "name": "stdout",
          "output_type": "stream",
          "text": [
            "리뷰 : 이 제품은 정말 훌륭합니다. 적극 추천합니다.\n",
            "감정 : {'results': ['긍정'], 'tokens_used': 207, 'elapsed_time': 0.8431000709533691}\n",
            "토큰사용량 : 207,  응답시간:0.84\n",
            "리뷰 : 배송이 너무 느리고 품질도 별로에요\n",
            "감정 : {'results': ['부정'], 'tokens_used': 207, 'elapsed_time': 0.47433042526245117}\n",
            "토큰사용량 : 207,  응답시간:0.47\n",
            "리뷰 : 가격대비 괜찮은 제품인거 같습니다\n",
            "감정 : {'results': ['긍정'], 'tokens_used': 202, 'elapsed_time': 0.316195011138916}\n",
            "토큰사용량 : 202,  응답시간:0.32\n",
            "총 토큰사용량 : 616\n"
          ]
        }
      ],
      "source": [
        "# 감성분석\n",
        "total_tokens = 0\n",
        "for review in reviews:\n",
        "  result = call_openai(few_shot_sentiment_prompt.format(review),max_tokens=50)\n",
        "  print(f'리뷰 : {review}')\n",
        "  print(f'감정 : {result}')\n",
        "  print(f'토큰사용량 : {result[\"tokens_used\"]},  응답시간:{result[\"elapsed_time\"]:.2f}')\n",
        "  total_tokens += result[\"tokens_used\"]\n",
        "print(f'총 토큰사용량 : {total_tokens}')"
      ]
    },
    {
      "cell_type": "code",
      "execution_count": 11,
      "metadata": {
        "colab": {
          "base_uri": "https://localhost:8080/"
        },
        "id": "hpKQ_CCZbyZm",
        "outputId": "d0b85643-1c9d-41d7-c10b-f1e010326d08"
      },
      "outputs": [
        {
          "name": "stdout",
          "output_type": "stream",
          "text": [
            "문의 : 배송이 얼마나 걸리나요?\n",
            "답변 : \"일반적으로 주문 후 2~3일 내에 배송이 완료됩니다.\"\n",
            "토큰사용량 : 220,  응답시간:0.85\n",
            "문의 : 반품 정책이 어떻게 되나요?\n",
            "답변 : \"제품을 구매한 후 7일 이내에 반품 신청을 하시면 무료 반품이 가능합니다. 자세한 반품 절차는 고객센터로 문의해주세요.\"\n",
            "토큰사용량 : 263,  응답시간:3.55\n",
            "총 토큰사용량 : 1099\n"
          ]
        }
      ],
      "source": [
        "# FAQ 챗봇\n",
        "faq_lists = [\n",
        "    '배송이 얼마나 걸리나요?',\n",
        "    '반품 정책이 어떻게 되나요?'\n",
        "]\n",
        "for review in faq_lists:\n",
        "  result = call_openai(few_shot_faq_prompt.format(review),max_tokens=200)\n",
        "  print(f'문의 : {review}')\n",
        "  print(f'답변 : {result[\"results\"][0]}')\n",
        "  print(f'토큰사용량 : {result[\"tokens_used\"]},  응답시간:{result[\"elapsed_time\"]:.2f}')\n",
        "  total_tokens += result[\"tokens_used\"]\n",
        "print(f'총 토큰사용량 : {total_tokens}')\n"
      ]
    },
    {
      "cell_type": "code",
      "execution_count": 25,
      "metadata": {
        "colab": {
          "base_uri": "https://localhost:8080/"
        },
        "id": "cftGQ-Y2fkve",
        "outputId": "b8f4fad9-97e2-4911-d5be-c3cf66707aed"
      },
      "outputs": [
        {
          "name": "stdout",
          "output_type": "stream",
          "text": [
            "본문 : 김 후보는 이날 오전 여의도 대선 캠프에서 연 긴급 기자회견에서 당 지도부를 향해 \"이 시간 이후 강제 후보 단일화라는 미명으로 정당한 대통령 후보인 저 김문수를 끌어내리려는 작업에서 손 떼라\"며 \"강압적 단일화 요구를 중단하라\"고 말했다\n",
            "결과 : 1. 핵심 명사 식별 : 김 후보, 대선 캠프, 기자회견, 지도부, 대통령 후보, 김문수, 단일화\n",
            "2. 일반 단어 제외 : 이날, 오전, 여의도, 연, 긴급, 미명으로, 정당한, 작업에서, 손, 끌어내리려는, 작업에서, 중단하라, 강압적\n",
            "3. 최종 키워드 선택 : 김 후보, 대선 캠프, 기자회견, 지도부, 대통령 후보, 김문수, 단일화\n",
            "키워드 : 김 후보, 대선 캠프, 기자회견, 지도부, 대통령 후보, 김문수, 단일화\n",
            "토큰사용량 : 592,  응답시간:2.15 \n",
            "\n",
            "본문 : 합동참모본부는 \"오늘 오전 8시 10분부터 9시 20분까지 북한 원산 일대에서 동해상으로 발사된 다양한 종류의 단거리 탄도미사일 수발을 포착했다\"며 \"북한의 미사일은 최대 약 800km 비행 후 동해상에 탄착했다\"고 밝혔다\n",
            "결과 : 1. 핵심 명사 식별 : 합동참모본부, 북한, 원산, 동해상, 단거리 탄도미사일\n",
            "2. 일반 단어 제외 : 오늘, 오전, 발사된, 다양한, 수발을, 포착했다, 최대, 약, 비행, 탄착했다, 밝혔다\n",
            "3. 최종 키워드 선택 : 합동참모본부, 북한, 원산, 동해상, 단거리 탄도미사일\n",
            "키워드 : 합동참모본부, 북한, 원산, 동해상, 단거리 탄도미사일\n",
            "토큰사용량 : 548,  응답시간:2.24 \n",
            "\n",
            "총 토큰사용량 : 2271\n"
          ]
        }
      ],
      "source": [
        "# 뉴스 요약 및 키워드 추출\n",
        "news_lists = [\n",
        "    '김 후보는 이날 오전 여의도 대선 캠프에서 연 긴급 기자회견에서 당 지도부를 향해 \"이 시간 이후 강제 후보 단일화라는 미명으로 정당한 대통령 후보인 저 김문수를 끌어내리려는 작업에서 손 떼라\"며 \"강압적 단일화 요구를 중단하라\"고 말했다',\n",
        "    '합동참모본부는 \"오늘 오전 8시 10분부터 9시 20분까지 북한 원산 일대에서 동해상으로 발사된 다양한 종류의 단거리 탄도미사일 수발을 포착했다\"며 \"북한의 미사일은 최대 약 800km 비행 후 동해상에 탄착했다\"고 밝혔다'\n",
        "]\n",
        "for review in news_lists:\n",
        "  result = call_openai(summary_keyword_prompt.format(review),max_tokens=1024)\n",
        "  print(f'본문 : {review}')\n",
        "  print(f'결과 : {result[\"results\"][0]}')\n",
        "  print(f'토큰사용량 : {result[\"tokens_used\"]},  응답시간:{result[\"elapsed_time\"]:.2f} \\n')\n",
        "  total_tokens += result[\"tokens_used\"]\n",
        "print(f'총 토큰사용량 : {total_tokens}')"
      ]
    },
    {
      "cell_type": "code",
      "execution_count": null,
      "metadata": {
        "id": "fPs-12ATfmwL"
      },
      "outputs": [],
      "source": []
    },
    {
      "cell_type": "code",
      "execution_count": 12,
      "metadata": {
        "colab": {
          "base_uri": "https://localhost:8080/"
        },
        "id": "79KdvgbD601o",
        "outputId": "82bc40ac-57b7-4632-d183-e606533432c9"
      },
      "outputs": [
        {
          "name": "stdout",
          "output_type": "stream",
          "text": [
            "Archive:  ngrok-stable-linux-amd64.zip\n",
            "  inflating: ngrok                   \n",
            "Authtoken saved to configuration file: /root/.config/ngrok/ngrok.yml\n"
          ]
        }
      ],
      "source": [
        "# ngrok 설치\n",
        "!wget -q -c https://bin.equinox.io/c/bNyj1mQVY4c/ngrok-stable-linux-amd64.zip\n",
        "!unzip -o ngrok-stable-linux-amd64.zip\n",
        "\n",
        "# ngrok 토큰 등록\n",
        "# 토큰은 https://dashboard.ngrok.com 페이지에서 확인 가능\n",
        "!./ngrok config add-authtoken 2oN5uuM4xn4NWaWPPcCFTb2dHal_5HAvG4FgRDLaX6nRkyjHs"
      ]
    },
    {
      "cell_type": "code",
      "execution_count": null,
      "metadata": {
        "colab": {
          "base_uri": "https://localhost:8080/"
        },
        "id": "LZDPN7-AStSd",
        "outputId": "7c6a9ec5-b41e-495f-dc86-bb71a09ce088"
      },
      "outputs": [
        {
          "name": "stdout",
          "output_type": "stream",
          "text": [
            "Archive:  ngrok-stable-linux-amd64.zip\n",
            "  inflating: ngrok                   \n",
            "Authtoken saved to configuration file: /root/.config/ngrok/ngrok.yml\n"
          ]
        }
      ],
      "source": [
        "# ngrok 설치\n",
        "!wget -q -c https://bin.equinox.io/c/bNyj1mQVY4c/ngrok-stable-linux-amd64.zip\n",
        "!unzip -o ngrok-stable-linux-amd64.zip\n",
        "\n",
        "# ngrok 토큰 등록\n",
        "# 토큰은 https://dashboard.ngrok.com 페이지에서 확인 가능\n",
        "!./ngrok config add-authtoken 2oN5uuM4xn4NWaWPPcCFTb2dHal_5HAvG4FgRDLaX6nRkyjHs\n",
        "\n",
        "\n",
        "# Flask + ngrok 자동 연결 코드\n",
        "from flask import Flask\n",
        "import threading\n",
        "import time\n",
        "import requests\n",
        "import json\n",
        "import subprocess\n",
        "\n",
        "\n",
        "import openai\n",
        "from openai import OpenAI\n",
        "import os\n",
        "import time\n",
        "OPENAI_API_KEY  = api_key\n",
        "client = OpenAI(api_key=OPENAI_API_KEY)\n",
        "\n",
        "# openai api 호출 함수(비용추적 및 예외처리)\n",
        "def call_openai(prompt, model=\"gpt-3.5-turbo\", temperature=0.5, max_tokens=100,n=1):\n",
        "  try:\n",
        "    start_time = time.time()\n",
        "    response = client.chat.completions.create(\n",
        "      model=model,\n",
        "      messages=[\n",
        "        {\"role\": \"user\", \"content\": prompt}\n",
        "      ],\n",
        "      temperature=temperature,\n",
        "      max_tokens=max_tokens,\n",
        "      n=n\n",
        "    )\n",
        "    elapsed_time = time.time() - start_time\n",
        "    tokens_used = response.usage.total_tokens\n",
        "    return {\n",
        "        \"results\" : [choice.message.content for choice in response.choices],\n",
        "        \"tokens_used\" : tokens_used,\n",
        "        \"elapsed_time\" : elapsed_time\n",
        "    }\n",
        "  except Exception as e:\n",
        "    print(f'api 호출 오류 : {e}')\n",
        "    return {\n",
        "        \"results\" : [],\n",
        "        \"tokens_used\" : 0,\n",
        "        \"elapsed_time\" : 0\n",
        "    }\n",
        "\n",
        "# 뉴스요약 및 키워드 추출 프롬프트(Chain-of-Thought  CoT) 1\n",
        "summary_keyword_prompt = '''\n",
        "다음 뉴스의 본문을 한 문장으로 요약하고, 주요 키워드를 단계별로 추출해줘\n",
        "\n",
        "예시:\n",
        "본문 : \"자동차는 첨단 안전기능과 뛰어난 연비를 제공한다\"\n",
        "추론:\n",
        "요약 : \"자동차는 안전기능과 연비를 개선한다\"\n",
        "1. 핵심 명사 식별 : 자동차, 안전 기능, 연비\n",
        "2. 일반 단어 제외 :제공한다 ,뛰어난\n",
        "3. 최종 키워드 선택 : 자동차, 안전 기능, 연비\n",
        "키워드 : 자동차, 안전 기능, 연비\n",
        "\n",
        "본문 : \"{}\"\n",
        "요약 :\n",
        "추론 :\n",
        "'''\n",
        "\n",
        "# 뉴스 요약 및 키워드 추출\n",
        "news_lists = [\n",
        "    '김 후보는 이날 오전 여의도 대선 캠프에서 연 긴급 기자회견에서 당 지도부를 향해 \"이 시간 이후 강제 후보 단일화라는 미명으로 정당한 대통령 후보인 저 김문수를 끌어내리려는 작업에서 손 떼라\"며 \"강압적 단일화 요구를 중단하라\"고 말했다',\n",
        "    '합동참모본부는 \"오늘 오전 8시 10분부터 9시 20분까지 북한 원산 일대에서 동해상으로 발사된 다양한 종류의 단거리 탄도미사일 수발을 포착했다\"며 \"북한의 미사일은 최대 약 800km 비행 후 동해상에 탄착했다\"고 밝혔다'\n",
        "]\n",
        "def getApiResult():\n",
        "  total_contents = \"\"\n",
        "  total_tokens = 0\n",
        "  for review in news_lists:\n",
        "    result = call_openai(summary_keyword_prompt.format(review),max_tokens=1024)\n",
        "    total_contents += f'본문 : <strong>{review}</strong> <br>'\n",
        "    total_contents += f'결과 : <br> {result[\"results\"][0]} <br>'\n",
        "    total_contents += f'토큰사용량 : {result[\"tokens_used\"]},  응답시간:{result[\"elapsed_time\"]:.2f} <br>'\n",
        "    total_tokens += result[\"tokens_used\"]\n",
        "  total_contents += f'총 토큰사용량 : {total_tokens} <br>'\n",
        "  return total_contents\n",
        "\n",
        "with open(\"result.html\", 'w') as f:\n",
        "  f.write(getApiResult())"
      ]
    },
    {
      "cell_type": "code",
      "execution_count": 30,
      "metadata": {
        "colab": {
          "base_uri": "https://localhost:8080/"
        },
        "id": "jIc3Y6aUmYfn",
        "outputId": "ed1b5324-b615-449c-c7a1-9c89b8c14e96"
      },
      "outputs": [
        {
          "name": "stdout",
          "output_type": "stream",
          "text": [
            " * Serving Flask app '__main__'\n",
            " * Debug mode: off\n"
          ]
        },
        {
          "name": "stderr",
          "output_type": "stream",
          "text": [
            "Address already in use\n",
            "Port 5000 is in use by another program. Either identify and stop that program, or start the server with a different port.\n"
          ]
        },
        {
          "name": "stdout",
          "output_type": "stream",
          "text": [
            "ngrok 주소를 가져오는 데 실패했습니다: HTTPConnectionPool(host='localhost', port=4040): Max retries exceeded with url: /api/tunnels (Caused by NewConnectionError('<urllib3.connection.HTTPConnection object at 0x7886fe551010>: Failed to establish a new connection: [Errno 111] Connection refused'))\n"
          ]
        }
      ],
      "source": [
        "# Flask 앱 정의\n",
        "app = Flask(__name__)\n",
        "\n",
        "@app.route('/')\n",
        "def index():\n",
        "    # return \"Flask 서버가 ngrok을 통해 노출되었습니다!\"\n",
        "    return getApiResult()\n",
        "\n",
        "# Flask 백그라운드 실행\n",
        "def run_flask():\n",
        "    app.run(port=5000)\n",
        "\n",
        "threading.Thread(target=run_flask).start()  # 백그라운드 모드로 실행\n",
        "\n",
        "# ngrok 백그라운드 실행\n",
        "def run_ngrok():\n",
        "    # ngrok 실행\n",
        "    subprocess.Popen(['./ngrok', 'http', '5000'])\n",
        "    time.sleep(4)  # ngrok이 터널 열 시간을 기다림\n",
        "\n",
        "    # ngrok 터널 정보 얻기\n",
        "    try:\n",
        "        response = requests.get(\"http://localhost:4040/api/tunnels\")\n",
        "        tunnel_url = response.json()['tunnels'][0]['public_url']\n",
        "        print(f\"외부 접속 주소: {tunnel_url}\")\n",
        "    except Exception as e:\n",
        "        print(\"ngrok 주소를 가져오는 데 실패했습니다:\", e)\n",
        "\n",
        "run_ngrok()"
      ]
    },
    {
      "cell_type": "code",
      "execution_count": 31,
      "metadata": {
        "id": "qrOobxIbSXr5"
      },
      "outputs": [],
      "source": [
        "# ngrok와 Flask 서버 종료\n",
        "!pkill -f flask\n",
        "!pkill -f ngrok"
      ]
    },
    {
      "cell_type": "code",
      "execution_count": 18,
      "metadata": {
        "colab": {
          "base_uri": "https://localhost:8080/"
        },
        "id": "xxa8LSm4Sk3L",
        "outputId": "6b7ad107-6097-4b11-de4d-4d106e7389d1"
      },
      "outputs": [
        {
          "name": "stdout",
          "output_type": "stream",
          "text": [
            "-rwxr-xr-x 1 root root 27762872 Apr 10 19:59 \u001b[0m\u001b[01;32m./ngrok\u001b[0m*\n"
          ]
        }
      ],
      "source": [
        "ls -l ./ngrok"
      ]
    },
    {
      "cell_type": "markdown",
      "metadata": {
        "id": "Dca-Upi3o2Mt"
      },
      "source": [
        "Fine-Tuning\n",
        "```\n",
        "모델에 추가 학습데이터를 제공해서 특정작업에 최적화\n",
        "제한사항:\n",
        "  데이터 품질 중요 : 최소한 50개이상의 고품질 데이터\n",
        "  비용증가\n",
        "데이터포멧\n",
        "  jsonl 형식 {\"messages\" :[{\"role\":\"user\", \"content\":\"입력\"},{\"role\":\"assistant\",\"content\":\"출력\"}]}  \n",
        "한글전처리\n",
        "  띄어쓰기 정제: 배송느리-> 배송 느림\n",
        "  도메인용어 : AI->\"인공지능\" 통일\n",
        "  데이터 정제 : 비속어,오타 제거\n",
        "프로세스:\n",
        "  데이터 업로드 : openai로 jsonl 파일 업로드\n",
        "  fine-tuning job 생성 : ...... jobs.create\n",
        "  모델 : fine_tuning 모델 id로 api호출\n",
        "  관리 : 결과를 base64 인코딩되어서 출력 - openai 디코더를 이용해서 복원      \n",
        "```"
      ]
    },
    {
      "cell_type": "code",
      "execution_count": 34,
      "metadata": {
        "id": "r6HWw9M8lcu1"
      },
      "outputs": [],
      "source": [
        "# 감정 분석용 데이터 10개\n",
        "training_data = [\n",
        "{\"messages\":[{\"role\":\"user\",\"content\":\"배송도 빠르고 제품 상태도 아주 좋아요!\"},{\"role\":\"assistant\",\"content\":\"긍정\"}]}\n",
        ",{\"messages\":[{\"role\":\"user\",\"content\":\"정말 기대 이상이에요. 다음에도 꼭 재구매할게요.\"},{\"role\":\"assistant\",\"content\":\"긍정\"}]}\n",
        ",{\"messages\":[{\"role\":\"user\",\"content\":\"디자인이 예쁘고 사용하기도 편하네요.\"},{\"role\":\"assistant\",\"content\":\"긍정\"}]}\n",
        ",{\"messages\":[{\"role\":\"user\",\"content\":\"처음 사용해보는데 만족도가 높아요.\"},{\"role\":\"assistant\",\"content\":\"긍정\"}]}\n",
        ",{\"messages\":[{\"role\":\"user\",\"content\":\"가격 대비 성능이 뛰어납니다.\"},{\"role\":\"assistant\",\"content\":\"긍정\"}]}\n",
        "\n",
        ",{\"messages\":[{\"role\":\"user\",\"content\":\"작동이 안 돼서 너무 화가 납니다.\"},{\"role\":\"assistant\",\"content\":\"부정\"}]}\n",
        ",{\"messages\":[{\"role\":\"user\",\"content\":\"광고랑 다르게 품질이 별로였어요.\"},{\"role\":\"assistant\",\"content\":\"부정\"}]}\n",
        ",{\"messages\":[{\"role\":\"user\",\"content\":\"고장이 자주 나서 불편합니다.\"},{\"role\":\"assistant\",\"content\":\"부정\"}]}\n",
        ",{\"messages\":[{\"role\":\"user\",\"content\":\"배송이 느리고 포장도 부실했어요.\"},{\"role\":\"assistant\",\"content\":\"부정\"}]}\n",
        ",{\"messages\":[{\"role\":\"user\",\"content\":\"기대한 만큼의 성능이 아니네요.\"},{\"role\":\"assistant\",\"content\":\"부정\"}]}\n",
        "\n",
        ",{\"messages\":[{\"role\":\"user\",\"content\":\"기능은 많은데 아직 다 써보진 않았어요.\"},{\"role\":\"assistant\",\"content\":\"중립\"}]}\n",
        ",{\"messages\":[{\"role\":\"user\",\"content\":\"사용 중 특별한 문제는 없었어요.\"},{\"role\":\"assistant\",\"content\":\"중립\"}]}\n",
        ",{\"messages\":[{\"role\":\"user\",\"content\":\"평범한 제품입니다. 특별히 좋지도 나쁘지도 않아요.\"},{\"role\":\"assistant\",\"content\":\"중립\"}]}\n",
        ",{\"messages\":[{\"role\":\"user\",\"content\":\"가격도 적당하고 일반적인 성능이에요.\"},{\"role\":\"assistant\",\"content\":\"중립\"}]}\n",
        ",{\"messages\":[{\"role\":\"user\",\"content\":\"그럭저럭 쓸만합니다. 무난한 제품이에요.\"},{\"role\":\"assistant\",\"content\":\"중립\"}]}\n",
        "\n",
        "]"
      ]
    },
    {
      "cell_type": "code",
      "execution_count": 37,
      "metadata": {
        "id": "nVaU_kkzstcJ"
      },
      "outputs": [],
      "source": [
        "# 테스트 데이터\n",
        "test_reviews = [\n",
        "    '''\n",
        "    온가족 맛있는 소고기로 저녁식탁을 즐겁게 보냈어요,투플이랑 원뿔 같이 먹었는데 둘다 가상비 훌륭했고\n",
        "부드러운 육질로 입에서 살살 녹더라구요.\n",
        "집앞 마트가격보다도 저렴하고 마블링은 훌륭해서\n",
        "온라인으로 한우사는게 믿음이 생기고 지인한테 추천해줬어요!  믿고 먹을수 있는 소고기가 생겨서 너무 좋습니다!!\n",
        "    '''\n",
        "]\n",
        "# 필요한 라이브러리 import\n",
        "from openai import OpenAI\n",
        "import os\n",
        "import time\n",
        "import json\n",
        "# open ai 셋팅\n",
        "client = OpenAI(api_key=api_key)\n",
        "\n",
        "# json 파일 생성\n",
        "def create_jsonl_file(data,filename):\n",
        "  with open(filename, \"w\", encoding='utf-8') as f:\n",
        "    for item in training_data:\n",
        "      json_line = json.dumps(item,ensure_ascii=False)\n",
        "      f.write(json_line + \"\\n\")\n",
        "  return filename\n",
        "\n",
        "# 파인튜닝데이터 업로드\n",
        "def upload_file(filename):\n",
        "  with open(filename, \"rb\") as f:\n",
        "    response = client.files.create(\n",
        "        file=f,purpose=\"fine-tune\"\n",
        "    )\n",
        "  return response.id\n",
        "\n",
        "def create_fine_tuning_job(file_id, model = 'gpt-3.5-turbo'):\n",
        "  job = client.fine_tuning.jobs.create(\n",
        "      training_file=file_id,\n",
        "      model=model\n",
        "  )\n",
        "  return job.id\n",
        "# 파인튜닝 상태 확인\n",
        "def check_fine_tuning_status(job_id):\n",
        "  status = client.fine_tuning.jobs.retrieve(job_id)\n",
        "  return status.status,status.fine_tuned_model\n",
        "\n",
        "# openai api 호출 함수(비용추적 및 예외처리)\n",
        "def call_openai(prompt, model=\"gpt-3.5-turbo\", temperature=0.3, max_tokens=50,n=1):\n",
        "  try:\n",
        "    start_time = time.time()\n",
        "    response = client.chat.completions.create(\n",
        "      model=model,\n",
        "      messages=[\n",
        "        {\"role\": \"user\", \"content\": prompt}\n",
        "      ],\n",
        "      temperature=temperature,\n",
        "      max_tokens=max_tokens,\n",
        "      n=n\n",
        "    )\n",
        "    elapsed_time = time.time() - start_time\n",
        "    tokens_used = response.usage.total_tokens\n",
        "    return {\n",
        "        \"results\" : [choice.message.content for choice in response.choices],\n",
        "        \"tokens_used\" : tokens_used,\n",
        "        \"elapsed_time\" : elapsed_time\n",
        "    }\n",
        "  except Exception as e:\n",
        "    print(f'api 호출 오류 : {e}')\n",
        "    return {\n",
        "        \"results\" : [],\n",
        "        \"tokens_used\" : 0,\n",
        "        \"elapsed_time\" : 0\n",
        "    }"
      ]
    },
    {
      "cell_type": "code",
      "execution_count": 38,
      "metadata": {
        "colab": {
          "base_uri": "https://localhost:8080/"
        },
        "id": "n5KJtpvQxSHR",
        "outputId": "573e28a5-98a9-4932-bcd9-99c46328ba2b"
      },
      "outputs": [
        {
          "name": "stdout",
          "output_type": "stream",
          "text": [
            "file id : file-9iREFXv9uKom6drd1MEdZs\n",
            "job id : ftjob-uknTQ2DmMsqWDliQo1L59Jel\n"
          ]
        }
      ],
      "source": [
        "# 파일생성 및 업로드\n",
        "jsoned_file = create_jsonl_file(training_data,'20250508.jsonl')\n",
        "file_id = upload_file(jsoned_file)\n",
        "print(f'file id : {file_id}')\n",
        "# 파인튜닝 작업(job 생성)\n",
        "job_id = create_fine_tuning_job(file_id)\n",
        "print(f'job id : {job_id}')"
      ]
    },
    {
      "cell_type": "code",
      "execution_count": 50,
      "metadata": {
        "colab": {
          "base_uri": "https://localhost:8080/"
        },
        "id": "1FXuaKGCynxI",
        "outputId": "5480da62-7f91-4d67-a1ef-14013b67cba9"
      },
      "outputs": [
        {
          "name": "stdout",
          "output_type": "stream",
          "text": [
            "status : succeeded, model : ft:gpt-3.5-turbo-0125:personal::BUq5i67K\n"
          ]
        }
      ],
      "source": [
        "# 상태확인\n",
        "status,fine_tuned_model = check_fine_tuning_status(job_id)\n",
        "print(f'status : {status}, model : {fine_tuned_model}')"
      ]
    },
    {
      "cell_type": "code",
      "execution_count": 51,
      "metadata": {
        "colab": {
          "base_uri": "https://localhost:8080/"
        },
        "id": "mCFZCtjCyoKp",
        "outputId": "9cf6155b-cfa9-4ed6-f774-ce8646e86b04"
      },
      "outputs": [
        {
          "name": "stdout",
          "output_type": "stream",
          "text": [
            "리뷰 : \n",
            "    온가족 맛있는 소고기로 저녁식탁을 즐겁게 보냈어요,투플이랑 원뿔 같이 먹었는데 둘다 가상비 훌륭했고\n",
            "부드러운 육질로 입에서 살살 녹더라구요.\n",
            "집앞 마트가격보다도 저렴하고 마블링은 훌륭해서\n",
            "온라인으로 한우사는게 믿음이 생기고 지인한테 추천해줬어요!  믿고 먹을수 있는 소고기가 생겨서 너무 좋습니다!!\n",
            "    \n",
            "감정 : {'results': ['긍정'], 'tokens_used': 219, 'elapsed_time': 8.70126986503601}\n"
          ]
        }
      ],
      "source": [
        "# 감성분석\n",
        "sentiment_prompt = '''\n",
        "리뷰 : \"{}\"\n",
        "감정 :\n",
        "'''\n",
        "for review in test_reviews:\n",
        "  result = call_openai(sentiment_prompt.format(review),max_tokens=20,model=fine_tuned_model)\n",
        "  print(f'리뷰 : {review}')\n",
        "  print(f'감정 : {result}')"
      ]
    },
    {
      "cell_type": "code",
      "execution_count": 52,
      "metadata": {
        "colab": {
          "base_uri": "https://localhost:8080/"
        },
        "id": "ZxRSY94m6OHP",
        "outputId": "d94fb654-ff4f-4784-8029-b50bd1f45904"
      },
      "outputs": [
        {
          "name": "stdout",
          "output_type": "stream",
          "text": [
            "리뷰 : 이 영화는 엄복동 이라는 영화의 평균 평점과 같았다\n",
            "감정 : {'results': ['중립'], 'tokens_used': 53, 'elapsed_time': 10.289474487304688}\n"
          ]
        }
      ],
      "source": [
        "# 테스트 데이터\n",
        "test_reviews = [\n",
        "    \"이 영화는 엄복동 이라는 영화의 평균 평점과 같았다\"\n",
        "]\n",
        "# 감성분석\n",
        "sentiment_prompt = '''\n",
        "리뷰 : \"{}\"\n",
        "감정 :\n",
        "'''\n",
        "for review in test_reviews:\n",
        "  result = call_openai(sentiment_prompt.format(review),max_tokens=20,model=fine_tuned_model)\n",
        "  print(f'리뷰 : {review}')\n",
        "  print(f'감정 : {result}')"
      ]
    },
    {
      "cell_type": "markdown",
      "metadata": {
        "id": "exEzPudE7sWI"
      },
      "source": [
        "쳇봇\n",
        "```\n",
        "유형\n",
        "  FAQ 쳇봇\n",
        "  대화형 쳇봇\n",
        "프롬프트 설계\n",
        "  few-shot : 문의-응답쌍 제공\n",
        "  Role-base : 역활 부여(친절한 고객 상담사)\n",
        "  한글 최적화 : 한국어 뉘앙스, 존댓말/반말 조정\n",
        "최적화\n",
        "  간결한 프롬프트:토큰소모 최소화\n",
        "  맥락유지 : 대화 이력 포함(ex message 리스트)    \n",
        "성능평가\n",
        "  평가기준\n",
        "    정확도 : 응답이 문의에 적합한지\n",
        "    자연스러움 : 한국어 표현의 유연성\n",
        "    응답시간 : API호출 속도\n",
        "사용자 경험\n",
        "  친절한 톤: 존댓말 공감표현\n",
        "  오류 처리:모호한 문장에 기본응답제공\n",
        "개선\n",
        "  추가 fine-tuning:낮은 품질 응답 수정\n",
        "  프롬프트조정 : 특정 문의 유형 강화    \n",
        "```"
      ]
    },
    {
      "cell_type": "code",
      "execution_count": 78,
      "metadata": {
        "id": "JFm-qNQg6OeT"
      },
      "outputs": [],
      "source": [
        "# fine-tuning용 FAQ 데이터 10\n",
        "training_data = [\n",
        "  {\"messages\":[{\"role\":\"user\",\"content\":\"배송은 보통 얼마나 걸리나요?\"},{\"role\":\"assistant\",\"content\":\"일반적으로 배송은 2~3일 정도 소요됩니다. 지역에 따라 다를 수 있습니다.\"}]},\n",
        "  {\"messages\":[{\"role\":\"user\",\"content\":\"반품은 어떻게 신청하나요?\"},{\"role\":\"assistant\",\"content\":\"마이페이지 > 주문 내역에서 해당 상품을 선택하고 반품 신청 버튼을 눌러주세요.\"}]},\n",
        "  {\"messages\":[{\"role\":\"user\",\"content\":\"회원가입은 무료인가요?\"},{\"role\":\"assistant\",\"content\":\"네, 회원가입은 무료이며 누구나 가입하실 수 있습니다.\"}]},\n",
        "  {\"messages\":[{\"role\":\"user\",\"content\":\"고객센터 운영 시간은 어떻게 되나요?\"},{\"role\":\"assistant\",\"content\":\"고객센터는 평일 오전 9시부터 오후 6시까지 운영됩니다.\"}]},\n",
        "  {\"messages\":[{\"role\":\"user\",\"content\":\"현금영수증 발급 가능한가요?\"},{\"role\":\"assistant\",\"content\":\"네, 결제 시 현금영수증 발급을 선택하시면 자동으로 발급됩니다.\"}]},\n",
        "  {\"messages\":[{\"role\":\"user\",\"content\":\"비밀번호를 잊어버렸어요. 어떻게 해야 하나요?\"},{\"role\":\"assistant\",\"content\":\"로그인 화면에서 '비밀번호 찾기'를 클릭하여 안내에 따라 재설정하실 수 있습니다.\"}]},\n",
        "  {\"messages\":[{\"role\":\"user\",\"content\":\"제품 보증 기간은 얼마나 되나요?\"},{\"role\":\"assistant\",\"content\":\"제품에 따라 다르지만 일반적으로 1년의 무상 보증 기간이 제공됩니다.\"}]},\n",
        "  {\"messages\":[{\"role\":\"user\",\"content\":\"쿠폰은 어디서 확인할 수 있나요?\"},{\"role\":\"assistant\",\"content\":\"마이페이지 > 쿠폰함에서 보유하신 쿠폰을 확인하실 수 있습니다.\"}]},\n",
        "  {\"messages\":[{\"role\":\"user\",\"content\":\"배송지를 변경하고 싶어요.\"},{\"role\":\"assistant\",\"content\":\"배송 준비 전이라면 마이페이지에서 배송지 변경이 가능합니다. 준비 완료 이후에는 변경이 어려울 수 있습니다.\"}]},\n",
        "  {\"messages\":[{\"role\":\"user\",\"content\":\"해외에서도 주문할 수 있나요?\"},{\"role\":\"assistant\",\"content\":\"현재는 국내 배송만 지원하고 있으며, 해외 배송은 준비 중입니다.\"}]}\n",
        "]\n",
        "# 테스틑 데이터\n",
        "text_inputs = [\n",
        "    '배송이 언제 도착하나요?',\n",
        "    '교환은 어떻게 하나요?',\n",
        "    '재입고 예정이 있나요?'\n",
        "]\n",
        "# 모델은  gpt-4.1-mini-2025-04-14\n",
        "# 파일 생성\n",
        "def create_jsonl_file(data,filename):\n",
        "  with open(filename, \"w\", encoding='utf-8') as f:\n",
        "    for item in training_data:\n",
        "      json_line = json.dumps(item,ensure_ascii=False)\n",
        "      f.write(json_line + \"\\n\")\n",
        "  return filename\n",
        "\n",
        "# 파일 업로드\n",
        "def upload_file(filename):\n",
        "  with open(filename, \"rb\") as f:\n",
        "    response = client.files.create(\n",
        "        file=f,purpose=\"fine-tune\"\n",
        "    )\n",
        "  return response.id\n",
        "\n",
        "# 파인튜닝(job id)\n",
        "def create_fine_tuning_job(file_id, model='gpt-4.1-mini-2025-04-14'):\n",
        "  job = client.fine_tuning.jobs.create(\n",
        "      training_file=file_id,\n",
        "      model=model\n",
        "  )\n",
        "  return job.id\n",
        "\n",
        "# 상태확인후 successed 가 되면\n",
        "def check_fine_tuning_status(job_id):\n",
        "  status = client.fine_tuning.jobs.retrieve(job_id)\n",
        "  return status.status, status.fine_tuned_model\n",
        "\n",
        "# 모델 불러와서 test_inputs 실행\n",
        "def call_openai(prompt, model='gpt-4.1-mini-2025-04-14', temperature=0.3, max_tokens=50,n=1):\n",
        "  try:\n",
        "    start_time = time.time()\n",
        "    response = client.chat.completions.create(\n",
        "      model=model,\n",
        "      messages=[\n",
        "        {\"role\": \"user\", \"content\": prompt}\n",
        "      ],\n",
        "      temperature=temperature,\n",
        "      max_tokens=max_tokens,\n",
        "      n=n\n",
        "    )\n",
        "    elapsed_time = time.time() - start_time\n",
        "    tokens_used = response.usage.total_tokens\n",
        "    return {\n",
        "        \"results\" : [choice.message.content for choice in response.choices],\n",
        "        \"tokens_used\" : tokens_used,\n",
        "        \"elapsed_time\" : elapsed_time\n",
        "    }\n",
        "  except Exception as e:\n",
        "    print(f'api 호출 오류 : {e}')\n",
        "    return {\n",
        "        \"results\" : [],\n",
        "        \"tokens_used\" : 0,\n",
        "        \"elapsed_time\" : 0\n",
        "    }"
      ]
    },
    {
      "cell_type": "code",
      "execution_count": 81,
      "metadata": {
        "colab": {
          "base_uri": "https://localhost:8080/"
        },
        "id": "nbz88p-aA4vf",
        "outputId": "261427a0-32ce-40d7-bb05-4f178446de8a"
      },
      "outputs": [
        {
          "name": "stdout",
          "output_type": "stream",
          "text": [
            "file id : file-4ppMSDNbEc2bChyGYKT1j7\n",
            "job id : ftjob-mVdr1JIen3ZtPC5CTfVk4Sfd\n"
          ]
        }
      ],
      "source": [
        "# 파일생성 및 업로드\n",
        "jsoned_file = create_jsonl_file(training_data,'20250508_3.jsonl')\n",
        "file_id = upload_file(jsoned_file)\n",
        "print(f'file id : {file_id}')\n",
        "# 파인튜닝 작업(job 생성)\n",
        "job_id = create_fine_tuning_job(file_id)\n",
        "print(f'job id : {job_id}')"
      ]
    },
    {
      "cell_type": "code",
      "execution_count": 82,
      "metadata": {
        "colab": {
          "base_uri": "https://localhost:8080/"
        },
        "id": "duYRFEXjBd4K",
        "outputId": "7ed21365-0fe4-4592-98d4-aa5da8ad98b0"
      },
      "outputs": [
        {
          "name": "stdout",
          "output_type": "stream",
          "text": [
            "status : validating_files, model : None\n"
          ]
        }
      ],
      "source": [
        "# 상태확인\n",
        "status,fine_tuned_model = check_fine_tuning_status(job_id)\n",
        "print(f'status : {status}, model : {fine_tuned_model}')"
      ]
    },
    {
      "cell_type": "code",
      "execution_count": 83,
      "metadata": {
        "colab": {
          "base_uri": "https://localhost:8080/"
        },
        "id": "0IO-f4MZAcER",
        "outputId": "7c163ab4-9a56-40f5-c9f9-a9586a4a5f98"
      },
      "outputs": [
        {
          "name": "stdout",
          "output_type": "stream",
          "text": [
            "질문 : 배송이 언제 도착하나요?\n",
            "답변 : {'results': ['일반적으로 배송은 2~3일 정도 소요됩니다. 지역에 따라 다를 수 있습니다.'], 'tokens_used': 47, 'elapsed_time': 1.154235601425171}\n",
            "질문 : 교환은 어떻게 하나요?\n",
            "답변 : {'results': ['마이페이지 > 주문 내역에서 해당 상품을 선택하고 교환 신청 버튼을 눌러주세요.'], 'tokens_used': 46, 'elapsed_time': 1.221086025238037}\n",
            "질문 : 재입고 예정이 있나요?\n",
            "답변 : {'results': ['현재 해당 상품은 일시 품절 상태이며, 재입고는 준비 중입니다.'], 'tokens_used': 43, 'elapsed_time': 0.6214425563812256}\n"
          ]
        }
      ],
      "source": [
        "# 감성분석\n",
        "sentiment_prompt = '''\n",
        "질문 : \"{}\"\n",
        "답변 :\n",
        "'''\n",
        "for text_input in text_inputs:\n",
        "  result = call_openai(sentiment_prompt.format(text_input),max_tokens=200,model='ft:gpt-4.1-mini-2025-04-14:personal::BUrNWJAP')\n",
        "  print(f'질문 : {text_input}')\n",
        "  print(f'답변 : {result}')"
      ]
    }
  ],
  "metadata": {
    "colab": {
      "provenance": []
    },
    "kernelspec": {
      "display_name": "Python 3",
      "name": "python3"
    },
    "language_info": {
      "name": "python"
    }
  },
  "nbformat": 4,
  "nbformat_minor": 0
}
