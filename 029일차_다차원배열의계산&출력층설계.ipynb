{
  "nbformat": 4,
  "nbformat_minor": 0,
  "metadata": {
    "colab": {
      "provenance": [],
      "gpuType": "T4"
    },
    "kernelspec": {
      "name": "python3",
      "display_name": "Python 3"
    },
    "language_info": {
      "name": "python"
    },
    "accelerator": "GPU"
  },
  "cells": [
    {
      "cell_type": "markdown",
      "source": [
        "# 손글씨 분류하기 : 다중 분류\n",
        "```\n",
        "데이터 가져오기\n",
        "데이터 확인 - 몇개의 셈플을 출력, 클래스 수 (10)\n",
        "모델 정의 및 학습 - MLP(다층레이어)\n",
        "  마지막층 10개\n",
        "  회귀 : 출력층이 1  손실함수 MSE\n",
        "  이진분류 : 출력층이 1  손실함수 binary cross entropy\n",
        "  다중 분류 : 출력층이 클래수 손실함수 cross entropy\n",
        "성능평가\n",
        "추론(예측)\n",
        "```"
      ],
      "metadata": {
        "id": "huuF9elrwC13"
      }
    },
    {
      "cell_type": "code",
      "source": [
        "from torchvision.datasets.mnist import MNIST\n",
        "from torchvision.transforms import ToTensor\n",
        "# 지정된 데이터셋 반환\n",
        "training_data = MNIST(\n",
        "    root = './',\n",
        "    train = True,\n",
        "    download = True,\n",
        "    transform = ToTensor()\n",
        ")\n",
        "test_data = MNIST(\n",
        "    root = './',\n",
        "    train = False,\n",
        "    download = True,\n",
        "    transform = ToTensor()\n",
        ")\n",
        "# 내용 확인\n",
        "for img, label in test_data:\n",
        "  print(img.shape, label)\n",
        "  break\n",
        "# 2 내용 확인\n",
        "img, label = next(iter(test_data))\n",
        "print(img.shape, label)"
      ],
      "metadata": {
        "colab": {
          "base_uri": "https://localhost:8080/"
        },
        "id": "H8lhvcNowAeS",
        "outputId": "9a6fc6fc-a8e9-41b3-a779-2e4e0253897c"
      },
      "execution_count": null,
      "outputs": [
        {
          "output_type": "stream",
          "name": "stdout",
          "text": [
            "torch.Size([1, 28, 28]) 7\n",
            "torch.Size([1, 28, 28]) 7\n"
          ]
        }
      ]
    },
    {
      "cell_type": "code",
      "source": [
        "import matplotlib.pyplot as plt\n",
        "img, label = next(iter(test_data))\n",
        "print(img.shape, img[0].shape, label) # 기존 img는 [28,28]가 1개 있어서 [1, 28, 28]이므로 img[0]은 img의 0번째 이미지라 할 수 있음\n",
        "plt.imshow(img[0], cmap='gray_r')\n",
        "plt.xticks([])\n",
        "plt.yticks([])\n",
        "plt.show()"
      ],
      "metadata": {
        "colab": {
          "base_uri": "https://localhost:8080/",
          "height": 424
        },
        "id": "ptVdKnszxWpe",
        "outputId": "70abec2a-1d7a-43ad-a948-9b9a4f4c130f"
      },
      "execution_count": null,
      "outputs": [
        {
          "output_type": "stream",
          "name": "stdout",
          "text": [
            "torch.Size([1, 28, 28]) torch.Size([28, 28]) 7\n"
          ]
        },
        {
          "output_type": "display_data",
          "data": {
            "text/plain": [
              "<Figure size 640x480 with 1 Axes>"
            ],
            "image/png": "[encoded data removed]"
          },
          "metadata": {}
        }
      ]
    },
    {
      "cell_type": "code",
      "source": [
        "import matplotlib.pyplot as plt\n",
        "img, label = next(iter(test_data))\n",
        "print(img.shape, img[0].shape, label)\n",
        "plt.imshow(img.permute(1,2,0), cmap=\"gray_r\")  # 1 28 28 --> 28 28 1\n",
        "plt.xticks([])\n",
        "plt.yticks([])\n",
        "plt.show()"
      ],
      "metadata": {
        "colab": {
          "base_uri": "https://localhost:8080/",
          "height": 424
        },
        "id": "1B0xdYBCxhK3",
        "outputId": "e614beb3-e7b2-4ee6-8158-d64e7969b299"
      },
      "execution_count": null,
      "outputs": [
        {
          "output_type": "stream",
          "name": "stdout",
          "text": [
            "torch.Size([1, 28, 28]) torch.Size([28, 28]) 7\n"
          ]
        },
        {
          "output_type": "display_data",
          "data": {
            "text/plain": [
              "<Figure size 640x480 with 1 Axes>"
            ],
            "image/png": "[encoded data removed]"
          },
          "metadata": {}
        }
      ]
    },
    {
      "cell_type": "code",
      "source": [
        "imgs = {}\n",
        "for img, label in training_data:\n",
        "  if label not in imgs:\n",
        "    imgs[label] = img\n",
        "    if len(imgs) ==10:\n",
        "      break"
      ],
      "metadata": {
        "id": "5rUx3-Jf0-C8"
      },
      "execution_count": null,
      "outputs": []
    },
    {
      "cell_type": "code",
      "source": [
        "imgs = dict(sorted(imgs.items(), key=lambda x: x[0]))"
      ],
      "metadata": {
        "id": "6r27Ht520-9S"
      },
      "execution_count": null,
      "outputs": []
    },
    {
      "cell_type": "code",
      "source": [
        "imgs.keys()"
      ],
      "metadata": {
        "colab": {
          "base_uri": "https://localhost:8080/"
        },
        "id": "uhH0oQGB2jRe",
        "outputId": "f75ac139-348c-4ec7-82d8-2e57068cc209"
      },
      "execution_count": null,
      "outputs": [
        {
          "output_type": "execute_result",
          "data": {
            "text/plain": [
              "dict_keys([0, 1, 2, 3, 4, 5, 6, 7, 8, 9])"
            ]
          },
          "metadata": {},
          "execution_count": 25
        }
      ]
    },
    {
      "cell_type": "code",
      "source": [
        "plt.figure(figsize=(10,6))\n",
        "for i in range(10):\n",
        "  plt.subplot(2,5,i+1)\n",
        "  plt.title(i)\n",
        "  plt.imshow(imgs[i][0], cmap='gray_r')\n",
        "  plt.xticks([])\n",
        "  plt.yticks([])\n",
        "plt.show"
      ],
      "metadata": {
        "colab": {
          "base_uri": "https://localhost:8080/",
          "height": 613
        },
        "id": "N8v0NNVy64fp",
        "outputId": "f7cb4cb0-e54b-4c1c-d3fc-f54fe6c252d0"
      },
      "execution_count": null,
      "outputs": [
        {
          "output_type": "execute_result",
          "data": {
            "text/plain": [
              "<function matplotlib.pyplot.show(close=None, block=None)>"
            ],
            "text/html": [
              "<div style=\"max-width:800px; border: 1px solid var(--colab-border-color);\"><style>\n",
              "      pre.function-repr-contents {\n",
              "        overflow-x: auto;\n",
              "        padding: 8px 12px;\n",
              "        max-height: 500px;\n",
              "      }\n",
              "\n",
              "      pre.function-repr-contents.function-repr-contents-collapsed {\n",
              "        cursor: pointer;\n",
              "        max-height: 100px;\n",
              "      }\n",
              "    </style>\n",
              "    <pre style=\"white-space: initial; background:\n",
              "         var(--colab-secondary-surface-color); padding: 8px 12px;\n",
              "         border-bottom: 1px solid var(--colab-border-color);\"><b>matplotlib.pyplot.show</b><br/>def show(*args, **kwargs) -&gt; None</pre><pre class=\"function-repr-contents function-repr-contents-collapsed\" style=\"\"><a class=\"filepath\" style=\"display:none\" href=\"#\">/usr/local/lib/python3.11/dist-packages/matplotlib/pyplot.py</a>Display all open figures.\n",
              "\n",
              "Parameters\n",
              "----------\n",
              "block : bool, optional\n",
              "    Whether to wait for all figures to be closed before returning.\n",
              "\n",
              "    If `True` block and run the GUI main loop until all figure windows\n",
              "    are closed.\n",
              "\n",
              "    If `False` ensure that all figure windows are displayed and return\n",
              "    immediately.  In this case, you are responsible for ensuring\n",
              "    that the event loop is running to have responsive figures.\n",
              "\n",
              "    Defaults to True in non-interactive mode and to False in interactive\n",
              "    mode (see `.pyplot.isinteractive`).\n",
              "\n",
              "See Also\n",
              "--------\n",
              "ion : Enable interactive mode, which shows / updates the figure after\n",
              "      every plotting command, so that calling ``show()`` is not necessary.\n",
              "ioff : Disable interactive mode.\n",
              "savefig : Save the figure to an image file instead of showing it on screen.\n",
              "\n",
              "Notes\n",
              "-----\n",
              "**Saving figures to file and showing a window at the same time**\n",
              "\n",
              "If you want an image file as well as a user interface window, use\n",
              "`.pyplot.savefig` before `.pyplot.show`. At the end of (a blocking)\n",
              "``show()`` the figure is closed and thus unregistered from pyplot. Calling\n",
              "`.pyplot.savefig` afterwards would save a new and thus empty figure. This\n",
              "limitation of command order does not apply if the show is non-blocking or\n",
              "if you keep a reference to the figure and use `.Figure.savefig`.\n",
              "\n",
              "**Auto-show in jupyter notebooks**\n",
              "\n",
              "The jupyter backends (activated via ``%matplotlib inline``,\n",
              "``%matplotlib notebook``, or ``%matplotlib widget``), call ``show()`` at\n",
              "the end of every cell by default. Thus, you usually don&#x27;t have to call it\n",
              "explicitly there.</pre>\n",
              "      <script>\n",
              "      if (google.colab.kernel.accessAllowed && google.colab.files && google.colab.files.view) {\n",
              "        for (const element of document.querySelectorAll('.filepath')) {\n",
              "          element.style.display = 'block'\n",
              "          element.onclick = (event) => {\n",
              "            event.preventDefault();\n",
              "            event.stopPropagation();\n",
              "            google.colab.files.view(element.textContent, 569);\n",
              "          };\n",
              "        }\n",
              "      }\n",
              "      for (const element of document.querySelectorAll('.function-repr-contents')) {\n",
              "        element.onclick = (event) => {\n",
              "          event.preventDefault();\n",
              "          event.stopPropagation();\n",
              "          element.classList.toggle('function-repr-contents-collapsed');\n",
              "        };\n",
              "      }\n",
              "      </script>\n",
              "      </div>"
            ]
          },
          "metadata": {},
          "execution_count": 26
        },
        {
          "output_type": "display_data",
          "data": {
            "text/plain": [
              "<Figure size 1000x600 with 10 Axes>"
            ],
            "image/png": "[encoded data removed]"
          },
          "metadata": {}
        }
      ]
    },
    {
      "cell_type": "code",
      "source": [
        "_,axes =  plt.subplots(2,5, figsize = (10,5))\n",
        "\n",
        "for i, (label,img) in enumerate(imgs.items()):\n",
        "  axes[ i//5 , i%5].imshow(img.permute(1,2,0), cmap='gray_r')\n",
        "  axes[ i//5 , i%5].set_title(label)\n",
        "  axes[i//5, i%5].axis('off')\n",
        "plt.show()"
      ],
      "metadata": {
        "colab": {
          "base_uri": "https://localhost:8080/",
          "height": 402
        },
        "id": "hyz_WI6kXG6d",
        "outputId": "ce0b710e-9807-4340-b45f-1c3f85836138"
      },
      "execution_count": null,
      "outputs": [
        {
          "output_type": "display_data",
          "data": {
            "text/plain": [
              "<Figure size 1000x500 with 10 Axes>"
            ],
            "image/png": "[encoded data removed]"
          },
          "metadata": {}
        }
      ]
    },
    {
      "cell_type": "code",
      "source": [
        "from torch.utils.data.dataloader import DataLoader\n",
        "train_loader = DataLoader(training_data, batch_size=32,shuffle=True)\n",
        "test_loader = DataLoader(test_data, batch_size=32,shuffle=False)\n",
        "img,label = next(iter(test_loader))\n",
        "img.shape   # 32,1,28,28"
      ],
      "metadata": {
        "colab": {
          "base_uri": "https://localhost:8080/"
        },
        "id": "5cPQptlq72FI",
        "outputId": "0d867cf3-6d9a-48c8-d679-517d4cf42245"
      },
      "execution_count": null,
      "outputs": [
        {
          "output_type": "execute_result",
          "data": {
            "text/plain": [
              "torch.Size([32, 1, 28, 28])"
            ]
          },
          "metadata": {},
          "execution_count": 28
        }
      ]
    },
    {
      "cell_type": "code",
      "source": [
        "import torch.nn as nn\n",
        "import torch\n",
        "\n",
        "# 모델 클래스\n",
        "class MLP(nn.Module):\n",
        "  def __init__(self):\n",
        "    super().__init__()\n",
        "    self.hidden1 = nn.Linear(28*28,100)\n",
        "    self.hidden2 = nn.Linear(100,50)\n",
        "    self.output = nn.Linear(50,10)\n",
        "    self.relu = nn.ReLU()\n",
        "  def forward(self,x):\n",
        "    x = self.relu(self.hidden1(x))\n",
        "    x = self.relu(self.hidden2(x))\n",
        "    output = self.output(x)\n",
        "    return output\n",
        "mlp_model = MLP()\n",
        "mlp_model"
      ],
      "metadata": {
        "colab": {
          "base_uri": "https://localhost:8080/"
        },
        "id": "pSGc-7Ra7roU",
        "outputId": "a0a6834a-7595-405f-b501-6b1bfb4ddf6c"
      },
      "execution_count": null,
      "outputs": [
        {
          "output_type": "execute_result",
          "data": {
            "text/plain": [
              "MLP(\n",
              "  (hidden1): Linear(in_features=784, out_features=100, bias=True)\n",
              "  (hidden2): Linear(in_features=100, out_features=50, bias=True)\n",
              "  (output): Linear(in_features=50, out_features=10, bias=True)\n",
              "  (relu): ReLU()\n",
              ")"
            ]
          },
          "metadata": {},
          "execution_count": 29
        }
      ]
    },
    {
      "cell_type": "code",
      "source": [
        "data, label = next(iter(train_loader))\n",
        "print(data[0].shape, data[0].reshape(-1, 28*28).shape)\n",
        "\n",
        "mlp_model(data[0].reshape(-1,28*28))"
      ],
      "metadata": {
        "colab": {
          "base_uri": "https://localhost:8080/"
        },
        "id": "P2qpjTQQ7pS6",
        "outputId": "7be23283-2192-4420-d6c1-d1673fc0c8d0"
      },
      "execution_count": null,
      "outputs": [
        {
          "output_type": "stream",
          "name": "stdout",
          "text": [
            "torch.Size([1, 28, 28]) torch.Size([1, 784])\n"
          ]
        },
        {
          "output_type": "execute_result",
          "data": {
            "text/plain": [
              "tensor([[ 0.0662,  0.0076,  0.1958, -0.0214,  0.0829,  0.0805,  0.0678, -0.0618,\n",
              "          0.0022, -0.0758]], grad_fn=<AddmmBackward0>)"
            ]
          },
          "metadata": {},
          "execution_count": 30
        }
      ]
    },
    {
      "cell_type": "markdown",
      "source": [
        "학습루프"
      ],
      "metadata": {
        "id": "AEn9rTDzB-ie"
      }
    },
    {
      "cell_type": "code",
      "source": [
        "device = 'cuda' if torch.cuda.is_available() else 'cpu'\n",
        "mlp_model.to(device)\n",
        "\n",
        "epochs = 20\n",
        "loss_fn = nn.CrossEntropyLoss()\n",
        "optimizer = torch.optim.Adam(mlp_model.parameters(), lr=0.001)\n",
        "for epoch in range(epochs):\n",
        "  for data, label in train_loader:  # torch.Size([32, 1, 28, 28])\n",
        "    data = data.to(device)\n",
        "    label = label.to(device)\n",
        "    data = data.reshape(-1,28*28)  # torch.Size([32, 784])\n",
        "    output = mlp_model(data)  # 예측\n",
        "    loss = loss_fn(output, label)  # 오차\n",
        "    loss.backward() # 오차 역전파\n",
        "    optimizer.step()  # 가중치 업데이트\n",
        "    optimizer.zero_grad() # 기울기 초기화\n",
        "  print(f'epoch {epoch+1} loss {loss.item() / len(train_loader)}') # item() 텐서에서 분리\n",
        "\n",
        "# 모델 저장\n",
        "torch.save(mlp_model.state_dict(), 'MNIST_pth')"
      ],
      "metadata": {
        "colab": {
          "base_uri": "https://localhost:8080/"
        },
        "id": "cjEkHZI-AlY6",
        "outputId": "df12d8f5-d75d-436a-864a-a7f36f3e1049"
      },
      "execution_count": null,
      "outputs": [
        {
          "output_type": "stream",
          "name": "stdout",
          "text": [
            "epoch 1 loss 1.2601069609324137e-05\n",
            "epoch 2 loss 2.943976124127706e-05\n",
            "epoch 3 loss 5.167312920093536e-06\n",
            "epoch 4 loss 8.27522873878479e-06\n",
            "epoch 5 loss 8.966586987177532e-06\n",
            "epoch 6 loss 4.224627216657003e-06\n",
            "epoch 7 loss 7.245868941148122e-06\n",
            "epoch 8 loss 1.2384897470474243e-05\n",
            "epoch 9 loss 1.9188427676757175e-06\n",
            "epoch 10 loss 1.9642675916353864e-06\n",
            "epoch 11 loss 2.1637409615019957e-07\n",
            "epoch 12 loss 2.2262607018152873e-05\n",
            "epoch 13 loss 1.9271451358993849e-07\n",
            "epoch 14 loss 2.6680737733840943e-06\n",
            "epoch 15 loss 3.967948878804843e-07\n",
            "epoch 16 loss 9.484173109134038e-07\n",
            "epoch 17 loss 1.1364512223129471e-09\n",
            "epoch 18 loss 3.49245616234839e-08\n",
            "epoch 19 loss 3.567047417163849e-06\n",
            "epoch 20 loss 3.238694667816162e-05\n"
          ]
        }
      ]
    },
    {
      "cell_type": "markdown",
      "source": [
        "저장된 모델 불러오기"
      ],
      "metadata": {
        "id": "pc79q7xTKcsD"
      }
    },
    {
      "cell_type": "code",
      "source": [
        "loaded_model = MLP()\n",
        "mlp_model.load_state_dict(torch.load('MNIST_pth', map_location=device))\n",
        "# mlp_model.load_state_dict(torch.load('MNIST_pth'))"
      ],
      "metadata": {
        "colab": {
          "base_uri": "https://localhost:8080/"
        },
        "id": "GTqMl88GDSXU",
        "outputId": "fc254802-7638-4f0f-ffaf-9ed9c5b965db"
      },
      "execution_count": null,
      "outputs": [
        {
          "output_type": "execute_result",
          "data": {
            "text/plain": [
              "<All keys matched successfully>"
            ]
          },
          "metadata": {},
          "execution_count": 32
        }
      ]
    },
    {
      "cell_type": "markdown",
      "source": [
        "평가"
      ],
      "metadata": {
        "id": "CTAtC7gKLXeY"
      }
    },
    {
      "cell_type": "code",
      "source": [
        "import numpy as np\n",
        "corrects = 0\n",
        "with torch.no_grad():  # 기울기 계산을 안함\n",
        "  for data, label in test_loader:\n",
        "    data = data.to(device)  # (32,1,28,28) -- > (32, 28*28)  nn.Linear(28*28,100)\n",
        "    label = label.to(device)\n",
        "    data = data.reshape(-1,28*28)\n",
        "    predict = loaded_model(data)  #\n",
        "    # a = np.argmax(predict.numpy(),axis=1)  #predict.numpy()  tensor ->numpy\n",
        "    # b = label.numpy()\n",
        "    # corrects += (a==b).sum()\n",
        "    corrects += predict.max(dim=-1)[1].eq(label).sum().item()\n",
        "\n",
        "corrects / len(test_loader.dataset)"
      ],
      "metadata": {
        "colab": {
          "base_uri": "https://localhost:8080/"
        },
        "id": "pwBrrSqKLXJv",
        "outputId": "d617e7ea-1090-422b-8a30-a4fb9fca32f4"
      },
      "execution_count": null,
      "outputs": [
        {
          "output_type": "execute_result",
          "data": {
            "text/plain": [
              "0.1183"
            ]
          },
          "metadata": {},
          "execution_count": 33
        }
      ]
    },
    {
      "cell_type": "markdown",
      "source": [
        "# 사진 분류 CNN vs VGG\n",
        "```\n",
        "CNN 설명\n",
        "데이터 전처리\n",
        "  데이터 증강\n",
        "  이미지 정규화\n",
        "CNN으로 이미지 분류\n",
        "  모델 정의\n",
        "  모델 학습\n",
        "  성능 평가\n",
        "VGG(전이학습)\n",
        "  사전학습된 모델 불러오기\n",
        "```"
      ],
      "metadata": {
        "id": "edihqmeLQXwM"
      }
    },
    {
      "cell_type": "code",
      "source": [
        "# 기존 데이터를 변\n",
        "from torchvision.datasets.cifar import CIFAR10\n",
        "from torchvision.transforms import ToTensor\n",
        "from torchvision.transforms import RandomHorizontalFlip, RandomCrop, Compose\n",
        "import matplotlib.pyplot as plt\n",
        "\n",
        "transform = Compose([\n",
        "    ToTensor(),\n",
        "    RandomCrop((32,32),padding=4),\n",
        "    RandomHorizontalFlip(p=0.5)\n",
        "])\n",
        "training_dataset = CIFAR10(\n",
        "    root = './',\n",
        "    train = True,\n",
        "    download = True,\n",
        "    transform= transform  # 데이터를 가져올때 변경을 어떻게 할것인지.\n",
        ")\n",
        "test_dataset = CIFAR10(\n",
        "    root = './',\n",
        "    train = False,\n",
        "    download = True,\n",
        "    transform = transform  # 데이터를 가져올때 변경을 어떻게 할것인지.\n",
        ")\n",
        "for idx, (data ,label) in enumerate(training_dataset):\n",
        "  plt.subplot(3,3,idx+1)\n",
        "  plt.imshow(data.permute(1,2,0))\n",
        "  if idx == 8:\n",
        "    break\n",
        "plt.show()"
      ],
      "metadata": {
        "id": "osJIZqTcM_aD",
        "colab": {
          "base_uri": "https://localhost:8080/",
          "height": 434
        },
        "outputId": "bd52af3d-b3d0-456f-87b1-509a14b2eccc"
      },
      "execution_count": null,
      "outputs": [
        {
          "output_type": "display_data",
          "data": {
            "text/plain": [
              "<Figure size 640x480 with 9 Axes>"
            ],
            "image/png": "[encoded data removed]"
          },
          "metadata": {}
        }
      ]
    },
    {
      "cell_type": "markdown",
      "source": [
        "이미지 정규화"
      ],
      "metadata": {
        "id": "tAFzTSSzaYfW"
      }
    },
    {
      "cell_type": "code",
      "source": [
        "from torchvision.transforms import Normalize\n",
        "import torchvision.transforms as T\n",
        "\n",
        "transform = Compose([\n",
        "    RandomCrop((32,32),padding=4),\n",
        "    RandomHorizontalFlip(p=0.5),\n",
        "    ToTensor(),\n",
        "    Normalize(mean = (0.45,0.45,0.45), std= (0.25,0.25,0.25)), # RGB에 대한 각각의 평균과 표준편차를 적용\n",
        "])\n",
        "\n",
        "training_dataset = CIFAR10(\n",
        "    root = './',\n",
        "    train = True,\n",
        "    download = True,\n",
        "    transform= transform  # 데이터를 가져올때 변경을 어떻게 할것인지.\n",
        ")\n",
        "test_dataset = CIFAR10(\n",
        "    root = './',\n",
        "    train = False,\n",
        "    download = True,\n",
        "    transform = transform  # 데이터를 가져올때 변경을 어떻게 할것인지.\n",
        ")\n",
        "for img in training_dataset.data:\n",
        "  plt.imshow(img)\n",
        "  break"
      ],
      "metadata": {
        "colab": {
          "base_uri": "https://localhost:8080/",
          "height": 430
        },
        "id": "v4aPyQjhaXXP",
        "outputId": "0bd14ab8-b502-4b6b-caae-1401e4e0ecc4"
      },
      "execution_count": null,
      "outputs": [
        {
          "output_type": "display_data",
          "data": {
            "text/plain": [
              "<Figure size 640x480 with 1 Axes>"
            ],
            "image/png": "[encoded data removed]"
          },
          "metadata": {}
        }
      ]
    },
    {
      "cell_type": "markdown",
      "source": [
        "CIFA1의 RGB의 각각의 평균과 표준편차"
      ],
      "metadata": {
        "id": "p7H3CBy6dc6n"
      }
    },
    {
      "cell_type": "code",
      "source": [
        "temp = CIFAR10(\n",
        "    root='./temp',\n",
        "    train=True,\n",
        "    download=True,\n",
        "    transform= ToTensor()\n",
        "    )\n",
        "print(temp.data.shape)"
      ],
      "metadata": {
        "colab": {
          "base_uri": "https://localhost:8080/"
        },
        "id": "pxxxZmPRbh8y",
        "outputId": "50022a3b-1aa9-4744-ad82-aedb43ac551b"
      },
      "execution_count": null,
      "outputs": [
        {
          "output_type": "stream",
          "name": "stdout",
          "text": [
            "(50000, 32, 32, 3)\n"
          ]
        }
      ]
    },
    {
      "cell_type": "code",
      "source": [
        "print(temp.data[0].shape)\n",
        "def calc_mean_std(img):\n",
        "  return img[:,:,:].mean(),img[1,:,:].mean(),img[2,:,:].mean()\n",
        "  # print(img[0,:,:].std(),img[1,:,:].std(),img[2,:,:].std())\n",
        "\n",
        "calc_mean_std(temp.data[0])"
      ],
      "metadata": {
        "colab": {
          "base_uri": "https://localhost:8080/"
        },
        "id": "qfwdDTNJgFEV",
        "outputId": "585fb63f-a913-4c88-cc64-0a4354316122"
      },
      "execution_count": null,
      "outputs": [
        {
          "output_type": "stream",
          "name": "stdout",
          "text": [
            "(32, 32, 3)\n"
          ]
        },
        {
          "output_type": "execute_result",
          "data": {
            "text/plain": [
              "(np.float64(103.447265625),\n",
              " np.float64(72.45833333333333),\n",
              " np.float64(79.08333333333333))"
            ]
          },
          "metadata": {},
          "execution_count": 89
        }
      ]
    },
    {
      "cell_type": "markdown",
      "source": [
        "모델은 VGG 형태로 만듬\n",
        "```\n",
        "합성곱(3x3) -relu - 합성곱(3x3) -relu - 맥스폴링 - 출력\n",
        "```"
      ],
      "metadata": {
        "id": "vb7Wp6kzg1Fs"
      }
    },
    {
      "cell_type": "code",
      "source": [
        "import torch\n",
        "import torch.nn as nn\n",
        "class BasicBlock(nn.Module):\n",
        "  def __init__(self, in_channels=3, hidden_channel = 32, out_channels=16):\n",
        "    super().__init__()\n",
        "    self.conv1 = nn.Conv2d(in_channels, hidden_channel, kernel_size=3, padding=1)   # 3 = 채널 수 / (32,32,32)\n",
        "    self.conv2 = nn.Conv2d(hidden_channel, out_channels, kernel_size=3, padding=1)  # (16,32,32)\n",
        "    self.relu = nn.ReLU()\n",
        "    self.maxpool = nn.MaxPool2d(2) # (16,16,16)\n",
        "  def forward(self, x):\n",
        "    x = self.relu(self.conv1(x))\n",
        "    x = self.relu(self.conv2(x))\n",
        "    x = self.maxpool(x)\n",
        "    return x"
      ],
      "metadata": {
        "id": "VEJHIBSUyBvS"
      },
      "execution_count": null,
      "outputs": []
    },
    {
      "cell_type": "code",
      "source": [
        "test_block = BasicBlock()\n",
        "for data ,label in training_dataset:\n",
        "  print(data.shape)\n",
        "  result = test_block(data)\n",
        "  print(result.shape)\n",
        "  break"
      ],
      "metadata": {
        "colab": {
          "base_uri": "https://localhost:8080/"
        },
        "id": "BqW8EMmY0JQZ",
        "outputId": "9e268432-4261-4f27-e87c-e9fca45fed7d"
      },
      "execution_count": null,
      "outputs": [
        {
          "output_type": "stream",
          "name": "stdout",
          "text": [
            "torch.Size([3, 32, 32])\n",
            "torch.Size([16, 16, 16])\n"
          ]
        }
      ]
    },
    {
      "cell_type": "markdown",
      "source": [
        "![image.png](data:image/png;base64,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)"
      ],
      "metadata": {
        "id": "d0slQqHQ50aR"
      }
    },
    {
      "cell_type": "code",
      "source": [
        "class CNN(nn.Module):\n",
        "  def __init__(self) -> None:\n",
        "    super().__init__()  # VGG16 대략 이런 파라메터\n",
        "    self.block1 = BasicBlock(in_channels=3,hidden_channel=32,out_channels=16)   # (None,16,16,16)\n",
        "    self.block2 = BasicBlock(in_channels=16,hidden_channel=64,out_channels=128)  #(None,128,8,8)\n",
        "    self.block3 = BasicBlock(in_channels=128,hidden_channel=128,out_channels=256) #(None,256,4,4)\n",
        "    self.linear1 = nn.Linear(in_features = 256*4*4, out_features = 2048)\n",
        "    self.linear2 = nn.Linear(in_features = 2048 , out_features=256)\n",
        "    self.linear3 = nn.Linear(in_features = 256 , out_features=10)\n",
        "    self.relu = nn.ReLU()\n",
        "  def forward(self,x):\n",
        "    x = self.block1(x)\n",
        "    x = self.block2(x)\n",
        "    x = self.block3(x)\n",
        "    #print(x.shape) # (None,256,4,4)\n",
        "    x =torch.flatten(x, start_dim=1)  # (None, 256, 4*4)\n",
        "    x = self.relu(self.linear1(x))\n",
        "    x = self.relu(self.linear2(x))\n",
        "    x = self.linear3(x)\n",
        "    return x"
      ],
      "metadata": {
        "id": "AbBcE9JT0fkO"
      },
      "execution_count": null,
      "outputs": []
    },
    {
      "cell_type": "code",
      "source": [
        "# 데이터가져오기 - 데이터변환 - 데이터로더 - 모델 생성 - 훈련함수, 평가함수\n",
        "from torchvision.datasets.cifar import CIFAR10\n",
        "from torch.utils.data.dataloader import DataLoader\n",
        "from torchvision.transforms import ToTensor,Normalize\n",
        "from torchvision.transforms import RandomHorizontalFlip, RandomCrop, Compose\n",
        "from torch.optim.adam import Adam\n",
        "transforms = Compose([\n",
        "    RandomCrop((32,32), padding=4),\n",
        "    RandomHorizontalFlip(p=0.5),\n",
        "    ToTensor(),\n",
        "    Normalize(mean = (0.4,0.4,0.4),std=(0.2,0.2,0.2))\n",
        "])\n",
        "training_dataset = CIFAR10(root='./',train=True,download=True,transform=transforms)\n",
        "test_dataset = CIFAR10(root='./',train=False,download=True,transform=transforms)\n",
        "training_dataloader = DataLoader(training_dataset,batch_size=64,shuffle=True)\n",
        "test_dataloader = DataLoader(training_dataset,batch_size=64)\n",
        "device = \"cuda\" if torch.cuda.is_available() else \"cpu\"\n",
        "# 모델\n",
        "model = CNN().to(device)\n",
        "epochs = 10\n",
        "loss_fn = nn.CrossEntropyLoss()\n",
        "optimizer = Adam(model.parameters(), lr=0.001)\n",
        "# 학습루프\n",
        "for epoch in range(epochs):\n",
        "  for data, label in training_dataloader:\n",
        "    data = data.to(device)\n",
        "    label = label.to(device)\n",
        "    predict = model(data)\n",
        "    loss = loss_fn(predict, label)\n",
        "    loss.backward()\n",
        "    optimizer.step()\n",
        "    optimizer.zero_grad()\n",
        "  print(f'epoch : {epoch+1} loss : {loss / len(training_dataloader)}')\n",
        "\n",
        "# 모델 저장\n",
        "torch.save(model.state_dict(), 'vggcnn.pth')"
      ],
      "metadata": {
        "colab": {
          "base_uri": "https://localhost:8080/"
        },
        "id": "lS3PbLl873MA",
        "outputId": "cda952cb-df61-4049-b981-f9321b960c3b"
      },
      "execution_count": null,
      "outputs": [
        {
          "output_type": "stream",
          "name": "stdout",
          "text": [
            "epoch : [epoch+1] loss : 1.3717577457427979\n",
            "epoch : [epoch+1] loss : 1.3770185708999634\n",
            "epoch : [epoch+1] loss : 0.9101678133010864\n",
            "epoch : [epoch+1] loss : 0.8506457209587097\n",
            "epoch : [epoch+1] loss : 1.2649394273757935\n",
            "epoch : [epoch+1] loss : 0.10691037029027939\n",
            "epoch : [epoch+1] loss : 0.46347177028656006\n",
            "epoch : [epoch+1] loss : 0.8798272013664246\n",
            "epoch : [epoch+1] loss : 0.5746532678604126\n",
            "epoch : [epoch+1] loss : 0.5584326386451721\n"
          ]
        }
      ]
    },
    {
      "cell_type": "code",
      "source": [
        "# 모델 로드\n",
        "vggcnn_loaded_model = CNN()\n",
        "vggcnn_loaded_model.load_state_dict(torch.load('vggcnn.pth', map_location=device))\n",
        "vggcnn_loaded_model = vggcnn_loaded_model.to(device)"
      ],
      "metadata": {
        "id": "jke27pmDB5LO"
      },
      "execution_count": null,
      "outputs": []
    },
    {
      "cell_type": "code",
      "source": [
        "with torch.no_grad():\n",
        "  corrects=0\n",
        "  for data, label in test_dataloader:\n",
        "    data = data.to(device)\n",
        "    label = label.to(device)\n",
        "    predict = vggcnn_loaded_model(data)\n",
        "    # predict.data.max(dim=1) 32,10 --> 32개의 샘플의 max값과 index값이 튜플로\n",
        "    preds = predict.data.max(dim=1)[1]   # max에 해당하는 index\n",
        "    preds.eq(label).sum().item()\n",
        "    corrects += preds.eq(label).sum().item()\n",
        "\n",
        "corrects / len(test_dataloader.dataset)"
      ],
      "metadata": {
        "colab": {
          "base_uri": "https://localhost:8080/"
        },
        "id": "4HCtEv8dEYHW",
        "outputId": "a6a53426-17f0-4ad4-e39e-2098a488a473"
      },
      "execution_count": null,
      "outputs": [
        {
          "output_type": "execute_result",
          "data": {
            "text/plain": [
              "0.80952"
            ]
          },
          "metadata": {},
          "execution_count": 12
        }
      ]
    },
    {
      "cell_type": "markdown",
      "source": [
        "# 추론"
      ],
      "metadata": {
        "id": "BTZh6uu1Fyzo"
      }
    },
    {
      "cell_type": "code",
      "source": [
        "original = CIFAR10(root='./', train=False,download=True,transform=ToTensor())\n",
        "data, label = next(iter(original))\n",
        "print(data.shape)"
      ],
      "metadata": {
        "colab": {
          "base_uri": "https://localhost:8080/"
        },
        "id": "tXRCumZnFxPh",
        "outputId": "2c02453b-dcfa-42dd-972e-91982f11521b"
      },
      "execution_count": null,
      "outputs": [
        {
          "output_type": "stream",
          "name": "stdout",
          "text": [
            "torch.Size([3, 32, 32])\n"
          ]
        }
      ]
    },
    {
      "cell_type": "code",
      "source": [
        "print(data.reshape(-1,3,32,32).shape)\n",
        "result = vggcnn_loaded_model(data.reshape(-1,3,32,32).to(device))   # 개수를 추가\n",
        "print(result.max(1)[1].item(), label)"
      ],
      "metadata": {
        "colab": {
          "base_uri": "https://localhost:8080/"
        },
        "id": "0TVAft8AGerk",
        "outputId": "d0b49664-2b47-440c-8f0d-00586a92a7d3"
      },
      "execution_count": null,
      "outputs": [
        {
          "output_type": "stream",
          "name": "stdout",
          "text": [
            "torch.Size([1, 3, 32, 32])\n",
            "3 3\n"
          ]
        }
      ]
    },
    {
      "cell_type": "code",
      "source": [
        "for idx,(data, label) in enumerate(original):\n",
        "  result = vggcnn_loaded_model(data.reshape(-1,3,32,32).to(device))   # 개수를 추가\n",
        "  print(result.max(1)[1].item(), label)\n",
        "  if idx==10:\n",
        "    break"
      ],
      "metadata": {
        "colab": {
          "base_uri": "https://localhost:8080/"
        },
        "id": "VYw3thasGuQF",
        "outputId": "0218e647-7f38-4241-ad85-31ecc9ffc2f2"
      },
      "execution_count": null,
      "outputs": [
        {
          "output_type": "stream",
          "name": "stdout",
          "text": [
            "3 3\n",
            "8 8\n",
            "8 8\n",
            "8 0\n",
            "3 6\n",
            "3 6\n",
            "3 1\n",
            "4 6\n",
            "3 3\n",
            "8 1\n",
            "8 0\n"
          ]
        }
      ]
    },
    {
      "cell_type": "markdown",
      "source": [
        "데이터 합치기\n",
        "```\n",
        "원본 + 크랩된 데이터\n",
        "from torch. utiles.data import ConcatDataset\n",
        "```"
      ],
      "metadata": {
        "id": "nRkuFaS0JZpm"
      }
    },
    {
      "cell_type": "code",
      "source": [
        "from torch.utils.data import ConcatDataset\n",
        "# ConcatDataset([CIAR10데이터셋, CIAR10데이터셋변경한거]])"
      ],
      "metadata": {
        "id": "N81TrGG1JDtp"
      },
      "execution_count": null,
      "outputs": []
    },
    {
      "cell_type": "markdown",
      "source": [
        "# VGG16"
      ],
      "metadata": {
        "id": "-OYkHgrrNnip"
      }
    },
    {
      "cell_type": "code",
      "source": [
        "import torch\n",
        "import torch.nn as nn\n",
        "from torchvision.models.vgg import vgg16\n",
        "# 모델 불러오기\n",
        "vgg16_model = vgg16(weights='VGG16_Weights.IMAGENET1K_V1')\n",
        "vgg16_model"
      ],
      "metadata": {
        "colab": {
          "base_uri": "https://localhost:8080/"
        },
        "id": "eoFIW2dAJYpE",
        "outputId": "7b47731f-c497-42e8-db5e-8defeeb1b4e5"
      },
      "execution_count": null,
      "outputs": [
        {
          "output_type": "execute_result",
          "data": {
            "text/plain": [
              "VGG(\n",
              "  (features): Sequential(\n",
              "    (0): Conv2d(3, 64, kernel_size=(3, 3), stride=(1, 1), padding=(1, 1))\n",
              "    (1): ReLU(inplace=True)\n",
              "    (2): Conv2d(64, 64, kernel_size=(3, 3), stride=(1, 1), padding=(1, 1))\n",
              "    (3): ReLU(inplace=True)\n",
              "    (4): MaxPool2d(kernel_size=2, stride=2, padding=0, dilation=1, ceil_mode=False)\n",
              "    (5): Conv2d(64, 128, kernel_size=(3, 3), stride=(1, 1), padding=(1, 1))\n",
              "    (6): ReLU(inplace=True)\n",
              "    (7): Conv2d(128, 128, kernel_size=(3, 3), stride=(1, 1), padding=(1, 1))\n",
              "    (8): ReLU(inplace=True)\n",
              "    (9): MaxPool2d(kernel_size=2, stride=2, padding=0, dilation=1, ceil_mode=False)\n",
              "    (10): Conv2d(128, 256, kernel_size=(3, 3), stride=(1, 1), padding=(1, 1))\n",
              "    (11): ReLU(inplace=True)\n",
              "    (12): Conv2d(256, 256, kernel_size=(3, 3), stride=(1, 1), padding=(1, 1))\n",
              "    (13): ReLU(inplace=True)\n",
              "    (14): Conv2d(256, 256, kernel_size=(3, 3), stride=(1, 1), padding=(1, 1))\n",
              "    (15): ReLU(inplace=True)\n",
              "    (16): MaxPool2d(kernel_size=2, stride=2, padding=0, dilation=1, ceil_mode=False)\n",
              "    (17): Conv2d(256, 512, kernel_size=(3, 3), stride=(1, 1), padding=(1, 1))\n",
              "    (18): ReLU(inplace=True)\n",
              "    (19): Conv2d(512, 512, kernel_size=(3, 3), stride=(1, 1), padding=(1, 1))\n",
              "    (20): ReLU(inplace=True)\n",
              "    (21): Conv2d(512, 512, kernel_size=(3, 3), stride=(1, 1), padding=(1, 1))\n",
              "    (22): ReLU(inplace=True)\n",
              "    (23): MaxPool2d(kernel_size=2, stride=2, padding=0, dilation=1, ceil_mode=False)\n",
              "    (24): Conv2d(512, 512, kernel_size=(3, 3), stride=(1, 1), padding=(1, 1))\n",
              "    (25): ReLU(inplace=True)\n",
              "    (26): Conv2d(512, 512, kernel_size=(3, 3), stride=(1, 1), padding=(1, 1))\n",
              "    (27): ReLU(inplace=True)\n",
              "    (28): Conv2d(512, 512, kernel_size=(3, 3), stride=(1, 1), padding=(1, 1))\n",
              "    (29): ReLU(inplace=True)\n",
              "    (30): MaxPool2d(kernel_size=2, stride=2, padding=0, dilation=1, ceil_mode=False)\n",
              "  )\n",
              "  (avgpool): AdaptiveAvgPool2d(output_size=(7, 7))\n",
              "  (classifier): Sequential(\n",
              "    (0): Linear(in_features=25088, out_features=4096, bias=True)\n",
              "    (1): ReLU(inplace=True)\n",
              "    (2): Dropout(p=0.5, inplace=False)\n",
              "    (3): Linear(in_features=4096, out_features=4096, bias=True)\n",
              "    (4): ReLU(inplace=True)\n",
              "    (5): Dropout(p=0.5, inplace=False)\n",
              "    (6): Linear(in_features=4096, out_features=1000, bias=True)\n",
              "  )\n",
              ")"
            ]
          },
          "metadata": {},
          "execution_count": 14
        }
      ]
    },
    {
      "cell_type": "code",
      "source": [
        "from torchsummary import summary\n",
        "device = 'cuda' if torch.cuda.is_available() else 'cpu'\n",
        "summary(vgg16_model.to(device), input_size=(3,32,32) )"
      ],
      "metadata": {
        "colab": {
          "base_uri": "https://localhost:8080/"
        },
        "id": "TETKHVXGOFC2",
        "outputId": "e7cc6799-51ee-4874-cfaa-e736b700ec72"
      },
      "execution_count": null,
      "outputs": [
        {
          "output_type": "stream",
          "name": "stdout",
          "text": [
            "----------------------------------------------------------------\n",
            "        Layer (type)               Output Shape         Param #\n",
            "================================================================\n",
            "            Conv2d-1           [-1, 64, 32, 32]           1,792\n",
            "              ReLU-2           [-1, 64, 32, 32]               0\n",
            "            Conv2d-3           [-1, 64, 32, 32]          36,928\n",
            "              ReLU-4           [-1, 64, 32, 32]               0\n",
            "         MaxPool2d-5           [-1, 64, 16, 16]               0\n",
            "            Conv2d-6          [-1, 128, 16, 16]          73,856\n",
            "              ReLU-7          [-1, 128, 16, 16]               0\n",
            "            Conv2d-8          [-1, 128, 16, 16]         147,584\n",
            "              ReLU-9          [-1, 128, 16, 16]               0\n",
            "        MaxPool2d-10            [-1, 128, 8, 8]               0\n",
            "           Conv2d-11            [-1, 256, 8, 8]         295,168\n",
            "             ReLU-12            [-1, 256, 8, 8]               0\n",
            "           Conv2d-13            [-1, 256, 8, 8]         590,080\n",
            "             ReLU-14            [-1, 256, 8, 8]               0\n",
            "           Conv2d-15            [-1, 256, 8, 8]         590,080\n",
            "             ReLU-16            [-1, 256, 8, 8]               0\n",
            "        MaxPool2d-17            [-1, 256, 4, 4]               0\n",
            "           Conv2d-18            [-1, 512, 4, 4]       1,180,160\n",
            "             ReLU-19            [-1, 512, 4, 4]               0\n",
            "           Conv2d-20            [-1, 512, 4, 4]       2,359,808\n",
            "             ReLU-21            [-1, 512, 4, 4]               0\n",
            "           Conv2d-22            [-1, 512, 4, 4]       2,359,808\n",
            "             ReLU-23            [-1, 512, 4, 4]               0\n",
            "        MaxPool2d-24            [-1, 512, 2, 2]               0\n",
            "           Conv2d-25            [-1, 512, 2, 2]       2,359,808\n",
            "             ReLU-26            [-1, 512, 2, 2]               0\n",
            "           Conv2d-27            [-1, 512, 2, 2]       2,359,808\n",
            "             ReLU-28            [-1, 512, 2, 2]               0\n",
            "           Conv2d-29            [-1, 512, 2, 2]       2,359,808\n",
            "             ReLU-30            [-1, 512, 2, 2]               0\n",
            "        MaxPool2d-31            [-1, 512, 1, 1]               0\n",
            "AdaptiveAvgPool2d-32            [-1, 512, 7, 7]               0\n",
            "           Linear-33                 [-1, 4096]     102,764,544\n",
            "             ReLU-34                 [-1, 4096]               0\n",
            "          Dropout-35                 [-1, 4096]               0\n",
            "           Linear-36                 [-1, 4096]      16,781,312\n",
            "             ReLU-37                 [-1, 4096]               0\n",
            "          Dropout-38                 [-1, 4096]               0\n",
            "           Linear-39                   [-1, 10]          40,970\n",
            "================================================================\n",
            "Total params: 134,301,514\n",
            "Trainable params: 119,586,826\n",
            "Non-trainable params: 14,714,688\n",
            "----------------------------------------------------------------\n",
            "Input size (MB): 0.01\n",
            "Forward/backward pass size (MB): 4.84\n",
            "Params size (MB): 512.32\n",
            "Estimated Total Size (MB): 517.17\n",
            "----------------------------------------------------------------\n"
          ]
        }
      ]
    },
    {
      "cell_type": "code",
      "source": [
        "  # (0): Linear(in_features=25088, out_features=4096, bias=True)\n",
        "  #   (1): ReLU(inplace=True)\n",
        "  #   (2): Dropout(p=0.5, inplace=False)\n",
        "  #   (3): Linear(in_features=4096, out_features=4096, bias=True)\n",
        "  #   (4): ReLU(inplace=True)\n",
        "  #   (5): Dropout(p=0.5, inplace=False)\n",
        "  #   (6): Linear(in_features=4096, out_features=1000, bias=True)\n",
        "class_model = nn.Sequential(\n",
        "    nn.Linear(in_features=25088,out_features = 4096),\n",
        "    nn.ReLU(),\n",
        "    nn.Dropout(p=0.5),\n",
        "    nn.Linear(in_features=4096, out_features=4096),\n",
        "    nn.ReLU(),\n",
        "    nn.Dropout(p=0.5),\n",
        "    nn.Linear(in_features=4096, out_features=10)\n",
        ")\n",
        "vgg16_model.classifier = class_model\n",
        "vgg16_model"
      ],
      "metadata": {
        "colab": {
          "base_uri": "https://localhost:8080/"
        },
        "id": "ZqEVCQTURU_W",
        "outputId": "055005b6-ff98-47f6-e453-07cc55d9a408"
      },
      "execution_count": null,
      "outputs": [
        {
          "output_type": "execute_result",
          "data": {
            "text/plain": [
              "VGG(\n",
              "  (features): Sequential(\n",
              "    (0): Conv2d(3, 64, kernel_size=(3, 3), stride=(1, 1), padding=(1, 1))\n",
              "    (1): ReLU(inplace=True)\n",
              "    (2): Conv2d(64, 64, kernel_size=(3, 3), stride=(1, 1), padding=(1, 1))\n",
              "    (3): ReLU(inplace=True)\n",
              "    (4): MaxPool2d(kernel_size=2, stride=2, padding=0, dilation=1, ceil_mode=False)\n",
              "    (5): Conv2d(64, 128, kernel_size=(3, 3), stride=(1, 1), padding=(1, 1))\n",
              "    (6): ReLU(inplace=True)\n",
              "    (7): Conv2d(128, 128, kernel_size=(3, 3), stride=(1, 1), padding=(1, 1))\n",
              "    (8): ReLU(inplace=True)\n",
              "    (9): MaxPool2d(kernel_size=2, stride=2, padding=0, dilation=1, ceil_mode=False)\n",
              "    (10): Conv2d(128, 256, kernel_size=(3, 3), stride=(1, 1), padding=(1, 1))\n",
              "    (11): ReLU(inplace=True)\n",
              "    (12): Conv2d(256, 256, kernel_size=(3, 3), stride=(1, 1), padding=(1, 1))\n",
              "    (13): ReLU(inplace=True)\n",
              "    (14): Conv2d(256, 256, kernel_size=(3, 3), stride=(1, 1), padding=(1, 1))\n",
              "    (15): ReLU(inplace=True)\n",
              "    (16): MaxPool2d(kernel_size=2, stride=2, padding=0, dilation=1, ceil_mode=False)\n",
              "    (17): Conv2d(256, 512, kernel_size=(3, 3), stride=(1, 1), padding=(1, 1))\n",
              "    (18): ReLU(inplace=True)\n",
              "    (19): Conv2d(512, 512, kernel_size=(3, 3), stride=(1, 1), padding=(1, 1))\n",
              "    (20): ReLU(inplace=True)\n",
              "    (21): Conv2d(512, 512, kernel_size=(3, 3), stride=(1, 1), padding=(1, 1))\n",
              "    (22): ReLU(inplace=True)\n",
              "    (23): MaxPool2d(kernel_size=2, stride=2, padding=0, dilation=1, ceil_mode=False)\n",
              "    (24): Conv2d(512, 512, kernel_size=(3, 3), stride=(1, 1), padding=(1, 1))\n",
              "    (25): ReLU(inplace=True)\n",
              "    (26): Conv2d(512, 512, kernel_size=(3, 3), stride=(1, 1), padding=(1, 1))\n",
              "    (27): ReLU(inplace=True)\n",
              "    (28): Conv2d(512, 512, kernel_size=(3, 3), stride=(1, 1), padding=(1, 1))\n",
              "    (29): ReLU(inplace=True)\n",
              "    (30): MaxPool2d(kernel_size=2, stride=2, padding=0, dilation=1, ceil_mode=False)\n",
              "  )\n",
              "  (avgpool): AdaptiveAvgPool2d(output_size=(7, 7))\n",
              "  (classifier): Sequential(\n",
              "    (0): Linear(in_features=25088, out_features=4096, bias=True)\n",
              "    (1): ReLU()\n",
              "    (2): Dropout(p=0.5, inplace=False)\n",
              "    (3): Linear(in_features=4096, out_features=4096, bias=True)\n",
              "    (4): ReLU()\n",
              "    (5): Dropout(p=0.5, inplace=False)\n",
              "    (6): Linear(in_features=4096, out_features=10, bias=True)\n",
              "  )\n",
              ")"
            ]
          },
          "metadata": {},
          "execution_count": 74
        }
      ]
    },
    {
      "cell_type": "code",
      "source": [
        "# 출력의 개수만 변경\n",
        "vgg16_model2 = vgg16(weights='VGG16_Weights.IMAGENET1K_V1')\n",
        "in_features = vgg16_model2.classifier[6].in_features  # 4096\n",
        "\n",
        "vgg16_model2.classifier[6] = nn.Linear(in_features=in_features,out_features=10)\n",
        "vgg16_model2"
      ],
      "metadata": {
        "colab": {
          "base_uri": "https://localhost:8080/"
        },
        "id": "cBkk0rhDR5kt",
        "outputId": "30b2aca8-cf34-4f37-c90e-86b1f4ddbe83"
      },
      "execution_count": null,
      "outputs": [
        {
          "output_type": "execute_result",
          "data": {
            "text/plain": [
              "VGG(\n",
              "  (features): Sequential(\n",
              "    (0): Conv2d(3, 64, kernel_size=(3, 3), stride=(1, 1), padding=(1, 1))\n",
              "    (1): ReLU(inplace=True)\n",
              "    (2): Conv2d(64, 64, kernel_size=(3, 3), stride=(1, 1), padding=(1, 1))\n",
              "    (3): ReLU(inplace=True)\n",
              "    (4): MaxPool2d(kernel_size=2, stride=2, padding=0, dilation=1, ceil_mode=False)\n",
              "    (5): Conv2d(64, 128, kernel_size=(3, 3), stride=(1, 1), padding=(1, 1))\n",
              "    (6): ReLU(inplace=True)\n",
              "    (7): Conv2d(128, 128, kernel_size=(3, 3), stride=(1, 1), padding=(1, 1))\n",
              "    (8): ReLU(inplace=True)\n",
              "    (9): MaxPool2d(kernel_size=2, stride=2, padding=0, dilation=1, ceil_mode=False)\n",
              "    (10): Conv2d(128, 256, kernel_size=(3, 3), stride=(1, 1), padding=(1, 1))\n",
              "    (11): ReLU(inplace=True)\n",
              "    (12): Conv2d(256, 256, kernel_size=(3, 3), stride=(1, 1), padding=(1, 1))\n",
              "    (13): ReLU(inplace=True)\n",
              "    (14): Conv2d(256, 256, kernel_size=(3, 3), stride=(1, 1), padding=(1, 1))\n",
              "    (15): ReLU(inplace=True)\n",
              "    (16): MaxPool2d(kernel_size=2, stride=2, padding=0, dilation=1, ceil_mode=False)\n",
              "    (17): Conv2d(256, 512, kernel_size=(3, 3), stride=(1, 1), padding=(1, 1))\n",
              "    (18): ReLU(inplace=True)\n",
              "    (19): Conv2d(512, 512, kernel_size=(3, 3), stride=(1, 1), padding=(1, 1))\n",
              "    (20): ReLU(inplace=True)\n",
              "    (21): Conv2d(512, 512, kernel_size=(3, 3), stride=(1, 1), padding=(1, 1))\n",
              "    (22): ReLU(inplace=True)\n",
              "    (23): MaxPool2d(kernel_size=2, stride=2, padding=0, dilation=1, ceil_mode=False)\n",
              "    (24): Conv2d(512, 512, kernel_size=(3, 3), stride=(1, 1), padding=(1, 1))\n",
              "    (25): ReLU(inplace=True)\n",
              "    (26): Conv2d(512, 512, kernel_size=(3, 3), stride=(1, 1), padding=(1, 1))\n",
              "    (27): ReLU(inplace=True)\n",
              "    (28): Conv2d(512, 512, kernel_size=(3, 3), stride=(1, 1), padding=(1, 1))\n",
              "    (29): ReLU(inplace=True)\n",
              "    (30): MaxPool2d(kernel_size=2, stride=2, padding=0, dilation=1, ceil_mode=False)\n",
              "  )\n",
              "  (avgpool): AdaptiveAvgPool2d(output_size=(7, 7))\n",
              "  (classifier): Sequential(\n",
              "    (0): Linear(in_features=25088, out_features=4096, bias=True)\n",
              "    (1): ReLU(inplace=True)\n",
              "    (2): Dropout(p=0.5, inplace=False)\n",
              "    (3): Linear(in_features=4096, out_features=4096, bias=True)\n",
              "    (4): ReLU(inplace=True)\n",
              "    (5): Dropout(p=0.5, inplace=False)\n",
              "    (6): Linear(in_features=4096, out_features=10, bias=True)\n",
              "  )\n",
              ")"
            ]
          },
          "metadata": {},
          "execution_count": 75
        }
      ]
    },
    {
      "cell_type": "markdown",
      "source": [
        "# 전이모델로 학습하기"
      ],
      "metadata": {
        "id": "ScxzMWUITDS9"
      }
    },
    {
      "cell_type": "code",
      "source": [
        "vgg16_model2.to(device)\n",
        "\n",
        "for param in vgg16_model2.parameters():\n",
        "  param.requires_grad  = False\n",
        "\n",
        "# 출력층만 다시 활성화\n",
        "for param in vgg16_model2.classifier[6].parameters():\n",
        "    param.requires_grad = True\n",
        "\n",
        "train_dataset = CIFAR10(root='./',train=True,download=True,transform=ToTensor())\n",
        "test_dataset = CIFAR10(root='./',train=False,download=True,transform=ToTensor())\n",
        "train_dataloader = DataLoader(train_dataset,batch_size=64,shuffle=True)\n",
        "test_dataloader = DataLoader(test_dataset,batch_size=64)\n",
        "device = \"cuda\" if torch.cuda.is_available() else \"cpu\"\n",
        "epochs = 10\n",
        "loss_fn = nn.CrossEntropyLoss()\n",
        "optimizer = Adam(vgg16_model2.parameters(),lr=0.001)\n",
        "for epoch in range(epochs):\n",
        "  for data, label in train_dataloader:\n",
        "    data = data.to(device)\n",
        "    label = label.to(device)\n",
        "    predict = vgg16_model2(data)\n",
        "    loss = loss_fn(predict, label)\n",
        "    loss.backward()\n",
        "    optimizer.step()\n",
        "    optimizer.zero_grad()\n",
        "  print(f'epoch : {epoch+1} loss : {loss / len(train_dataloader)}')"
      ],
      "metadata": {
        "colab": {
          "base_uri": "https://localhost:8080/"
        },
        "id": "pLl2-gE7SwbR",
        "outputId": "c86bc8ca-1f86-48a1-ac5d-bbd23b08a553"
      },
      "execution_count": null,
      "outputs": [
        {
          "output_type": "stream",
          "name": "stdout",
          "text": [
            "epoch : 1 loss : 0.002467334270477295\n",
            "epoch : 2 loss : 0.0018791976617649198\n",
            "epoch : 3 loss : 0.0026122371200472116\n",
            "epoch : 4 loss : 0.0018110631499439478\n",
            "epoch : 5 loss : 0.003473245771601796\n",
            "epoch : 6 loss : 0.0015388068277388811\n",
            "epoch : 7 loss : 0.0013655286747962236\n",
            "epoch : 8 loss : 0.0020435864571481943\n",
            "epoch : 9 loss : 0.0020294208079576492\n",
            "epoch : 10 loss : 0.0019346816698089242\n"
          ]
        }
      ]
    },
    {
      "cell_type": "code",
      "source": [
        "# 평가\n",
        "with torch.no_grad():\n",
        "  corrects = 0\n",
        "  for data,label in test_dataloader:\n",
        "    data = data.to(device)\n",
        "    label = label.to(device)\n",
        "    predict = vgg16_model2(data)\n",
        "    predict = predict.data.max(dim=1)[1]  # max에  해당하는 index\n",
        "    corrects += predict.eq(label).sum().item()\n",
        "corrects / len(test_dataloader.dataset)"
      ],
      "metadata": {
        "colab": {
          "base_uri": "https://localhost:8080/"
        },
        "id": "clCP-pLSeufv",
        "outputId": "8cd12451-c63b-43bb-d947-58eca42e1472"
      },
      "execution_count": null,
      "outputs": [
        {
          "output_type": "execute_result",
          "data": {
            "text/plain": [
              "0.4935"
            ]
          },
          "metadata": {},
          "execution_count": 77
        }
      ]
    },
    {
      "cell_type": "code",
      "source": [
        "for idx,(data, label) in enumerate(original):\n",
        "  result = vgg16_model2(data.reshape(-1,3,32,32).to(device))   # 개수를 추가\n",
        "  print(result.max(1)[1].item(), label)\n",
        "  if idx==10:\n",
        "    break"
      ],
      "metadata": {
        "colab": {
          "base_uri": "https://localhost:8080/"
        },
        "id": "eqAY3CS7Z0BA",
        "outputId": "319d7015-fd66-4954-e28c-e7a71465e245"
      },
      "execution_count": null,
      "outputs": [
        {
          "output_type": "stream",
          "name": "stdout",
          "text": [
            "1 3\n",
            "8 8\n",
            "8 8\n",
            "1 0\n",
            "2 6\n",
            "4 6\n",
            "5 1\n",
            "1 6\n",
            "3 3\n",
            "9 1\n",
            "0 0\n"
          ]
        }
      ]
    },
    {
      "cell_type": "markdown",
      "source": [
        "# 강사님 코드"
      ],
      "metadata": {
        "id": "Smbn8u_zh3nD"
      }
    },
    {
      "cell_type": "code",
      "source": [
        "vgg16_model2 = vgg16(weights='VGG16_Weights.IMAGENET1K_V1')\n",
        "\n",
        "in_features = vgg16_model2.classifier[6].in_features  # 4096\n",
        "vgg16_model2.classifier[6] = nn.Linear(in_features=in_features,out_features=10)\n",
        "\n",
        "for param in vgg16_model2.parameters():\n",
        "  param.requires_grad  = True\n",
        "\n",
        "\n",
        "vgg16_model2.to(device)\n",
        "from torchvision.datasets.cifar import CIFAR10\n",
        "train_dataset = CIFAR10(root='./',train=True,download=True,transform=ToTensor())\n",
        "test_dataset = CIFAR10(root='./',train=False,download=True,transform=ToTensor())\n",
        "train_dataloader = DataLoader(train_dataset,batch_size=64,shuffle=True)\n",
        "test_dataloader = DataLoader(test_dataset,batch_size=64)\n",
        "\n",
        "loss_fn = nn.CrossEntropyLoss()\n",
        "optim = Adam(vgg16_model2.parameters(),lr=0.001)\n",
        "for epoch in range(10):\n",
        "  for data, label in train_dataloader:\n",
        "    data = data.to(device)\n",
        "    label = label.to(device)\n",
        "    predict = vgg16_model2(data)\n",
        "    loss = loss_fn(predict,label)\n",
        "    loss.backward()\n",
        "    optim.step()\n",
        "    optim.zero_grad()\n",
        "  print(f'epoch : {epoch+1} loss : {loss / len(train_dataloader)}')\n",
        "\n",
        "# 평가\n",
        "with torch.no_grad():\n",
        "  corrects = 0\n",
        "  for data,label in test_dataloader:\n",
        "    data = data.to(device)\n",
        "    label = label.to(device)\n",
        "    predict = vgg16_model2(data)\n",
        "    predict = predict.data.max(dim=1)[1]  # max에  해당하는 index\n",
        "    corrects += predict.eq(label).sum().item()\n",
        "corrects / len(test_dataloader.dataset)"
      ],
      "metadata": {
        "id": "m-36zdsQkn-q"
      },
      "execution_count": null,
      "outputs": []
    }
  ]
}