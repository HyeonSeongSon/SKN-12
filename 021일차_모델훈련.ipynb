{
  "nbformat": 4,
  "nbformat_minor": 0,
  "metadata": {
    "colab": {
      "provenance": []
    },
    "kernelspec": {
      "name": "python3",
      "display_name": "Python 3"
    },
    "language_info": {
      "name": "python"
    }
  },
  "cells": [
    {
      "cell_type": "markdown",
      "source": [
        "# 로지스틱 회귀\n",
        "```\n",
        "시그모이드 함수\n",
        "선형결합이 음수 양수 다양하게 나올수 있는데 이 값을 확률로\n",
        "바꾸기 위해서 0~1사이로  바꾼다 e-z는 지수함수로 (z)가\n",
        "커질수록 급격히 값이 변해서 S자 모양으로 만듦\n",
        "```\n",
        "$$\\sigma(z) = \\frac{1}{1 + e^{-z}}$$\n",
        "```\n",
        "선형결합\n",
        "```\n",
        "$$z = w_0 + w_1 x_1 + w_2 x_2 + \\dots + w_n x_n$$\n",
        "```\n",
        "손실함수(로그손실)\n",
        "```\n",
        "$$J(w) = -\\frac{1}{m} \\sum_{i=1}^{m} [y_i \\log(\\hat{y}_i) + (1 - y_i) \\log(1 - \\hat{y}_i)]$$"
      ],
      "metadata": {
        "id": "Fi3Zi9__BGEN"
      }
    },
    {
      "cell_type": "code",
      "execution_count": 1,
      "metadata": {
        "colab": {
          "base_uri": "https://localhost:8080/",
          "height": 449
        },
        "id": "MEhDOgwO6Yru",
        "outputId": "2e9bdf92-03c3-484f-c4e9-ae0c37ab1d2b"
      },
      "outputs": [
        {
          "output_type": "display_data",
          "data": {
            "text/plain": [
              "<Figure size 640x480 with 1 Axes>"
            ],
            "image/png": "[encoded data removed]"
          },
          "metadata": {}
        }
      ],
      "source": [
        "# 시그모이드 함수 확인\n",
        "# z 값이 변할때 0과 1사이로 나오는지 확인\n",
        "import numpy as np\n",
        "import matplotlib.pyplot as plt\n",
        "\n",
        "# X 값 지정\n",
        "z = np.linspace(-10, 10, 100) # -10과 10사이에 값을 100개 만드는데 간격을 비슷하게해서 만듬\n",
        "sigmoid = 1/(1+ np.exp(-z))\n",
        "\n",
        "# 그래프 그리기\n",
        "plt.plot(z, sigmoid)\n",
        "plt.xlabel('z')\n",
        "plt.ylabel('sigmoid(z)')\n",
        "plt.show()"
      ]
    },
    {
      "cell_type": "code",
      "source": [
        "# z = w0  + w1x1 + w2x2\n",
        "# 문장의 길이, '스펨' 단어 수\n",
        "X = np.array([[2,1],[5,3]])  # 샘플\n",
        "w = np.array([0.5,1.0]) # 가중치\n",
        "w0 = 0.1 # 절편\n",
        "z = w0 + np.dot(X,w)\n",
        "print(z)\n",
        "1 / (1 + np.exp(-2.1)), 1 / (1 + np.exp(-5.6))"
      ],
      "metadata": {
        "colab": {
          "base_uri": "https://localhost:8080/"
        },
        "id": "X5XEQxhDCltX",
        "outputId": "d85210ac-84ac-4780-9787-09406e36101f"
      },
      "execution_count": 2,
      "outputs": [
        {
          "output_type": "stream",
          "name": "stdout",
          "text": [
            "[2.1 5.6]\n"
          ]
        },
        {
          "output_type": "execute_result",
          "data": {
            "text/plain": [
              "(np.float64(0.8909031788043871), np.float64(0.9963157601005641))"
            ]
          },
          "metadata": {},
          "execution_count": 2
        }
      ]
    },
    {
      "cell_type": "code",
      "source": [
        "import pandas as pd\n",
        "fish = pd.read_csv('https://bit.ly/fish_csv_data')\n",
        "fish.head(3)"
      ],
      "metadata": {
        "colab": {
          "base_uri": "https://localhost:8080/",
          "height": 143
        },
        "id": "qMlOoXjDESpx",
        "outputId": "1ead85e8-6388-4262-d8cb-4053e8e408b6"
      },
      "execution_count": 3,
      "outputs": [
        {
          "output_type": "execute_result",
          "data": {
            "text/plain": [
              "  Species  Weight  Length  Diagonal   Height   Width\n",
              "0   Bream   242.0    25.4      30.0  11.5200  4.0200\n",
              "1   Bream   290.0    26.3      31.2  12.4800  4.3056\n",
              "2   Bream   340.0    26.5      31.1  12.3778  4.6961"
            ],
            "text/html": [
              "\n",
              "  <div id=\"df-3bbeee41-f8dd-4fb2-ac93-cb565ce2bdc6\" class=\"colab-df-container\">\n",
              "    <div>\n",
              "<style scoped>\n",
              "    .dataframe tbody tr th:only-of-type {\n",
              "        vertical-align: middle;\n",
              "    }\n",
              "\n",
              "    .dataframe tbody tr th {\n",
              "        vertical-align: top;\n",
              "    }\n",
              "\n",
              "    .dataframe thead th {\n",
              "        text-align: right;\n",
              "    }\n",
              "</style>\n",
              "<table border=\"1\" class=\"dataframe\">\n",
              "  <thead>\n",
              "    <tr style=\"text-align: right;\">\n",
              "      <th></th>\n",
              "      <th>Species</th>\n",
              "      <th>Weight</th>\n",
              "      <th>Length</th>\n",
              "      <th>Diagonal</th>\n",
              "      <th>Height</th>\n",
              "      <th>Width</th>\n",
              "    </tr>\n",
              "  </thead>\n",
              "  <tbody>\n",
              "    <tr>\n",
              "      <th>0</th>\n",
              "      <td>Bream</td>\n",
              "      <td>242.0</td>\n",
              "      <td>25.4</td>\n",
              "      <td>30.0</td>\n",
              "      <td>11.5200</td>\n",
              "      <td>4.0200</td>\n",
              "    </tr>\n",
              "    <tr>\n",
              "      <th>1</th>\n",
              "      <td>Bream</td>\n",
              "      <td>290.0</td>\n",
              "      <td>26.3</td>\n",
              "      <td>31.2</td>\n",
              "      <td>12.4800</td>\n",
              "      <td>4.3056</td>\n",
              "    </tr>\n",
              "    <tr>\n",
              "      <th>2</th>\n",
              "      <td>Bream</td>\n",
              "      <td>340.0</td>\n",
              "      <td>26.5</td>\n",
              "      <td>31.1</td>\n",
              "      <td>12.3778</td>\n",
              "      <td>4.6961</td>\n",
              "    </tr>\n",
              "  </tbody>\n",
              "</table>\n",
              "</div>\n",
              "    <div class=\"colab-df-buttons\">\n",
              "\n",
              "  <div class=\"colab-df-container\">\n",
              "    <button class=\"colab-df-convert\" onclick=\"convertToInteractive('df-3bbeee41-f8dd-4fb2-ac93-cb565ce2bdc6')\"\n",
              "            title=\"Convert this dataframe to an interactive table.\"\n",
              "            style=\"display:none;\">\n",
              "\n",
              "  <svg xmlns=\"http://www.w3.org/2000/svg\" height=\"24px\" viewBox=\"0 -960 960 960\">\n",
              "    <path d=\"M120-120v-720h720v720H120Zm60-500h600v-160H180v160Zm220 220h160v-160H400v160Zm0 220h160v-160H400v160ZM180-400h160v-160H180v160Zm440 0h160v-160H620v160ZM180-180h160v-160H180v160Zm440 0h160v-160H620v160Z\"/>\n",
              "  </svg>\n",
              "    </button>\n",
              "\n",
              "  <style>\n",
              "    .colab-df-container {\n",
              "      display:flex;\n",
              "      gap: 12px;\n",
              "    }\n",
              "\n",
              "    .colab-df-convert {\n",
              "      background-color: #E8F0FE;\n",
              "      border: none;\n",
              "      border-radius: 50%;\n",
              "      cursor: pointer;\n",
              "      display: none;\n",
              "      fill: #1967D2;\n",
              "      height: 32px;\n",
              "      padding: 0 0 0 0;\n",
              "      width: 32px;\n",
              "    }\n",
              "\n",
              "    .colab-df-convert:hover {\n",
              "      background-color: #E2EBFA;\n",
              "      box-shadow: 0px 1px 2px rgba(60, 64, 67, 0.3), 0px 1px 3px 1px rgba(60, 64, 67, 0.15);\n",
              "      fill: #174EA6;\n",
              "    }\n",
              "\n",
              "    .colab-df-buttons div {\n",
              "      margin-bottom: 4px;\n",
              "    }\n",
              "\n",
              "    [theme=dark] .colab-df-convert {\n",
              "      background-color: #3B4455;\n",
              "      fill: #D2E3FC;\n",
              "    }\n",
              "\n",
              "    [theme=dark] .colab-df-convert:hover {\n",
              "      background-color: #434B5C;\n",
              "      box-shadow: 0px 1px 3px 1px rgba(0, 0, 0, 0.15);\n",
              "      filter: drop-shadow(0px 1px 2px rgba(0, 0, 0, 0.3));\n",
              "      fill: #FFFFFF;\n",
              "    }\n",
              "  </style>\n",
              "\n",
              "    <script>\n",
              "      const buttonEl =\n",
              "        document.querySelector('#df-3bbeee41-f8dd-4fb2-ac93-cb565ce2bdc6 button.colab-df-convert');\n",
              "      buttonEl.style.display =\n",
              "        google.colab.kernel.accessAllowed ? 'block' : 'none';\n",
              "\n",
              "      async function convertToInteractive(key) {\n",
              "        const element = document.querySelector('#df-3bbeee41-f8dd-4fb2-ac93-cb565ce2bdc6');\n",
              "        const dataTable =\n",
              "          await google.colab.kernel.invokeFunction('convertToInteractive',\n",
              "                                                    [key], {});\n",
              "        if (!dataTable) return;\n",
              "\n",
              "        const docLinkHtml = 'Like what you see? Visit the ' +\n",
              "          '<a target=\"_blank\" href=https://colab.research.google.com/notebooks/data_table.ipynb>data table notebook</a>'\n",
              "          + ' to learn more about interactive tables.';\n",
              "        element.innerHTML = '';\n",
              "        dataTable['output_type'] = 'display_data';\n",
              "        await google.colab.output.renderOutput(dataTable, element);\n",
              "        const docLink = document.createElement('div');\n",
              "        docLink.innerHTML = docLinkHtml;\n",
              "        element.appendChild(docLink);\n",
              "      }\n",
              "    </script>\n",
              "  </div>\n",
              "\n",
              "\n",
              "<div id=\"df-2e0c38f1-24c1-4013-861f-ef3387fe3f20\">\n",
              "  <button class=\"colab-df-quickchart\" onclick=\"quickchart('df-2e0c38f1-24c1-4013-861f-ef3387fe3f20')\"\n",
              "            title=\"Suggest charts\"\n",
              "            style=\"display:none;\">\n",
              "\n",
              "<svg xmlns=\"http://www.w3.org/2000/svg\" height=\"24px\"viewBox=\"0 0 24 24\"\n",
              "     width=\"24px\">\n",
              "    <g>\n",
              "        <path d=\"M19 3H5c-1.1 0-2 .9-2 2v14c0 1.1.9 2 2 2h14c1.1 0 2-.9 2-2V5c0-1.1-.9-2-2-2zM9 17H7v-7h2v7zm4 0h-2V7h2v10zm4 0h-2v-4h2v4z\"/>\n",
              "    </g>\n",
              "</svg>\n",
              "  </button>\n",
              "\n",
              "<style>\n",
              "  .colab-df-quickchart {\n",
              "      --bg-color: #E8F0FE;\n",
              "      --fill-color: #1967D2;\n",
              "      --hover-bg-color: #E2EBFA;\n",
              "      --hover-fill-color: #174EA6;\n",
              "      --disabled-fill-color: #AAA;\n",
              "      --disabled-bg-color: #DDD;\n",
              "  }\n",
              "\n",
              "  [theme=dark] .colab-df-quickchart {\n",
              "      --bg-color: #3B4455;\n",
              "      --fill-color: #D2E3FC;\n",
              "      --hover-bg-color: #434B5C;\n",
              "      --hover-fill-color: #FFFFFF;\n",
              "      --disabled-bg-color: #3B4455;\n",
              "      --disabled-fill-color: #666;\n",
              "  }\n",
              "\n",
              "  .colab-df-quickchart {\n",
              "    background-color: var(--bg-color);\n",
              "    border: none;\n",
              "    border-radius: 50%;\n",
              "    cursor: pointer;\n",
              "    display: none;\n",
              "    fill: var(--fill-color);\n",
              "    height: 32px;\n",
              "    padding: 0;\n",
              "    width: 32px;\n",
              "  }\n",
              "\n",
              "  .colab-df-quickchart:hover {\n",
              "    background-color: var(--hover-bg-color);\n",
              "    box-shadow: 0 1px 2px rgba(60, 64, 67, 0.3), 0 1px 3px 1px rgba(60, 64, 67, 0.15);\n",
              "    fill: var(--button-hover-fill-color);\n",
              "  }\n",
              "\n",
              "  .colab-df-quickchart-complete:disabled,\n",
              "  .colab-df-quickchart-complete:disabled:hover {\n",
              "    background-color: var(--disabled-bg-color);\n",
              "    fill: var(--disabled-fill-color);\n",
              "    box-shadow: none;\n",
              "  }\n",
              "\n",
              "  .colab-df-spinner {\n",
              "    border: 2px solid var(--fill-color);\n",
              "    border-color: transparent;\n",
              "    border-bottom-color: var(--fill-color);\n",
              "    animation:\n",
              "      spin 1s steps(1) infinite;\n",
              "  }\n",
              "\n",
              "  @keyframes spin {\n",
              "    0% {\n",
              "      border-color: transparent;\n",
              "      border-bottom-color: var(--fill-color);\n",
              "      border-left-color: var(--fill-color);\n",
              "    }\n",
              "    20% {\n",
              "      border-color: transparent;\n",
              "      border-left-color: var(--fill-color);\n",
              "      border-top-color: var(--fill-color);\n",
              "    }\n",
              "    30% {\n",
              "      border-color: transparent;\n",
              "      border-left-color: var(--fill-color);\n",
              "      border-top-color: var(--fill-color);\n",
              "      border-right-color: var(--fill-color);\n",
              "    }\n",
              "    40% {\n",
              "      border-color: transparent;\n",
              "      border-right-color: var(--fill-color);\n",
              "      border-top-color: var(--fill-color);\n",
              "    }\n",
              "    60% {\n",
              "      border-color: transparent;\n",
              "      border-right-color: var(--fill-color);\n",
              "    }\n",
              "    80% {\n",
              "      border-color: transparent;\n",
              "      border-right-color: var(--fill-color);\n",
              "      border-bottom-color: var(--fill-color);\n",
              "    }\n",
              "    90% {\n",
              "      border-color: transparent;\n",
              "      border-bottom-color: var(--fill-color);\n",
              "    }\n",
              "  }\n",
              "</style>\n",
              "\n",
              "  <script>\n",
              "    async function quickchart(key) {\n",
              "      const quickchartButtonEl =\n",
              "        document.querySelector('#' + key + ' button');\n",
              "      quickchartButtonEl.disabled = true;  // To prevent multiple clicks.\n",
              "      quickchartButtonEl.classList.add('colab-df-spinner');\n",
              "      try {\n",
              "        const charts = await google.colab.kernel.invokeFunction(\n",
              "            'suggestCharts', [key], {});\n",
              "      } catch (error) {\n",
              "        console.error('Error during call to suggestCharts:', error);\n",
              "      }\n",
              "      quickchartButtonEl.classList.remove('colab-df-spinner');\n",
              "      quickchartButtonEl.classList.add('colab-df-quickchart-complete');\n",
              "    }\n",
              "    (() => {\n",
              "      let quickchartButtonEl =\n",
              "        document.querySelector('#df-2e0c38f1-24c1-4013-861f-ef3387fe3f20 button');\n",
              "      quickchartButtonEl.style.display =\n",
              "        google.colab.kernel.accessAllowed ? 'block' : 'none';\n",
              "    })();\n",
              "  </script>\n",
              "</div>\n",
              "\n",
              "    </div>\n",
              "  </div>\n"
            ],
            "application/vnd.google.colaboratory.intrinsic+json": {
              "type": "dataframe",
              "variable_name": "fish",
              "summary": "{\n  \"name\": \"fish\",\n  \"rows\": 159,\n  \"fields\": [\n    {\n      \"column\": \"Species\",\n      \"properties\": {\n        \"dtype\": \"category\",\n        \"num_unique_values\": 7,\n        \"samples\": [\n          \"Bream\",\n          \"Roach\",\n          \"Pike\"\n        ],\n        \"semantic_type\": \"\",\n        \"description\": \"\"\n      }\n    },\n    {\n      \"column\": \"Weight\",\n      \"properties\": {\n        \"dtype\": \"number\",\n        \"std\": 357.9783165508931,\n        \"min\": 0.0,\n        \"max\": 1650.0,\n        \"num_unique_values\": 101,\n        \"samples\": [\n          770.0,\n          51.5,\n          197.0\n        ],\n        \"semantic_type\": \"\",\n        \"description\": \"\"\n      }\n    },\n    {\n      \"column\": \"Length\",\n      \"properties\": {\n        \"dtype\": \"number\",\n        \"std\": 10.716328098884247,\n        \"min\": 8.4,\n        \"max\": 63.4,\n        \"num_unique_values\": 93,\n        \"samples\": [\n          14.7,\n          18.8,\n          19.6\n        ],\n        \"semantic_type\": \"\",\n        \"description\": \"\"\n      }\n    },\n    {\n      \"column\": \"Diagonal\",\n      \"properties\": {\n        \"dtype\": \"number\",\n        \"std\": 11.610245832690964,\n        \"min\": 8.8,\n        \"max\": 68.0,\n        \"num_unique_values\": 124,\n        \"samples\": [\n          39.2,\n          27.2,\n          23.1\n        ],\n        \"semantic_type\": \"\",\n        \"description\": \"\"\n      }\n    },\n    {\n      \"column\": \"Height\",\n      \"properties\": {\n        \"dtype\": \"number\",\n        \"std\": 4.286207619968867,\n        \"min\": 1.7284,\n        \"max\": 18.957,\n        \"num_unique_values\": 154,\n        \"samples\": [\n          15.438,\n          7.293,\n          2.8728\n        ],\n        \"semantic_type\": \"\",\n        \"description\": \"\"\n      }\n    },\n    {\n      \"column\": \"Width\",\n      \"properties\": {\n        \"dtype\": \"number\",\n        \"std\": 1.6858038699921671,\n        \"min\": 1.0476,\n        \"max\": 8.142,\n        \"num_unique_values\": 152,\n        \"samples\": [\n          3.1571,\n          1.3936,\n          3.6835\n        ],\n        \"semantic_type\": \"\",\n        \"description\": \"\"\n      }\n    }\n  ]\n}"
            }
          },
          "metadata": {},
          "execution_count": 3
        }
      ]
    },
    {
      "cell_type": "code",
      "source": [
        "# k-최근접이웃 다중분류\n",
        "fish['Species'].unique()"
      ],
      "metadata": {
        "colab": {
          "base_uri": "https://localhost:8080/"
        },
        "id": "PdsLVs7yFK7j",
        "outputId": "cbcf1b6a-727f-4f2b-e8fb-3e061c8e0763"
      },
      "execution_count": 4,
      "outputs": [
        {
          "output_type": "execute_result",
          "data": {
            "text/plain": [
              "array(['Bream', 'Roach', 'Whitefish', 'Parkki', 'Perch', 'Pike', 'Smelt'],\n",
              "      dtype=object)"
            ]
          },
          "metadata": {},
          "execution_count": 4
        }
      ]
    },
    {
      "cell_type": "code",
      "source": [
        "X = fish.drop(['Species'], axis=1)\n",
        "y = fish['Species'].to_numpy()"
      ],
      "metadata": {
        "id": "Gs63i1GYKGWm"
      },
      "execution_count": 5,
      "outputs": []
    },
    {
      "cell_type": "code",
      "source": [
        "from sklearn.model_selection import train_test_split\n",
        "from sklearn.neighbors import KNeighborsClassifier\n",
        "from sklearn.metrics import accuracy_score\n",
        "\n",
        "X_tr, X_val, y_tr, y_val = train_test_split(X,y,random_state=42, test_size=0.3)\n",
        "print(X_tr.shape, X_val.shape, y_tr.shape, y_val.shape)\n",
        "\n",
        "kc = KNeighborsClassifier()\n",
        "kc.fit(X_tr, y_tr)\n",
        "print(kc.get_params())\n",
        "print(kc.classes_)\n",
        "pred = kc.predict_proba(X_val)\n",
        "print(pred[:5])"
      ],
      "metadata": {
        "colab": {
          "base_uri": "https://localhost:8080/"
        },
        "id": "6jPMrp_VKTmt",
        "outputId": "5a5ce957-6b46-4d55-9c4f-5ab27c4290c5"
      },
      "execution_count": 6,
      "outputs": [
        {
          "output_type": "stream",
          "name": "stdout",
          "text": [
            "(111, 5) (48, 5) (111,) (48,)\n",
            "{'algorithm': 'auto', 'leaf_size': 30, 'metric': 'minkowski', 'metric_params': None, 'n_jobs': None, 'n_neighbors': 5, 'p': 2, 'weights': 'uniform'}\n",
            "['Bream' 'Parkki' 'Perch' 'Pike' 'Roach' 'Smelt' 'Whitefish']\n",
            "[[0.  0.  0.6 0.  0.4 0.  0. ]\n",
            " [0.  0.  0.  0.  0.  1.  0. ]\n",
            " [0.  0.2 0.4 0.  0.4 0.  0. ]\n",
            " [0.  0.2 0.4 0.  0.4 0.  0. ]\n",
            " [0.  0.  0.6 0.  0.4 0.  0. ]]\n"
          ]
        }
      ]
    },
    {
      "cell_type": "code",
      "source": [
        "from sklearn.linear_model import LogisticRegression  # 회귀값을 시그모이드로 확률을 변환한 분류모델\n",
        "from sklearn.preprocessing import StandardScaler\n",
        "\n",
        "X_tr, X_val, y_tr, y_val = train_test_split(X,y,random_state=42, test_size=0.3)\n",
        "print(X_tr.shape, X_val.shape, y_tr.shape, y_val.shape)\n",
        "\n",
        "ss = StandardScaler()\n",
        "X_trs = ss.fit_transform(X_tr)\n",
        "X_vals = ss.transform(X_val)\n",
        "\n",
        "lr = LogisticRegression()\n",
        "print(lr.get_params())\n",
        "lr.fit(X_trs, y_tr)\n",
        "lr.predict_proba(X_vals[:5])"
      ],
      "metadata": {
        "colab": {
          "base_uri": "https://localhost:8080/"
        },
        "id": "VO-k1TlMKxiM",
        "outputId": "0219a801-b7e4-43b7-bf0e-1a80d3009ce9"
      },
      "execution_count": 7,
      "outputs": [
        {
          "output_type": "stream",
          "name": "stdout",
          "text": [
            "(111, 5) (48, 5) (111,) (48,)\n",
            "{'C': 1.0, 'class_weight': None, 'dual': False, 'fit_intercept': True, 'intercept_scaling': 1, 'l1_ratio': None, 'max_iter': 100, 'multi_class': 'deprecated', 'n_jobs': None, 'penalty': 'l2', 'random_state': None, 'solver': 'lbfgs', 'tol': 0.0001, 'verbose': 0, 'warm_start': False}\n"
          ]
        },
        {
          "output_type": "execute_result",
          "data": {
            "text/plain": [
              "array([[4.40435494e-03, 8.94221884e-02, 5.39774608e-01, 8.59769460e-03,\n",
              "        2.82345281e-01, 6.51125242e-02, 1.03433489e-02],\n",
              "       [2.87535271e-04, 6.39590252e-02, 1.40677583e-01, 2.48636145e-03,\n",
              "        8.79741472e-02, 7.03616254e-01, 9.99094436e-04],\n",
              "       [9.36349258e-03, 9.11625564e-03, 2.28342556e-01, 5.66957809e-01,\n",
              "        1.64831824e-01, 7.65343325e-03, 1.37346289e-02],\n",
              "       [6.14357958e-02, 7.48110117e-02, 5.23735898e-01, 3.57420252e-02,\n",
              "        2.59497126e-01, 3.59274236e-03, 4.11854007e-02],\n",
              "       [4.45399276e-03, 2.99478065e-02, 6.53694388e-01, 2.73606319e-02,\n",
              "        2.49214988e-01, 2.11504773e-02, 1.41777148e-02]])"
            ]
          },
          "metadata": {},
          "execution_count": 7
        }
      ]
    },
    {
      "cell_type": "markdown",
      "source": [
        "확률적 경사하강법\n",
        "```\n",
        "SGCClassifier\n",
        "손실의 함수의 값이 작아지도록 가중치를 업데이트\n",
        "업데이트는 p1 -> p2로 이동하는 과정\n",
        "x와 y좌표의 변화량을 구하는것\n",
        "--> 미분\n",
        "```\n",
        "가중치 업데이트 수식\n",
        "$$w_j := w_j - \\alpha \\frac{\\partial J(w)}{\\partial w_j}$$\n",
        "\n",
        "로지스틱 회귀에서 편미분\n",
        "$$\\frac{\\partial J(w)}{\\partial w_j} = \\frac{1}{m} \\sum_{i=1}^{m} (\\hat{y}_i - y_i) x_{ij}$$\n",
        "\n",
        "손실함수(로그손실)\n",
        "\n",
        "$$J(w) = -\\frac{1}{m} \\sum_{i=1}^{m} [y_i \\log(\\hat{y}_i) + (1 - y_i) \\log(1 - \\hat{y}_i)]$$"
      ],
      "metadata": {
        "id": "Pyb5qfNuVbde"
      }
    },
    {
      "cell_type": "code",
      "source": [
        "# 라이브러 없이 이론상으로 적용\n",
        "# 임의의 데이터 생성\n",
        "# 공부시간 ,점수   합격/불합격\n",
        "X = np.array([[2,50],[4,70],[6,90],[1,40]])\n",
        "y = np.array([0,1,])"
      ],
      "metadata": {
        "id": "CvNS99kzaYy1"
      },
      "execution_count": 8,
      "outputs": []
    },
    {
      "cell_type": "code",
      "source": [
        "# 라이브러 없이 이론상으로 적용\n",
        "# 임의의 데이터 생성\n",
        "# 공부시간 ,점수   합격/불합격\n",
        "# z =  w1x1 + w2x2\n",
        "X = np.array([[2,50],[4,70],[6,90],[1,40]])\n",
        "y = np.array([0,1,1,0])\n",
        "w = np.array([0.0,0.0])\n",
        "alpha = 0.01   # lr    학습률 등산에서 보폭\n",
        "epochs = 100  # 학습횟수\n",
        "# 시그모이드\n",
        "def sigmoid(z):\n",
        "    return 1 / (1 + np.exp(-z))\n",
        "# 학습\n",
        "for epoch in range(epochs):\n",
        "    for i in range(len(X)):\n",
        "        # 선형 결합\n",
        "        z = np.dot(X[i],w)\n",
        "        # 예측값 계산\n",
        "        y_hat = sigmoid(z)\n",
        "        # 오차 계산\n",
        "        error = y_hat- y[i]  # error = y[i] - y_hat\n",
        "        # 가중치 업데이트\n",
        "        w -= alpha*error*X[i]  # w += alpha*error*X[i]\n",
        "    # epoch 10번마다 손실 출력\n",
        "    if epoch % 10 ==0:\n",
        "      z_all = np.dot(X, w)\n",
        "      y_pred = sigmoid(z_all)\n",
        "      # 값이 너무작아서 nan이 될수도 있음  기울기가 0  값이 너무크면 기울기가 폭팔\n",
        "      # 계산과정을 정규화가 필요\n",
        "      # 작은 값을 조금 더해서 데이터가 너무 작아지는것을 예방\n",
        "      loss = -np.mean(y * np.log(y_pred + 1e-10) + (1 - y) * np.log(1 - y_pred + 1e-10))\n",
        "      print(f\"Epoch {epoch}: Loss = {loss} weight = {w}\")"
      ],
      "metadata": {
        "colab": {
          "base_uri": "https://localhost:8080/"
        },
        "id": "ZF_6kY0YcBCA",
        "outputId": "4c0657fe-ce95-407d-d0ef-2b525f9341b9"
      },
      "execution_count": 9,
      "outputs": [
        {
          "output_type": "stream",
          "name": "stdout",
          "text": [
            "Epoch 0: Loss = 1.1994434130181546 weight = [0.02       0.04999999]\n",
            "Epoch 10: Loss = 3.455171191823771 weight = [ 0.1940413  -0.09827555]\n",
            "Epoch 20: Loss = 4.479779546326156 weight = [0.38533881 0.18625185]\n",
            "Epoch 30: Loss = 2.8624458840339195 weight = [0.56220308 0.10838047]\n",
            "Epoch 40: Loss = 2.9636820261072527 weight = [0.74200202 0.10690017]\n",
            "Epoch 50: Loss = 1.8860418817277824 weight = [0.91965819 0.05250465]\n",
            "Epoch 60: Loss = 4.2447668237079945 weight = [1.10356173 0.15186184]\n",
            "Epoch 70: Loss = 0.3580785991783562 weight = [ 1.27547618 -0.0465114 ]\n",
            "Epoch 80: Loss = 0.343368785467419 weight = [ 1.45493234 -0.05319407]\n",
            "Epoch 90: Loss = 3.1238950602027873 weight = [ 1.62960025 -0.17987871]\n"
          ]
        }
      ]
    },
    {
      "cell_type": "code",
      "source": [
        "import pandas as pd\n",
        "fish = pd.read_csv('https://bit.ly/fish_csv_data')\n",
        "X = fish.drop('Species',axis=1).to_numpy()\n",
        "y = fish['Species'].to_numpy()\n",
        "from sklearn.preprocessing import StandardScaler\n",
        "ss = StandardScaler()\n",
        "X = ss.fit_transform(X)\n",
        "from sklearn.model_selection import train_test_split\n",
        "X_train,X_test,y_train,y_test = train_test_split(X,y,test_size=0.2,random_state=42)\n",
        "from sklearn.linear_model import SGDClassifier\n",
        "sg = SGDClassifier(loss='log_loss',max_iter=10,random_state=42)\n",
        "sg.fit(X_train,y_train)\n",
        "print(sg.score(X_train,y_train),sg.score(X_test,y_test) )"
      ],
      "metadata": {
        "colab": {
          "base_uri": "https://localhost:8080/"
        },
        "id": "Nq4ndzF8grgB",
        "outputId": "616c70cb-46e5-45a2-c5ae-0e03fc13ff20"
      },
      "execution_count": 10,
      "outputs": [
        {
          "output_type": "stream",
          "name": "stdout",
          "text": [
            "0.7480314960629921 0.84375\n"
          ]
        },
        {
          "output_type": "stream",
          "name": "stderr",
          "text": [
            "/usr/local/lib/python3.11/dist-packages/sklearn/linear_model/_stochastic_gradient.py:738: ConvergenceWarning: Maximum number of iteration reached before convergence. Consider increasing max_iter to improve the fit.\n",
            "  warnings.warn(\n"
          ]
        }
      ]
    },
    {
      "cell_type": "markdown",
      "source": [
        "\n",
        "\n",
        "```\n",
        "모델학습은 학습한 데이터의 평가지표가 가장 좋은 가중치를 찾아가는 과정\n",
        "모델을 평가하는 지표가 손실함수. 손실함수가 0에 가까울수록 좋은 모델\n",
        "가중치는 데이터의 영향력을 조절함. 조절을 통해 손실함수가 적게 나오도록 조정\n",
        "활성화함수(시그모이드)를 이용해서 0과 1사이 값으로 변환하여 실제값과의 차이(오차 = 손실함수의 미분)를 구하고 실제 값과 예측과\n",
        "```\n",
        "\n"
      ],
      "metadata": {
        "id": "NJ8JPrUnoJ0e"
      }
    },
    {
      "cell_type": "markdown",
      "source": [
        "# SGDClassfier"
      ],
      "metadata": {
        "id": "3Z4NghDi_ACt"
      }
    },
    {
      "cell_type": "code",
      "source": [
        "import pandas as pd\n",
        "fish = pd.read_csv('https://bit.ly/fish_csv_data')\n",
        "X = fish.drop('Species',axis=1).to_numpy()\n",
        "y = fish['Species'].to_numpy()\n",
        "from sklearn.preprocessing import StandardScaler\n",
        "ss = StandardScaler()\n",
        "X = ss.fit_transform(X)\n",
        "from sklearn.model_selection import train_test_split\n",
        "X_train,X_test,y_train,y_test = train_test_split(X,y,test_size=0.2,random_state=42)\n",
        "from sklearn.linear_model import SGDClassifier\n",
        "sg = SGDClassifier(loss='log_loss',max_iter=100,random_state=42)\n",
        "sg.fit(X_train,y_train)\n",
        "print(sg.score(X_train,y_train),sg.score(X_test,y_test) )\n",
        "sg.predict(X_test[:5]), y_test[:5]"
      ],
      "metadata": {
        "colab": {
          "base_uri": "https://localhost:8080/"
        },
        "id": "Skiwk0t-l0ko",
        "outputId": "d9ca107f-0e4d-4157-8c93-005df69f269b"
      },
      "execution_count": 11,
      "outputs": [
        {
          "output_type": "stream",
          "name": "stdout",
          "text": [
            "0.8740157480314961 0.90625\n"
          ]
        },
        {
          "output_type": "execute_result",
          "data": {
            "text/plain": [
              "(array(['Perch', 'Smelt', 'Pike', 'Roach', 'Perch'], dtype='<U9'),\n",
              " array(['Perch', 'Smelt', 'Pike', 'Whitefish', 'Perch'], dtype=object))"
            ]
          },
          "metadata": {},
          "execution_count": 11
        }
      ]
    },
    {
      "cell_type": "code",
      "source": [
        "sg = SGDClassifier(loss='log_loss',max_iter=1000,random_state=42,tol=None)\n",
        "sg.fit(X_train,y_train)\n",
        "print(sg.score(X_train,y_train),sg.score(X_test,y_test) )"
      ],
      "metadata": {
        "colab": {
          "base_uri": "https://localhost:8080/"
        },
        "id": "-mZjW9Iw_CTQ",
        "outputId": "d369274b-94ab-42e8-907b-411d5eb04e56"
      },
      "execution_count": 12,
      "outputs": [
        {
          "output_type": "stream",
          "name": "stdout",
          "text": [
            "0.9606299212598425 0.90625\n"
          ]
        }
      ]
    },
    {
      "cell_type": "code",
      "source": [
        "# 예측 Regression\n",
        "from sklearn.linear_model import LinearRegression, Ridge, Lasso, SGDRegressor\n",
        "# 분류\n",
        "from sklearn.neighbors import KNeighborsClassifier\n",
        "from sklearn.linear_model import LogisticRegression, SGDClassifier"
      ],
      "metadata": {
        "id": "v8PJn-uT_FMa"
      },
      "execution_count": 13,
      "outputs": []
    },
    {
      "cell_type": "code",
      "source": [
        "# 동일한 환경에서 어떤 모델이 가장 잘 예측\n",
        "from sklearn.datasets import fetch_california_housing"
      ],
      "metadata": {
        "id": "_0QwORDv_HAw"
      },
      "execution_count": 14,
      "outputs": []
    },
    {
      "cell_type": "markdown",
      "source": [
        "# 결정 트리\n",
        "```\n",
        "지니불순도(Gini Impurity)\n",
        "한 그룹에서 데이터의 특성이 나타내는 비율\n",
        "순수한 정도를 나타냄\n",
        "ex) k = 2(0,1) 한 그룹의 데이터가 0으로 구성되면.\n",
        "p1 = 1.0, p2 = 0.0  1-1 = 0\n",
        "```\n",
        "$$Gini = 1 - \\sum_{i=1}^{k} p_i^2$$\n",
        "\n",
        "```\n",
        "엔트로피(Entropy)\n",
        "정보이론 나온 개념 : 데이터의 불확실성측정하는 또하나의 방법\n",
        "log2(pi) pi가 작을수록 큰 음수를 만들어 불확실성을 키운다\n",
        "밑을 2로두는이유는 이진분류에 맞춰서 비트단위로 계산\n",
        "확률이 1보다 작으면 음수,합을 양수로만들고 최소화 마이너스를 붙인다\n",
        "```\n",
        "$$H = -\\sum_{i=1}^{k} p_i \\log_2(p_i)$$\n",
        "\n",
        "```\n",
        "엔트로피는 불확실성이 높을수록 커진다\n",
        "한개의 클래스만 (p1 = 1, p2 = 0)\n",
        "```\n"
      ],
      "metadata": {
        "id": "AQ1FH7ZUAdJY"
      }
    },
    {
      "cell_type": "code",
      "source": [
        "from sklearn.tree import DecisionTreeClassifier\n",
        "tree = DecisionTreeClassifier()\n",
        "\n",
        "import pandas as pd\n",
        "fish = pd.read_csv('https://bit.ly/fish_csv_data')\n",
        "X = fish.drop('Species',axis=1).to_numpy()\n",
        "y = fish['Species'].to_numpy()\n",
        "from sklearn.model_selection import train_test_split\n",
        "X_train,X_test,y_train,y_test = train_test_split(X,y,test_size=0.2,random_state=42)\n",
        "from sklearn.preprocessing import StandardScaler\n",
        "ss = StandardScaler()\n",
        "X_tr = ss.fit_transform(X_train)\n",
        "X_val = ss.transform(X_test)\n",
        "\n",
        "tree.fit(X_tr, y_train)\n",
        "tree.score(X_tr, y_train), tree.score(X_val, y_test)"
      ],
      "metadata": {
        "colab": {
          "base_uri": "https://localhost:8080/"
        },
        "id": "pyx3JFp8AuWI",
        "outputId": "2d06e4dd-b4a0-4843-939d-8e6b6d0326d4"
      },
      "execution_count": 15,
      "outputs": [
        {
          "output_type": "execute_result",
          "data": {
            "text/plain": [
              "(1.0, 0.78125)"
            ]
          },
          "metadata": {},
          "execution_count": 15
        }
      ]
    },
    {
      "cell_type": "markdown",
      "source": [
        "교차 검증\n",
        "\n",
        "![image.png](data:image/png;base64,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)"
      ],
      "metadata": {
        "id": "XDqZkJ3rIpGL"
      }
    },
    {
      "cell_type": "markdown",
      "source": [
        "```\n",
        "교차검증의 이유\n",
        "  우여히 성능이 좋은 모델이 나와서 이를 일반화하려는 일반화의 오류를 막기위해\n",
        "  과적합도 해결\n",
        "```"
      ],
      "metadata": {
        "id": "euoiYfITIsMV"
      }
    },
    {
      "cell_type": "code",
      "source": [
        "from sklearn.model_selection import cross_validate\n",
        "scores = cross_validate(tree,X,y,return_train_score=True,return_indices=True)\n",
        "scores\n",
        "# print(scores)\n",
        "# np.mean(scores['test_score'])"
      ],
      "metadata": {
        "colab": {
          "base_uri": "https://localhost:8080/"
        },
        "collapsed": true,
        "id": "z6nt0M4JGtPd",
        "outputId": "986c5c3c-8094-4be0-a0c0-a926ca8715e0"
      },
      "execution_count": 16,
      "outputs": [
        {
          "output_type": "execute_result",
          "data": {
            "text/plain": [
              "{'fit_time': array([0.01566648, 0.02497697, 0.0175488 , 0.01733756, 0.01623082]),\n",
              " 'score_time': array([0.00758553, 0.01656151, 0.0203135 , 0.00114155, 0.01989961]),\n",
              " 'indices': {'train': (array([  7,   8,   9,  10,  11,  12,  13,  14,  15,  16,  17,  18,  19,\n",
              "           20,  21,  22,  23,  24,  25,  26,  27,  28,  29,  30,  31,  32,\n",
              "           33,  34,  39,  40,  41,  42,  43,  44,  45,  46,  47,  48,  49,\n",
              "           50,  51,  52,  53,  54,  57,  58,  59,  60,  63,  64,  65,  66,\n",
              "           67,  68,  69,  70,  71,  83,  84,  85,  86,  87,  88,  89,  90,\n",
              "           91,  92,  93,  94,  95,  96,  97,  98,  99, 100, 101, 102, 103,\n",
              "          104, 105, 106, 107, 108, 109, 110, 111, 112, 113, 114, 115, 116,\n",
              "          117, 118, 119, 120, 121, 122, 123, 124, 125, 126, 127, 131, 132,\n",
              "          133, 134, 135, 136, 137, 138, 139, 140, 141, 142, 143, 144, 148,\n",
              "          149, 150, 151, 152, 153, 154, 155, 156, 157, 158]),\n",
              "   array([  0,   1,   2,   3,   4,   5,   6,  14,  15,  16,  17,  18,  19,\n",
              "           20,  21,  22,  23,  24,  25,  26,  27,  28,  29,  30,  31,  32,\n",
              "           33,  34,  35,  36,  37,  38,  43,  44,  45,  46,  47,  48,  49,\n",
              "           50,  51,  52,  53,  54,  55,  56,  58,  59,  60,  61,  62,  66,\n",
              "           67,  68,  69,  70,  71,  72,  73,  74,  75,  76,  77,  78,  79,\n",
              "           80,  81,  82,  94,  95,  96,  97,  98,  99, 100, 101, 102, 103,\n",
              "          104, 105, 106, 107, 108, 109, 110, 111, 112, 113, 114, 115, 116,\n",
              "          117, 118, 119, 120, 121, 122, 123, 124, 125, 126, 127, 128, 129,\n",
              "          130, 134, 135, 136, 137, 138, 139, 140, 141, 142, 143, 144, 145,\n",
              "          146, 147, 151, 152, 153, 154, 155, 156, 157, 158]),\n",
              "   array([  0,   1,   2,   3,   4,   5,   6,   7,   8,   9,  10,  11,  12,\n",
              "           13,  21,  22,  23,  24,  25,  26,  27,  28,  29,  30,  31,  32,\n",
              "           33,  34,  35,  36,  37,  38,  39,  40,  41,  42,  47,  48,  49,\n",
              "           50,  51,  52,  53,  54,  55,  56,  57,  59,  60,  61,  62,  63,\n",
              "           64,  65,  68,  69,  70,  71,  72,  73,  74,  75,  76,  77,  78,\n",
              "           79,  80,  81,  82,  83,  84,  85,  86,  87,  88,  89,  90,  91,\n",
              "           92,  93, 106, 107, 108, 109, 110, 111, 112, 113, 114, 115, 116,\n",
              "          117, 118, 119, 120, 121, 122, 123, 124, 125, 126, 127, 128, 129,\n",
              "          130, 131, 132, 133, 137, 138, 139, 140, 141, 142, 143, 144, 145,\n",
              "          146, 147, 148, 149, 150, 154, 155, 156, 157, 158]),\n",
              "   array([  0,   1,   2,   3,   4,   5,   6,   7,   8,   9,  10,  11,  12,\n",
              "           13,  14,  15,  16,  17,  18,  19,  20,  28,  29,  30,  31,  32,\n",
              "           33,  34,  35,  36,  37,  38,  39,  40,  41,  42,  43,  44,  45,\n",
              "           46,  51,  52,  53,  54,  55,  56,  57,  58,  60,  61,  62,  63,\n",
              "           64,  65,  66,  67,  70,  71,  72,  73,  74,  75,  76,  77,  78,\n",
              "           79,  80,  81,  82,  83,  84,  85,  86,  87,  88,  89,  90,  91,\n",
              "           92,  93,  94,  95,  96,  97,  98,  99, 100, 101, 102, 103, 104,\n",
              "          105, 117, 118, 119, 120, 121, 122, 123, 124, 125, 126, 127, 128,\n",
              "          129, 130, 131, 132, 133, 134, 135, 136, 141, 142, 143, 144, 145,\n",
              "          146, 147, 148, 149, 150, 151, 152, 153, 157, 158]),\n",
              "   array([  0,   1,   2,   3,   4,   5,   6,   7,   8,   9,  10,  11,  12,\n",
              "           13,  14,  15,  16,  17,  18,  19,  20,  21,  22,  23,  24,  25,\n",
              "           26,  27,  35,  36,  37,  38,  39,  40,  41,  42,  43,  44,  45,\n",
              "           46,  47,  48,  49,  50,  55,  56,  57,  58,  59,  61,  62,  63,\n",
              "           64,  65,  66,  67,  68,  69,  72,  73,  74,  75,  76,  77,  78,\n",
              "           79,  80,  81,  82,  83,  84,  85,  86,  87,  88,  89,  90,  91,\n",
              "           92,  93,  94,  95,  96,  97,  98,  99, 100, 101, 102, 103, 104,\n",
              "          105, 106, 107, 108, 109, 110, 111, 112, 113, 114, 115, 116, 128,\n",
              "          129, 130, 131, 132, 133, 134, 135, 136, 137, 138, 139, 140, 145,\n",
              "          146, 147, 148, 149, 150, 151, 152, 153, 154, 155, 156])),\n",
              "  'test': (array([  0,   1,   2,   3,   4,   5,   6,  35,  36,  37,  38,  55,  56,\n",
              "           61,  62,  72,  73,  74,  75,  76,  77,  78,  79,  80,  81,  82,\n",
              "          128, 129, 130, 145, 146, 147]),\n",
              "   array([  7,   8,   9,  10,  11,  12,  13,  39,  40,  41,  42,  57,  63,\n",
              "           64,  65,  83,  84,  85,  86,  87,  88,  89,  90,  91,  92,  93,\n",
              "          131, 132, 133, 148, 149, 150]),\n",
              "   array([ 14,  15,  16,  17,  18,  19,  20,  43,  44,  45,  46,  58,  66,\n",
              "           67,  94,  95,  96,  97,  98,  99, 100, 101, 102, 103, 104, 105,\n",
              "          134, 135, 136, 151, 152, 153]),\n",
              "   array([ 21,  22,  23,  24,  25,  26,  27,  47,  48,  49,  50,  59,  68,\n",
              "           69, 106, 107, 108, 109, 110, 111, 112, 113, 114, 115, 116, 137,\n",
              "          138, 139, 140, 154, 155, 156]),\n",
              "   array([ 28,  29,  30,  31,  32,  33,  34,  51,  52,  53,  54,  60,  70,\n",
              "           71, 117, 118, 119, 120, 121, 122, 123, 124, 125, 126, 127, 141,\n",
              "          142, 143, 144, 157, 158]))},\n",
              " 'test_score': array([0.5       , 0.625     , 0.46875   , 0.65625   , 0.19354839]),\n",
              " 'train_score': array([1., 1., 1., 1., 1.])}"
            ]
          },
          "metadata": {},
          "execution_count": 16
        }
      ]
    },
    {
      "cell_type": "code",
      "source": [
        "# 분류기 적용\n",
        "from sklearn.model_selection import StratifiedKFold\n",
        "sk = StratifiedKFold(n_splits=5, shuffle=True,random_state=42)\n",
        "scores = cross_validate(tree,X,y,return_train_score=True,cv=sk)\n",
        "np.mean(scores['test_score'])"
      ],
      "metadata": {
        "colab": {
          "base_uri": "https://localhost:8080/"
        },
        "id": "yl0n1Z4LI4Kj",
        "outputId": "a756c76e-55f6-4268-fb73-fdf0c85000bc"
      },
      "execution_count": 17,
      "outputs": [
        {
          "output_type": "execute_result",
          "data": {
            "text/plain": [
              "np.float64(0.7356854838709678)"
            ]
          },
          "metadata": {},
          "execution_count": 17
        }
      ]
    },
    {
      "cell_type": "markdown",
      "source": [
        "그리드 서치\n",
        "```\n",
        "하이퍼 파라메터를 조합해서 최적의 값을 찾고. 해당되는 값의 모델도 같이 제공\n",
        "```"
      ],
      "metadata": {
        "id": "0hFhdt_iPhay"
      }
    },
    {
      "cell_type": "code",
      "source": [
        "# 결정트리 모델에 그리드서치 적용\n",
        "tree = DecisionTreeClassifier()\n",
        "tree.get_params()"
      ],
      "metadata": {
        "colab": {
          "base_uri": "https://localhost:8080/"
        },
        "id": "Vwt7KtIhOxda",
        "outputId": "a1cb60c5-2619-4d8b-d1a7-fa2688a6aadd"
      },
      "execution_count": 18,
      "outputs": [
        {
          "output_type": "execute_result",
          "data": {
            "text/plain": [
              "{'ccp_alpha': 0.0,\n",
              " 'class_weight': None,\n",
              " 'criterion': 'gini',\n",
              " 'max_depth': None,\n",
              " 'max_features': None,\n",
              " 'max_leaf_nodes': None,\n",
              " 'min_impurity_decrease': 0.0,\n",
              " 'min_samples_leaf': 1,\n",
              " 'min_samples_split': 2,\n",
              " 'min_weight_fraction_leaf': 0.0,\n",
              " 'monotonic_cst': None,\n",
              " 'random_state': None,\n",
              " 'splitter': 'best'}"
            ]
          },
          "metadata": {},
          "execution_count": 18
        }
      ]
    },
    {
      "cell_type": "code",
      "source": [
        "# 하이퍼 파라메터 그리드 정의\n",
        "from sklearn.model_selection import GridSearchCV\n",
        "param_grid = {\n",
        "    'max_depth' : [2,3,4],\n",
        "    'min_samples_split' : [2,3,4],\n",
        "    'criterion' : ['gini','entropy']\n",
        "}\n",
        "grid_search = GridSearchCV(tree,param_grid,cv=sk)\n",
        "grid_search.fit(X,y)"
      ],
      "metadata": {
        "colab": {
          "base_uri": "https://localhost:8080/",
          "height": 165
        },
        "id": "YCywERvGO3L-",
        "outputId": "173a864b-a658-4566-d109-e9abb88069c3"
      },
      "execution_count": 19,
      "outputs": [
        {
          "output_type": "execute_result",
          "data": {
            "text/plain": [
              "GridSearchCV(cv=StratifiedKFold(n_splits=5, random_state=42, shuffle=True),\n",
              "             estimator=DecisionTreeClassifier(),\n",
              "             param_grid={'criterion': ['gini', 'entropy'],\n",
              "                         'max_depth': [2, 3, 4],\n",
              "                         'min_samples_split': [2, 3, 4]})"
            ],
            "text/html": [
              "<style>#sk-container-id-1 {\n",
              "  /* Definition of color scheme common for light and dark mode */\n",
              "  --sklearn-color-text: #000;\n",
              "  --sklearn-color-text-muted: #666;\n",
              "  --sklearn-color-line: gray;\n",
              "  /* Definition of color scheme for unfitted estimators */\n",
              "  --sklearn-color-unfitted-level-0: #fff5e6;\n",
              "  --sklearn-color-unfitted-level-1: #f6e4d2;\n",
              "  --sklearn-color-unfitted-level-2: #ffe0b3;\n",
              "  --sklearn-color-unfitted-level-3: chocolate;\n",
              "  /* Definition of color scheme for fitted estimators */\n",
              "  --sklearn-color-fitted-level-0: #f0f8ff;\n",
              "  --sklearn-color-fitted-level-1: #d4ebff;\n",
              "  --sklearn-color-fitted-level-2: #b3dbfd;\n",
              "  --sklearn-color-fitted-level-3: cornflowerblue;\n",
              "\n",
              "  /* Specific color for light theme */\n",
              "  --sklearn-color-text-on-default-background: var(--sg-text-color, var(--theme-code-foreground, var(--jp-content-font-color1, black)));\n",
              "  --sklearn-color-background: var(--sg-background-color, var(--theme-background, var(--jp-layout-color0, white)));\n",
              "  --sklearn-color-border-box: var(--sg-text-color, var(--theme-code-foreground, var(--jp-content-font-color1, black)));\n",
              "  --sklearn-color-icon: #696969;\n",
              "\n",
              "  @media (prefers-color-scheme: dark) {\n",
              "    /* Redefinition of color scheme for dark theme */\n",
              "    --sklearn-color-text-on-default-background: var(--sg-text-color, var(--theme-code-foreground, var(--jp-content-font-color1, white)));\n",
              "    --sklearn-color-background: var(--sg-background-color, var(--theme-background, var(--jp-layout-color0, #111)));\n",
              "    --sklearn-color-border-box: var(--sg-text-color, var(--theme-code-foreground, var(--jp-content-font-color1, white)));\n",
              "    --sklearn-color-icon: #878787;\n",
              "  }\n",
              "}\n",
              "\n",
              "#sk-container-id-1 {\n",
              "  color: var(--sklearn-color-text);\n",
              "}\n",
              "\n",
              "#sk-container-id-1 pre {\n",
              "  padding: 0;\n",
              "}\n",
              "\n",
              "#sk-container-id-1 input.sk-hidden--visually {\n",
              "  border: 0;\n",
              "  clip: rect(1px 1px 1px 1px);\n",
              "  clip: rect(1px, 1px, 1px, 1px);\n",
              "  height: 1px;\n",
              "  margin: -1px;\n",
              "  overflow: hidden;\n",
              "  padding: 0;\n",
              "  position: absolute;\n",
              "  width: 1px;\n",
              "}\n",
              "\n",
              "#sk-container-id-1 div.sk-dashed-wrapped {\n",
              "  border: 1px dashed var(--sklearn-color-line);\n",
              "  margin: 0 0.4em 0.5em 0.4em;\n",
              "  box-sizing: border-box;\n",
              "  padding-bottom: 0.4em;\n",
              "  background-color: var(--sklearn-color-background);\n",
              "}\n",
              "\n",
              "#sk-container-id-1 div.sk-container {\n",
              "  /* jupyter's `normalize.less` sets `[hidden] { display: none; }`\n",
              "     but bootstrap.min.css set `[hidden] { display: none !important; }`\n",
              "     so we also need the `!important` here to be able to override the\n",
              "     default hidden behavior on the sphinx rendered scikit-learn.org.\n",
              "     See: https://github.com/scikit-learn/scikit-learn/issues/21755 */\n",
              "  display: inline-block !important;\n",
              "  position: relative;\n",
              "}\n",
              "\n",
              "#sk-container-id-1 div.sk-text-repr-fallback {\n",
              "  display: none;\n",
              "}\n",
              "\n",
              "div.sk-parallel-item,\n",
              "div.sk-serial,\n",
              "div.sk-item {\n",
              "  /* draw centered vertical line to link estimators */\n",
              "  background-image: linear-gradient(var(--sklearn-color-text-on-default-background), var(--sklearn-color-text-on-default-background));\n",
              "  background-size: 2px 100%;\n",
              "  background-repeat: no-repeat;\n",
              "  background-position: center center;\n",
              "}\n",
              "\n",
              "/* Parallel-specific style estimator block */\n",
              "\n",
              "#sk-container-id-1 div.sk-parallel-item::after {\n",
              "  content: \"\";\n",
              "  width: 100%;\n",
              "  border-bottom: 2px solid var(--sklearn-color-text-on-default-background);\n",
              "  flex-grow: 1;\n",
              "}\n",
              "\n",
              "#sk-container-id-1 div.sk-parallel {\n",
              "  display: flex;\n",
              "  align-items: stretch;\n",
              "  justify-content: center;\n",
              "  background-color: var(--sklearn-color-background);\n",
              "  position: relative;\n",
              "}\n",
              "\n",
              "#sk-container-id-1 div.sk-parallel-item {\n",
              "  display: flex;\n",
              "  flex-direction: column;\n",
              "}\n",
              "\n",
              "#sk-container-id-1 div.sk-parallel-item:first-child::after {\n",
              "  align-self: flex-end;\n",
              "  width: 50%;\n",
              "}\n",
              "\n",
              "#sk-container-id-1 div.sk-parallel-item:last-child::after {\n",
              "  align-self: flex-start;\n",
              "  width: 50%;\n",
              "}\n",
              "\n",
              "#sk-container-id-1 div.sk-parallel-item:only-child::after {\n",
              "  width: 0;\n",
              "}\n",
              "\n",
              "/* Serial-specific style estimator block */\n",
              "\n",
              "#sk-container-id-1 div.sk-serial {\n",
              "  display: flex;\n",
              "  flex-direction: column;\n",
              "  align-items: center;\n",
              "  background-color: var(--sklearn-color-background);\n",
              "  padding-right: 1em;\n",
              "  padding-left: 1em;\n",
              "}\n",
              "\n",
              "\n",
              "/* Toggleable style: style used for estimator/Pipeline/ColumnTransformer box that is\n",
              "clickable and can be expanded/collapsed.\n",
              "- Pipeline and ColumnTransformer use this feature and define the default style\n",
              "- Estimators will overwrite some part of the style using the `sk-estimator` class\n",
              "*/\n",
              "\n",
              "/* Pipeline and ColumnTransformer style (default) */\n",
              "\n",
              "#sk-container-id-1 div.sk-toggleable {\n",
              "  /* Default theme specific background. It is overwritten whether we have a\n",
              "  specific estimator or a Pipeline/ColumnTransformer */\n",
              "  background-color: var(--sklearn-color-background);\n",
              "}\n",
              "\n",
              "/* Toggleable label */\n",
              "#sk-container-id-1 label.sk-toggleable__label {\n",
              "  cursor: pointer;\n",
              "  display: flex;\n",
              "  width: 100%;\n",
              "  margin-bottom: 0;\n",
              "  padding: 0.5em;\n",
              "  box-sizing: border-box;\n",
              "  text-align: center;\n",
              "  align-items: start;\n",
              "  justify-content: space-between;\n",
              "  gap: 0.5em;\n",
              "}\n",
              "\n",
              "#sk-container-id-1 label.sk-toggleable__label .caption {\n",
              "  font-size: 0.6rem;\n",
              "  font-weight: lighter;\n",
              "  color: var(--sklearn-color-text-muted);\n",
              "}\n",
              "\n",
              "#sk-container-id-1 label.sk-toggleable__label-arrow:before {\n",
              "  /* Arrow on the left of the label */\n",
              "  content: \"▸\";\n",
              "  float: left;\n",
              "  margin-right: 0.25em;\n",
              "  color: var(--sklearn-color-icon);\n",
              "}\n",
              "\n",
              "#sk-container-id-1 label.sk-toggleable__label-arrow:hover:before {\n",
              "  color: var(--sklearn-color-text);\n",
              "}\n",
              "\n",
              "/* Toggleable content - dropdown */\n",
              "\n",
              "#sk-container-id-1 div.sk-toggleable__content {\n",
              "  max-height: 0;\n",
              "  max-width: 0;\n",
              "  overflow: hidden;\n",
              "  text-align: left;\n",
              "  /* unfitted */\n",
              "  background-color: var(--sklearn-color-unfitted-level-0);\n",
              "}\n",
              "\n",
              "#sk-container-id-1 div.sk-toggleable__content.fitted {\n",
              "  /* fitted */\n",
              "  background-color: var(--sklearn-color-fitted-level-0);\n",
              "}\n",
              "\n",
              "#sk-container-id-1 div.sk-toggleable__content pre {\n",
              "  margin: 0.2em;\n",
              "  border-radius: 0.25em;\n",
              "  color: var(--sklearn-color-text);\n",
              "  /* unfitted */\n",
              "  background-color: var(--sklearn-color-unfitted-level-0);\n",
              "}\n",
              "\n",
              "#sk-container-id-1 div.sk-toggleable__content.fitted pre {\n",
              "  /* unfitted */\n",
              "  background-color: var(--sklearn-color-fitted-level-0);\n",
              "}\n",
              "\n",
              "#sk-container-id-1 input.sk-toggleable__control:checked~div.sk-toggleable__content {\n",
              "  /* Expand drop-down */\n",
              "  max-height: 200px;\n",
              "  max-width: 100%;\n",
              "  overflow: auto;\n",
              "}\n",
              "\n",
              "#sk-container-id-1 input.sk-toggleable__control:checked~label.sk-toggleable__label-arrow:before {\n",
              "  content: \"▾\";\n",
              "}\n",
              "\n",
              "/* Pipeline/ColumnTransformer-specific style */\n",
              "\n",
              "#sk-container-id-1 div.sk-label input.sk-toggleable__control:checked~label.sk-toggleable__label {\n",
              "  color: var(--sklearn-color-text);\n",
              "  background-color: var(--sklearn-color-unfitted-level-2);\n",
              "}\n",
              "\n",
              "#sk-container-id-1 div.sk-label.fitted input.sk-toggleable__control:checked~label.sk-toggleable__label {\n",
              "  background-color: var(--sklearn-color-fitted-level-2);\n",
              "}\n",
              "\n",
              "/* Estimator-specific style */\n",
              "\n",
              "/* Colorize estimator box */\n",
              "#sk-container-id-1 div.sk-estimator input.sk-toggleable__control:checked~label.sk-toggleable__label {\n",
              "  /* unfitted */\n",
              "  background-color: var(--sklearn-color-unfitted-level-2);\n",
              "}\n",
              "\n",
              "#sk-container-id-1 div.sk-estimator.fitted input.sk-toggleable__control:checked~label.sk-toggleable__label {\n",
              "  /* fitted */\n",
              "  background-color: var(--sklearn-color-fitted-level-2);\n",
              "}\n",
              "\n",
              "#sk-container-id-1 div.sk-label label.sk-toggleable__label,\n",
              "#sk-container-id-1 div.sk-label label {\n",
              "  /* The background is the default theme color */\n",
              "  color: var(--sklearn-color-text-on-default-background);\n",
              "}\n",
              "\n",
              "/* On hover, darken the color of the background */\n",
              "#sk-container-id-1 div.sk-label:hover label.sk-toggleable__label {\n",
              "  color: var(--sklearn-color-text);\n",
              "  background-color: var(--sklearn-color-unfitted-level-2);\n",
              "}\n",
              "\n",
              "/* Label box, darken color on hover, fitted */\n",
              "#sk-container-id-1 div.sk-label.fitted:hover label.sk-toggleable__label.fitted {\n",
              "  color: var(--sklearn-color-text);\n",
              "  background-color: var(--sklearn-color-fitted-level-2);\n",
              "}\n",
              "\n",
              "/* Estimator label */\n",
              "\n",
              "#sk-container-id-1 div.sk-label label {\n",
              "  font-family: monospace;\n",
              "  font-weight: bold;\n",
              "  display: inline-block;\n",
              "  line-height: 1.2em;\n",
              "}\n",
              "\n",
              "#sk-container-id-1 div.sk-label-container {\n",
              "  text-align: center;\n",
              "}\n",
              "\n",
              "/* Estimator-specific */\n",
              "#sk-container-id-1 div.sk-estimator {\n",
              "  font-family: monospace;\n",
              "  border: 1px dotted var(--sklearn-color-border-box);\n",
              "  border-radius: 0.25em;\n",
              "  box-sizing: border-box;\n",
              "  margin-bottom: 0.5em;\n",
              "  /* unfitted */\n",
              "  background-color: var(--sklearn-color-unfitted-level-0);\n",
              "}\n",
              "\n",
              "#sk-container-id-1 div.sk-estimator.fitted {\n",
              "  /* fitted */\n",
              "  background-color: var(--sklearn-color-fitted-level-0);\n",
              "}\n",
              "\n",
              "/* on hover */\n",
              "#sk-container-id-1 div.sk-estimator:hover {\n",
              "  /* unfitted */\n",
              "  background-color: var(--sklearn-color-unfitted-level-2);\n",
              "}\n",
              "\n",
              "#sk-container-id-1 div.sk-estimator.fitted:hover {\n",
              "  /* fitted */\n",
              "  background-color: var(--sklearn-color-fitted-level-2);\n",
              "}\n",
              "\n",
              "/* Specification for estimator info (e.g. \"i\" and \"?\") */\n",
              "\n",
              "/* Common style for \"i\" and \"?\" */\n",
              "\n",
              ".sk-estimator-doc-link,\n",
              "a:link.sk-estimator-doc-link,\n",
              "a:visited.sk-estimator-doc-link {\n",
              "  float: right;\n",
              "  font-size: smaller;\n",
              "  line-height: 1em;\n",
              "  font-family: monospace;\n",
              "  background-color: var(--sklearn-color-background);\n",
              "  border-radius: 1em;\n",
              "  height: 1em;\n",
              "  width: 1em;\n",
              "  text-decoration: none !important;\n",
              "  margin-left: 0.5em;\n",
              "  text-align: center;\n",
              "  /* unfitted */\n",
              "  border: var(--sklearn-color-unfitted-level-1) 1pt solid;\n",
              "  color: var(--sklearn-color-unfitted-level-1);\n",
              "}\n",
              "\n",
              ".sk-estimator-doc-link.fitted,\n",
              "a:link.sk-estimator-doc-link.fitted,\n",
              "a:visited.sk-estimator-doc-link.fitted {\n",
              "  /* fitted */\n",
              "  border: var(--sklearn-color-fitted-level-1) 1pt solid;\n",
              "  color: var(--sklearn-color-fitted-level-1);\n",
              "}\n",
              "\n",
              "/* On hover */\n",
              "div.sk-estimator:hover .sk-estimator-doc-link:hover,\n",
              ".sk-estimator-doc-link:hover,\n",
              "div.sk-label-container:hover .sk-estimator-doc-link:hover,\n",
              ".sk-estimator-doc-link:hover {\n",
              "  /* unfitted */\n",
              "  background-color: var(--sklearn-color-unfitted-level-3);\n",
              "  color: var(--sklearn-color-background);\n",
              "  text-decoration: none;\n",
              "}\n",
              "\n",
              "div.sk-estimator.fitted:hover .sk-estimator-doc-link.fitted:hover,\n",
              ".sk-estimator-doc-link.fitted:hover,\n",
              "div.sk-label-container:hover .sk-estimator-doc-link.fitted:hover,\n",
              ".sk-estimator-doc-link.fitted:hover {\n",
              "  /* fitted */\n",
              "  background-color: var(--sklearn-color-fitted-level-3);\n",
              "  color: var(--sklearn-color-background);\n",
              "  text-decoration: none;\n",
              "}\n",
              "\n",
              "/* Span, style for the box shown on hovering the info icon */\n",
              ".sk-estimator-doc-link span {\n",
              "  display: none;\n",
              "  z-index: 9999;\n",
              "  position: relative;\n",
              "  font-weight: normal;\n",
              "  right: .2ex;\n",
              "  padding: .5ex;\n",
              "  margin: .5ex;\n",
              "  width: min-content;\n",
              "  min-width: 20ex;\n",
              "  max-width: 50ex;\n",
              "  color: var(--sklearn-color-text);\n",
              "  box-shadow: 2pt 2pt 4pt #999;\n",
              "  /* unfitted */\n",
              "  background: var(--sklearn-color-unfitted-level-0);\n",
              "  border: .5pt solid var(--sklearn-color-unfitted-level-3);\n",
              "}\n",
              "\n",
              ".sk-estimator-doc-link.fitted span {\n",
              "  /* fitted */\n",
              "  background: var(--sklearn-color-fitted-level-0);\n",
              "  border: var(--sklearn-color-fitted-level-3);\n",
              "}\n",
              "\n",
              ".sk-estimator-doc-link:hover span {\n",
              "  display: block;\n",
              "}\n",
              "\n",
              "/* \"?\"-specific style due to the `<a>` HTML tag */\n",
              "\n",
              "#sk-container-id-1 a.estimator_doc_link {\n",
              "  float: right;\n",
              "  font-size: 1rem;\n",
              "  line-height: 1em;\n",
              "  font-family: monospace;\n",
              "  background-color: var(--sklearn-color-background);\n",
              "  border-radius: 1rem;\n",
              "  height: 1rem;\n",
              "  width: 1rem;\n",
              "  text-decoration: none;\n",
              "  /* unfitted */\n",
              "  color: var(--sklearn-color-unfitted-level-1);\n",
              "  border: var(--sklearn-color-unfitted-level-1) 1pt solid;\n",
              "}\n",
              "\n",
              "#sk-container-id-1 a.estimator_doc_link.fitted {\n",
              "  /* fitted */\n",
              "  border: var(--sklearn-color-fitted-level-1) 1pt solid;\n",
              "  color: var(--sklearn-color-fitted-level-1);\n",
              "}\n",
              "\n",
              "/* On hover */\n",
              "#sk-container-id-1 a.estimator_doc_link:hover {\n",
              "  /* unfitted */\n",
              "  background-color: var(--sklearn-color-unfitted-level-3);\n",
              "  color: var(--sklearn-color-background);\n",
              "  text-decoration: none;\n",
              "}\n",
              "\n",
              "#sk-container-id-1 a.estimator_doc_link.fitted:hover {\n",
              "  /* fitted */\n",
              "  background-color: var(--sklearn-color-fitted-level-3);\n",
              "}\n",
              "</style><div id=\"sk-container-id-1\" class=\"sk-top-container\"><div class=\"sk-text-repr-fallback\"><pre>GridSearchCV(cv=StratifiedKFold(n_splits=5, random_state=42, shuffle=True),\n",
              "             estimator=DecisionTreeClassifier(),\n",
              "             param_grid={&#x27;criterion&#x27;: [&#x27;gini&#x27;, &#x27;entropy&#x27;],\n",
              "                         &#x27;max_depth&#x27;: [2, 3, 4],\n",
              "                         &#x27;min_samples_split&#x27;: [2, 3, 4]})</pre><b>In a Jupyter environment, please rerun this cell to show the HTML representation or trust the notebook. <br />On GitHub, the HTML representation is unable to render, please try loading this page with nbviewer.org.</b></div><div class=\"sk-container\" hidden><div class=\"sk-item sk-dashed-wrapped\"><div class=\"sk-label-container\"><div class=\"sk-label fitted sk-toggleable\"><input class=\"sk-toggleable__control sk-hidden--visually\" id=\"sk-estimator-id-1\" type=\"checkbox\" ><label for=\"sk-estimator-id-1\" class=\"sk-toggleable__label fitted sk-toggleable__label-arrow\"><div><div>GridSearchCV</div></div><div><a class=\"sk-estimator-doc-link fitted\" rel=\"noreferrer\" target=\"_blank\" href=\"https://scikit-learn.org/1.6/modules/generated/sklearn.model_selection.GridSearchCV.html\">?<span>Documentation for GridSearchCV</span></a><span class=\"sk-estimator-doc-link fitted\">i<span>Fitted</span></span></div></label><div class=\"sk-toggleable__content fitted\"><pre>GridSearchCV(cv=StratifiedKFold(n_splits=5, random_state=42, shuffle=True),\n",
              "             estimator=DecisionTreeClassifier(),\n",
              "             param_grid={&#x27;criterion&#x27;: [&#x27;gini&#x27;, &#x27;entropy&#x27;],\n",
              "                         &#x27;max_depth&#x27;: [2, 3, 4],\n",
              "                         &#x27;min_samples_split&#x27;: [2, 3, 4]})</pre></div> </div></div><div class=\"sk-parallel\"><div class=\"sk-parallel-item\"><div class=\"sk-item\"><div class=\"sk-label-container\"><div class=\"sk-label fitted sk-toggleable\"><input class=\"sk-toggleable__control sk-hidden--visually\" id=\"sk-estimator-id-2\" type=\"checkbox\" ><label for=\"sk-estimator-id-2\" class=\"sk-toggleable__label fitted sk-toggleable__label-arrow\"><div><div>best_estimator_: DecisionTreeClassifier</div></div></label><div class=\"sk-toggleable__content fitted\"><pre>DecisionTreeClassifier(criterion=&#x27;entropy&#x27;, max_depth=4)</pre></div> </div></div><div class=\"sk-serial\"><div class=\"sk-item\"><div class=\"sk-estimator fitted sk-toggleable\"><input class=\"sk-toggleable__control sk-hidden--visually\" id=\"sk-estimator-id-3\" type=\"checkbox\" ><label for=\"sk-estimator-id-3\" class=\"sk-toggleable__label fitted sk-toggleable__label-arrow\"><div><div>DecisionTreeClassifier</div></div><div><a class=\"sk-estimator-doc-link fitted\" rel=\"noreferrer\" target=\"_blank\" href=\"https://scikit-learn.org/1.6/modules/generated/sklearn.tree.DecisionTreeClassifier.html\">?<span>Documentation for DecisionTreeClassifier</span></a></div></label><div class=\"sk-toggleable__content fitted\"><pre>DecisionTreeClassifier(criterion=&#x27;entropy&#x27;, max_depth=4)</pre></div> </div></div></div></div></div></div></div></div></div>"
            ]
          },
          "metadata": {},
          "execution_count": 19
        }
      ]
    },
    {
      "cell_type": "code",
      "source": [
        "print(grid_search.best_params_)\n",
        "best_tree_model = grid_search.best_estimator_"
      ],
      "metadata": {
        "colab": {
          "base_uri": "https://localhost:8080/"
        },
        "id": "a-rhiVDOPne5",
        "outputId": "5c411bca-9ee9-41cf-ec25-21b9e6a7988a"
      },
      "execution_count": 20,
      "outputs": [
        {
          "output_type": "stream",
          "name": "stdout",
          "text": [
            "{'criterion': 'entropy', 'max_depth': 4, 'min_samples_split': 2}\n"
          ]
        }
      ]
    },
    {
      "cell_type": "code",
      "source": [
        "scores = cross_validate(best_tree_model,X,y,return_train_score=True,cv=sk)\n",
        "np.mean(scores['train_score'])"
      ],
      "metadata": {
        "colab": {
          "base_uri": "https://localhost:8080/"
        },
        "id": "QFnDgT-APnz-",
        "outputId": "b5e0489a-4dc8-404f-e64f-98fc8342656e"
      },
      "execution_count": 21,
      "outputs": [
        {
          "output_type": "execute_result",
          "data": {
            "text/plain": [
              "np.float64(0.8081938976377951)"
            ]
          },
          "metadata": {},
          "execution_count": 21
        }
      ]
    },
    {
      "cell_type": "code",
      "source": [
        "# 학습에 사용된 피처의 중요도(확률)\n",
        "best_tree_model.feature_importances_"
      ],
      "metadata": {
        "colab": {
          "base_uri": "https://localhost:8080/"
        },
        "id": "3YcZ_shoQP7c",
        "outputId": "c87a35b5-2421-44e4-a860-665af3b7dffb"
      },
      "execution_count": 22,
      "outputs": [
        {
          "output_type": "execute_result",
          "data": {
            "text/plain": [
              "array([0.        , 0.17311159, 0.01790877, 0.69814012, 0.11083952])"
            ]
          },
          "metadata": {},
          "execution_count": 22
        }
      ]
    },
    {
      "cell_type": "markdown",
      "source": [
        "```\n",
        "하이퍼 파라메터 튜닝 - gridSearch\n",
        "교차검증(분류기를 따로 설정가능)\n",
        "  cross_validate / kfold or StratifiedKfold\n",
        "  성급한 일반화의 오류를 없애고 과적합 방지\n",
        "Tree : 결정트리\n",
        "  지니불순도 : 정보의 순수성\n",
        "  엔트로피지수  : 정보이득  \n",
        "  max_depth를 제어하지 않으면 과적합 필수\n",
        "  가지치기 : max_depth를 제어\n",
        "SGDClassfier  확률적 경사하강법\n",
        "  경사하강법은 손실함수의 값의 최소가 되는 방향으로 가중치변화량 즉 미분값을 학습할때마다 기존 가중치를 업데이트\n",
        "  학습률: 가중치를 업데이트할때 곱해주는 값(보폭)\n",
        "  에포크: 전체 데이터를 다 사용하는 횟수\n",
        "  배치  : 전체데이터를 일정한 갯수만큼 분할해서 사용\n",
        "    전체데이터를 1개의 배치로 : 배치 경사하강법\n",
        "    일부데이터를 배치로단위로 : 미니배치 경가하강법\n",
        "    데이터 한개씩 : 확률적 경사하강법\n",
        "로지스틱 회귀\n",
        "  각 클래스가 될 확률을 계산해서 최종적으로 확률이 높은 클래스를 선택하는 분류모델\n",
        "  확률을 계산하려면 회귀로 예측한 값을 0~1사이로 바꿔주는 로지스틱 함수를 적용( 시그모이드 함수)    \n",
        "```"
      ],
      "metadata": {
        "id": "GYXWIj-VR6w_"
      }
    },
    {
      "cell_type": "code",
      "source": [
        "from sklearn.ensemble import RandomForestClassifier\n",
        "\n",
        "rfc = RandomForestClassifier(random_state=42)\n",
        "rfc.fit(X_train, y_train)\n",
        "rfc.score(X_train, y_train), rfc.score(X_test, y_test)"
      ],
      "metadata": {
        "id": "uSWk5A1JQQaf",
        "colab": {
          "base_uri": "https://localhost:8080/"
        },
        "outputId": "4cab63e9-59e3-4a77-b5f3-4c4b66da26a5"
      },
      "execution_count": 25,
      "outputs": [
        {
          "output_type": "execute_result",
          "data": {
            "text/plain": [
              "(1.0, 0.8125)"
            ]
          },
          "metadata": {},
          "execution_count": 25
        }
      ]
    },
    {
      "cell_type": "code",
      "source": [
        "# 모델\n",
        "from sklearn.linear_model import LinearRegression,Ridge,Lasso,SGDClassifier,SGDRegressor,LogisticRegression\n",
        "from sklearn.neighbors import  KNeighborsClassifier, KNeighborsRegressor\n",
        "from sklearn.tree import DecisionTreeClassifier, DecisionTreeRegressor\n",
        "from sklearn.ensemble import RandomForestClassifier, RandomForestRegressor\n",
        "# 교차검증 및 하이퍼 파라메터 튜닝\n",
        "from sklearn.model_selection import cross_validate, StratifiedKFold, GridSearchCV, RandomizedSearchCV\n",
        "# 데이터 분할\n",
        "from sklearn.model_selection import train_test_split\n",
        "# 데이터 스케일\n",
        "from sklearn.preprocessing import StandardScaler, PolynomialFeatures\n",
        "# 데이터 불균형\n",
        "from imblearn.over_sampling import RandomOverSampler, SMOTE\n",
        "from imblearn.under_sampling import RandomUnderSampler"
      ],
      "metadata": {
        "id": "7IkUCKYmV7f5"
      },
      "execution_count": 98,
      "outputs": []
    },
    {
      "cell_type": "code",
      "source": [
        "# 분류\n",
        "# KNeighborsClassifier,DecisionTreeClassifier,RandomForestClassifier,SGDClassifier,LogisticRegression\n",
        "# 회귀\n",
        "# LinearRegression , Ridge,Lasso,SGDRegressor,KNeighborsRegressor,DecisionTreeRegressor,RandomForestRegressor\n",
        "\n",
        "# 1 step\n",
        "# basemodel 찾기\n",
        "# 데이터 확보\n",
        "# 결측치 제거\n",
        "# 각 모델에 대해 교차검증으로 가장 좋은 모델을 찾기\n",
        "print('step1' + '-'*50)\n",
        "df = pd.read_csv('https://raw.githubusercontent.com/datasciencedojo/datasets/master/titanic.csv')\n",
        "kc= KNeighborsClassifier()\n",
        "dt = DecisionTreeClassifier(random_state=42)\n",
        "rf = RandomForestClassifier(random_state=42)\n",
        "sc = SGDClassifier(random_state=42)\n",
        "lr = LogisticRegression(random_state=42)\n",
        "\n",
        "df.drop(['Cabin'],axis=1,inplace=True)\n",
        "df = df.select_dtypes(include='number')\n",
        "df = df.dropna()\n",
        "X = df.drop(['Survived'], axis=1)\n",
        "y = df.iloc[:,1]\n",
        "\n",
        "ss = StandardScaler()\n",
        "X = ss.fit_transform(X)\n",
        "\n",
        "for model in [kc, dt, rf, sc,lr]:\n",
        "  sk = StratifiedKFold(n_splits=5, shuffle=True,random_state=42)\n",
        "  scores = cross_validate(model,X,y,cv=sk)\n",
        "  print(model.__class__.__name__,np.mean(scores['test_score']))\n",
        "\n",
        "# 2 step\n",
        "# 모델을 고정하고\n",
        "# 데이터 엔지니어링 및 기타 다양한 방법을 통해 모델의 성능을 높이기\n",
        "print('step2' + '-'*50)\n",
        "df = pd.read_csv('https://raw.githubusercontent.com/datasciencedojo/datasets/master/titanic.csv')\n",
        "df.drop(['Cabin'],axis=1,inplace=True)\n",
        "df['Age'] = df['Age'].fillna(float(df['Age'].mean()))\n",
        "\n",
        "\n",
        "from sklearn.preprocessing import LabelEncoder\n",
        "le = LabelEncoder()\n",
        "df['Sex'] = le.fit_transform(df['Sex'])\n",
        "df = df.select_dtypes(include='number')\n",
        "X = df.drop(['Survived'], axis=1)\n",
        "y = df.iloc[:,1]\n",
        "X = ss.fit_transform(X)\n",
        "\n",
        "for model in [rf]:\n",
        "  sk = StratifiedKFold(n_splits=5, shuffle=True,random_state=42)\n",
        "  scores = cross_validate(model,X,y,cv=sk)\n",
        "  print(model.__class__.__name__,np.mean(scores['test_score']))"
      ],
      "metadata": {
        "colab": {
          "base_uri": "https://localhost:8080/"
        },
        "id": "WKARRt7qbZyg",
        "outputId": "d3ec2c1d-b75e-42a6-a147-557639f98541"
      },
      "execution_count": 100,
      "outputs": [
        {
          "output_type": "stream",
          "name": "stdout",
          "text": [
            "step1--------------------------------------------------\n",
            "KNeighborsClassifier 0.6988870284644932\n",
            "DecisionTreeClassifier 0.6527134836993992\n",
            "RandomForestClassifier 0.7115138382744016\n",
            "SGDClassifier 0.645553038510785\n",
            "LogisticRegression 0.7100167438195607\n",
            "step2--------------------------------------------------\n",
            "RandomForestClassifier 0.81814700897621\n"
          ]
        }
      ]
    },
    {
      "cell_type": "code",
      "source": [
        "# 3step\n",
        "# 모델의 하이퍼 파라미터 튜닝\n",
        "print(RandomForestClassifier(random_state=42).get_params())\n",
        "param_grid = {\n",
        "    'n_estimators' : [100,200,300,400,500],\n",
        "    'max_depth' : [2,3,4,5,6],\n",
        "    'min_samples_split' : [2,3,4,5,6]\n",
        "}\n",
        "grid_search = GridSearchCV(rf, param_grid,cv=sk)\n",
        "grid_search.fit(X,y)\n",
        "print(grid_search.best_params_)"
      ],
      "metadata": {
        "colab": {
          "base_uri": "https://localhost:8080/"
        },
        "collapsed": true,
        "id": "eOaO_5MGfLnT",
        "outputId": "507bbdd8-bad8-4014-afad-4d8bfdd02a09"
      },
      "execution_count": 103,
      "outputs": [
        {
          "output_type": "stream",
          "name": "stdout",
          "text": [
            "{'bootstrap': True, 'ccp_alpha': 0.0, 'class_weight': None, 'criterion': 'gini', 'max_depth': None, 'max_features': 'sqrt', 'max_leaf_nodes': None, 'max_samples': None, 'min_impurity_decrease': 0.0, 'min_samples_leaf': 1, 'min_samples_split': 2, 'min_weight_fraction_leaf': 0.0, 'monotonic_cst': None, 'n_estimators': 100, 'n_jobs': None, 'oob_score': False, 'random_state': 42, 'verbose': 0, 'warm_start': False}\n",
            "{'max_depth': 6, 'min_samples_split': 5, 'n_estimators': 200}\n"
          ]
        },
        {
          "output_type": "execute_result",
          "data": {
            "text/plain": [
              "np.float64(0.8282656455966354)"
            ]
          },
          "metadata": {},
          "execution_count": 103
        }
      ]
    },
    {
      "cell_type": "code",
      "source": [
        "best_model = grid_search.best_estimator_\n",
        "scores = cross_validate(best_model,X,y,cv=sk)\n",
        "scores\n",
        "# scores['test_score']"
      ],
      "metadata": {
        "colab": {
          "base_uri": "https://localhost:8080/"
        },
        "id": "iCGRmDEoyDzM",
        "outputId": "56042505-43e6-4e12-c094-7d3c2913a458"
      },
      "execution_count": 112,
      "outputs": [
        {
          "output_type": "execute_result",
          "data": {
            "text/plain": [
              "{'fit_time': array([0.60124564, 0.55840874, 0.58509231, 0.55691862, 0.78062248]),\n",
              " 'score_time': array([0.03051257, 0.03245711, 0.03314328, 0.02743745, 0.01672959]),\n",
              " 'test_score': array([0.84916201, 0.80898876, 0.80337079, 0.81460674, 0.84831461])}"
            ]
          },
          "metadata": {},
          "execution_count": 112
        }
      ]
    },
    {
      "cell_type": "code",
      "source": [
        "from sklearn.metrics import make_scorer, precision_score, recall_score\n",
        "scoring = {\n",
        "    'accuracy': 'accuracy',\n",
        "    'precision': make_scorer(precision_score, average='macro'),\n",
        "    'recall': make_scorer(recall_score, average='macro'),\n",
        "}\n",
        "\n",
        "rf = RandomForestClassifier(max_depth=6, min_samples_split=5, n_estimators=200)\n",
        "sk = StratifiedKFold(n_splits=5, shuffle=True,random_state=42)\n",
        "scores = cross_validate(rf, X, y, cv=sk, scoring=scoring)\n",
        "print(f\"Accuracy: {np.mean(scores['test_accuracy'])}\")\n",
        "print(f\"Precision: {np.mean(scores['test_precision'])}\")\n",
        "print(f\"Recall: {np.mean(scores['test_recall'])}\")"
      ],
      "metadata": {
        "colab": {
          "base_uri": "https://localhost:8080/"
        },
        "id": "-KdSLUEGjQ9C",
        "outputId": "3ffc1580-4652-4c12-aaf7-d10be9eefee2"
      },
      "execution_count": 106,
      "outputs": [
        {
          "output_type": "stream",
          "name": "stdout",
          "text": [
            "Accuracy: 0.8260184545853996\n",
            "Precision: 0.8272682948701029\n",
            "Recall: 0.8003023868284668\n"
          ]
        }
      ]
    },
    {
      "cell_type": "code",
      "source": [
        "# onehot도 트라이"
      ],
      "metadata": {
        "id": "5zoJdq80p7Nh"
      },
      "execution_count": 88,
      "outputs": []
    }
  ]
}