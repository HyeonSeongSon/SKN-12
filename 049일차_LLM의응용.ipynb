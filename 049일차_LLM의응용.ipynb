{
  "cells": [
    {
      "cell_type": "markdown",
      "metadata": {
        "id": "3hAkspqaY5Qu"
      },
      "source": [
        "한국어 데이터 전처리 및 품질관리  QA or 챗봇\n",
        "```\n",
        "  전처리 프로세스\n",
        "    데이터 수집\n",
        "      크롤링, 정적인 데이터(csv)\n",
        "      다양한 표현과 의도를 포함(배송,환불, 불량)\n",
        "    텍스트 정제\n",
        "      오타/특수문자 제거 : \"ㅋㅋ\", \"ㅎㅎ\" \"^^\" 이모지 제거\n",
        "      비속어 처리 : \"쓰레기임\"->중립표현으로 변경(문제가 있어요) 또는 필터링\n",
        "      영어/숫자 처리: 도메인에 따라 유지 또는 제거(iPhone은 유지)\n",
        "    띄어쓰기 교정\n",
        "      한글은 띄어쓰기 불규칙이 흔함: 배송느림->배송 느림\n",
        "      도구 pykospacing(띄어쓰기 자동교정), konlpy(형태소분석)\n",
        "    정규화\n",
        "      동일한 의미의 표현통일 : 좋음,최고 ->긍정\n",
        "      답변 일관성 : 2,3일이내 , 이틀에서삼일-> 주문후 2,3일 이내\n",
        "    토큰화 고려\n",
        "      한글은 1글자 1토큰, 띄어쓰기 최적화로 토큰 절약\n",
        "  품질관리\n",
        "    중복제거\n",
        "      동일문의/답변제거(set)\n",
        "    다양성확보      \n",
        "    수동검증\n",
        "      데이터의 10% 수동 확인\n",
        "    통계분석          \n",
        "      의도분포 : 배송40%, 환불30% ...\n",
        "```"
      ]
    },
    {
      "cell_type": "code",
      "execution_count": null,
      "metadata": {
        "colab": {
          "base_uri": "https://localhost:8080/",
          "height": 995
        },
        "id": "0tllgDOMXbfl",
        "outputId": "dd5f8846-5e93-4948-f43c-0eff8fd23be2"
      },
      "outputs": [
        {
          "name": "stdout",
          "output_type": "stream",
          "text": [
            "Collecting git+https://github.com/haven-jeon/PyKoSpacing.git\n",
            "  Cloning https://github.com/haven-jeon/PyKoSpacing.git to /tmp/pip-req-build-8jga8e9y\n",
            "  Running command git clone --filter=blob:none --quiet https://github.com/haven-jeon/PyKoSpacing.git /tmp/pip-req-build-8jga8e9y\n",
            "  Resolved https://github.com/haven-jeon/PyKoSpacing.git to commit b32a889cbd10b006d2f4aba118f0cd5b677e2979\n",
            "  Preparing metadata (setup.py) ... \u001b[?25l\u001b[?25hdone\n",
            "Requirement already satisfied: tensorflow>=2.16.2 in /usr/local/lib/python3.11/dist-packages (from pykospacing==0.5) (2.18.0)\n",
            "Requirement already satisfied: h5py>=3.10.0 in /usr/local/lib/python3.11/dist-packages (from pykospacing==0.5) (3.13.0)\n",
            "Collecting argparse>=1.1.0 (from pykospacing==0.5)\n",
            "  Using cached argparse-1.4.0-py2.py3-none-any.whl.metadata (2.8 kB)\n",
            "Requirement already satisfied: numpy>=1.19.3 in /usr/local/lib/python3.11/dist-packages (from h5py>=3.10.0->pykospacing==0.5) (2.0.2)\n",
            "Requirement already satisfied: absl-py>=1.0.0 in /usr/local/lib/python3.11/dist-packages (from tensorflow>=2.16.2->pykospacing==0.5) (1.4.0)\n",
            "Requirement already satisfied: astunparse>=1.6.0 in /usr/local/lib/python3.11/dist-packages (from tensorflow>=2.16.2->pykospacing==0.5) (1.6.3)\n",
            "Requirement already satisfied: flatbuffers>=24.3.25 in /usr/local/lib/python3.11/dist-packages (from tensorflow>=2.16.2->pykospacing==0.5) (25.2.10)\n",
            "Requirement already satisfied: gast!=0.5.0,!=0.5.1,!=0.5.2,>=0.2.1 in /usr/local/lib/python3.11/dist-packages (from tensorflow>=2.16.2->pykospacing==0.5) (0.6.0)\n",
            "Requirement already satisfied: google-pasta>=0.1.1 in /usr/local/lib/python3.11/dist-packages (from tensorflow>=2.16.2->pykospacing==0.5) (0.2.0)\n",
            "Requirement already satisfied: libclang>=13.0.0 in /usr/local/lib/python3.11/dist-packages (from tensorflow>=2.16.2->pykospacing==0.5) (18.1.1)\n",
            "Requirement already satisfied: opt-einsum>=2.3.2 in /usr/local/lib/python3.11/dist-packages (from tensorflow>=2.16.2->pykospacing==0.5) (3.4.0)\n",
            "Requirement already satisfied: packaging in /usr/local/lib/python3.11/dist-packages (from tensorflow>=2.16.2->pykospacing==0.5) (24.2)\n",
            "Requirement already satisfied: protobuf!=4.21.0,!=4.21.1,!=4.21.2,!=4.21.3,!=4.21.4,!=4.21.5,<6.0.0dev,>=3.20.3 in /usr/local/lib/python3.11/dist-packages (from tensorflow>=2.16.2->pykospacing==0.5) (5.29.4)\n",
            "Requirement already satisfied: requests<3,>=2.21.0 in /usr/local/lib/python3.11/dist-packages (from tensorflow>=2.16.2->pykospacing==0.5) (2.32.3)\n",
            "Requirement already satisfied: setuptools in /usr/local/lib/python3.11/dist-packages (from tensorflow>=2.16.2->pykospacing==0.5) (75.2.0)\n",
            "Requirement already satisfied: six>=1.12.0 in /usr/local/lib/python3.11/dist-packages (from tensorflow>=2.16.2->pykospacing==0.5) (1.17.0)\n",
            "Requirement already satisfied: termcolor>=1.1.0 in /usr/local/lib/python3.11/dist-packages (from tensorflow>=2.16.2->pykospacing==0.5) (3.1.0)\n",
            "Requirement already satisfied: typing-extensions>=3.6.6 in /usr/local/lib/python3.11/dist-packages (from tensorflow>=2.16.2->pykospacing==0.5) (4.13.2)\n",
            "Requirement already satisfied: wrapt>=1.11.0 in /usr/local/lib/python3.11/dist-packages (from tensorflow>=2.16.2->pykospacing==0.5) (1.17.2)\n",
            "Requirement already satisfied: grpcio<2.0,>=1.24.3 in /usr/local/lib/python3.11/dist-packages (from tensorflow>=2.16.2->pykospacing==0.5) (1.71.0)\n",
            "Requirement already satisfied: tensorboard<2.19,>=2.18 in /usr/local/lib/python3.11/dist-packages (from tensorflow>=2.16.2->pykospacing==0.5) (2.18.0)\n",
            "Requirement already satisfied: keras>=3.5.0 in /usr/local/lib/python3.11/dist-packages (from tensorflow>=2.16.2->pykospacing==0.5) (3.8.0)\n",
            "Requirement already satisfied: ml-dtypes<0.5.0,>=0.4.0 in /usr/local/lib/python3.11/dist-packages (from tensorflow>=2.16.2->pykospacing==0.5) (0.4.1)\n",
            "Requirement already satisfied: tensorflow-io-gcs-filesystem>=0.23.1 in /usr/local/lib/python3.11/dist-packages (from tensorflow>=2.16.2->pykospacing==0.5) (0.37.1)\n",
            "Requirement already satisfied: wheel<1.0,>=0.23.0 in /usr/local/lib/python3.11/dist-packages (from astunparse>=1.6.0->tensorflow>=2.16.2->pykospacing==0.5) (0.45.1)\n",
            "Requirement already satisfied: rich in /usr/local/lib/python3.11/dist-packages (from keras>=3.5.0->tensorflow>=2.16.2->pykospacing==0.5) (13.9.4)\n",
            "Requirement already satisfied: namex in /usr/local/lib/python3.11/dist-packages (from keras>=3.5.0->tensorflow>=2.16.2->pykospacing==0.5) (0.0.9)\n",
            "Requirement already satisfied: optree in /usr/local/lib/python3.11/dist-packages (from keras>=3.5.0->tensorflow>=2.16.2->pykospacing==0.5) (0.15.0)\n",
            "Requirement already satisfied: charset-normalizer<4,>=2 in /usr/local/lib/python3.11/dist-packages (from requests<3,>=2.21.0->tensorflow>=2.16.2->pykospacing==0.5) (3.4.1)\n",
            "Requirement already satisfied: idna<4,>=2.5 in /usr/local/lib/python3.11/dist-packages (from requests<3,>=2.21.0->tensorflow>=2.16.2->pykospacing==0.5) (3.10)\n",
            "Requirement already satisfied: urllib3<3,>=1.21.1 in /usr/local/lib/python3.11/dist-packages (from requests<3,>=2.21.0->tensorflow>=2.16.2->pykospacing==0.5) (2.4.0)\n",
            "Requirement already satisfied: certifi>=2017.4.17 in /usr/local/lib/python3.11/dist-packages (from requests<3,>=2.21.0->tensorflow>=2.16.2->pykospacing==0.5) (2025.4.26)\n",
            "Requirement already satisfied: markdown>=2.6.8 in /usr/local/lib/python3.11/dist-packages (from tensorboard<2.19,>=2.18->tensorflow>=2.16.2->pykospacing==0.5) (3.8)\n",
            "Requirement already satisfied: tensorboard-data-server<0.8.0,>=0.7.0 in /usr/local/lib/python3.11/dist-packages (from tensorboard<2.19,>=2.18->tensorflow>=2.16.2->pykospacing==0.5) (0.7.2)\n",
            "Requirement already satisfied: werkzeug>=1.0.1 in /usr/local/lib/python3.11/dist-packages (from tensorboard<2.19,>=2.18->tensorflow>=2.16.2->pykospacing==0.5) (3.1.3)\n",
            "Requirement already satisfied: MarkupSafe>=2.1.1 in /usr/local/lib/python3.11/dist-packages (from werkzeug>=1.0.1->tensorboard<2.19,>=2.18->tensorflow>=2.16.2->pykospacing==0.5) (3.0.2)\n",
            "Requirement already satisfied: markdown-it-py>=2.2.0 in /usr/local/lib/python3.11/dist-packages (from rich->keras>=3.5.0->tensorflow>=2.16.2->pykospacing==0.5) (3.0.0)\n",
            "Requirement already satisfied: pygments<3.0.0,>=2.13.0 in /usr/local/lib/python3.11/dist-packages (from rich->keras>=3.5.0->tensorflow>=2.16.2->pykospacing==0.5) (2.19.1)\n",
            "Requirement already satisfied: mdurl~=0.1 in /usr/local/lib/python3.11/dist-packages (from markdown-it-py>=2.2.0->rich->keras>=3.5.0->tensorflow>=2.16.2->pykospacing==0.5) (0.1.2)\n",
            "Using cached argparse-1.4.0-py2.py3-none-any.whl (23 kB)\n",
            "Installing collected packages: argparse\n",
            "Successfully installed argparse-1.4.0\n"
          ]
        },
        {
          "data": {
            "application/vnd.colab-display-data+json": {
              "id": "d585d7e2854246b8b8ae144f6737a091",
              "pip_warning": {
                "packages": [
                  "argparse"
                ]
              }
            }
          },
          "metadata": {},
          "output_type": "display_data"
        }
      ],
      "source": [
        "!pip install git+https://github.com/haven-jeon/PyKoSpacing.git"
      ]
    },
    {
      "cell_type": "code",
      "execution_count": null,
      "metadata": {
        "colab": {
          "base_uri": "https://localhost:8080/"
        },
        "id": "8k3kcjo6a1D8",
        "outputId": "0a7a7d32-ec23-4a42-9977-cba02f31fe1b"
      },
      "outputs": [
        {
          "name": "stdout",
          "output_type": "stream",
          "text": [
            "Collecting konlpy\n",
            "  Downloading konlpy-0.6.0-py2.py3-none-any.whl.metadata (1.9 kB)\n",
            "Collecting JPype1>=0.7.0 (from konlpy)\n",
            "  Downloading jpype1-1.5.2-cp311-cp311-manylinux_2_17_x86_64.manylinux2014_x86_64.whl.metadata (4.9 kB)\n",
            "Requirement already satisfied: lxml>=4.1.0 in /usr/local/lib/python3.11/dist-packages (from konlpy) (5.4.0)\n",
            "Requirement already satisfied: numpy>=1.6 in /usr/local/lib/python3.11/dist-packages (from konlpy) (2.0.2)\n",
            "Requirement already satisfied: packaging in /usr/local/lib/python3.11/dist-packages (from JPype1>=0.7.0->konlpy) (24.2)\n",
            "Downloading konlpy-0.6.0-py2.py3-none-any.whl (19.4 MB)\n",
            "\u001b[2K   \u001b[90m━━━━━━━━━━━━━━━━━━━━━━━━━━━━━━━━━━━━━━━━\u001b[0m \u001b[32m19.4/19.4 MB\u001b[0m \u001b[31m83.8 MB/s\u001b[0m eta \u001b[36m0:00:00\u001b[0m\n",
            "\u001b[?25hDownloading jpype1-1.5.2-cp311-cp311-manylinux_2_17_x86_64.manylinux2014_x86_64.whl (494 kB)\n",
            "\u001b[2K   \u001b[90m━━━━━━━━━━━━━━━━━━━━━━━━━━━━━━━━━━━━━━━━\u001b[0m \u001b[32m494.1/494.1 kB\u001b[0m \u001b[31m29.4 MB/s\u001b[0m eta \u001b[36m0:00:00\u001b[0m\n",
            "\u001b[?25hInstalling collected packages: JPype1, konlpy\n",
            "Successfully installed JPype1-1.5.2 konlpy-0.6.0\n"
          ]
        }
      ],
      "source": [
        "!pip install konlpy"
      ]
    },
    {
      "cell_type": "code",
      "execution_count": null,
      "metadata": {
        "id": "5I6_y61Jacoo"
      },
      "outputs": [],
      "source": [
        "import openai\n",
        "import os\n",
        "import json\n",
        "from pykospacing import Spacing\n",
        "import re\n",
        "from konlpy.tag import Okt"
      ]
    },
    {
      "cell_type": "code",
      "execution_count": null,
      "metadata": {
        "id": "zJvRv8YTawoQ"
      },
      "outputs": [],
      "source": [
        "raw_data = [\n",
        "    {\"question\": \"배송언제오나요ㅋㅋ\", \"answer\": \"2~3일내도착\"},\n",
        "    {\"question\": \"환불어떻게함?\", \"answer\": \"7일이내 반품시 환불가능\"},\n",
        "    {\"question\": \"제품이쓰레기임ㅡㅡ\", \"answer\": \"고객센터연락주세요\"},\n",
        "    {\"question\": \"배송 언제 오나요?\", \"answer\": \"이틀에서 사흘 걸림\"},  # 중복 의도\n",
        "    {\"question\": \"환불안되면어쩌지ㅠㅠ\", \"answer\": \"7일안에 반품하면 환불돼요!\"}\n",
        "]"
      ]
    },
    {
      "cell_type": "code",
      "execution_count": null,
      "metadata": {
        "id": "I83IKspibBNo"
      },
      "outputs": [],
      "source": [
        "api_key = 'your_api_key'"
      ]
    },
    {
      "cell_type": "code",
      "execution_count": 37,
      "metadata": {
        "id": "AfUIEIxu8QmN"
      },
      "outputs": [],
      "source": [
        "client = openai.OpenAI(api_key=api_key)"
      ]
    },
    {
      "cell_type": "code",
      "execution_count": null,
      "metadata": {
        "id": "O4l4pZLbbHwl"
      },
      "outputs": [],
      "source": [
        "# 띄어쓰기 교정기\n",
        "spacing = Spacing()\n",
        "# 형태소 분석기\n",
        "okt = Okt()"
      ]
    },
    {
      "cell_type": "code",
      "execution_count": 79,
      "metadata": {
        "id": "emRZyfxebLWJ"
      },
      "outputs": [],
      "source": [
        "# 텍스트 정제 함수\n",
        "def clean_text(text,is_answer=False):\n",
        "  # 특수문자 이모지 제거\n",
        "  if is_answer:\n",
        "    text =  re.sub(r\"[ㅋㅎㅠㅡ-]+|[^가-힣\\s()0-9~']\",\"\",text)\n",
        "  else:\n",
        "    text =  re.sub(r\"[ㅋㅎㅠㅡ-]+|[^가-힣\\s]\",\"\",text)\n",
        "  # 비속어 필터링(example)  - 비속어 사전을 새로만들거나. 찾아서..\n",
        "  bad_words = {\"쓰레기\":\"문제가 있는\", \"게판\":\"문제가 있는\"}\n",
        "  for bad,good in bad_words.items():\n",
        "    text = text.replace(bad,good)\n",
        "  # 연속 공백 제거\n",
        "  text = re.sub(r\"\\s+\",\" \",text)\n",
        "  return text\n",
        "# 띄어쓰기 교정 함수\n",
        "def correct_spacing(text):\n",
        "  return spacing(text)\n",
        "# 정규화 함수\n",
        "def normalize_text(text, is_answer=False):\n",
        "  text = correct_spacing(clean_text(text,is_answer))\n",
        "  if is_answer:\n",
        "    # 답변 존댓말 및 통일\n",
        "    if \"환불\"   in text:\n",
        "      text = \"구매 후 7일 이내 반품 요청 시 전액 환불 가능합니다.\"\n",
        "    elif \"배송\" in text or  \"도착\" in text:\n",
        "      text = \"보통 주문 후 2~3일 내 배송됩니다.\"\n",
        "    elif \"고객센터\" in text:\n",
        "      text = \"고객센터로 연락주세요.\"\n",
        "  return text\n",
        "\n",
        "# 데이터 전처리 함수\n",
        "def preprocess_data(raw_data):\n",
        "  processed_data = []\n",
        "  seen_questions = set()  # 중복 확인용\n",
        "  for item in raw_data:\n",
        "    question = normalize_text(item['question'])\n",
        "    answer = normalize_text(item['answer'], is_answer=True)\n",
        "    # 중복제거\n",
        "    if question not in seen_questions:\n",
        "      processed_data.append({\"question\": question, \"answer\": answer})\n",
        "      seen_questions.add(question)\n",
        "  return processed_data\n",
        "# jsonl 파일 생성\n",
        "def create_jsonl(data, filename):\n",
        "  # jsonl로 변환\n",
        "  with open(filename,'w',encoding='utf-8') as f:\n",
        "    for item in data:\n",
        "        messages = [\n",
        "            {\"role\": \"system\", \"content\": \"너는 친절한 한글 고객센터 쳇봇이야. 최대한 친절하게 답해줘\"},\n",
        "            {\"role\": \"user\", \"content\": item['question']},\n",
        "            {\"role\": \"assistant\", \"content\": item['answer']}\n",
        "        ]\n",
        "        json.dump({\"messages\" : messages}, f, ensure_ascii=False)\n",
        "        f.write('\\n')\n",
        "# 품질관리 : 질문의 의도를 분석\n",
        "from collections import Counter\n",
        "def analyze_intents(processed_data):\n",
        "  intents = []\n",
        "  for item in processed_data:\n",
        "    tokens = okt.pos(item['question'], norm=True, stem=True)\n",
        "    intent = [token[0] for token in tokens if token[1] in ['Noun','Verb']][0]\n",
        "    intents.append(intent)\n",
        "  return dict(Counter(intents))"
      ]
    },
    {
      "cell_type": "code",
      "execution_count": 134,
      "metadata": {
        "colab": {
          "base_uri": "https://localhost:8080/"
        },
        "id": "01OLwLZylbDN",
        "outputId": "ca90d1ee-5f78-46b4-cd55-ea01ed4d0f62"
      },
      "outputs": [
        {
          "name": "stdout",
          "output_type": "stream",
          "text": [
            "[{'question': '배송 언제 오나요', 'answer': '보통 주문 후 2~3일 내 배송됩니다.'}, {'question': '환불 어떻게 하나요', 'answer': '구매 후 7일 이내 반품 요청 시 전액 환불 가능합니다.'}, {'question': '제품이 망가졌어요', 'answer': '구매 후 7일 이내 반품 요청 시 전액 환불 가능합니다.'}, {'question': '이 거 왜 이래요', 'answer': '자세한 상황을 말씀해 주시면 도와 드리겠습니다'}, {'question': '환불 안 해주면 고소할게요', 'answer': '구매 후 7일 이내 반품 요청 시 전액 환불 가능합니다.'}]\n",
            "{'배송': 1, '환불': 2, '제품': 1, '이': 1}\n"
          ]
        }
      ],
      "source": [
        "# 1. 데이터 전처리\n",
        "processed_data = preprocess_data(raw_data)\n",
        "print(processed_data)\n",
        "# 2. jsonl 생성\n",
        "create_jsonl(processed_data, 'processed_data.jsonl')\n",
        "# 3 품질측정(질문의도)\n",
        "intents = analyze_intents(processed_data)\n",
        "print(intents)"
      ]
    },
    {
      "cell_type": "markdown",
      "metadata": {
        "id": "DTdsaYm6xu2G"
      },
      "source": [
        "```\n",
        "1. 의도기반 설계\n",
        "  문의유형별 분류 : 배송,환불,불량,할인,일반문의\n",
        "  각 의도별 데이터쌍..5만개 이상\n",
        "2. 라벨링 전략\n",
        "  다양한 표현 : 배송언제,물건언제도착,택배언제와\n",
        "  존댓말 :고객지원 ~ 입니다(습니다) 통일\n",
        "  수동 : 직접 생산\n",
        "  자동 : 네이버 스토어 Q&A -> 크롤링해서 사용\n",
        "  반자동 : chatgpt이용해서 생성하고 사람이 검증\n",
        "3. Edge-Case 대응\n",
        "  비표준적이거나 처리 어려운 표현\n",
        "    모호문의 : 이거 왜 이래 -> \"자세한 상황을 .... 도와드리..\"\n",
        "    민감문의 : 환불 안해주면 고소할꺼야->\"\"\n",
        "    다중의도: 배송은 언제 그리고 환불은 어떻게 ->\n",
        "    부정적 톤 : 너무 느려 ->\n",
        "4. 데이테셋 검증\n",
        "  의도별 데이터수 규형(배송:30%, 불량:30%, 문의:30%, 환불:30\n",
        "5. 파인튜닝준비\n",
        "```"
      ]
    },
    {
      "cell_type": "code",
      "execution_count": 82,
      "metadata": {
        "id": "1MO-ZDo7xGco"
      },
      "outputs": [],
      "source": [
        "raw_data = [\n",
        "    {\"question\": \"배송 언제 오나요?\", \"answer\": \"보통 주문 후 2~3일 내 배송됩니다.\"},\n",
        "    {\"question\": \"환불 어떻게 하나요?\", \"answer\": \"구매 후 7일 이내 반품 요청 시 전액 환불 가능합니다.\"},\n",
        "    {\"question\": \"제품이 망가졌어요.\", \"answer\": \"고객센터로 연락 주시면 교환 또는 환불 처리해드립니다.\"},\n",
        "    {\"question\": \"이거 왜 이래요?\", \"answer\": \"자세한 상황을 말씀해 주시면 도와드리겠습니다.\"},\n",
        "    {\"question\": \"환불 안 해주면 고소할게요.\", \"answer\": \"환불 정책에 따라 처리해드리겠습니다. 고객센터로 연락 부탁드립니다.\"}\n",
        "]\n",
        "policy_doc = \"\"\"\n",
        "배송 정책: 모든 주문은 2~3일 내 배송됩니다. 도서산간 지역은 5일 소요.\n",
        "환불 정책: 구매 후 7일 이내 반품 시 전액 환불. 사용한 제품은 환불 불가.\n",
        "불량 처리: 불량 제품은 고객센터 '(1234-5678)' 로 연락 후 교환 또는 환불.\n",
        "\"\"\""
      ]
    },
    {
      "cell_type": "code",
      "execution_count": 83,
      "metadata": {
        "id": "mBoDAjrs0za3"
      },
      "outputs": [],
      "source": [
        "# 반자동 라벨링 : OpenAI로 데이터 생성\n",
        "def generate_faq(indent,policy_doc,num_samples=2):\n",
        "  prompt = f'''\n",
        "  당신은 고객지원 데이터셋 생성 전문가입니다. 아래 정책을 참고하여 {indent}\n",
        "  의도에 맞는 한글 문의-응답 을 존댓말을 사용하고 자연스러운 표현을 사용해서 생성해주세요\n",
        "\n",
        "  정책:\n",
        "  {policy_doc}\n",
        "\n",
        "  출력형식 (JSONL, 각 줄은 하나의 JSON 객체):\n",
        "  {{\"question\": \"문장1\", \"answer\": \"문장2\"}}\n",
        "  {{\"question\": \"문장3\", \"answer\": \"문장4\"}}\n",
        "  ...\n",
        "  총 {num_samples}줄 생성해주세요.\n",
        "  '''\n",
        "  try:\n",
        "    response = client.chat.completions.create(\n",
        "        model = 'gpt-3.5-turbo',\n",
        "        messages = [{\"role\":\"user\",\"content\":prompt}],\n",
        "        temperature = 0.7,\n",
        "        max_tokens = 500,\n",
        "    )\n",
        "    temp =  response.choices[0].message.content\n",
        "    json_lists = []\n",
        "    for i in temp.split(\"\\n\"):\n",
        "      json_lists.append(json.loads(i))\n",
        "    return json_lists\n",
        "  except Exception as e:\n",
        "    print(f\"데이터 생성오류: {e}\")\n",
        "    return []\n",
        "# 데이터셋  설계\n",
        "def design_dataset(raw_data,policy_doc):\n",
        "  # 의도 태그추가\n",
        "  indent_map = {\n",
        "      \"배송\" : \"배송\",\n",
        "      \"환불\" : \"환불\",\n",
        "      \"제품이 망가\" : \"불량\",\n",
        "      \"이거 왜\" : \"모호\",\n",
        "      \"고소\" : \"민감\"\n",
        "  }\n",
        "  datasets = []\n",
        "  for item in raw_data:\n",
        "    question = clean_text(item['question'])\n",
        "    answer = clean_text(item['answer'],is_answer=True)\n",
        "    for k,v in indent_map.items():\n",
        "      if k in question:\n",
        "        indent = v\n",
        "        break\n",
        "    else:\n",
        "      indent = \"일반\"\n",
        "    datasets.append({\"intent\": indent, \"question\": question, \"answer\": answer})\n",
        "  # 반자동 라벨링 : 부족한 의도 보강\n",
        "  indents = [\"배송\",\"환불\",\"불량\",\"모호\",\"민감\"]\n",
        "  for indent in indents:\n",
        "    if sum(1 for d in datasets if d['intent'] == indent) < 3:\n",
        "      generated = generate_faq(indent,policy_doc,num_samples=3)\n",
        "      for item in generated:\n",
        "        datasets.append({\n",
        "            'intent' : indent,\n",
        "            'question' : clean_text(item['question']),\n",
        "            'answer' : clean_text(item['answer'],is_answer=True),\n",
        "        })\n",
        "  return datasets"
      ]
    },
    {
      "cell_type": "code",
      "execution_count": 84,
      "metadata": {
        "id": "t6F-RALZ8cwR"
      },
      "outputs": [],
      "source": [
        "new_dataset = design_dataset(raw_data,policy_doc)"
      ]
    },
    {
      "cell_type": "code",
      "execution_count": 85,
      "metadata": {
        "colab": {
          "base_uri": "https://localhost:8080/"
        },
        "id": "fMFe8_5Z8dsc",
        "outputId": "5a63c54c-c1cf-4d13-843d-5079fbcb5eb4"
      },
      "outputs": [
        {
          "data": {
            "text/plain": [
              "[{'intent': '배송', 'question': '배송 언제 오나요', 'answer': '보통 주문 후 2~3일 내 배송됩니다'},\n",
              " {'intent': '환불',\n",
              "  'question': '환불 어떻게 하나요',\n",
              "  'answer': '구매 후 7일 이내 반품 요청 시 전액 환불 가능합니다'},\n",
              " {'intent': '불량',\n",
              "  'question': '제품이 망가졌어요',\n",
              "  'answer': '고객센터로 연락 주시면 교환 또는 환불 처리해드립니다'},\n",
              " {'intent': '모호',\n",
              "  'question': '이거 왜 이래요',\n",
              "  'answer': '자세한 상황을 말씀해 주시면 도와드리겠습니다'},\n",
              " {'intent': '환불',\n",
              "  'question': '환불 안 해주면 고소할게요',\n",
              "  'answer': '환불 정책에 따라 처리해드리겠습니다 고객센터로 연락 부탁드립니다'},\n",
              " {'intent': '배송',\n",
              "  'question': '안녕하세요 제품을 주문한 지 일이 지나도 아직 배송이 안 돼서 문의 드립니다',\n",
              "  'answer': '안녕하세요 죄송합니다 일반 지역의 경우 2~3일 내에 배송이 완료되지만 도서산간 지역의 경우 5일 소요될 수 있습니다'},\n",
              " {'intent': '배송',\n",
              "  'question': '제품을 사용해본 후에 마음에 들지 않아 반품을 하고 싶은데 환불이 가능한가요',\n",
              "  'answer': '안녕하세요 네 제품 구매 후 7일 이내에 반품 시 전액 환불이 가능합니다 다만 사용한 제품은 환불이 불가능합니다'},\n",
              " {'intent': '배송',\n",
              "  'question': '제품을 받아보니 불량이 있어서 교환하거나 환불을 받고 싶은데 어떻게 해야 하나요',\n",
              "  'answer': \"안녕하세요 죄송합니다 불량 제품은 고객센터 '(12345678)' 로 연락 후 교환 또는 환불이 가능합니다\"},\n",
              " {'intent': '환불',\n",
              "  'question': '상품을 받고 사용해보니 만족스럽지 않아 환불을 신청하고 싶습니다 어떻게 해야 하나요',\n",
              "  'answer': '구매 후 7일 이내에 반품하시면 전액 환불이 가능합니다 사용한 제품의 경우 환불이 불가하니 참고 부탁드립니다'},\n",
              " {'intent': '환불',\n",
              "  'question': '주문한 상품이 아직 도착하지 않았는데 언제쯤 받을 수 있을까요',\n",
              "  'answer': '주문하신 상품은 일반적으로 2~3일 내에 배송됩니다 도서산간 지역의 경우 5일 정도 소요될 수 있으니 양해 부탁드립니다'},\n",
              " {'intent': '환불',\n",
              "  'question': '제품을 받아보니 불량이 있어서 교환을 원합니다 어떻게 진행해야 하나요',\n",
              "  'answer': \"불량 제품의 경우 고객센터 '(12345678)' 로 연락주시면 교환 또는 환불 처리 도와드리겠습니다 불편을 드려 죄송합니다\"},\n",
              " {'intent': '불량',\n",
              "  'question': '주문한 제품이 아직 배송되지 않았는데 언제 받을 수 있나요',\n",
              "  'answer': '모든 주문은 2~3일 내에 배송됩니다 도서산간 지역의 경우 5일 정도 소요될 수 있습니다'},\n",
              " {'intent': '불량',\n",
              "  'question': '제품을 받아보니 불량이 있어 교환하고 싶습니다 어떻게 해야 하나요',\n",
              "  'answer': \"불량 제품은 고객센터 '(12345678)' 로 연락 후 교환 또는 환불이 가능합니다\"},\n",
              " {'intent': '불량',\n",
              "  'question': '환불을 신청하려면 어떤 절차가 필요한가요',\n",
              "  'answer': '구매 후 7일 이내 반품 시 전액 환불이 가능합니다 다만 사용한 제품은 환불이 불가능합니다'},\n",
              " {'intent': '모호',\n",
              "  'question': '상품을 주문한 지 일이 되었는데 아직 배송이 안 왔어요 언제 받을 수 있을까요',\n",
              "  'answer': '고객님께서 주문하신 상품은 2~3일 내에 배송됩니다 도서산간 지역의 경우 5일 정도 소요될 수 있습니다'},\n",
              " {'intent': '모호',\n",
              "  'question': '상품을 받아보니 불량이 있어서 교환을 원합니다 어떻게 해야 하나요',\n",
              "  'answer': \"불량 제품 발견 시 고객센터 '(12345678)' 로 연락주시면 교환 또는 환불 절차를 도와드리겠습니다\"},\n",
              " {'intent': '모호',\n",
              "  'question': '제품을 사용해보니 마음에 들지 않아서 환불을 원합니다 가능한가요',\n",
              "  'answer': '제품을 사용하신 경우 환불이 불가능하지만 구매 후 7일 이내에 반품 시 전액 환불이 가능합니다'},\n",
              " {'intent': '민감',\n",
              "  'question': '제품을 주문한 지 일이 지났는데 아직 배송이 안 되었어요 언제 받을 수 있을까요',\n",
              "  'answer': '고객님 일반 지역의 경우 주문 후 2~3일 내에 배송이 이루어지나 도서산간 지역의 경우 5일정도 소요될 수 있습니다 양해 부탁드립니다'},\n",
              " {'intent': '민감',\n",
              "  'question': '제품을 사용해보니 마음에 들지 않아 반품을 하고 싶은데 가능한가요',\n",
              "  'answer': '고객님 제품 구매 후 7일 이내에 반품 시 전액 환불이 가능하나 사용한 제품의 경우 환불이 불가능합니다 양해 부탁드립니다'},\n",
              " {'intent': '민감',\n",
              "  'question': '제품이 불량인 것 같은데 어떻게 처리해야 하나요',\n",
              "  'answer': \"고객님 불량 제품의 경우 고객센터 '(12345678)' 로 연락 후 교환 또는 환불이 가능합니다 불편을 드려 죄송합니다\"}]"
            ]
          },
          "execution_count": 85,
          "metadata": {},
          "output_type": "execute_result"
        }
      ],
      "source": [
        "new_dataset"
      ]
    },
    {
      "cell_type": "code",
      "execution_count": 86,
      "metadata": {
        "colab": {
          "base_uri": "https://localhost:8080/"
        },
        "id": "VITMWVtOG9UO",
        "outputId": "b908ca11-3739-4cf2-d9d1-728188ec1768"
      },
      "outputs": [
        {
          "data": {
            "text/plain": [
              "Counter({'배송': 4, '환불': 5, '불량': 4, '모호': 4, '민감': 3})"
            ]
          },
          "execution_count": 86,
          "metadata": {},
          "output_type": "execute_result"
        }
      ],
      "source": [
        "from collections import Counter\n",
        "Counter([item['intent'] for item in new_dataset])"
      ]
    },
    {
      "cell_type": "code",
      "execution_count": 87,
      "metadata": {
        "id": "Iix7xNnSdbpx"
      },
      "outputs": [],
      "source": [
        "# jsonl파일 생성\n",
        "create_jsonl(new_dataset,'new_dataset_20250509_t.jsonl')"
      ]
    },
    {
      "cell_type": "code",
      "execution_count": 88,
      "metadata": {
        "colab": {
          "base_uri": "https://localhost:8080/"
        },
        "id": "REcIxtLkde3M",
        "outputId": "1b0b85cb-1db9-4536-f666-44f6b80d91fa"
      },
      "outputs": [
        {
          "name": "stdout",
          "output_type": "stream",
          "text": [
            "file-6aYqj7ddr9hRhYr4NLmd3W\n"
          ]
        }
      ],
      "source": [
        "# 파일 업로드\n",
        "with open(\"new_dataset_20250509_t.jsonl\", \"rb\") as f:\n",
        "  file_response = client.files.create(file=f, purpose='fine-tune')\n",
        "file_id = file_response.id\n",
        "print(file_id)"
      ]
    },
    {
      "cell_type": "code",
      "execution_count": 89,
      "metadata": {
        "id": "xGj1ECopeIoP"
      },
      "outputs": [],
      "source": [
        "# 모델 파인튜닝\n",
        "fine_tune_response = client.fine_tuning.jobs.create(\n",
        "    training_file=file_id,\n",
        "    model=\"gpt-3.5-turbo\"\n",
        ")"
      ]
    },
    {
      "cell_type": "code",
      "execution_count": null,
      "metadata": {
        "id": "sk11o9uqkLbS"
      },
      "outputs": [],
      "source": []
    },
    {
      "cell_type": "markdown",
      "metadata": {
        "id": "_LPyV5Q4kZ2X"
      },
      "source": [
        "정책기반 응답 제어\n",
        "```\n",
        "  회사정책(환불7일 이내), 법률(불법요청 거부), 윤리(민감한문제처리 방안)\n",
        "  응답이 정책을 벗어나면 신뢰도나 법적문제가 발생\n",
        "  fine_tuned 모델이 한글문의에 대해서 정책을 준수하고 민감/모호한 문의에대해 적절히 대응  \n",
        "```"
      ]
    },
    {
      "cell_type": "code",
      "execution_count": 108,
      "metadata": {
        "id": "hDOVuT6MkaJh"
      },
      "outputs": [],
      "source": [
        "policy_doc = \"\"\"\n",
        "배송 정책: 모든 주문은 2~3일 내 배송됩니다. 도서산간 지역은 5일 소요.\n",
        "환불 정책: 구매 후 7일 이내 반품 시 전액 환불. 사용한 제품은 환불 불가.\n",
        "불량 처리: 불량 제품은 고객센터 '(1234-5678)' 로 연락 후 교환 또는 환불.\n",
        "민감 문의 : 법적 위험, 욕설 시 고겍센터(123-456)로 안내\n",
        "법률 준수 : 불법 요청(예: 위조품 요구)은 거부\n",
        "\"\"\"\n",
        "test_query = [\n",
        "    '배송은 언제 오나요', #일반\n",
        "    '환불은 어떻게 하나요?', # 일반\n",
        "    '이거 왜 이래요?', # 모호\n",
        "    \"환불 안 해주면 고소할께요\", # 민감\n",
        "    \"위조품 만들어 주세요\" # 불법\n",
        "]"
      ]
    },
    {
      "cell_type": "code",
      "execution_count": 109,
      "metadata": {
        "colab": {
          "base_uri": "https://localhost:8080/"
        },
        "id": "yK0M4tpikb4u",
        "outputId": "b365e1bd-c54d-4c78-f644-e99f66fb1463"
      },
      "outputs": [
        {
          "data": {
            "text/plain": [
              "('succeeded', 'ft:gpt-3.5-turbo-0125:personal::BVAscc6f')"
            ]
          },
          "execution_count": 109,
          "metadata": {},
          "output_type": "execute_result"
        }
      ],
      "source": [
        "status = client.fine_tuning.jobs.retrieve(fine_tune_response.id)\n",
        "status.status, status.fine_tuned_model"
      ]
    },
    {
      "cell_type": "markdown",
      "metadata": {
        "id": "c4TwGRGrpffy"
      },
      "source": [
        "정책기반 응답 제어\n",
        "```\n",
        "  회사정책(환불7일 이내), 법률(불법요청 거부), 윤리(민감한문제처리 방안)\n",
        "  응답이 정책을 벗어나면 신뢰도나 법적문제가 발생\n",
        "  fine_tuned 모델이 한글문의에 대해서 정책을 준수하고 민감/모호한 문의에대해 적절히 대응  \n",
        "```"
      ]
    },
    {
      "cell_type": "code",
      "execution_count": 125,
      "metadata": {
        "id": "qNwnTlvdpbVU"
      },
      "outputs": [],
      "source": [
        "policy_doc = \"\"\"\n",
        "배송 정책: 모든 주문은 2~3일 내 배송됩니다. 도서산간 지역은 5일 소요.\n",
        "환불 정책: 구매 후 7일 이내 반품 시 전액 환불. 사용한 제품은 환불 불가.\n",
        "불량 처리: 불량 제품은 고객센터 '(1234-5678)' 로 연락 후 교환 또는 환불.\n",
        "민감 문의 : 법적 위험, 욕설 시 고겍센터(123-456)로 안내\n",
        "법률 준수 : 불법 요청(예: 위조품 요구)은 거부\n",
        "모호 정책 : 자세한 내용은 고객센터로 '(1234-5678)' 로 문의해 주세요\n",
        "\"\"\"\n",
        "test_query = [\n",
        "    '배송은 언제 오나요', #일반\n",
        "    '환불은 어떻게 하나요?', # 일반\n",
        "    '이거 왜 이래요?', # 모호\n",
        "    \"환불 안 해주면 고소할께요\", # 민감\n",
        "    \"위조품 만들어 주세요\" # 불법\n",
        "]"
      ]
    },
    {
      "cell_type": "code",
      "execution_count": 126,
      "metadata": {
        "id": "WiEx9OK_qXKT"
      },
      "outputs": [],
      "source": [
        "# 정책외반 필터링\n",
        "def post_process_response(response, policy_doc):\n",
        "  # 금지단어\n",
        "  banned_words = ['욕설','바보','멍청']\n",
        "  if any(word in response for word in banned_words):\n",
        "    return \"부적절한 표현이 포함되어 있습니다. 고객센터로 연락 부탁드립니다.\"\n",
        "  # 정책 위반 체크\n",
        "  if \"환불\" in response and \"7일\" not in response:\n",
        "    return \"구매 후 7일 이내 반품 요청시 전액 환불 가능합니다.\"\n",
        "  if \"불법\" in response or \"위조\"  in response:\n",
        "    return \"불법 요청은 처리 할 수 없습니다.\"\n",
        "  return response\n",
        "# openai api 호출\n",
        "def call_openapi(message, model = 'gpt-3.5-turbo',temperature=0.3,max_tokens=100)  :\n",
        "  try:\n",
        "    response = client.chat.completions.create(\n",
        "        model = model,\n",
        "        messages = [{\"role\":\"user\",\"content\":message}],\n",
        "        temperature = temperature,\n",
        "        max_tokens = max_tokens,\n",
        "    )\n",
        "    raw_response = response.choices[0].message.content\n",
        "    tokens = response.usage.total_tokens\n",
        "    # post processing\n",
        "    pre_process_response =  post_process_response(raw_response, policy_doc)\n",
        "    return pre_process_response, tokens\n",
        "  except Exception as e:\n",
        "    print(f'API 호출 오류: {e}')\n",
        "    return None,0"
      ]
    },
    {
      "cell_type": "code",
      "execution_count": 127,
      "metadata": {
        "colab": {
          "base_uri": "https://localhost:8080/"
        },
        "id": "9FnVJ4E0r-H-",
        "outputId": "940bfbce-f67d-43a4-8364-fd715acea1f2"
      },
      "outputs": [
        {
          "name": "stdout",
          "output_type": "stream",
          "text": [
            "-----------배송은 언제 오나요 -------------\n",
            "답변 : 고객님께서 주문하신 제품은 2~3일 내에 배송됩니다 사용 토큰수 : 49\n",
            "-----------환불은 어떻게 하나요? -------------\n",
            "답변 : 환불은 구매 후 7일 이내에 반품하시면 전액 환불이 가능합니다 사용 토큰수 : 53\n",
            "-----------이거 왜 이래요? -------------\n",
            "답변 : 무슨 일 있으셨나요 도와드리겠습니다 사용 토큰수 : 35\n",
            "-----------환불 안 해주면 고소할께요 -------------\n",
            "답변 : 구매 후 7일 이내 반품 요청시 전액 환불 가능합니다. 사용 토큰수 : 41\n",
            "-----------위조품 만들어 주세요 -------------\n",
            "답변 : 불법 요청은 처리 할 수 없습니다. 사용 토큰수 : 50\n"
          ]
        }
      ],
      "source": [
        "# 테스트\n",
        "for test in test_query:\n",
        "  print(f\"-----------{test} -------------\")\n",
        "  prompt = [\n",
        "      {\"role\":\"system\",\"content\":\"너는 친절한 한글 고객센터 쳇봇이야. 정책 준수, 존댓말 유지\"},\n",
        "      {\"role\":\"user\",\"content\":test},\n",
        "  ]\n",
        "  response_fine_tuned, tokens = call_openapi(test,status.fine_tuned_model)\n",
        "  print(f\"답변 : {response_fine_tuned} 사용 토큰수 : {tokens}\")\n"
      ]
    },
    {
      "cell_type": "markdown",
      "metadata": {
        "id": "BsEJSsuSuwpn"
      },
      "source": [
        "파인튜닝된 모델 + RAG 결합\n",
        "```\n",
        "파인튜닝:모델을 특정 작업(한글고객지원쳇봇)에 최적화, 도메인지식(FAQ응답) 내재화\n",
        "\n",
        "RAG(Retrieval-Augmented Generation): 외부문서(정책문서 ,FAQ데이터)에서 관련 정보를 검색해 LLM이 이를 기반으로 응답 생성, 최신/정확한 정보를 제공기능\n",
        "\n",
        "결합 : 파인튜닝된 모델의 도메인 특화 응답(존댓말, 정책준수) + RAG동적 정보검색 --> 정확하고 자연스러운 한글 쳇봇\n",
        "\n",
        "한글특성: 감정적표현, 모호한문장,정책준수를 RAG로 보완\n",
        "```"
      ]
    },
    {
      "cell_type": "markdown",
      "metadata": {
        "id": "5s4toNBYwJUA"
      },
      "source": [
        "RAG 작동 원리\n",
        "```\n",
        "검색단계\n",
        "  자용자문의(\"배송언제와?)와 관련된 외부문서 조각(정책문서의 배송정책) 검색\n",
        "  방법 : 키워드 매칭, 임베딩 기반 유사도검색(sentence-transfomer)\n",
        "  띄어쓰기나 형태소분석으로 검색 정확도를 높일\n",
        "생성단계\n",
        "  검색된 문서조각을 프롬프트에 포함, LLM이 이를 가공해 응답생성\n",
        "  ex) 검색 : \"배송2~3일\" ->\"주문후 2~3일이내 배송됩니다\"\n",
        "fined_tuning과  결합\n",
        "  fined-tuning모델은 정책준수,존댓말,도메인스타일 학습\n",
        "  RAG는 최신/정확한 데이터 제공, 모델은 이를 자연스럽게 표현\n",
        "```"
      ]
    },
    {
      "cell_type": "markdown",
      "metadata": {
        "id": "QUSkMxXyxNvs"
      },
      "source": [
        "파인튜닝 + RAG 프로세스\n",
        "```\n",
        "문서준비\n",
        "  외부문서: 정책문서 ,FAQ, 고객지원 로그\n",
        "검색시스템 설계\n",
        "  키워드 매칭\n",
        "  임베딩(유사도계산)\n",
        "fined_tuned 모델 준비  \n",
        "프롬프트 설계\n",
        "  검색된 문서 + 문의 포함\n",
        "  ex) \"정책\":배송 \"문의\": 배송언제? \"답변\" :\n",
        "응답생성 및 검증\n",
        "  LLM이 검색도니 정보 기반으로 응답\n",
        "  검증 : 정책준수, 정확성(존댓말, 띄어쓰기.등등)\n",
        "  ```"
      ]
    },
    {
      "cell_type": "code",
      "execution_count": 128,
      "metadata": {
        "id": "BAw6t7vDuch2"
      },
      "outputs": [],
      "source": [
        "client = openai.OpenAI(api_key = api_key)"
      ]
    },
    {
      "cell_type": "code",
      "execution_count": 129,
      "metadata": {
        "id": "cmNwZW0-yIYC"
      },
      "outputs": [],
      "source": [
        "# 간단한 RAG 검색 : 키워드 매칭\n",
        "def simple_rag(query, document):\n",
        "  query = clean_text(query)\n",
        "  # 형태소 분석으로 키워드 추출\n",
        "  keywords = [word for word, pos in okt.pos(query, norm=True, stem=True) if pos in ['Noun','Verb'] ]\n",
        "  lines =  document.split('\\n')\n",
        "  # 키워드 매칭\n",
        "  relevant = [line for line in lines if any( keyword in line for keyword in keywords)]\n",
        "  return '\\n'.join(relevant) or document  # 관련문서가 없으면 전체 반환\n",
        "\n",
        "def call_openapi(message, model = 'gpt-3.5-turbo',temperature=0.3,max_tokens=100)  :\n",
        "  try:\n",
        "    response = client.chat.completions.create(\n",
        "        model = model,\n",
        "        messages = message,\n",
        "        temperature = temperature,\n",
        "        max_tokens = max_tokens,\n",
        "    )\n",
        "    return response.choices[0].message.content, response.usage.total_tokens\n",
        "  except Exception as e:\n",
        "    print(f'API 호출 오류: {e}')\n",
        "    return None,0"
      ]
    },
    {
      "cell_type": "code",
      "execution_count": 131,
      "metadata": {
        "colab": {
          "base_uri": "https://localhost:8080/"
        },
        "id": "zjxS42QY3CjR",
        "outputId": "504ebb4d-793d-4bb7-cfde-16a9b7ce1b13"
      },
      "outputs": [
        {
          "name": "stdout",
          "output_type": "stream",
          "text": [
            "-----------배송은 언제 오나요 -------------\n",
            "배송 정책: 모든 주문은 2~3일 내 배송됩니다. 도서산간 지역은 5일 소요.\n",
            "답변 : 고객님, 주문하신 제품은 2~3일 내에 배송됩니다. 도서산간 지역의 경우 5일 소요될 수 있습니다 사용 토큰수 : 232\n",
            "-----------환불은 어떻게 하나요? -------------\n",
            "환불 정책: 구매 후 7일 이내 반품 시 전액 환불. 사용한 제품은 환불 불가.\n",
            "불량 처리: 불량 제품은 고객센터 '(1234-5678)' 로 연락 후 교환 또는 환불.\n",
            "답변 : 구매 후 7일 이내 반품 시 전액 환불이 가능하며, 사용한 제품은 환불이 불가능합니다 사용 토큰수 : 280\n",
            "-----------이거 왜 이래요? -------------\n",
            "법률 준수 : 불법 요청(예: 위조품 요구)은 거부\n",
            "답변 : 죄송합니다 고객님 불법 요청은 처리할 수 없습니다 사용 토큰수 : 194\n",
            "-----------환불 안 해주면 고소할께요 -------------\n",
            "환불 정책: 구매 후 7일 이내 반품 시 전액 환불. 사용한 제품은 환불 불가.\n",
            "불량 처리: 불량 제품은 고객센터 '(1234-5678)' 로 연락 후 교환 또는 환불.\n",
            "민감 문의 : 법적 위험, 욕설 시 고겍센터(123-456)로 안내\n",
            "답변 : 안녕하세요 죄송합니다 고객님의 요청에 따라 구매 후 7일 이내 반품 시 전액 환불이 가능합니다 사용한 제품은 환불이 불가능하오니 양해 부탁드립니다 사용 토큰수 : 352\n",
            "-----------위조품 만들어 주세요 -------------\n",
            "법률 준수 : 불법 요청(예: 위조품 요구)은 거부\n",
            "답변 : 고객님, 불법 요청에 해당하는 위조품 제작 요청은 거부됩니다. 다른 문의 사항이 있으시면 알려주세요 사용 토큰수 : 222\n"
          ]
        }
      ],
      "source": [
        "# 프롬프트 설계\n",
        "rag_prompt = '''\n",
        "당신은 친절한 고객 지원 챗봇입니다. 다음 정책을 참고해서 문의에 정확히 답변하세요, 존댓말 유지.\n",
        "정책 :\n",
        "{}\n",
        "문의:\"{}\n",
        "답변:\n",
        "'''\n",
        "for teste in test_query:\n",
        "  print(f\"-----------{teste} -------------\")\n",
        "  # RAG 검색\n",
        "  retrived_info = simple_rag(teste, policy_doc)\n",
        "  print(retrived_info)\n",
        "\n",
        "  # RAG + Fine-Tuning\n",
        "  prompt = rag_prompt.format(retrived_info,teste)\n",
        "  message = [\n",
        "      {\"role\":\"system\",\"content\":\"너는 친절한 한글 고객센터 쳇봇이야. 정책 준수, 존댓말 유지\"},\n",
        "      {\"role\":\"user\",\"content\":prompt},\n",
        "  ]\n",
        "  response,tokens =  call_openapi(message,model=status.fine_tuned_model)\n",
        "  print(f\"답변 : {response} 사용 토큰수 : {tokens}\")"
      ]
    },
    {
      "cell_type": "code",
      "execution_count": 133,
      "metadata": {
        "colab": {
          "base_uri": "https://localhost:8080/"
        },
        "id": "QLcBeT0O3C4A",
        "outputId": "1fc1c921-1390-420b-bf92-7f75b0a1cc6e"
      },
      "outputs": [
        {
          "name": "stdout",
          "output_type": "stream",
          "text": [
            "-----------주문한 상품이 배송 중이라고 뜨는데, 일주일째 도착을 안 하고 있어요. 어디서 확인할 수 있나요? -------------\n",
            "배송 정책: 모든 주문은 2~3일 내 배송됩니다. 도서산간 지역은 5일 소요.\n",
            "민감 문의 : 법적 위험, 욕설 시 고겍센터(123-456)로 안내\n",
            "법률 준수 : 불법 요청(예: 위조품 요구)은 거부\n",
            "답변 : 고객님, 불편을 드려 죄송합니다. 배송이 지연된 경우 고객센터(123-456) 로 연락 주시면 신속히 처리 도와드리겠습니다 사용 토큰수 : 356\n",
            "-----------상품을 받았는데 색상이 주문한 것과 달라요. 교환은 어떻게 진행하나요? -------------\n",
            "배송 정책: 모든 주문은 2~3일 내 배송됩니다. 도서산간 지역은 5일 소요.\n",
            "불량 처리: 불량 제품은 고객센터 '(1234-5678)' 로 연락 후 교환 또는 환불.\n",
            "답변 : 불량 제품 교환 또는 환불은 고객센터 '(1234-5678)' 로 연락 후 진행 가능합니다 사용 토큰수 : 311\n",
            "-----------결제는 완료됐는데 주문 내역에 아무 것도 안 떠요. 정상적으로 주문이 된 건가요? -------------\n",
            "배송 정책: 모든 주문은 2~3일 내 배송됩니다. 도서산간 지역은 5일 소요.\n",
            "민감 문의 : 법적 위험, 욕설 시 고겍센터(123-456)로 안내\n",
            "답변 : 고객님, 주문이 정상적으로 완료되면 주문 내역이 마이페이지에 표시됩니다 도서산간 지역의 경우 5일 이내에 배송될 수 있습니다 사용 토큰수 : 307\n",
            "-----------회원 가입을 했는데 할인 쿠폰이 적용이 안 돼요. 어떻게 해야 하나요? -------------\n",
            "민감 문의 : 법적 위험, 욕설 시 고겍센터(123-456)로 안내\n",
            "답변 : 안녕하세요, 먼저 죄송합니다. 고객님의 회원 가입 시 발급된 쿠폰은 '첫 구매 시 사용 가능' 조건이 있습니다. 처음 구매 시 쿠폰을 사용하지 않으셨다면 다음 구매 시 자동으로 적용됩니다. 불편을 드 사용 토큰수 : 304\n",
            "-----------상품 상세 페이지에 사이즈 정보가 없는데, M사이즈의 정확한 치수를 알 수 있을까요? -------------\n",
            "법률 준수 : 불법 요청(예: 위조품 요구)은 거부\n",
            "답변 : 안녕하세요, 죄송하지만 M사이즈의 정확한 치수는 제공되지 않습니다. 다른 사이즈를 참고해 주세요 사용 토큰수 : 250\n"
          ]
        }
      ],
      "source": [
        "test_query = [\n",
        "\"주문한 상품이 배송 중이라고 뜨는데, 일주일째 도착을 안 하고 있어요. 어디서 확인할 수 있나요?\",\n",
        "\"상품을 받았는데 색상이 주문한 것과 달라요. 교환은 어떻게 진행하나요?\",\n",
        "\"결제는 완료됐는데 주문 내역에 아무 것도 안 떠요. 정상적으로 주문이 된 건가요?\",\n",
        "\"회원 가입을 했는데 할인 쿠폰이 적용이 안 돼요. 어떻게 해야 하나요?\",\n",
        "\"상품 상세 페이지에 사이즈 정보가 없는데, M사이즈의 정확한 치수를 알 수 있을까요?\",\n",
        "]\n",
        "\n",
        "for teste in test_query:\n",
        "  print(f\"-----------{teste} -------------\")\n",
        "  # RAG 검색\n",
        "  retrived_info = simple_rag(teste, policy_doc)\n",
        "  print(retrived_info)\n",
        "\n",
        "  # RAG + Fine-Tuning\n",
        "  prompt = rag_prompt.format(retrived_info,teste)\n",
        "  message = [\n",
        "      {\"role\":\"system\",\"content\":\"너는 친절한 한글 고객센터 쳇봇이야. 정책 준수, 존댓말 유지\"},\n",
        "      {\"role\":\"user\",\"content\":prompt},\n",
        "  ]\n",
        "  response,tokens =  call_openapi(message,model=status.fine_tuned_model)\n",
        "  print(f\"답변 : {response} 사용 토큰수 : {tokens}\")"
      ]
    },
    {
      "cell_type": "markdown",
      "metadata": {
        "id": "lG-fbItUE2Br"
      },
      "source": [
        "품질평가\n",
        "```\n",
        "자동 : 키워드 매칭, 유사도 점수  \n",
        "수동 : 존댓말, 자연스러움 점검\n",
        "```"
      ]
    },
    {
      "cell_type": "code",
      "execution_count": 138,
      "metadata": {
        "id": "QAsttJa38vN7"
      },
      "outputs": [],
      "source": [
        "policy_doc = \"\"\"\n",
        "배송 정책: 모든 주문은 2~3일 내 배송됩니다. 도서산간 지역은 5일 소요.\n",
        "환불 정책: 구매 후 7일 이내 반품 시 전액 환불. 사용한 제품은 환불 불가.\n",
        "불량 처리: 불량 제품은 고객센터(1234-5678)로 연락 후 교환 또는 환불.\n",
        "민감 문의: 법적 위협, 욕설 시 고객센터(1234-5678)로 안내.\n",
        "\"\"\"\n",
        "test_inquiries = [\n",
        "    {\"inquiry\": \"배송 언제 오나요?\", \"golden_answer\": \"보통 주문 후 2~3일 내 배송됩니다.\"},\n",
        "    {\"inquiry\": \"환불 어떻게 하나요?\", \"golden_answer\": \"구매 후 7일 이내 반품 요청 시 전액 환불 가능합니다.\"},\n",
        "    {\"inquiry\": \"이거 왜 이래요?\", \"golden_answer\": \"자세한 상황을 말씀해 주시면 도와드리겠습니다.\"},\n",
        "    {\"inquiry\": \"환불 안 해주면 고소할게요.\", \"golden_answer\": \"환불 정책에 따라 7일 이내 반품 시 처리 가능합니다. 고객센터로 연락 부탁드립니다.\"}\n",
        "]"
      ]
    },
    {
      "cell_type": "code",
      "execution_count": 144,
      "metadata": {
        "id": "6oGspNH2E7qX"
      },
      "outputs": [],
      "source": [
        "from sentence_transformers import SentenceTransformer, util\n",
        "\n",
        "client = openai.OpenAI(api_key=api_key)\n",
        "# 품질평가 함수\n",
        "def evaluate_response(response, golden_answer,inquiry):\n",
        "  # 키워드 매칭\n",
        "  keywords = {\n",
        "      \"배송\" : [\"2~3일\"],\n",
        "      \"환불\" : [\"7일\"],\n",
        "      \"고소\" : [\"고객센터\"],\n",
        "      \"이거 왜\" : ['자세한','도와']\n",
        "  }\n",
        "  intent = next((k for k in keywords if k in inquiry), None)\n",
        "  accuracy = all(kw for kw in keywords.get(intent, []))  if intent else True\n",
        "\n",
        "  # 유사도 점수 - 다국어 문장의 의미를 파악하는 모델을 이용해서\n",
        "  model = SentenceTransformer('sentence-transformers/paraphrase-multilingual-MiniLM-L12-v2')\n",
        "  embeddings =  model.encode([response,golden_answer], convert_to_tensor=True)\n",
        "  similarity =  util.cos_sim(embeddings[0], embeddings[1]).item()  # 유사도 점수 (0 ~ 1)\n",
        "\n",
        "  # 자연스러움(간단하게 \"습니다\" 포함여부)\n",
        "  is_natural = any([True for word in [\"습니다\",'됩니다','합니다'] if word in response])\n",
        "  return {\n",
        "    'accuracy':accuracy,\n",
        "    'similarity':similarity,\n",
        "    'is_natural':is_natural\n",
        "  }"
      ]
    },
    {
      "cell_type": "code",
      "execution_count": 146,
      "metadata": {
        "id": "Ib_vk3abG0bG"
      },
      "outputs": [],
      "source": [
        "# 테스트 및 평가\n",
        "results = []\n",
        "issues = []\n",
        "for item in test_inquiries:\n",
        "  inquiry = item['inquiry']\n",
        "  golden_answer = item['golden_answer']\n",
        "  # RAG + Fine-tuning\n",
        "  retrieved_info = simple_rag(inquiry, policy_doc)\n",
        "  prompt = f\"\"\"\n",
        "  당신은 친절한 고객 지원 쳇봇입니다. 다음 정책을 참고해 문의에 정확하게 답변하세요, 존댓말 유지\n",
        "  정책:\n",
        "  {retrieved_info}\n",
        "  문의: \"{inquiry}\"\n",
        "  답변:\n",
        "  \"\"\"\n",
        "  messages = [\n",
        "      {\"role\":\"system\",\"content\":\"정책 준수, 존댓말 유지\"},\n",
        "      {\"role\":\"user\",\"content\":prompt},\n",
        "      ]\n",
        "  response,tokens = call_openapi(messages,model=status.fine_tuned_model)\n",
        "  # print(f\"답변 : {response} 사용 토큰수 : {tokens}\")\n",
        "\n",
        "  # 품질 평가\n",
        "  eval_results = evaluate_response(response,golden_answer,inquiry)\n",
        "  results.append({\n",
        "    \"inquiry\":inquiry,\n",
        "    \"response\"  :response,\n",
        "    \"golden_answer\" :golden_answer,\n",
        "    \"accuracy\" : eval_results['accuracy'],\n",
        "    \"similarity\" : eval_results['similarity'],\n",
        "    \"is_natural\" : eval_results['is_natural'],\n",
        "    \"tokens\" : tokens,\n",
        "  })\n",
        "  if not eval_results['accuracy'] or not eval_results['is_natural']:\n",
        "    issues.append({\n",
        "      \"inquiry\":inquiry,\n",
        "      \"response\"  :response,\n",
        "      \"accuracy\" : eval\n",
        "    })"
      ]
    },
    {
      "cell_type": "code",
      "execution_count": 147,
      "metadata": {
        "colab": {
          "base_uri": "https://localhost:8080/",
          "height": 227
        },
        "id": "avyQzhhGJjEu",
        "outputId": "8bd4d2f1-3ea1-439a-a709-d8cb6ffe1cd9"
      },
      "outputs": [
        {
          "data": {
            "application/vnd.google.colaboratory.intrinsic+json": {
              "summary": "{\n  \"name\": \"df\",\n  \"rows\": 4,\n  \"fields\": [\n    {\n      \"column\": \"inquiry\",\n      \"properties\": {\n        \"dtype\": \"string\",\n        \"num_unique_values\": 4,\n        \"samples\": [\n          \"\\ud658\\ubd88 \\uc5b4\\ub5bb\\uac8c \\ud558\\ub098\\uc694?\",\n          \"\\ud658\\ubd88 \\uc548 \\ud574\\uc8fc\\uba74 \\uace0\\uc18c\\ud560\\uac8c\\uc694.\",\n          \"\\ubc30\\uc1a1 \\uc5b8\\uc81c \\uc624\\ub098\\uc694?\"\n        ],\n        \"semantic_type\": \"\",\n        \"description\": \"\"\n      }\n    },\n    {\n      \"column\": \"response\",\n      \"properties\": {\n        \"dtype\": \"string\",\n        \"num_unique_values\": 4,\n        \"samples\": [\n          \"\\uad6c\\ub9e4 \\ud6c4 7\\uc77c \\uc774\\ub0b4 \\ubc18\\ud488 \\uc2dc \\uc804\\uc561 \\ud658\\ubd88\\uc774 \\uac00\\ub2a5\\ud558\\uba70 \\uc0ac\\uc6a9\\ud55c \\uc81c\\ud488\\uc740 \\ud658\\ubd88\\uc774 \\ubd88\\uac00\\ub2a5\\ud569\\ub2c8\\ub2e4\",\n          \"\\uc8c4\\uc1a1\\ud569\\ub2c8\\ub2e4 \\uace0\\uac1d\\ub2d8, \\ud658\\ubd88 \\uc815\\ucc45\\uc5d0 \\ub530\\ub77c \\uc0ac\\uc6a9\\ud55c \\uc81c\\ud488\\uc740 \\ud658\\ubd88\\uc774 \\ubd88\\uac00\\ub2a5\\ud569\\ub2c8\\ub2e4\",\n          \"\\uace0\\uac1d\\ub2d8, \\\"\\ubc30\\uc1a1 \\uc5b8\\uc81c \\uc624\\ub098\\uc694?\\\"\\ub77c\\ub294 \\ubb38\\uc758\\uc5d0 \\ub2f5\\ubcc0\\ub4dc\\ub9ac\\uba74, \\ubaa8\\ub4e0 \\uc8fc\\ubb38\\uc740 2~3\\uc77c \\ub0b4\\uc5d0 \\ubc30\\uc1a1\\ub418\\uba70, \\ub3c4\\uc11c\\uc0b0\\uac04 \\uc9c0\\uc5ed\\uc758 \\uacbd\\uc6b0 5\\uc77c \\uc18c\\uc694\\ub420 \\uc218 \\uc788\\uc2b5\\ub2c8\\ub2e4\"\n        ],\n        \"semantic_type\": \"\",\n        \"description\": \"\"\n      }\n    },\n    {\n      \"column\": \"golden_answer\",\n      \"properties\": {\n        \"dtype\": \"string\",\n        \"num_unique_values\": 4,\n        \"samples\": [\n          \"\\uad6c\\ub9e4 \\ud6c4 7\\uc77c \\uc774\\ub0b4 \\ubc18\\ud488 \\uc694\\uccad \\uc2dc \\uc804\\uc561 \\ud658\\ubd88 \\uac00\\ub2a5\\ud569\\ub2c8\\ub2e4.\",\n          \"\\ud658\\ubd88 \\uc815\\ucc45\\uc5d0 \\ub530\\ub77c 7\\uc77c \\uc774\\ub0b4 \\ubc18\\ud488 \\uc2dc \\ucc98\\ub9ac \\uac00\\ub2a5\\ud569\\ub2c8\\ub2e4. \\uace0\\uac1d\\uc13c\\ud130\\ub85c \\uc5f0\\ub77d \\ubd80\\ud0c1\\ub4dc\\ub9bd\\ub2c8\\ub2e4.\",\n          \"\\ubcf4\\ud1b5 \\uc8fc\\ubb38 \\ud6c4 2~3\\uc77c \\ub0b4 \\ubc30\\uc1a1\\ub429\\ub2c8\\ub2e4.\"\n        ],\n        \"semantic_type\": \"\",\n        \"description\": \"\"\n      }\n    },\n    {\n      \"column\": \"accuracy\",\n      \"properties\": {\n        \"dtype\": \"boolean\",\n        \"num_unique_values\": 1,\n        \"samples\": [\n          true\n        ],\n        \"semantic_type\": \"\",\n        \"description\": \"\"\n      }\n    },\n    {\n      \"column\": \"similarity\",\n      \"properties\": {\n        \"dtype\": \"number\",\n        \"std\": 0.1532442947737931,\n        \"min\": 0.5585909485816956,\n        \"max\": 0.9039191007614136,\n        \"num_unique_values\": 4,\n        \"samples\": [\n          0.9039191007614136\n        ],\n        \"semantic_type\": \"\",\n        \"description\": \"\"\n      }\n    },\n    {\n      \"column\": \"is_natural\",\n      \"properties\": {\n        \"dtype\": \"boolean\",\n        \"num_unique_values\": 1,\n        \"samples\": [\n          true\n        ],\n        \"semantic_type\": \"\",\n        \"description\": \"\"\n      }\n    },\n    {\n      \"column\": \"tokens\",\n      \"properties\": {\n        \"dtype\": \"number\",\n        \"std\": 38,\n        \"min\": 233,\n        \"max\": 321,\n        \"num_unique_values\": 4,\n        \"samples\": [\n          260\n        ],\n        \"semantic_type\": \"\",\n        \"description\": \"\"\n      }\n    }\n  ]\n}",
              "type": "dataframe",
              "variable_name": "df"
            },
            "text/html": [
              "\n",
              "  <div id=\"df-176c28bc-26c9-409d-ab2e-dcf362e9fcf2\" class=\"colab-df-container\">\n",
              "    <div>\n",
              "<style scoped>\n",
              "    .dataframe tbody tr th:only-of-type {\n",
              "        vertical-align: middle;\n",
              "    }\n",
              "\n",
              "    .dataframe tbody tr th {\n",
              "        vertical-align: top;\n",
              "    }\n",
              "\n",
              "    .dataframe thead th {\n",
              "        text-align: right;\n",
              "    }\n",
              "</style>\n",
              "<table border=\"1\" class=\"dataframe\">\n",
              "  <thead>\n",
              "    <tr style=\"text-align: right;\">\n",
              "      <th></th>\n",
              "      <th>inquiry</th>\n",
              "      <th>response</th>\n",
              "      <th>golden_answer</th>\n",
              "      <th>accuracy</th>\n",
              "      <th>similarity</th>\n",
              "      <th>is_natural</th>\n",
              "      <th>tokens</th>\n",
              "    </tr>\n",
              "  </thead>\n",
              "  <tbody>\n",
              "    <tr>\n",
              "      <th>0</th>\n",
              "      <td>배송 언제 오나요?</td>\n",
              "      <td>고객님, \"배송 언제 오나요?\"라는 문의에 답변드리면, 모든 주문은 2~3일 내에 ...</td>\n",
              "      <td>보통 주문 후 2~3일 내 배송됩니다.</td>\n",
              "      <td>True</td>\n",
              "      <td>0.822503</td>\n",
              "      <td>True</td>\n",
              "      <td>233</td>\n",
              "    </tr>\n",
              "    <tr>\n",
              "      <th>1</th>\n",
              "      <td>환불 어떻게 하나요?</td>\n",
              "      <td>구매 후 7일 이내 반품 시 전액 환불이 가능하며 사용한 제품은 환불이 불가능합니다</td>\n",
              "      <td>구매 후 7일 이내 반품 요청 시 전액 환불 가능합니다.</td>\n",
              "      <td>True</td>\n",
              "      <td>0.903919</td>\n",
              "      <td>True</td>\n",
              "      <td>260</td>\n",
              "    </tr>\n",
              "    <tr>\n",
              "      <th>2</th>\n",
              "      <td>이거 왜 이래요?</td>\n",
              "      <td>죄송합니다 고객님 어떤 제품에 문제가 있으셨나요</td>\n",
              "      <td>자세한 상황을 말씀해 주시면 도와드리겠습니다.</td>\n",
              "      <td>True</td>\n",
              "      <td>0.558591</td>\n",
              "      <td>True</td>\n",
              "      <td>321</td>\n",
              "    </tr>\n",
              "    <tr>\n",
              "      <th>3</th>\n",
              "      <td>환불 안 해주면 고소할게요.</td>\n",
              "      <td>죄송합니다 고객님, 환불 정책에 따라 사용한 제품은 환불이 불가능합니다</td>\n",
              "      <td>환불 정책에 따라 7일 이내 반품 시 처리 가능합니다. 고객센터로 연락 부탁드립니다.</td>\n",
              "      <td>True</td>\n",
              "      <td>0.677806</td>\n",
              "      <td>True</td>\n",
              "      <td>297</td>\n",
              "    </tr>\n",
              "  </tbody>\n",
              "</table>\n",
              "</div>\n",
              "    <div class=\"colab-df-buttons\">\n",
              "\n",
              "  <div class=\"colab-df-container\">\n",
              "    <button class=\"colab-df-convert\" onclick=\"convertToInteractive('df-176c28bc-26c9-409d-ab2e-dcf362e9fcf2')\"\n",
              "            title=\"Convert this dataframe to an interactive table.\"\n",
              "            style=\"display:none;\">\n",
              "\n",
              "  <svg xmlns=\"http://www.w3.org/2000/svg\" height=\"24px\" viewBox=\"0 -960 960 960\">\n",
              "    <path d=\"M120-120v-720h720v720H120Zm60-500h600v-160H180v160Zm220 220h160v-160H400v160Zm0 220h160v-160H400v160ZM180-400h160v-160H180v160Zm440 0h160v-160H620v160ZM180-180h160v-160H180v160Zm440 0h160v-160H620v160Z\"/>\n",
              "  </svg>\n",
              "    </button>\n",
              "\n",
              "  <style>\n",
              "    .colab-df-container {\n",
              "      display:flex;\n",
              "      gap: 12px;\n",
              "    }\n",
              "\n",
              "    .colab-df-convert {\n",
              "      background-color: #E8F0FE;\n",
              "      border: none;\n",
              "      border-radius: 50%;\n",
              "      cursor: pointer;\n",
              "      display: none;\n",
              "      fill: #1967D2;\n",
              "      height: 32px;\n",
              "      padding: 0 0 0 0;\n",
              "      width: 32px;\n",
              "    }\n",
              "\n",
              "    .colab-df-convert:hover {\n",
              "      background-color: #E2EBFA;\n",
              "      box-shadow: 0px 1px 2px rgba(60, 64, 67, 0.3), 0px 1px 3px 1px rgba(60, 64, 67, 0.15);\n",
              "      fill: #174EA6;\n",
              "    }\n",
              "\n",
              "    .colab-df-buttons div {\n",
              "      margin-bottom: 4px;\n",
              "    }\n",
              "\n",
              "    [theme=dark] .colab-df-convert {\n",
              "      background-color: #3B4455;\n",
              "      fill: #D2E3FC;\n",
              "    }\n",
              "\n",
              "    [theme=dark] .colab-df-convert:hover {\n",
              "      background-color: #434B5C;\n",
              "      box-shadow: 0px 1px 3px 1px rgba(0, 0, 0, 0.15);\n",
              "      filter: drop-shadow(0px 1px 2px rgba(0, 0, 0, 0.3));\n",
              "      fill: #FFFFFF;\n",
              "    }\n",
              "  </style>\n",
              "\n",
              "    <script>\n",
              "      const buttonEl =\n",
              "        document.querySelector('#df-176c28bc-26c9-409d-ab2e-dcf362e9fcf2 button.colab-df-convert');\n",
              "      buttonEl.style.display =\n",
              "        google.colab.kernel.accessAllowed ? 'block' : 'none';\n",
              "\n",
              "      async function convertToInteractive(key) {\n",
              "        const element = document.querySelector('#df-176c28bc-26c9-409d-ab2e-dcf362e9fcf2');\n",
              "        const dataTable =\n",
              "          await google.colab.kernel.invokeFunction('convertToInteractive',\n",
              "                                                    [key], {});\n",
              "        if (!dataTable) return;\n",
              "\n",
              "        const docLinkHtml = 'Like what you see? Visit the ' +\n",
              "          '<a target=\"_blank\" href=https://colab.research.google.com/notebooks/data_table.ipynb>data table notebook</a>'\n",
              "          + ' to learn more about interactive tables.';\n",
              "        element.innerHTML = '';\n",
              "        dataTable['output_type'] = 'display_data';\n",
              "        await google.colab.output.renderOutput(dataTable, element);\n",
              "        const docLink = document.createElement('div');\n",
              "        docLink.innerHTML = docLinkHtml;\n",
              "        element.appendChild(docLink);\n",
              "      }\n",
              "    </script>\n",
              "  </div>\n",
              "\n",
              "\n",
              "    <div id=\"df-cec3090b-fe0e-420e-8e16-c75276ba8738\">\n",
              "      <button class=\"colab-df-quickchart\" onclick=\"quickchart('df-cec3090b-fe0e-420e-8e16-c75276ba8738')\"\n",
              "                title=\"Suggest charts\"\n",
              "                style=\"display:none;\">\n",
              "\n",
              "<svg xmlns=\"http://www.w3.org/2000/svg\" height=\"24px\"viewBox=\"0 0 24 24\"\n",
              "     width=\"24px\">\n",
              "    <g>\n",
              "        <path d=\"M19 3H5c-1.1 0-2 .9-2 2v14c0 1.1.9 2 2 2h14c1.1 0 2-.9 2-2V5c0-1.1-.9-2-2-2zM9 17H7v-7h2v7zm4 0h-2V7h2v10zm4 0h-2v-4h2v4z\"/>\n",
              "    </g>\n",
              "</svg>\n",
              "      </button>\n",
              "\n",
              "<style>\n",
              "  .colab-df-quickchart {\n",
              "      --bg-color: #E8F0FE;\n",
              "      --fill-color: #1967D2;\n",
              "      --hover-bg-color: #E2EBFA;\n",
              "      --hover-fill-color: #174EA6;\n",
              "      --disabled-fill-color: #AAA;\n",
              "      --disabled-bg-color: #DDD;\n",
              "  }\n",
              "\n",
              "  [theme=dark] .colab-df-quickchart {\n",
              "      --bg-color: #3B4455;\n",
              "      --fill-color: #D2E3FC;\n",
              "      --hover-bg-color: #434B5C;\n",
              "      --hover-fill-color: #FFFFFF;\n",
              "      --disabled-bg-color: #3B4455;\n",
              "      --disabled-fill-color: #666;\n",
              "  }\n",
              "\n",
              "  .colab-df-quickchart {\n",
              "    background-color: var(--bg-color);\n",
              "    border: none;\n",
              "    border-radius: 50%;\n",
              "    cursor: pointer;\n",
              "    display: none;\n",
              "    fill: var(--fill-color);\n",
              "    height: 32px;\n",
              "    padding: 0;\n",
              "    width: 32px;\n",
              "  }\n",
              "\n",
              "  .colab-df-quickchart:hover {\n",
              "    background-color: var(--hover-bg-color);\n",
              "    box-shadow: 0 1px 2px rgba(60, 64, 67, 0.3), 0 1px 3px 1px rgba(60, 64, 67, 0.15);\n",
              "    fill: var(--button-hover-fill-color);\n",
              "  }\n",
              "\n",
              "  .colab-df-quickchart-complete:disabled,\n",
              "  .colab-df-quickchart-complete:disabled:hover {\n",
              "    background-color: var(--disabled-bg-color);\n",
              "    fill: var(--disabled-fill-color);\n",
              "    box-shadow: none;\n",
              "  }\n",
              "\n",
              "  .colab-df-spinner {\n",
              "    border: 2px solid var(--fill-color);\n",
              "    border-color: transparent;\n",
              "    border-bottom-color: var(--fill-color);\n",
              "    animation:\n",
              "      spin 1s steps(1) infinite;\n",
              "  }\n",
              "\n",
              "  @keyframes spin {\n",
              "    0% {\n",
              "      border-color: transparent;\n",
              "      border-bottom-color: var(--fill-color);\n",
              "      border-left-color: var(--fill-color);\n",
              "    }\n",
              "    20% {\n",
              "      border-color: transparent;\n",
              "      border-left-color: var(--fill-color);\n",
              "      border-top-color: var(--fill-color);\n",
              "    }\n",
              "    30% {\n",
              "      border-color: transparent;\n",
              "      border-left-color: var(--fill-color);\n",
              "      border-top-color: var(--fill-color);\n",
              "      border-right-color: var(--fill-color);\n",
              "    }\n",
              "    40% {\n",
              "      border-color: transparent;\n",
              "      border-right-color: var(--fill-color);\n",
              "      border-top-color: var(--fill-color);\n",
              "    }\n",
              "    60% {\n",
              "      border-color: transparent;\n",
              "      border-right-color: var(--fill-color);\n",
              "    }\n",
              "    80% {\n",
              "      border-color: transparent;\n",
              "      border-right-color: var(--fill-color);\n",
              "      border-bottom-color: var(--fill-color);\n",
              "    }\n",
              "    90% {\n",
              "      border-color: transparent;\n",
              "      border-bottom-color: var(--fill-color);\n",
              "    }\n",
              "  }\n",
              "</style>\n",
              "\n",
              "      <script>\n",
              "        async function quickchart(key) {\n",
              "          const quickchartButtonEl =\n",
              "            document.querySelector('#' + key + ' button');\n",
              "          quickchartButtonEl.disabled = true;  // To prevent multiple clicks.\n",
              "          quickchartButtonEl.classList.add('colab-df-spinner');\n",
              "          try {\n",
              "            const charts = await google.colab.kernel.invokeFunction(\n",
              "                'suggestCharts', [key], {});\n",
              "          } catch (error) {\n",
              "            console.error('Error during call to suggestCharts:', error);\n",
              "          }\n",
              "          quickchartButtonEl.classList.remove('colab-df-spinner');\n",
              "          quickchartButtonEl.classList.add('colab-df-quickchart-complete');\n",
              "        }\n",
              "        (() => {\n",
              "          let quickchartButtonEl =\n",
              "            document.querySelector('#df-cec3090b-fe0e-420e-8e16-c75276ba8738 button');\n",
              "          quickchartButtonEl.style.display =\n",
              "            google.colab.kernel.accessAllowed ? 'block' : 'none';\n",
              "        })();\n",
              "      </script>\n",
              "    </div>\n",
              "\n",
              "  <div id=\"id_aee5e6d2-6baa-4bc4-b2c5-44fe00d4582f\">\n",
              "    <style>\n",
              "      .colab-df-generate {\n",
              "        background-color: #E8F0FE;\n",
              "        border: none;\n",
              "        border-radius: 50%;\n",
              "        cursor: pointer;\n",
              "        display: none;\n",
              "        fill: #1967D2;\n",
              "        height: 32px;\n",
              "        padding: 0 0 0 0;\n",
              "        width: 32px;\n",
              "      }\n",
              "\n",
              "      .colab-df-generate:hover {\n",
              "        background-color: #E2EBFA;\n",
              "        box-shadow: 0px 1px 2px rgba(60, 64, 67, 0.3), 0px 1px 3px 1px rgba(60, 64, 67, 0.15);\n",
              "        fill: #174EA6;\n",
              "      }\n",
              "\n",
              "      [theme=dark] .colab-df-generate {\n",
              "        background-color: #3B4455;\n",
              "        fill: #D2E3FC;\n",
              "      }\n",
              "\n",
              "      [theme=dark] .colab-df-generate:hover {\n",
              "        background-color: #434B5C;\n",
              "        box-shadow: 0px 1px 3px 1px rgba(0, 0, 0, 0.15);\n",
              "        filter: drop-shadow(0px 1px 2px rgba(0, 0, 0, 0.3));\n",
              "        fill: #FFFFFF;\n",
              "      }\n",
              "    </style>\n",
              "    <button class=\"colab-df-generate\" onclick=\"generateWithVariable('df')\"\n",
              "            title=\"Generate code using this dataframe.\"\n",
              "            style=\"display:none;\">\n",
              "\n",
              "  <svg xmlns=\"http://www.w3.org/2000/svg\" height=\"24px\"viewBox=\"0 0 24 24\"\n",
              "       width=\"24px\">\n",
              "    <path d=\"M7,19H8.4L18.45,9,17,7.55,7,17.6ZM5,21V16.75L18.45,3.32a2,2,0,0,1,2.83,0l1.4,1.43a1.91,1.91,0,0,1,.58,1.4,1.91,1.91,0,0,1-.58,1.4L9.25,21ZM18.45,9,17,7.55Zm-12,3A5.31,5.31,0,0,0,4.9,8.1,5.31,5.31,0,0,0,1,6.5,5.31,5.31,0,0,0,4.9,4.9,5.31,5.31,0,0,0,6.5,1,5.31,5.31,0,0,0,8.1,4.9,5.31,5.31,0,0,0,12,6.5,5.46,5.46,0,0,0,6.5,12Z\"/>\n",
              "  </svg>\n",
              "    </button>\n",
              "    <script>\n",
              "      (() => {\n",
              "      const buttonEl =\n",
              "        document.querySelector('#id_aee5e6d2-6baa-4bc4-b2c5-44fe00d4582f button.colab-df-generate');\n",
              "      buttonEl.style.display =\n",
              "        google.colab.kernel.accessAllowed ? 'block' : 'none';\n",
              "\n",
              "      buttonEl.onclick = () => {\n",
              "        google.colab.notebook.generateWithVariable('df');\n",
              "      }\n",
              "      })();\n",
              "    </script>\n",
              "  </div>\n",
              "\n",
              "    </div>\n",
              "  </div>\n"
            ],
            "text/plain": [
              "           inquiry                                           response  \\\n",
              "0       배송 언제 오나요?  고객님, \"배송 언제 오나요?\"라는 문의에 답변드리면, 모든 주문은 2~3일 내에 ...   \n",
              "1      환불 어떻게 하나요?     구매 후 7일 이내 반품 시 전액 환불이 가능하며 사용한 제품은 환불이 불가능합니다   \n",
              "2        이거 왜 이래요?                         죄송합니다 고객님 어떤 제품에 문제가 있으셨나요   \n",
              "3  환불 안 해주면 고소할게요.            죄송합니다 고객님, 환불 정책에 따라 사용한 제품은 환불이 불가능합니다   \n",
              "\n",
              "                                     golden_answer  accuracy  similarity  \\\n",
              "0                            보통 주문 후 2~3일 내 배송됩니다.      True    0.822503   \n",
              "1                  구매 후 7일 이내 반품 요청 시 전액 환불 가능합니다.      True    0.903919   \n",
              "2                        자세한 상황을 말씀해 주시면 도와드리겠습니다.      True    0.558591   \n",
              "3  환불 정책에 따라 7일 이내 반품 시 처리 가능합니다. 고객센터로 연락 부탁드립니다.      True    0.677806   \n",
              "\n",
              "   is_natural  tokens  \n",
              "0        True     233  \n",
              "1        True     260  \n",
              "2        True     321  \n",
              "3        True     297  "
            ]
          },
          "execution_count": 147,
          "metadata": {},
          "output_type": "execute_result"
        }
      ],
      "source": [
        "import pandas as pd\n",
        "df= pd.DataFrame(results)\n",
        "df"
      ]
    },
    {
      "cell_type": "code",
      "execution_count": null,
      "metadata": {
        "id": "Ep52nvDfOVBz"
      },
      "outputs": [],
      "source": []
    }
  ],
  "metadata": {
    "colab": {
      "provenance": []
    },
    "kernelspec": {
      "display_name": "Python 3",
      "name": "python3"
    },
    "language_info": {
      "name": "python"
    }
  },
  "nbformat": 4,
  "nbformat_minor": 0
}
