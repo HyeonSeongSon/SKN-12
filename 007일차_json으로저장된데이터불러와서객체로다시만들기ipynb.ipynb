{
  "nbformat": 4,
  "nbformat_minor": 0,
  "metadata": {
    "colab": {
      "provenance": []
    },
    "kernelspec": {
      "name": "python3",
      "display_name": "Python 3"
    },
    "language_info": {
      "name": "python"
    }
  },
  "cells": [
    {
      "cell_type": "code",
      "execution_count": null,
      "metadata": {
        "colab": {
          "base_uri": "https://localhost:8080/"
        },
        "id": "1YPPAqHCYdSS",
        "outputId": "fecf1d0b-685a-4638-9314-27fbd335bd96"
      },
      "outputs": [
        {
          "output_type": "stream",
          "name": "stdout",
          "text": [
            "홍길동, 20, {'kor': 100, 'eng': 98, 'maht': 95}\n",
            "이순신, 25, {'kor': 90, 'eng': 94, 'maht': 98}\n"
          ]
        }
      ],
      "source": [
        "# 파일 생성 및 불러오기\n",
        "# import json -> 문자열 형태의 dict 구조를 실제 dict로 변환\n",
        "import sys\n",
        "sys.path.append('/content/drive/MyDrive/data/')\n",
        "\n",
        "import json\n",
        "from Student import Student\n",
        "\n",
        "# 학생객체를 파일에 저장 함수\n",
        "# students = [s1,s2,.....]\n",
        "# 객체의 모든 데이터를 딕셔너리로 변환한 후 json을 이용해서 문자열형태로 파일에 저장\n",
        "def save_students(Student, filename = '/content/drive/MyDrive/data/student.json'):\n",
        "  data = [student.to_dict() for student in students]\n",
        "  with open(filename,'w',encoding='utf-8') as f:\n",
        "    json.dump(data,f,ensure_ascii=False, indent = 2)  # ensure_ascii = 한글깨짐 방지, indent = 들여쓰기 칸수\n",
        "\n",
        "# jsom형태(문자열로 된 dict)된 문자열을 읽어서 실제 객체로 반환 --> 리스트\n",
        "def load_students(filename = '/content/drive/MyDrive/data/student.json'):\n",
        "  with open(filename,'r',encoding='utf-8') as f:\n",
        "    data = json.load(f)\n",
        "  return [Student.from_dict(student) for student in data]\n",
        "\n",
        "# 사용\n",
        "s1 = Student('홍길동', 20, {'kor': 100,'eng':98, 'maht':95})\n",
        "s2 = Student('이순신', 25, {'kor': 90,'eng':94, 'maht':98})\n",
        "students = [s1,s2]\n",
        "save_students(students)   # 객체 데이터를 파일로 저장\n",
        "\n",
        "# 불러오기\n",
        "loaded_student = load_students()\n",
        "for student in loaded_student:\n",
        "  print(student)"
      ]
    }
  ]
}