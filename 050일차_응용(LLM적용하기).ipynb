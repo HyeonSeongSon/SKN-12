{
  "cells": [
    {
      "cell_type": "markdown",
      "metadata": {
        "id": "m7bMdhwZ0j1k"
      },
      "source": [
        "Rag Langchain을 이용해서 한글문서를 기반으로 대화 맥락을 유지하면서 문서를 참조하는 챗봇\n",
        "```\n",
        "RAG : Retrieval Argumented Generation\n",
        "외부문서를 검색(Retrieval) 해서 LLM의 답변생성(Generation)을 강화하는 기술\n",
        "  문서검색 : 질문과 관련된 문서를 벡터 데이터베이스에서 검색\n",
        "  문서임베딩 : 텍스트를 벡터화(의미적 유사성)\n",
        "  답변생성 : 검색된 문서를 LLM전달해서 맥락에 맞는 답변 생성\n",
        "  장점 :\n",
        "  한글고려사항  \n",
        "LangChain : 오픈소스 프레임워크\n",
        "  Prompt Templates : 동적 프롬프트 생성\n",
        "  Memory : 대화맥락 유지\n",
        "  Chains : 작업흐름관리\n",
        "  Retryival : 외부문서 검색\n",
        "  한글지원 잘됨, open api와 호환\n",
        "  문서로드 : TextLoader -> Document객체 변환 - 이후 문서를 작은 단위로 분할(청크)\n",
        "\n",
        "```"
      ]
    },
    {
      "cell_type": "code",
      "execution_count": null,
      "metadata": {
        "id": "l7phIzK-0s8j"
      },
      "outputs": [],
      "source": [
        "api_key = 'your_openai_api_key'"
      ]
    },
    {
      "cell_type": "code",
      "execution_count": null,
      "metadata": {
        "colab": {
          "base_uri": "https://localhost:8080/"
        },
        "collapsed": true,
        "id": "NFmAKbxT3K3u",
        "outputId": "a8648c8c-18f8-43f6-993a-b8da7de51c37"
      },
      "outputs": [
        {
          "name": "stdout",
          "output_type": "stream",
          "text": [
            "Requirement already satisfied: langchain-community in /usr/local/lib/python3.11/dist-packages (0.3.23)\n",
            "Requirement already satisfied: langchain-core<1.0.0,>=0.3.56 in /usr/local/lib/python3.11/dist-packages (from langchain-community) (0.3.56)\n",
            "Requirement already satisfied: langchain<1.0.0,>=0.3.24 in /usr/local/lib/python3.11/dist-packages (from langchain-community) (0.3.24)\n",
            "Requirement already satisfied: SQLAlchemy<3,>=1.4 in /usr/local/lib/python3.11/dist-packages (from langchain-community) (2.0.40)\n",
            "Requirement already satisfied: requests<3,>=2 in /usr/local/lib/python3.11/dist-packages (from langchain-community) (2.32.3)\n",
            "Requirement already satisfied: PyYAML>=5.3 in /usr/local/lib/python3.11/dist-packages (from langchain-community) (6.0.2)\n",
            "Requirement already satisfied: aiohttp<4.0.0,>=3.8.3 in /usr/local/lib/python3.11/dist-packages (from langchain-community) (3.11.15)\n",
            "Requirement already satisfied: tenacity!=8.4.0,<10,>=8.1.0 in /usr/local/lib/python3.11/dist-packages (from langchain-community) (9.1.2)\n",
            "Requirement already satisfied: dataclasses-json<0.7,>=0.5.7 in /usr/local/lib/python3.11/dist-packages (from langchain-community) (0.6.7)\n",
            "Requirement already satisfied: pydantic-settings<3.0.0,>=2.4.0 in /usr/local/lib/python3.11/dist-packages (from langchain-community) (2.9.1)\n",
            "Requirement already satisfied: langsmith<0.4,>=0.1.125 in /usr/local/lib/python3.11/dist-packages (from langchain-community) (0.3.39)\n",
            "Requirement already satisfied: httpx-sse<1.0.0,>=0.4.0 in /usr/local/lib/python3.11/dist-packages (from langchain-community) (0.4.0)\n",
            "Requirement already satisfied: numpy>=1.26.2 in /usr/local/lib/python3.11/dist-packages (from langchain-community) (2.0.2)\n",
            "Requirement already satisfied: aiohappyeyeballs>=2.3.0 in /usr/local/lib/python3.11/dist-packages (from aiohttp<4.0.0,>=3.8.3->langchain-community) (2.6.1)\n",
            "Requirement already satisfied: aiosignal>=1.1.2 in /usr/local/lib/python3.11/dist-packages (from aiohttp<4.0.0,>=3.8.3->langchain-community) (1.3.2)\n",
            "Requirement already satisfied: attrs>=17.3.0 in /usr/local/lib/python3.11/dist-packages (from aiohttp<4.0.0,>=3.8.3->langchain-community) (25.3.0)\n",
            "Requirement already satisfied: frozenlist>=1.1.1 in /usr/local/lib/python3.11/dist-packages (from aiohttp<4.0.0,>=3.8.3->langchain-community) (1.6.0)\n",
            "Requirement already satisfied: multidict<7.0,>=4.5 in /usr/local/lib/python3.11/dist-packages (from aiohttp<4.0.0,>=3.8.3->langchain-community) (6.4.3)\n",
            "Requirement already satisfied: propcache>=0.2.0 in /usr/local/lib/python3.11/dist-packages (from aiohttp<4.0.0,>=3.8.3->langchain-community) (0.3.1)\n",
            "Requirement already satisfied: yarl<2.0,>=1.17.0 in /usr/local/lib/python3.11/dist-packages (from aiohttp<4.0.0,>=3.8.3->langchain-community) (1.20.0)\n",
            "Requirement already satisfied: marshmallow<4.0.0,>=3.18.0 in /usr/local/lib/python3.11/dist-packages (from dataclasses-json<0.7,>=0.5.7->langchain-community) (3.26.1)\n",
            "Requirement already satisfied: typing-inspect<1,>=0.4.0 in /usr/local/lib/python3.11/dist-packages (from dataclasses-json<0.7,>=0.5.7->langchain-community) (0.9.0)\n",
            "Requirement already satisfied: langchain-text-splitters<1.0.0,>=0.3.8 in /usr/local/lib/python3.11/dist-packages (from langchain<1.0.0,>=0.3.24->langchain-community) (0.3.8)\n",
            "Requirement already satisfied: pydantic<3.0.0,>=2.7.4 in /usr/local/lib/python3.11/dist-packages (from langchain<1.0.0,>=0.3.24->langchain-community) (2.11.4)\n",
            "Requirement already satisfied: jsonpatch<2.0,>=1.33 in /usr/local/lib/python3.11/dist-packages (from langchain-core<1.0.0,>=0.3.56->langchain-community) (1.33)\n",
            "Requirement already satisfied: packaging<25,>=23.2 in /usr/local/lib/python3.11/dist-packages (from langchain-core<1.0.0,>=0.3.56->langchain-community) (24.2)\n",
            "Requirement already satisfied: typing-extensions>=4.7 in /usr/local/lib/python3.11/dist-packages (from langchain-core<1.0.0,>=0.3.56->langchain-community) (4.13.2)\n",
            "Requirement already satisfied: httpx<1,>=0.23.0 in /usr/local/lib/python3.11/dist-packages (from langsmith<0.4,>=0.1.125->langchain-community) (0.28.1)\n",
            "Requirement already satisfied: orjson<4.0.0,>=3.9.14 in /usr/local/lib/python3.11/dist-packages (from langsmith<0.4,>=0.1.125->langchain-community) (3.10.18)\n",
            "Requirement already satisfied: requests-toolbelt<2.0.0,>=1.0.0 in /usr/local/lib/python3.11/dist-packages (from langsmith<0.4,>=0.1.125->langchain-community) (1.0.0)\n",
            "Requirement already satisfied: zstandard<0.24.0,>=0.23.0 in /usr/local/lib/python3.11/dist-packages (from langsmith<0.4,>=0.1.125->langchain-community) (0.23.0)\n",
            "Requirement already satisfied: python-dotenv>=0.21.0 in /usr/local/lib/python3.11/dist-packages (from pydantic-settings<3.0.0,>=2.4.0->langchain-community) (1.1.0)\n",
            "Requirement already satisfied: typing-inspection>=0.4.0 in /usr/local/lib/python3.11/dist-packages (from pydantic-settings<3.0.0,>=2.4.0->langchain-community) (0.4.0)\n",
            "Requirement already satisfied: charset-normalizer<4,>=2 in /usr/local/lib/python3.11/dist-packages (from requests<3,>=2->langchain-community) (3.4.1)\n",
            "Requirement already satisfied: idna<4,>=2.5 in /usr/local/lib/python3.11/dist-packages (from requests<3,>=2->langchain-community) (3.10)\n",
            "Requirement already satisfied: urllib3<3,>=1.21.1 in /usr/local/lib/python3.11/dist-packages (from requests<3,>=2->langchain-community) (2.4.0)\n",
            "Requirement already satisfied: certifi>=2017.4.17 in /usr/local/lib/python3.11/dist-packages (from requests<3,>=2->langchain-community) (2025.4.26)\n",
            "Requirement already satisfied: greenlet>=1 in /usr/local/lib/python3.11/dist-packages (from SQLAlchemy<3,>=1.4->langchain-community) (3.2.1)\n",
            "Requirement already satisfied: anyio in /usr/local/lib/python3.11/dist-packages (from httpx<1,>=0.23.0->langsmith<0.4,>=0.1.125->langchain-community) (4.9.0)\n",
            "Requirement already satisfied: httpcore==1.* in /usr/local/lib/python3.11/dist-packages (from httpx<1,>=0.23.0->langsmith<0.4,>=0.1.125->langchain-community) (1.0.9)\n",
            "Requirement already satisfied: h11>=0.16 in /usr/local/lib/python3.11/dist-packages (from httpcore==1.*->httpx<1,>=0.23.0->langsmith<0.4,>=0.1.125->langchain-community) (0.16.0)\n",
            "Requirement already satisfied: jsonpointer>=1.9 in /usr/local/lib/python3.11/dist-packages (from jsonpatch<2.0,>=1.33->langchain-core<1.0.0,>=0.3.56->langchain-community) (3.0.0)\n",
            "Requirement already satisfied: annotated-types>=0.6.0 in /usr/local/lib/python3.11/dist-packages (from pydantic<3.0.0,>=2.7.4->langchain<1.0.0,>=0.3.24->langchain-community) (0.7.0)\n",
            "Requirement already satisfied: pydantic-core==2.33.2 in /usr/local/lib/python3.11/dist-packages (from pydantic<3.0.0,>=2.7.4->langchain<1.0.0,>=0.3.24->langchain-community) (2.33.2)\n",
            "Requirement already satisfied: mypy-extensions>=0.3.0 in /usr/local/lib/python3.11/dist-packages (from typing-inspect<1,>=0.4.0->dataclasses-json<0.7,>=0.5.7->langchain-community) (1.1.0)\n",
            "Requirement already satisfied: sniffio>=1.1 in /usr/local/lib/python3.11/dist-packages (from anyio->httpx<1,>=0.23.0->langsmith<0.4,>=0.1.125->langchain-community) (1.3.1)\n"
          ]
        }
      ],
      "source": [
        "!pip install -U langchain-community"
      ]
    },
    {
      "cell_type": "code",
      "execution_count": null,
      "metadata": {
        "id": "nCsCR6qp1Ewy"
      },
      "outputs": [],
      "source": [
        "from langchain.document_loaders import TextLoader\n",
        "from langchain.text_splitter import RecursiveCharacterTextSplitter\n",
        "from langchain.embeddings import OpenAIEmbeddings\n",
        "from langchain.vectorstores import Chroma"
      ]
    },
    {
      "cell_type": "code",
      "execution_count": null,
      "metadata": {
        "colab": {
          "base_uri": "https://localhost:8080/"
        },
        "id": "V4pYD_Au1EuF",
        "outputId": "b37af256-0ae5-490d-c4f7-6588639bfc45"
      },
      "outputs": [
        {
          "data": {
            "text/plain": [
              "1"
            ]
          },
          "execution_count": 4,
          "metadata": {},
          "output_type": "execute_result"
        }
      ],
      "source": [
        "# 문서 로드\n",
        "loader = TextLoader('/content/korea_culture.txt')\n",
        "documents = loader.load()\n",
        "len(documents)"
      ]
    },
    {
      "cell_type": "code",
      "execution_count": null,
      "metadata": {
        "colab": {
          "base_uri": "https://localhost:8080/"
        },
        "id": "yCoVX_dS0E3Z",
        "outputId": "bc3c779c-ae1d-4dd0-a0a5-1ba85dbe4529"
      },
      "outputs": [
        {
          "data": {
            "text/plain": [
              "[Document(metadata={'source': '/content/korea_culture.txt'}, page_content='대한민국은 동아시아에 위치한 나라로, 공식 명칭은 대한민국입니다.\\n한국의 수도는 서울이며, 서울은 약 970만 명의 인구를 가진 대도시입니다.'),\n",
              " Document(metadata={'source': '/content/korea_culture.txt'}, page_content='한국의 수도는 서울이며, 서울은 약 970만 명의 인구를 가진 대도시입니다.\\n한국의 공식 언어는 한글로, 세종대왕이 1443년에 창제했습니다.'),\n",
              " Document(metadata={'source': '/content/korea_culture.txt'}, page_content='한국의 공식 언어는 한글로, 세종대왕이 1443년에 창제했습니다.\\n한국의 전통 음식으로는 김치, 불고기, 비빔밥, 떡볶이 등이 있습니다.'),\n",
              " Document(metadata={'source': '/content/korea_culture.txt'}, page_content='한국의 전통 음식으로는 김치, 불고기, 비빔밥, 떡볶이 등이 있습니다.\\n한국은 K-팝과 드라마로 전 세계적으로 문화적 영향력을 확대하고 있습니다.'),\n",
              " Document(metadata={'source': '/content/korea_culture.txt'}, page_content='한국은 K-팝과 드라마로 전 세계적으로 문화적 영향력을 확대하고 있습니다.\\n한국의 주요 명절로는 설날과 추석이 있으며, 가족들이 모여 전통 음식을 나눕니다.'),\n",
              " Document(metadata={'source': '/content/korea_culture.txt'}, page_content='한국의 주요 명절로는 설날과 추석이 있으며, 가족들이 모여 전통 음식을 나눕니다.\\n한국의 전통 의상인 한복은 색상과 디자인이 화려하며, 명절이나 결혼식에서 자주 입습니다.')]"
            ]
          },
          "execution_count": 5,
          "metadata": {},
          "output_type": "execute_result"
        }
      ],
      "source": [
        "# 문서 분할\n",
        "text_splitter =  RecursiveCharacterTextSplitter(chunk_size=100, chunk_overlap=50,\n",
        "                                                separators=['\\n\\n', '\\n', '.', '!', '?', ',', ' '],\n",
        "                                                keep_separator=True)\n",
        "texts = text_splitter.split_documents(documents)\n",
        "texts"
      ]
    },
    {
      "cell_type": "code",
      "execution_count": null,
      "metadata": {
        "colab": {
          "base_uri": "https://localhost:8080/"
        },
        "id": "7m_te1DR4Xs7",
        "outputId": "1104d8f4-2653-4a38-a282-70f834c3be14"
      },
      "outputs": [
        {
          "name": "stdout",
          "output_type": "stream",
          "text": [
            "문서길이 : 294\n",
            "줄바꿈수' : 6\n",
            "구분점 수 : 7\n"
          ]
        }
      ],
      "source": [
        "# 문서의 내용 및 길이 확인\n",
        "with open('/content/korea_culture.txt', encoding='utf-8') as f:\n",
        "  text = f.read()\n",
        "  print(f'문서길이 : {len(text)}')\n",
        "  temp = text.count('\\n')\n",
        "  print(f\"줄바꿈수' : {temp}\")\n",
        "  print(f\"구분점 수 : {text.count('.')}\")"
      ]
    },
    {
      "cell_type": "code",
      "execution_count": null,
      "metadata": {
        "id": "hxsvlRL16qAu"
      },
      "outputs": [],
      "source": [
        "def load_and_seperare_document(texts = 'korea_culture.txt',chunk_size=100,chunk_overlap=10):\n",
        "  # 문서로드\n",
        "  loader = TextLoader(texts)\n",
        "  documents = loader.load()\n",
        "  # 문서내용 및 길이 확인\n",
        "  with open(texts, encoding='utf-8') as f:\n",
        "    text = f.read()\n",
        "    print(f'문서길이 : {len(text)}')\n",
        "    temp = text.count('\\n')\n",
        "    print(f\"줄바꿈 수 : {temp}\")\n",
        "    print(f\"구분점 수 : {text.count('.')}\")\n",
        "  # 문서 분할\n",
        "  # 분할된 청크를 반환\n",
        "  text_splitter =  RecursiveCharacterTextSplitter(chunk_size=chunk_size, chunk_overlap=chunk_overlap,\n",
        "                                                separators=['\\n\\n', '\\n', '.', '!', '?', ',', ' '],\n",
        "                                                keep_separator=True)\n",
        "  texts = text_splitter.split_documents(documents)\n",
        "  print(f'분할된 청크수 : {len(texts)}')\n",
        "  for i,chunk in enumerate(texts):\n",
        "    print(f'청크{i+1} : {chunk.page_content}')\n",
        "  return texts"
      ]
    },
    {
      "cell_type": "code",
      "execution_count": null,
      "metadata": {
        "colab": {
          "base_uri": "https://localhost:8080/"
        },
        "id": "CVm4I4qO869r",
        "outputId": "e711fbd0-8e20-4bb6-8c80-aa91b24975ba"
      },
      "outputs": [
        {
          "name": "stdout",
          "output_type": "stream",
          "text": [
            "문서길이 : 294\n",
            "줄바꿈 수 : 6\n",
            "구분점 수 : 7\n",
            "분할된 청크수 : 4\n",
            "청크1 : 대한민국은 동아시아에 위치한 나라로, 공식 명칭은 대한민국입니다.\n",
            "한국의 수도는 서울이며, 서울은 약 970만 명의 인구를 가진 대도시입니다.\n",
            "청크2 : 한국의 공식 언어는 한글로, 세종대왕이 1443년에 창제했습니다.\n",
            "한국의 전통 음식으로는 김치, 불고기, 비빔밥, 떡볶이 등이 있습니다.\n",
            "청크3 : 한국은 K-팝과 드라마로 전 세계적으로 문화적 영향력을 확대하고 있습니다.\n",
            "한국의 주요 명절로는 설날과 추석이 있으며, 가족들이 모여 전통 음식을 나눕니다.\n",
            "청크4 : 한국의 전통 의상인 한복은 색상과 디자인이 화려하며, 명절이나 결혼식에서 자주 입습니다.\n"
          ]
        },
        {
          "data": {
            "text/plain": [
              "[Document(metadata={'source': 'korea_culture.txt'}, page_content='대한민국은 동아시아에 위치한 나라로, 공식 명칭은 대한민국입니다.\\n한국의 수도는 서울이며, 서울은 약 970만 명의 인구를 가진 대도시입니다.'),\n",
              " Document(metadata={'source': 'korea_culture.txt'}, page_content='한국의 공식 언어는 한글로, 세종대왕이 1443년에 창제했습니다.\\n한국의 전통 음식으로는 김치, 불고기, 비빔밥, 떡볶이 등이 있습니다.'),\n",
              " Document(metadata={'source': 'korea_culture.txt'}, page_content='한국은 K-팝과 드라마로 전 세계적으로 문화적 영향력을 확대하고 있습니다.\\n한국의 주요 명절로는 설날과 추석이 있으며, 가족들이 모여 전통 음식을 나눕니다.'),\n",
              " Document(metadata={'source': 'korea_culture.txt'}, page_content='한국의 전통 의상인 한복은 색상과 디자인이 화려하며, 명절이나 결혼식에서 자주 입습니다.')]"
            ]
          },
          "execution_count": 8,
          "metadata": {},
          "output_type": "execute_result"
        }
      ],
      "source": [
        "load_and_seperare_document()"
      ]
    },
    {
      "cell_type": "markdown",
      "metadata": {
        "id": "Bz6LjWbRBD9S"
      },
      "source": [
        "RAG 구현\n",
        "```\n",
        "  벡터데이터베이스 Chroma 가볍고 빠름 -> Langchain과 잘어울림\n",
        "  임베딩 : OpenAIEmbedding : 다국어 지원\n",
        "  검색 : 질문도 벡터화해서 데이터베이스에 저장된 벡트와 유사도 검색\n",
        "\n",
        "  RetrivalQA체인:\n",
        "    질문 -> 벡터데이터베이스 에서 문서 검색 -> 검색된 문서를 LLM에 전달 -> 답변\n",
        "    \n",
        "```"
      ]
    },
    {
      "cell_type": "code",
      "execution_count": null,
      "metadata": {
        "colab": {
          "base_uri": "https://localhost:8080/",
          "height": 1000
        },
        "id": "ueOSWK-JD03A",
        "outputId": "ff7a70c1-dc96-44c7-ecb7-2d1631e6a1e1"
      },
      "outputs": [
        {
          "name": "stdout",
          "output_type": "stream",
          "text": [
            "Collecting chromadb\n",
            "  Downloading chromadb-1.0.8-cp39-abi3-manylinux_2_17_x86_64.manylinux2014_x86_64.whl.metadata (6.9 kB)\n",
            "Requirement already satisfied: build>=1.0.3 in /usr/local/lib/python3.11/dist-packages (from chromadb) (1.2.2.post1)\n",
            "Requirement already satisfied: pydantic>=1.9 in /usr/local/lib/python3.11/dist-packages (from chromadb) (2.11.4)\n",
            "Collecting fastapi==0.115.9 (from chromadb)\n",
            "  Downloading fastapi-0.115.9-py3-none-any.whl.metadata (27 kB)\n",
            "Collecting uvicorn>=0.18.3 (from uvicorn[standard]>=0.18.3->chromadb)\n",
            "  Downloading uvicorn-0.34.2-py3-none-any.whl.metadata (6.5 kB)\n",
            "Requirement already satisfied: numpy>=1.22.5 in /usr/local/lib/python3.11/dist-packages (from chromadb) (2.0.2)\n",
            "Collecting posthog>=2.4.0 (from chromadb)\n",
            "  Downloading posthog-4.0.1-py2.py3-none-any.whl.metadata (3.0 kB)\n",
            "Requirement already satisfied: typing-extensions>=4.5.0 in /usr/local/lib/python3.11/dist-packages (from chromadb) (4.13.2)\n",
            "Collecting onnxruntime>=1.14.1 (from chromadb)\n",
            "  Downloading onnxruntime-1.22.0-cp311-cp311-manylinux_2_27_x86_64.manylinux_2_28_x86_64.whl.metadata (4.5 kB)\n",
            "Requirement already satisfied: opentelemetry-api>=1.2.0 in /usr/local/lib/python3.11/dist-packages (from chromadb) (1.16.0)\n",
            "Collecting opentelemetry-exporter-otlp-proto-grpc>=1.2.0 (from chromadb)\n",
            "  Downloading opentelemetry_exporter_otlp_proto_grpc-1.33.0-py3-none-any.whl.metadata (2.5 kB)\n",
            "Collecting opentelemetry-instrumentation-fastapi>=0.41b0 (from chromadb)\n",
            "  Downloading opentelemetry_instrumentation_fastapi-0.54b0-py3-none-any.whl.metadata (2.2 kB)\n",
            "Requirement already satisfied: opentelemetry-sdk>=1.2.0 in /usr/local/lib/python3.11/dist-packages (from chromadb) (1.16.0)\n",
            "Requirement already satisfied: tokenizers>=0.13.2 in /usr/local/lib/python3.11/dist-packages (from chromadb) (0.21.1)\n",
            "Collecting pypika>=0.48.9 (from chromadb)\n",
            "  Downloading PyPika-0.48.9.tar.gz (67 kB)\n",
            "\u001b[2K     \u001b[90m━━━━━━━━━━━━━━━━━━━━━━━━━━━━━━━━━━━━━━━━\u001b[0m \u001b[32m67.3/67.3 kB\u001b[0m \u001b[31m3.9 MB/s\u001b[0m eta \u001b[36m0:00:00\u001b[0m\n",
            "\u001b[?25h  Installing build dependencies ... \u001b[?25l\u001b[?25hdone\n",
            "  Getting requirements to build wheel ... \u001b[?25l\u001b[?25hdone\n",
            "  Preparing metadata (pyproject.toml) ... \u001b[?25l\u001b[?25hdone\n",
            "Requirement already satisfied: tqdm>=4.65.0 in /usr/local/lib/python3.11/dist-packages (from chromadb) (4.67.1)\n",
            "Collecting overrides>=7.3.1 (from chromadb)\n",
            "  Downloading overrides-7.7.0-py3-none-any.whl.metadata (5.8 kB)\n",
            "Requirement already satisfied: importlib-resources in /usr/local/lib/python3.11/dist-packages (from chromadb) (6.5.2)\n",
            "Requirement already satisfied: grpcio>=1.58.0 in /usr/local/lib/python3.11/dist-packages (from chromadb) (1.71.0)\n",
            "Collecting bcrypt>=4.0.1 (from chromadb)\n",
            "  Downloading bcrypt-4.3.0-cp39-abi3-manylinux_2_34_x86_64.whl.metadata (10 kB)\n",
            "Requirement already satisfied: typer>=0.9.0 in /usr/local/lib/python3.11/dist-packages (from chromadb) (0.15.3)\n",
            "Collecting kubernetes>=28.1.0 (from chromadb)\n",
            "  Downloading kubernetes-32.0.1-py2.py3-none-any.whl.metadata (1.7 kB)\n",
            "Requirement already satisfied: tenacity>=8.2.3 in /usr/local/lib/python3.11/dist-packages (from chromadb) (9.1.2)\n",
            "Requirement already satisfied: pyyaml>=6.0.0 in /usr/local/lib/python3.11/dist-packages (from chromadb) (6.0.2)\n",
            "Collecting mmh3>=4.0.1 (from chromadb)\n",
            "  Downloading mmh3-5.1.0-cp311-cp311-manylinux_2_5_x86_64.manylinux1_x86_64.manylinux_2_17_x86_64.manylinux2014_x86_64.whl.metadata (16 kB)\n",
            "Requirement already satisfied: orjson>=3.9.12 in /usr/local/lib/python3.11/dist-packages (from chromadb) (3.10.18)\n",
            "Requirement already satisfied: httpx>=0.27.0 in /usr/local/lib/python3.11/dist-packages (from chromadb) (0.28.1)\n",
            "Requirement already satisfied: rich>=10.11.0 in /usr/local/lib/python3.11/dist-packages (from chromadb) (13.9.4)\n",
            "Requirement already satisfied: jsonschema>=4.19.0 in /usr/local/lib/python3.11/dist-packages (from chromadb) (4.23.0)\n",
            "Collecting starlette<0.46.0,>=0.40.0 (from fastapi==0.115.9->chromadb)\n",
            "  Downloading starlette-0.45.3-py3-none-any.whl.metadata (6.3 kB)\n",
            "Requirement already satisfied: packaging>=19.1 in /usr/local/lib/python3.11/dist-packages (from build>=1.0.3->chromadb) (24.2)\n",
            "Requirement already satisfied: pyproject_hooks in /usr/local/lib/python3.11/dist-packages (from build>=1.0.3->chromadb) (1.2.0)\n",
            "Requirement already satisfied: anyio in /usr/local/lib/python3.11/dist-packages (from httpx>=0.27.0->chromadb) (4.9.0)\n",
            "Requirement already satisfied: certifi in /usr/local/lib/python3.11/dist-packages (from httpx>=0.27.0->chromadb) (2025.4.26)\n",
            "Requirement already satisfied: httpcore==1.* in /usr/local/lib/python3.11/dist-packages (from httpx>=0.27.0->chromadb) (1.0.9)\n",
            "Requirement already satisfied: idna in /usr/local/lib/python3.11/dist-packages (from httpx>=0.27.0->chromadb) (3.10)\n",
            "Requirement already satisfied: h11>=0.16 in /usr/local/lib/python3.11/dist-packages (from httpcore==1.*->httpx>=0.27.0->chromadb) (0.16.0)\n",
            "Requirement already satisfied: attrs>=22.2.0 in /usr/local/lib/python3.11/dist-packages (from jsonschema>=4.19.0->chromadb) (25.3.0)\n",
            "Requirement already satisfied: jsonschema-specifications>=2023.03.6 in /usr/local/lib/python3.11/dist-packages (from jsonschema>=4.19.0->chromadb) (2025.4.1)\n",
            "Requirement already satisfied: referencing>=0.28.4 in /usr/local/lib/python3.11/dist-packages (from jsonschema>=4.19.0->chromadb) (0.36.2)\n",
            "Requirement already satisfied: rpds-py>=0.7.1 in /usr/local/lib/python3.11/dist-packages (from jsonschema>=4.19.0->chromadb) (0.24.0)\n",
            "Requirement already satisfied: six>=1.9.0 in /usr/local/lib/python3.11/dist-packages (from kubernetes>=28.1.0->chromadb) (1.17.0)\n",
            "Requirement already satisfied: python-dateutil>=2.5.3 in /usr/local/lib/python3.11/dist-packages (from kubernetes>=28.1.0->chromadb) (2.9.0.post0)\n",
            "Requirement already satisfied: google-auth>=1.0.1 in /usr/local/lib/python3.11/dist-packages (from kubernetes>=28.1.0->chromadb) (2.38.0)\n",
            "Requirement already satisfied: websocket-client!=0.40.0,!=0.41.*,!=0.42.*,>=0.32.0 in /usr/local/lib/python3.11/dist-packages (from kubernetes>=28.1.0->chromadb) (1.8.0)\n",
            "Requirement already satisfied: requests in /usr/local/lib/python3.11/dist-packages (from kubernetes>=28.1.0->chromadb) (2.32.3)\n",
            "Requirement already satisfied: requests-oauthlib in /usr/local/lib/python3.11/dist-packages (from kubernetes>=28.1.0->chromadb) (2.0.0)\n",
            "Requirement already satisfied: oauthlib>=3.2.2 in /usr/local/lib/python3.11/dist-packages (from kubernetes>=28.1.0->chromadb) (3.2.2)\n",
            "Requirement already satisfied: urllib3>=1.24.2 in /usr/local/lib/python3.11/dist-packages (from kubernetes>=28.1.0->chromadb) (2.4.0)\n",
            "Collecting durationpy>=0.7 (from kubernetes>=28.1.0->chromadb)\n",
            "  Downloading durationpy-0.9-py3-none-any.whl.metadata (338 bytes)\n",
            "Collecting coloredlogs (from onnxruntime>=1.14.1->chromadb)\n",
            "  Downloading coloredlogs-15.0.1-py2.py3-none-any.whl.metadata (12 kB)\n",
            "Requirement already satisfied: flatbuffers in /usr/local/lib/python3.11/dist-packages (from onnxruntime>=1.14.1->chromadb) (25.2.10)\n",
            "Requirement already satisfied: protobuf in /usr/local/lib/python3.11/dist-packages (from onnxruntime>=1.14.1->chromadb) (5.29.4)\n",
            "Requirement already satisfied: sympy in /usr/local/lib/python3.11/dist-packages (from onnxruntime>=1.14.1->chromadb) (1.13.1)\n",
            "Requirement already satisfied: deprecated>=1.2.6 in /usr/local/lib/python3.11/dist-packages (from opentelemetry-api>=1.2.0->chromadb) (1.2.18)\n",
            "Requirement already satisfied: setuptools>=16.0 in /usr/local/lib/python3.11/dist-packages (from opentelemetry-api>=1.2.0->chromadb) (75.2.0)\n",
            "Requirement already satisfied: googleapis-common-protos~=1.52 in /usr/local/lib/python3.11/dist-packages (from opentelemetry-exporter-otlp-proto-grpc>=1.2.0->chromadb) (1.70.0)\n",
            "Collecting opentelemetry-exporter-otlp-proto-common==1.33.0 (from opentelemetry-exporter-otlp-proto-grpc>=1.2.0->chromadb)\n",
            "  Downloading opentelemetry_exporter_otlp_proto_common-1.33.0-py3-none-any.whl.metadata (1.9 kB)\n",
            "Collecting opentelemetry-proto==1.33.0 (from opentelemetry-exporter-otlp-proto-grpc>=1.2.0->chromadb)\n",
            "  Downloading opentelemetry_proto-1.33.0-py3-none-any.whl.metadata (2.4 kB)\n",
            "Collecting opentelemetry-sdk>=1.2.0 (from chromadb)\n",
            "  Downloading opentelemetry_sdk-1.33.0-py3-none-any.whl.metadata (1.6 kB)\n",
            "Collecting opentelemetry-instrumentation-asgi==0.54b0 (from opentelemetry-instrumentation-fastapi>=0.41b0->chromadb)\n",
            "  Downloading opentelemetry_instrumentation_asgi-0.54b0-py3-none-any.whl.metadata (2.1 kB)\n",
            "Collecting opentelemetry-instrumentation==0.54b0 (from opentelemetry-instrumentation-fastapi>=0.41b0->chromadb)\n",
            "  Downloading opentelemetry_instrumentation-0.54b0-py3-none-any.whl.metadata (6.8 kB)\n",
            "Collecting opentelemetry-semantic-conventions==0.54b0 (from opentelemetry-instrumentation-fastapi>=0.41b0->chromadb)\n",
            "  Downloading opentelemetry_semantic_conventions-0.54b0-py3-none-any.whl.metadata (2.5 kB)\n",
            "Collecting opentelemetry-util-http==0.54b0 (from opentelemetry-instrumentation-fastapi>=0.41b0->chromadb)\n",
            "  Downloading opentelemetry_util_http-0.54b0-py3-none-any.whl.metadata (2.6 kB)\n",
            "Requirement already satisfied: wrapt<2.0.0,>=1.0.0 in /usr/local/lib/python3.11/dist-packages (from opentelemetry-instrumentation==0.54b0->opentelemetry-instrumentation-fastapi>=0.41b0->chromadb) (1.17.2)\n",
            "Collecting asgiref~=3.0 (from opentelemetry-instrumentation-asgi==0.54b0->opentelemetry-instrumentation-fastapi>=0.41b0->chromadb)\n",
            "  Downloading asgiref-3.8.1-py3-none-any.whl.metadata (9.3 kB)\n",
            "Collecting opentelemetry-api>=1.2.0 (from chromadb)\n",
            "  Downloading opentelemetry_api-1.33.0-py3-none-any.whl.metadata (1.6 kB)\n",
            "Collecting importlib-metadata<8.7.0,>=6.0 (from opentelemetry-api>=1.2.0->chromadb)\n",
            "  Downloading importlib_metadata-8.6.1-py3-none-any.whl.metadata (4.7 kB)\n",
            "Collecting backoff>=1.10.0 (from posthog>=2.4.0->chromadb)\n",
            "  Downloading backoff-2.2.1-py3-none-any.whl.metadata (14 kB)\n",
            "Requirement already satisfied: distro>=1.5.0 in /usr/local/lib/python3.11/dist-packages (from posthog>=2.4.0->chromadb) (1.9.0)\n",
            "Requirement already satisfied: annotated-types>=0.6.0 in /usr/local/lib/python3.11/dist-packages (from pydantic>=1.9->chromadb) (0.7.0)\n",
            "Requirement already satisfied: pydantic-core==2.33.2 in /usr/local/lib/python3.11/dist-packages (from pydantic>=1.9->chromadb) (2.33.2)\n",
            "Requirement already satisfied: typing-inspection>=0.4.0 in /usr/local/lib/python3.11/dist-packages (from pydantic>=1.9->chromadb) (0.4.0)\n",
            "Requirement already satisfied: markdown-it-py>=2.2.0 in /usr/local/lib/python3.11/dist-packages (from rich>=10.11.0->chromadb) (3.0.0)\n",
            "Requirement already satisfied: pygments<3.0.0,>=2.13.0 in /usr/local/lib/python3.11/dist-packages (from rich>=10.11.0->chromadb) (2.19.1)\n",
            "Requirement already satisfied: huggingface-hub<1.0,>=0.16.4 in /usr/local/lib/python3.11/dist-packages (from tokenizers>=0.13.2->chromadb) (0.30.2)\n",
            "Requirement already satisfied: click>=8.0.0 in /usr/local/lib/python3.11/dist-packages (from typer>=0.9.0->chromadb) (8.1.8)\n",
            "Requirement already satisfied: shellingham>=1.3.0 in /usr/local/lib/python3.11/dist-packages (from typer>=0.9.0->chromadb) (1.5.4)\n",
            "Collecting httptools>=0.6.3 (from uvicorn[standard]>=0.18.3->chromadb)\n",
            "  Downloading httptools-0.6.4-cp311-cp311-manylinux_2_5_x86_64.manylinux1_x86_64.manylinux_2_17_x86_64.manylinux2014_x86_64.whl.metadata (3.6 kB)\n",
            "Requirement already satisfied: python-dotenv>=0.13 in /usr/local/lib/python3.11/dist-packages (from uvicorn[standard]>=0.18.3->chromadb) (1.1.0)\n",
            "Collecting uvloop!=0.15.0,!=0.15.1,>=0.14.0 (from uvicorn[standard]>=0.18.3->chromadb)\n",
            "  Downloading uvloop-0.21.0-cp311-cp311-manylinux_2_17_x86_64.manylinux2014_x86_64.whl.metadata (4.9 kB)\n",
            "Collecting watchfiles>=0.13 (from uvicorn[standard]>=0.18.3->chromadb)\n",
            "  Downloading watchfiles-1.0.5-cp311-cp311-manylinux_2_17_x86_64.manylinux2014_x86_64.whl.metadata (4.9 kB)\n",
            "Requirement already satisfied: websockets>=10.4 in /usr/local/lib/python3.11/dist-packages (from uvicorn[standard]>=0.18.3->chromadb) (15.0.1)\n",
            "Requirement already satisfied: cachetools<6.0,>=2.0.0 in /usr/local/lib/python3.11/dist-packages (from google-auth>=1.0.1->kubernetes>=28.1.0->chromadb) (5.5.2)\n",
            "Requirement already satisfied: pyasn1-modules>=0.2.1 in /usr/local/lib/python3.11/dist-packages (from google-auth>=1.0.1->kubernetes>=28.1.0->chromadb) (0.4.2)\n",
            "Requirement already satisfied: rsa<5,>=3.1.4 in /usr/local/lib/python3.11/dist-packages (from google-auth>=1.0.1->kubernetes>=28.1.0->chromadb) (4.9.1)\n",
            "Requirement already satisfied: filelock in /usr/local/lib/python3.11/dist-packages (from huggingface-hub<1.0,>=0.16.4->tokenizers>=0.13.2->chromadb) (3.18.0)\n",
            "Requirement already satisfied: fsspec>=2023.5.0 in /usr/local/lib/python3.11/dist-packages (from huggingface-hub<1.0,>=0.16.4->tokenizers>=0.13.2->chromadb) (2025.3.2)\n",
            "Requirement already satisfied: zipp>=3.20 in /usr/local/lib/python3.11/dist-packages (from importlib-metadata<8.7.0,>=6.0->opentelemetry-api>=1.2.0->chromadb) (3.21.0)\n",
            "Requirement already satisfied: mdurl~=0.1 in /usr/local/lib/python3.11/dist-packages (from markdown-it-py>=2.2.0->rich>=10.11.0->chromadb) (0.1.2)\n",
            "Requirement already satisfied: charset-normalizer<4,>=2 in /usr/local/lib/python3.11/dist-packages (from requests->kubernetes>=28.1.0->chromadb) (3.4.1)\n",
            "Requirement already satisfied: sniffio>=1.1 in /usr/local/lib/python3.11/dist-packages (from anyio->httpx>=0.27.0->chromadb) (1.3.1)\n",
            "Collecting humanfriendly>=9.1 (from coloredlogs->onnxruntime>=1.14.1->chromadb)\n",
            "  Downloading humanfriendly-10.0-py2.py3-none-any.whl.metadata (9.2 kB)\n",
            "Requirement already satisfied: mpmath<1.4,>=1.1.0 in /usr/local/lib/python3.11/dist-packages (from sympy->onnxruntime>=1.14.1->chromadb) (1.3.0)\n",
            "Requirement already satisfied: pyasn1<0.7.0,>=0.6.1 in /usr/local/lib/python3.11/dist-packages (from pyasn1-modules>=0.2.1->google-auth>=1.0.1->kubernetes>=28.1.0->chromadb) (0.6.1)\n",
            "Downloading chromadb-1.0.8-cp39-abi3-manylinux_2_17_x86_64.manylinux2014_x86_64.whl (18.9 MB)\n",
            "\u001b[2K   \u001b[90m━━━━━━━━━━━━━━━━━━━━━━━━━━━━━━━━━━━━━━━━\u001b[0m \u001b[32m18.9/18.9 MB\u001b[0m \u001b[31m96.3 MB/s\u001b[0m eta \u001b[36m0:00:00\u001b[0m\n",
            "\u001b[?25hDownloading fastapi-0.115.9-py3-none-any.whl (94 kB)\n",
            "\u001b[2K   \u001b[90m━━━━━━━━━━━━━━━━━━━━━━━━━━━━━━━━━━━━━━━━\u001b[0m \u001b[32m94.9/94.9 kB\u001b[0m \u001b[31m8.6 MB/s\u001b[0m eta \u001b[36m0:00:00\u001b[0m\n",
            "\u001b[?25hDownloading bcrypt-4.3.0-cp39-abi3-manylinux_2_34_x86_64.whl (284 kB)\n",
            "\u001b[2K   \u001b[90m━━━━━━━━━━━━━━━━━━━━━━━━━━━━━━━━━━━━━━━━\u001b[0m \u001b[32m284.2/284.2 kB\u001b[0m \u001b[31m25.2 MB/s\u001b[0m eta \u001b[36m0:00:00\u001b[0m\n",
            "\u001b[?25hDownloading kubernetes-32.0.1-py2.py3-none-any.whl (2.0 MB)\n",
            "\u001b[2K   \u001b[90m━━━━━━━━━━━━━━━━━━━━━━━━━━━━━━━━━━━━━━━━\u001b[0m \u001b[32m2.0/2.0 MB\u001b[0m \u001b[31m80.6 MB/s\u001b[0m eta \u001b[36m0:00:00\u001b[0m\n",
            "\u001b[?25hDownloading mmh3-5.1.0-cp311-cp311-manylinux_2_5_x86_64.manylinux1_x86_64.manylinux_2_17_x86_64.manylinux2014_x86_64.whl (101 kB)\n",
            "\u001b[2K   \u001b[90m━━━━━━━━━━━━━━━━━━━━━━━━━━━━━━━━━━━━━━━━\u001b[0m \u001b[32m101.6/101.6 kB\u001b[0m \u001b[31m9.9 MB/s\u001b[0m eta \u001b[36m0:00:00\u001b[0m\n",
            "\u001b[?25hDownloading onnxruntime-1.22.0-cp311-cp311-manylinux_2_27_x86_64.manylinux_2_28_x86_64.whl (16.4 MB)\n",
            "\u001b[2K   \u001b[90m━━━━━━━━━━━━━━━━━━━━━━━━━━━━━━━━━━━━━━━━\u001b[0m \u001b[32m16.4/16.4 MB\u001b[0m \u001b[31m98.0 MB/s\u001b[0m eta \u001b[36m0:00:00\u001b[0m\n",
            "\u001b[?25hDownloading opentelemetry_exporter_otlp_proto_grpc-1.33.0-py3-none-any.whl (18 kB)\n",
            "Downloading opentelemetry_exporter_otlp_proto_common-1.33.0-py3-none-any.whl (18 kB)\n",
            "Downloading opentelemetry_proto-1.33.0-py3-none-any.whl (55 kB)\n",
            "\u001b[2K   \u001b[90m━━━━━━━━━━━━━━━━━━━━━━━━━━━━━━━━━━━━━━━━\u001b[0m \u001b[32m55.9/55.9 kB\u001b[0m \u001b[31m5.3 MB/s\u001b[0m eta \u001b[36m0:00:00\u001b[0m\n",
            "\u001b[?25hDownloading opentelemetry_instrumentation_fastapi-0.54b0-py3-none-any.whl (12 kB)\n",
            "Downloading opentelemetry_instrumentation-0.54b0-py3-none-any.whl (31 kB)\n",
            "Downloading opentelemetry_instrumentation_asgi-0.54b0-py3-none-any.whl (16 kB)\n",
            "Downloading opentelemetry_semantic_conventions-0.54b0-py3-none-any.whl (194 kB)\n",
            "\u001b[2K   \u001b[90m━━━━━━━━━━━━━━━━━━━━━━━━━━━━━━━━━━━━━━━━\u001b[0m \u001b[32m194.9/194.9 kB\u001b[0m \u001b[31m18.1 MB/s\u001b[0m eta \u001b[36m0:00:00\u001b[0m\n",
            "\u001b[?25hDownloading opentelemetry_api-1.33.0-py3-none-any.whl (65 kB)\n",
            "\u001b[2K   \u001b[90m━━━━━━━━━━━━━━━━━━━━━━━━━━━━━━━━━━━━━━━━\u001b[0m \u001b[32m65.8/65.8 kB\u001b[0m \u001b[31m6.0 MB/s\u001b[0m eta \u001b[36m0:00:00\u001b[0m\n",
            "\u001b[?25hDownloading opentelemetry_util_http-0.54b0-py3-none-any.whl (7.3 kB)\n",
            "Downloading opentelemetry_sdk-1.33.0-py3-none-any.whl (118 kB)\n",
            "\u001b[2K   \u001b[90m━━━━━━━━━━━━━━━━━━━━━━━━━━━━━━━━━━━━━━━━\u001b[0m \u001b[32m118.9/118.9 kB\u001b[0m \u001b[31m11.1 MB/s\u001b[0m eta \u001b[36m0:00:00\u001b[0m\n",
            "\u001b[?25hDownloading overrides-7.7.0-py3-none-any.whl (17 kB)\n",
            "Downloading posthog-4.0.1-py2.py3-none-any.whl (92 kB)\n",
            "\u001b[2K   \u001b[90m━━━━━━━━━━━━━━━━━━━━━━━━━━━━━━━━━━━━━━━━\u001b[0m \u001b[32m92.0/92.0 kB\u001b[0m \u001b[31m9.1 MB/s\u001b[0m eta \u001b[36m0:00:00\u001b[0m\n",
            "\u001b[?25hDownloading uvicorn-0.34.2-py3-none-any.whl (62 kB)\n",
            "\u001b[2K   \u001b[90m━━━━━━━━━━━━━━━━━━━━━━━━━━━━━━━━━━━━━━━━\u001b[0m \u001b[32m62.5/62.5 kB\u001b[0m \u001b[31m6.2 MB/s\u001b[0m eta \u001b[36m0:00:00\u001b[0m\n",
            "\u001b[?25hDownloading backoff-2.2.1-py3-none-any.whl (15 kB)\n",
            "Downloading durationpy-0.9-py3-none-any.whl (3.5 kB)\n",
            "Downloading httptools-0.6.4-cp311-cp311-manylinux_2_5_x86_64.manylinux1_x86_64.manylinux_2_17_x86_64.manylinux2014_x86_64.whl (459 kB)\n",
            "\u001b[2K   \u001b[90m━━━━━━━━━━━━━━━━━━━━━━━━━━━━━━━━━━━━━━━━\u001b[0m \u001b[32m459.8/459.8 kB\u001b[0m \u001b[31m36.1 MB/s\u001b[0m eta \u001b[36m0:00:00\u001b[0m\n",
            "\u001b[?25hDownloading importlib_metadata-8.6.1-py3-none-any.whl (26 kB)\n",
            "Downloading starlette-0.45.3-py3-none-any.whl (71 kB)\n",
            "\u001b[2K   \u001b[90m━━━━━━━━━━━━━━━━━━━━━━━━━━━━━━━━━━━━━━━━\u001b[0m \u001b[32m71.5/71.5 kB\u001b[0m \u001b[31m6.8 MB/s\u001b[0m eta \u001b[36m0:00:00\u001b[0m\n",
            "\u001b[?25hDownloading uvloop-0.21.0-cp311-cp311-manylinux_2_17_x86_64.manylinux2014_x86_64.whl (4.0 MB)\n",
            "\u001b[2K   \u001b[90m━━━━━━━━━━━━━━━━━━━━━━━━━━━━━━━━━━━━━━━━\u001b[0m \u001b[32m4.0/4.0 MB\u001b[0m \u001b[31m91.1 MB/s\u001b[0m eta \u001b[36m0:00:00\u001b[0m\n",
            "\u001b[?25hDownloading watchfiles-1.0.5-cp311-cp311-manylinux_2_17_x86_64.manylinux2014_x86_64.whl (454 kB)\n",
            "\u001b[2K   \u001b[90m━━━━━━━━━━━━━━━━━━━━━━━━━━━━━━━━━━━━━━━━\u001b[0m \u001b[32m454.8/454.8 kB\u001b[0m \u001b[31m34.6 MB/s\u001b[0m eta \u001b[36m0:00:00\u001b[0m\n",
            "\u001b[?25hDownloading coloredlogs-15.0.1-py2.py3-none-any.whl (46 kB)\n",
            "\u001b[2K   \u001b[90m━━━━━━━━━━━━━━━━━━━━━━━━━━━━━━━━━━━━━━━━\u001b[0m \u001b[32m46.0/46.0 kB\u001b[0m \u001b[31m4.0 MB/s\u001b[0m eta \u001b[36m0:00:00\u001b[0m\n",
            "\u001b[?25hDownloading asgiref-3.8.1-py3-none-any.whl (23 kB)\n",
            "Downloading humanfriendly-10.0-py2.py3-none-any.whl (86 kB)\n",
            "\u001b[2K   \u001b[90m━━━━━━━━━━━━━━━━━━━━━━━━━━━━━━━━━━━━━━━━\u001b[0m \u001b[32m86.8/86.8 kB\u001b[0m \u001b[31m8.1 MB/s\u001b[0m eta \u001b[36m0:00:00\u001b[0m\n",
            "\u001b[?25hBuilding wheels for collected packages: pypika\n",
            "  Building wheel for pypika (pyproject.toml) ... \u001b[?25l\u001b[?25hdone\n",
            "  Created wheel for pypika: filename=pypika-0.48.9-py2.py3-none-any.whl size=53803 sha256=7b42356c5eeb59fb50fa31c67a556795791569c29984cdeaa660fbeda1ee6926\n",
            "  Stored in directory: /root/.cache/pip/wheels/a3/01/bd/4c40ceb9d5354160cb186dcc153360f4ab7eb23e2b24daf96d\n",
            "Successfully built pypika\n",
            "Installing collected packages: pypika, durationpy, uvloop, uvicorn, overrides, opentelemetry-util-http, opentelemetry-proto, mmh3, importlib-metadata, humanfriendly, httptools, bcrypt, backoff, asgiref, watchfiles, starlette, posthog, opentelemetry-exporter-otlp-proto-common, opentelemetry-api, coloredlogs, opentelemetry-semantic-conventions, onnxruntime, kubernetes, fastapi, opentelemetry-sdk, opentelemetry-instrumentation, opentelemetry-instrumentation-asgi, opentelemetry-exporter-otlp-proto-grpc, opentelemetry-instrumentation-fastapi, chromadb\n",
            "  Attempting uninstall: importlib-metadata\n",
            "    Found existing installation: importlib_metadata 8.7.0\n",
            "    Uninstalling importlib_metadata-8.7.0:\n",
            "      Successfully uninstalled importlib_metadata-8.7.0\n",
            "  Attempting uninstall: opentelemetry-api\n",
            "    Found existing installation: opentelemetry-api 1.16.0\n",
            "    Uninstalling opentelemetry-api-1.16.0:\n",
            "      Successfully uninstalled opentelemetry-api-1.16.0\n",
            "  Attempting uninstall: opentelemetry-semantic-conventions\n",
            "    Found existing installation: opentelemetry-semantic-conventions 0.37b0\n",
            "    Uninstalling opentelemetry-semantic-conventions-0.37b0:\n",
            "      Successfully uninstalled opentelemetry-semantic-conventions-0.37b0\n",
            "  Attempting uninstall: opentelemetry-sdk\n",
            "    Found existing installation: opentelemetry-sdk 1.16.0\n",
            "    Uninstalling opentelemetry-sdk-1.16.0:\n",
            "      Successfully uninstalled opentelemetry-sdk-1.16.0\n",
            "Successfully installed asgiref-3.8.1 backoff-2.2.1 bcrypt-4.3.0 chromadb-1.0.8 coloredlogs-15.0.1 durationpy-0.9 fastapi-0.115.9 httptools-0.6.4 humanfriendly-10.0 importlib-metadata-8.6.1 kubernetes-32.0.1 mmh3-5.1.0 onnxruntime-1.22.0 opentelemetry-api-1.33.0 opentelemetry-exporter-otlp-proto-common-1.33.0 opentelemetry-exporter-otlp-proto-grpc-1.33.0 opentelemetry-instrumentation-0.54b0 opentelemetry-instrumentation-asgi-0.54b0 opentelemetry-instrumentation-fastapi-0.54b0 opentelemetry-proto-1.33.0 opentelemetry-sdk-1.33.0 opentelemetry-semantic-conventions-0.54b0 opentelemetry-util-http-0.54b0 overrides-7.7.0 posthog-4.0.1 pypika-0.48.9 starlette-0.45.3 uvicorn-0.34.2 uvloop-0.21.0 watchfiles-1.0.5\n"
          ]
        },
        {
          "data": {
            "application/vnd.colab-display-data+json": {
              "id": "b38ad4cb2cb149559951c68945d9e1bc",
              "pip_warning": {
                "packages": [
                  "importlib_metadata"
                ]
              }
            }
          },
          "metadata": {},
          "output_type": "display_data"
        }
      ],
      "source": [
        "! pip install chromadb"
      ]
    },
    {
      "cell_type": "code",
      "execution_count": null,
      "metadata": {
        "colab": {
          "base_uri": "https://localhost:8080/"
        },
        "id": "D2IfMhFLE3Ni",
        "outputId": "538dabc3-5d58-44b9-d82d-0c05164ab4e3"
      },
      "outputs": [
        {
          "name": "stdout",
          "output_type": "stream",
          "text": [
            "Collecting langchain-openai\n",
            "  Downloading langchain_openai-0.3.16-py3-none-any.whl.metadata (2.3 kB)\n",
            "Collecting langchain-core<1.0.0,>=0.3.58 (from langchain-openai)\n",
            "  Downloading langchain_core-0.3.59-py3-none-any.whl.metadata (5.9 kB)\n",
            "Requirement already satisfied: openai<2.0.0,>=1.68.2 in /usr/local/lib/python3.11/dist-packages (from langchain-openai) (1.76.2)\n",
            "Collecting tiktoken<1,>=0.7 (from langchain-openai)\n",
            "  Downloading tiktoken-0.9.0-cp311-cp311-manylinux_2_17_x86_64.manylinux2014_x86_64.whl.metadata (6.7 kB)\n",
            "Requirement already satisfied: langsmith<0.4,>=0.1.125 in /usr/local/lib/python3.11/dist-packages (from langchain-core<1.0.0,>=0.3.58->langchain-openai) (0.3.39)\n",
            "Requirement already satisfied: tenacity!=8.4.0,<10.0.0,>=8.1.0 in /usr/local/lib/python3.11/dist-packages (from langchain-core<1.0.0,>=0.3.58->langchain-openai) (9.1.2)\n",
            "Requirement already satisfied: jsonpatch<2.0,>=1.33 in /usr/local/lib/python3.11/dist-packages (from langchain-core<1.0.0,>=0.3.58->langchain-openai) (1.33)\n",
            "Requirement already satisfied: PyYAML>=5.3 in /usr/local/lib/python3.11/dist-packages (from langchain-core<1.0.0,>=0.3.58->langchain-openai) (6.0.2)\n",
            "Requirement already satisfied: packaging<25,>=23.2 in /usr/local/lib/python3.11/dist-packages (from langchain-core<1.0.0,>=0.3.58->langchain-openai) (24.2)\n",
            "Requirement already satisfied: typing-extensions>=4.7 in /usr/local/lib/python3.11/dist-packages (from langchain-core<1.0.0,>=0.3.58->langchain-openai) (4.13.2)\n",
            "Requirement already satisfied: pydantic<3.0.0,>=2.5.2 in /usr/local/lib/python3.11/dist-packages (from langchain-core<1.0.0,>=0.3.58->langchain-openai) (2.11.4)\n",
            "Requirement already satisfied: anyio<5,>=3.5.0 in /usr/local/lib/python3.11/dist-packages (from openai<2.0.0,>=1.68.2->langchain-openai) (4.9.0)\n",
            "Requirement already satisfied: distro<2,>=1.7.0 in /usr/local/lib/python3.11/dist-packages (from openai<2.0.0,>=1.68.2->langchain-openai) (1.9.0)\n",
            "Requirement already satisfied: httpx<1,>=0.23.0 in /usr/local/lib/python3.11/dist-packages (from openai<2.0.0,>=1.68.2->langchain-openai) (0.28.1)\n",
            "Requirement already satisfied: jiter<1,>=0.4.0 in /usr/local/lib/python3.11/dist-packages (from openai<2.0.0,>=1.68.2->langchain-openai) (0.9.0)\n",
            "Requirement already satisfied: sniffio in /usr/local/lib/python3.11/dist-packages (from openai<2.0.0,>=1.68.2->langchain-openai) (1.3.1)\n",
            "Requirement already satisfied: tqdm>4 in /usr/local/lib/python3.11/dist-packages (from openai<2.0.0,>=1.68.2->langchain-openai) (4.67.1)\n",
            "Requirement already satisfied: regex>=2022.1.18 in /usr/local/lib/python3.11/dist-packages (from tiktoken<1,>=0.7->langchain-openai) (2024.11.6)\n",
            "Requirement already satisfied: requests>=2.26.0 in /usr/local/lib/python3.11/dist-packages (from tiktoken<1,>=0.7->langchain-openai) (2.32.3)\n",
            "Requirement already satisfied: idna>=2.8 in /usr/local/lib/python3.11/dist-packages (from anyio<5,>=3.5.0->openai<2.0.0,>=1.68.2->langchain-openai) (3.10)\n",
            "Requirement already satisfied: certifi in /usr/local/lib/python3.11/dist-packages (from httpx<1,>=0.23.0->openai<2.0.0,>=1.68.2->langchain-openai) (2025.4.26)\n",
            "Requirement already satisfied: httpcore==1.* in /usr/local/lib/python3.11/dist-packages (from httpx<1,>=0.23.0->openai<2.0.0,>=1.68.2->langchain-openai) (1.0.9)\n",
            "Requirement already satisfied: h11>=0.16 in /usr/local/lib/python3.11/dist-packages (from httpcore==1.*->httpx<1,>=0.23.0->openai<2.0.0,>=1.68.2->langchain-openai) (0.16.0)\n",
            "Requirement already satisfied: jsonpointer>=1.9 in /usr/local/lib/python3.11/dist-packages (from jsonpatch<2.0,>=1.33->langchain-core<1.0.0,>=0.3.58->langchain-openai) (3.0.0)\n",
            "Requirement already satisfied: orjson<4.0.0,>=3.9.14 in /usr/local/lib/python3.11/dist-packages (from langsmith<0.4,>=0.1.125->langchain-core<1.0.0,>=0.3.58->langchain-openai) (3.10.18)\n",
            "Requirement already satisfied: requests-toolbelt<2.0.0,>=1.0.0 in /usr/local/lib/python3.11/dist-packages (from langsmith<0.4,>=0.1.125->langchain-core<1.0.0,>=0.3.58->langchain-openai) (1.0.0)\n",
            "Requirement already satisfied: zstandard<0.24.0,>=0.23.0 in /usr/local/lib/python3.11/dist-packages (from langsmith<0.4,>=0.1.125->langchain-core<1.0.0,>=0.3.58->langchain-openai) (0.23.0)\n",
            "Requirement already satisfied: annotated-types>=0.6.0 in /usr/local/lib/python3.11/dist-packages (from pydantic<3.0.0,>=2.5.2->langchain-core<1.0.0,>=0.3.58->langchain-openai) (0.7.0)\n",
            "Requirement already satisfied: pydantic-core==2.33.2 in /usr/local/lib/python3.11/dist-packages (from pydantic<3.0.0,>=2.5.2->langchain-core<1.0.0,>=0.3.58->langchain-openai) (2.33.2)\n",
            "Requirement already satisfied: typing-inspection>=0.4.0 in /usr/local/lib/python3.11/dist-packages (from pydantic<3.0.0,>=2.5.2->langchain-core<1.0.0,>=0.3.58->langchain-openai) (0.4.0)\n",
            "Requirement already satisfied: charset-normalizer<4,>=2 in /usr/local/lib/python3.11/dist-packages (from requests>=2.26.0->tiktoken<1,>=0.7->langchain-openai) (3.4.1)\n",
            "Requirement already satisfied: urllib3<3,>=1.21.1 in /usr/local/lib/python3.11/dist-packages (from requests>=2.26.0->tiktoken<1,>=0.7->langchain-openai) (2.4.0)\n",
            "Downloading langchain_openai-0.3.16-py3-none-any.whl (62 kB)\n",
            "\u001b[2K   \u001b[90m━━━━━━━━━━━━━━━━━━━━━━━━━━━━━━━━━━━━━━━━\u001b[0m \u001b[32m62.8/62.8 kB\u001b[0m \u001b[31m3.5 MB/s\u001b[0m eta \u001b[36m0:00:00\u001b[0m\n",
            "\u001b[?25hDownloading langchain_core-0.3.59-py3-none-any.whl (437 kB)\n",
            "\u001b[2K   \u001b[90m━━━━━━━━━━━━━━━━━━━━━━━━━━━━━━━━━━━━━━━━\u001b[0m \u001b[32m437.7/437.7 kB\u001b[0m \u001b[31m10.0 MB/s\u001b[0m eta \u001b[36m0:00:00\u001b[0m\n",
            "\u001b[?25hDownloading tiktoken-0.9.0-cp311-cp311-manylinux_2_17_x86_64.manylinux2014_x86_64.whl (1.2 MB)\n",
            "\u001b[2K   \u001b[90m━━━━━━━━━━━━━━━━━━━━━━━━━━━━━━━━━━━━━━━━\u001b[0m \u001b[32m1.2/1.2 MB\u001b[0m \u001b[31m33.4 MB/s\u001b[0m eta \u001b[36m0:00:00\u001b[0m\n",
            "\u001b[?25hInstalling collected packages: tiktoken, langchain-core, langchain-openai\n",
            "  Attempting uninstall: langchain-core\n",
            "    Found existing installation: langchain-core 0.3.56\n",
            "    Uninstalling langchain-core-0.3.56:\n",
            "      Successfully uninstalled langchain-core-0.3.56\n",
            "Successfully installed langchain-core-0.3.59 langchain-openai-0.3.16 tiktoken-0.9.0\n"
          ]
        }
      ],
      "source": [
        "! pip install langchain-openai"
      ]
    },
    {
      "cell_type": "code",
      "execution_count": null,
      "metadata": {
        "id": "U4Wb8nZJDt6X"
      },
      "outputs": [],
      "source": [
        "from langchain_openai import OpenAI\n",
        "from langchain_openai import OpenAIEmbeddings\n",
        "from langchain.vectorstores import Chroma\n",
        "from langchain.chains import RetrievalQA"
      ]
    },
    {
      "cell_type": "code",
      "execution_count": null,
      "metadata": {
        "colab": {
          "base_uri": "https://localhost:8080/"
        },
        "id": "nNWlbGxsCdoB",
        "outputId": "39a5c87b-f7ae-45f0-a3eb-ee6e3b45a1b6"
      },
      "outputs": [
        {
          "name": "stdout",
          "output_type": "stream",
          "text": [
            "문서길이 : 294\n",
            "줄바꿈 수 : 6\n",
            "구분점 수 : 7\n",
            "분할된 청크수 : 4\n",
            "청크1 : 대한민국은 동아시아에 위치한 나라로, 공식 명칭은 대한민국입니다.\n",
            "한국의 수도는 서울이며, 서울은 약 970만 명의 인구를 가진 대도시입니다.\n",
            "청크2 : 한국의 공식 언어는 한글로, 세종대왕이 1443년에 창제했습니다.\n",
            "한국의 전통 음식으로는 김치, 불고기, 비빔밥, 떡볶이 등이 있습니다.\n",
            "청크3 : 한국은 K-팝과 드라마로 전 세계적으로 문화적 영향력을 확대하고 있습니다.\n",
            "한국의 주요 명절로는 설날과 추석이 있으며, 가족들이 모여 전통 음식을 나눕니다.\n",
            "청크4 : 한국의 전통 의상인 한복은 색상과 디자인이 화려하며, 명절이나 결혼식에서 자주 입습니다.\n"
          ]
        }
      ],
      "source": [
        "# LLM 초기화\n",
        "llm = OpenAI(openai_api_key=api_key)\n",
        "# 벡터 데이터베이스 생성\n",
        "embeddings = OpenAIEmbeddings(openai_api_key=api_key)\n",
        "texts = load_and_seperare_document()  # 청크분할\n",
        "vectorstore =  Chroma.from_documents(texts, embeddings, persist_directory='./db')\n",
        "# vectorstore.persist()  # 벡터 데이터 베이스 생성 완료  ince Chroma 0.4.x 이후에서는 자동으로 DB가 저장된다"
      ]
    },
    {
      "cell_type": "code",
      "execution_count": null,
      "metadata": {
        "id": "eyK1ZpyXC2G-"
      },
      "outputs": [],
      "source": [
        "# RetrivalQA 체인 생성\n",
        "qa_chain =  RetrievalQA.from_chain_type(\n",
        "    llm = llm,\n",
        "    chain_type = 'stuff', # 작은 문서는 분할하지않고 한번에 전달\n",
        "    retriever = vectorstore.as_retriever(search_kwargs = {'k':2}),  # 상위 2개 문서 검색\n",
        "    return_source_documents = True,\n",
        ")"
      ]
    },
    {
      "cell_type": "code",
      "execution_count": null,
      "metadata": {
        "colab": {
          "base_uri": "https://localhost:8080/"
        },
        "id": "15XSzdHmGLW3",
        "outputId": "17ab7919-011a-402f-fc33-72a4fe842491"
      },
      "outputs": [
        {
          "name": "stderr",
          "output_type": "stream",
          "text": [
            "<ipython-input-13-f7c8987c25d1>:3: LangChainDeprecationWarning: The method `Chain.__call__` was deprecated in langchain 0.1.0 and will be removed in 1.0. Use :meth:`~invoke` instead.\n",
            "  result = qa_chain({'query':query})\n"
          ]
        },
        {
          "name": "stdout",
          "output_type": "stream",
          "text": [
            "질문 : 한국의 공식 언어는 무엇입니까?\n",
            "답변 :  한글.\n",
            "참조 문서 : <generator object <genexpr> at 0x784de9b00110>\n"
          ]
        }
      ],
      "source": [
        "# 질문 생성\n",
        "query = \"한국의 공식 언어는 무엇입니까?\"\n",
        "result = qa_chain({'query':query})\n",
        "# 결과 출력\n",
        "print(f'질문 : {query}')\n",
        "print(f'답변 : {result[\"result\"]}')\n",
        "print(f'참조 문서 : {doc.page_content for doc in result[\"source_documents\"]}')"
      ]
    },
    {
      "cell_type": "code",
      "execution_count": null,
      "metadata": {
        "colab": {
          "base_uri": "https://localhost:8080/"
        },
        "id": "4qfSjfxVGNJe",
        "outputId": "7fecd76b-7e11-4517-d357-6c269721dcac"
      },
      "outputs": [
        {
          "name": "stdout",
          "output_type": "stream",
          "text": [
            "질문 : 미국의 공식 언어는 무엇입니까?\n",
            "답변 :  미국의 공식 언어는 영어입니다.\n",
            "참조 문서 : ['한국의 공식 언어는 한글로, 세종대왕이 1443년에 창제했습니다.\\n한국의 전통 음식으로는 김치, 불고기, 비빔밥, 떡볶이 등이 있습니다.', '대한민국은 동아시아에 위치한 나라로, 공식 명칭은 대한민국입니다.\\n한국의 수도는 서울이며, 서울은 약 970만 명의 인구를 가진 대도시입니다.']\n"
          ]
        }
      ],
      "source": [
        "# 질문 생성\n",
        "query = \"미국의 공식 언어는 무엇입니까?\"\n",
        "result = qa_chain({'query':query})\n",
        "# 결과 출력\n",
        "print(f'질문 : {query}')\n",
        "print(f'답변 : {result[\"result\"]}')\n",
        "print(f'참조 문서 : {[doc.page_content for doc in result[\"source_documents\"]]}')"
      ]
    },
    {
      "cell_type": "code",
      "execution_count": null,
      "metadata": {
        "colab": {
          "base_uri": "https://localhost:8080/",
          "height": 35
        },
        "id": "DjUTSLK_GvYt",
        "outputId": "0453d0f6-2688-4764-865b-cb054e8125dc"
      },
      "outputs": [
        {
          "data": {
            "application/vnd.google.colaboratory.intrinsic+json": {
              "type": "string"
            },
            "text/plain": [
              "'\\n\\n미국의 공식 언어는 영어입니다.'"
            ]
          },
          "execution_count": 15,
          "metadata": {},
          "output_type": "execute_result"
        }
      ],
      "source": [
        "# 단순 llm을 사용\n",
        "llm.invoke(query)"
      ]
    },
    {
      "cell_type": "markdown",
      "metadata": {
        "id": "LkN-VeLgHNFU"
      },
      "source": [
        "1. 문서선택(text, pdf ,doc 등 다양한 문서 검색 기능을 지원)\n",
        "2. 문서를 기반으로 벡터데이터 베이스 생성 - RAG\n",
        "3. RAG를 기반으로 랭체인 구축(RAG를 통해 검색을 해서 해당 데이터를 LLM전달 랭체인)\n"
      ]
    },
    {
      "cell_type": "code",
      "execution_count": null,
      "metadata": {
        "colab": {
          "base_uri": "https://localhost:8080/"
        },
        "id": "dbnJTuV3KN2H",
        "outputId": "f1a4f30a-9ec9-4c52-9521-98b7f23ffed5"
      },
      "outputs": [
        {
          "name": "stdout",
          "output_type": "stream",
          "text": [
            "문서길이 : 124\n",
            "줄바꿈 수 : 5\n",
            "구분점 수 : 1\n",
            "분할된 청크수 : 2\n",
            "청크1 : 본 회사는 수습기간 4개월 후 평가를 거쳐 정규직 전환이 결정됨\n",
            "본 회사의 출퇴근 시간은 오전8시 출근 5시 퇴근을 기준으로 함.\n",
            "전사가 금욜일은 오전 근무만 함\n",
            "청크2 : 재택근무시 필요에 따라 본인에 판단하에 자유롭게 실시한다\n",
            "질문 : 우리회사의 재택근무는 어떻게 되나요?\n",
            "답변 :  저는 이 문장에서 재택근무에 대한 언급을 찾지 못했습니다. 즉, 이 문장에서는 재택근무에 대한 정보가 제공되지 않았기 때문에 알 수 없습니다.\n",
            "참조 문서 : ['본 회사는 수습기간 4개월 후 평가를 거쳐 정규직 전환이 결정됨\\n본 회사의 출퇴근 시간은 오전8시 출근 5시 퇴근을 기준으로 함.\\n전사가 금욜일은 오전 근무만 함', '본 회사는 수습기간 4개월 후 평가를 거쳐 정규직 전환이 결정됨\\n본 회사의 출퇴근 시간은 오전8시 출근 5시 퇴근을 기준으로 함.\\n전사가 금욜일은 오전 근무만 함']\n"
          ]
        }
      ],
      "source": [
        "# 회사 규정\n",
        "company_rules = '''\n",
        "본 회사는 수습기간 4개월 후 평가를 거쳐 정규직 전환이 결정됨\n",
        "본 회사의 출퇴근 시간은 오전8시 출근 5시 퇴근을 기준으로 함.\n",
        "전사가 금욜일은 오전 근무만 함\n",
        "재택근무시 필요에 따라 본인에 판단하에 자유롭게 실시한다\n",
        "'''\n",
        "with open('company_rules.txt', 'w') as f:\n",
        "  f.write(company_rules)\n",
        "\n",
        "# LLM 초기화\n",
        "llm = OpenAI(openai_api_key=api_key)\n",
        "# 벡터 데이터베이스 생성\n",
        "embeddings = OpenAIEmbeddings(openai_api_key=api_key)\n",
        "texts = load_and_seperare_document('company_rules.txt')  # 청크분할\n",
        "vectorstore =  Chroma.from_documents(texts, embeddings, persist_directory='./db2')\n",
        "# RetrivalQA 체인 생성\n",
        "qa_chain =  RetrievalQA.from_chain_type(\n",
        "    llm = llm,\n",
        "    chain_type = 'stuff', # 작은 문서는 분할하지않고 한번에 전달\n",
        "    retriever = vectorstore.as_retriever(search_kwargs = {'k':2}),  # 상위 2개 문서 검색\n",
        "    return_source_documents = True,\n",
        ")\n",
        "# 질문 생성\n",
        "query = \"우리회사의 재택근무는 어떻게 되나요?\"\n",
        "result = qa_chain({'query':query})\n",
        "# 결과 출력\n",
        "print(f'질문 : {query}')\n",
        "print(f'답변 : {result[\"result\"]}')\n",
        "print(f'참조 문서 : {[doc.page_content for doc in result[\"source_documents\"]]}')"
      ]
    },
    {
      "cell_type": "code",
      "execution_count": null,
      "metadata": {
        "id": "llYJ4j5iKuva"
      },
      "outputs": [],
      "source": []
    },
    {
      "cell_type": "code",
      "execution_count": null,
      "metadata": {
        "id": "UzPide2yPzLs"
      },
      "outputs": [],
      "source": [
        "# 청크사이즈, 참조문서의 개수 --> 파이퍼 파라메터\n",
        "!pip install -U langchain-community -q\n",
        "!pip install chromadb -q"
      ]
    },
    {
      "cell_type": "code",
      "execution_count": null,
      "metadata": {
        "id": "h53LX_vqPzhr"
      },
      "outputs": [],
      "source": [
        "from langchain.document_loaders import TextLoader\n",
        "from langchain.text_splitter import RecursiveCharacterTextSplitter\n",
        "from langchain.embeddings import OpenAIEmbeddings\n",
        "from langchain.vectorstores import Chroma\n",
        "import shutil"
      ]
    },
    {
      "cell_type": "code",
      "execution_count": null,
      "metadata": {
        "id": "isl62cekPzpS"
      },
      "outputs": [],
      "source": [
        "def load_and_seperare_document(texts = 'korea_culture.txt',chunk_size=100,chunk_overlap=10):\n",
        "  # 문서로드\n",
        "  loader = TextLoader(texts)\n",
        "  documents = loader.load()\n",
        "  # 문서내용 및 길이 확인\n",
        "  with open(texts, encoding='utf-8') as f:\n",
        "    text = f.read()\n",
        "    print(f'문서길이 : {len(text)}')\n",
        "    temp = text.count('\\n')\n",
        "    print(f\"줄바꿈 수 : {temp}\")\n",
        "    print(f\"구분점 수 : {text.count('.')}\")\n",
        "  # 문서 분할\n",
        "  # 분할된 청크를 반환\n",
        "  text_splitter =  RecursiveCharacterTextSplitter(chunk_size=chunk_size, chunk_overlap=chunk_overlap,\n",
        "                                                separators=['\\n\\n', '\\n', '.', '!', '?', ',', ' '],\n",
        "                                                keep_separator=True)\n",
        "  texts = text_splitter.split_documents(documents)\n",
        "  print(f'분할된 청크수 : {len(texts)}')\n",
        "  for i,chunk in enumerate(texts):\n",
        "    print(f'청크{i+1} : {chunk.page_content}')\n",
        "  return texts"
      ]
    },
    {
      "cell_type": "code",
      "execution_count": null,
      "metadata": {
        "colab": {
          "base_uri": "https://localhost:8080/"
        },
        "id": "qo8wTpuTPztM",
        "outputId": "08ae61f7-efdd-4556-a492-4d3cc03f10f7"
      },
      "outputs": [
        {
          "name": "stdout",
          "output_type": "stream",
          "text": [
            "문서길이 : 122\n",
            "줄바꿈 수 : 5\n",
            "구분점 수 : 1\n",
            "분할된 청크수 : 3\n",
            "청크1 : 우리 회사의 정규직 전환은 수습기간 4개월후 평가를 거쳐 결정된다.\n",
            "청크2 : 근태관리 기준은 8출근 5퇴근을 기준으로 한다\n",
            "금요일은 전사가 오전 근무만 한다\n",
            "청크3 : 재택근무는 본인이 원하면 누구의 승인도 받지 않고 자유롭게 실시한다\n",
            "\n",
            "\n",
            "질문 : 우리회사의 근태 규정은 어떻게 되나요?\n",
            "답변 :  근태관리 기준은 8출근 5퇴근을 기준으로 하며, 금요일은 전사가 오전 근무만 합니다. 재택근무는 본인이 원하면 누구의 승인도 받지 않고 자유롭게 실시합니다.\n",
            "참조 문서 : ['우리 회사의 정규직 전환은 수습기간 4개월후 평가를 거쳐 결정된다.', '우리 회사의 정규직 전환은 수습기간 4개월후 평가를 거쳐 결정된다.', '근태관리 기준은 8출근 5퇴근을 기준으로 한다\\n금요일은 전사가 오전 근무만 한다', '근태관리 기준은 8출근 5퇴근을 기준으로 한다\\n금요일은 전사가 오전 근무만 한다', '재택근무는 본인이 원하면 누구의 승인도 받지 않고 자유롭게 실시한다']\n"
          ]
        }
      ],
      "source": [
        "# 회사규정\n",
        "company_rules = '''\n",
        "우리 회사의 정규직 전환은 수습기간 4개월후 평가를 거쳐 결정된다.\n",
        "근태관리 기준은 8출근 5퇴근을 기준으로 한다\n",
        "금요일은 전사가 오전 근무만 한다\n",
        "재택근무는 본인이 원하면 누구의 승인도 받지 않고 자유롭게 실시한다\n",
        "'''\n",
        "with open('company_rules.txt', 'w') as f:\n",
        "  f.write(company_rules)\n",
        "\n",
        "# LLM 초기화\n",
        "llm = OpenAI(openai_api_key=api_key)\n",
        "# 벡터 데이터베이스 생성\n",
        "embeddings = OpenAIEmbeddings(openai_api_key=api_key)\n",
        "texts = load_and_seperare_document('company_rules.txt',chunk_size=50)  # 청크분할\n",
        "vectorstore =  Chroma.from_documents(texts, embeddings, persist_directory='./db001')\n",
        "# RetrivalQA 체인 생성\n",
        "qa_chain =  RetrievalQA.from_chain_type(\n",
        "    llm = llm,\n",
        "    # chain_type = 'stuff', # 작은 문서는 분할하지않고 한번에 전달\n",
        "    retriever = vectorstore.as_retriever(search_kwargs = {'k':5}),  # 상위 2개 문서 검색\n",
        "    return_source_documents = True,\n",
        ")\n",
        "# 질문 생성\n",
        "query = \"우리회사의 근태 규정은 어떻게 되나요?\"\n",
        "result = qa_chain.invoke({'query':query})\n",
        "# 결과 출력\n",
        "print(f'\\n\\n질문 : {query}')\n",
        "print(f'답변 : {result[\"result\"]}')\n",
        "print(f'참조 문서 : {[doc.page_content for doc in result[\"source_documents\"]]}')"
      ]
    },
    {
      "cell_type": "markdown",
      "metadata": {
        "id": "SNq2DfLnUtGF"
      },
      "source": [
        "Langchain으로 다행한 포메 ㅅ풀어괴"
      ]
    },
    {
      "cell_type": "code",
      "execution_count": null,
      "metadata": {
        "colab": {
          "base_uri": "https://localhost:8080/"
        },
        "id": "-4_zSEHsU-5_",
        "outputId": "58173a7e-45a5-4638-b8da-869601147540"
      },
      "outputs": [
        {
          "name": "stdout",
          "output_type": "stream",
          "text": [
            "Collecting pymupdf\n",
            "  Downloading pymupdf-1.25.5-cp39-abi3-manylinux2014_x86_64.manylinux_2_17_x86_64.whl.metadata (3.4 kB)\n",
            "Downloading pymupdf-1.25.5-cp39-abi3-manylinux2014_x86_64.manylinux_2_17_x86_64.whl (20.0 MB)\n",
            "\u001b[2K   \u001b[90m━━━━━━━━━━━━━━━━━━━━━━━━━━━━━━━━━━━━━━━━\u001b[0m \u001b[32m20.0/20.0 MB\u001b[0m \u001b[31m76.2 MB/s\u001b[0m eta \u001b[36m0:00:00\u001b[0m\n",
            "\u001b[?25hInstalling collected packages: pymupdf\n",
            "Successfully installed pymupdf-1.25.5\n"
          ]
        }
      ],
      "source": [
        "!pip install pymupdf"
      ]
    },
    {
      "cell_type": "code",
      "execution_count": null,
      "metadata": {
        "colab": {
          "base_uri": "https://localhost:8080/"
        },
        "id": "8HMrSQWpPzxR",
        "outputId": "044f5e8a-6216-4405-eacc-6cf7b628baf9"
      },
      "outputs": [
        {
          "data": {
            "text/plain": [
              "[Document(metadata={'producer': 'Microsoft® Word Microsoft 365용', 'creator': 'Microsoft® Word Microsoft 365용', 'creationdate': '2025-05-12T11:27:49+09:00', 'source': '/content/company_rules.pdf', 'file_path': '/content/company_rules.pdf', 'total_pages': 1, 'format': 'PDF 1.7', 'title': '', 'author': '이규영', 'subject': '', 'keywords': '', 'moddate': '2025-05-12T11:27:49+09:00', 'trapped': '', 'modDate': \"D:20250512112749+09'00'\", 'creationDate': \"D:20250512112749+09'00'\", 'page': 0}, page_content='우리 회사의 정규직 전환은 수습기간 4개월후 평가를 거쳐 결정된다. \\n근태관리 기준은 8출근 5퇴근을 기준으로 한다 \\n금요일은 전사가 오전 근무만 한다 \\n우리회사의 재택근무는 본인이 원하면 누구의 승인도 받지 않고 자유롭게 실시한다')]"
            ]
          },
          "execution_count": 28,
          "metadata": {},
          "output_type": "execute_result"
        }
      ],
      "source": [
        "# 텍스트 파일\n",
        "from langchain.document_loaders import PyMuPDFLoader\n",
        "loader = PyMuPDFLoader(\"/content/company_rules.pdf\")\n",
        "pages = loader.load()  # 페이지 단위로 문서를 분리\n",
        "pages"
      ]
    },
    {
      "cell_type": "code",
      "execution_count": null,
      "metadata": {
        "colab": {
          "base_uri": "https://localhost:8080/"
        },
        "id": "GO40I9m_WWhe",
        "outputId": "5896f9c8-0763-488a-bd0e-9b5bba6f7dea"
      },
      "outputs": [
        {
          "name": "stdout",
          "output_type": "stream",
          "text": [
            "Collecting unstructured\n",
            "  Downloading unstructured-0.17.2-py3-none-any.whl.metadata (24 kB)\n",
            "Requirement already satisfied: chardet in /usr/local/lib/python3.11/dist-packages (from unstructured) (5.2.0)\n",
            "Collecting filetype (from unstructured)\n",
            "  Downloading filetype-1.2.0-py2.py3-none-any.whl.metadata (6.5 kB)\n",
            "Collecting python-magic (from unstructured)\n",
            "  Downloading python_magic-0.4.27-py2.py3-none-any.whl.metadata (5.8 kB)\n",
            "Requirement already satisfied: lxml in /usr/local/lib/python3.11/dist-packages (from unstructured) (5.4.0)\n",
            "Requirement already satisfied: nltk in /usr/local/lib/python3.11/dist-packages (from unstructured) (3.9.1)\n",
            "Requirement already satisfied: requests in /usr/local/lib/python3.11/dist-packages (from unstructured) (2.32.3)\n",
            "Requirement already satisfied: beautifulsoup4 in /usr/local/lib/python3.11/dist-packages (from unstructured) (4.13.4)\n",
            "Collecting emoji (from unstructured)\n",
            "  Downloading emoji-2.14.1-py3-none-any.whl.metadata (5.7 kB)\n",
            "Requirement already satisfied: dataclasses-json in /usr/local/lib/python3.11/dist-packages (from unstructured) (0.6.7)\n",
            "Collecting python-iso639 (from unstructured)\n",
            "  Downloading python_iso639-2025.2.18-py3-none-any.whl.metadata (14 kB)\n",
            "Collecting langdetect (from unstructured)\n",
            "  Downloading langdetect-1.0.9.tar.gz (981 kB)\n",
            "\u001b[2K     \u001b[90m━━━━━━━━━━━━━━━━━━━━━━━━━━━━━━━━━━━━━━\u001b[0m \u001b[32m981.5/981.5 kB\u001b[0m \u001b[31m17.8 MB/s\u001b[0m eta \u001b[36m0:00:00\u001b[0m\n",
            "\u001b[?25h  Preparing metadata (setup.py) ... \u001b[?25l\u001b[?25hdone\n",
            "Requirement already satisfied: numpy in /usr/local/lib/python3.11/dist-packages (from unstructured) (2.0.2)\n",
            "Collecting rapidfuzz (from unstructured)\n",
            "  Downloading rapidfuzz-3.13.0-cp311-cp311-manylinux_2_17_x86_64.manylinux2014_x86_64.whl.metadata (12 kB)\n",
            "Requirement already satisfied: backoff in /usr/local/lib/python3.11/dist-packages (from unstructured) (2.2.1)\n",
            "Requirement already satisfied: typing-extensions in /usr/local/lib/python3.11/dist-packages (from unstructured) (4.13.2)\n",
            "Collecting unstructured-client (from unstructured)\n",
            "  Downloading unstructured_client-0.34.0-py3-none-any.whl.metadata (21 kB)\n",
            "Requirement already satisfied: wrapt in /usr/local/lib/python3.11/dist-packages (from unstructured) (1.17.2)\n",
            "Requirement already satisfied: tqdm in /usr/local/lib/python3.11/dist-packages (from unstructured) (4.67.1)\n",
            "Requirement already satisfied: psutil in /usr/local/lib/python3.11/dist-packages (from unstructured) (5.9.5)\n",
            "Collecting python-oxmsg (from unstructured)\n",
            "  Downloading python_oxmsg-0.0.2-py3-none-any.whl.metadata (5.0 kB)\n",
            "Requirement already satisfied: html5lib in /usr/local/lib/python3.11/dist-packages (from unstructured) (1.1)\n",
            "Requirement already satisfied: soupsieve>1.2 in /usr/local/lib/python3.11/dist-packages (from beautifulsoup4->unstructured) (2.7)\n",
            "Requirement already satisfied: marshmallow<4.0.0,>=3.18.0 in /usr/local/lib/python3.11/dist-packages (from dataclasses-json->unstructured) (3.26.1)\n",
            "Requirement already satisfied: typing-inspect<1,>=0.4.0 in /usr/local/lib/python3.11/dist-packages (from dataclasses-json->unstructured) (0.9.0)\n",
            "Requirement already satisfied: six>=1.9 in /usr/local/lib/python3.11/dist-packages (from html5lib->unstructured) (1.17.0)\n",
            "Requirement already satisfied: webencodings in /usr/local/lib/python3.11/dist-packages (from html5lib->unstructured) (0.5.1)\n",
            "Requirement already satisfied: click in /usr/local/lib/python3.11/dist-packages (from nltk->unstructured) (8.1.8)\n",
            "Requirement already satisfied: joblib in /usr/local/lib/python3.11/dist-packages (from nltk->unstructured) (1.4.2)\n",
            "Requirement already satisfied: regex>=2021.8.3 in /usr/local/lib/python3.11/dist-packages (from nltk->unstructured) (2024.11.6)\n",
            "Collecting olefile (from python-oxmsg->unstructured)\n",
            "  Downloading olefile-0.47-py2.py3-none-any.whl.metadata (9.7 kB)\n",
            "Requirement already satisfied: charset-normalizer<4,>=2 in /usr/local/lib/python3.11/dist-packages (from requests->unstructured) (3.4.1)\n",
            "Requirement already satisfied: idna<4,>=2.5 in /usr/local/lib/python3.11/dist-packages (from requests->unstructured) (3.10)\n",
            "Requirement already satisfied: urllib3<3,>=1.21.1 in /usr/local/lib/python3.11/dist-packages (from requests->unstructured) (2.4.0)\n",
            "Requirement already satisfied: certifi>=2017.4.17 in /usr/local/lib/python3.11/dist-packages (from requests->unstructured) (2025.4.26)\n",
            "Collecting aiofiles>=24.1.0 (from unstructured-client->unstructured)\n",
            "  Downloading aiofiles-24.1.0-py3-none-any.whl.metadata (10 kB)\n",
            "Requirement already satisfied: cryptography>=3.1 in /usr/local/lib/python3.11/dist-packages (from unstructured-client->unstructured) (43.0.3)\n",
            "Collecting eval-type-backport>=0.2.0 (from unstructured-client->unstructured)\n",
            "  Downloading eval_type_backport-0.2.2-py3-none-any.whl.metadata (2.2 kB)\n",
            "Requirement already satisfied: httpx>=0.27.0 in /usr/local/lib/python3.11/dist-packages (from unstructured-client->unstructured) (0.28.1)\n",
            "Requirement already satisfied: nest-asyncio>=1.6.0 in /usr/local/lib/python3.11/dist-packages (from unstructured-client->unstructured) (1.6.0)\n",
            "Requirement already satisfied: pydantic>=2.11.2 in /usr/local/lib/python3.11/dist-packages (from unstructured-client->unstructured) (2.11.4)\n",
            "Collecting pypdf>=4.0 (from unstructured-client->unstructured)\n",
            "  Downloading pypdf-5.5.0-py3-none-any.whl.metadata (7.2 kB)\n",
            "Requirement already satisfied: requests-toolbelt>=1.0.0 in /usr/local/lib/python3.11/dist-packages (from unstructured-client->unstructured) (1.0.0)\n",
            "Requirement already satisfied: typing-inspection>=0.4.0 in /usr/local/lib/python3.11/dist-packages (from unstructured-client->unstructured) (0.4.0)\n",
            "Requirement already satisfied: cffi>=1.12 in /usr/local/lib/python3.11/dist-packages (from cryptography>=3.1->unstructured-client->unstructured) (1.17.1)\n",
            "Requirement already satisfied: anyio in /usr/local/lib/python3.11/dist-packages (from httpx>=0.27.0->unstructured-client->unstructured) (4.9.0)\n",
            "Requirement already satisfied: httpcore==1.* in /usr/local/lib/python3.11/dist-packages (from httpx>=0.27.0->unstructured-client->unstructured) (1.0.9)\n",
            "Requirement already satisfied: h11>=0.16 in /usr/local/lib/python3.11/dist-packages (from httpcore==1.*->httpx>=0.27.0->unstructured-client->unstructured) (0.16.0)\n",
            "Requirement already satisfied: packaging>=17.0 in /usr/local/lib/python3.11/dist-packages (from marshmallow<4.0.0,>=3.18.0->dataclasses-json->unstructured) (24.2)\n",
            "Requirement already satisfied: annotated-types>=0.6.0 in /usr/local/lib/python3.11/dist-packages (from pydantic>=2.11.2->unstructured-client->unstructured) (0.7.0)\n",
            "Requirement already satisfied: pydantic-core==2.33.2 in /usr/local/lib/python3.11/dist-packages (from pydantic>=2.11.2->unstructured-client->unstructured) (2.33.2)\n",
            "Requirement already satisfied: mypy-extensions>=0.3.0 in /usr/local/lib/python3.11/dist-packages (from typing-inspect<1,>=0.4.0->dataclasses-json->unstructured) (1.1.0)\n",
            "Requirement already satisfied: pycparser in /usr/local/lib/python3.11/dist-packages (from cffi>=1.12->cryptography>=3.1->unstructured-client->unstructured) (2.22)\n",
            "Requirement already satisfied: sniffio>=1.1 in /usr/local/lib/python3.11/dist-packages (from anyio->httpx>=0.27.0->unstructured-client->unstructured) (1.3.1)\n",
            "Downloading unstructured-0.17.2-py3-none-any.whl (1.8 MB)\n",
            "\u001b[2K   \u001b[90m━━━━━━━━━━━━━━━━━━━━━━━━━━━━━━━━━━━━━━━━\u001b[0m \u001b[32m1.8/1.8 MB\u001b[0m \u001b[31m58.0 MB/s\u001b[0m eta \u001b[36m0:00:00\u001b[0m\n",
            "\u001b[?25hDownloading emoji-2.14.1-py3-none-any.whl (590 kB)\n",
            "\u001b[2K   \u001b[90m━━━━━━━━━━━━━━━━━━━━━━━━━━━━━━━━━━━━━━━━\u001b[0m \u001b[32m590.6/590.6 kB\u001b[0m \u001b[31m39.2 MB/s\u001b[0m eta \u001b[36m0:00:00\u001b[0m\n",
            "\u001b[?25hDownloading filetype-1.2.0-py2.py3-none-any.whl (19 kB)\n",
            "Downloading python_iso639-2025.2.18-py3-none-any.whl (167 kB)\n",
            "\u001b[2K   \u001b[90m━━━━━━━━━━━━━━━━━━━━━━━━━━━━━━━━━━━━━━━━\u001b[0m \u001b[32m167.6/167.6 kB\u001b[0m \u001b[31m14.2 MB/s\u001b[0m eta \u001b[36m0:00:00\u001b[0m\n",
            "\u001b[?25hDownloading python_magic-0.4.27-py2.py3-none-any.whl (13 kB)\n",
            "Downloading python_oxmsg-0.0.2-py3-none-any.whl (31 kB)\n",
            "Downloading rapidfuzz-3.13.0-cp311-cp311-manylinux_2_17_x86_64.manylinux2014_x86_64.whl (3.1 MB)\n",
            "\u001b[2K   \u001b[90m━━━━━━━━━━━━━━━━━━━━━━━━━━━━━━━━━━━━━━━━\u001b[0m \u001b[32m3.1/3.1 MB\u001b[0m \u001b[31m74.5 MB/s\u001b[0m eta \u001b[36m0:00:00\u001b[0m\n",
            "\u001b[?25hDownloading unstructured_client-0.34.0-py3-none-any.whl (189 kB)\n",
            "\u001b[2K   \u001b[90m━━━━━━━━━━━━━━━━━━━━━━━━━━━━━━━━━━━━━━━━\u001b[0m \u001b[32m189.4/189.4 kB\u001b[0m \u001b[31m14.2 MB/s\u001b[0m eta \u001b[36m0:00:00\u001b[0m\n",
            "\u001b[?25hDownloading aiofiles-24.1.0-py3-none-any.whl (15 kB)\n",
            "Downloading eval_type_backport-0.2.2-py3-none-any.whl (5.8 kB)\n",
            "Downloading pypdf-5.5.0-py3-none-any.whl (303 kB)\n",
            "\u001b[2K   \u001b[90m━━━━━━━━━━━━━━━━━━━━━━━━━━━━━━━━━━━━━━━━\u001b[0m \u001b[32m303.4/303.4 kB\u001b[0m \u001b[31m22.4 MB/s\u001b[0m eta \u001b[36m0:00:00\u001b[0m\n",
            "\u001b[?25hDownloading olefile-0.47-py2.py3-none-any.whl (114 kB)\n",
            "\u001b[2K   \u001b[90m━━━━━━━━━━━━━━━━━━━━━━━━━━━━━━━━━━━━━━━━\u001b[0m \u001b[32m114.6/114.6 kB\u001b[0m \u001b[31m9.4 MB/s\u001b[0m eta \u001b[36m0:00:00\u001b[0m\n",
            "\u001b[?25hBuilding wheels for collected packages: langdetect\n",
            "  Building wheel for langdetect (setup.py) ... \u001b[?25l\u001b[?25hdone\n",
            "  Created wheel for langdetect: filename=langdetect-1.0.9-py3-none-any.whl size=993223 sha256=6e5683d6d77cb7a8e89abc77495ed4cf402e19ba343d44ee2ec30ad2235ab153\n",
            "  Stored in directory: /root/.cache/pip/wheels/0a/f2/b2/e5ca405801e05eb7c8ed5b3b4bcf1fcabcd6272c167640072e\n",
            "Successfully built langdetect\n",
            "Installing collected packages: filetype, rapidfuzz, python-magic, python-iso639, pypdf, olefile, langdetect, eval-type-backport, emoji, aiofiles, python-oxmsg, unstructured-client, unstructured\n",
            "Successfully installed aiofiles-24.1.0 emoji-2.14.1 eval-type-backport-0.2.2 filetype-1.2.0 langdetect-1.0.9 olefile-0.47 pypdf-5.5.0 python-iso639-2025.2.18 python-magic-0.4.27 python-oxmsg-0.0.2 rapidfuzz-3.13.0 unstructured-0.17.2 unstructured-client-0.34.0\n"
          ]
        }
      ],
      "source": [
        "!pip install unstructured"
      ]
    },
    {
      "cell_type": "code",
      "execution_count": null,
      "metadata": {
        "colab": {
          "base_uri": "https://localhost:8080/"
        },
        "id": "eXDEWjIfW61a",
        "outputId": "4af65371-5b47-4d5c-9ce9-a9a5a3a04184"
      },
      "outputs": [
        {
          "name": "stdout",
          "output_type": "stream",
          "text": [
            "Collecting python-docx\n",
            "  Downloading python_docx-1.1.2-py3-none-any.whl.metadata (2.0 kB)\n",
            "Requirement already satisfied: lxml>=3.1.0 in /usr/local/lib/python3.11/dist-packages (from python-docx) (5.4.0)\n",
            "Requirement already satisfied: typing-extensions>=4.9.0 in /usr/local/lib/python3.11/dist-packages (from python-docx) (4.13.2)\n",
            "Downloading python_docx-1.1.2-py3-none-any.whl (244 kB)\n",
            "\u001b[?25l   \u001b[90m━━━━━━━━━━━━━━━━━━━━━━━━━━━━━━━━━━━━━━━━\u001b[0m \u001b[32m0.0/244.3 kB\u001b[0m \u001b[31m?\u001b[0m eta \u001b[36m-:--:--\u001b[0m\r\u001b[2K   \u001b[91m━━━━━━━━━━━━━━━━━━━━━━━━━━━━━━━━━━━━━━\u001b[0m\u001b[91m╸\u001b[0m\u001b[90m━\u001b[0m \u001b[32m235.5/244.3 kB\u001b[0m \u001b[31m7.1 MB/s\u001b[0m eta \u001b[36m0:00:01\u001b[0m\r\u001b[2K   \u001b[90m━━━━━━━━━━━━━━━━━━━━━━━━━━━━━━━━━━━━━━━━\u001b[0m \u001b[32m244.3/244.3 kB\u001b[0m \u001b[31m5.4 MB/s\u001b[0m eta \u001b[36m0:00:00\u001b[0m\n",
            "\u001b[?25hInstalling collected packages: python-docx\n",
            "Successfully installed python-docx-1.1.2\n"
          ]
        }
      ],
      "source": [
        "!pip install python-docx"
      ]
    },
    {
      "cell_type": "code",
      "execution_count": null,
      "metadata": {
        "colab": {
          "base_uri": "https://localhost:8080/"
        },
        "id": "oo7Af5oEWuw3",
        "outputId": "14db82c7-ead5-4160-ebc3-bd76059b0eba"
      },
      "outputs": [
        {
          "data": {
            "text/plain": [
              "[Document(metadata={'source': '/content/company_rules.docx'}, page_content='우리 회사의 정규직 전환은 수습기간 4개월후 평가를 거쳐 결정된다.\\n\\n근태관리 기준은 8출근 5퇴근을 기준으로 한다\\n\\n금요일은 전사가 오전 근무만 한다\\n\\n우리회사의 재택근무는 본인이 원하면 누구의 승인도 받지 않고 자유롭게 실시한다\\n\\n구분 종류 타입 가격 사무용 개인용품 A타입 5000')]"
            ]
          },
          "execution_count": 35,
          "metadata": {},
          "output_type": "execute_result"
        }
      ],
      "source": [
        "# 워드문서 로드\n",
        "from langchain.document_loaders import UnstructuredWordDocumentLoader\n",
        "loader = UnstructuredWordDocumentLoader(\"/content/company_rules.docx\")\n",
        "pages = loader.load()  # 페이지 단위로 문서를 분리\n",
        "pages\n"
      ]
    },
    {
      "cell_type": "code",
      "execution_count": null,
      "metadata": {
        "colab": {
          "base_uri": "https://localhost:8080/",
          "height": 143
        },
        "id": "7XRfgEHQXoaH",
        "outputId": "38c1301a-a02d-4baf-9111-a59b19f58e3e"
      },
      "outputs": [
        {
          "data": {
            "application/vnd.google.colaboratory.intrinsic+json": {
              "summary": "{\n  \"name\": \"df\",\n  \"rows\": 3,\n  \"fields\": [\n    {\n      \"column\": \"name\",\n      \"properties\": {\n        \"dtype\": \"string\",\n        \"num_unique_values\": 3,\n        \"samples\": [\n          \"Alice\",\n          \"Bob\",\n          \"Charlie\"\n        ],\n        \"semantic_type\": \"\",\n        \"description\": \"\"\n      }\n    },\n    {\n      \"column\": \"age\",\n      \"properties\": {\n        \"dtype\": \"number\",\n        \"std\": 5,\n        \"min\": 25,\n        \"max\": 35,\n        \"num_unique_values\": 3,\n        \"samples\": [\n          25,\n          30,\n          35\n        ],\n        \"semantic_type\": \"\",\n        \"description\": \"\"\n      }\n    },\n    {\n      \"column\": \"city\",\n      \"properties\": {\n        \"dtype\": \"string\",\n        \"num_unique_values\": 3,\n        \"samples\": [\n          \"New York\",\n          \"San Francisco\",\n          \"Los Angeles\"\n        ],\n        \"semantic_type\": \"\",\n        \"description\": \"\"\n      }\n    }\n  ]\n}",
              "type": "dataframe",
              "variable_name": "df"
            },
            "text/html": [
              "\n",
              "  <div id=\"df-394d194f-302e-4a3a-b1a0-ee38e06737dc\" class=\"colab-df-container\">\n",
              "    <div>\n",
              "<style scoped>\n",
              "    .dataframe tbody tr th:only-of-type {\n",
              "        vertical-align: middle;\n",
              "    }\n",
              "\n",
              "    .dataframe tbody tr th {\n",
              "        vertical-align: top;\n",
              "    }\n",
              "\n",
              "    .dataframe thead th {\n",
              "        text-align: right;\n",
              "    }\n",
              "</style>\n",
              "<table border=\"1\" class=\"dataframe\">\n",
              "  <thead>\n",
              "    <tr style=\"text-align: right;\">\n",
              "      <th></th>\n",
              "      <th>name</th>\n",
              "      <th>age</th>\n",
              "      <th>city</th>\n",
              "    </tr>\n",
              "  </thead>\n",
              "  <tbody>\n",
              "    <tr>\n",
              "      <th>0</th>\n",
              "      <td>Alice</td>\n",
              "      <td>25</td>\n",
              "      <td>New York</td>\n",
              "    </tr>\n",
              "    <tr>\n",
              "      <th>1</th>\n",
              "      <td>Bob</td>\n",
              "      <td>30</td>\n",
              "      <td>San Francisco</td>\n",
              "    </tr>\n",
              "    <tr>\n",
              "      <th>2</th>\n",
              "      <td>Charlie</td>\n",
              "      <td>35</td>\n",
              "      <td>Los Angeles</td>\n",
              "    </tr>\n",
              "  </tbody>\n",
              "</table>\n",
              "</div>\n",
              "    <div class=\"colab-df-buttons\">\n",
              "\n",
              "  <div class=\"colab-df-container\">\n",
              "    <button class=\"colab-df-convert\" onclick=\"convertToInteractive('df-394d194f-302e-4a3a-b1a0-ee38e06737dc')\"\n",
              "            title=\"Convert this dataframe to an interactive table.\"\n",
              "            style=\"display:none;\">\n",
              "\n",
              "  <svg xmlns=\"http://www.w3.org/2000/svg\" height=\"24px\" viewBox=\"0 -960 960 960\">\n",
              "    <path d=\"M120-120v-720h720v720H120Zm60-500h600v-160H180v160Zm220 220h160v-160H400v160Zm0 220h160v-160H400v160ZM180-400h160v-160H180v160Zm440 0h160v-160H620v160ZM180-180h160v-160H180v160Zm440 0h160v-160H620v160Z\"/>\n",
              "  </svg>\n",
              "    </button>\n",
              "\n",
              "  <style>\n",
              "    .colab-df-container {\n",
              "      display:flex;\n",
              "      gap: 12px;\n",
              "    }\n",
              "\n",
              "    .colab-df-convert {\n",
              "      background-color: #E8F0FE;\n",
              "      border: none;\n",
              "      border-radius: 50%;\n",
              "      cursor: pointer;\n",
              "      display: none;\n",
              "      fill: #1967D2;\n",
              "      height: 32px;\n",
              "      padding: 0 0 0 0;\n",
              "      width: 32px;\n",
              "    }\n",
              "\n",
              "    .colab-df-convert:hover {\n",
              "      background-color: #E2EBFA;\n",
              "      box-shadow: 0px 1px 2px rgba(60, 64, 67, 0.3), 0px 1px 3px 1px rgba(60, 64, 67, 0.15);\n",
              "      fill: #174EA6;\n",
              "    }\n",
              "\n",
              "    .colab-df-buttons div {\n",
              "      margin-bottom: 4px;\n",
              "    }\n",
              "\n",
              "    [theme=dark] .colab-df-convert {\n",
              "      background-color: #3B4455;\n",
              "      fill: #D2E3FC;\n",
              "    }\n",
              "\n",
              "    [theme=dark] .colab-df-convert:hover {\n",
              "      background-color: #434B5C;\n",
              "      box-shadow: 0px 1px 3px 1px rgba(0, 0, 0, 0.15);\n",
              "      filter: drop-shadow(0px 1px 2px rgba(0, 0, 0, 0.3));\n",
              "      fill: #FFFFFF;\n",
              "    }\n",
              "  </style>\n",
              "\n",
              "    <script>\n",
              "      const buttonEl =\n",
              "        document.querySelector('#df-394d194f-302e-4a3a-b1a0-ee38e06737dc button.colab-df-convert');\n",
              "      buttonEl.style.display =\n",
              "        google.colab.kernel.accessAllowed ? 'block' : 'none';\n",
              "\n",
              "      async function convertToInteractive(key) {\n",
              "        const element = document.querySelector('#df-394d194f-302e-4a3a-b1a0-ee38e06737dc');\n",
              "        const dataTable =\n",
              "          await google.colab.kernel.invokeFunction('convertToInteractive',\n",
              "                                                    [key], {});\n",
              "        if (!dataTable) return;\n",
              "\n",
              "        const docLinkHtml = 'Like what you see? Visit the ' +\n",
              "          '<a target=\"_blank\" href=https://colab.research.google.com/notebooks/data_table.ipynb>data table notebook</a>'\n",
              "          + ' to learn more about interactive tables.';\n",
              "        element.innerHTML = '';\n",
              "        dataTable['output_type'] = 'display_data';\n",
              "        await google.colab.output.renderOutput(dataTable, element);\n",
              "        const docLink = document.createElement('div');\n",
              "        docLink.innerHTML = docLinkHtml;\n",
              "        element.appendChild(docLink);\n",
              "      }\n",
              "    </script>\n",
              "  </div>\n",
              "\n",
              "\n",
              "    <div id=\"df-2f5348ea-db77-4bd6-9340-8c17a37eab3c\">\n",
              "      <button class=\"colab-df-quickchart\" onclick=\"quickchart('df-2f5348ea-db77-4bd6-9340-8c17a37eab3c')\"\n",
              "                title=\"Suggest charts\"\n",
              "                style=\"display:none;\">\n",
              "\n",
              "<svg xmlns=\"http://www.w3.org/2000/svg\" height=\"24px\"viewBox=\"0 0 24 24\"\n",
              "     width=\"24px\">\n",
              "    <g>\n",
              "        <path d=\"M19 3H5c-1.1 0-2 .9-2 2v14c0 1.1.9 2 2 2h14c1.1 0 2-.9 2-2V5c0-1.1-.9-2-2-2zM9 17H7v-7h2v7zm4 0h-2V7h2v10zm4 0h-2v-4h2v4z\"/>\n",
              "    </g>\n",
              "</svg>\n",
              "      </button>\n",
              "\n",
              "<style>\n",
              "  .colab-df-quickchart {\n",
              "      --bg-color: #E8F0FE;\n",
              "      --fill-color: #1967D2;\n",
              "      --hover-bg-color: #E2EBFA;\n",
              "      --hover-fill-color: #174EA6;\n",
              "      --disabled-fill-color: #AAA;\n",
              "      --disabled-bg-color: #DDD;\n",
              "  }\n",
              "\n",
              "  [theme=dark] .colab-df-quickchart {\n",
              "      --bg-color: #3B4455;\n",
              "      --fill-color: #D2E3FC;\n",
              "      --hover-bg-color: #434B5C;\n",
              "      --hover-fill-color: #FFFFFF;\n",
              "      --disabled-bg-color: #3B4455;\n",
              "      --disabled-fill-color: #666;\n",
              "  }\n",
              "\n",
              "  .colab-df-quickchart {\n",
              "    background-color: var(--bg-color);\n",
              "    border: none;\n",
              "    border-radius: 50%;\n",
              "    cursor: pointer;\n",
              "    display: none;\n",
              "    fill: var(--fill-color);\n",
              "    height: 32px;\n",
              "    padding: 0;\n",
              "    width: 32px;\n",
              "  }\n",
              "\n",
              "  .colab-df-quickchart:hover {\n",
              "    background-color: var(--hover-bg-color);\n",
              "    box-shadow: 0 1px 2px rgba(60, 64, 67, 0.3), 0 1px 3px 1px rgba(60, 64, 67, 0.15);\n",
              "    fill: var(--button-hover-fill-color);\n",
              "  }\n",
              "\n",
              "  .colab-df-quickchart-complete:disabled,\n",
              "  .colab-df-quickchart-complete:disabled:hover {\n",
              "    background-color: var(--disabled-bg-color);\n",
              "    fill: var(--disabled-fill-color);\n",
              "    box-shadow: none;\n",
              "  }\n",
              "\n",
              "  .colab-df-spinner {\n",
              "    border: 2px solid var(--fill-color);\n",
              "    border-color: transparent;\n",
              "    border-bottom-color: var(--fill-color);\n",
              "    animation:\n",
              "      spin 1s steps(1) infinite;\n",
              "  }\n",
              "\n",
              "  @keyframes spin {\n",
              "    0% {\n",
              "      border-color: transparent;\n",
              "      border-bottom-color: var(--fill-color);\n",
              "      border-left-color: var(--fill-color);\n",
              "    }\n",
              "    20% {\n",
              "      border-color: transparent;\n",
              "      border-left-color: var(--fill-color);\n",
              "      border-top-color: var(--fill-color);\n",
              "    }\n",
              "    30% {\n",
              "      border-color: transparent;\n",
              "      border-left-color: var(--fill-color);\n",
              "      border-top-color: var(--fill-color);\n",
              "      border-right-color: var(--fill-color);\n",
              "    }\n",
              "    40% {\n",
              "      border-color: transparent;\n",
              "      border-right-color: var(--fill-color);\n",
              "      border-top-color: var(--fill-color);\n",
              "    }\n",
              "    60% {\n",
              "      border-color: transparent;\n",
              "      border-right-color: var(--fill-color);\n",
              "    }\n",
              "    80% {\n",
              "      border-color: transparent;\n",
              "      border-right-color: var(--fill-color);\n",
              "      border-bottom-color: var(--fill-color);\n",
              "    }\n",
              "    90% {\n",
              "      border-color: transparent;\n",
              "      border-bottom-color: var(--fill-color);\n",
              "    }\n",
              "  }\n",
              "</style>\n",
              "\n",
              "      <script>\n",
              "        async function quickchart(key) {\n",
              "          const quickchartButtonEl =\n",
              "            document.querySelector('#' + key + ' button');\n",
              "          quickchartButtonEl.disabled = true;  // To prevent multiple clicks.\n",
              "          quickchartButtonEl.classList.add('colab-df-spinner');\n",
              "          try {\n",
              "            const charts = await google.colab.kernel.invokeFunction(\n",
              "                'suggestCharts', [key], {});\n",
              "          } catch (error) {\n",
              "            console.error('Error during call to suggestCharts:', error);\n",
              "          }\n",
              "          quickchartButtonEl.classList.remove('colab-df-spinner');\n",
              "          quickchartButtonEl.classList.add('colab-df-quickchart-complete');\n",
              "        }\n",
              "        (() => {\n",
              "          let quickchartButtonEl =\n",
              "            document.querySelector('#df-2f5348ea-db77-4bd6-9340-8c17a37eab3c button');\n",
              "          quickchartButtonEl.style.display =\n",
              "            google.colab.kernel.accessAllowed ? 'block' : 'none';\n",
              "        })();\n",
              "      </script>\n",
              "    </div>\n",
              "\n",
              "  <div id=\"id_48563d08-418f-4b73-b431-986772dd2e57\">\n",
              "    <style>\n",
              "      .colab-df-generate {\n",
              "        background-color: #E8F0FE;\n",
              "        border: none;\n",
              "        border-radius: 50%;\n",
              "        cursor: pointer;\n",
              "        display: none;\n",
              "        fill: #1967D2;\n",
              "        height: 32px;\n",
              "        padding: 0 0 0 0;\n",
              "        width: 32px;\n",
              "      }\n",
              "\n",
              "      .colab-df-generate:hover {\n",
              "        background-color: #E2EBFA;\n",
              "        box-shadow: 0px 1px 2px rgba(60, 64, 67, 0.3), 0px 1px 3px 1px rgba(60, 64, 67, 0.15);\n",
              "        fill: #174EA6;\n",
              "      }\n",
              "\n",
              "      [theme=dark] .colab-df-generate {\n",
              "        background-color: #3B4455;\n",
              "        fill: #D2E3FC;\n",
              "      }\n",
              "\n",
              "      [theme=dark] .colab-df-generate:hover {\n",
              "        background-color: #434B5C;\n",
              "        box-shadow: 0px 1px 3px 1px rgba(0, 0, 0, 0.15);\n",
              "        filter: drop-shadow(0px 1px 2px rgba(0, 0, 0, 0.3));\n",
              "        fill: #FFFFFF;\n",
              "      }\n",
              "    </style>\n",
              "    <button class=\"colab-df-generate\" onclick=\"generateWithVariable('df')\"\n",
              "            title=\"Generate code using this dataframe.\"\n",
              "            style=\"display:none;\">\n",
              "\n",
              "  <svg xmlns=\"http://www.w3.org/2000/svg\" height=\"24px\"viewBox=\"0 0 24 24\"\n",
              "       width=\"24px\">\n",
              "    <path d=\"M7,19H8.4L18.45,9,17,7.55,7,17.6ZM5,21V16.75L18.45,3.32a2,2,0,0,1,2.83,0l1.4,1.43a1.91,1.91,0,0,1,.58,1.4,1.91,1.91,0,0,1-.58,1.4L9.25,21ZM18.45,9,17,7.55Zm-12,3A5.31,5.31,0,0,0,4.9,8.1,5.31,5.31,0,0,0,1,6.5,5.31,5.31,0,0,0,4.9,4.9,5.31,5.31,0,0,0,6.5,1,5.31,5.31,0,0,0,8.1,4.9,5.31,5.31,0,0,0,12,6.5,5.46,5.46,0,0,0,6.5,12Z\"/>\n",
              "  </svg>\n",
              "    </button>\n",
              "    <script>\n",
              "      (() => {\n",
              "      const buttonEl =\n",
              "        document.querySelector('#id_48563d08-418f-4b73-b431-986772dd2e57 button.colab-df-generate');\n",
              "      buttonEl.style.display =\n",
              "        google.colab.kernel.accessAllowed ? 'block' : 'none';\n",
              "\n",
              "      buttonEl.onclick = () => {\n",
              "        google.colab.notebook.generateWithVariable('df');\n",
              "      }\n",
              "      })();\n",
              "    </script>\n",
              "  </div>\n",
              "\n",
              "    </div>\n",
              "  </div>\n"
            ],
            "text/plain": [
              "      name  age           city\n",
              "0    Alice   25       New York\n",
              "1      Bob   30  San Francisco\n",
              "2  Charlie   35    Los Angeles"
            ]
          },
          "execution_count": 39,
          "metadata": {},
          "output_type": "execute_result"
        }
      ],
      "source": [
        "import pandas as pd\n",
        "data = {\n",
        "    'name' : ['Alice', 'Bob', 'Charlie'],\n",
        "    'age' : [25, 30, 35],\n",
        "    'city' : ['New York', 'San Francisco', 'Los Angeles']\n",
        "}\n",
        "df = pd.DataFrame(data)\n",
        "df.to_csv('example.csv', index=False)\n",
        "df"
      ]
    },
    {
      "cell_type": "code",
      "execution_count": null,
      "metadata": {
        "colab": {
          "base_uri": "https://localhost:8080/"
        },
        "id": "5PktS5n6W2VH",
        "outputId": "c5d82218-79c7-4d66-98eb-e86cb3ba1952"
      },
      "outputs": [
        {
          "data": {
            "text/plain": [
              "[Document(metadata={'source': 'example.csv', 'row': 0}, page_content='name: Alice\\nage: 25\\ncity: New York'),\n",
              " Document(metadata={'source': 'example.csv', 'row': 1}, page_content='name: Bob\\nage: 30\\ncity: San Francisco'),\n",
              " Document(metadata={'source': 'example.csv', 'row': 2}, page_content='name: Charlie\\nage: 35\\ncity: Los Angeles')]"
            ]
          },
          "execution_count": 40,
          "metadata": {},
          "output_type": "execute_result"
        }
      ],
      "source": [
        "# csv 로드\n",
        "from langchain.document_loaders.csv_loader import CSVLoader\n",
        "loader = CSVLoader(\"example.csv\")\n",
        "pages = loader.load()\n",
        "pages\n"
      ]
    },
    {
      "cell_type": "code",
      "execution_count": null,
      "metadata": {
        "colab": {
          "base_uri": "https://localhost:8080/"
        },
        "id": "IB7y4ooFXaoJ",
        "outputId": "79221949-f11d-4f29-bc94-9873a83ce569"
      },
      "outputs": [
        {
          "data": {
            "text/plain": [
              "[Document(metadata={'source': 'https://github.com/sknetworks20250226/AI', 'title': 'GitHub - sknetworks20250226/AI', 'description': 'Contribute to sknetworks20250226/AI development by creating an account on GitHub.', 'language': 'en'}, page_content=\"\\n\\n\\n\\n\\n\\n\\n\\n\\n\\n\\n\\n\\n\\n\\n\\n\\n\\n\\n\\n\\n\\n\\n\\n\\n\\n\\n\\n\\n\\n\\n\\n\\n\\n\\n\\n\\n\\n\\n\\n\\n\\n\\n\\n\\n\\n\\n\\n\\n\\n\\n\\n\\n\\n\\n\\n\\n\\n\\n\\n\\n\\n\\n\\n\\n\\n\\n\\n\\n\\n\\n\\nGitHub - sknetworks20250226/AI\\n\\n\\n\\n\\n\\n\\n\\n\\n\\n\\n\\n\\n\\n\\n\\n\\n\\n\\n\\n\\n\\n\\n\\n\\n\\n\\n\\n\\n\\n\\n\\n\\n\\n\\n\\n\\n\\n\\n\\n\\n\\n\\n\\n\\n\\n\\n\\nSkip to content\\n\\n\\n\\n\\n\\n\\n\\n\\n\\n\\n\\n\\n\\n\\nNavigation Menu\\n\\nToggle navigation\\n\\n\\n\\n\\n \\n\\n\\n\\n\\n\\n\\n\\n\\n\\n\\n\\n\\n\\n            Sign in\\n          \\n\\n\\n\\n\\n\\n\\n\\n\\n        Product\\n        \\n\\n\\n\\n\\n\\n\\n\\n\\n\\n\\n\\n\\n\\nGitHub Copilot\\n        Write better code with AI\\n      \\n\\n\\n\\n\\n\\n\\n\\nGitHub Advanced Security\\n        Find and fix vulnerabilities\\n      \\n\\n\\n\\n\\n\\n\\n\\nActions\\n        Automate any workflow\\n      \\n\\n\\n\\n\\n\\n\\n\\nCodespaces\\n        Instant dev environments\\n      \\n\\n\\n\\n\\n\\n\\n\\nIssues\\n        Plan and track work\\n      \\n\\n\\n\\n\\n\\n\\n\\nCode Review\\n        Manage code changes\\n      \\n\\n\\n\\n\\n\\n\\n\\nDiscussions\\n        Collaborate outside of code\\n      \\n\\n\\n\\n\\n\\n\\n\\nCode Search\\n        Find more, search less\\n      \\n\\n\\n\\n\\n\\n\\nExplore\\n\\n\\n\\n      Why GitHub\\n\\n    \\n\\n\\n\\n      All features\\n\\n    \\n\\n\\n\\n      Documentation\\n\\n    \\n\\n\\n\\n\\n\\n      GitHub Skills\\n\\n    \\n\\n\\n\\n\\n\\n      Blog\\n\\n    \\n\\n\\n\\n\\n\\n\\n\\n\\n\\n\\n        Solutions\\n        \\n\\n\\n\\n\\n\\n\\nBy company size\\n\\n\\n\\n      Enterprises\\n\\n    \\n\\n\\n\\n      Small and medium teams\\n\\n    \\n\\n\\n\\n      Startups\\n\\n    \\n\\n\\n\\n      Nonprofits\\n\\n    \\n\\n\\n\\n\\nBy use case\\n\\n\\n\\n      DevSecOps\\n\\n    \\n\\n\\n\\n      DevOps\\n\\n    \\n\\n\\n\\n      CI/CD\\n\\n    \\n\\n\\n\\n      View all use cases\\n\\n    \\n\\n\\n\\n\\n\\n\\nBy industry\\n\\n\\n\\n      Healthcare\\n\\n    \\n\\n\\n\\n      Financial services\\n\\n    \\n\\n\\n\\n      Manufacturing\\n\\n    \\n\\n\\n\\n      Government\\n\\n    \\n\\n\\n\\n      View all industries\\n\\n    \\n\\n\\n\\n\\n\\n\\n              View all solutions\\n              \\n\\n\\n \\n\\n\\n\\n\\n        Resources\\n        \\n\\n\\n\\n\\n\\n\\nTopics\\n\\n\\n\\n      AI\\n\\n    \\n\\n\\n\\n      DevOps\\n\\n    \\n\\n\\n\\n      Security\\n\\n    \\n\\n\\n\\n      Software Development\\n\\n    \\n\\n\\n\\n      View all\\n\\n    \\n\\n\\n\\n\\n\\n\\nExplore\\n\\n\\n\\n      Learning Pathways\\n\\n    \\n\\n\\n\\n\\n\\n      Events & Webinars\\n\\n    \\n\\n\\n\\n\\n\\n      Ebooks & Whitepapers\\n\\n    \\n\\n\\n\\n      Customer Stories\\n\\n    \\n\\n\\n\\n      Partners\\n\\n    \\n\\n\\n\\n\\n\\n      Executive Insights\\n\\n    \\n\\n\\n\\n\\n\\n\\n\\n\\n        Open Source\\n        \\n\\n\\n\\n\\n\\n\\n\\n\\n\\n\\nGitHub Sponsors\\n        Fund open source developers\\n      \\n\\n\\n\\n\\n\\n\\n\\n\\nThe ReadME Project\\n        GitHub community articles\\n      \\n\\n\\n\\n\\nRepositories\\n\\n\\n\\n      Topics\\n\\n    \\n\\n\\n\\n      Trending\\n\\n    \\n\\n\\n\\n      Collections\\n\\n    \\n\\n\\n\\n\\n\\n\\n\\n\\n        Enterprise\\n        \\n\\n\\n\\n\\n\\n\\n\\n\\n\\n\\n\\n\\n\\nEnterprise platform\\n        AI-powered developer platform\\n      \\n\\n\\n\\n\\nAvailable add-ons\\n\\n\\n\\n\\n\\n\\n\\nGitHub Advanced Security\\n        Enterprise-grade security features\\n      \\n\\n\\n\\n\\n\\n\\n\\nCopilot for business\\n        Enterprise-grade AI features\\n      \\n\\n\\n\\n\\n\\n\\n\\nPremium Support\\n        Enterprise-grade 24/7 support\\n      \\n\\n\\n\\n\\n\\n\\n\\nPricing\\n\\n\\n\\n\\n\\n\\n\\n\\n\\n\\n\\n\\nSearch or jump to...\\n\\n\\n\\n\\n\\n\\n\\nSearch code, repositories, users, issues, pull requests...\\n\\n \\n\\n\\n\\n\\n        Search\\n      \\n\\n\\n\\n\\n\\n\\n\\n\\n\\n\\n\\n\\n\\nClear\\n \\n\\n\\n\\n\\n\\n\\n\\n\\n\\n\\n\\n\\n\\n\\n\\n\\n\\n\\n\\n\\n\\n\\n\\n\\n\\n\\n\\n\\n\\n\\n\\n\\n\\n\\n\\n\\n\\n\\n\\n\\n\\n\\n\\n\\n\\n\\n\\n\\n \\n\\n\\n\\nSearch syntax tips \\n\\n\\n\\n\\n\\n\\n\\n\\n\\n\\n\\n\\n\\n\\n        Provide feedback\\n      \\n\\n\\n\\n\\n\\n\\n\\n\\n\\n \\nWe read every piece of feedback, and take your input very seriously.\\n\\n\\nInclude my email address so I can be contacted\\n\\n\\n     Cancel\\n\\n    Submit feedback\\n\\n\\n\\n\\n\\n\\n\\n\\n\\n\\n        Saved searches\\n      \\nUse saved searches to filter your results more quickly\\n\\n\\n\\n\\n\\n\\n\\n\\n\\n \\n\\n\\n\\n\\n\\nName\\n\\n\\n\\n\\n\\n\\nQuery\\n\\n\\n\\n            To see all available qualifiers, see our documentation.\\n          \\n \\n\\n\\n\\n\\n\\n     Cancel\\n\\n    Create saved search\\n\\n\\n\\n\\n\\n\\n\\n\\n                Sign in\\n              \\n\\n\\n                Sign up\\n              \\n\\n\\n \\n\\n\\nAppearance settings\\n\\n\\n\\nReseting focus\\n\\n\\n\\n\\n\\n\\n\\n\\n\\nYou signed in with another tab or window. Reload to refresh your session.\\nYou signed out in another tab or window. Reload to refresh your session.\\nYou switched accounts on another tab or window. Reload to refresh your session.\\n \\n\\n\\nDismiss alert\\n\\n\\n\\n\\n\\n\\n\\n\\n\\n\\n\\n\\n\\n\\n\\n\\n\\n\\n        sknetworks20250226\\n \\n/\\n\\nAI\\n\\nPublic\\n\\n\\n\\n\\n\\n \\n\\nNotifications\\n You must be signed in to change notification settings\\n\\n\\n \\n\\nFork\\n    0\\n\\n\\n\\n\\n \\n\\n\\n          Star\\n 0\\n\\n\\n\\n\\n\\n\\n\\n\\n\\n\\n\\n\\n0\\n          stars\\n \\n\\n\\n\\n0\\n          forks\\n \\n\\n\\n\\nBranches\\n \\n\\n\\n\\nTags\\n \\n\\n\\n\\nActivity\\n \\n\\n\\n\\n \\n\\n\\n          Star\\n\\n\\n\\n\\n \\n\\nNotifications\\n You must be signed in to change notification settings\\n\\n\\n\\n\\n\\n\\n\\n\\n\\n\\n\\n\\n\\nCode\\n\\n\\n\\n\\n\\n\\n\\nIssues\\n0\\n\\n\\n\\n\\n\\n\\nPull requests\\n0\\n\\n\\n\\n\\n\\n\\nActions\\n\\n\\n\\n\\n\\n\\n\\nProjects\\n0\\n\\n\\n\\n\\n\\n\\nSecurity\\n\\n\\n\\n\\n\\n\\n\\nInsights\\n\\n\\n\\n \\n\\n \\n\\n\\nAdditional navigation options\\n\\n\\n \\n\\n\\n\\n\\n\\n\\n\\n\\n\\n\\n          Code\\n\\n\\n\\n\\n\\n\\n\\n\\n\\n\\n\\n          Issues\\n\\n\\n\\n\\n\\n\\n\\n\\n\\n\\n\\n          Pull requests\\n\\n\\n\\n\\n\\n\\n\\n\\n\\n\\n\\n          Actions\\n\\n\\n\\n\\n\\n\\n\\n\\n\\n\\n\\n          Projects\\n\\n\\n\\n\\n\\n\\n\\n\\n\\n\\n\\n          Security\\n\\n\\n\\n\\n\\n\\n\\n\\n\\n\\n\\n          Insights\\n\\n\\n\\n\\n\\n\\n \\n\\n\\n\\n\\n\\nsknetworks20250226/AI\\n\\n\\n\\n \\n\\n\\n\\n\\n\\n\\n\\n\\n\\n\\n\\n\\n   \\xa0mainBranchesTagsGo to fileCodeFolders and filesNameNameLast commit messageLast commit dateLatest commit\\xa0History11 Commitsdatadata\\xa0\\xa0README.mdREADME.md\\xa0\\xa0View all filesRepository files navigationREADMEPFAS 대체 소재 개발을 위한 AI 활용 물성/합성 분석 기술 개발 제안서\\n1. 사업 개요\\n1.1 사업 배경\\n\\n글로벌 환경 규제 강화에 따른 PFAS 대체 소재 개발 필요성 증가\\n기존 양자 전산모사의 기술적 한계 극복 필요\\nAI 기반 신소재 개발 기술의 글로벌 경쟁력 확보 필요\\n\\n1.2 사업 목적\\n\\nPFAS 대체 소재 개발을 위한 AI 기반 가상 합성 환경 구축\\n분자 구조 설계 및 합성 모사 모듈 개발\\n물성 예측 및 합성 최적화 AI 모델 개발 (목표 정확도: 95% 이상)\\n\\n2. 기술 개발 내용\\n2.1 핵심 기술 개발\\n2.1.1 AI 기반 가상 합성 환경 구축\\n1. 분자 구조 설계 시스템\\nclass MolecularDesignSystem:\\n    def __init__(self):\\n        self.gnn = GraphNeuralNetwork()\\n        self.transformer = MolecularTransformer()\\n        self.optimizer = GeneticAlgorithm()\\n        self.validator = MolecularValidator()\\n        \\n    def design_molecule(self, target_properties):\\n        # 1. 초기 구조 생성\\n        initial_structures = self._generate_initial_structures(target_properties)\\n        \\n        # 2. 구조 최적화\\n        optimized_structures = self._optimize_structures(initial_structures)\\n        \\n        # 3. 물성 예측\\n        predicted_properties = self._predict_properties(optimized_structures)\\n        \\n        # 4. 구조 검증\\n        validated_structures = self._validate_structures(optimized_structures)\\n        \\n        return validated_structures\\n\\n    def _generate_initial_structures(self, properties):\\n        # GNN 기반 구조 생성\\n        structures = self.gnn.generate(properties)\\n        return structures\\n\\n    def _optimize_structures(self, structures):\\n        # 유전 알고리즘 기반 최적화\\n        optimized = self.optimizer.optimize(structures)\\n        return optimized\\n수학적 공식화:\\n\\n\\n분자 구조 표현\\n\\n분자 그래프 ( G = (V, E) )\\n( V ): 원자 노드 집합\\n( E ): 결합 엣지 집합\\n노드 특성: ( h_v \\\\in \\\\mathbb{R}^d )\\n엣지 특성: ( e_{uv} \\\\in \\\\mathbb{R}^k )\\n\\n\\n\\nGNN 기반 구조 생성\\n\\n메시지 전달 함수:\\n[\\nm_{v}^{(t)} = \\\\sum_{u \\\\in N(v)} M_t(h_v^{(t-1)}, h_u^{(t-1)}, e_{uv})\\n]\\n노드 업데이트:\\n[\\nh_v^{(t)} = U_t(h_v^{(t-1)}, m_v^{(t)})\\n]\\n최종 구조 예측:\\n[\\nP(G|p) = \\\\prod_{v \\\\in V} P(v|h_v^{(T)}) \\\\prod_{(u,v) \\\\in E} P(e_{uv}|h_u^{(T)}, h_v^{(T)})\\n]\\n\\n\\n\\n유전 알고리즘 최적화\\n\\n적합도 함수:\\n[\\nf(G) = \\\\sum_{i} w_i \\\\cdot |p_i - \\\\hat{p}_i|\\n]\\n선택 확률:\\n[\\nP(G_i) = \\\\frac{f(G_i)}{\\\\sum_j f(G_j)}\\n]\\n\\n\\n\\n2. 합성 모사 모듈\\nclass SynthesisSimulator:\\n    def __init__(self):\\n        self.reaction_predictor = ReactionPredictor()\\n        self.condition_simulator = ConditionSimulator()\\n        self.path_optimizer = PathOptimizer()\\n        \\n    def simulate_synthesis(self, target_molecule):\\n        # 1. 반응 예측\\n        reactions = self._predict_reactions(target_molecule)\\n        \\n        # 2. 조건 시뮬레이션\\n        conditions = self._simulate_conditions(reactions)\\n        \\n        # 3. 경로 최적화\\n        optimal_path = self._optimize_path(conditions)\\n        \\n        return optimal_path\\n\\n    def _predict_reactions(self, molecule):\\n        # 반응 예측\\n        reactions = self.reaction_predictor.predict(molecule)\\n        return reactions\\n\\n    def _simulate_conditions(self, reactions):\\n        # 조건 시뮬레이션\\n        conditions = self.condition_simulator.simulate(reactions)\\n        return conditions\\n수학적 공식화:\\n\\n\\n반응 예측 모델\\n\\n반응 확률:\\n[\\nP(r|m) = \\\\frac{\\\\exp(s(m,r))}{\\\\sum_{r'}\\\\exp(s(m,r'))}\\n]\\n점수 함수:\\n[\\ns(m,r) = \\\\text{MLP}([\\\\text{GNN}(m), \\\\text{Embedding}(r)])\\n]\\n\\n\\n\\n조건 시뮬레이션\\n\\n반응 속도:\\n[\\nr = k \\\\cdot \\\\prod_i [A_i]^{\\\\alpha_i}\\n]\\n온도 의존성:\\n[\\nk = A \\\\cdot e^{-\\\\frac{E_a}{RT}}\\n]\\n\\n\\n\\n경로 최적화\\n\\n목적 함수:\\n[\\n\\\\min_{\\\\pi} \\\\sum_{t} c(s_t, a_t) + \\\\lambda \\\\cdot \\\\text{risk}(s_t)\\n]\\n벨만 방정식:\\n[\\nV(s) = \\\\min_a {c(s,a) + \\\\gamma \\\\cdot \\\\mathbb{E}[V(s')]}\\n]\\n\\n\\n\\n3. 실험 데이터베이스 시스템\\nclass ExperimentalDatabase:\\n    def __init__(self):\\n        self.data_processor = DataProcessor()\\n        self.data_validator = DataValidator()\\n        self.data_analyzer = DataAnalyzer()\\n        \\n    def process_data(self, raw_data):\\n        # 1. 데이터 전처리\\n        processed_data = self._preprocess_data(raw_data)\\n        \\n        # 2. 데이터 검증\\n        validated_data = self._validate_data(processed_data)\\n        \\n        # 3. 데이터 분석\\n        analyzed_data = self._analyze_data(validated_data)\\n        \\n        return analyzed_data\\n\\n    def _preprocess_data(self, data):\\n        # 데이터 전처리\\n        processed = self.data_processor.process(data)\\n        return processed\\n수학적 공식화:\\n\\n\\n데이터 전처리\\n\\n정규화:\\n[\\nx' = \\\\frac{x - \\\\mu}{\\\\sigma}\\n]\\n이상치 제거:\\n[\\n\\\\text{outlier} = |x - \\\\mu| > 3\\\\sigma\\n]\\n\\n\\n\\n데이터 검증\\n\\n일관성 검사:\\n[\\n\\\\text{consistency} = \\\\frac{1}{n}\\\\sum_{i=1}^n \\\\mathbb{I}(x_i \\\\in \\\\text{valid_range})\\n]\\n상관관계 검증:\\n[\\n\\\\rho = \\\\frac{\\\\text{cov}(X,Y)}{\\\\sigma_X \\\\sigma_Y}\\n]\\n\\n\\n\\n2.1.2 물성 예측 시스템\\n1. 물성 예측 모델\\nclass PropertyPredictor:\\n    def __init__(self):\\n        self.insulation_predictor = InsulationPredictor()\\n        self.heat_resistance_predictor = HeatResistancePredictor()\\n        self.flame_retardant_predictor = FlameRetardantPredictor()\\n        \\n    def predict_properties(self, molecule):\\n        # 1. 절연성 예측\\n        insulation = self._predict_insulation(molecule)\\n        \\n        # 2. 내열성 예측\\n        heat_resistance = self._predict_heat_resistance(molecule)\\n        \\n        # 3. 불연성 예측\\n        flame_retardant = self._predict_flame_retardant(molecule)\\n        \\n        return {\\n            'insulation': insulation,\\n            'heat_resistance': heat_resistance,\\n            'flame_retardant': flame_retardant\\n        }\\n\\n    def _predict_insulation(self, molecule):\\n        # 절연성 예측\\n        return self.insulation_predictor.predict(molecule)\\n수학적 공식화:\\n\\n\\n다중 물성 예측\\n\\n공동 학습 목적 함수:\\n[\\n\\\\mathcal{L} = \\\\sum_{i=1}^k w_i \\\\cdot \\\\mathcal{L}_i + \\\\lambda \\\\cdot |\\\\theta|_2^2\\n]\\n각 물성 예측:\\n[\\n\\\\hat{y}_i = f_i(\\\\text{GNN}(G); \\\\theta_i)\\n]\\n\\n\\n\\n불확실성 정량화\\n\\n예측 분포:\\n[\\np(y|x) = \\\\mathcal{N}(\\\\mu(x), \\\\sigma^2(x))\\n]\\n불확실성:\\n[\\n\\\\text{uncertainty} = \\\\sqrt{\\\\mathbb{E}[\\\\sigma^2(x)] + \\\\text{Var}[\\\\mu(x)]}\\n]\\n\\n\\n\\n2. 분자 구조-물성 관계 분석 시스템\\nclass StructurePropertyAnalyzer:\\n    def __init__(self):\\n        self.correlation_analyzer = CorrelationAnalyzer()\\n        self.pattern_analyzer = PatternAnalyzer()\\n        self.relationship_model = RelationshipModel()\\n        \\n    def analyze_relationship(self, structures, properties):\\n        # 1. 상관관계 분석\\n        correlations = self._analyze_correlations(structures, properties)\\n        \\n        # 2. 패턴 분석\\n        patterns = self._analyze_patterns(structures, properties)\\n        \\n        # 3. 관계 모델링\\n        model = self._model_relationships(correlations, patterns)\\n        \\n        return model\\n\\n    def _analyze_correlations(self, structures, properties):\\n        # 상관관계 분석\\n        return self.correlation_analyzer.analyze(structures, properties)\\n수학적 공식화:\\n\\n\\n상관관계 분석\\n\\n부분 상관계수:\\n[\\n\\\\rho_{XY|Z} = \\\\frac{\\\\rho_{XY} - \\\\rho_{XZ}\\\\rho_{YZ}}{\\\\sqrt{(1-\\\\rho_{XZ}^2)(1-\\\\rho_{YZ}^2)}}\\n]\\n중요도 점수:\\n[\\nI(f) = \\\\sum_{S \\\\subseteq F \\\\setminus {f}} \\\\frac{|S|!(|F|-|S|-1)!}{|F|!} \\\\cdot \\\\Delta(f,S)\\n]\\n\\n\\n\\n패턴 인식\\n\\n그래프 커널:\\n[\\nK(G,G') = \\\\sum_{k=0}^\\\\infty \\\\lambda^k \\\\cdot \\\\langle \\\\phi_k(G), \\\\phi_k(G') \\\\rangle\\n]\\n패턴 매칭:\\n[\\n\\\\text{similarity} = \\\\frac{\\\\sum_{i} \\\\min(x_i, y_i)}{\\\\sum_{i} \\\\max(x_i, y_i)}\\n]\\n\\n\\n\\n2.1.3 합성 최적화 시스템\\n1. 합성 경로 예측 알고리즘\\nclass SynthesisPathPredictor:\\n    def __init__(self):\\n        self.reaction_predictor = ReactionPredictor()\\n        self.path_generator = PathGenerator()\\n        self.path_evaluator = PathEvaluator()\\n        \\n    def predict_path(self, target_molecule):\\n        # 1. 반응 예측\\n        reactions = self._predict_reactions(target_molecule)\\n        \\n        # 2. 경로 생성\\n        paths = self._generate_paths(reactions)\\n        \\n        # 3. 경로 평가\\n        optimal_path = self._evaluate_paths(paths)\\n        \\n        return optimal_path\\n\\n    def _predict_reactions(self, molecule):\\n        # 반응 예측\\n        return self.reaction_predictor.predict(molecule)\\n수학적 공식화:\\n\\n\\n경로 생성\\n\\n상태 전이 확률:\\n[\\nP(s_{t+1}|s_t,a_t) = \\\\text{softmax}(W \\\\cdot [s_t,a_t])\\n]\\n보상 함수:\\n[\\nR(s,a) = \\\\alpha \\\\cdot \\\\text{yield} + \\\\beta \\\\cdot \\\\text{cost} + \\\\gamma \\\\cdot \\\\text{safety}\\n]\\n\\n\\n\\n경로 평가\\n\\n최적 경로:\\n[\\n\\\\pi^* = \\\\arg\\\\max_\\\\pi \\\\mathbb{E}[\\\\sum_{t=0}^T \\\\gamma^t R(s_t,a_t)]\\n]\\n정책 기울기:\\n[\\n\\\\nabla_\\\\theta J(\\\\theta) = \\\\mathbb{E}[\\\\sum_{t=0}^T \\\\nabla_\\\\theta \\\\log \\\\pi_\\\\theta(a_t|s_t) \\\\cdot Q^\\\\pi(s_t,a_t)]\\n]\\n\\n\\n\\n2. 반응 조건 최적화 모델\\nclass ReactionConditionOptimizer:\\n    def __init__(self):\\n        self.condition_predictor = ConditionPredictor()\\n        self.optimizer = ConditionOptimizer()\\n        self.validator = ConditionValidator()\\n        \\n    def optimize_conditions(self, reaction):\\n        # 1. 조건 예측\\n        conditions = self._predict_conditions(reaction)\\n        \\n        # 2. 조건 최적화\\n        optimized = self._optimize_conditions(conditions)\\n        \\n        # 3. 조건 검증\\n        validated = self._validate_conditions(optimized)\\n        \\n        return validated\\n\\n    def _predict_conditions(self, reaction):\\n        # 조건 예측\\n        return self.condition_predictor.predict(reaction)\\n수학적 공식화:\\n\\n\\n조건 최적화\\n\\n목적 함수:\\n[\\n\\\\min_{x} f(x) = \\\\text{yield}(x) + \\\\lambda \\\\cdot \\\\text{cost}(x)\\n]\\n제약 조건:\\n[\\ng_i(x) \\\\leq 0, \\\\quad i = 1,...,m\\n]\\n\\n\\n\\n베이지안 최적화\\n\\n획득 함수:\\n[\\n\\\\alpha(x) = \\\\mu(x) + \\\\kappa \\\\cdot \\\\sigma(x)\\n]\\n사후 분포:\\n[\\np(f|D) = \\\\mathcal{N}(\\\\mu(x), k(x,x'))\\n]\\n\\n\\n\\n3. 실시간 모니터링 시스템\\nclass RealTimeMonitor:\\n    def __init__(self):\\n        self.data_collector = DataCollector()\\n        self.analyzer = DataAnalyzer()\\n        self.alert_system = AlertSystem()\\n        \\n    def monitor(self, synthesis_process):\\n        # 1. 데이터 수집\\n        data = self._collect_data(synthesis_process)\\n        \\n        # 2. 데이터 분석\\n        analysis = self._analyze_data(data)\\n        \\n        # 3. 알림 처리\\n        alerts = self._process_alerts(analysis)\\n        \\n        return alerts\\n\\n    def _collect_data(self, process):\\n        # 데이터 수집\\n        return self.data_collector.collect(process)\\n수학적 공식화:\\n\\n\\n이상 감지\\n\\n마할라노비스 거리:\\n[\\nD(x) = \\\\sqrt{(x-\\\\mu)^T \\\\Sigma^{-1} (x-\\\\mu)}\\n]\\n이상치 점수:\\n[\\n\\\\text{score} = \\\\frac{|x - \\\\text{median}|}{\\\\text{MAD}}\\n]\\n\\n\\n\\n시계열 분석\\n\\n자기상관:\\n[\\n\\\\rho_k = \\\\frac{\\\\sum_{t=k+1}^T (x_t - \\\\bar{x})(x_{t-k} - \\\\bar{x})}{\\\\sum_{t=1}^T (x_t - \\\\bar{x})^2}\\n]\\n이동 평균:\\n[\\n\\\\text{MA}(t) = \\\\frac{1}{w} \\\\sum_{i=0}^{w-1} x_{t-i}\\n]\\n\\n\\n\\n2.2 시스템 아키텍처\\n2.2.1 전체 시스템 아키텍처\\n┌─────────────────────────────────────────────────────────────┐\\n│                     AI 기반 가상 합성 환경                     │\\n└─────────────────────────────────────────────────────────────┘\\n                            │\\n                            ▼\\n┌─────────────────────────────────────────────────────────────┐\\n│                     분자 구조 설계 시스템                      │\\n│  ┌─────────────┐  ┌─────────────┐  ┌─────────────────────┐  │\\n│  │ 구조 생성   │  │ 구조 최적화 │  │ 구조 검증          │  │\\n│  └─────────────┘  └─────────────┘  └─────────────────────┘  │\\n└─────────────────────────────────────────────────────────────┘\\n                            │\\n                            ▼\\n┌─────────────────────────────────────────────────────────────┐\\n│                     물성 예측 시스템                          │\\n│  ┌─────────────┐  ┌─────────────┐  ┌─────────────────────┐  │\\n│  │ 절연성 예측 │  │ 내열성 예측 │  │ 불연성 예측        │  │\\n│  └─────────────┘  └─────────────┘  └─────────────────────┘  │\\n└─────────────────────────────────────────────────────────────┘\\n                            │\\n                            ▼\\n┌─────────────────────────────────────────────────────────────┐\\n│                     합성 최적화 시스템                        │\\n│  ┌─────────────┐  ┌─────────────┐  ┌─────────────────────┐  │\\n│  │ 경로 예측   │  │ 조건 최적화 │  │ 실시간 모니터링    │  │\\n│  └─────────────┘  └─────────────┘  └─────────────────────┘  │\\n└─────────────────────────────────────────────────────────────┘\\n\\n2.2.2 데이터 흐름 아키텍처\\n┌─────────────────────────────────────────────────────────────┐\\n│                     실험 데이터베이스                          │\\n└─────────────────────────────────────────────────────────────┘\\n                            │\\n                            ▼\\n┌─────────────────────────────────────────────────────────────┐\\n│                     데이터 전처리 시스템                      │\\n│  ┌─────────────┐  ┌─────────────┐  ┌─────────────────────┐  │\\n│  │ 데이터 정제 │  │ 데이터 변환 │  │ 데이터 검증        │  │\\n│  └─────────────┘  └─────────────┘  └─────────────────────┘  │\\n└─────────────────────────────────────────────────────────────┘\\n                            │\\n                            ▼\\n┌─────────────────────────────────────────────────────────────┐\\n│                     AI 모델 학습 시스템                       │\\n│  ┌─────────────┐  ┌─────────────┐  ┌─────────────────────┐  │\\n│  │ 모델 학습   │  │ 모델 검증   │  │ 모델 최적화        │  │\\n│  └─────────────┘  └─────────────┘  └─────────────────────┘  │\\n└─────────────────────────────────────────────────────────────┘\\n\\n3. 기술 개발 로드맵\\n3.1 1차년도 (9개월)\\n\\n가상 합성 환경 구축\\n기본 AI 모델 개발\\n실험 데이터베이스 구축\\n\\n3.2 2차년도 (10개월)\\n\\n고성능 AI 모델 개발\\n합성 최적화 시스템 구현\\n성능 검증\\n\\n3.3 3차년도 (12개월)\\n\\n실 제조환경 실증\\n시스템 안정화\\n상용화 준비\\n\\n3.4 4차년도 (2개월)\\n\\n최종 시스템 검증\\n기술 이전\\n\\n4. 기대효과\\n4.1 기술적 효과\\n\\nAI 기반 합성 예측 정확도 95% 이상 달성\\n개발 시간 50% 단축\\n실험 비용 70% 절감\\n\\n4.2 산업적 효과\\n\\nPFAS 대체 소재 개발 가속화\\n국내 소재 산업 경쟁력 강화\\n글로벌 시장 진출 기반 마련\\n\\n4.3 경제적 효과\\n\\n2032년까지 2,579억 달러 규모의 이차전지 시장 진출\\n기술 수출 및 라이선싱 기회 창출\\n고용 창출 및 부가가치 증대\\n\\n5. 사업화 계획\\n5.1 시장 분석\\n\\n글로벌 이차전지 시장 규모: 2023년 1,173억 달러\\n예상 시장 규모: 2032년 2,579억 달러 (CAGR 9%)\\n주요 경쟁사: CATL, BYD, EnerSys\\n\\n5.2 사업화 전략\\n\\n기술 특허 출원 및 보호\\n글로벌 기업과의 전략적 제휴\\n단계적 시장 진출 계획\\n\\n5.3 수익 모델\\n\\n시스템 판매\\n기술 라이선싱\\n유지보수 및 기술 지원\\n\\n6. 투자 계획\\n6.1 투자 규모\\n\\n총 투자액: 30.31억원\\n정부 지원금: 10.31억원\\n자체 투자금: 20억원\\n\\n6.2 투자 계획\\n\\n연구개발비: 25억원\\n인건비: 3억원\\n운영비: 2.31억원\\n\\n7. 위험 요소 및 대응 방안\\n7.1 기술적 위험\\n\\n\\n위험: AI 모델의 예측 정확도\\n\\n대응: 다중 모델 앙상블 및 실험 데이터 검증\\n\\n\\n\\n위험: 실험 데이터 부족\\n\\n대응: 생성형 AI를 활용한 데이터 증강\\n\\n\\n\\n7.2 산업적 위험\\n\\n\\n위험: 글로벌 기업과의 경쟁\\n\\n대응: 차별화된 기술 개발 및 특허 전략\\n\\n\\n\\n위험: 기술 수용성\\n\\n대응: 단계적 도입 및 실증을 통한 신뢰성 확보\\n\\n\\n\\n8. 결론\\n본 제안서는 PFAS 대체 소재 개발을 위한 AI 기반 물성/합성 분석 기술 개발을 제안합니다. 최신 AI 기술과 고성능 컴퓨팅을 활용하여 95% 이상의 예측 정확도를 달성하고, 이를 통해 국내 소재 산업의 경쟁력을 강화할 수 있을 것으로 기대됩니다. 특히 글로벌 환경 규제 강화에 대응하여 선제적인 기술 개발이 필요하며, 이는 향후 2,579억 달러 규모의 이차전지 시장에서의 경쟁력 확보에 기여할 것입니다.\\n   \\n\\n\\n\\n\\n\\n\\n\\n\\nAbout\\n\\n        No description, website, or topics provided.\\n      \\nResources\\n\\n\\n\\n\\n\\n        Readme\\n \\n\\n\\n\\n\\n\\n\\nActivity \\nStars\\n\\n\\n\\n\\n0\\n      stars \\nWatchers\\n\\n\\n\\n\\n1\\n      watching \\nForks\\n\\n\\n\\n\\n0\\n      forks \\n\\n\\n          Report repository\\n \\n\\n\\n\\n\\n\\n\\nReleases\\nNo releases published\\n\\n\\n\\n\\n\\nPackages\\n      0\\n\\n        No packages published \\n\\n\\n\\n\\n\\n\\n\\n\\n\\n\\n\\n\\n\\n\\n\\n\\n\\n\\n\\nFooter\\n\\n\\n\\n\\n\\n\\n\\n\\n        © 2025 GitHub,\\xa0Inc.\\n      \\n\\n\\nFooter navigation\\n\\n\\nTerms\\n\\n\\nPrivacy\\n\\n\\nSecurity\\n\\n\\nStatus\\n\\n\\nDocs\\n\\n\\nContact\\n\\n\\n\\n\\n      Manage cookies\\n    \\n\\n\\n\\n\\n\\n      Do not share my personal information\\n    \\n\\n\\n\\n\\n\\n\\n\\n\\n\\n\\n\\n\\n\\n\\n\\n\\n    You can’t perform that action at this time.\\n  \\n\\n\\n\\n\\n\\n\\n\\n\\n\\n\\n\\n\\n\")]"
            ]
          },
          "execution_count": 45,
          "metadata": {},
          "output_type": "execute_result"
        }
      ],
      "source": [
        "# 웹페이지 로드\n",
        "from langchain.document_loaders import WebBaseLoader\n",
        "loader = WebBaseLoader(\"https://github.com/sknetworks20250226/AI\")\n",
        "pages = loader.load()\n",
        "pages"
      ]
    },
    {
      "cell_type": "code",
      "execution_count": null,
      "metadata": {
        "id": "NIMXMBqPYQp3"
      },
      "outputs": [],
      "source": []
    },
    {
      "cell_type": "code",
      "execution_count": null,
      "metadata": {
        "id": "c5rmgJWcchsf"
      },
      "outputs": [],
      "source": []
    },
    {
      "cell_type": "markdown",
      "metadata": {
        "id": "zFnhY-3RciIC"
      },
      "source": [
        "# RAG기반 FAQ구현"
      ]
    },
    {
      "cell_type": "code",
      "execution_count": null,
      "metadata": {
        "id": "QRxyFGK9chgs"
      },
      "outputs": [],
      "source": [
        "!pip install chromadb -q"
      ]
    },
    {
      "cell_type": "code",
      "execution_count": null,
      "metadata": {
        "id": "N7P2LSzSchXV"
      },
      "outputs": [],
      "source": [
        "!pip install -U langchain-community -q\n",
        "!pip install langchain_openai -q"
      ]
    },
    {
      "cell_type": "code",
      "execution_count": null,
      "metadata": {
        "id": "2evgBWXsc2RT"
      },
      "outputs": [],
      "source": [
        "# 필수 라이브러리\n",
        "from langchain.document_loaders import TextLoader\n",
        "from langchain.text_splitter import RecursiveCharacterTextSplitter\n",
        "from langchain.embeddings import OpenAIEmbeddings\n",
        "from langchain.vectorstores import Chroma\n",
        "from langchain_openai import OpenAI, OpenAIEmbeddings\n",
        "from langchain.vectorstores import Chroma\n",
        "from langchain.chains import RetrievalQA\n",
        "from langchain.prompts import PromptTemplate\n",
        "import os\n",
        "api_key = api_key"
      ]
    },
    {
      "cell_type": "code",
      "execution_count": null,
      "metadata": {
        "colab": {
          "base_uri": "https://localhost:8080/"
        },
        "id": "A-2qK93lies9",
        "outputId": "13fad4ab-9122-4186-e47f-42dbf492d43d"
      },
      "outputs": [
        {
          "name": "stdout",
          "output_type": "stream",
          "text": [
            "Requirement already satisfied: pymupdf in /usr/local/lib/python3.11/dist-packages (1.25.5)\n"
          ]
        }
      ],
      "source": [
        "!pip install pymupdf"
      ]
    },
    {
      "cell_type": "code",
      "execution_count": null,
      "metadata": {
        "id": "QhzndEtLiygc"
      },
      "outputs": [],
      "source": [
        "# 문서로드 및 분할\n",
        "def load_and_split_text(file_path):\n",
        "  if file_path.endswith('.pdf'):\n",
        "    loader = PyMuPDFLoader(file_path)\n",
        "  else:\n",
        "    loader = TextLoader(file_path)\n",
        "\n",
        "  documents = loader.load()\n",
        "  text_splitter = RecursiveCharacterTextSplitter(chunk_size=90, chunk_overlap=5,\n",
        "                    separators=['.','\\n',' ',''],keep_separator=True       )\n",
        "  return text_splitter.split_documents(documents)"
      ]
    },
    {
      "cell_type": "code",
      "execution_count": null,
      "metadata": {
        "id": "pTpX1vAbi7aO"
      },
      "outputs": [],
      "source": [
        "# RAG 챗봇구현\n",
        "def create_rag_chatbot(texts):\n",
        "  # 벡터 데이터베이스 생성\n",
        "  vectorstore = Chroma.from_documents(texts, OpenAIEmbeddings(api_key=api_key), persist_directory='./db2')\n",
        "  # LLm 준비\n",
        "  llm = OpenAI(temperature=0.2, openai_api_key=api_key, max_tokens=2048)\n",
        "  # 프롬프트 엔지니어링(한글 답변 최적화)\n",
        "  prompt_template = PromptTemplate(\n",
        "      input_variables=['context', 'question'],\n",
        "      template='''문서 : {context}\n",
        "      질문:{question}\n",
        "      다음 단계을 따라 한글로 답변하세요\n",
        "      1. 문서에서 질문과 관련된 문장 검색.\n",
        "      2. 문장이 있으면 문장기반으로 답변구성\n",
        "      3. 문장이 없으면 \"문서에 정보 없음\"을 명시하고, 일반지식으로 간결히답변\n",
        "      답변은 정확해야 합니다.\n",
        "      '''\n",
        "\n",
        "  )\n",
        "  # RetrivalQA 체인\n",
        "  rag_chatbot = RetrievalQA.from_chain_type(\n",
        "      llm=llm,\n",
        "      chain_type='stuff',\n",
        "      retriever=vectorstore.as_retriever(search_kwargs={'k': 3}),\n",
        "      chain_type_kwargs={'prompt': prompt_template},\n",
        "      return_source_documents = True,\n",
        "  )\n",
        "  return rag_chatbot"
      ]
    },
    {
      "cell_type": "code",
      "execution_count": null,
      "metadata": {
        "colab": {
          "base_uri": "https://localhost:8080/"
        },
        "id": "CGqTwikueKbX",
        "outputId": "d9dfd59b-e57e-4b4f-97a3-b0dca2405b03"
      },
      "outputs": [
        {
          "name": "stdout",
          "output_type": "stream",
          "text": [
            "문서개수: 631\n"
          ]
        }
      ],
      "source": [
        "# 문서로드 및 분할\n",
        "texts = load_and_split_text(\"/content/산림병해충 방제규정(산림청훈령)(제1664호)(20241210).pdf\")\n",
        "print(\"문서개수:\",len(texts) )\n",
        "qa_chain = create_rag_chatbot(texts)"
      ]
    },
    {
      "cell_type": "code",
      "execution_count": null,
      "metadata": {
        "colab": {
          "base_uri": "https://localhost:8080/"
        },
        "id": "kO8T2b68hCDW",
        "outputId": "c673cdb5-bb3a-4100-ba22-65f23538a5e3"
      },
      "outputs": [
        {
          "name": "stdout",
          "output_type": "stream",
          "text": [
            "\n",
            "\n",
            "질문 : 위험평가의 실시\n",
            "답변 : \n",
            "위험평가위원회는 위험을 평가하는 기관으로, 위험성을 파악하고 관리하기 위해 설립되었습니다. 따라서 위험평가위원회는 위험평가를 실시하는 역할을 담당합니다. 위험평가는 위험요소를 식별하고 분석하여 위험의 정도를 판단하는 과정을 말합니다. 이를 통해 위험을 최소화하고 안전한 환경을 조성하기 위한 대책을 마련할 수 있습니다. 따라서 위험평가위원회는 위험평가를 실시하는 것이 중요한 역할이며, 이를 통해 사회적 안전을 보장하는 역할을 수행합니다.\n",
            "참조 문서 : ['(이하 \"위험평가위원회\"라 한다)를 둔다', '(이하 \"위험평가위원회\"라 한다)를 둔다', '(이하 \"위험평가위원회\"라 한다)를 둔다']\n"
          ]
        }
      ],
      "source": [
        "query = '위험평가의 실시'\n",
        "result = qa_chain.invoke(query)\n",
        "print(f'\\n\\n질문 : {query}')\n",
        "print(f'답변 : {result[\"result\"]}')\n",
        "print(f'참조 문서 : {[doc.page_content for doc in result[\"source_documents\"]]}')"
      ]
    },
    {
      "cell_type": "code",
      "execution_count": null,
      "metadata": {
        "colab": {
          "base_uri": "https://localhost:8080/"
        },
        "id": "r0ueWZw3jw1j",
        "outputId": "3e11b092-76e0-4b35-bfbd-900489af6b0c"
      },
      "outputs": [
        {
          "name": "stdout",
          "output_type": "stream",
          "text": [
            "\n",
            "위험평가위원회는 위험을 평가하는 기관으로, 위험성을 파악하고 관리하기 위해 설립되었습니다. 따라서 위험평가위원회는 위험평가를 실시하는 역할을 담당합니다. 위험평가는 위험요소를 식별하고 분석하여 위험의 정도를 판단하는 과정을 말합니다. 이를 통해 위험을 최소화하고 안전한 환경을 조성하기 위한 대책을 마련할 수 있습니다. 따라서 위험평가위원회는 위험평가를 실시하는 것이 중요한 역할이며, 이를 통해 사회적 안전을 보장하는 역할을 수행합니다.\n"
          ]
        }
      ],
      "source": [
        "print(result['result'])"
      ]
    },
    {
      "cell_type": "code",
      "execution_count": null,
      "metadata": {
        "colab": {
          "base_uri": "https://localhost:8080/"
        },
        "id": "udyAbaXEjDmA",
        "outputId": "263d65f9-10c9-4818-9b21-586e00e06912"
      },
      "outputs": [
        {
          "name": "stdout",
          "output_type": "stream",
          "text": [
            "참조 문서 : ['(이하 \"위험평가위원회\"라 한다)를 둔다', '(이하 \"위험평가위원회\"라 한다)를 둔다', '(이하 \"위험평가위원회\"라 한다)를 둔다']\n"
          ]
        }
      ],
      "source": [
        "print(f'참조 문서 : {[doc.page_content for doc in result[\"source_documents\"]]}')"
      ]
    },
    {
      "cell_type": "code",
      "execution_count": null,
      "metadata": {
        "colab": {
          "base_uri": "https://localhost:8080/"
        },
        "id": "JVXUspR5l-Vx",
        "outputId": "315e0300-8200-400c-e40a-dc6f872331b2"
      },
      "outputs": [
        {
          "name": "stdout",
          "output_type": "stream",
          "text": [
            "\n",
            "\n",
            "위험평가는 어떤 위험이 존재하는지 파악하고, 그 위험의 정도를 평가하여 적절한 대응책을 마련하는 과정이다. 일반적으로 다음과 같은 단계로 이루어진다.\n",
            "\n",
            "1. 위험 식별: 조직 또는 시스템 내에서 발생할 수 있는 위험을 식별한다. 이를 위해 조직 내부의 프로세스, 시스템, 인력, 재무 등을 분석하고, 외부 환경의 변화나 잠재적 위협을 고려한다.\n",
            "\n",
            "2. 위험 분석: 식별된 위험의 정도를 분석하여 위험의 심각성과 가능성을 평가한다. 이를 위해 각 위험에 대한 발생 가능성,\n"
          ]
        }
      ],
      "source": [
        "llm = OpenAI(temperature=0.2, openai_api_key=api_key)\n",
        "print(llm.invoke(query))"
      ]
    },
    {
      "cell_type": "code",
      "execution_count": null,
      "metadata": {
        "colab": {
          "base_uri": "https://localhost:8080/"
        },
        "id": "cvCNHpefmAY-",
        "outputId": "81ef67a4-865a-408f-becc-8c2ba48fce8e"
      },
      "outputs": [
        {
          "name": "stdout",
          "output_type": "stream",
          "text": [
            "\n",
            "주의 단계는 발생규모, 확산속도 및 피해정도 등이 조금 더 심각한 상황을 의미합니다. 이 단계에서는 병해충의 확산을 막기 위해 적극적인 대처가 필요합니다.\n"
          ]
        }
      ],
      "source": [
        "query = \"병해충 발생예보의 단계에서 '주의\"\n",
        "result = qa_chain.invoke({'query':query})\n",
        "print(result['result'])"
      ]
    },
    {
      "cell_type": "markdown",
      "metadata": {
        "id": "mDCiof1K7lKX"
      },
      "source": [
        "벡터DB 데이터 검색"
      ]
    },
    {
      "cell_type": "code",
      "execution_count": null,
      "metadata": {
        "colab": {
          "base_uri": "https://localhost:8080/"
        },
        "id": "UKpmQ6CtnHCW",
        "outputId": "1d0a4775-7f2a-434f-d899-107354387f53"
      },
      "outputs": [
        {
          "data": {
            "text/plain": [
              "[Document(metadata={'source': 'documents.txt'}, page_content='평가 항목의 평가점수가 높아도 ‘저위험 병해충’으로 판정할 수 있다'),\n",
              " Document(metadata={'source': 'documents.txt'}, page_content='치는 영향에 대한 위험성이 예상된다면 위험관리방안 수준을 고려하여 종합위험도를 판정할 수 있다'),\n",
              " Document(metadata={'source': 'documents.txt'}, page_content='평가 항목의 평가점수가 낮아도 ‘고위험 병해충’으로 판정할 수 있다'),\n",
              " Document(metadata={'source': 'documents.txt'}, page_content='제4조의5(위험평가의 실시) ① 위험평가는 다음 각 호의 항목을 포함하여 실시하여야 한다.\\n1. 대상 산림병해충의 외래병해충 여부\\n2'),\n",
              " Document(metadata={'source': 'documents.txt'}, page_content='.\\n③ 기존에 평가된 병해충에 대하여 필요 시 재평가를 실시할 수 있다.\\n④ 위원장은 제4조에서 규정한 예찰조사 결과를 위험평가에 반영할 수 있다.')]"
            ]
          },
          "execution_count": 152,
          "metadata": {},
          "output_type": "execute_result"
        }
      ],
      "source": [
        "# 벡터 데이터베이스 검색\n",
        "documents = '''제4조의5(위험평가의 실시) ① 위험평가는 다음 각 호의 항목을 포함하여 실시하여야 한다.\n",
        "1. 대상 산림병해충의 외래병해충 여부\n",
        "2. 대상 산림병해충의 생리ㆍ생태적 특성\n",
        "3. 대상 산림병해충으로 인한 예상 피해 정도\n",
        "4. 긴급방제 추진의 필요성과 방제방법\n",
        "② 제1항에 의한 산림병해충의 위험등급은 별표 1의 산림병해충 위험평가표를 기준으로 계량화된 점수를 산정\n",
        "하고 별표 2의 산림병해충 종합위험도 판정기준에 따라 다음 각 호와 같이 판정한다.\n",
        "1. 종합평가점수 ‘높음’ : ‘고위험 병해충’\n",
        "2. 종합평가점수 ‘중간’ : ‘중위험 병해충’\n",
        "3. 종합평가점수 ‘낮음’ : ‘저위험 병해충’\n",
        "4. 산림과 생활환경 및 경제에 미치는 영향에 대한 위험요소 항목 모두가 ‘가장 높은 점수’로 평가되는 경우 다른\n",
        "평가 항목의 평가점수가 낮아도 ‘고위험 병해충’으로 판정할 수 있다.\n",
        "5. 산림과 생활환경 및 경제에 미치는 영향에 대한 위험요소 항목 모두가 ‘가장 낮은 점수’로 평가되는 경우 다른\n",
        "평가 항목의 평가점수가 높아도 ‘저위험 병해충’으로 판정할 수 있다.\n",
        "6. 병해충의 정보가 부족하여 평가가 제한적인 경우 종합위험도 판정을 유예하되, 산림과 생활환경 및 경제에 미\n",
        "치는 영향에 대한 위험성이 예상된다면 위험관리방안 수준을 고려하여 종합위험도를 판정할 수 있다.\n",
        "③ 기존에 평가된 병해충에 대하여 필요 시 재평가를 실시할 수 있다.\n",
        "④ 위원장은 제4조에서 규정한 예찰조사 결과를 위험평가에 반영할 수 있다.\n",
        "'''\n",
        "with open('documents.txt','w') as f:\n",
        "  f.write(documents)\n",
        "\n",
        "def create_and_search_vectorstore(texts):\n",
        "  embedding = OpenAIEmbeddings(api_key=api_key)\n",
        "  vectorstore = Chroma.from_documents(texts, embedding, persist_directory='./db10')\n",
        "  return vectorstore\n",
        "\n",
        "texts = load_and_split_text(\"documents.txt\")\n",
        "vt = create_and_search_vectorstore(texts)\n",
        "\n",
        "query = '위험평가의 실시'\n",
        "vt.similarity_search(query,k=5)"
      ]
    },
    {
      "cell_type": "markdown",
      "metadata": {
        "id": "jsdDxTp1_uxh"
      },
      "source": [
        "PDF Loader"
      ]
    },
    {
      "cell_type": "code",
      "execution_count": null,
      "metadata": {
        "colab": {
          "base_uri": "https://localhost:8080/",
          "height": 35
        },
        "id": "mhyufnQe7_V1",
        "outputId": "b5cabf8d-6033-4bd5-86ae-9848d3e1206b"
      },
      "outputs": [
        {
          "data": {
            "application/vnd.google.colaboratory.intrinsic+json": {
              "type": "string"
            },
            "text/plain": [
              "'혁신성장 정책금융 동향 : ICT 산업을 중심으로\\n  CIS이슈리포트 2022-2호 | 1 |\\n<요  약>'"
            ]
          },
          "execution_count": 155,
          "metadata": {},
          "output_type": "execute_result"
        }
      ],
      "source": [
        "filepath = '/content/[이슈리포트 2022-2호] 혁신성장 정책금융 동향.pdf'\n",
        "result = load_and_split_text(filepath)\n",
        "result[0].page_content"
      ]
    },
    {
      "cell_type": "markdown",
      "metadata": {
        "id": "kItk1y-zBsjJ"
      },
      "source": [
        "OCR 기능을 이용해서 이미지내 텍스트 추출"
      ]
    },
    {
      "cell_type": "code",
      "execution_count": null,
      "metadata": {
        "colab": {
          "base_uri": "https://localhost:8080/"
        },
        "id": "354GQWWM_3LQ",
        "outputId": "c5f0a5d8-9cc6-4e81-91cf-7859742b3e10"
      },
      "outputs": [
        {
          "name": "stdout",
          "output_type": "stream",
          "text": [
            "Collecting rapidocr-onnxruntime\n",
            "  Downloading rapidocr_onnxruntime-1.4.4-py3-none-any.whl.metadata (1.3 kB)\n",
            "Collecting pyclipper>=1.2.0 (from rapidocr-onnxruntime)\n",
            "  Downloading pyclipper-1.3.0.post6-cp311-cp311-manylinux_2_17_x86_64.manylinux2014_x86_64.whl.metadata (9.0 kB)\n",
            "Requirement already satisfied: opencv-python>=4.5.1.48 in /usr/local/lib/python3.11/dist-packages (from rapidocr-onnxruntime) (4.11.0.86)\n",
            "Requirement already satisfied: numpy<3.0.0,>=1.19.5 in /usr/local/lib/python3.11/dist-packages (from rapidocr-onnxruntime) (2.0.2)\n",
            "Requirement already satisfied: six>=1.15.0 in /usr/local/lib/python3.11/dist-packages (from rapidocr-onnxruntime) (1.17.0)\n",
            "Requirement already satisfied: Shapely!=2.0.4,>=1.7.1 in /usr/local/lib/python3.11/dist-packages (from rapidocr-onnxruntime) (2.1.0)\n",
            "Requirement already satisfied: PyYAML in /usr/local/lib/python3.11/dist-packages (from rapidocr-onnxruntime) (6.0.2)\n",
            "Requirement already satisfied: Pillow in /usr/local/lib/python3.11/dist-packages (from rapidocr-onnxruntime) (11.2.1)\n",
            "Requirement already satisfied: onnxruntime>=1.7.0 in /usr/local/lib/python3.11/dist-packages (from rapidocr-onnxruntime) (1.22.0)\n",
            "Requirement already satisfied: tqdm in /usr/local/lib/python3.11/dist-packages (from rapidocr-onnxruntime) (4.67.1)\n",
            "Requirement already satisfied: coloredlogs in /usr/local/lib/python3.11/dist-packages (from onnxruntime>=1.7.0->rapidocr-onnxruntime) (15.0.1)\n",
            "Requirement already satisfied: flatbuffers in /usr/local/lib/python3.11/dist-packages (from onnxruntime>=1.7.0->rapidocr-onnxruntime) (25.2.10)\n",
            "Requirement already satisfied: packaging in /usr/local/lib/python3.11/dist-packages (from onnxruntime>=1.7.0->rapidocr-onnxruntime) (24.2)\n",
            "Requirement already satisfied: protobuf in /usr/local/lib/python3.11/dist-packages (from onnxruntime>=1.7.0->rapidocr-onnxruntime) (5.29.4)\n",
            "Requirement already satisfied: sympy in /usr/local/lib/python3.11/dist-packages (from onnxruntime>=1.7.0->rapidocr-onnxruntime) (1.13.1)\n",
            "Requirement already satisfied: humanfriendly>=9.1 in /usr/local/lib/python3.11/dist-packages (from coloredlogs->onnxruntime>=1.7.0->rapidocr-onnxruntime) (10.0)\n",
            "Requirement already satisfied: mpmath<1.4,>=1.1.0 in /usr/local/lib/python3.11/dist-packages (from sympy->onnxruntime>=1.7.0->rapidocr-onnxruntime) (1.3.0)\n",
            "Downloading rapidocr_onnxruntime-1.4.4-py3-none-any.whl (14.9 MB)\n",
            "\u001b[2K   \u001b[90m━━━━━━━━━━━━━━━━━━━━━━━━━━━━━━━━━━━━━━━━\u001b[0m \u001b[32m14.9/14.9 MB\u001b[0m \u001b[31m77.2 MB/s\u001b[0m eta \u001b[36m0:00:00\u001b[0m\n",
            "\u001b[?25hDownloading pyclipper-1.3.0.post6-cp311-cp311-manylinux_2_17_x86_64.manylinux2014_x86_64.whl (969 kB)\n",
            "\u001b[2K   \u001b[90m━━━━━━━━━━━━━━━━━━━━━━━━━━━━━━━━━━━━━━━━\u001b[0m \u001b[32m969.6/969.6 kB\u001b[0m \u001b[31m39.2 MB/s\u001b[0m eta \u001b[36m0:00:00\u001b[0m\n",
            "\u001b[?25hInstalling collected packages: pyclipper, rapidocr-onnxruntime\n",
            "Successfully installed pyclipper-1.3.0.post6 rapidocr-onnxruntime-1.4.4\n"
          ]
        }
      ],
      "source": [
        "!pip install rapidocr-onnxruntime"
      ]
    },
    {
      "cell_type": "code",
      "execution_count": null,
      "metadata": {
        "colab": {
          "base_uri": "https://localhost:8080/"
        },
        "id": "PYoCV54HCx3T",
        "outputId": "a572e136-44f4-4482-f3a2-d843467fda76"
      },
      "outputs": [
        {
          "name": "stdout",
          "output_type": "stream",
          "text": [
            "Requirement already satisfied: pypdf in /usr/local/lib/python3.11/dist-packages (5.5.0)\n"
          ]
        }
      ],
      "source": [
        "! pip install pypdf"
      ]
    },
    {
      "cell_type": "code",
      "execution_count": null,
      "metadata": {
        "id": "3xOYmeNBB4Fa"
      },
      "outputs": [],
      "source": [
        "from langchain.document_loaders import PyPDFLoader\n",
        "loader = PyPDFLoader(filepath,extract_images=True)\n",
        "pages = loader.load_and_split() # 페이지별"
      ]
    },
    {
      "cell_type": "code",
      "execution_count": null,
      "metadata": {
        "colab": {
          "base_uri": "https://localhost:8080/"
        },
        "id": "KeTf-VSuCsbe",
        "outputId": "57a7b082-4cb1-47eb-e0ff-ff28f613cadf"
      },
      "outputs": [
        {
          "data": {
            "text/plain": [
              "Document(metadata={'producer': 'Hancom PDF 1.3.0.538', 'creator': 'Hancom PDF 1.3.0.538', 'creationdate': '2022-07-29T09:03:16+09:00', 'author': 'kmd kdy', 'moddate': '2022-07-29T09:03:16+09:00', 'pdfversion': '1.4', 'source': '/content/[이슈리포트 2022-2호] 혁신성장 정책금융 동향.pdf', 'total_pages': 18, 'page': 0, 'page_label': '1'}, page_content='혁신성장 정책금융 동향 : ICT 산업을 중심으로\\n  CIS이슈리포트 2022-2호 | 1 |\\n<요  약>▶혁신성장 정책금융기관*은 혁신성장산업 영위기업을 발굴·지원하기 위한 정책금융 가이드라인**에 따라 혁신성장 기술분야에 대한 금융지원을 강화하고 있음     * 산업은행, 기업은행, 수출입은행, 신용보증기금, 기술보증기금, 중소벤처기업진흥공단, 무역보험공사 등 11개 기관    ** 혁신성장 정책금융 지원 대상을 판단하는 기준으로, ‘9대 테마 – 46개 분야 – 296개 품목’으로 구성￮정책금융기관의 혁신성장 정책금융 공급규모는 2017년 24.1조 원에서 2021년 85.4조 원으로 크게 증가하여 국내 산업 구조의 미래 산업으로의 전환을 충실히 지원하고 있음￮본 보고서는 ICT 산업의 정책금융 지원 트렌드를 파악하고, 혁신성장 정책금융이 집중되는 주요 품목의 기술·시장 동향을 분석함▶혁신성장 ICT 산업은 정보통신(6개 분야, 47개 품목), 전기전자(5개 분야, 27개 품목), 센서측정(3개 분야, 19개 품목) 테마로 구성되며, 혁신성장 정책금융기관의 공급액 규모는 2021년 말 기준 16.9조 원으로 2017년 이후 연평균 39.2% 지속 증가하고 있음￮ICT 산업의 공급액 규모 비중은 혁신성장 정책금융 총 공급 규모의 약 20% 수준임      * (‘17)18.7% → (’18)20.7%  → (’19)18.5%  → (’20)20.3%  → (’21)19.8%\\n혁신성장 정책금융 동향 :ICT 산업을 중심으로\\n오동찬 선임조사역 (dcoh@kcredit.or.kr) \\n\\n\\n\\n90,000\\n77,750\\n77,485\\n80,000\\n副\\n70,000\\n65,324\\n62,856\\n60,000\\n50,000\\n38,521\\n39,033\\n35,922\\n40,000\\n26,637\\n27,417\\n30,000\\n20,000\\n15,658\\nRO\\n13,854\\n11,506\\n6,861\\n6,851\\n10,000\\n2,780\\n2017\\n2018\\n2019\\n2020\\n2021\\n·')"
            ]
          },
          "execution_count": 159,
          "metadata": {},
          "output_type": "execute_result"
        }
      ],
      "source": [
        "pages[0]"
      ]
    },
    {
      "cell_type": "code",
      "execution_count": null,
      "metadata": {
        "colab": {
          "base_uri": "https://localhost:8080/"
        },
        "id": "ZbSUGV36F_qm",
        "outputId": "5485a60d-25d1-4b1c-d9dc-621aa36bbc13"
      },
      "outputs": [
        {
          "name": "stdout",
          "output_type": "stream",
          "text": [
            "Collecting pypdfium2\n",
            "  Downloading pypdfium2-4.30.1-py3-none-manylinux_2_17_x86_64.manylinux2014_x86_64.whl.metadata (48 kB)\n",
            "\u001b[?25l     \u001b[90m━━━━━━━━━━━━━━━━━━━━━━━━━━━━━━━━━━━━━━━━\u001b[0m \u001b[32m0.0/48.2 kB\u001b[0m \u001b[31m?\u001b[0m eta \u001b[36m-:--:--\u001b[0m\r\u001b[2K     \u001b[90m━━━━━━━━━━━━━━━━━━━━━━━━━━━━━━━━━━━━━━━━\u001b[0m \u001b[32m48.2/48.2 kB\u001b[0m \u001b[31m2.1 MB/s\u001b[0m eta \u001b[36m0:00:00\u001b[0m\n",
            "\u001b[?25hDownloading pypdfium2-4.30.1-py3-none-manylinux_2_17_x86_64.manylinux2014_x86_64.whl (2.9 MB)\n",
            "\u001b[?25l   \u001b[90m━━━━━━━━━━━━━━━━━━━━━━━━━━━━━━━━━━━━━━━━\u001b[0m \u001b[32m0.0/2.9 MB\u001b[0m \u001b[31m?\u001b[0m eta \u001b[36m-:--:--\u001b[0m\r\u001b[2K   \u001b[91m━━━━━━━\u001b[0m\u001b[91m╸\u001b[0m\u001b[90m━━━━━━━━━━━━━━━━━━━━━━━━━━━━━━━━\u001b[0m \u001b[32m0.5/2.9 MB\u001b[0m \u001b[31m16.6 MB/s\u001b[0m eta \u001b[36m0:00:01\u001b[0m\r\u001b[2K   \u001b[91m━━━━━━━━━━━━━━━━━━━━━━━━━━━━━━━━━━━━━━━\u001b[0m\u001b[91m╸\u001b[0m \u001b[32m2.9/2.9 MB\u001b[0m \u001b[31m47.1 MB/s\u001b[0m eta \u001b[36m0:00:01\u001b[0m\r\u001b[2K   \u001b[90m━━━━━━━━━━━━━━━━━━━━━━━━━━━━━━━━━━━━━━━━\u001b[0m \u001b[32m2.9/2.9 MB\u001b[0m \u001b[31m33.8 MB/s\u001b[0m eta \u001b[36m0:00:00\u001b[0m\n",
            "\u001b[?25hInstalling collected packages: pypdfium2\n",
            "Successfully installed pypdfium2-4.30.1\n"
          ]
        }
      ],
      "source": [
        "! pip install pypdfium2"
      ]
    },
    {
      "cell_type": "code",
      "execution_count": null,
      "metadata": {
        "colab": {
          "base_uri": "https://localhost:8080/"
        },
        "id": "SFztdkq_GNvz",
        "outputId": "b05c8a93-feb9-49c5-e9dc-0bba3b5c3819"
      },
      "outputs": [
        {
          "name": "stderr",
          "output_type": "stream",
          "text": [
            "/usr/local/lib/python3.11/dist-packages/pypdfium2/_helpers/textpage.py:80: UserWarning: get_text_range() call with default params will be implicitly redirected to get_text_bounded()\n",
            "  warnings.warn(\"get_text_range() call with default params will be implicitly redirected to get_text_bounded()\")\n"
          ]
        }
      ],
      "source": [
        "from langchain.document_loaders import PyPDFium2Loader\n",
        "loader = PyPDFium2Loader(filepath,extract_images=True)\n",
        "pages =  loader.load_and_split()  # 페이지별"
      ]
    },
    {
      "cell_type": "code",
      "execution_count": null,
      "metadata": {
        "colab": {
          "base_uri": "https://localhost:8080/"
        },
        "id": "DHqHJU-xGqCk",
        "outputId": "c18f8e04-79ac-4f76-adbe-865ea3a0d48c"
      },
      "outputs": [
        {
          "name": "stdout",
          "output_type": "stream",
          "text": [
            "Requirement already satisfied: python-docx in /usr/local/lib/python3.11/dist-packages (1.1.2)\n",
            "Requirement already satisfied: lxml>=3.1.0 in /usr/local/lib/python3.11/dist-packages (from python-docx) (5.4.0)\n",
            "Requirement already satisfied: typing-extensions>=4.9.0 in /usr/local/lib/python3.11/dist-packages (from python-docx) (4.13.2)\n",
            "Requirement already satisfied: unstructured in /usr/local/lib/python3.11/dist-packages (0.17.2)\n",
            "Requirement already satisfied: chardet in /usr/local/lib/python3.11/dist-packages (from unstructured) (5.2.0)\n",
            "Requirement already satisfied: filetype in /usr/local/lib/python3.11/dist-packages (from unstructured) (1.2.0)\n",
            "Requirement already satisfied: python-magic in /usr/local/lib/python3.11/dist-packages (from unstructured) (0.4.27)\n",
            "Requirement already satisfied: lxml in /usr/local/lib/python3.11/dist-packages (from unstructured) (5.4.0)\n",
            "Requirement already satisfied: nltk in /usr/local/lib/python3.11/dist-packages (from unstructured) (3.9.1)\n",
            "Requirement already satisfied: requests in /usr/local/lib/python3.11/dist-packages (from unstructured) (2.32.3)\n",
            "Requirement already satisfied: beautifulsoup4 in /usr/local/lib/python3.11/dist-packages (from unstructured) (4.13.4)\n",
            "Requirement already satisfied: emoji in /usr/local/lib/python3.11/dist-packages (from unstructured) (2.14.1)\n",
            "Requirement already satisfied: dataclasses-json in /usr/local/lib/python3.11/dist-packages (from unstructured) (0.6.7)\n",
            "Requirement already satisfied: python-iso639 in /usr/local/lib/python3.11/dist-packages (from unstructured) (2025.2.18)\n",
            "Requirement already satisfied: langdetect in /usr/local/lib/python3.11/dist-packages (from unstructured) (1.0.9)\n",
            "Requirement already satisfied: numpy in /usr/local/lib/python3.11/dist-packages (from unstructured) (2.0.2)\n",
            "Requirement already satisfied: rapidfuzz in /usr/local/lib/python3.11/dist-packages (from unstructured) (3.13.0)\n",
            "Requirement already satisfied: backoff in /usr/local/lib/python3.11/dist-packages (from unstructured) (2.2.1)\n",
            "Requirement already satisfied: typing-extensions in /usr/local/lib/python3.11/dist-packages (from unstructured) (4.13.2)\n",
            "Requirement already satisfied: unstructured-client in /usr/local/lib/python3.11/dist-packages (from unstructured) (0.34.0)\n",
            "Requirement already satisfied: wrapt in /usr/local/lib/python3.11/dist-packages (from unstructured) (1.17.2)\n",
            "Requirement already satisfied: tqdm in /usr/local/lib/python3.11/dist-packages (from unstructured) (4.67.1)\n",
            "Requirement already satisfied: psutil in /usr/local/lib/python3.11/dist-packages (from unstructured) (5.9.5)\n",
            "Requirement already satisfied: python-oxmsg in /usr/local/lib/python3.11/dist-packages (from unstructured) (0.0.2)\n",
            "Requirement already satisfied: html5lib in /usr/local/lib/python3.11/dist-packages (from unstructured) (1.1)\n",
            "Requirement already satisfied: soupsieve>1.2 in /usr/local/lib/python3.11/dist-packages (from beautifulsoup4->unstructured) (2.7)\n",
            "Requirement already satisfied: marshmallow<4.0.0,>=3.18.0 in /usr/local/lib/python3.11/dist-packages (from dataclasses-json->unstructured) (3.26.1)\n",
            "Requirement already satisfied: typing-inspect<1,>=0.4.0 in /usr/local/lib/python3.11/dist-packages (from dataclasses-json->unstructured) (0.9.0)\n",
            "Requirement already satisfied: six>=1.9 in /usr/local/lib/python3.11/dist-packages (from html5lib->unstructured) (1.17.0)\n",
            "Requirement already satisfied: webencodings in /usr/local/lib/python3.11/dist-packages (from html5lib->unstructured) (0.5.1)\n",
            "Requirement already satisfied: click in /usr/local/lib/python3.11/dist-packages (from nltk->unstructured) (8.1.8)\n",
            "Requirement already satisfied: joblib in /usr/local/lib/python3.11/dist-packages (from nltk->unstructured) (1.4.2)\n",
            "Requirement already satisfied: regex>=2021.8.3 in /usr/local/lib/python3.11/dist-packages (from nltk->unstructured) (2024.11.6)\n",
            "Requirement already satisfied: olefile in /usr/local/lib/python3.11/dist-packages (from python-oxmsg->unstructured) (0.47)\n",
            "Requirement already satisfied: charset-normalizer<4,>=2 in /usr/local/lib/python3.11/dist-packages (from requests->unstructured) (3.4.1)\n",
            "Requirement already satisfied: idna<4,>=2.5 in /usr/local/lib/python3.11/dist-packages (from requests->unstructured) (3.10)\n",
            "Requirement already satisfied: urllib3<3,>=1.21.1 in /usr/local/lib/python3.11/dist-packages (from requests->unstructured) (2.4.0)\n",
            "Requirement already satisfied: certifi>=2017.4.17 in /usr/local/lib/python3.11/dist-packages (from requests->unstructured) (2025.4.26)\n",
            "Requirement already satisfied: aiofiles>=24.1.0 in /usr/local/lib/python3.11/dist-packages (from unstructured-client->unstructured) (24.1.0)\n",
            "Requirement already satisfied: cryptography>=3.1 in /usr/local/lib/python3.11/dist-packages (from unstructured-client->unstructured) (43.0.3)\n",
            "Requirement already satisfied: eval-type-backport>=0.2.0 in /usr/local/lib/python3.11/dist-packages (from unstructured-client->unstructured) (0.2.2)\n",
            "Requirement already satisfied: httpx>=0.27.0 in /usr/local/lib/python3.11/dist-packages (from unstructured-client->unstructured) (0.28.1)\n",
            "Requirement already satisfied: nest-asyncio>=1.6.0 in /usr/local/lib/python3.11/dist-packages (from unstructured-client->unstructured) (1.6.0)\n",
            "Requirement already satisfied: pydantic>=2.11.2 in /usr/local/lib/python3.11/dist-packages (from unstructured-client->unstructured) (2.11.4)\n",
            "Requirement already satisfied: pypdf>=4.0 in /usr/local/lib/python3.11/dist-packages (from unstructured-client->unstructured) (5.5.0)\n",
            "Requirement already satisfied: requests-toolbelt>=1.0.0 in /usr/local/lib/python3.11/dist-packages (from unstructured-client->unstructured) (1.0.0)\n",
            "Requirement already satisfied: typing-inspection>=0.4.0 in /usr/local/lib/python3.11/dist-packages (from unstructured-client->unstructured) (0.4.0)\n",
            "Requirement already satisfied: cffi>=1.12 in /usr/local/lib/python3.11/dist-packages (from cryptography>=3.1->unstructured-client->unstructured) (1.17.1)\n",
            "Requirement already satisfied: anyio in /usr/local/lib/python3.11/dist-packages (from httpx>=0.27.0->unstructured-client->unstructured) (4.9.0)\n",
            "Requirement already satisfied: httpcore==1.* in /usr/local/lib/python3.11/dist-packages (from httpx>=0.27.0->unstructured-client->unstructured) (1.0.9)\n",
            "Requirement already satisfied: h11>=0.16 in /usr/local/lib/python3.11/dist-packages (from httpcore==1.*->httpx>=0.27.0->unstructured-client->unstructured) (0.16.0)\n",
            "Requirement already satisfied: packaging>=17.0 in /usr/local/lib/python3.11/dist-packages (from marshmallow<4.0.0,>=3.18.0->dataclasses-json->unstructured) (24.2)\n",
            "Requirement already satisfied: annotated-types>=0.6.0 in /usr/local/lib/python3.11/dist-packages (from pydantic>=2.11.2->unstructured-client->unstructured) (0.7.0)\n",
            "Requirement already satisfied: pydantic-core==2.33.2 in /usr/local/lib/python3.11/dist-packages (from pydantic>=2.11.2->unstructured-client->unstructured) (2.33.2)\n",
            "Requirement already satisfied: mypy-extensions>=0.3.0 in /usr/local/lib/python3.11/dist-packages (from typing-inspect<1,>=0.4.0->dataclasses-json->unstructured) (1.1.0)\n",
            "Requirement already satisfied: pycparser in /usr/local/lib/python3.11/dist-packages (from cffi>=1.12->cryptography>=3.1->unstructured-client->unstructured) (2.22)\n",
            "Requirement already satisfied: sniffio>=1.1 in /usr/local/lib/python3.11/dist-packages (from anyio->httpx>=0.27.0->unstructured-client->unstructured) (1.3.1)\n"
          ]
        }
      ],
      "source": [
        "!pip install python-docx\n",
        "!pip install unstructured"
      ]
    },
    {
      "cell_type": "code",
      "execution_count": null,
      "metadata": {
        "colab": {
          "base_uri": "https://localhost:8080/"
        },
        "id": "VVZ6agIgI7AU",
        "outputId": "ccdf0aa8-b82c-43c2-b696-2de6b1d0e8fe"
      },
      "outputs": [
        {
          "data": {
            "text/plain": [
              "[Document(metadata={'source': '/content/문서1.docx'}, page_content='')]"
            ]
          },
          "execution_count": 164,
          "metadata": {},
          "output_type": "execute_result"
        }
      ],
      "source": [
        "# 워드문서 로드\n",
        "from langchain.document_loaders import UnstructuredWordDocumentLoader\n",
        "loader = UnstructuredWordDocumentLoader(\"/content/문서1.docx\")\n",
        "pages = loader.load()  # 페이지 단위로 문서를 분리\n",
        "pages"
      ]
    },
    {
      "cell_type": "markdown",
      "metadata": {
        "id": "nBK3WctaJimG"
      },
      "source": [
        "이미지에 있는 text를 추출할때는\n",
        "  - 1. 이미지를 word에 넣어서 pdf로 변환 - pdfloader\n",
        "  - 2. 이미지 자체를 ocr 기능을 이용해서 텍스트를 추출"
      ]
    },
    {
      "cell_type": "code",
      "execution_count": null,
      "metadata": {
        "colab": {
          "base_uri": "https://localhost:8080/"
        },
        "id": "IjxPmNjvJfrB",
        "outputId": "a6c61bf2-aa62-4ece-e780-220c28deb965"
      },
      "outputs": [
        {
          "name": "stdout",
          "output_type": "stream",
          "text": [
            "Collecting easyocr\n",
            "  Downloading easyocr-1.7.2-py3-none-any.whl.metadata (10 kB)\n",
            "Requirement already satisfied: torch in /usr/local/lib/python3.11/dist-packages (from easyocr) (2.6.0+cu124)\n",
            "Requirement already satisfied: torchvision>=0.5 in /usr/local/lib/python3.11/dist-packages (from easyocr) (0.21.0+cu124)\n",
            "Requirement already satisfied: opencv-python-headless in /usr/local/lib/python3.11/dist-packages (from easyocr) (4.11.0.86)\n",
            "Requirement already satisfied: scipy in /usr/local/lib/python3.11/dist-packages (from easyocr) (1.15.2)\n",
            "Requirement already satisfied: numpy in /usr/local/lib/python3.11/dist-packages (from easyocr) (2.0.2)\n",
            "Requirement already satisfied: Pillow in /usr/local/lib/python3.11/dist-packages (from easyocr) (11.2.1)\n",
            "Requirement already satisfied: scikit-image in /usr/local/lib/python3.11/dist-packages (from easyocr) (0.25.2)\n",
            "Collecting python-bidi (from easyocr)\n",
            "  Downloading python_bidi-0.6.6-cp311-cp311-manylinux_2_17_x86_64.manylinux2014_x86_64.whl.metadata (4.9 kB)\n",
            "Requirement already satisfied: PyYAML in /usr/local/lib/python3.11/dist-packages (from easyocr) (6.0.2)\n",
            "Requirement already satisfied: Shapely in /usr/local/lib/python3.11/dist-packages (from easyocr) (2.1.0)\n",
            "Requirement already satisfied: pyclipper in /usr/local/lib/python3.11/dist-packages (from easyocr) (1.3.0.post6)\n",
            "Collecting ninja (from easyocr)\n",
            "  Downloading ninja-1.11.1.4-py3-none-manylinux_2_12_x86_64.manylinux2010_x86_64.whl.metadata (5.0 kB)\n",
            "Requirement already satisfied: filelock in /usr/local/lib/python3.11/dist-packages (from torch->easyocr) (3.18.0)\n",
            "Requirement already satisfied: typing-extensions>=4.10.0 in /usr/local/lib/python3.11/dist-packages (from torch->easyocr) (4.13.2)\n",
            "Requirement already satisfied: networkx in /usr/local/lib/python3.11/dist-packages (from torch->easyocr) (3.4.2)\n",
            "Requirement already satisfied: jinja2 in /usr/local/lib/python3.11/dist-packages (from torch->easyocr) (3.1.6)\n",
            "Requirement already satisfied: fsspec in /usr/local/lib/python3.11/dist-packages (from torch->easyocr) (2025.3.2)\n",
            "Collecting nvidia-cuda-nvrtc-cu12==12.4.127 (from torch->easyocr)\n",
            "  Downloading nvidia_cuda_nvrtc_cu12-12.4.127-py3-none-manylinux2014_x86_64.whl.metadata (1.5 kB)\n",
            "Collecting nvidia-cuda-runtime-cu12==12.4.127 (from torch->easyocr)\n",
            "  Downloading nvidia_cuda_runtime_cu12-12.4.127-py3-none-manylinux2014_x86_64.whl.metadata (1.5 kB)\n",
            "Collecting nvidia-cuda-cupti-cu12==12.4.127 (from torch->easyocr)\n",
            "  Downloading nvidia_cuda_cupti_cu12-12.4.127-py3-none-manylinux2014_x86_64.whl.metadata (1.6 kB)\n",
            "Collecting nvidia-cudnn-cu12==9.1.0.70 (from torch->easyocr)\n",
            "  Downloading nvidia_cudnn_cu12-9.1.0.70-py3-none-manylinux2014_x86_64.whl.metadata (1.6 kB)\n",
            "Collecting nvidia-cublas-cu12==12.4.5.8 (from torch->easyocr)\n",
            "  Downloading nvidia_cublas_cu12-12.4.5.8-py3-none-manylinux2014_x86_64.whl.metadata (1.5 kB)\n",
            "Collecting nvidia-cufft-cu12==11.2.1.3 (from torch->easyocr)\n",
            "  Downloading nvidia_cufft_cu12-11.2.1.3-py3-none-manylinux2014_x86_64.whl.metadata (1.5 kB)\n",
            "Collecting nvidia-curand-cu12==10.3.5.147 (from torch->easyocr)\n",
            "  Downloading nvidia_curand_cu12-10.3.5.147-py3-none-manylinux2014_x86_64.whl.metadata (1.5 kB)\n",
            "Collecting nvidia-cusolver-cu12==11.6.1.9 (from torch->easyocr)\n",
            "  Downloading nvidia_cusolver_cu12-11.6.1.9-py3-none-manylinux2014_x86_64.whl.metadata (1.6 kB)\n",
            "Collecting nvidia-cusparse-cu12==12.3.1.170 (from torch->easyocr)\n",
            "  Downloading nvidia_cusparse_cu12-12.3.1.170-py3-none-manylinux2014_x86_64.whl.metadata (1.6 kB)\n",
            "Requirement already satisfied: nvidia-cusparselt-cu12==0.6.2 in /usr/local/lib/python3.11/dist-packages (from torch->easyocr) (0.6.2)\n",
            "Requirement already satisfied: nvidia-nccl-cu12==2.21.5 in /usr/local/lib/python3.11/dist-packages (from torch->easyocr) (2.21.5)\n",
            "Requirement already satisfied: nvidia-nvtx-cu12==12.4.127 in /usr/local/lib/python3.11/dist-packages (from torch->easyocr) (12.4.127)\n",
            "Collecting nvidia-nvjitlink-cu12==12.4.127 (from torch->easyocr)\n",
            "  Downloading nvidia_nvjitlink_cu12-12.4.127-py3-none-manylinux2014_x86_64.whl.metadata (1.5 kB)\n",
            "Requirement already satisfied: triton==3.2.0 in /usr/local/lib/python3.11/dist-packages (from torch->easyocr) (3.2.0)\n",
            "Requirement already satisfied: sympy==1.13.1 in /usr/local/lib/python3.11/dist-packages (from torch->easyocr) (1.13.1)\n",
            "Requirement already satisfied: mpmath<1.4,>=1.1.0 in /usr/local/lib/python3.11/dist-packages (from sympy==1.13.1->torch->easyocr) (1.3.0)\n",
            "Requirement already satisfied: imageio!=2.35.0,>=2.33 in /usr/local/lib/python3.11/dist-packages (from scikit-image->easyocr) (2.37.0)\n",
            "Requirement already satisfied: tifffile>=2022.8.12 in /usr/local/lib/python3.11/dist-packages (from scikit-image->easyocr) (2025.3.30)\n",
            "Requirement already satisfied: packaging>=21 in /usr/local/lib/python3.11/dist-packages (from scikit-image->easyocr) (24.2)\n",
            "Requirement already satisfied: lazy-loader>=0.4 in /usr/local/lib/python3.11/dist-packages (from scikit-image->easyocr) (0.4)\n",
            "Requirement already satisfied: MarkupSafe>=2.0 in /usr/local/lib/python3.11/dist-packages (from jinja2->torch->easyocr) (3.0.2)\n",
            "Downloading easyocr-1.7.2-py3-none-any.whl (2.9 MB)\n",
            "\u001b[2K   \u001b[90m━━━━━━━━━━━━━━━━━━━━━━━━━━━━━━━━━━━━━━━━\u001b[0m \u001b[32m2.9/2.9 MB\u001b[0m \u001b[31m32.2 MB/s\u001b[0m eta \u001b[36m0:00:00\u001b[0m\n",
            "\u001b[?25hDownloading nvidia_cublas_cu12-12.4.5.8-py3-none-manylinux2014_x86_64.whl (363.4 MB)\n",
            "\u001b[2K   \u001b[90m━━━━━━━━━━━━━━━━━━━━━━━━━━━━━━━━━━━━━━━━\u001b[0m \u001b[32m363.4/363.4 MB\u001b[0m \u001b[31m1.3 MB/s\u001b[0m eta \u001b[36m0:00:00\u001b[0m\n",
            "\u001b[?25hDownloading nvidia_cuda_cupti_cu12-12.4.127-py3-none-manylinux2014_x86_64.whl (13.8 MB)\n",
            "\u001b[2K   \u001b[90m━━━━━━━━━━━━━━━━━━━━━━━━━━━━━━━━━━━━━━━━\u001b[0m \u001b[32m13.8/13.8 MB\u001b[0m \u001b[31m67.8 MB/s\u001b[0m eta \u001b[36m0:00:00\u001b[0m\n",
            "\u001b[?25hDownloading nvidia_cuda_nvrtc_cu12-12.4.127-py3-none-manylinux2014_x86_64.whl (24.6 MB)\n",
            "\u001b[2K   \u001b[90m━━━━━━━━━━━━━━━━━━━━━━━━━━━━━━━━━━━━━━━━\u001b[0m \u001b[32m24.6/24.6 MB\u001b[0m \u001b[31m57.0 MB/s\u001b[0m eta \u001b[36m0:00:00\u001b[0m\n",
            "\u001b[?25hDownloading nvidia_cuda_runtime_cu12-12.4.127-py3-none-manylinux2014_x86_64.whl (883 kB)\n",
            "\u001b[2K   \u001b[90m━━━━━━━━━━━━━━━━━━━━━━━━━━━━━━━━━━━━━━━━\u001b[0m \u001b[32m883.7/883.7 kB\u001b[0m \u001b[31m37.6 MB/s\u001b[0m eta \u001b[36m0:00:00\u001b[0m\n",
            "\u001b[?25hDownloading nvidia_cudnn_cu12-9.1.0.70-py3-none-manylinux2014_x86_64.whl (664.8 MB)\n",
            "\u001b[2K   \u001b[90m━━━━━━━━━━━━━━━━━━━━━━━━━━━━━━━━━━━━━━━━\u001b[0m \u001b[32m664.8/664.8 MB\u001b[0m \u001b[31m1.4 MB/s\u001b[0m eta \u001b[36m0:00:00\u001b[0m\n",
            "\u001b[?25hDownloading nvidia_cufft_cu12-11.2.1.3-py3-none-manylinux2014_x86_64.whl (211.5 MB)\n",
            "\u001b[2K   \u001b[90m━━━━━━━━━━━━━━━━━━━━━━━━━━━━━━━━━━━━━━━━\u001b[0m \u001b[32m211.5/211.5 MB\u001b[0m \u001b[31m6.2 MB/s\u001b[0m eta \u001b[36m0:00:00\u001b[0m\n",
            "\u001b[?25hDownloading nvidia_curand_cu12-10.3.5.147-py3-none-manylinux2014_x86_64.whl (56.3 MB)\n",
            "\u001b[2K   \u001b[90m━━━━━━━━━━━━━━━━━━━━━━━━━━━━━━━━━━━━━━━━\u001b[0m \u001b[32m56.3/56.3 MB\u001b[0m \u001b[31m12.0 MB/s\u001b[0m eta \u001b[36m0:00:00\u001b[0m\n",
            "\u001b[?25hDownloading nvidia_cusolver_cu12-11.6.1.9-py3-none-manylinux2014_x86_64.whl (127.9 MB)\n",
            "\u001b[2K   \u001b[90m━━━━━━━━━━━━━━━━━━━━━━━━━━━━━━━━━━━━━━━━\u001b[0m \u001b[32m127.9/127.9 MB\u001b[0m \u001b[31m8.0 MB/s\u001b[0m eta \u001b[36m0:00:00\u001b[0m\n",
            "\u001b[?25hDownloading nvidia_cusparse_cu12-12.3.1.170-py3-none-manylinux2014_x86_64.whl (207.5 MB)\n",
            "\u001b[2K   \u001b[90m━━━━━━━━━━━━━━━━━━━━━━━━━━━━━━━━━━━━━━━━\u001b[0m \u001b[32m207.5/207.5 MB\u001b[0m \u001b[31m6.3 MB/s\u001b[0m eta \u001b[36m0:00:00\u001b[0m\n",
            "\u001b[?25hDownloading nvidia_nvjitlink_cu12-12.4.127-py3-none-manylinux2014_x86_64.whl (21.1 MB)\n",
            "\u001b[2K   \u001b[90m━━━━━━━━━━━━━━━━━━━━━━━━━━━━━━━━━━━━━━━━\u001b[0m \u001b[32m21.1/21.1 MB\u001b[0m \u001b[31m89.3 MB/s\u001b[0m eta \u001b[36m0:00:00\u001b[0m\n",
            "\u001b[?25hDownloading ninja-1.11.1.4-py3-none-manylinux_2_12_x86_64.manylinux2010_x86_64.whl (422 kB)\n",
            "\u001b[2K   \u001b[90m━━━━━━━━━━━━━━━━━━━━━━━━━━━━━━━━━━━━━━━━\u001b[0m \u001b[32m422.8/422.8 kB\u001b[0m \u001b[31m30.1 MB/s\u001b[0m eta \u001b[36m0:00:00\u001b[0m\n",
            "\u001b[?25hDownloading python_bidi-0.6.6-cp311-cp311-manylinux_2_17_x86_64.manylinux2014_x86_64.whl (292 kB)\n",
            "\u001b[2K   \u001b[90m━━━━━━━━━━━━━━━━━━━━━━━━━━━━━━━━━━━━━━━━\u001b[0m \u001b[32m292.9/292.9 kB\u001b[0m \u001b[31m22.8 MB/s\u001b[0m eta \u001b[36m0:00:00\u001b[0m\n",
            "\u001b[?25hInstalling collected packages: python-bidi, nvidia-nvjitlink-cu12, nvidia-curand-cu12, nvidia-cufft-cu12, nvidia-cuda-runtime-cu12, nvidia-cuda-nvrtc-cu12, nvidia-cuda-cupti-cu12, nvidia-cublas-cu12, ninja, nvidia-cusparse-cu12, nvidia-cudnn-cu12, nvidia-cusolver-cu12, easyocr\n",
            "  Attempting uninstall: nvidia-nvjitlink-cu12\n",
            "    Found existing installation: nvidia-nvjitlink-cu12 12.5.82\n",
            "    Uninstalling nvidia-nvjitlink-cu12-12.5.82:\n",
            "      Successfully uninstalled nvidia-nvjitlink-cu12-12.5.82\n",
            "  Attempting uninstall: nvidia-curand-cu12\n",
            "    Found existing installation: nvidia-curand-cu12 10.3.6.82\n",
            "    Uninstalling nvidia-curand-cu12-10.3.6.82:\n",
            "      Successfully uninstalled nvidia-curand-cu12-10.3.6.82\n",
            "  Attempting uninstall: nvidia-cufft-cu12\n",
            "    Found existing installation: nvidia-cufft-cu12 11.2.3.61\n",
            "    Uninstalling nvidia-cufft-cu12-11.2.3.61:\n",
            "      Successfully uninstalled nvidia-cufft-cu12-11.2.3.61\n",
            "  Attempting uninstall: nvidia-cuda-runtime-cu12\n",
            "    Found existing installation: nvidia-cuda-runtime-cu12 12.5.82\n",
            "    Uninstalling nvidia-cuda-runtime-cu12-12.5.82:\n",
            "      Successfully uninstalled nvidia-cuda-runtime-cu12-12.5.82\n",
            "  Attempting uninstall: nvidia-cuda-nvrtc-cu12\n",
            "    Found existing installation: nvidia-cuda-nvrtc-cu12 12.5.82\n",
            "    Uninstalling nvidia-cuda-nvrtc-cu12-12.5.82:\n",
            "      Successfully uninstalled nvidia-cuda-nvrtc-cu12-12.5.82\n",
            "  Attempting uninstall: nvidia-cuda-cupti-cu12\n",
            "    Found existing installation: nvidia-cuda-cupti-cu12 12.5.82\n",
            "    Uninstalling nvidia-cuda-cupti-cu12-12.5.82:\n",
            "      Successfully uninstalled nvidia-cuda-cupti-cu12-12.5.82\n",
            "  Attempting uninstall: nvidia-cublas-cu12\n",
            "    Found existing installation: nvidia-cublas-cu12 12.5.3.2\n",
            "    Uninstalling nvidia-cublas-cu12-12.5.3.2:\n",
            "      Successfully uninstalled nvidia-cublas-cu12-12.5.3.2\n",
            "  Attempting uninstall: nvidia-cusparse-cu12\n",
            "    Found existing installation: nvidia-cusparse-cu12 12.5.1.3\n",
            "    Uninstalling nvidia-cusparse-cu12-12.5.1.3:\n",
            "      Successfully uninstalled nvidia-cusparse-cu12-12.5.1.3\n",
            "  Attempting uninstall: nvidia-cudnn-cu12\n",
            "    Found existing installation: nvidia-cudnn-cu12 9.3.0.75\n",
            "    Uninstalling nvidia-cudnn-cu12-9.3.0.75:\n",
            "      Successfully uninstalled nvidia-cudnn-cu12-9.3.0.75\n",
            "  Attempting uninstall: nvidia-cusolver-cu12\n",
            "    Found existing installation: nvidia-cusolver-cu12 11.6.3.83\n",
            "    Uninstalling nvidia-cusolver-cu12-11.6.3.83:\n",
            "      Successfully uninstalled nvidia-cusolver-cu12-11.6.3.83\n",
            "Successfully installed easyocr-1.7.2 ninja-1.11.1.4 nvidia-cublas-cu12-12.4.5.8 nvidia-cuda-cupti-cu12-12.4.127 nvidia-cuda-nvrtc-cu12-12.4.127 nvidia-cuda-runtime-cu12-12.4.127 nvidia-cudnn-cu12-9.1.0.70 nvidia-cufft-cu12-11.2.1.3 nvidia-curand-cu12-10.3.5.147 nvidia-cusolver-cu12-11.6.1.9 nvidia-cusparse-cu12-12.3.1.170 nvidia-nvjitlink-cu12-12.4.127 python-bidi-0.6.6\n"
          ]
        }
      ],
      "source": [
        "!pip install easyocr"
      ]
    },
    {
      "cell_type": "code",
      "execution_count": null,
      "metadata": {
        "id": "Qznxv0HeJhZV"
      },
      "outputs": [],
      "source": [
        "import easyocr\n",
        "import cv2\n",
        "import numpy as np"
      ]
    },
    {
      "cell_type": "code",
      "execution_count": null,
      "metadata": {
        "colab": {
          "base_uri": "https://localhost:8080/"
        },
        "id": "oSyOgUt1JpJo",
        "outputId": "cc55e65c-bfa3-4df9-e4d7-44c90c139b40"
      },
      "outputs": [
        {
          "name": "stderr",
          "output_type": "stream",
          "text": [
            "WARNING:easyocr.easyocr:Neither CUDA nor MPS are available - defaulting to CPU. Note: This module is much faster with a GPU.\n"
          ]
        }
      ],
      "source": [
        "image = cv2.imread('/content/test.png')\n",
        "reader = easyocr.Reader(['ko','en'])\n",
        "results = reader.readtext(image)"
      ]
    },
    {
      "cell_type": "code",
      "execution_count": null,
      "metadata": {
        "colab": {
          "base_uri": "https://localhost:8080/"
        },
        "id": "0l-4QNVWKtQt",
        "outputId": "4a2bd012-d964-4804-e77f-2bbd68733e18"
      },
      "outputs": [
        {
          "name": "stdout",
          "output_type": "stream",
          "text": [
            "3. 정보통신 테마 희신성장 정책금움 현황 및 관련 산업 동향\n",
            "(지원 현황) 정보동신 테마을 구성하는 기술분야별 정책금웅 지원 현화 분석결과, 공급접유움 관점\n",
            "예서는 차세대무선동신미디어 분야에 가장 많은 정책지금이 투입 되고 있으며 공급광 증가율 관점\n",
            "예서는 능동형컴퓨팅 분야로의 정책지금 지원 증가 속도가 가장 빠른 추세임\n",
            "차세대무선통신미디어란 전습숙도 향상 소모전력 절감, 고속이동 중 금김없는 통신 등 새로운 무선\n",
            "환경에 피요한 동신  인프라 및 서비스 기숙울 동징하여   4G/5G/6G\n",
            "사물인터넷 .방송동신인프라\n",
            "등의 품목으로 구성님\n",
            "정보통신\n",
            "테마 내 허신성장 성책금움 공급 규모의 약 50*름 점유하고 있으머  이는 초연결 미래\n",
            "사회들 구축하기 위해 네트위크 기반 기순 사업화에 대한 정책지금 공급이 꾸준함에 따른 것으로\n",
            "분석되\n",
            "능동형컴퓨팅이관   거대하고 복잡해지는 데이터의 효율적 가공과 관리루\n",
            "위한 인간두뇌와 유사한\n",
            "형태의 정보처리기술올 말히다 인공지능 상황인지컴유팅 등의 문목으로 구성팀\n",
            "컴퓨팅 기소울 활용하 다양한 사업화기 활발히 진행되고 있어 역신성장 정책금용 공급 규모가 매년\n",
            "약 10093 수준오로 증가하고 있으머; 새정부의 '미래 먹거리신업\n",
            "신성장 전락추진\" 예 따리 인공\n",
            "지능 관련 기술로의 금움지원이 늘어날\n",
            "선망몸\n",
            "에너지 방산 우주임공 . 인공지능시) , 비이오\n",
            "단소중립 대S 스미트농업은 차세대 6대 먹거리 산업으로 선정\n",
            "것으로\n"
          ]
        }
      ],
      "source": [
        "for result in results:\n",
        "  print(result[1])"
      ]
    },
    {
      "cell_type": "markdown",
      "metadata": {
        "id": "yC6saMe1LbN-"
      },
      "source": [
        "문서를 대상으로 정확매칭 - 유사검색 - 생성형 답변\n",
        "  - 메타데이터를 추가해서 문단 단위로 분할"
      ]
    },
    {
      "cell_type": "code",
      "execution_count": null,
      "metadata": {
        "id": "YLkqzEcILbj3"
      },
      "outputs": [],
      "source": [
        "def load_and_prepare_document():\n",
        "  loader = PyPDFLoader('/content/산림병해충 방제규정(산림청훈령)(제1664호)(20241210).pdf')\n",
        "  documents = loader.load()  # 페이지 단위로 로드\n",
        "  # 각 페이지에 메타데이터 추가\n",
        "  for doc in documents:\n",
        "    page_content = doc.page_content\n",
        "    page_num = doc.metadata.get(\"page\",0) + 1 # 페이지 번호 추출\n",
        "    first_line =  page_content.split('\\n')[0].strip() # 첫 줄 추출\n",
        "    section_title = first_line if first_line.startswith(\"제\") else f\"페이지 {page_num}\"\n",
        "    doc.metadata.update({\"page\":page_num, \"section\":section_title})\n",
        "  # 문서 분할\n",
        "  text_splitter = RecursiveCharacterTextSplitter(chunk_size=200, chunk_overlap=20,\n",
        "                    separators=['.','\\n',' ',''],keep_separator=True # 구분자를 청크 끝에 포함\n",
        "                                                 )\n",
        "  return text_splitter.split_documents(documents)\n",
        "# 청크로 데이터베이스 생성\n",
        "def create_and_search_vectorstore(texts):\n",
        "  ''' chroma 벡터 db 생성, 질문에 대한 유사 문장 검색\n",
        "  '''\n",
        "  embedding = OpenAIEmbeddings(api_key=api_key)\n",
        "  vectorstore = Chroma.from_documents(texts, embedding, persist_directory='./chroma_db')\n",
        "  return vectorstore\n",
        "# 유사 문장 검색 테스트 함수\n",
        "def test_simularity_search(vectorstore,question = '병해충 예찰 및 발생조사 에 대해서?'):\n",
        "  results = vectorstore.similarity_search(question,k=3)\n",
        "  if results:\n",
        "    for i, doc in enumerate(results,1):\n",
        "      print(f\"{i} 페이지 {doc.metadata['page']}  {doc.metadata['section']} : {doc.page_content}\")\n",
        "  else:\n",
        "    print('유사문장 없음')"
      ]
    },
    {
      "cell_type": "code",
      "execution_count": null,
      "metadata": {
        "colab": {
          "base_uri": "https://localhost:8080/"
        },
        "id": "tGPmk1QSL2ed",
        "outputId": "a0f68511-ffb5-49bd-9351-25dac6213ae4"
      },
      "outputs": [
        {
          "name": "stdout",
          "output_type": "stream",
          "text": [
            "1 페이지 2  페이지 2 : .\n",
            " \n",
            " 제2장 병해충 예찰 및 발생조사\n",
            " \n",
            "제4조(예찰조사) ① 국립산림과학원장은 병해충 발생예보 발령 및 발생전망 등을 판단하기 위하여 매년 고정조사구\n",
            ", 상습발생지 및 선단지 등을 대상으로 예찰조사를 실시하고 다음 각 호에 해당하는 경우에는 산림병해충위험평\n",
            "2 페이지 23  페이지 23 : . 점검내용\n",
            "가. 피해지의 예찰 및 진단 결과\n",
            "나. 방제작업 시행의 적정성\n",
            "다. 산림병해충 발생에 따른 조치 및 방제현황\n",
            "5. 점검결과 조치\n",
            "가. 점검 결과를 해당 기관에 통보\n",
            "나\n",
            "3 페이지 7  페이지 7 : .\n",
            " \n",
            "제7조(발생조사) ① 예찰ㆍ방제기관의 장은 별표 3의 병해충별 발생조사 시기에 별표 4의1 발생밀도 조사요령(별표\n",
            "4의1 이외 병해충은 별표 4의2의 발생밀도 조사요령에 따라 조사)에 따라 병해충별ㆍ지역별ㆍ피해도별로 관할\n",
            "구역안의 병해충 발생조사를 실시하고 그 결과를 국립산림과학원장에게 매분기말 기준으로 다음 달 10일까지\n"
          ]
        }
      ],
      "source": [
        "texts = load_and_prepare_document()\n",
        "vectorstore = create_and_search_vectorstore(texts)\n",
        "test_simularity_search(vectorstore)"
      ]
    },
    {
      "cell_type": "code",
      "execution_count": null,
      "metadata": {
        "colab": {
          "base_uri": "https://localhost:8080/"
        },
        "id": "ODLbWxN5Oz-7",
        "outputId": "c9a5aec4-8993-409a-a7a3-7074c57690ec"
      },
      "outputs": [
        {
          "name": "stdout",
          "output_type": "stream",
          "text": [
            "1 페이지 4  페이지 4 : 법제처                                                            4                                                   국가법령정보센터\n",
            "산림병해충 방제규정\n",
            "제4조의2(위험평가의 대상) 위험평가의 대상은 다음 각 호와 같다.\n",
            "1\n",
            "2 페이지 4  페이지 4 : 법제처                                                            4                                                   국가법령정보센터\n",
            "산림병해충 방제규정\n",
            "제4조의2(위험평가의 대상) 위험평가의 대상은 다음 각 호와 같다.\n",
            "1\n",
            "3 페이지 15  페이지 15 : . 그 밖에 발주기관이 요구하는 사항\n",
            "② 사업시행자는 방제사업 실행 중 제출한 제1항제2호 내지 제4호의 내용변경이 있는 경우에는 변경 사항과 사\n",
            "유를 감리원과 감독자를 경유하여 발주자에게 제출하여야 한다\n"
          ]
        }
      ],
      "source": [
        "texts = load_and_prepare_document()\n",
        "vectorstore = create_and_search_vectorstore(texts)\n",
        "question = '제 4조는 어떤 내용인가'\n",
        "test_simularity_search(vectorstore,question)"
      ]
    },
    {
      "cell_type": "code",
      "execution_count": null,
      "metadata": {
        "colab": {
          "base_uri": "https://localhost:8080/"
        },
        "id": "Z3pUKKcBP9Ma",
        "outputId": "1ef4ca02-3e62-4d57-edd6-b384f2bd9fa3"
      },
      "outputs": [
        {
          "name": "stdout",
          "output_type": "stream",
          "text": [
            "=== PDF 문서 로드 및 준비 ===\n",
            "로드된 문서 페이지 수: 28\n",
            "분할된 청크 수: 228\n",
            "\n",
            "=== RAG 챗봇 생성 (COT 프롬프트) ===\n",
            "벡터 데이터베이스 생성 완료\n",
            "\n",
            "=== 챗봇 테스트 ===\n",
            "\n",
            "질문: 산림병해충 방제의 원칙은 무엇인가?\n",
            "COT 답변: 1) 문서에서 질문과 관련된 문장을 검색합니다.\n",
            "\n",
            "2) 관련 문장  \n",
            "- \"발생한 산림병해충에 효과적이며 적용가능한 약제를 선택하고, 「산림병해충 방제 농약등의 안전사용지침」을 준수할 것\"  \n",
            "- \"제11조(조사의 기본 원칙) ① 방제 대상목 조사는 전수조사를 원칙으로 한다. 다만, 다음 각 호의 경우에는 표준지(조사, 측정, 평가 등의 기준이 되는 지역)조사를 할 수 있다.\"\n",
            "\n",
            "3) 답변  \n",
            "산림병해충 방제의 원칙은 다음과 같습니다.  \n",
            "- 발생한 산림병해충에 효과적이며 적용 가능한 약제를 선택하고, 「산림병해충 방제 농약등의 안전사용지침」을 준수해야 합니다.  \n",
            "- 방제 대상목 조사는 전수조사를 원칙으로 하되, 예외적으로 표준지 조사를 할 수 있습니다.  \n",
            "(출처: 제11조(조사의 기본 원칙), 문서 첫 페이지)\n",
            "--------------------------------------------------\n",
            "\n",
            "질문: 방제 절차는 무엇인가?\n",
            "COT 답변: 1) 문서에서 질문과 관련된 문장을 검색합니다.\n",
            "\n",
            "2) 관련 문장이 있으면 해당 항목들을 나열한다\n",
            "\n",
            "문서에서 \"방제 절차\"와 관련된 것으로 보이는 문장은 다음과 같습니다:\n",
            "\n",
            "1. 방제명령을 받은 자가 방제명령을 이행하지 않거나 소홀히 하는 경우  \n",
            "2. 산림소유자의 소재파악이 불가능한 경우  \n",
            "3. 산림소유자가 방제능력이 없다고 판단될 경우  \n",
            "4. 다른 지역으로 확산될 우려가 있어 긴급히 방제가 필요한 경우  \n",
            "5. 기타 직접방제를 하는 것이 타당하다고 인정되는 경우\n",
            "\n",
            "3) 문장에 없으면 \"문서에 정보 없음\"을 명시하고, 일반 지식으로 간결히 답변합니다.\n",
            "\n",
            "따라서, 문서에 명시된 방제 절차 관련 조항은 아래와 같습니다.\n",
            "\n",
            "---\n",
            "\n",
            "**[조항명, 페이지 번호 미상: 본 문서에는 조항명과 페이지 번호가 나타나 있지 않습니다.]**\n",
            "\n",
            "**방제 절차 관련 항목:**\n",
            "1. 방제명령을 받은 자가 방제명령을 이행하지 않거나 소홀히 하는 경우  \n",
            "2. 산림소유자의 소재파악이 불가능한 경우  \n",
            "3. 산림소유자가 방제능력이 없다고 판단될 경우  \n",
            "4. 다른 지역으로 확산될 우려가 있어 긴급히 방제가 필요한 경우  \n",
            "5. 기타 직접방제를 하는 것이 타당하다고 인정되는 경우\n",
            "\n",
            "위 항목들은 방제를 직접 실시할 수 있는 사유를 명시하고 있으며, 방제 절차의 일부로 볼 수 있습니다.\n",
            "\n",
            "---\n",
            "\n",
            "※ **조항명 및 페이지 번호**: 문서에 별도 기재되어 있지 않으므로, 제공할 수 없습니다.\n",
            "--------------------------------------------------\n",
            "\n",
            "질문: 산림병해충 예방 방법은 무엇인가?\n",
            "COT 답변: 1) 문서에서 질문과 관련된 문장을 검색합니다.  \n",
            "문서 내용: \"지 않도록 하거나 이미 발생한 산림병해충을 약화 또는 제거하는 방제방법을 말한다.\"\n",
            "\n",
            "2) 관련 문장이 있으면 해당 항목들을 나열한다  \n",
            "→ 문서에는 산림병해충을 약화 또는 제거하는 방제방법에 대해 언급되어 있으나, 구체적인 예방 방법은 포함되어 있지 않습니다.\n",
            "\n",
            "3) 문장에 없으면 \"문서에 정보 없음\"을 명시하고, 일반 지식으로 간결히 답변합니다.  \n",
            "조항명, 페이지 번호: 해당 문서는 조항명, 페이지 번호가 명시되어 있지 않습니다.\n",
            "\n",
            "답변:  \n",
            "문서에 정보 없음.  \n",
            "일반적으로 산림병해충 예방 방법에는 병해충에 강한 수종 선택, 적절한 숲 가꾸기, 피해목 제거, 예방적 약제 살포, 모니터링 및 조기 발견 등이 있습니다.\n",
            "--------------------------------------------------\n",
            "\n",
            "질문: 제2조에서 정의된 용어는 무엇인가?\n",
            "COT 답변: 1) 문서에서 질문과 관련된 문장을 검색합니다.  \n",
            "- 문서에는 \"제2조(정의) 이 훈령에서 사용하는 용어의 뜻은 다음과 같다.\"라는 조항이 반복적으로 등장합니다.\n",
            "- 이어서 \"1. '방제사업'이란 법에 따라 산림병해충이 발생하지 아니하도록 예방하거나, 이미 발생한 산림병해충을 약화시키거나 제거하기 위하여 시행하는 사업을 말한다.\"\n",
            "- \"2. '발주자'란 산림병해충 방제와 관련된 설계ㆍ감리 및 사업을 발주하고, 계약을 체결하여 이를 집행하는 자를 말한다.\"라는 문장이 있습니다.\n",
            "\n",
            "2) 관련 문장이 있으므로 해당 항목들을 나열합니다.\n",
            "\n",
            "3) 답변:\n",
            "---\n",
            "조항명: 제2조(정의)  \n",
            "페이지 번호: 명시되어 있지 않으나, 문서 첫 부분에 반복적으로 등장\n",
            "\n",
            "제2조에서 정의된 용어는 다음과 같습니다.\n",
            "1. \"방제사업\": 법에 따라 산림병해충이 발생하지 아니하도록 예방하거나, 이미 발생한 산림병해충을 약화시키거나 제거하기 위하여 시행하는 사업.\n",
            "2. \"발주자\": 산림병해충 방제와 관련된 설계ㆍ감리 및 사업을 발주하고, 계약을 체결하여 이를 집행하는 자.\n",
            "--------------------------------------------------\n",
            "\n",
            "질문: 항공방제란 무엇인가?\n",
            "COT 답변: 1) 문서에서 질문과 관련된 문장을 검색합니다.  \n",
            "- \"18. '항공방제'란 병해충 방제에 산림항공기를 이용하는 ‘유인헬기방제’와 산림병해충 방제용 드론을 이용하여 방제사업을 시행하는 ‘드론방제’를 말한다.\"\n",
            "\n",
            "2) 관련 문장이 있으므로 해당 항목을 나열합니다.  \n",
            "- 18. \"항공방제\"란 병해충 방제에 산림항공기를 이용하는 ‘유인헬기방제’와 산림병해충 방제용 드론을 이용하여 방제사업을 시행하는 ‘드론방제’를 말한다.\n",
            "\n",
            "3) 문장에 모든 정보가 포함되어 있으므로, 추가 설명은 필요 없습니다.\n",
            "\n",
            "- 조항명: 제18조(정의)\n",
            "- 페이지 번호: 문서 내 명시 없음\n",
            "\n",
            "**최종 답변:**  \n",
            "항공방제란 병해충 방제에 산림항공기를 이용하는 ‘유인헬기방제’와 산림병해충 방제용 드론을 이용하여 방제사업을 시행하는 ‘드론방제’를 말합니다.  \n",
            "(조항명: 18항, 페이지 번호: 문서 내 명시 없음)\n",
            "--------------------------------------------------\n",
            "\n",
            "질문: 위험평가의 대상은\n",
            "COT 답변: 1) 문서에서 질문과 관련된 문장을 검색합니다.  \n",
            "문서에서 “위험평가의 실시”에 대해 규정한 제4조의5(위험평가의 실시) ①항을 확인합니다.\n",
            "\n",
            "2) 관련 문장이 있으면 해당 항목들을 나열한다  \n",
            "제4조의5(위험평가의 실시) ① 위험평가는 다음 각 호의 항목을 포함하여 실시하여야 한다.  \n",
            "1. 대상 산림병해충의 외래병해충 여부  \n",
            "2. 대상 산림병해충의 생리ㆍ생태적 특성  \n",
            "3. 대상 산림병해충으로 인한 예상 피해 정도  \n",
            "\n",
            "또한, 수시위원회에서 평가 대상을 규정한 문장이 있습니다:  \n",
            "“수시위원회에서는 예찰ㆍ방제기관 또는 산림연구기관 등의 요청ㆍ발생보고 등 사회ㆍ경제ㆍ환경적으로 피해가 발생하였거나 피해가 예상되는 외래ㆍ돌발병해충에 대해 긴급하게 위험평가를 실시한다.”\n",
            "\n",
            "3) 답변  \n",
            "[제4조의5(위험평가의 실시), p. OO]  \n",
            "위험평가의 대상은 사회ㆍ경제ㆍ환경적으로 피해가 발생하였거나 피해가 예상되는 외래ㆍ돌발 산림병해충입니다.  \n",
            "또한, 위험평가는 다음 각 항목을 포함하여 실시합니다.  \n",
            "1. 대상 산림병해충의 외래병해충 여부  \n",
            "2. 대상 산림병해충의 생리ㆍ생태적 특성  \n",
            "3. 대상 산림병해충으로 인한 예상 피해 정도\n",
            "\n",
            "(페이지 번호는 문서에서 확인 후 OO 부분에 실제로 기입해야 합니다.)\n",
            "--------------------------------------------------\n"
          ]
        }
      ],
      "source": [
        "import os\n",
        "from langchain_community.document_loaders import PyPDFLoader\n",
        "from langchain.text_splitter import RecursiveCharacterTextSplitter\n",
        "from langchain_openai import OpenAIEmbeddings\n",
        "from langchain_community.vectorstores import Chroma\n",
        "from langchain_openai import ChatOpenAI\n",
        "from langchain.chains import RetrievalQA\n",
        "from langchain.prompts import PromptTemplate\n",
        "\n",
        "# OpenAI API 키 설정\n",
        "\n",
        "\n",
        "# 1. PDF 문서 로드 및 준비\n",
        "def load_and_prepare_documents():\n",
        "    \"\"\"\n",
        "    PDF 문서를 로드하고, 페이지별 메타데이터를 추가해 분할.\n",
        "    Returns: 분할된 텍스트 청크 리스트\n",
        "    \"\"\"\n",
        "    print(\"=== PDF 문서 로드 및 준비 ===\")\n",
        "    try:\n",
        "        loader = PyPDFLoader(\"/content/산림병해충 방제규정(산림청훈령)(제1664호)(20241210).pdf\")\n",
        "        documents = loader.load()\n",
        "        print(f\"로드된 문서 페이지 수: {len(documents)}\")\n",
        "    except Exception as e:\n",
        "        print(f\"PDF 로드 에러: {e}\")\n",
        "        return []\n",
        "\n",
        "    # 페이지별 메타데이터 추가 (페이지 번호, 조항명 추정)\n",
        "    for doc in documents:\n",
        "        page_content = doc.page_content\n",
        "        page_num = doc.metadata.get(\"page\", 0) + 1\n",
        "        # 조항명 추정 (예: \"제1조\"로 시작)\n",
        "        first_line = page_content.split(\"\\n\")[0].strip()\n",
        "        section_title = first_line if first_line.startswith(\"제\") else f\"페이지 {page_num}\"\n",
        "        doc.metadata.update({\"page\": page_num, \"section\": section_title})\n",
        "\n",
        "    # 문서 분할 (한글 문서에 최적화)\n",
        "    text_splitter = RecursiveCharacterTextSplitter(\n",
        "        chunk_size=200,  # 로그 기반 228 청크에 적합\n",
        "        chunk_overlap=20,\n",
        "        separators=[\"\\n\\n\", \"\\n\", \".\", \" \", \"\"],\n",
        "        keep_separator=True\n",
        "    )\n",
        "    texts = text_splitter.split_documents(documents)\n",
        "    print(f\"분할된 청크 수: {len(texts)}\")\n",
        "    return texts\n",
        "\n",
        "# 2. RAG 챗봇 생성 (CoT 프롬프트)\n",
        "def create_rag_chatbot(texts):\n",
        "    \"\"\"\n",
        "    PDF 문서를 기반으로 CoT 프롬프트 RAG 챗봇 생성.\n",
        "    Args:\n",
        "        texts: 분할된 문서 청크\n",
        "    Returns: RetrievalQA 체인\n",
        "    \"\"\"\n",
        "    print(\"\\n=== RAG 챗봇 생성 (COT 프롬프트) ===\")\n",
        "    try:\n",
        "        # 벡터 데이터베이스 생성\n",
        "        embeddings = OpenAIEmbeddings(api_key=api_key)\n",
        "        vectorstore = Chroma.from_documents(texts, embeddings, persist_directory=\"./chroma_db\")\n",
        "        print(\"벡터 데이터베이스 생성 완료\")\n",
        "\n",
        "        # LLM 초기화\n",
        "        llm = ChatOpenAI(model_name=\"gpt-4.1-2025-04-14\", temperature=0.7, openai_api_key=api_key)\n",
        "\n",
        "        # CoT 프롬프트\n",
        "        template = \"\"\"문서: {context}\n",
        "질문: {question}\n",
        "다음 단계를 따라 한글로 답변하세요:\n",
        "1) 문서에서 질문과 관련된 문장을 검색합니다.\n",
        "2) 관련 문장이 있으면 해당 항목들을 나열한다\n",
        "3) 문장에 없으면 \"문서에 정보 없음\"을 명시하고, 일반 지식으로 간결히 답변합니다.\n",
        "답변은 정확해야 하며, 조항명과 페이지 번호를 명확히 표시하세요.\"\"\"\n",
        "        prompt_template = PromptTemplate(input_variables=[\"context\", \"question\"], template=template)\n",
        "\n",
        "        # RetrievalQA 체인\n",
        "        qa_chain = RetrievalQA.from_chain_type(\n",
        "            llm=llm,\n",
        "            chain_type=\"stuff\",\n",
        "            retriever=vectorstore.as_retriever(search_kwargs={\"k\": 3}),\n",
        "            return_source_documents=True,\n",
        "            chain_type_kwargs={\"prompt\": prompt_template}\n",
        "        )\n",
        "        return qa_chain\n",
        "    except Exception as e:\n",
        "        print(f\"RAG 챗봇 생성 에러: {e}\")\n",
        "        return None\n",
        "\n",
        "# 3. 챗봇 테스트\n",
        "def test_chatbot(qa_chain):\n",
        "    \"\"\"\n",
        "    CoT 프롬프트로 챗봇 테스트.\n",
        "    Args:\n",
        "        qa_chain: RetrievalQA 체인\n",
        "    \"\"\"\n",
        "    print(\"\\n=== 챗봇 테스트 ===\")\n",
        "    questions = [\n",
        "        \"산림병해충 방제의 원칙은 무엇인가?\",\n",
        "        \"방제 절차는 무엇인가?\",\n",
        "        \"산림병해충 예방 방법은 무엇인가?\",\n",
        "        \"제2조에서 정의된 용어는 무엇인가?\",\n",
        "        \"항공방제란 무엇인가?\",\n",
        "        \"위험평가의 대상은\"\n",
        "    ]\n",
        "    for q in questions:\n",
        "        print(f\"\\n질문: {q}\")\n",
        "        try:\n",
        "            result = qa_chain.invoke({\"query\": q})\n",
        "            print(f\"COT 답변: {result['result']}\")\n",
        "            # print(f\"참조 문서: {[f'페이지 {doc.metadata['page']} ({doc.metadata['section']}): {doc.page_content}' for doc in result['source_documents']]}\")\n",
        "        except Exception as e:\n",
        "            print(f\"COT 에러: {e}\")\n",
        "        print(\"-\" * 50)\n",
        "\n",
        "# 메인 실행\n",
        "def main():\n",
        "    # 문서 로드 및 분할\n",
        "    texts = load_and_prepare_documents()\n",
        "    if not texts:\n",
        "        print(\"문서 처리 실패, 종료.\")\n",
        "        return\n",
        "\n",
        "    # CoT 기반 챗봇 생성\n",
        "    qa_chain = create_rag_chatbot(texts)\n",
        "    if not qa_chain:\n",
        "        print(\"챗봇 생성 실패, 종료.\")\n",
        "        return\n",
        "\n",
        "    # 챗봇 테스트\n",
        "    test_chatbot(qa_chain)\n",
        "\n",
        "if __name__ == \"__main__\":\n",
        "    main()"
      ]
    },
    {
      "cell_type": "markdown",
      "metadata": {
        "id": "EOnELAWHWVeT"
      },
      "source": [
        "RAG - QA 구축"
      ]
    },
    {
      "cell_type": "code",
      "execution_count": null,
      "metadata": {
        "id": "Ex3kFyMpUChU"
      },
      "outputs": [],
      "source": [
        "# pdf 파일 로드\n",
        "loader = PyPDFLoader('/content/대한민국헌법(헌법)(제00010호)(19880225).pdf')\n",
        "pages = loader.load_and_split()"
      ]
    },
    {
      "cell_type": "code",
      "execution_count": null,
      "metadata": {
        "id": "lR33KHmoWsVB"
      },
      "outputs": [],
      "source": [
        "# 청크로 분할 1000 - size\n",
        "text_splitter = RecursiveCharacterTextSplitter(chunk_size=1000, chunk_overlap=100)\n",
        "docs =  text_splitter.split_documents(pages)"
      ]
    },
    {
      "cell_type": "code",
      "execution_count": null,
      "metadata": {
        "id": "1kknHQTwXDLu"
      },
      "outputs": [],
      "source": [
        "# 임베딩\n",
        "embeddings = OpenAIEmbeddings(api_key=api_key)\n",
        "vectorstore = Chroma.from_documents(docs, embeddings)\n",
        "retriver = vectorstore.as_retriever()"
      ]
    },
    {
      "cell_type": "code",
      "execution_count": null,
      "metadata": {
        "id": "lbhYl0maXotH"
      },
      "outputs": [],
      "source": [
        "# 프롬프트 모델\n",
        "llm = ChatOpenAI(openai_api_key=api_key, model = 'gpt-4o-mini')"
      ]
    },
    {
      "cell_type": "code",
      "execution_count": null,
      "metadata": {
        "colab": {
          "base_uri": "https://localhost:8080/"
        },
        "id": "F2kMhdoQX10F",
        "outputId": "7707a00f-2e06-4b8a-b43d-40d6b04441b8"
      },
      "outputs": [
        {
          "name": "stdout",
          "output_type": "stream",
          "text": [
            "결과 : 대통령의 주요 의무는 직책을 성실히 수행하는 것이며, 또한 헌법과 법률에 따라 국군을 통수하고 국가안위에 관한 중요정책을 국민투표에 붙일 수 있는 권한이 있습니다. 대통령은 필요한 경우 긴급한 조치를 취하여 국가의 안전보장이나 공공의 안녕질서를 유지해야 합니다. 추가로, 조약을 체결하고 외교사절을 파견하는 등의 외교적 책임도 포함됩니다.\n",
            "참조문서 : \n",
            "노력하여 대통령으로서의 직책을 성실히 수행할 것을 국민 앞에 엄숙히 선서합니다.”\n",
            " \n",
            "제70조 대통령의 임기는 5년으로 하며, 중임할 수 없다.\n",
            " \n",
            "제71조 대통령이 궐위되거나 사고로 인하여 직무를 수행할 수 없을 때에는 국무총리, 법률이 정한 국무위원의 순서로\n",
            "그 권한을 대행한다.\n",
            " \n",
            "제72조 대통령은 필요하다고 인정할 때에는 외교ㆍ국방ㆍ통일 기타 국가안위에 관한 중요정책을 국민투표에 붙일 수\n",
            "있다.\n",
            " \n",
            "제73조 대통령은 조약을 체결ㆍ비준하고, 외교사절을 신임ㆍ접수 또는 파견하며, 선전포고와 강화를 한다.\n",
            " \n",
            "제74조 ①대통령은 헌법과 법률이 정하는 바에 의하여 국군을 통수한다.\n",
            "②국군의 조직과 편성은 법률로 정한다.\n",
            " \n",
            "제75조 대통령은 법률에서 구체적으로 범위를 정하여 위임받은 사항과 법률을 집행하기 위하여 필요한 사항에 관하여\n",
            "대통령령을 발할 수 있다.\n",
            " \n",
            "제76조 ①대통령은 내우ㆍ외환ㆍ천재ㆍ지변 또는 중대한 재정ㆍ경제상의 위기에 있어서 국가의 안전보장 또는 공공의\n",
            "안녕질서를 유지하기 위하여 긴급한 조치가 필요하고 국회의 집회를 기다릴 여유가 없을 때에 한하여 최소한으로\n",
            "필요한 재정ㆍ경제상의 처분을 하거나 이에 관하여 법률의 효력을 가지는 명령을 발할 수 있다.\n",
            "노력하여 대통령으로서의 직책을 성실히 수행할 것을 국민 앞에 엄숙히 선서합니다.”\n",
            " \n",
            "제70조 대통령의 임기는 5년으로 하며, 중임할 수 없다.\n",
            " \n",
            "제71조 대통령이 궐위되거나 사고로 인하여 직무를 수행할 수 없을 때에는 국무총리, 법률이 정한 국무위원의 순서로\n",
            "그 권한을 대행한다.\n",
            " \n",
            "제72조 대통령은 필요하다고 인정할 때에는 외교ㆍ국방ㆍ통일 기타 국가안위에 관한 중요정책을 국민투표에 붙일 수\n",
            "있다.\n",
            " \n",
            "제73조 대통령은 조약을 체결ㆍ비준하고, 외교사절을 신임ㆍ접수 또는 파견하며, 선전포고와 강화를 한다.\n",
            " \n",
            "제74조 ①대통령은 헌법과 법률이 정하는 바에 의하여 국군을 통수한다.\n",
            "②국군의 조직과 편성은 법률로 정한다.\n",
            " \n",
            "제75조 대통령은 법률에서 구체적으로 범위를 정하여 위임받은 사항과 법률을 집행하기 위하여 필요한 사항에 관하여\n",
            "대통령령을 발할 수 있다.\n",
            " \n",
            "제76조 ①대통령은 내우ㆍ외환ㆍ천재ㆍ지변 또는 중대한 재정ㆍ경제상의 위기에 있어서 국가의 안전보장 또는 공공의\n",
            "안녕질서를 유지하기 위하여 긴급한 조치가 필요하고 국회의 집회를 기다릴 여유가 없을 때에 한하여 최소한으로\n",
            "필요한 재정ㆍ경제상의 처분을 하거나 이에 관하여 법률의 효력을 가지는 명령을 발할 수 있다.\n",
            "노력하여 대통령으로서의 직책을 성실히 수행할 것을 국민 앞에 엄숙히 선서합니다.”\n",
            " \n",
            "제70조 대통령의 임기는 5년으로 하며, 중임할 수 없다.\n",
            " \n",
            "제71조 대통령이 궐위되거나 사고로 인하여 직무를 수행할 수 없을 때에는 국무총리, 법률이 정한 국무위원의 순서로\n",
            "그 권한을 대행한다.\n",
            " \n",
            "제72조 대통령은 필요하다고 인정할 때에는 외교ㆍ국방ㆍ통일 기타 국가안위에 관한 중요정책을 국민투표에 붙일 수\n",
            "있다.\n",
            " \n",
            "제73조 대통령은 조약을 체결ㆍ비준하고, 외교사절을 신임ㆍ접수 또는 파견하며, 선전포고와 강화를 한다.\n",
            " \n",
            "제74조 ①대통령은 헌법과 법률이 정하는 바에 의하여 국군을 통수한다.\n",
            "②국군의 조직과 편성은 법률로 정한다.\n",
            " \n",
            "제75조 대통령은 법률에서 구체적으로 범위를 정하여 위임받은 사항과 법률을 집행하기 위하여 필요한 사항에 관하여\n",
            "대통령령을 발할 수 있다.\n",
            " \n",
            "제76조 ①대통령은 내우ㆍ외환ㆍ천재ㆍ지변 또는 중대한 재정ㆍ경제상의 위기에 있어서 국가의 안전보장 또는 공공의\n",
            "안녕질서를 유지하기 위하여 긴급한 조치가 필요하고 국회의 집회를 기다릴 여유가 없을 때에 한하여 최소한으로\n",
            "필요한 재정ㆍ경제상의 처분을 하거나 이에 관하여 법률의 효력을 가지는 명령을 발할 수 있다.\n"
          ]
        }
      ],
      "source": [
        "# 프롬프트 엔지니어링\n",
        "prompt = '''\n",
        "당신은 질문 답변 어시스턴트 입니다.\n",
        "제공된 문맥을 이용해서 질문에 답하세요\n",
        "문맥에 답변이 없으면 \"정보 없음\"이라고 표시하고 일반 지식으로 간결히 답변하세요\n",
        "답변은 최대 세 문장으로 작성하세요\n",
        "\n",
        "문맥 : {context}\n",
        "질문 : {question}\n",
        "'''\n",
        "\n",
        "prompt_template = PromptTemplate(input_variables=[\"context\", \"question\"], template=prompt)\n",
        "\n",
        "# RetrievalQA 체인\n",
        "qa_chain = RetrievalQA.from_chain_type(\n",
        "    llm=llm,\n",
        "    chain_type=\"stuff\",\n",
        "    retriever=vectorstore.as_retriever(search_kwargs={\"k\": 3}),\n",
        "    return_source_documents=True,\n",
        "    chain_type_kwargs={\"prompt\": prompt_template}\n",
        ")\n",
        "result = qa_chain.invoke('대통령의 의무')\n",
        "print(f\"결과 : {result['result']}\")\n",
        "print(\"참조문서 : \")\n",
        "for doc in result['source_documents']:\n",
        "  print(doc.page_content)"
      ]
    },
    {
      "cell_type": "markdown",
      "metadata": {
        "id": "YgAGg71CbQnh"
      },
      "source": [
        "RAG-memory\n",
        "  - 페이지별 메타에이터 활용\n",
        "  - 대화 메모리 포함 세션별 기록 저장"
      ]
    },
    {
      "cell_type": "code",
      "execution_count": 221,
      "metadata": {
        "id": "yUprHUzZZEf8"
      },
      "outputs": [],
      "source": [
        "from langchain.prompts import ChatPromptTemplate, MessagesPlaceholder\n",
        "from langchain.chains import create_history_aware_retriever\n",
        "from langchain_core.messages import HumanMessage, AIMessage\n",
        "# 위의 코드를 재 사용하면서\n",
        "# 청크로 분할 1000 - size\n",
        "text_splitter = RecursiveCharacterTextSplitter(chunk_size=1000, chunk_overlap=100)\n",
        "docs =  text_splitter.split_documents(pages)\n",
        "# 임베딩\n",
        "embeddings = OpenAIEmbeddings(api_key=api_key)\n",
        "vectorstore = Chroma.from_documents(docs, embeddings)\n",
        "retriver = vectorstore.as_retriever()\n",
        "\n",
        "# 채팅 히스토리와 사용지 질문 문맥을 고려해서 질문 재 구성\n",
        "context_prompt = ''' 대화 기록과 최신 사용자 질문을 바탕으로, \\\n",
        "대화 기록 없이도 이해할 수 있는 독립적인 질문을 구성하세요. \\\n",
        "질문에 답변하지 말고, 필요한 경우 질문만 재구성하거나 그대로 반환하세요\n",
        "'''\n",
        "contextualize_prompt =  ChatPromptTemplate.from_messages([\n",
        " (\"system\", context_prompt)   ,\n",
        " MessagesPlaceholder(variable_name=\"chat_history\"),\n",
        " (\"human\", \"{input}\")\n",
        "])\n",
        "# 대화 기록을 고려한 검색기 생성\n",
        "# llm = ChatOpenAI(model = 'gpt-4o-mini')\n",
        "llm = ChatOpenAI(openai_api_key=api_key)\n",
        "history_aware_retriever =  create_history_aware_retriever(llm, retriver,contextualize_prompt)\n",
        "# 대화 기록 example\n",
        "chat_history = [\n",
        "    HumanMessage(content=\"대통령의 임기는 몇년이야?\"),\n",
        "    AIMessage(content=\"대통령의 임기는 5년 입니다.\")\n",
        "]\n",
        "result = contextualize_prompt.invoke({\"input\" : \"국회의원의 임기는??\", \"chat_history\":chat_history})"
      ]
    },
    {
      "cell_type": "code",
      "execution_count": 218,
      "metadata": {
        "colab": {
          "base_uri": "https://localhost:8080/"
        },
        "id": "3q-a8hdLeYc1",
        "outputId": "591e322d-925d-442e-b7d5-a7d3fda672d3"
      },
      "outputs": [
        {
          "data": {
            "text/plain": [
              "[Document(metadata={'creationdate': '2024-04-01T21:26:24+09:00', 'moddate': '2024-04-01T21:26:24+09:00', 'source': '/content/대한민국헌법(헌법)(제00010호)(19880225).pdf', 'creator': 'PyPDF', 'producer': 'iText 2.1.7 by 1T3XT', 'total_pages': 14, 'page_label': '5', 'page': 4}, page_content='법제처                                                            5                                                       국가법령정보센터\\n대한민국헌법\\n③국회의원의 선거구와 비례대표제 기타 선거에 관한 사항은 법률로 정한다.\\n \\n제42조 국회의원의 임기는 4년으로 한다.\\n \\n제43조 국회의원은 법률이 정하는 직을 겸할 수 없다.\\n \\n제44조 ①국회의원은 현행범인인 경우를 제외하고는 회기 중 국회의 동의없이 체포 또는 구금되지 아니한다.\\n②국회의원이 회기 전에 체포 또는 구금된 때에는 현행범인이 아닌 한 국회의 요구가 있으면 회기 중 석방된다.\\n \\n제45조 국회의원은 국회에서 직무상 행한 발언과 표결에 관하여 국회 외에서 책임을 지지 아니한다.\\n \\n제46조 ①국회의원은 청렴의 의무가 있다.\\n②국회의원은 국가이익을 우선하여 양심에 따라 직무를 행한다.\\n③국회의원은 그 지위를 남용하여 국가ㆍ공공단체 또는 기업체와의 계약이나 그 처분에 의하여 재산상의 권리ㆍ이\\n익 또는 직위를 취득하거나 타인을 위하여 그 취득을 알선할 수 없다.\\n \\n제47조 ①국회의 정기회는 법률이 정하는 바에 의하여 매년 1회 집회되며, 국회의 임시회는 대통령 또는 국회재적의원\\n4분의 1 이상의 요구에 의하여 집회된다.\\n②정기회의 회기는 100일을, 임시회의 회기는 30일을 초과할 수 없다.\\n③대통령이 임시회의 집회를 요구할 때에는 기간과 집회요구의 이유를 명시하여야 한다.\\n \\n제48조 국회는 의장 1인과 부의장 2인을 선출한다.\\n \\n제49조 국회는 헌법 또는 법률에 특별한 규정이 없는 한 재적의원 과반수의 출석과 출석의원 과반수의 찬성으로 의결\\n한다. 가부동수인 때에는 부결된 것으로 본다.\\n \\n제50조 ①국회의 회의는 공개한다. 다만, 출석의원 과반수의 찬성이 있거나 의장이 국가의 안전보장을 위하여 필요하다\\n고 인정할 때에는 공개하지 아니할 수 있다.'),\n",
              " Document(metadata={'creator': 'PyPDF', 'total_pages': 14, 'page_label': '5', 'producer': 'iText 2.1.7 by 1T3XT', 'page': 4, 'creationdate': '2024-04-01T21:26:24+09:00', 'moddate': '2024-04-01T21:26:24+09:00', 'source': '/content/대한민국헌법(헌법)(제00010호)(19880225).pdf'}, page_content='법제처                                                            5                                                       국가법령정보센터\\n대한민국헌법\\n③국회의원의 선거구와 비례대표제 기타 선거에 관한 사항은 법률로 정한다.\\n \\n제42조 국회의원의 임기는 4년으로 한다.\\n \\n제43조 국회의원은 법률이 정하는 직을 겸할 수 없다.\\n \\n제44조 ①국회의원은 현행범인인 경우를 제외하고는 회기 중 국회의 동의없이 체포 또는 구금되지 아니한다.\\n②국회의원이 회기 전에 체포 또는 구금된 때에는 현행범인이 아닌 한 국회의 요구가 있으면 회기 중 석방된다.\\n \\n제45조 국회의원은 국회에서 직무상 행한 발언과 표결에 관하여 국회 외에서 책임을 지지 아니한다.\\n \\n제46조 ①국회의원은 청렴의 의무가 있다.\\n②국회의원은 국가이익을 우선하여 양심에 따라 직무를 행한다.\\n③국회의원은 그 지위를 남용하여 국가ㆍ공공단체 또는 기업체와의 계약이나 그 처분에 의하여 재산상의 권리ㆍ이\\n익 또는 직위를 취득하거나 타인을 위하여 그 취득을 알선할 수 없다.\\n \\n제47조 ①국회의 정기회는 법률이 정하는 바에 의하여 매년 1회 집회되며, 국회의 임시회는 대통령 또는 국회재적의원\\n4분의 1 이상의 요구에 의하여 집회된다.\\n②정기회의 회기는 100일을, 임시회의 회기는 30일을 초과할 수 없다.\\n③대통령이 임시회의 집회를 요구할 때에는 기간과 집회요구의 이유를 명시하여야 한다.\\n \\n제48조 국회는 의장 1인과 부의장 2인을 선출한다.\\n \\n제49조 국회는 헌법 또는 법률에 특별한 규정이 없는 한 재적의원 과반수의 출석과 출석의원 과반수의 찬성으로 의결\\n한다. 가부동수인 때에는 부결된 것으로 본다.\\n \\n제50조 ①국회의 회의는 공개한다. 다만, 출석의원 과반수의 찬성이 있거나 의장이 국가의 안전보장을 위하여 필요하다\\n고 인정할 때에는 공개하지 아니할 수 있다.'),\n",
              " Document(metadata={'source': '/content/대한민국헌법(헌법)(제00010호)(19880225).pdf', 'total_pages': 14, 'creator': 'PyPDF', 'page': 4, 'creationdate': '2024-04-01T21:26:24+09:00', 'page_label': '5', 'moddate': '2024-04-01T21:26:24+09:00', 'producer': 'iText 2.1.7 by 1T3XT'}, page_content='법제처                                                            5                                                       국가법령정보센터\\n대한민국헌법\\n③국회의원의 선거구와 비례대표제 기타 선거에 관한 사항은 법률로 정한다.\\n \\n제42조 국회의원의 임기는 4년으로 한다.\\n \\n제43조 국회의원은 법률이 정하는 직을 겸할 수 없다.\\n \\n제44조 ①국회의원은 현행범인인 경우를 제외하고는 회기 중 국회의 동의없이 체포 또는 구금되지 아니한다.\\n②국회의원이 회기 전에 체포 또는 구금된 때에는 현행범인이 아닌 한 국회의 요구가 있으면 회기 중 석방된다.\\n \\n제45조 국회의원은 국회에서 직무상 행한 발언과 표결에 관하여 국회 외에서 책임을 지지 아니한다.\\n \\n제46조 ①국회의원은 청렴의 의무가 있다.\\n②국회의원은 국가이익을 우선하여 양심에 따라 직무를 행한다.\\n③국회의원은 그 지위를 남용하여 국가ㆍ공공단체 또는 기업체와의 계약이나 그 처분에 의하여 재산상의 권리ㆍ이\\n익 또는 직위를 취득하거나 타인을 위하여 그 취득을 알선할 수 없다.\\n \\n제47조 ①국회의 정기회는 법률이 정하는 바에 의하여 매년 1회 집회되며, 국회의 임시회는 대통령 또는 국회재적의원\\n4분의 1 이상의 요구에 의하여 집회된다.\\n②정기회의 회기는 100일을, 임시회의 회기는 30일을 초과할 수 없다.\\n③대통령이 임시회의 집회를 요구할 때에는 기간과 집회요구의 이유를 명시하여야 한다.\\n \\n제48조 국회는 의장 1인과 부의장 2인을 선출한다.\\n \\n제49조 국회는 헌법 또는 법률에 특별한 규정이 없는 한 재적의원 과반수의 출석과 출석의원 과반수의 찬성으로 의결\\n한다. 가부동수인 때에는 부결된 것으로 본다.\\n \\n제50조 ①국회의 회의는 공개한다. 다만, 출석의원 과반수의 찬성이 있거나 의장이 국가의 안전보장을 위하여 필요하다\\n고 인정할 때에는 공개하지 아니할 수 있다.'),\n",
              " Document(metadata={'moddate': '2024-04-01T21:26:24+09:00', 'source': '/content/대한민국헌법(헌법)(제00010호)(19880225).pdf', 'page': 4, 'creationdate': '2024-04-01T21:26:24+09:00', 'page_label': '5', 'producer': 'iText 2.1.7 by 1T3XT', 'creator': 'PyPDF', 'total_pages': 14}, page_content='법제처                                                            5                                                       국가법령정보센터\\n대한민국헌법\\n③국회의원의 선거구와 비례대표제 기타 선거에 관한 사항은 법률로 정한다.\\n \\n제42조 국회의원의 임기는 4년으로 한다.\\n \\n제43조 국회의원은 법률이 정하는 직을 겸할 수 없다.\\n \\n제44조 ①국회의원은 현행범인인 경우를 제외하고는 회기 중 국회의 동의없이 체포 또는 구금되지 아니한다.\\n②국회의원이 회기 전에 체포 또는 구금된 때에는 현행범인이 아닌 한 국회의 요구가 있으면 회기 중 석방된다.\\n \\n제45조 국회의원은 국회에서 직무상 행한 발언과 표결에 관하여 국회 외에서 책임을 지지 아니한다.\\n \\n제46조 ①국회의원은 청렴의 의무가 있다.\\n②국회의원은 국가이익을 우선하여 양심에 따라 직무를 행한다.\\n③국회의원은 그 지위를 남용하여 국가ㆍ공공단체 또는 기업체와의 계약이나 그 처분에 의하여 재산상의 권리ㆍ이\\n익 또는 직위를 취득하거나 타인을 위하여 그 취득을 알선할 수 없다.\\n \\n제47조 ①국회의 정기회는 법률이 정하는 바에 의하여 매년 1회 집회되며, 국회의 임시회는 대통령 또는 국회재적의원\\n4분의 1 이상의 요구에 의하여 집회된다.\\n②정기회의 회기는 100일을, 임시회의 회기는 30일을 초과할 수 없다.\\n③대통령이 임시회의 집회를 요구할 때에는 기간과 집회요구의 이유를 명시하여야 한다.\\n \\n제48조 국회는 의장 1인과 부의장 2인을 선출한다.\\n \\n제49조 국회는 헌법 또는 법률에 특별한 규정이 없는 한 재적의원 과반수의 출석과 출석의원 과반수의 찬성으로 의결\\n한다. 가부동수인 때에는 부결된 것으로 본다.\\n \\n제50조 ①국회의 회의는 공개한다. 다만, 출석의원 과반수의 찬성이 있거나 의장이 국가의 안전보장을 위하여 필요하다\\n고 인정할 때에는 공개하지 아니할 수 있다.')]"
            ]
          },
          "execution_count": 218,
          "metadata": {},
          "output_type": "execute_result"
        }
      ],
      "source": [
        "result"
      ]
    },
    {
      "cell_type": "code",
      "execution_count": 225,
      "metadata": {
        "colab": {
          "base_uri": "https://localhost:8080/"
        },
        "id": "biYiF94sidPj",
        "outputId": "5e6ab2eb-3638-479a-fd6c-0017450beb79"
      },
      "outputs": [
        {
          "name": "stdout",
          "output_type": "stream",
          "text": [
            "법제처                                                            5                                                       국가법령정보센터\n",
            "대한민국헌법\n",
            "③국회의원의 선거구와 비례대표제 기타 선거에 관한 사항은 법률로 정한다.\n",
            " \n",
            "제42조 국회의원의 임기는 4년으로 한다.\n",
            " \n",
            "제43조 국회의원은 법률이 정하는 직을 겸할 수 없다.\n",
            " \n",
            "제44조 ①국회의원은 현행범인인 경우를 제외하고는 회기 중 국회의 동의없이 체포 또는 구금되지 아니한다.\n",
            "②국회의원이 회기 전에 체포 또는 구금된 때에는 현행범인이 아닌 한 국회의 요구가 있으면 회기 중 석방된다.\n",
            " \n",
            "제45조 국회의원은 국회에서 직무상 행한 발언과 표결에 관하여 국회 외에서 책임을 지지 아니한다.\n",
            " \n",
            "제46조 ①국회의원은 청렴의 의무가 있다.\n",
            "②국회의원은 국가이익을 우선하여 양심에 따라 직무를 행한다.\n",
            "③국회의원은 그 지위를 남용하여 국가ㆍ공공단체 또는 기업체와의 계약이나 그 처분에 의하여 재산상의 권리ㆍ이\n",
            "익 또는 직위를 취득하거나 타인을 위하여 그 취득을 알선할 수 없다.\n",
            " \n",
            "제47조 ①국회의 정기회는 법률이 정하는 바에 의하여 매년 1회 집회되며, 국회의 임시회는 대통령 또는 국회재적의원\n",
            "4분의 1 이상의 요구에 의하여 집회된다.\n",
            "②정기회의 회기는 100일을, 임시회의 회기는 30일을 초과할 수 없다.\n",
            "③대통령이 임시회의 집회를 요구할 때에는 기간과 집회요구의 이유를 명시하여야 한다.\n",
            " \n",
            "제48조 국회는 의장 1인과 부의장 2인을 선출한다.\n",
            " \n",
            "제49조 국회는 헌법 또는 법률에 특별한 규정이 없는 한 재적의원 과반수의 출석과 출석의원 과반수의 찬성으로 의결\n",
            "한다. 가부동수인 때에는 부결된 것으로 본다.\n",
            " \n",
            "제50조 ①국회의 회의는 공개한다. 다만, 출석의원 과반수의 찬성이 있거나 의장이 국가의 안전보장을 위하여 필요하다\n",
            "고 인정할 때에는 공개하지 아니할 수 있다.\n"
          ]
        }
      ],
      "source": [
        "result = history_aware_retriever.invoke({\"input\" : \"국회의원의 임기는??\", \"chat_history\":chat_history})\n",
        "print(result[0].page_content)"
      ]
    },
    {
      "cell_type": "code",
      "execution_count": null,
      "metadata": {
        "id": "gViaVF6dko2n"
      },
      "outputs": [],
      "source": [
        "# RAG : 문서기반 검색시스템\n",
        "  # 벡터DB\n",
        "# LangChain : RAG데이터를 LLM으로 전달해서 생성형 ai 실행\n",
        "  # 프롬프트 엔지니어링\n",
        "\n",
        "# 다양한 형태의 문서를 load\n",
        "# json, docx, pdf, csv , txt, ocr(image 텍스트 추출), notion\n",
        "# 문서기반으로 요약및 QA 등등....\n",
        "# 해당 내용이 없으면 일반 gpt로 추론( 일반모델이 아니라 특화된 파인튜닝 모델도 가능)"
      ]
    }
  ],
  "metadata": {
    "colab": {
      "provenance": []
    },
    "kernelspec": {
      "display_name": "Python 3",
      "name": "python3"
    },
    "language_info": {
      "name": "python"
    }
  },
  "nbformat": 4,
  "nbformat_minor": 0
}
