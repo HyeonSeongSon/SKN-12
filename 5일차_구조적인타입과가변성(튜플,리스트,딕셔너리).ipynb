{
  "nbformat": 4,
  "nbformat_minor": 0,
  "metadata": {
    "colab": {
      "provenance": []
    },
    "kernelspec": {
      "name": "python3",
      "display_name": "Python 3"
    },
    "language_info": {
      "name": "python"
    }
  },
  "cells": [
    {
      "cell_type": "markdown",
      "source": [
        "# 딕셔너리\n",
        "  - 집합형 데이터.. 리스트 튜플 셋\n",
        "  - 단점 : ['홍길동',20,95,85,80], ['강감찬',25,95,85,80],[25,95,'이순신',85,80] 순서가 바뀔수 있음\n",
        "  - dict는 key와 value로 이루어진 집합\n",
        "  - key는 중복이 안됨\n",
        "  - ex) 주민번호: 이름"
      ],
      "metadata": {
        "id": "DRN8CosxnFif"
      }
    },
    {
      "cell_type": "code",
      "execution_count": null,
      "metadata": {
        "id": "xsYWzryilxU1",
        "colab": {
          "base_uri": "https://localhost:8080/"
        },
        "outputId": "3ca656d0-bd9d-4732-b4cc-37c94a74d39d"
      },
      "outputs": [
        {
          "output_type": "stream",
          "name": "stdout",
          "text": [
            "{'name': '철수', 'age': 25, 'kor': 100, 'eng': 98, 'math': 95}\n",
            "이름 : 철수\n",
            "이름 : 김철수\n",
            "{'name': '김철수', 'age': 25, 'kor': 100, 'eng': 98, 'math': 95, 'sci': 100}\n",
            "{'name': '김철수', 'kor': 100, 'eng': 98, 'math': 95, 'sci': 100}\n"
          ]
        }
      ],
      "source": [
        "# dataset 이라고도 표현 할 수 있음\n",
        "# 생성\n",
        "person = {\n",
        "    'name' : '철수',\n",
        "    'age' : 25,\n",
        "    'kor' : 100,\n",
        "    'eng' : 98,\n",
        "    'math' : 95\n",
        "}\n",
        "# 불러오기\n",
        "print(person)\n",
        "\n",
        "# 값 접근 해당 키값을 index로 해서 접근\n",
        "print(f\"이름 : {person['name']}\")\n",
        "\n",
        "# 수정\n",
        "person['name'] = '김철수'\n",
        "print(f\"이름 : {person['name']}\")\n",
        "\n",
        "# 데이터 추가\n",
        "person['sci'] = 100\n",
        "print(person)\n",
        "\n",
        "# 데이터 삭제\n",
        "del person['age']\n",
        "print(person)"
      ]
    },
    {
      "cell_type": "code",
      "source": [
        "# 키 값을 인덱스로 불러오기\n",
        "print(person['name'])\n",
        "print(person.get('test', 0))   # 키값(test)가 없을시 0을 반환\n",
        "print(person['test'])   # 에러발생... test라는 키가 존재하지 않음"
      ],
      "metadata": {
        "colab": {
          "base_uri": "https://localhost:8080/",
          "height": 223
        },
        "id": "bL2MXRf9pI3_",
        "outputId": "3e0f029f-1172-463d-bea4-3bf2c9cd58a9"
      },
      "execution_count": null,
      "outputs": [
        {
          "output_type": "stream",
          "name": "stdout",
          "text": [
            "김철수\n",
            "0\n"
          ]
        },
        {
          "output_type": "error",
          "ename": "KeyError",
          "evalue": "'test'",
          "traceback": [
            "\u001b[0;31m---------------------------------------------------------------------------\u001b[0m",
            "\u001b[0;31mKeyError\u001b[0m                                  Traceback (most recent call last)",
            "\u001b[0;32m<ipython-input-35-330310c27623>\u001b[0m in \u001b[0;36m<cell line: 0>\u001b[0;34m()\u001b[0m\n\u001b[1;32m      2\u001b[0m \u001b[0mprint\u001b[0m\u001b[0;34m(\u001b[0m\u001b[0mperson\u001b[0m\u001b[0;34m[\u001b[0m\u001b[0;34m'name'\u001b[0m\u001b[0;34m]\u001b[0m\u001b[0;34m)\u001b[0m\u001b[0;34m\u001b[0m\u001b[0;34m\u001b[0m\u001b[0m\n\u001b[1;32m      3\u001b[0m \u001b[0mprint\u001b[0m\u001b[0;34m(\u001b[0m\u001b[0mperson\u001b[0m\u001b[0;34m.\u001b[0m\u001b[0mget\u001b[0m\u001b[0;34m(\u001b[0m\u001b[0;34m'test'\u001b[0m\u001b[0;34m,\u001b[0m \u001b[0;36m0\u001b[0m\u001b[0;34m)\u001b[0m\u001b[0;34m)\u001b[0m   \u001b[0;31m# 키값(test)가 없을시 0을 반환\u001b[0m\u001b[0;34m\u001b[0m\u001b[0;34m\u001b[0m\u001b[0m\n\u001b[0;32m----> 4\u001b[0;31m \u001b[0mprint\u001b[0m\u001b[0;34m(\u001b[0m\u001b[0mperson\u001b[0m\u001b[0;34m[\u001b[0m\u001b[0;34m'test'\u001b[0m\u001b[0;34m]\u001b[0m\u001b[0;34m)\u001b[0m   \u001b[0;31m# 에러발생... test라는 키가 존재하지 않음\u001b[0m\u001b[0;34m\u001b[0m\u001b[0;34m\u001b[0m\u001b[0m\n\u001b[0m",
            "\u001b[0;31mKeyError\u001b[0m: 'test'"
          ]
        }
      ]
    },
    {
      "cell_type": "code",
      "source": [
        "# dictionary 의 내장함수 get과 유사한 기능의 함수를 구현해 보기\n",
        "def try_get(dic, key, return_val):\n",
        "  if key in dic:\n",
        "    return dic[key]\n",
        "  else:\n",
        "    return return_val\n",
        "\n",
        "print(try_get(person,'job',0))"
      ],
      "metadata": {
        "colab": {
          "base_uri": "https://localhost:8080/"
        },
        "id": "W8AN_JcGrEgW",
        "outputId": "f2b95565-9a88-491f-99e9-ac405e034fc9"
      },
      "execution_count": null,
      "outputs": [
        {
          "output_type": "stream",
          "name": "stdout",
          "text": [
            "0\n"
          ]
        }
      ]
    },
    {
      "cell_type": "markdown",
      "source": [
        "# 주요 메서드(내장함수)\n",
        "  - 클래스 내부에서 사용하는 함수는 메서드 method 라고 부르며\n",
        "  - 클래스를 활성화 시키는게 객체인데.. 객체로 호출하는 함수는 메서드이고 형태는\n",
        "  - 객체.메서드 \"\".upper()"
      ],
      "metadata": {
        "id": "LJ9PuYs7tCXW"
      }
    },
    {
      "cell_type": "code",
      "source": [
        "# keys()\n",
        "print(f'keys값들 : {person.keys()}')\n",
        "\n",
        "# values()\n",
        "print(f'value들 : {person.values()}')\n",
        "\n",
        "# 키와 값을 하나의 쌍(튜플)으로\n",
        "print(f\"key and value : {person.items()}\")\n",
        "\n",
        "# pop(키) 키로 값을 제거 후 반환\n",
        "print(f\"name 키 제거 및 제거한 값 반환: {person.pop('name')}\")\n",
        "print(f'person의 전체 값 {person}')"
      ],
      "metadata": {
        "colab": {
          "base_uri": "https://localhost:8080/"
        },
        "id": "zAN5xuW7s6Tg",
        "outputId": "41d7d8bb-ba6e-4db5-d285-7f3dd1bae1a1"
      },
      "execution_count": null,
      "outputs": [
        {
          "output_type": "stream",
          "name": "stdout",
          "text": [
            "keys값들 : dict_keys(['name', 'kor', 'eng', 'math', 'sci'])\n",
            "value들 : dict_values(['김철수', 100, 98, 95, 100])\n",
            "key and value : dict_items([('name', '김철수'), ('kor', 100), ('eng', 98), ('math', 95), ('sci', 100)])\n",
            "name 키 제거 및 제거한 값 반환: 김철수\n",
            "person의 전체 값 {'kor': 100, 'eng': 98, 'math': 95, 'sci': 100}\n"
          ]
        }
      ]
    },
    {
      "cell_type": "markdown",
      "source": [
        "# dictionary 만드는 다양한 방법"
      ],
      "metadata": {
        "id": "zU7aXITRu3Td"
      }
    },
    {
      "cell_type": "code",
      "source": [
        "dict1 = {}\n",
        "dict1['name'] = '홍길동'\n",
        "dict1['age'] = 25\n",
        "print(dict1)"
      ],
      "metadata": {
        "colab": {
          "base_uri": "https://localhost:8080/"
        },
        "id": "EqIrT3nYtgil",
        "outputId": "8cc6a028-e1a4-469c-8902-ddaf59aab5d3"
      },
      "execution_count": null,
      "outputs": [
        {
          "output_type": "stream",
          "name": "stdout",
          "text": [
            "{'name': '홍길동', 'age': 25}\n"
          ]
        }
      ]
    },
    {
      "cell_type": "code",
      "source": [
        "names = ['apple','banana','grap','orange']\n",
        "price = [100,200,300,400]\n",
        "dict(zip(names,price))"
      ],
      "metadata": {
        "colab": {
          "base_uri": "https://localhost:8080/"
        },
        "id": "wLsSoRohvE-v",
        "outputId": "ac9c8073-d601-43a7-d12e-5facdadf9934"
      },
      "execution_count": null,
      "outputs": [
        {
          "output_type": "execute_result",
          "data": {
            "text/plain": [
              "{'apple': 100, 'banana': 200, 'grap': 300, 'orange': 400}"
            ]
          },
          "metadata": {},
          "execution_count": 42
        }
      ]
    },
    {
      "cell_type": "code",
      "source": [
        "names = ['apple','grap','banana','orange', 'apple']\n",
        "price = [100,200,300,400,10000]\n",
        "print(dict(zip(names,price)))   # key가 중복되면 마지막 key의 value를 저장\n",
        "\n",
        "result = {}\n",
        "for i in range(len(names)):\n",
        "  result[names[i]] = price[i]\n",
        "\n",
        "print(result)"
      ],
      "metadata": {
        "colab": {
          "base_uri": "https://localhost:8080/"
        },
        "id": "KyAEgGISvSiw",
        "outputId": "a2fa0204-35cd-41be-c21c-5e8c055d2eaf"
      },
      "execution_count": null,
      "outputs": [
        {
          "output_type": "stream",
          "name": "stdout",
          "text": [
            "{'apple': 10000, 'grap': 200, 'banana': 300, 'orange': 400}\n",
            "{'apple': 10000, 'grap': 200, 'banana': 300, 'orange': 400}\n"
          ]
        }
      ]
    },
    {
      "cell_type": "code",
      "source": [
        "# enumerate : 순환할때 0부터 시퀸하게 번호를 부여\n",
        "for index, name in enumerate(names):\n",
        "  print(index, name)"
      ],
      "metadata": {
        "colab": {
          "base_uri": "https://localhost:8080/"
        },
        "id": "VbuerugUwhqS",
        "outputId": "b53f567d-add5-45ab-da54-6fb375c3dec9"
      },
      "execution_count": null,
      "outputs": [
        {
          "output_type": "stream",
          "name": "stdout",
          "text": [
            "0 apple\n",
            "1 grap\n",
            "2 banana\n",
            "3 orange\n",
            "4 apple\n"
          ]
        }
      ]
    },
    {
      "cell_type": "code",
      "source": [
        "result = {}\n",
        "for index, name in enumerate(names):\n",
        "  result[name] = price[index]\n",
        "print(result)"
      ],
      "metadata": {
        "colab": {
          "base_uri": "https://localhost:8080/"
        },
        "id": "g04jti4XvtsK",
        "outputId": "4287ac60-8dba-454d-c041-b4922895f9ad"
      },
      "execution_count": null,
      "outputs": [
        {
          "output_type": "stream",
          "name": "stdout",
          "text": [
            "{'apple': 10000, 'grap': 200, 'banana': 300, 'orange': 400}\n"
          ]
        }
      ]
    },
    {
      "cell_type": "code",
      "source": [
        "# 알파벳의 개수를 세어 보자\n",
        "text = 'Zelensky describes Oval Office meeting as ‘regrettable,’ says he is ready to negotiate peace'\n",
        "import re\n",
        "text = re.sub('[^a-zA-Z]','',text).lower()\n",
        "print(text)\n",
        "\n",
        "# 로직\n",
        "dic = {}\n",
        "for c in text:\n",
        "  if c in dic:\n",
        "    dic[c] +=1\n",
        "  else:\n",
        "    dic[c] = 1\n",
        "print(dic)\n",
        "\n",
        "# 함수\n",
        "count_dic ={}\n",
        "for c in text:\n",
        "  count_dic[c] = count_dic.get(c,0) +1\n",
        "print(count_dic)"
      ],
      "metadata": {
        "colab": {
          "base_uri": "https://localhost:8080/"
        },
        "id": "X8-O4o8WxH7m",
        "outputId": "3c9f1859-cb85-4318-bbe8-8e191079d40d"
      },
      "execution_count": null,
      "outputs": [
        {
          "output_type": "stream",
          "name": "stdout",
          "text": [
            "zelenskydescribesovalofficemeetingasregrettablesaysheisreadytonegotiatepeace\n",
            "{'z': 1, 'e': 16, 'l': 3, 'n': 3, 's': 7, 'k': 1, 'y': 3, 'd': 2, 'c': 3, 'r': 4, 'i': 5, 'b': 2, 'o': 4, 'v': 1, 'a': 7, 'f': 2, 'm': 1, 't': 6, 'g': 3, 'h': 1, 'p': 1}\n",
            "{'z': 1, 'e': 16, 'l': 3, 'n': 3, 's': 7, 'k': 1, 'y': 3, 'd': 2, 'c': 3, 'r': 4, 'i': 5, 'b': 2, 'o': 4, 'v': 1, 'a': 7, 'f': 2, 'm': 1, 't': 6, 'g': 3, 'h': 1, 'p': 1}\n"
          ]
        }
      ]
    },
    {
      "cell_type": "code",
      "source": [
        "# 정렬 count_dic 내림차순\n",
        "# 1. key에서 구분할수 있게 정렬대상을 items()를 이용해서 key.value로 구분하고\n",
        "# 2. key 즉 기준을 람다식으로 표현\n",
        "print(count_dic.items())\n",
        "count_dic = sorted(count_dic.items(), key = lambda x: x[1], reverse=True) # value 기준 내림차순\n",
        "print(count_dic)"
      ],
      "metadata": {
        "colab": {
          "base_uri": "https://localhost:8080/"
        },
        "id": "DHWdfp9zyjBS",
        "outputId": "42a0974b-ed78-4893-b11d-a769cc6bdf80"
      },
      "execution_count": null,
      "outputs": [
        {
          "output_type": "stream",
          "name": "stdout",
          "text": [
            "dict_items([('z', 1), ('e', 16), ('l', 3), ('n', 3), ('s', 7), ('k', 1), ('y', 3), ('d', 2), ('c', 3), ('r', 4), ('i', 5), ('b', 2), ('o', 4), ('v', 1), ('a', 7), ('f', 2), ('m', 1), ('t', 6), ('g', 3), ('h', 1), ('p', 1)])\n",
            "[('e', 16), ('s', 7), ('a', 7), ('t', 6), ('i', 5), ('r', 4), ('o', 4), ('l', 3), ('n', 3), ('y', 3), ('c', 3), ('g', 3), ('d', 2), ('b', 2), ('f', 2), ('z', 1), ('k', 1), ('v', 1), ('m', 1), ('h', 1), ('p', 1)]\n"
          ]
        }
      ]
    },
    {
      "cell_type": "code",
      "source": [
        "# 학생에 대한 정보\n",
        "student1 = {\n",
        "    'name' : '홍길동',\n",
        "    'age' : 30,\n",
        "    'score' : {'kor': 60, 'eng' : 70, 'math' : 90}\n",
        "}\n",
        "print(student)\n",
        "\n",
        "student2 = {\n",
        "    'name' : '이순신',\n",
        "    'age' : 25,\n",
        "    'score' : {'kor': 90, 'eng' : 80, 'math' : 70}\n",
        "}\n",
        "print(student2)\n",
        "\n",
        "my_class = [student1, student2]\n",
        "print(my_class)"
      ],
      "metadata": {
        "colab": {
          "base_uri": "https://localhost:8080/"
        },
        "id": "G2ZDZRcX4U6J",
        "outputId": "1ea96749-b073-4cf1-9988-58597c9a64c9"
      },
      "execution_count": null,
      "outputs": [
        {
          "output_type": "stream",
          "name": "stdout",
          "text": [
            "{'name': '홍길동', 'age': 20, 'score': {'kor': 100, 'eng': 100, 'math': 100}}\n",
            "{'name': '이순신', 'age': 25, 'score': {'kor': 90, 'eng': 80, 'math': 70}}\n",
            "[{'name': '홍길동', 'age': 30, 'score': {'kor': 60, 'eng': 70, 'math': 90}}, {'name': '이순신', 'age': 25, 'score': {'kor': 90, 'eng': 80, 'math': 70}}]\n"
          ]
        }
      ]
    },
    {
      "cell_type": "code",
      "source": [
        "print(sorted(my_class, key = lambda x:x['age'] ))   # age를 기준으로 오름차순\n",
        "print(sorted(my_class, key = lambda x:x['score']['kor'] ))   # kor을 기준으로 오름차순"
      ],
      "metadata": {
        "colab": {
          "base_uri": "https://localhost:8080/"
        },
        "id": "c65L27zu52hR",
        "outputId": "ea50a83a-d51a-48b8-f235-f385bd965f35"
      },
      "execution_count": null,
      "outputs": [
        {
          "output_type": "stream",
          "name": "stdout",
          "text": [
            "[{'name': '이순신', 'age': 25, 'score': {'kor': 90, 'eng': 80, 'math': 70}}, {'name': '홍길동', 'age': 30, 'score': {'kor': 60, 'eng': 70, 'math': 90}}]\n",
            "[{'name': '홍길동', 'age': 30, 'score': {'kor': 60, 'eng': 70, 'math': 90}}, {'name': '이순신', 'age': 25, 'score': {'kor': 90, 'eng': 80, 'math': 70}}]\n"
          ]
        }
      ]
    },
    {
      "cell_type": "code",
      "source": [
        "print(sorted(my_class, key = lambda x:sum(x['score'].values()), reverse=True))   # socre의 총합을 기준으로 내림차순"
      ],
      "metadata": {
        "colab": {
          "base_uri": "https://localhost:8080/"
        },
        "id": "9Cq4h4Gr8HyU",
        "outputId": "41dcae07-5347-4f24-c1a4-12f32cbfde67"
      },
      "execution_count": null,
      "outputs": [
        {
          "output_type": "stream",
          "name": "stdout",
          "text": [
            "[{'name': '이순신', 'age': 25, 'score': {'kor': 90, 'eng': 80, 'math': 70}}, {'name': '홍길동', 'age': 30, 'score': {'kor': 60, 'eng': 70, 'math': 90}}]\n"
          ]
        }
      ]
    },
    {
      "cell_type": "code",
      "source": [
        "cadidate = ['A','B','C','D','E']\n",
        "votes = []\n",
        "\n",
        "for i in range(10):\n",
        "  choice = int(input('\"A(0) B(1) C(2) D(3) E(4) 선택한 후보자의 번호를 입력 :'))\n",
        "  votes.append(choice)\n",
        "\n",
        "print('투표가 끝났습니다.')\n",
        "# 개표... dictionary 구조를 이용해서 각 후보자의 번호별 횟수를 구해서\n",
        "# 가장 많은 득표에 해당하는 candidate의 값을 출력\n",
        "\n",
        "# counting\n",
        "dic ={}\n",
        "for num in votes:\n",
        "  dic[num] = dic.get(num, 0) + 1\n",
        "\n",
        "# 가장 많은 투표 값\n",
        "max_value = max(dic.values())\n",
        "\n",
        "# 첫번째 리스트 컴프리헨션 : 카운팅한 값인 dic에서 가장 많은 투표를 받은 인덱스로 저장\n",
        "# 두번째 리스트 컴프리헨션 : 추출한 인덱스의 cadiate를 저장\n",
        "winner = [cadidate[i] for i in [k for k,v in dic.items() if v ==max_value]]\n",
        "print(winner)"
      ],
      "metadata": {
        "colab": {
          "base_uri": "https://localhost:8080/"
        },
        "id": "neF1irF58SUu",
        "outputId": "490369d8-4b76-46b8-e5b5-4267c2633cca"
      },
      "execution_count": null,
      "outputs": [
        {
          "output_type": "stream",
          "name": "stdout",
          "text": [
            "\"A(0) B(1) C(2) D(3) E(4) 선택한 후보자의 번호를 입력 :0\n",
            "\"A(0) B(1) C(2) D(3) E(4) 선택한 후보자의 번호를 입력 :0\n",
            "\"A(0) B(1) C(2) D(3) E(4) 선택한 후보자의 번호를 입력 :1\n",
            "\"A(0) B(1) C(2) D(3) E(4) 선택한 후보자의 번호를 입력 :1\n",
            "\"A(0) B(1) C(2) D(3) E(4) 선택한 후보자의 번호를 입력 :2\n",
            "\"A(0) B(1) C(2) D(3) E(4) 선택한 후보자의 번호를 입력 :2\n",
            "\"A(0) B(1) C(2) D(3) E(4) 선택한 후보자의 번호를 입력 :3\n",
            "\"A(0) B(1) C(2) D(3) E(4) 선택한 후보자의 번호를 입력 :3\n",
            "\"A(0) B(1) C(2) D(3) E(4) 선택한 후보자의 번호를 입력 :4\n",
            "\"A(0) B(1) C(2) D(3) E(4) 선택한 후보자의 번호를 입력 :4\n",
            "투표가 끝났습니다.\n",
            "['A', 'B', 'C', 'D', 'E']\n"
          ]
        }
      ]
    },
    {
      "cell_type": "code",
      "source": [
        "votes = [1,1,2,3,1,4,1,1,4,0]\n",
        "dic ={}\n",
        "for num in votes:\n",
        "  dic[num] = dic.get(num, 0) + 1\n",
        "print(dic)\n",
        "\n",
        "dic ={}\n",
        "for num in votes:\n",
        "  dic[num] = dic.get(num, 0) + 1\n",
        "\n",
        "result = sorted(dic.items() ,key = lambda x:x[1], reverse=True)\n",
        "print(result)\n"
      ],
      "metadata": {
        "colab": {
          "base_uri": "https://localhost:8080/"
        },
        "id": "WtBYp4tRRU3K",
        "outputId": "529b558c-b854-40e0-c5ba-e5bd1dd4c551"
      },
      "execution_count": null,
      "outputs": [
        {
          "output_type": "stream",
          "name": "stdout",
          "text": [
            "{1: 5, 2: 1, 3: 1, 4: 2, 0: 1}\n",
            "[(1, 5), (4, 2), (2, 1), (3, 1), (0, 1)]\n"
          ]
        }
      ]
    },
    {
      "cell_type": "code",
      "source": [],
      "metadata": {
        "id": "6HyU9hyDrpEO"
      },
      "execution_count": null,
      "outputs": []
    },
    {
      "cell_type": "markdown",
      "source": [
        "# 키워드 가변 매개 변수1"
      ],
      "metadata": {
        "id": "MRVvnVg4Dzs1"
      }
    },
    {
      "cell_type": "code",
      "source": [
        "def my_func1(data, epoch, lr, optimizer):\n",
        "  print(f'data : {data}, epoch : {epoch}, lr : {lr}, optimizer : {optimizer}')"
      ],
      "metadata": {
        "id": "DHzYOgLYAJ_H"
      },
      "execution_count": null,
      "outputs": []
    },
    {
      "cell_type": "code",
      "source": [
        "# 함수 호출\n",
        "my_func1([1,2,3,4],5,0.01, 'adam')   # 순서에 맞춰야 함\n",
        "my_func1(data=[1,2,3,4], epoch=5, lr=0.01, optimizer='adam')   # 순서에 맞출 필요없음"
      ],
      "metadata": {
        "colab": {
          "base_uri": "https://localhost:8080/"
        },
        "id": "Cbcy98u6ES8_",
        "outputId": "f7ea6fef-dca7-4696-a5e6-1551da79793a"
      },
      "execution_count": null,
      "outputs": [
        {
          "output_type": "stream",
          "name": "stdout",
          "text": [
            "data : [1, 2, 3, 4], epoch : 5, lr : 0.01, optimizer : adam\n",
            "data : [1, 2, 3, 4], epoch : 5, lr : 0.01, optimizer : adam\n"
          ]
        }
      ]
    },
    {
      "cell_type": "code",
      "source": [
        "args = {\n",
        "    'data' : [1,2,3,4],\n",
        "    'epoch' : 5,\n",
        "    'lr' : 0.01,\n",
        "    'optimizer': 'adam'\n",
        "}\n",
        "# unpack으로 함수에 전달\n",
        "my_func1(**args)"
      ],
      "metadata": {
        "colab": {
          "base_uri": "https://localhost:8080/"
        },
        "id": "fJBaMY4cEdAt",
        "outputId": "dab6eaf0-c4b3-4e94-ac7d-f4cddab7e1be"
      },
      "execution_count": null,
      "outputs": [
        {
          "output_type": "stream",
          "name": "stdout",
          "text": [
            "data : [1, 2, 3, 4], epoch : 5, lr : 0.01, optimizer : adam\n"
          ]
        }
      ]
    },
    {
      "cell_type": "code",
      "source": [
        "def my_func2(data,x,y):\n",
        "  print(f'data:{data}, x:{x}, y:{y}')\n",
        "\n",
        "my_func2([1,2,3], 10, 10)"
      ],
      "metadata": {
        "colab": {
          "base_uri": "https://localhost:8080/"
        },
        "id": "CR2T87qsFQiI",
        "outputId": "c401a986-3147-4848-f34c-3ebb063ee19d"
      },
      "execution_count": null,
      "outputs": [
        {
          "output_type": "stream",
          "name": "stdout",
          "text": [
            "data:[1, 2, 3], x:10, y:10\n"
          ]
        }
      ]
    },
    {
      "cell_type": "code",
      "source": [
        "# 함수를 호출할 때 *을 넣으면 넣은 값을 풀어서 보내고\n",
        "args = [\n",
        "    [1,2,3],\n",
        "    10,\n",
        "    10\n",
        " ]\n",
        " # unpack\n",
        "my_func2(*args)"
      ],
      "metadata": {
        "colab": {
          "base_uri": "https://localhost:8080/"
        },
        "id": "WEncDE3qHrEu",
        "outputId": "b2ee1413-024c-4a0b-9a94-fa05791e6d3a"
      },
      "execution_count": null,
      "outputs": [
        {
          "output_type": "stream",
          "name": "stdout",
          "text": [
            "data:[1, 2, 3], x:10, y:10\n"
          ]
        }
      ]
    },
    {
      "cell_type": "code",
      "source": [
        "# 함수에 *이 있으면 들어온 값을 묶어서 받고\n",
        "def my_func3(*args):\n",
        "  for arg in args:\n",
        "    print(f'전달된 파라메터는 : {arg}')\n",
        "\n",
        "my_func3(10,20,30,40,50)"
      ],
      "metadata": {
        "colab": {
          "base_uri": "https://localhost:8080/"
        },
        "id": "EXR0wQvMH7if",
        "outputId": "0a77dd0d-0665-4cf7-a2a4-480505d2995d"
      },
      "execution_count": null,
      "outputs": [
        {
          "output_type": "stream",
          "name": "stdout",
          "text": [
            "전달된 파라메터는 : 10\n",
            "전달된 파라메터는 : 20\n",
            "전달된 파라메터는 : 30\n",
            "전달된 파라메터는 : 40\n",
            "전달된 파라메터는 : 50\n"
          ]
        }
      ]
    },
    {
      "cell_type": "code",
      "source": [
        "# **은 딕셔너리 형태\n",
        "def my_func4(**args):\n",
        "  for key,value in args.items():\n",
        "    print(f'key:{key},value:{value}')\n",
        "\n",
        "my_func4(a=1,b=2,c=3)"
      ],
      "metadata": {
        "colab": {
          "base_uri": "https://localhost:8080/"
        },
        "id": "Yb59wbaYH_Ix",
        "outputId": "100e082c-bb00-41dd-908e-defc95bb3f94"
      },
      "execution_count": null,
      "outputs": [
        {
          "output_type": "stream",
          "name": "stdout",
          "text": [
            "key:a,value:1\n",
            "key:b,value:2\n",
            "key:c,value:3\n"
          ]
        }
      ]
    },
    {
      "cell_type": "markdown",
      "source": [
        "# 가변매개변수와 키워드 가변매개변수를 혼용해서 사용"
      ],
      "metadata": {
        "id": "jChbR-UPIWXq"
      }
    },
    {
      "cell_type": "code",
      "source": [
        "def my_func5(*items, **details):\n",
        "  print(f'아이템:{items}')\n",
        "  for key, val in details.items():\n",
        "    print(f'key:{key}, value:{val}')\n",
        "\n",
        "my_func5('물풍선','자석', title='카트라이더', score=152345)"
      ],
      "metadata": {
        "colab": {
          "base_uri": "https://localhost:8080/"
        },
        "id": "xxnRgSYvIV_4",
        "outputId": "7b762029-6c02-4f70-994d-8bfcc808435c"
      },
      "execution_count": null,
      "outputs": [
        {
          "output_type": "stream",
          "name": "stdout",
          "text": [
            "아이템:('물풍선', '자석')\n",
            "key:title, value:카트라이더\n",
            "key:score, value:152345\n"
          ]
        }
      ]
    },
    {
      "cell_type": "markdown",
      "source": [
        "# 리스트 컴프리헨션"
      ],
      "metadata": {
        "id": "w1W4eoSVISo1"
      }
    },
    {
      "cell_type": "code",
      "source": [
        "# result = []\n",
        "# for i in range(5):\n",
        "#   result.append(i)\n",
        "\n",
        "result = [i for i in range(5)]\n",
        "\n",
        "#결과\n",
        "print(result)"
      ],
      "metadata": {
        "colab": {
          "base_uri": "https://localhost:8080/"
        },
        "id": "0QL9y7noISW-",
        "outputId": "d39cb98b-8277-4376-c46c-e17fd8bba497"
      },
      "execution_count": null,
      "outputs": [
        {
          "output_type": "stream",
          "name": "stdout",
          "text": [
            "[0, 1, 2, 3, 4]\n"
          ]
        }
      ]
    },
    {
      "cell_type": "code",
      "source": [
        "# 조건문을 넣을 수 있음\n",
        "result = [i*5 for i in range(10) if i % 2 == 0]\n",
        "print(result)"
      ],
      "metadata": {
        "colab": {
          "base_uri": "https://localhost:8080/"
        },
        "id": "pm0Xlp8kJrM0",
        "outputId": "8ee8de1d-8561-41bd-c2d8-a04d2e029093"
      },
      "execution_count": null,
      "outputs": [
        {
          "output_type": "stream",
          "name": "stdout",
          "text": [
            "[0, 10, 20, 30, 40]\n"
          ]
        }
      ]
    },
    {
      "cell_type": "code",
      "source": [
        "# if~else를 쓰려면 if~else문이 for문 앞에 옴\n",
        "result = ['짝수' if i % 2 == 0 else '홀수' for i in range(10)]\n",
        "result"
      ],
      "metadata": {
        "colab": {
          "base_uri": "https://localhost:8080/"
        },
        "id": "OJuMj9qOKRQ-",
        "outputId": "8eb20131-1598-4bf9-c104-1f4fe2219a04"
      },
      "execution_count": null,
      "outputs": [
        {
          "output_type": "execute_result",
          "data": {
            "text/plain": [
              "['짝수', '홀수', '짝수', '홀수', '짝수', '홀수', '짝수', '홀수', '짝수', '홀수']"
            ]
          },
          "metadata": {},
          "execution_count": 171
        }
      ]
    },
    {
      "cell_type": "code",
      "source": [
        "import random\n",
        "random.randint(1,10)   # 1~9까지의 임의의 숫자 한개\n",
        "#1~ 99 까지 숫자 중에서 난수를 10개 리스트에 담기\n",
        "[random.randint(1,100) for i in range(10)]"
      ],
      "metadata": {
        "colab": {
          "base_uri": "https://localhost:8080/"
        },
        "id": "aHN-sogaK16o",
        "outputId": "43da8f03-4724-4e25-897f-8ba0ac42df65"
      },
      "execution_count": null,
      "outputs": [
        {
          "output_type": "execute_result",
          "data": {
            "text/plain": [
              "[34, 50, 62, 74, 22, 76, 29, 26, 2, 93]"
            ]
          },
          "metadata": {},
          "execution_count": 179
        }
      ]
    },
    {
      "cell_type": "code",
      "source": [
        "# 문장을 입력받아\n",
        "# 단어 단위로 리스트로 분리해서 split() 공백기준\n",
        "# 리스튿에 잇는 각 단어의 리스트에 저장\n",
        "text = '동해물과 백두산이 마르고 닳도록 하느님이 보우하사 우리나라 만세'\n",
        "text = text.split()\n",
        "result = [len(word) for word in text]\n",
        "print(f'문자열의 각 단어들은 : {text}')\n",
        "print(f'각 문자열의 길이는 : {result}')"
      ],
      "metadata": {
        "colab": {
          "base_uri": "https://localhost:8080/"
        },
        "id": "WJm6qdXgL5YX",
        "outputId": "46528ac5-2b5a-47f0-8c9b-9ea34a2b0b68"
      },
      "execution_count": null,
      "outputs": [
        {
          "output_type": "stream",
          "name": "stdout",
          "text": [
            "문자열의 각 단어들은 : ['동해물과', '백두산이', '마르고', '닳도록', '하느님이', '보우하사', '우리나라', '만세']\n",
            "각 문자열의 길이는 : [4, 4, 3, 3, 4, 4, 4, 2]\n"
          ]
        }
      ]
    },
    {
      "cell_type": "markdown",
      "source": [
        "# 중첩컴프리헨션"
      ],
      "metadata": {
        "id": "hPy3YQc-NRvk"
      }
    },
    {
      "cell_type": "code",
      "source": [
        "# 2차원 리스트\n",
        "matrix = [[10,20],[30,20],[20,30],[10,5]]\n",
        "print(matrix)\n",
        "[i2 for i in matrix for i2 in i]"
      ],
      "metadata": {
        "colab": {
          "base_uri": "https://localhost:8080/"
        },
        "id": "obZLzdy1NQ_n",
        "outputId": "e1495352-80bb-4399-e6fe-479b77911214"
      },
      "execution_count": null,
      "outputs": [
        {
          "output_type": "stream",
          "name": "stdout",
          "text": [
            "[[10, 20], [30, 20], [20, 30], [10, 5]]\n"
          ]
        },
        {
          "output_type": "execute_result",
          "data": {
            "text/plain": [
              "[10, 20, 30, 20, 20, 30, 10, 5]"
            ]
          },
          "metadata": {},
          "execution_count": 202
        }
      ]
    },
    {
      "cell_type": "code",
      "source": [
        "[[random.randint(1,100) for i in range(2)] for i in range(4)]"
      ],
      "metadata": {
        "colab": {
          "base_uri": "https://localhost:8080/"
        },
        "id": "4sYftTB-MYsJ",
        "outputId": "643bddc5-2a72-4a3c-8ae6-e0db077e3f1b"
      },
      "execution_count": null,
      "outputs": [
        {
          "output_type": "execute_result",
          "data": {
            "text/plain": [
              "[[13, 66], [18, 56], [43, 47], [14, 70]]"
            ]
          },
          "metadata": {},
          "execution_count": 203
        }
      ]
    },
    {
      "cell_type": "markdown",
      "source": [
        "# 딕셔너리 컴프리헨션"
      ],
      "metadata": {
        "id": "4s0UBneVUIpe"
      }
    },
    {
      "cell_type": "code",
      "source": [
        "sample = [('name','홍길동'),('age',20),('score',95)]\n",
        "dic = {k:v for k,v in sample}\n",
        "print(dic)"
      ],
      "metadata": {
        "colab": {
          "base_uri": "https://localhost:8080/"
        },
        "id": "UWNuEE11SjCq",
        "outputId": "29418d8c-2cab-4ed8-b7df-07e6e9c7d477"
      },
      "execution_count": null,
      "outputs": [
        {
          "output_type": "stream",
          "name": "stdout",
          "text": [
            "{'name': '홍길동', 'age': 20, 'score': 95}\n"
          ]
        }
      ]
    },
    {
      "cell_type": "code",
      "source": [
        "# 딕셔너리는 우리가 아는 테이블 구조를 설명 가능\n",
        "# python에선 dataframe 만드는데 사용\n",
        "books_table = []\n",
        "book1 = {\n",
        "    'serialnum' : '001',\n",
        "    'title': '혼자공부하는 파이썬',\n",
        "    'publisher' : '한빛출판사',\n",
        "    'author' : '박혜선',\n",
        "    'price': 15000,\n",
        "    'rent' : True\n",
        "}\n",
        "book2 = {\n",
        "    'serialnum': '002',\n",
        "    'title' :'이것이 mysql 이다',\n",
        "    'publisher' : '한빛출판사',\n",
        "    'author' : '우재남',\n",
        "    'price' : 25000,\n",
        "    'rent' : False\n",
        "}\n",
        "books_table =[book1, book2]"
      ],
      "metadata": {
        "id": "GYiuU3wvUuyx"
      },
      "execution_count": null,
      "outputs": []
    },
    {
      "cell_type": "code",
      "source": [
        "# 도서 검색(책 제목으로 검색)\n",
        "search = input('제목입력:')\n",
        "#찾으면 해당 정보를 출력하고 없으면 적당한 메세지 출력\n",
        "for book in books_table:\n",
        "  if book['title'] == search:\n",
        "    if book['rent'] == False:\n",
        "      print('해당 책은 도서관에 있습니다.')\n",
        "    elif books_table[i]['rent'] == True:\n",
        "      print('해당 책은 대출 되어 도서관에 없습니다.')\n",
        "      break\n",
        "  else:\n",
        "    print('해당 책은 도서목록에 없습니다.')\n",
        "    break"
      ],
      "metadata": {
        "colab": {
          "base_uri": "https://localhost:8080/"
        },
        "id": "7kDpKAt1wS1f",
        "outputId": "9f852584-8603-4524-c6b0-961dc87a65b2"
      },
      "execution_count": null,
      "outputs": [
        {
          "output_type": "stream",
          "name": "stdout",
          "text": [
            "제목입력:gfwefwe\n",
            "해당 책은 도서목록에 없습니다.\n"
          ]
        }
      ]
    },
    {
      "cell_type": "code",
      "source": [
        "find_book = [book for book in books_table if search in book['title']]\n",
        "find_book"
      ],
      "metadata": {
        "colab": {
          "base_uri": "https://localhost:8080/"
        },
        "id": "iaU90X_nv3S8",
        "outputId": "c6e0c581-c710-4165-81c5-c3406306be47"
      },
      "execution_count": null,
      "outputs": [
        {
          "output_type": "execute_result",
          "data": {
            "text/plain": [
              "[{'serialnum': '001',\n",
              "  'title': '혼자공부하는 파이썬',\n",
              "  'publisher': '한빛출판사',\n",
              "  'author': '박혜선',\n",
              "  'price': 15000,\n",
              "  'rent': True}]"
            ]
          },
          "metadata": {},
          "execution_count": 23
        }
      ]
    },
    {
      "cell_type": "code",
      "source": [
        "# 도서관 책 목록에 추가\n",
        "while True:\n",
        "  title = input('추가하실 책 제목을 작성해주세요')\n",
        "  publisher = input('추가하실 책 출판사를 작성해주세요')\n",
        "  author = input('추가하실 책 저자를 작성해주세요')\n",
        "  price = input(input('추가하실 책 가격을 작성해주세요'))\n",
        "  last_serialnum = int(books_table[-1]['seriainum'])\n",
        "  book_data = {\n",
        "      'serialnum' : '00',\n",
        "     'title': title,\n",
        "     'publisher' : publisher,\n",
        "     'author' : author,\n",
        "     'price': price,\n",
        "     'rent' : False\n",
        "  }"
      ],
      "metadata": {
        "id": "U1eclNNQaI7n"
      },
      "execution_count": null,
      "outputs": []
    },
    {
      "cell_type": "markdown",
      "source": [
        "# 정리1\n",
        "  - 딕셔너리\n",
        "  - 키워드 가변 매개변수\n",
        "  - 리스트 컴프리핸션\n",
        "    - 결과 => 리스트\n",
        "    - 결과 => 딕셔너리"
      ],
      "metadata": {
        "id": "js_Pmjl4TV3J"
      }
    },
    {
      "cell_type": "code",
      "source": [
        "# 원하는 형태의 dictionary를 만들어본다\n",
        "dic1 = {\n",
        "    'name' : '홍길동',\n",
        "    'age' : 20\n",
        "}\n",
        "\n",
        "# 사용자가 '홍길동 20' 입력이 들어오면 input\n",
        "# data변수에다가 키워드는 name age로 해서 저장\n",
        "# for i in range(5)\n",
        "# 입력이 끝나면 출력\n",
        "\n",
        "dic_list = []\n",
        "for i in range(5):\n",
        "  name,age = input(\"이름과 나이를 '홍길동 20' 형태로 입력하시오\").split()\n",
        "  dic = {'name' : name, 'age' : int(age)}\n",
        "  dic_list.append(dic)\n",
        "\n",
        "print(dic_list)"
      ],
      "metadata": {
        "colab": {
          "base_uri": "https://localhost:8080/"
        },
        "id": "jNtObPRuT2dy",
        "outputId": "eb2879a6-8a8a-496f-f83e-65217130ea21"
      },
      "execution_count": null,
      "outputs": [
        {
          "output_type": "stream",
          "name": "stdout",
          "text": [
            "이름과 나이를 '홍길동 20' 형태로 입력하시오홍길동 20\n",
            "이름과 나이를 '홍길동 20' 형태로 입력하시오엄복동 10\n",
            "이름과 나이를 '홍길동 20' 형태로 입력하시오킬방원 30\n",
            "이름과 나이를 '홍길동 20' 형태로 입력하시오킹세종 40\n",
            "이름과 나이를 '홍길동 20' 형태로 입력하시오고길동 50\n",
            "[{'name': '홍길동', 'age': 20}, {'name': '엄복동', 'age': 10}, {'name': '킬방원', 'age': 30}, {'name': '킹세종', 'age': 40}, {'name': '고길동', 'age': 50}]\n"
          ]
        }
      ]
    },
    {
      "cell_type": "code",
      "source": [
        "# 나이가 적은순으로 데이터를 정렬 출력 오름차순\n",
        "# 리스트에 있는 딕셔너리중에 키값이 age를 기준으로 리스트 정렬\n",
        "# 나이가 갖아 많은 사람 이름을 전부 출력(동률을 고려)\n",
        "\n",
        "dic_list = sorted(dic_list, key= lambda x: x['age'])\n",
        "\n",
        "# 나이가 가장 많은 사람 이름을 전부 출력\n",
        "# 리스트의 딕셔너리중에 age 의 값이 가장 큰 값을 찾아서 max_age\n",
        "# 다시 리스트의 딕셔너리를 순환한 값이 max_age와 같은 name을 출력\n",
        "\n",
        "max_age = max(dic_list, key=lambda x:x['age'])['age']\n",
        "old_list = [dic['name'] for dic in dic_list if dic['age'] == max_age]\n",
        "print(old_list)"
      ],
      "metadata": {
        "colab": {
          "base_uri": "https://localhost:8080/"
        },
        "id": "zpqKJyKh5sxj",
        "outputId": "b643b7ab-3d65-47db-8af3-c69dd463c41f"
      },
      "execution_count": null,
      "outputs": [
        {
          "output_type": "stream",
          "name": "stdout",
          "text": [
            "['고길동']\n"
          ]
        }
      ]
    },
    {
      "cell_type": "code",
      "source": [
        "a ={}\n",
        "def modify(x):\n",
        "  x[0] = 100\n",
        "  x[1] = 100\n",
        "  return x\n",
        "\n",
        "print(a)\n",
        "modify(a)\n",
        "print(a)"
      ],
      "metadata": {
        "colab": {
          "base_uri": "https://localhost:8080/"
        },
        "id": "dF3NnBKT_xRx",
        "outputId": "98da3523-a872-4065-c66c-5376f90ac8ec"
      },
      "execution_count": null,
      "outputs": [
        {
          "output_type": "stream",
          "name": "stdout",
          "text": [
            "{}\n",
            "{0: 100, 1: 100}\n"
          ]
        }
      ]
    },
    {
      "cell_type": "code",
      "source": [
        "# 단일 데이터가 아닌 집합을 나타내는 변수는 내부에 해당 주소를 가지고 있음\n",
        "# 주소값이 전달되기때문에 내부에서 실행결과가 함수 실행도중에 반영됨\n",
        "def getData1(datas_list):\n",
        "  for i in range(1):\n",
        "    data = input('이름 과 나이를 입력하세요:').split()\n",
        "    datas = {}\n",
        "    datas={}\n",
        "    datas['name'] = data[0]\n",
        "    datas['age'] = int(data[1])\n",
        "    datas_list.append(datas)\n",
        "\n",
        "temp =[] # 리스트 변수 생성\n",
        "getData1(temp) # 함수에 리스트 변수에 있는 값(리스트의 주소)을 복사해서 전달\n",
        "print(temp) # 함수를 실행하고 나면 주소값을 이용한 데이터가 변경되었기 때문에 리턴 없어도 데이터가 반영"
      ],
      "metadata": {
        "colab": {
          "base_uri": "https://localhost:8080/"
        },
        "id": "Ak2eZbUhAPgS",
        "outputId": "17b8cc1b-2ad8-49b8-a1f2-02bb35724b8e"
      },
      "execution_count": null,
      "outputs": [
        {
          "output_type": "stream",
          "name": "stdout",
          "text": [
            "이름 과 나이를 입력하세요:내이름 25\n",
            "[{'name': '내이름', 'age': 25}]\n"
          ]
        }
      ]
    },
    {
      "cell_type": "code",
      "source": [
        "def getData2():\n",
        "  datas_list = []  # 함수내부에서 지역변수로 리스트를 생성\n",
        "  for i in range(1): # 해당 리스트에 데이터를 추가\n",
        "    data = input('이름과 나이를 입력하세요 :').split()  # [ '홍길동', '20' ]\n",
        "    datas = {}\n",
        "    datas['name'] = data[0]\n",
        "    datas['age'] = int(data[1])\n",
        "    datas_list.append(datas)\n",
        "  return datas_list  # 지역변수이고 함수실행이 끝나면 사라지므로 값을반환한다\n",
        "\n",
        "temp = getData2()  # 함수 실행후 반환되는 리스트의 값을 받는다\n",
        "print(temp)"
      ],
      "metadata": {
        "colab": {
          "base_uri": "https://localhost:8080/"
        },
        "id": "oxa3VrxXCI2r",
        "outputId": "e76f43a2-3013-44e7-c711-d80c91e906e4"
      },
      "execution_count": null,
      "outputs": [
        {
          "output_type": "stream",
          "name": "stdout",
          "text": [
            "이름과 나이를 입력하세요 :너이름 28\n",
            "[{'name': '너이름', 'age': 28}]\n"
          ]
        }
      ]
    },
    {
      "cell_type": "code",
      "source": [
        "temp = [10,20,30,40]\n",
        "temp_list = [\n",
        "    {'items': ['a',{'score':temp},'c']},\n",
        "     {'power':100}\n",
        "    ]\n",
        "print(f'변경전: {temp_list}')\n",
        "# 30에 접근하라면\n",
        "# print(temp_list[0]['items'][1]['score'][2])\n",
        "\n",
        "temp[2] =100\n",
        "print(f'변경후 : {temp_list}')"
      ],
      "metadata": {
        "colab": {
          "base_uri": "https://localhost:8080/"
        },
        "id": "-1VCp6T0AxZh",
        "outputId": "1cafeb7f-1f72-45fe-e536-93c6c5d9c42e"
      },
      "execution_count": null,
      "outputs": [
        {
          "output_type": "stream",
          "name": "stdout",
          "text": [
            "변경전: [{'items': ['a', {'score': [10, 20, 30, 40]}, 'c']}, {'power': 100}]\n",
            "변경후 : [{'items': ['a', {'score': [10, 20, 100, 40]}, 'c']}, {'power': 100}]\n"
          ]
        }
      ]
    },
    {
      "cell_type": "markdown",
      "source": [
        "# 데코레이터 decorator : java 의 추상화 비슷 한 개념\n",
        "  - 함수나 메소드를 감싸서 추가적인 기능을 제공\n",
        "  - 기존 코드를 수정하지 않고 동작을 확장 시킬 수 있음\n",
        "  - 고차원 함수 : 다른 함수를 인자로 받아서 새로운 함수를 반환\n",
        "  - @데코레이터_이름 을 함수 정의 부분 위에 선언함"
      ],
      "metadata": {
        "id": "H3M8SvKEHTYv"
      }
    },
    {
      "cell_type": "code",
      "source": [
        "def decorator(func):  # 매개변수로 함수가 전달\n",
        "  def wrapper():\n",
        "    print('함수 실행전')\n",
        "    func()\n",
        "    print('함수 실행후')\n",
        "  return wrapper\n",
        "\n",
        "def say_hello():  # 매개변수로 전달할 함수를 생성\n",
        "  print('hello')\n",
        "\n",
        "myfunc = decorator(say_hello)\n",
        "myfunc()\n",
        "\n",
        "# say_hello()"
      ],
      "metadata": {
        "colab": {
          "base_uri": "https://localhost:8080/"
        },
        "id": "IOe8TZWVHPhP",
        "outputId": "66fa176c-457a-4293-dece-2f46a4e46644"
      },
      "execution_count": null,
      "outputs": [
        {
          "output_type": "stream",
          "name": "stdout",
          "text": [
            "함수 실행전\n",
            "hello\n",
            "함수 실행후\n"
          ]
        }
      ]
    },
    {
      "cell_type": "code",
      "source": [
        "def decorator(func):  # 매개변수로 함수가 전달\n",
        "  def wrapper():\n",
        "    print('함수 실행전')\n",
        "    func()\n",
        "    print('함수 실행후')\n",
        "  return wrapper\n",
        "\n",
        "@decorator\n",
        "def say_hello():  # 매개변수로 전달할 함수를 생성\n",
        "  print('hello')\n",
        "\n",
        "# myfunc = decorator(say_hello)\n",
        "# myfunc()\n",
        "\n",
        "say_hello()"
      ],
      "metadata": {
        "colab": {
          "base_uri": "https://localhost:8080/"
        },
        "id": "_U8BZBZvJLB_",
        "outputId": "1502e08d-e1ac-42a4-8531-1521c5787a29"
      },
      "execution_count": null,
      "outputs": [
        {
          "output_type": "stream",
          "name": "stdout",
          "text": [
            "함수 실행전\n",
            "hello\n",
            "함수 실행후\n"
          ]
        }
      ]
    },
    {
      "cell_type": "code",
      "source": [
        "def log_decorator(func):\n",
        "  def wrapper(*args, **kwargs):   # 모든 종류의 인자를 처리함\n",
        "     print(f'{func.__name__} 호출 args:{args}, kwargs:{kwargs}')\n",
        "     result = func(*args, **kwargs)\n",
        "     return result\n",
        "  return wrapper\n",
        "\n",
        "\n",
        "@log_decorator\n",
        "def add(a,b):\n",
        "  return a+b\n",
        "\n",
        "@log_decorator\n",
        "def minus(a,b):\n",
        "  return a-b\n",
        "\n",
        "@log_decorator\n",
        "def makeString(name,age):\n",
        "  return name + str(age)\n",
        "\n",
        "print(add(10,20))\n",
        "print(minus(10,20))\n",
        "print(makeString('홍길동',age=80))"
      ],
      "metadata": {
        "colab": {
          "base_uri": "https://localhost:8080/"
        },
        "id": "f_IS8ZxmK4g6",
        "outputId": "79f2b39b-12d4-4d10-eea5-79df9fa77b1c"
      },
      "execution_count": null,
      "outputs": [
        {
          "output_type": "stream",
          "name": "stdout",
          "text": [
            "add 호출 args:(10, 20), kwargs:{}\n",
            "30\n",
            "minus 호출 args:(10, 20), kwargs:{}\n",
            "-10\n",
            "makeString 호출 args:('홍길동',), kwargs:{'age': 80}\n",
            "홍길동80\n"
          ]
        }
      ]
    },
    {
      "cell_type": "markdown",
      "source": [
        "# 정리 2\n",
        "  - 딕셔너리\n",
        "  - 키워드 가변 매개변수\n",
        "    - packing /unpacking\n",
        "  - 리스트 컴프리핸션\n",
        "  - 데코레이션"
      ],
      "metadata": {
        "id": "fh0yImnrNM64"
      }
    },
    {
      "cell_type": "code",
      "source": [
        "# 성적 관리 시스템\n",
        "# 학생데이터를 딕셔너리로 관리\n",
        "# 키워드 가변 매개변수로 입력을 처리\n",
        "# packing / unpacking을 이용해서 데이터를 구조화\n",
        "# 리스트컴프리헨션을 이용해서 데이터 변화 및 필터링\n",
        "\n",
        "# 학생데이터를 딕셔너리로 정리\n",
        "import random\n",
        "students=[]\n",
        "name_list=['홍길동','이철수','김영희']\n",
        "for name in name_list:\n",
        "  scores = random.sample(range(60,101),3)\n",
        "  scores_dic = {'kor':scores[0], 'eng':scores[1], 'math':scores[2]}\n",
        "  dic = {'name': name, 'scores': scores_dic}\n",
        "  students.append(dic)\n",
        "print(students)"
      ],
      "metadata": {
        "colab": {
          "base_uri": "https://localhost:8080/"
        },
        "id": "5aoG0idxLnX_",
        "outputId": "4a31e202-e992-4648-f6d6-baaa44efc4f0"
      },
      "execution_count": null,
      "outputs": [
        {
          "output_type": "stream",
          "name": "stdout",
          "text": [
            "[{'name': '홍길동', 'scores': {'kor': 82, 'eng': 75, 'math': 83}}, {'name': '이철수', 'scores': {'kor': 87, 'eng': 72, 'math': 63}}, {'name': '김영희', 'scores': {'kor': 88, 'eng': 87, 'math': 83}}]\n"
          ]
        }
      ]
    },
    {
      "cell_type": "code",
      "source": [
        "# 학생 데이터 생성 함수 : 파라미터를 이름, 과목별 성적\n",
        "def create_data(name, **scores):\n",
        "  return {'name':name, 'scores':scores}\n",
        "\n",
        "# 성적 추가 함수 : 파라미터를 이름, 과목별 성적\n",
        "def data_insert(name, **scores):\n",
        "  data = create_data(name, **scores)\n",
        "  students.append(data)\n",
        "\n",
        "#students = []\n",
        "# student_data = create_data('엄복동', kor=60, eng=70, math=80)\n",
        "# students.append(student_data)\n",
        "# print(students)\n",
        "\n",
        "# data_insert('고길동', kor=90, eng=60, math=80)\n",
        "# print(students)"
      ],
      "metadata": {
        "id": "DNu80FS4X5W6"
      },
      "execution_count": null,
      "outputs": []
    },
    {
      "cell_type": "code",
      "source": [
        "data_insert('고길동', kor=90, eng=60, math=80)\n",
        "print(students)"
      ],
      "metadata": {
        "colab": {
          "base_uri": "https://localhost:8080/"
        },
        "id": "zKwTdCKOaKtj",
        "outputId": "66bde867-3e48-440a-d836-9c4034fe1385"
      },
      "execution_count": null,
      "outputs": [
        {
          "output_type": "stream",
          "name": "stdout",
          "text": [
            "[{'name': '홍길동', 'scores': {'kor': 82, 'eng': 75, 'math': 83}}, {'name': '이철수', 'scores': {'kor': 87, 'eng': 72, 'math': 63}}, {'name': '김영희', 'scores': {'kor': 88, 'eng': 87, 'math': 83}}, {'name': '고길동', 'scores': {'kor': 90, 'eng': 60, 'math': 80}}]\n"
          ]
        }
      ]
    },
    {
      "cell_type": "code",
      "source": [
        "# 전체 학생수, 최고 평균 몇점 누구 인지, 평균이 높은 학생 두명\n",
        "def student_score_info(students:list):\n",
        "  data_len = len(students)   # 전체 학생수\n",
        "  names = [data['name'] for data in students]   # 전체 학생이름 리스트\n",
        "  mean_scores = [round(sum(data['scores'].values())/3, 2) for data in students]   # 전체 학생 평균 리스트\n",
        "  mean_dic = {names[i]:mean_scores[i] for i in range(len(names))}   # 이름:평균 딕셔너리\n",
        "  max_mean_score = max(mean_dic.items(), key=lambda x:x[1])   # 가장 높은 평균 점수\n",
        "  sort_mean_dic = sorted(mean_dic.items(), key=lambda x:x[1], reverse=True)   # 평균이 높은 순으로 내림차순\n",
        "  best_2 = sort_mean_dic[:2]    # 상위 2명\n",
        "  print(f'전체 학생수 : {data_len}명, 최고 평균 득점자 : {max_mean_score}, 평균 상위 2인 : {best_2}')"
      ],
      "metadata": {
        "id": "lJ1stFtNO2KC"
      },
      "execution_count": null,
      "outputs": []
    },
    {
      "cell_type": "code",
      "source": [
        "student_score_info(students)"
      ],
      "metadata": {
        "colab": {
          "base_uri": "https://localhost:8080/"
        },
        "id": "tD8D7R7gdTFx",
        "outputId": "58d354b8-aa00-4756-d8eb-3e7f14978c43"
      },
      "execution_count": null,
      "outputs": [
        {
          "output_type": "stream",
          "name": "stdout",
          "text": [
            "전체 학생수 : 4명, 최고 평균 득점자 : ('김영희', 86.0), 평균 상위 2인 : [('김영희', 86.0), ('홍길동', 80.0)]\n"
          ]
        }
      ]
    }
  ]
}