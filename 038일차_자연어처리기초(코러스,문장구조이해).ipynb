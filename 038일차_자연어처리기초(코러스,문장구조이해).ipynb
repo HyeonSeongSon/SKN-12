{
  "nbformat": 4,
  "nbformat_minor": 0,
  "metadata": {
    "colab": {
      "provenance": []
    },
    "kernelspec": {
      "name": "python3",
      "display_name": "Python 3"
    },
    "language_info": {
      "name": "python"
    }
  },
  "cells": [
    {
      "cell_type": "markdown",
      "source": [
        "텍스트 마이닝\n",
        "```\n",
        "텍스트에서 유의미한 정보를 추출\n",
        "카운트기반 : 단어빈도(Bag of Words ,TF-IDF) 전통적인 기법\n",
        "시퀀스 : 문맥과 순서를 고려, 워드 임베딩(Word2Vec ,BERT) , 딥러닝\n",
        "```\n",
        "텍스트 전처리\n",
        "```\n",
        "원시 텍스트를 분석가능한 형태로 변환과정\n",
        "기법\n",
        "  토큰화:문장을 단어 또는 서브워드 단위로 분리\n",
        "  어간/표제어추출: 단어의 기본형태로 변환(running->run)\n",
        "  불용어 처리:분석에 불필요한 단어(the, it , at ...)\n",
        "  품사태깅:단어의 품사를 식별 문맥 이해\n",
        "  정규화: 대소문자 통합, 특수문자 제거\n",
        "도구\n",
        "  영어 NLTK, ..\n",
        "  한국어 : KoNLP(Mecap, Okt...)  \n",
        "```"
      ],
      "metadata": {
        "id": "sDZyad5g4uN4"
      }
    },
    {
      "cell_type": "code",
      "execution_count": 3,
      "metadata": {
        "id": "D84h3IPVql28",
        "colab": {
          "base_uri": "https://localhost:8080/"
        },
        "outputId": "b0dfb3b3-c8db-4ec9-f6c4-84c4fd8b0d89"
      },
      "outputs": [
        {
          "output_type": "stream",
          "name": "stdout",
          "text": [
            "Collecting konlpy\n",
            "  Downloading konlpy-0.6.0-py2.py3-none-any.whl.metadata (1.9 kB)\n",
            "Collecting JPype1>=0.7.0 (from konlpy)\n",
            "  Downloading jpype1-1.5.2-cp311-cp311-manylinux_2_17_x86_64.manylinux2014_x86_64.whl.metadata (4.9 kB)\n",
            "Requirement already satisfied: lxml>=4.1.0 in /usr/local/lib/python3.11/dist-packages (from konlpy) (5.3.2)\n",
            "Requirement already satisfied: numpy>=1.6 in /usr/local/lib/python3.11/dist-packages (from konlpy) (2.0.2)\n",
            "Requirement already satisfied: packaging in /usr/local/lib/python3.11/dist-packages (from JPype1>=0.7.0->konlpy) (24.2)\n",
            "Downloading konlpy-0.6.0-py2.py3-none-any.whl (19.4 MB)\n",
            "\u001b[2K   \u001b[90m━━━━━━━━━━━━━━━━━━━━━━━━━━━━━━━━━━━━━━━━\u001b[0m \u001b[32m19.4/19.4 MB\u001b[0m \u001b[31m45.7 MB/s\u001b[0m eta \u001b[36m0:00:00\u001b[0m\n",
            "\u001b[?25hDownloading jpype1-1.5.2-cp311-cp311-manylinux_2_17_x86_64.manylinux2014_x86_64.whl (494 kB)\n",
            "\u001b[2K   \u001b[90m━━━━━━━━━━━━━━━━━━━━━━━━━━━━━━━━━━━━━━━━\u001b[0m \u001b[32m494.1/494.1 kB\u001b[0m \u001b[31m21.5 MB/s\u001b[0m eta \u001b[36m0:00:00\u001b[0m\n",
            "\u001b[?25hInstalling collected packages: JPype1, konlpy\n",
            "Successfully installed JPype1-1.5.2 konlpy-0.6.0\n"
          ]
        }
      ],
      "source": [
        "!pip install konlpy"
      ]
    },
    {
      "cell_type": "code",
      "source": [
        "# NLTK 데이터 다운로드\n",
        "import nltk\n",
        "nltk.download('punkt')  # 문장을 단어로 나누는 토크나이져 모델을 다운로드\n",
        "nltk.download('stopwords')  # 불용어 다운로\n",
        "\n",
        "# KoNLP 설치 확인\n",
        "from konlpy.tag import Okt\n",
        "okt = Okt()\n",
        "okt.morphs('나는 자연어 처리를 공부한다')"
      ],
      "metadata": {
        "colab": {
          "base_uri": "https://localhost:8080/"
        },
        "id": "V3PSiRA-4wyd",
        "outputId": "8874d897-0f4d-47be-9177-991f5361782b"
      },
      "execution_count": 4,
      "outputs": [
        {
          "output_type": "stream",
          "name": "stderr",
          "text": [
            "[nltk_data] Downloading package punkt to /root/nltk_data...\n",
            "[nltk_data]   Unzipping tokenizers/punkt.zip.\n",
            "[nltk_data] Downloading package stopwords to /root/nltk_data...\n",
            "[nltk_data]   Unzipping corpora/stopwords.zip.\n"
          ]
        },
        {
          "output_type": "execute_result",
          "data": {
            "text/plain": [
              "['나', '는', '자연어', '처리', '를', '공부', '한다']"
            ]
          },
          "metadata": {},
          "execution_count": 4
        }
      ]
    },
    {
      "cell_type": "code",
      "source": [
        "okt.pos('나는 자연어 처리를 공부한다')"
      ],
      "metadata": {
        "colab": {
          "base_uri": "https://localhost:8080/"
        },
        "id": "uruaYPo44yGG",
        "outputId": "c2162b5e-5bfa-4dd6-a60c-396083bc7669"
      },
      "execution_count": 5,
      "outputs": [
        {
          "output_type": "execute_result",
          "data": {
            "text/plain": [
              "[('나', 'Noun'),\n",
              " ('는', 'Josa'),\n",
              " ('자연어', 'Noun'),\n",
              " ('처리', 'Noun'),\n",
              " ('를', 'Josa'),\n",
              " ('공부', 'Noun'),\n",
              " ('한다', 'Verb')]"
            ]
          },
          "metadata": {},
          "execution_count": 5
        }
      ]
    },
    {
      "cell_type": "markdown",
      "source": [
        "폼사태그\n",
        "```\n",
        "Noun : 명사\n",
        "Josa : 조사\n",
        "Verb : 동\n",
        "```"
      ],
      "metadata": {
        "id": "bwPd8YYI49MD"
      }
    },
    {
      "cell_type": "code",
      "source": [
        "nltk.download('punkt_tab')"
      ],
      "metadata": {
        "colab": {
          "base_uri": "https://localhost:8080/"
        },
        "id": "tLJdRONh41hI",
        "outputId": "064b555d-b0df-469d-add9-8826a62b7761"
      },
      "execution_count": 6,
      "outputs": [
        {
          "output_type": "stream",
          "name": "stderr",
          "text": [
            "[nltk_data] Downloading package punkt_tab to /root/nltk_data...\n",
            "[nltk_data]   Unzipping tokenizers/punkt_tab.zip.\n"
          ]
        },
        {
          "output_type": "execute_result",
          "data": {
            "text/plain": [
              "True"
            ]
          },
          "metadata": {},
          "execution_count": 6
        }
      ]
    },
    {
      "cell_type": "markdown",
      "source": [
        "영어 문장 전처리(NLTK)"
      ],
      "metadata": {
        "id": "DaddCWZk46zt"
      }
    },
    {
      "cell_type": "code",
      "source": [
        "# 영어 텍스트 처리(NLTK)\n",
        "from nltk.tokenize import word_tokenize\n",
        "from nltk.corpus import stopwords\n",
        "import string   # 특수문자들의 집합 string.punctuation\n",
        "\n",
        "# 샘플\n",
        "text = \"This is as sample text, with some punctuation and stopwords!\"\n",
        "# 소문자로 변환\n",
        "text = text.lower()\n",
        "# 특수문자 제거\n",
        "text = text.translate(str.maketrans('','',string.punctuation))\n",
        "print(text)\n",
        "# 토큰화\n",
        "tokens = word_tokenize(text)\n",
        "print(f'토큰화 : {tokens}')\n",
        "\n",
        "# 불용어 제거\n",
        "#1 불용어 사전생성\n",
        "stop_words =  set(stopwords.words('english'))\n",
        "#2. 토큰들중에서 불용어에 속하지 않은 토큰만 분리\n",
        "tokens = [ word for word in tokens if word not in stop_words ]\n",
        "print(f'영어문장 전처리 : {tokens}')"
      ],
      "metadata": {
        "colab": {
          "base_uri": "https://localhost:8080/"
        },
        "id": "zI6WnVsn44x5",
        "outputId": "15b08c97-d72d-4c2c-f6bc-6846895996ca"
      },
      "execution_count": 7,
      "outputs": [
        {
          "output_type": "stream",
          "name": "stdout",
          "text": [
            "this is as sample text with some punctuation and stopwords\n",
            "토큰화 : ['this', 'is', 'as', 'sample', 'text', 'with', 'some', 'punctuation', 'and', 'stopwords']\n",
            "영어문장 전처리 : ['sample', 'text', 'punctuation', 'stopwords']\n"
          ]
        }
      ]
    },
    {
      "cell_type": "markdown",
      "source": [
        "한국어 텍스트 전처리(KoNLP)"
      ],
      "metadata": {
        "id": "3XuaAJyA5DgJ"
      }
    },
    {
      "cell_type": "code",
      "source": [
        "from konlpy.tag import Okt\n",
        "# 샘플 텍스트\n",
        "text = \"이것은 한국어 텍스트 마이닝 예제입니다.\"\n",
        "# 형태소 분석기\n",
        "okt = Okt()\n",
        "# 토큰화 및 품사태깅\n",
        "tokens = okt.pos(text, norm=True, stem=True)  # norm=True  정규화,   stem=True 어간추출(했습니다->하다)\n",
        "print(f'토큰화 및 품사태깅 : {tokens}')\n",
        "# 명사만 추출\n",
        "nouns = [ word  for word, pos in tokens if pos ==  'Noun']\n",
        "print(f'명사 : {nouns}')\n",
        "# 불용어 제거(사용자 정의 불용어 리스트)\n",
        "stop_words = ['것','마','이닝']\n",
        "nouns = [word for word in nouns if word not in stop_words]\n",
        "print(f'전처리 : {nouns}')"
      ],
      "metadata": {
        "colab": {
          "base_uri": "https://localhost:8080/"
        },
        "id": "m06xWfty5Bq1",
        "outputId": "37526a35-81c0-47fc-cd61-8a0698dc7be9"
      },
      "execution_count": 8,
      "outputs": [
        {
          "output_type": "stream",
          "name": "stdout",
          "text": [
            "토큰화 및 품사태깅 : [('이', 'Determiner'), ('것', 'Noun'), ('은', 'Josa'), ('한국어', 'Noun'), ('텍스트', 'Noun'), ('마', 'Noun'), ('이닝', 'Noun'), ('예제', 'Noun'), ('이다', 'Adjective'), ('.', 'Punctuation')]\n",
            "명사 : ['것', '한국어', '텍스트', '마', '이닝', '예제']\n",
            "전처리 : ['한국어', '텍스트', '예제']\n"
          ]
        }
      ]
    },
    {
      "cell_type": "code",
      "source": [
        "!pip install ko-ww-stopwords -q"
      ],
      "metadata": {
        "id": "FIg4Su875GD3"
      },
      "execution_count": 9,
      "outputs": []
    },
    {
      "cell_type": "code",
      "source": [
        "from ko_ww_stopwords.stop_words import ko_ww_stop_words\n",
        "from ko_ww_stopwords.tools import is_stop_word, strip_outer_punct\n",
        "print(ko_ww_stop_words)"
      ],
      "metadata": {
        "colab": {
          "base_uri": "https://localhost:8080/"
        },
        "id": "ca8k3Cyu5IH8",
        "outputId": "416e15f5-3cbd-4d75-c45d-6ec49db2ea8c"
      },
      "execution_count": 10,
      "outputs": [
        {
          "output_type": "stream",
          "name": "stdout",
          "text": [
            "{'또', '헉', '자신', '나', '이것들', '혼자', '삼', '잠깐', '저', '일', '하나도', '여기', '구', '휴', '어느', '언젠가', '그런', '어이', '오로지', '같이', '채로', '어떠한', '아홉', '오히려', '즉', '진짜로', '육', '요컨대', '어디', '주라고', '뭐', '어때', '그렇지만', '겸', '그것들', '얼마만큼', '못', '아직', '저기', '야', '툭', '이쪽', '함께', '퉤', '이런', '셋', '참', '얼마', '일곱', '된다', '둘', '제', '어', '오자마자', '칠', '이것', '마터면', '몇', '자', '차라리', '전자', '조금', '할뿐', '좀', '아무', '위해서', '이때', '왜', '여섯', '저것', '저까짓', '때', '언제', '뭘', '이곳', '저쪽', '때문에', '혼자서', '어떤', '만큼', '향하여', '혹시', '우선', '자기', '어떤것', '전부', '정도로', '사', '이', '십', '어떤것들', '저런', '이까짓', '그것', '얼마나', '하나', '무엇', '향해서', '예컨대', '허', '적이', '외에도', '우리', '열', '한다', '이상', '틈타', '예하면', '첫번째로', '훨씬', '및', '제각기', '안', '수', '여부', '대로', '왜냐하면', '그', '팔', '그까짓', '달라고', '오', '만일', '했다', '바로', '잠시', '응', '흥', '넷', '됐다', '타인', '번', '여덟', '다섯', '듯이', '통하여', '스물', '테니까', '거니까', '실로', '따라', '즉시'}\n"
          ]
        }
      ]
    },
    {
      "cell_type": "markdown",
      "source": [
        "전처리\n",
        "```\n",
        "영어\n",
        "  소문자\n",
        "  특수문자 제거\n",
        "  불용어사전 다운로드\n",
        "  불용어 제거\n",
        "한국어\n",
        "  품사태깅\n",
        "  품사중에 명사만 추출\n",
        "  사용자 정의 불용어사전\n",
        "  불용어 제거\n",
        "```"
      ],
      "metadata": {
        "id": "_OymM5lN5M4m"
      }
    },
    {
      "cell_type": "code",
      "source": [
        "def preprocess_text(text, lang = 'kor'):\n",
        "  if lang == 'kor':\n",
        "    # 한국어 전처리\n",
        "    okt = Okt()\n",
        "    tokens = okt.pos(text, norm=True,stem=True)\n",
        "    nouns = [word for word, pos in tokens if pos == 'Noun']\n",
        "    # 불용어  (기존 만들어진것 이용, 사용자가 정의)\n",
        "    stop_words = ['것','마','이닝']\n",
        "    nouns = [word for word in nouns if word not in stop_words]\n",
        "    return nouns\n",
        "\n",
        "  else:\n",
        "    # 영어 전처리\n",
        "    text = text.lower()\n",
        "    text = text.translate(str.maketrans('','',string.punctuation))\n",
        "    # 공백을 기준으로 토큰화\n",
        "    tokens = word_tokenize(text)\n",
        "    # 불용어 제거\n",
        "    stop_words = set(stopwords.words('english'))\n",
        "    tokens = [word for word in tokens if word not in stop_words]\n",
        "    return tokens"
      ],
      "metadata": {
        "id": "z1d0T1Pd5J17"
      },
      "execution_count": 11,
      "outputs": []
    },
    {
      "cell_type": "code",
      "source": [
        "preprocess_text(\"this is a sample text!!!\",lang='eng')"
      ],
      "metadata": {
        "id": "ph-RQCqe5Ls5",
        "colab": {
          "base_uri": "https://localhost:8080/"
        },
        "outputId": "ceb6625b-8d78-4eb9-8c4a-fda16e019cbb"
      },
      "execution_count": 12,
      "outputs": [
        {
          "output_type": "execute_result",
          "data": {
            "text/plain": [
              "['sample', 'text']"
            ]
          },
          "metadata": {},
          "execution_count": 12
        }
      ]
    },
    {
      "cell_type": "code",
      "source": [
        "preprocess_text(\"한국어 텍스트 문장 입니다!.\")"
      ],
      "metadata": {
        "colab": {
          "base_uri": "https://localhost:8080/"
        },
        "id": "VNVEsNdGLKbh",
        "outputId": "ada4eef6-1fdf-434f-bd7d-0fa932d3dea2"
      },
      "execution_count": 13,
      "outputs": [
        {
          "output_type": "execute_result",
          "data": {
            "text/plain": [
              "['한국어', '텍스트', '문장']"
            ]
          },
          "metadata": {},
          "execution_count": 13
        }
      ]
    },
    {
      "cell_type": "markdown",
      "source": [
        "BOW 기반 테스트 마이닝\n",
        "```\n",
        "BOW:  문서를 단어집합으로 표현, 단어순서 무시\n",
        "카운트벡터: 단어빈도를 벡터로 표현\n",
        "TF_IDF : 단어의 중요도를 반영한 가중치 벡터\n",
        "```\n",
        "```\n",
        "문서분류 : 텍스트를 카테고리로분류(긍정 부정)\n",
        "알고리즘 : 나이브 베이지, 로지스틱회귀, 결정트리 ,SVM\n",
        "N-gram : 단어순서 일부반영(\"not good\" 을 하나의 특성)\n",
        "```\n",
        "```\n",
        "차원축소 : BOW벡터는 고차원\n",
        "  PCA : 분산최대화로\n",
        "  LSA(Latent Semantic Analysis) SVD로 잠재의미 추출\n",
        "  t-SNS : 비선형 시각화\n",
        "```\n",
        "\n",
        "```\n",
        "토픽모델링\n",
        "  문서집합에서 주요주제를 추출\n",
        "  LDA : 문서가 여러 토픽의 혼합으로 구성된다고 가정, 각 토픽은 단어 분포로 표현\n",
        "  뉴스분석, 고객 피드백 분류 등\n",
        "```\n",
        "```\n",
        "감성분석\n",
        "  긍정 부정 중립\n",
        "  머신러닝기반 : BOW + 분류모델\n",
        "```"
      ],
      "metadata": {
        "id": "QkBuVxTALN7K"
      }
    },
    {
      "cell_type": "markdown",
      "source": [
        "```\n",
        "BOW : 문장내 단어들의 집합\n",
        "Counter Vector : BOW 기반으로 빈도\n",
        "TF : (Term Frequency) 문서에서 단어의 빈도를 전체 단어수로 나눔, 단어가 문서에서 얼마나 중요한 지를 상대적으로\n",
        "IDF :  Inverse Document Frequency  모든 문서에서 해당 단어가 얼마나 희귀한지\n",
        "log(N / df(t)) + 1  (N 문서수, df(t) 단어가 등장한 문서수)\n",
        "\n",
        "TF-IDF : TF X IDF  단어의 중요도를 가중치로 반영한 벡터\n",
        "자주 나오면서 문서 전체에서 희귀한 단어에 높은 점수를 부여\n",
        "```"
      ],
      "metadata": {
        "id": "ElqLUGphLQHk"
      }
    },
    {
      "cell_type": "markdown",
      "source": [
        "카운트기반 벡터화"
      ],
      "metadata": {
        "id": "ksANkHvuLSlu"
      }
    },
    {
      "cell_type": "code",
      "source": [
        "from sklearn.feature_extraction.text import CountVectorizer, TfidfVectorizer\n",
        "from konlpy.tag import Okt\n",
        "import numpy as np\n",
        "# sample text\n",
        "texts = ['한국 경제는 성장 중입니다.','경제 성장률이 둔화되고 있습니다']\n",
        "# 형태소 분석\n",
        "ok = Okt()\n",
        "# 불용어\n",
        "stop_words = ['중','률']\n",
        "tokenized_texts = [okt.nouns(text) for text in  texts]\n",
        "tokens = []\n",
        "for i in tokenized_texts:\n",
        "  tokens += i\n",
        "tokens\n",
        "tokenized_texts = [ word for word in tokens if word not in stop_words]\n",
        "print(tokenized_texts)\n",
        "# 카운트 벡터화\n",
        "vectorized = CountVectorizer()\n",
        "count_matrix = vectorized.fit_transform(tokenized_texts).toarray()\n",
        "print(count_matrix)  # one-hot 인코딩\n",
        "print(vectorized.vocabulary_) # dic\n",
        "\n",
        "# TF-IDF 벡터화\n",
        "tfidf_vectorizer = TfidfVectorizer()\n",
        "tfidf_matrix = tfidf_vectorizer.fit_transform(tokenized_texts)\n",
        "print(tfidf_matrix.toarray())"
      ],
      "metadata": {
        "colab": {
          "base_uri": "https://localhost:8080/"
        },
        "id": "0Q4Lzc9ILLoJ",
        "outputId": "61ff076f-070c-4300-a460-b4adf5390847"
      },
      "execution_count": 14,
      "outputs": [
        {
          "output_type": "stream",
          "name": "stdout",
          "text": [
            "['한국', '경제', '성장', '경제', '성장', '둔화']\n",
            "[[0 0 0 1]\n",
            " [1 0 0 0]\n",
            " [0 0 1 0]\n",
            " [1 0 0 0]\n",
            " [0 0 1 0]\n",
            " [0 1 0 0]]\n",
            "{'한국': 3, '경제': 0, '성장': 2, '둔화': 1}\n",
            "[[0. 0. 0. 1.]\n",
            " [1. 0. 0. 0.]\n",
            " [0. 0. 1. 0.]\n",
            " [1. 0. 0. 0.]\n",
            " [0. 0. 1. 0.]\n",
            " [0. 1. 0. 0.]]\n"
          ]
        }
      ]
    },
    {
      "cell_type": "markdown",
      "source": [
        "TF-IDF\n",
        "```\n",
        "TF(t) = 특정 단어t가 나타난횟수 /문서의 모든 단어개수\n",
        "IDF(t) = log(총문서개수 / 단어t를 포함한 문서개수)\n",
        "\n",
        "s1 = 나는 오늘 공원을 갔다  : 단어개수 5\n",
        "s2 = 오늘 나는 도서관에 갔다\n",
        "s3 = 공원에서 나는 책을 읽었다\n",
        "\n",
        "tf('공원') = 1/5 = 0.2\n",
        "idf('공원') log(3/2) = 0.176\n",
        "tf-idf 는 두개를 곱해서 0.0352\n",
        "공원이라는 단어의 중요도는 0.0352\n",
        "```"
      ],
      "metadata": {
        "id": "3RhCjmqvLWcS"
      }
    },
    {
      "cell_type": "markdown",
      "source": [
        "문서분류\n",
        "```\n",
        "나이브 베이즈 분류기\n",
        " 베이즈 를 기반으로 한 확률 분류\n",
        " 특성간의 조건부 독립을 가정\n",
        "```\n",
        "베이즈 정리\n",
        "$$P(c \\mid \\mathbf{x}) = \\frac{P(c) \\cdot P(\\mathbf{x} \\mid c)}{P(\\mathbf{x})}$$\n",
        "```\n",
        "나이브 가정(조건부 독립 가정)\n",
        "```\n",
        "$$P(\\mathbf{x} \\mid c) = \\prod_{i=1}^{n} P(x_i \\mid c)$$\n",
        "최종 분류\n",
        "$$\\hat{c} = \\arg\\max_{c} P(c) \\prod_{i=1}^{n} P(x_i \\mid c)$$"
      ],
      "metadata": {
        "id": "IM7EK9PDLYhj"
      }
    },
    {
      "cell_type": "markdown",
      "source": [
        "문서분류"
      ],
      "metadata": {
        "id": "EOEZDwuQLciz"
      }
    },
    {
      "cell_type": "code",
      "source": [
        "from sklearn.naive_bayes import MultinomialNB\n",
        "from sklearn.metrics import accuracy_score,classification_report\n",
        "from sklearn.feature_extraction.text import TfidfVectorizer\n",
        "from konlpy.tag import Okt"
      ],
      "metadata": {
        "id": "hDczXuTFLUgy"
      },
      "execution_count": 15,
      "outputs": []
    },
    {
      "cell_type": "code",
      "source": [
        "!wget http://skt-lsl-nlp-model.s3.amazonaws.com/KoBERT/datasets/nsmc/ratings_train.txt\n",
        "!wget http://skt-lsl-nlp-model.s3.amazonaws.com/KoBERT/datasets/nsmc/ratings_test.txt"
      ],
      "metadata": {
        "colab": {
          "base_uri": "https://localhost:8080/"
        },
        "id": "5Yvoc1eULe6y",
        "outputId": "fd257976-f010-4f5c-c8e5-46283522cfb3"
      },
      "execution_count": 16,
      "outputs": [
        {
          "output_type": "stream",
          "name": "stdout",
          "text": [
            "--2025-04-21 07:05:25--  http://skt-lsl-nlp-model.s3.amazonaws.com/KoBERT/datasets/nsmc/ratings_train.txt\n",
            "Resolving skt-lsl-nlp-model.s3.amazonaws.com (skt-lsl-nlp-model.s3.amazonaws.com)... 52.219.148.46, 3.5.188.101, 52.219.60.126, ...\n",
            "Connecting to skt-lsl-nlp-model.s3.amazonaws.com (skt-lsl-nlp-model.s3.amazonaws.com)|52.219.148.46|:80... connected.\n",
            "HTTP request sent, awaiting response... 200 OK\n",
            "Length: 14628807 (14M) [text/plain]\n",
            "Saving to: ‘ratings_train.txt’\n",
            "\n",
            "ratings_train.txt   100%[===================>]  13.95M  6.47MB/s    in 2.2s    \n",
            "\n",
            "2025-04-21 07:05:28 (6.47 MB/s) - ‘ratings_train.txt’ saved [14628807/14628807]\n",
            "\n",
            "--2025-04-21 07:05:28--  http://skt-lsl-nlp-model.s3.amazonaws.com/KoBERT/datasets/nsmc/ratings_test.txt\n",
            "Resolving skt-lsl-nlp-model.s3.amazonaws.com (skt-lsl-nlp-model.s3.amazonaws.com)... 52.219.148.46, 3.5.188.101, 52.219.60.126, ...\n",
            "Connecting to skt-lsl-nlp-model.s3.amazonaws.com (skt-lsl-nlp-model.s3.amazonaws.com)|52.219.148.46|:80... connected.\n",
            "HTTP request sent, awaiting response... 200 OK\n",
            "Length: 4893335 (4.7M) [text/plain]\n",
            "Saving to: ‘ratings_test.txt’\n",
            "\n",
            "ratings_test.txt    100%[===================>]   4.67M  3.00MB/s    in 1.6s    \n",
            "\n",
            "2025-04-21 07:05:30 (3.00 MB/s) - ‘ratings_test.txt’ saved [4893335/4893335]\n",
            "\n"
          ]
        }
      ]
    },
    {
      "cell_type": "code",
      "source": [
        "import pandas as pd\n",
        "df = pd.read_csv('ratings_train.txt',sep='\\t')\n",
        "df.dropna(inplace=True)"
      ],
      "metadata": {
        "id": "8lNpCgy4LgIP"
      },
      "execution_count": 17,
      "outputs": []
    },
    {
      "cell_type": "code",
      "source": [
        "# 데이터셋 생성  Dataset 라이브러리 로드\n",
        "from torch.utils.data import Dataset, DataLoader\n",
        "class CustomDataset(Dataset):\n",
        "  def __init__(self,train=True):\n",
        "    self.train = train\n",
        "    df = pd.read_csv('ratings_train.txt',sep='\\t')\n",
        "    df.dropna(inplace=True)\n",
        "    df=df.iloc[:1000, :]\n",
        "    self.train_data = df['document'].to_numpy()\n",
        "    self.train_label = df['label'].to_numpy()\n",
        "    df = pd.read_csv('ratings_test.txt',sep='\\t')\n",
        "    self.test_data = df['document'].to_numpy()\n",
        "    self.test_label = df['label'].to_numpy()\n",
        "  def __len__(self):\n",
        "    if self.train:\n",
        "      return len(self.train_data)\n",
        "    else:\n",
        "      return len(self.test_data)\n",
        "  def __getitem__(self,idx):\n",
        "    if self.train:\n",
        "      return self.train_data[idx], int(self.train_label[idx])\n",
        "    else:\n",
        "      return self.test_data[idx], int(self.test_label[idx])\n",
        "\n",
        "custom = CustomDataset()\n",
        "data, label  = next(iter(custom))\n",
        "data,label"
      ],
      "metadata": {
        "colab": {
          "base_uri": "https://localhost:8080/"
        },
        "id": "mqaKctoALh_4",
        "outputId": "1f9e4b72-4f70-4e60-a370-e74682fb4042"
      },
      "execution_count": 18,
      "outputs": [
        {
          "output_type": "execute_result",
          "data": {
            "text/plain": [
              "('아 더빙.. 진짜 짜증나네요 목소리', 0)"
            ]
          },
          "metadata": {},
          "execution_count": 18
        }
      ]
    },
    {
      "cell_type": "code",
      "source": [
        "from tqdm import tqdm\n",
        "# 한국어 영화리뷰\n",
        "# 데이터셋 가져오기\n",
        "dataSet = CustomDataset()\n",
        "# 전처리 및 벡터화\n",
        "  # 품사 태깅 객체\n",
        "okt = Okt()\n",
        "  # 명사만 추출\n",
        "texts, labels = [],[]\n",
        "for text, label in tqdm(dataSet):\n",
        "  texts.append(' '.join(okt.nouns(text)))\n",
        "  labels.append(label)"
      ],
      "metadata": {
        "colab": {
          "base_uri": "https://localhost:8080/"
        },
        "id": "2lGCo0gxLmMo",
        "outputId": "44369e64-2504-4e6a-8141-6a9a97ff3b40"
      },
      "execution_count": 19,
      "outputs": [
        {
          "output_type": "stream",
          "name": "stderr",
          "text": [
            "100%|██████████| 1000/1000 [00:19<00:00, 51.41it/s]\n"
          ]
        }
      ]
    },
    {
      "cell_type": "code",
      "source": [
        "texts[:3], labels[:3]"
      ],
      "metadata": {
        "colab": {
          "base_uri": "https://localhost:8080/"
        },
        "id": "facj-cyVNpNH",
        "outputId": "a3255c23-9756-4b83-bee1-2dbafe089360"
      },
      "execution_count": 20,
      "outputs": [
        {
          "output_type": "execute_result",
          "data": {
            "text/plain": [
              "(['더빙 진짜 목소리', '흠 포스터 보고 초딩 영화 줄 오버 연기', '무재 밓었 다그 래서 추천'], [0, 1, 0])"
            ]
          },
          "metadata": {},
          "execution_count": 20
        }
      ]
    },
    {
      "cell_type": "code",
      "source": [
        "# 벡터화\n",
        "tfidf = TfidfVectorizer()\n",
        "X = tfidf.fit_transform(texts)\n",
        "from sklearn.model_selection import train_test_split\n",
        "X_tr, X_val, y_tr, y_val = train_test_split(X, labels, test_size=0.2, random_state=42)\n",
        "# 분류기\n",
        "model = MultinomialNB()\n",
        "model.fit(X_tr, y_tr)\n",
        "# 예측 및 평가\n",
        "y_pred = model.predict(X_val)\n",
        "print(classification_report(y_val, y_pred))"
      ],
      "metadata": {
        "colab": {
          "base_uri": "https://localhost:8080/"
        },
        "id": "mFb725_wPAnL",
        "outputId": "a38a3179-1c22-4445-b762-937572302037"
      },
      "execution_count": 21,
      "outputs": [
        {
          "output_type": "stream",
          "name": "stdout",
          "text": [
            "              precision    recall  f1-score   support\n",
            "\n",
            "           0       0.66      0.74      0.70       101\n",
            "           1       0.70      0.61      0.65        99\n",
            "\n",
            "    accuracy                           0.68       200\n",
            "   macro avg       0.68      0.67      0.67       200\n",
            "weighted avg       0.68      0.68      0.67       200\n",
            "\n"
          ]
        }
      ]
    },
    {
      "cell_type": "markdown",
      "source": [
        "N-gram\n",
        "```\n",
        "1-gram : 유니그램 : 단일단어(좋은, 영화)\n",
        "2-gram : 바이그램 : 연속된 두 단어(좋은 영화, 영화 재미)\n",
        "N-gram : 단어간 순서와 문맥을 일부 반영해 Bow의 단점을 보안\n",
        "```"
      ],
      "metadata": {
        "id": "pWsxeccaTjzD"
      }
    },
    {
      "cell_type": "code",
      "source": [
        "y_pred"
      ],
      "metadata": {
        "colab": {
          "base_uri": "https://localhost:8080/"
        },
        "id": "DH3HNl0yPxBa",
        "outputId": "1d0fd712-136f-414a-9624-ed4ac56da4f7"
      },
      "execution_count": 22,
      "outputs": [
        {
          "output_type": "execute_result",
          "data": {
            "text/plain": [
              "array([0, 0, 1, 1, 0, 1, 1, 0, 0, 1, 0, 0, 1, 1, 1, 0, 1, 0, 1, 0, 0, 0,\n",
              "       0, 1, 1, 1, 1, 0, 1, 0, 1, 0, 0, 0, 1, 1, 1, 0, 0, 0, 0, 1, 0, 0,\n",
              "       1, 0, 0, 1, 1, 1, 0, 0, 1, 0, 1, 1, 1, 0, 0, 1, 0, 0, 1, 1, 0, 1,\n",
              "       0, 1, 0, 0, 1, 1, 0, 1, 1, 1, 0, 1, 1, 0, 0, 1, 0, 1, 0, 1, 0, 0,\n",
              "       0, 1, 0, 0, 1, 1, 0, 1, 0, 0, 0, 0, 1, 0, 0, 0, 1, 1, 1, 1, 1, 1,\n",
              "       0, 0, 0, 0, 0, 1, 0, 1, 0, 0, 0, 0, 1, 1, 0, 0, 0, 0, 0, 0, 1, 1,\n",
              "       1, 0, 0, 0, 0, 0, 1, 0, 0, 1, 0, 0, 0, 1, 0, 0, 0, 0, 0, 0, 1, 0,\n",
              "       0, 0, 1, 1, 0, 0, 0, 0, 0, 0, 0, 0, 0, 1, 1, 0, 0, 1, 0, 1, 1, 1,\n",
              "       1, 1, 0, 1, 1, 1, 0, 0, 1, 0, 0, 0, 1, 0, 0, 0, 1, 1, 1, 0, 1, 1,\n",
              "       1, 0])"
            ]
          },
          "metadata": {},
          "execution_count": 22
        }
      ]
    },
    {
      "cell_type": "markdown",
      "source": [
        "차원축소"
      ],
      "metadata": {
        "id": "5uPTeLDiVNx9"
      }
    },
    {
      "cell_type": "code",
      "source": [
        "from sklearn.decomposition import TruncatedSVD   # 고차원 데이터를 저차원으로 압축하는 차원 축소기법\n",
        "# 희소행렬에 잘 동작\n",
        "# 회소행렬은 대부분의 원소가 0인 행렬\n",
        "# 만개의 단어가 있는 단어장\n",
        "from sklearn.feature_extraction.text import TfidfVectorizer\n",
        "import matplotlib.pyplot as plt"
      ],
      "metadata": {
        "id": "laj7tKz7VMF_"
      },
      "execution_count": 23,
      "outputs": []
    },
    {
      "cell_type": "code",
      "source": [
        "# 데이터 : 20뉴스그룹\n",
        "from sklearn.datasets import fetch_20newsgroups\n",
        "news = fetch_20newsgroups(subset='all', remove=('headers','footers','quotes'))\n",
        "texts = news.data"
      ],
      "metadata": {
        "id": "0LvNTj4OVOw-"
      },
      "execution_count": 24,
      "outputs": []
    },
    {
      "cell_type": "code",
      "source": [
        "# tf-idf 벡터화\n",
        "tfidf = TfidfVectorizer(max_features=1000)\n",
        "X = tfidf.fit_transform(texts)"
      ],
      "metadata": {
        "id": "OBPkQYTmVP_P"
      },
      "execution_count": 25,
      "outputs": []
    },
    {
      "cell_type": "code",
      "source": [
        "# LSA\n",
        "lsa = TruncatedSVD(n_components=2)\n",
        "X_lsa = lsa.fit_transform(X)"
      ],
      "metadata": {
        "id": "MuxV4ui4V8dI"
      },
      "execution_count": 26,
      "outputs": []
    },
    {
      "cell_type": "code",
      "source": [
        "plt.scatter(X_lsa[:,0], X_lsa[:,1], c=news.target)\n",
        "plt.show()"
      ],
      "metadata": {
        "colab": {
          "base_uri": "https://localhost:8080/",
          "height": 430
        },
        "id": "ooF4mdHeWHLq",
        "outputId": "8b2e3edd-31b7-4189-bcbb-275a0bf3e3c7"
      },
      "execution_count": 27,
      "outputs": [
        {
          "output_type": "display_data",
          "data": {
            "text/plain": [
              "<Figure size 640x480 with 1 Axes>"
            ],
            "image/png": "[encoded data removed]"
          },
          "metadata": {}
        }
      ]
    },
    {
      "cell_type": "markdown",
      "source": [
        "토픽 모델링\n",
        "```\n",
        "LDA(Latent Dirichlet Allocation)\n",
        "  각 주제들은 특정단어들의 확률 분포포 표현된다\n",
        "  예 뉴스기사는 \"정치\" \"경제\" \"문화\" 라는 주제가 혼합된 형태로 표현될수 있음\n",
        "  문장내의 주제를 해설 할 수 있다\n",
        "사용사례\n",
        "  문서 분류: 주제별로 분류\n",
        "  트랜드 분석 : 데이터에서 현재 주제의 흐름을 분석\n",
        "  추천 시스템 : 사용자의 관심사를 기반으로\n",
        "예시\n",
        "  나는 축구를 좋아한다\n",
        "  농구는 재미있다\n",
        "  축구와 농구는 인기있는 스포츠이다\n",
        "```"
      ],
      "metadata": {
        "id": "9i17eNzwXMmb"
      }
    },
    {
      "cell_type": "code",
      "source": [
        "from sklearn.decomposition import LatentDirichletAllocation\n",
        "from sklearn.feature_extraction.text import CountVectorizer\n",
        "# 뉴스기사\n",
        "news = fetch_20newsgroups(subset='all', remove=('headers','footers','quotes'))\n",
        "texts = news.data[:10000]\n",
        "# 벡터화\n",
        "vectorized = CountVectorizer(max_features=1000)\n",
        "X = vectorized.fit_transform(texts)\n",
        "# LDA 학습\n",
        "lda = LatentDirichletAllocation(n_components=5, random_state=42)\n",
        "lda.fit(X)\n",
        "# 토픽별 단어 출력\n",
        "vectorized.get_feature_names_out()"
      ],
      "metadata": {
        "colab": {
          "base_uri": "https://localhost:8080/"
        },
        "id": "BVs_CUQJWVwD",
        "outputId": "51ff826d-2ab4-457f-f24a-b03220637c2b"
      },
      "execution_count": 28,
      "outputs": [
        {
          "output_type": "execute_result",
          "data": {
            "text/plain": [
              "array(['00', '000', '02', '04', '10', '100', '11', '12', '128', '13',\n",
              "       '14', '145', '15', '16', '17', '18', '19', '1992', '1993', '1d9',\n",
              "       '1st', '1t', '20', '200', '21', '22', '23', '24', '25', '26', '27',\n",
              "       '28', '29', '30', '31', '32', '33', '34', '34u', '35', '37', '3d',\n",
              "       '3t', '40', '44', '45', '50', '55', '60', '70', '75', '75u', '80',\n",
              "       '800', '90', '92', '93', 'a86', 'able', 'about', 'above', 'ac',\n",
              "       'accept', 'access', 'according', 'action', 'actually', 'add',\n",
              "       'address', 'administration', 'advance', 'after', 'again',\n",
              "       'against', 'ago', 'agree', 'ah', 'air', 'al', 'algorithm', 'all',\n",
              "       'allow', 'almost', 'along', 'already', 'also', 'although',\n",
              "       'always', 'am', 'american', 'among', 'an', 'and', 'anonymous',\n",
              "       'another', 'answer', 'answers', 'anti', 'any', 'anybody', 'anyone',\n",
              "       'anything', 'anyway', 'appears', 'apple', 'application',\n",
              "       'applications', 'appreciated', 'april', 'arab', 'archive', 'are',\n",
              "       'area', 'aren', 'argument', 'armenian', 'armenians', 'around',\n",
              "       'art', 'article', 'as', 'ask', 'asked', 'asking', 'assume', 'at',\n",
              "       'author', 'available', 'away', 'ax', 'azerbaijan', 'b8f', 'back',\n",
              "       'bad', 'baseball', 'based', 'basic', 'basis', 'be', 'because',\n",
              "       'become', 'been', 'before', 'behind', 'being', 'believe', 'below',\n",
              "       'best', 'better', 'between', 'bhj', 'bible', 'big', 'bike', 'bill',\n",
              "       'bit', 'bits', 'black', 'blue', 'board', 'body', 'book', 'books',\n",
              "       'both', 'bought', 'box', 'break', 'buf', 'build', 'building',\n",
              "       'built', 'bus', 'business', 'but', 'buy', 'by', 'ca', 'cable',\n",
              "       'call', 'called', 'came', 'can', 'canada', 'cancer', 'cannot',\n",
              "       'car', 'card', 'cards', 'care', 'cars', 'case', 'cases', 'cause',\n",
              "       'cd', 'center', 'certain', 'certainly', 'chance', 'change',\n",
              "       'check', 'child', 'children', 'chip', 'choice', 'christ',\n",
              "       'christian', 'christianity', 'christians', 'church', 'city',\n",
              "       'claim', 'claims', 'clear', 'clinton', 'clipper', 'close', 'code',\n",
              "       'color', 'com', 'come', 'comes', 'coming', 'command', 'comments',\n",
              "       'common', 'comp', 'company', 'complete', 'completely', 'computer',\n",
              "       'condition', 'consider', 'considered', 'contact', 'contains',\n",
              "       'context', 'continue', 'control', 'controller', 'convert', 'copy',\n",
              "       'correct', 'cost', 'could', 'couldn', 'country', 'couple',\n",
              "       'course', 'court', 'cover', 'create', 'created', 'crime', 'cs',\n",
              "       'current', 'currently', 'cut', 'cx', 'data', 'date', 'david',\n",
              "       'day', 'days', 'de', 'dead', 'deal', 'death', 'dec', 'defense',\n",
              "       'define', 'deleted', 'design', 'designed', 'details',\n",
              "       'development', 'device', 'did', 'didn', 'difference', 'different',\n",
              "       'directly', 'directory', 'discussion', 'disease', 'disk',\n",
              "       'display', 'do', 'does', 'doesn', 'doing', 'don', 'done', 'dos',\n",
              "       'double', 'doubt', 'down', 'dr', 'drive', 'driver', 'drivers',\n",
              "       'drug', 'due', 'during', 'each', 'early', 'earth', 'easy', 'ed',\n",
              "       'edu', 'effect', 'either', 'else', 'email', 'encryption', 'end',\n",
              "       'engine', 'enough', 'entire', 'entry', 'error', 'especially',\n",
              "       'etc', 'even', 'ever', 'every', 'everyone', 'everything',\n",
              "       'evidence', 'exactly', 'example', 'excellent', 'except', 'exist',\n",
              "       'expect', 'experience', 'export', 'face', 'fact', 'faith',\n",
              "       'family', 'faq', 'far', 'fast', 'faster', 'father', 'fax', 'fbi',\n",
              "       'federal', 'feel', 'few', 'field', 'file', 'files', 'finally',\n",
              "       'find', 'fine', 'fire', 'first', 'five', 'folks', 'follow',\n",
              "       'following', 'fonts', 'food', 'for', 'force', 'form', 'format',\n",
              "       'found', 'four', 'free', 'friend', 'from', 'front', 'ftp', 'full',\n",
              "       'function', 'further', 'future', 'g9v', 'game', 'games', 'gas',\n",
              "       'gave', 'general', 'get', 'gets', 'getting', 'gif', 'give',\n",
              "       'given', 'gives', 'giz', 'go', 'goal', 'god', 'goes', 'going',\n",
              "       'good', 'got', 'gov', 'government', 'graphics', 'great', 'ground',\n",
              "       'group', 'groups', 'guess', 'gun', 'guns', 'guy', 'had', 'half',\n",
              "       'hand', 'happen', 'happened', 'hard', 'hardware', 'has', 'have',\n",
              "       'haven', 'having', 'he', 'head', 'health', 'hear', 'heard', 'hell',\n",
              "       'help', 'her', 'here', 'hi', 'high', 'higher', 'him', 'himself',\n",
              "       'his', 'history', 'hit', 'hockey', 'hold', 'home', 'hope', 'hours',\n",
              "       'house', 'how', 'however', 'hp', 'human', 'ibm', 'idea', 'ideas',\n",
              "       'if', 'ii', 'image', 'images', 'important', 'in', 'include',\n",
              "       'included', 'includes', 'including', 'individual', 'info',\n",
              "       'information', 'input', 'instead', 'interest', 'interested',\n",
              "       'interesting', 'interface', 'international', 'internet', 'into',\n",
              "       'involved', 'is', 'isn', 'israel', 'israeli', 'issue', 'issues',\n",
              "       'it', 'its', 'itself', 'jesus', 'jewish', 'jews', 'job', 'john',\n",
              "       'jpeg', 'just', 'keep', 'key', 'keyboard', 'keys', 'kill',\n",
              "       'killed', 'kind', 'know', 'knowledge', 'known', 'knows', 'la',\n",
              "       'land', 'language', 'large', 'last', 'later', 'law', 'laws',\n",
              "       'league', 'least', 'leave', 'left', 'legal', 'less', 'let',\n",
              "       'level', 'library', 'life', 'light', 'like', 'likely', 'line',\n",
              "       'lines', 'list', 'little', 'live', 'll', 'local', 'long', 'longer',\n",
              "       'look', 'looked', 'looking', 'looks', 'lord', 'lost', 'lot',\n",
              "       'lots', 'love', 'low', 'mac', 'machine', 'machines', 'made',\n",
              "       'mail', 'main', 'major', 'make', 'makes', 'making', 'man',\n",
              "       'manager', 'manual', 'many', 'mark', 'mass', 'matter', 'max',\n",
              "       'may', 'maybe', 'me', 'mean', 'means', 'medical', 'members',\n",
              "       'memory', 'men', 'mentioned', 'message', 'mhz', 'might', 'miles',\n",
              "       'military', 'million', 'mind', 'mine', 'mit', 'mode', 'model',\n",
              "       'modem', 'money', 'monitor', 'months', 'more', 'most', 'motif',\n",
              "       'mouse', 'move', 'mr', 'ms', 'much', 'muslim', 'muslims', 'must',\n",
              "       'my', 'myself', 'name', 'nasa', 'national', 'nature', 'near',\n",
              "       'necessary', 'need', 'needed', 'needs', 'net', 'network', 'never',\n",
              "       'new', 'news', 'newsgroup', 'next', 'nice', 'night', 'no', 'non',\n",
              "       'none', 'nor', 'normal', 'not', 'note', 'nothing', 'now', 'number',\n",
              "       'numbers', 'obviously', 'of', 'off', 'offer', 'office', 'often',\n",
              "       'oh', 'ok', 'old', 'on', 'once', 'one', 'ones', 'only', 'open',\n",
              "       'opinion', 'or', 'order', 'original', 'os', 'other', 'others',\n",
              "       'otherwise', 'our', 'out', 'output', 'outside', 'over', 'own',\n",
              "       'package', 'page', 'part', 'particular', 'parts', 'past',\n",
              "       'patients', 'paul', 'pay', 'pc', 'people', 'per', 'performance',\n",
              "       'perhaps', 'period', 'person', 'personal', 'phone', 'pl', 'place',\n",
              "       'plan', 'play', 'player', 'players', 'please', 'plus', 'point',\n",
              "       'points', 'police', 'policy', 'political', 'population', 'port',\n",
              "       'position', 'possible', 'post', 'posted', 'posting', 'power', 'pp',\n",
              "       'present', 'president', 'press', 'pretty', 'price', 'privacy',\n",
              "       'private', 'probably', 'problem', 'problems', 'process', 'program',\n",
              "       'programs', 'project', 'provide', 'pts', 'pub', 'public',\n",
              "       'purpose', 'put', 'quality', 'question', 'questions', 'quite',\n",
              "       'radio', 'ram', 'rate', 'rather', 'ray', 're', 'read', 'reading',\n",
              "       'real', 'really', 'reason', 'received', 'recently', 'record',\n",
              "       'red', 'reference', 'related', 'release', 'religion', 'religious',\n",
              "       'remember', 'reply', 'report', 'request', 'required', 'research',\n",
              "       'response', 'rest', 'result', 'results', 'return', 'right',\n",
              "       'rights', 'road', 'rules', 'run', 'running', 'runs', 'russian',\n",
              "       'said', 'sale', 'same', 'san', 'save', 'saw', 'say', 'saying',\n",
              "       'says', 'school', 'science', 'screen', 'scsi', 'season', 'second',\n",
              "       'section', 'security', 'see', 'seem', 'seems', 'seen', 'self',\n",
              "       'sell', 'send', 'sense', 'sent', 'serial', 'series', 'serious',\n",
              "       'server', 'service', 'set', 'several', 'shall', 'she', 'short',\n",
              "       'shot', 'should', 'show', 'side', 'similar', 'simple', 'simply',\n",
              "       'sin', 'since', 'single', 'site', 'situation', 'size', 'small',\n",
              "       'so', 'society', 'software', 'some', 'someone', 'something',\n",
              "       'sometimes', 'son', 'soon', 'sorry', 'sort', 'sound', 'sounds',\n",
              "       'source', 'sources', 'soviet', 'space', 'special', 'specific',\n",
              "       'speed', 'st', 'standard', 'start', 'started', 'state',\n",
              "       'statement', 'states', 'station', 'still', 'stop', 'story',\n",
              "       'strong', 'study', 'stuff', 'subject', 'such', 'suggest', 'sun',\n",
              "       'support', 'sure', 'system', 'systems', 'take', 'taken', 'taking',\n",
              "       'talk', 'talking', 'tape', 'tar', 'team', 'technology', 'tell',\n",
              "       'term', 'test', 'text', 'than', 'thank', 'thanks', 'that', 'the',\n",
              "       'their', 'them', 'themselves', 'then', 'theory', 'there',\n",
              "       'therefore', 'these', 'they', 'thing', 'things', 'think', 'third',\n",
              "       'this', 'those', 'though', 'thought', 'three', 'through', 'thus',\n",
              "       'time', 'times', 'title', 'to', 'today', 'together', 'told', 'too',\n",
              "       'took', 'top', 'total', 'tried', 'true', 'truth', 'try', 'trying',\n",
              "       'turkish', 'turn', 'two', 'type', 'uk', 'under', 'understand',\n",
              "       'united', 'university', 'unix', 'unless', 'until', 'up', 'upon',\n",
              "       'us', 'usa', 'use', 'used', 'useful', 'usenet', 'user', 'users',\n",
              "       'uses', 'using', 'usually', 'value', 'van', 'various', 've',\n",
              "       'version', 'very', 'via', 'video', 'view', 'volume', 'vs', 'w7',\n",
              "       'want', 'wanted', 'wants', 'war', 'was', 'washington', 'wasn',\n",
              "       'water', 'way', 'we', 'week', 'weeks', 'well', 'went', 'were',\n",
              "       'what', 'whatever', 'when', 'where', 'whether', 'which', 'while',\n",
              "       'white', 'who', 'whole', 'why', 'will', 'willing', 'win', 'window',\n",
              "       'windows', 'with', 'within', 'without', 'women', 'won', 'word',\n",
              "       'words', 'work', 'working', 'works', 'world', 'worth', 'would',\n",
              "       'wouldn', 'write', 'written', 'wrong', 'x11', 'year', 'years',\n",
              "       'yes', 'yet', 'york', 'you', 'young', 'your', 'yourself'],\n",
              "      dtype=object)"
            ]
          },
          "metadata": {},
          "execution_count": 28
        }
      ]
    },
    {
      "cell_type": "code",
      "source": [
        "for i, topic in enumerate(lda.components_):\n",
        "  print(topic.argsort()[-10:])\n",
        "  break"
      ],
      "metadata": {
        "colab": {
          "base_uri": "https://localhost:8080/"
        },
        "id": "WZG6qWVMYgCx",
        "outputId": "b714bd26-5b54-4b4f-e744-530ede113072"
      },
      "execution_count": 29,
      "outputs": [
        {
          "output_type": "stream",
          "name": "stdout",
          "text": [
            "[ 57  21  19  38 257 131 674 379 559 129]\n"
          ]
        }
      ]
    },
    {
      "cell_type": "code",
      "source": [
        "# 토픽별 단어 출력\n",
        "terms = vectorized.get_feature_names_out()\n",
        "for i, topic in enumerate(lda.components_):\n",
        "  top_terms =  [ terms[j]for j in topic.argsort()[-10:] ]\n",
        "  print(f'Topic: {i+1} : {top_terms}')"
      ],
      "metadata": {
        "colab": {
          "base_uri": "https://localhost:8080/"
        },
        "id": "0NCGlLLkbadt",
        "outputId": "60dbab39-0c7f-4ebf-872f-25adbe36d209"
      },
      "execution_count": 30,
      "outputs": [
        {
          "output_type": "stream",
          "name": "stdout",
          "text": [
            "Topic: 1 : ['a86', '1t', '1d9', '34u', 'cx', 'b8f', 'pl', 'g9v', 'max', 'ax']\n",
            "Topic: 2 : ['14', '50', '25', '16', '11', '15', '12', '20', '00', '10']\n",
            "Topic: 3 : ['have', 'not', 'and', 'of', 'it', 'the', 'is', 'you', 'that', 'to']\n",
            "Topic: 4 : ['with', 'it', 'on', 'in', 'is', 'for', 'of', 'and', 'to', 'the']\n",
            "Topic: 5 : ['on', 'for', 'was', 'is', 'that', 'in', 'to', 'and', 'of', 'the']\n"
          ]
        }
      ]
    },
    {
      "cell_type": "markdown",
      "source": [
        "정리\n",
        "```\n",
        "문장을 - 수치화\n",
        "  BOW : 문장에서 단어의 등장횟수\n",
        "  TF-IDF : 문장내의 단어의 중요도를 반영\n",
        "  차원축소 : 피처가 많아서 축소 SVD 기법을 이용한 축소\n",
        "  토픽을 분석 :문장을 몇개의 토픽으로 분리하고 각 토픽별 중요 단어분석\n",
        "  감정 분석(분류) : 문장의 라벨링을 줘서 분류문제로 해결\n",
        "```"
      ],
      "metadata": {
        "id": "rXPw2-E4cQMz"
      }
    },
    {
      "cell_type": "markdown",
      "source": [
        "텍스트 마이닝 + 딥러닝\n",
        "```\n",
        "인공신경망\n",
        "RNN\n",
        "워드 임베딩\n",
        "CNN : 이미지 뿐만 아니라 텍스트 및 시계열 뛰어난 성능\n",
        "  1D 합성곱 N-gram과 비슷한 패턴\n",
        "어텐션과 트랜스포머\n",
        "  어텐션 : 중요한 단어에 가중치를 부여\n",
        "  트랜스포머 : 어텐션을 이용한 아키텍처 RNN 없이 시퀀스 처리\n",
        "  구성 : 셀프어텐션, 멀티헤드 어텐션, 피드포워드 어텐션\n",
        "  병령처리와 정거리 의존성 학습 RNN/LSTM 대처  \n",
        "BERT\n",
        "  트랜스포머 계열의 자연어모델 : 양방향 문맥 학습 - 전이학습\n",
        "  fine-tunning(미세조정) : 분류, 질의 응답\n",
        "  KoBERT  \n",
        "```"
      ],
      "metadata": {
        "id": "tj-wmyo7wBJh"
      }
    },
    {
      "cell_type": "markdown",
      "source": [
        "1. 인공신경망 이용 텍스트 분류\n",
        "```\n",
        "데이터 : 네이버영화 긍정부정\n",
        "전처리\n",
        "  품사태깅을 통해 명사추출\n",
        "  불용어사전을 통해서 불용어 제거\n",
        "TF-IDF 벡터화\n",
        "모델정의  \n",
        "```"
      ],
      "metadata": {
        "id": "tByGdU-5xLGi"
      }
    },
    {
      "cell_type": "markdown",
      "source": [
        "데이터 취득"
      ],
      "metadata": {
        "id": "qIk_cvV3xMB7"
      }
    },
    {
      "cell_type": "code",
      "source": [
        "import pandas as pd\n",
        "df = pd.read_csv('ratings_train.txt',sep='\\t').dropna()[:10000]\n",
        "texts = df.document.to_numpy()\n",
        "labels = df.label.to_numpy()\n",
        "texts[2]"
      ],
      "metadata": {
        "colab": {
          "base_uri": "https://localhost:8080/",
          "height": 35
        },
        "id": "A5Gj4FCZbc69",
        "outputId": "0be23b92-ee7f-4fef-bf1c-ca5899bd33b0"
      },
      "execution_count": 31,
      "outputs": [
        {
          "output_type": "execute_result",
          "data": {
            "text/plain": [
              "'너무재밓었다그래서보는것을추천한다'"
            ],
            "application/vnd.google.colaboratory.intrinsic+json": {
              "type": "string"
            }
          },
          "metadata": {},
          "execution_count": 31
        }
      ]
    },
    {
      "cell_type": "markdown",
      "source": [
        "전처리&불용어 처리"
      ],
      "metadata": {
        "id": "W9Gb--cpxvua"
      }
    },
    {
      "cell_type": "code",
      "source": [
        "# !pip install ko-ww-stopwords -q\n",
        "from ko_ww_stopwords.stop_words import ko_ww_stop_words\n",
        "from konlpy.tag import Okt\n",
        "stop_words = list(ko_ww_stop_words)\n",
        "print(stop_words[:10])\n",
        "\n",
        "okt = Okt()\n",
        "okt_nouns = [ okt.nouns(text) for text in texts ]"
      ],
      "metadata": {
        "colab": {
          "base_uri": "https://localhost:8080/"
        },
        "id": "FqGCDLeh3kYC",
        "outputId": "63d4d0d4-775d-4ec0-b00f-ad0bf22554b6"
      },
      "execution_count": 32,
      "outputs": [
        {
          "output_type": "stream",
          "name": "stdout",
          "text": [
            "['또', '헉', '자신', '나', '이것들', '혼자', '삼', '잠깐', '저', '일']\n"
          ]
        }
      ]
    },
    {
      "cell_type": "code",
      "source": [
        "okt_texts = []\n",
        "for words in okt_nouns:\n",
        "  temp = ' '.join([word for word in words if len(word) >=2 and word not in stop_words])\n",
        "  okt_texts.append(temp)\n",
        "\n",
        "okt_texts[:5]"
      ],
      "metadata": {
        "colab": {
          "base_uri": "https://localhost:8080/"
        },
        "id": "pZrZQfhg-olD",
        "outputId": "84f0f8f4-e1a1-4e21-d643-62e4223e19df"
      },
      "execution_count": 33,
      "outputs": [
        {
          "output_type": "execute_result",
          "data": {
            "text/plain": [
              "['더빙 진짜 목소리',\n",
              " '포스터 보고 초딩 영화 오버 연기',\n",
              " '무재 밓었 다그 래서 추천',\n",
              " '교도소 이야기 구먼 재미 평점 조정',\n",
              " '몬페 연기 영화 스파이더맨 커스틴 던스트']"
            ]
          },
          "metadata": {},
          "execution_count": 33
        }
      ]
    },
    {
      "cell_type": "markdown",
      "source": [
        "TF-IDF 벡터화"
      ],
      "metadata": {
        "id": "5qD2rsZ8xjNE"
      }
    },
    {
      "cell_type": "code",
      "source": [
        "import torch\n",
        "from sklearn.feature_extraction.text import TfidfVectorizer\n",
        "tfidf = TfidfVectorizer(max_features=1000)\n",
        "X =  tfidf.fit_transform(okt_texts).toarray()\n",
        "X = torch.tensor(X, dtype=torch.float32)\n",
        "y = torch.tensor(labels, dtype=torch.float32)"
      ],
      "metadata": {
        "id": "0PQQYMvExhPH"
      },
      "execution_count": 34,
      "outputs": []
    },
    {
      "cell_type": "code",
      "source": [
        "X.shape, y.shape"
      ],
      "metadata": {
        "colab": {
          "base_uri": "https://localhost:8080/"
        },
        "id": "9fE-H7zj3msM",
        "outputId": "ea1a3eba-a2aa-4eaf-9d46-0ab86f6af303"
      },
      "execution_count": 35,
      "outputs": [
        {
          "output_type": "execute_result",
          "data": {
            "text/plain": [
              "(torch.Size([10000, 1000]), torch.Size([10000]))"
            ]
          },
          "metadata": {},
          "execution_count": 35
        }
      ]
    },
    {
      "cell_type": "markdown",
      "source": [
        "MLP\n",
        "```\n",
        "fc1- relu - fc1\n",
        "```"
      ],
      "metadata": {
        "id": "wOWSJJ7t3rhv"
      }
    },
    {
      "cell_type": "code",
      "source": [
        "import torch.nn as nn\n",
        "class MLP(nn.Module):\n",
        "  def __init__(self):\n",
        "    super().__init__()\n",
        "    self.fc1 = nn.Linear(1000,500)\n",
        "    self.fc2 = nn.Linear(500,1)\n",
        "    self.relu = nn.ReLU()\n",
        "  def forward(self,x):\n",
        "    x = self.relu(self.fc1(x))\n",
        "    x = self.fc2(x)\n",
        "    return x\n",
        "model = MLP()\n",
        "model"
      ],
      "metadata": {
        "colab": {
          "base_uri": "https://localhost:8080/"
        },
        "id": "9-ZtfV4P3oZm",
        "outputId": "8d8a4c9c-b036-458a-bcf6-f7fb9f1397c7"
      },
      "execution_count": 36,
      "outputs": [
        {
          "output_type": "execute_result",
          "data": {
            "text/plain": [
              "MLP(\n",
              "  (fc1): Linear(in_features=1000, out_features=500, bias=True)\n",
              "  (fc2): Linear(in_features=500, out_features=1, bias=True)\n",
              "  (relu): ReLU()\n",
              ")"
            ]
          },
          "metadata": {},
          "execution_count": 36
        }
      ]
    },
    {
      "cell_type": "code",
      "source": [
        "from tqdm import tqdm\n",
        "loss_fn = nn.BCEWithLogitsLoss()\n",
        "optim = torch.optim.Adam(model.parameters(), lr=0.01)\n",
        "# 학습\n",
        "epochs = 100\n",
        "device = 'cuda' if torch.cuda.is_available() else 'cpu'\n",
        "all_loss = 0.0\n",
        "\n",
        "model.to(device)\n",
        "X,y = X.to(device), y.to(device)\n",
        "for epoch in range(epochs):\n",
        "  y_pred = model(X)\n",
        "  loss = loss_fn(y_pred,y.unsqueeze(dim=-1))\n",
        "  loss.backward()\n",
        "  optim.step()\n",
        "  optim.zero_grad()\n",
        "  if epoch == 10:\n",
        "    print(f'loss: {loss.item()}')"
      ],
      "metadata": {
        "colab": {
          "base_uri": "https://localhost:8080/"
        },
        "id": "FXmbqzcx_oo4",
        "outputId": "807136d8-ef3a-44b2-a80d-d16f30f5ab65"
      },
      "execution_count": 37,
      "outputs": [
        {
          "output_type": "stream",
          "name": "stdout",
          "text": [
            "loss: 0.48046377301216125\n"
          ]
        }
      ]
    },
    {
      "cell_type": "markdown",
      "source": [
        "LSTM 감성분석\n",
        "```\n",
        "Word2Vec 모델 학습 : 각 단어를 벡터로 임베딩\n",
        "```"
      ],
      "metadata": {
        "id": "Zk7di2X-Gg-t"
      }
    },
    {
      "cell_type": "code",
      "source": [
        "!pip uninstall numpy\n",
        "!pip install numpy==1.23.5"
      ],
      "metadata": {
        "colab": {
          "base_uri": "https://localhost:8080/",
          "height": 755
        },
        "id": "lMrmzbSxL_nz",
        "outputId": "00e7f151-003d-4e64-a233-77b2adc80c89"
      },
      "execution_count": 6,
      "outputs": [
        {
          "output_type": "stream",
          "name": "stdout",
          "text": [
            "Found existing installation: numpy 2.2.5\n",
            "Uninstalling numpy-2.2.5:\n",
            "  Would remove:\n",
            "    /usr/local/bin/f2py\n",
            "    /usr/local/bin/numpy-config\n",
            "    /usr/local/lib/python3.11/dist-packages/numpy-2.2.5.dist-info/*\n",
            "    /usr/local/lib/python3.11/dist-packages/numpy.libs/libgfortran-040039e1-0352e75f.so.5.0.0\n",
            "    /usr/local/lib/python3.11/dist-packages/numpy.libs/libquadmath-96973f99-934c22de.so.0.0.0\n",
            "    /usr/local/lib/python3.11/dist-packages/numpy.libs/libscipy_openblas64_-6bb31eeb.so\n",
            "    /usr/local/lib/python3.11/dist-packages/numpy/*\n",
            "Proceed (Y/n)? y\n",
            "  Successfully uninstalled numpy-2.2.5\n",
            "Collecting numpy==1.23.5\n",
            "  Downloading numpy-1.23.5-cp311-cp311-manylinux_2_17_x86_64.manylinux2014_x86_64.whl.metadata (2.3 kB)\n",
            "Downloading numpy-1.23.5-cp311-cp311-manylinux_2_17_x86_64.manylinux2014_x86_64.whl (17.1 MB)\n",
            "\u001b[2K   \u001b[90m━━━━━━━━━━━━━━━━━━━━━━━━━━━━━━━━━━━━━━━━\u001b[0m \u001b[32m17.1/17.1 MB\u001b[0m \u001b[31m23.0 MB/s\u001b[0m eta \u001b[36m0:00:00\u001b[0m\n",
            "\u001b[?25hInstalling collected packages: numpy\n",
            "\u001b[31mERROR: pip's dependency resolver does not currently take into account all the packages that are installed. This behaviour is the source of the following dependency conflicts.\n",
            "blis 1.0.2 requires numpy<3.0.0,>=2.0.0, but you have numpy 1.23.5 which is incompatible.\n",
            "thinc 9.1.1 requires numpy<3.0.0,>=2.0.0, but you have numpy 1.23.5 which is incompatible.\n",
            "spacy 3.8.5 requires thinc<8.4.0,>=8.3.4, but you have thinc 9.1.1 which is incompatible.\n",
            "chex 0.1.89 requires numpy>=1.24.1, but you have numpy 1.23.5 which is incompatible.\n",
            "xarray 2025.1.2 requires numpy>=1.24, but you have numpy 1.23.5 which is incompatible.\n",
            "bigframes 1.42.0 requires numpy>=1.24.0, but you have numpy 1.23.5 which is incompatible.\n",
            "albumentations 2.0.5 requires numpy>=1.24.4, but you have numpy 1.23.5 which is incompatible.\n",
            "scikit-image 0.25.2 requires numpy>=1.24, but you have numpy 1.23.5 which is incompatible.\n",
            "jax 0.5.2 requires numpy>=1.25, but you have numpy 1.23.5 which is incompatible.\n",
            "albucore 0.0.23 requires numpy>=1.24.4, but you have numpy 1.23.5 which is incompatible.\n",
            "blosc2 3.3.0 requires numpy>=1.26, but you have numpy 1.23.5 which is incompatible.\n",
            "jaxlib 0.5.1 requires numpy>=1.25, but you have numpy 1.23.5 which is incompatible.\n",
            "treescope 0.1.9 requires numpy>=1.25.2, but you have numpy 1.23.5 which is incompatible.\n",
            "imbalanced-learn 0.13.0 requires numpy<3,>=1.24.3, but you have numpy 1.23.5 which is incompatible.\n",
            "pymc 5.21.2 requires numpy>=1.25.0, but you have numpy 1.23.5 which is incompatible.\n",
            "tensorflow 2.18.0 requires numpy<2.1.0,>=1.26.0, but you have numpy 1.23.5 which is incompatible.\u001b[0m\u001b[31m\n",
            "\u001b[0mSuccessfully installed numpy-1.23.5\n"
          ]
        },
        {
          "output_type": "display_data",
          "data": {
            "application/vnd.colab-display-data+json": {
              "pip_warning": {
                "packages": [
                  "numpy"
                ]
              },
              "id": "1a5e82f95837424cbf9192ccdf89b1bf"
            }
          },
          "metadata": {}
        }
      ]
    },
    {
      "cell_type": "code",
      "source": [
        "!pip uninstall gensim\n",
        "!pip install gensim"
      ],
      "metadata": {
        "colab": {
          "base_uri": "https://localhost:8080/"
        },
        "id": "hypRithcMB1b",
        "outputId": "db95d4c8-9fe2-48f4-95d0-79c3de1e3de8"
      },
      "execution_count": 1,
      "outputs": [
        {
          "output_type": "stream",
          "name": "stdout",
          "text": [
            "Found existing installation: gensim 4.3.3\n",
            "Uninstalling gensim-4.3.3:\n",
            "  Would remove:\n",
            "    /usr/local/lib/python3.11/dist-packages/gensim-4.3.3.dist-info/*\n",
            "    /usr/local/lib/python3.11/dist-packages/gensim/*\n",
            "Proceed (Y/n)? y\n",
            "  Successfully uninstalled gensim-4.3.3\n",
            "Collecting gensim\n",
            "  Using cached gensim-4.3.3-cp311-cp311-manylinux_2_17_x86_64.manylinux2014_x86_64.whl.metadata (8.1 kB)\n",
            "Requirement already satisfied: numpy<2.0,>=1.18.5 in /usr/local/lib/python3.11/dist-packages (from gensim) (1.24.3)\n",
            "Requirement already satisfied: scipy<1.14.0,>=1.7.0 in /usr/local/lib/python3.11/dist-packages (from gensim) (1.13.1)\n",
            "Requirement already satisfied: smart-open>=1.8.1 in /usr/local/lib/python3.11/dist-packages (from gensim) (7.1.0)\n",
            "Requirement already satisfied: wrapt in /usr/local/lib/python3.11/dist-packages (from smart-open>=1.8.1->gensim) (1.17.2)\n",
            "Using cached gensim-4.3.3-cp311-cp311-manylinux_2_17_x86_64.manylinux2014_x86_64.whl (26.7 MB)\n",
            "Installing collected packages: gensim\n",
            "Successfully installed gensim-4.3.3\n"
          ]
        }
      ]
    },
    {
      "cell_type": "code",
      "source": [
        "!pip install --upgrade thinc"
      ],
      "metadata": {
        "colab": {
          "base_uri": "https://localhost:8080/"
        },
        "id": "7NtevRb7MIjE",
        "outputId": "0fd3cceb-188a-4654-a5cf-ff06fa65d005"
      },
      "execution_count": 2,
      "outputs": [
        {
          "output_type": "stream",
          "name": "stdout",
          "text": [
            "Requirement already satisfied: thinc in /usr/local/lib/python3.11/dist-packages (8.3.6)\n",
            "Collecting thinc\n",
            "  Downloading thinc-9.1.1-cp311-cp311-manylinux_2_17_x86_64.manylinux2014_x86_64.whl.metadata (14 kB)\n",
            "Collecting blis<1.1.0,>=1.0.0 (from thinc)\n",
            "  Downloading blis-1.0.2-cp311-cp311-manylinux_2_17_x86_64.manylinux2014_x86_64.whl.metadata (7.6 kB)\n",
            "Requirement already satisfied: murmurhash<1.1.0,>=1.0.2 in /usr/local/lib/python3.11/dist-packages (from thinc) (1.0.12)\n",
            "Requirement already satisfied: cymem<2.1.0,>=2.0.2 in /usr/local/lib/python3.11/dist-packages (from thinc) (2.0.11)\n",
            "Requirement already satisfied: preshed<3.1.0,>=3.0.2 in /usr/local/lib/python3.11/dist-packages (from thinc) (3.0.9)\n",
            "Requirement already satisfied: wasabi<1.2.0,>=0.8.1 in /usr/local/lib/python3.11/dist-packages (from thinc) (1.1.3)\n",
            "Requirement already satisfied: srsly<3.0.0,>=2.4.0 in /usr/local/lib/python3.11/dist-packages (from thinc) (2.5.1)\n",
            "Requirement already satisfied: catalogue<2.1.0,>=2.0.4 in /usr/local/lib/python3.11/dist-packages (from thinc) (2.0.10)\n",
            "Requirement already satisfied: confection<1.0.0,>=0.0.1 in /usr/local/lib/python3.11/dist-packages (from thinc) (0.1.5)\n",
            "Requirement already satisfied: setuptools in /usr/local/lib/python3.11/dist-packages (from thinc) (75.2.0)\n",
            "Collecting numpy<3.0.0,>=2.0.0 (from thinc)\n",
            "  Downloading numpy-2.2.5-cp311-cp311-manylinux_2_17_x86_64.manylinux2014_x86_64.whl.metadata (62 kB)\n",
            "\u001b[2K     \u001b[90m━━━━━━━━━━━━━━━━━━━━━━━━━━━━━━━━━━━━━━━━\u001b[0m \u001b[32m62.0/62.0 kB\u001b[0m \u001b[31m3.3 MB/s\u001b[0m eta \u001b[36m0:00:00\u001b[0m\n",
            "\u001b[?25hRequirement already satisfied: pydantic!=1.8,!=1.8.1,<3.0.0,>=1.7.4 in /usr/local/lib/python3.11/dist-packages (from thinc) (2.11.3)\n",
            "Requirement already satisfied: packaging>=20.0 in /usr/local/lib/python3.11/dist-packages (from thinc) (24.2)\n",
            "Requirement already satisfied: annotated-types>=0.6.0 in /usr/local/lib/python3.11/dist-packages (from pydantic!=1.8,!=1.8.1,<3.0.0,>=1.7.4->thinc) (0.7.0)\n",
            "Requirement already satisfied: pydantic-core==2.33.1 in /usr/local/lib/python3.11/dist-packages (from pydantic!=1.8,!=1.8.1,<3.0.0,>=1.7.4->thinc) (2.33.1)\n",
            "Requirement already satisfied: typing-extensions>=4.12.2 in /usr/local/lib/python3.11/dist-packages (from pydantic!=1.8,!=1.8.1,<3.0.0,>=1.7.4->thinc) (4.13.2)\n",
            "Requirement already satisfied: typing-inspection>=0.4.0 in /usr/local/lib/python3.11/dist-packages (from pydantic!=1.8,!=1.8.1,<3.0.0,>=1.7.4->thinc) (0.4.0)\n",
            "Downloading thinc-9.1.1-cp311-cp311-manylinux_2_17_x86_64.manylinux2014_x86_64.whl (3.4 MB)\n",
            "\u001b[2K   \u001b[90m━━━━━━━━━━━━━━━━━━━━━━━━━━━━━━━━━━━━━━━━\u001b[0m \u001b[32m3.4/3.4 MB\u001b[0m \u001b[31m32.3 MB/s\u001b[0m eta \u001b[36m0:00:00\u001b[0m\n",
            "\u001b[?25hDownloading blis-1.0.2-cp311-cp311-manylinux_2_17_x86_64.manylinux2014_x86_64.whl (9.3 MB)\n",
            "\u001b[2K   \u001b[90m━━━━━━━━━━━━━━━━━━━━━━━━━━━━━━━━━━━━━━━━\u001b[0m \u001b[32m9.3/9.3 MB\u001b[0m \u001b[31m29.1 MB/s\u001b[0m eta \u001b[36m0:00:00\u001b[0m\n",
            "\u001b[?25hDownloading numpy-2.2.5-cp311-cp311-manylinux_2_17_x86_64.manylinux2014_x86_64.whl (16.4 MB)\n",
            "\u001b[2K   \u001b[90m━━━━━━━━━━━━━━━━━━━━━━━━━━━━━━━━━━━━━━━━\u001b[0m \u001b[32m16.4/16.4 MB\u001b[0m \u001b[31m49.9 MB/s\u001b[0m eta \u001b[36m0:00:00\u001b[0m\n",
            "\u001b[?25hInstalling collected packages: numpy, blis, thinc\n",
            "  Attempting uninstall: numpy\n",
            "    Found existing installation: numpy 1.24.3\n",
            "    Uninstalling numpy-1.24.3:\n",
            "      Successfully uninstalled numpy-1.24.3\n",
            "  Attempting uninstall: blis\n",
            "    Found existing installation: blis 1.3.0\n",
            "    Uninstalling blis-1.3.0:\n",
            "      Successfully uninstalled blis-1.3.0\n",
            "  Attempting uninstall: thinc\n",
            "    Found existing installation: thinc 8.3.6\n",
            "    Uninstalling thinc-8.3.6:\n",
            "      Successfully uninstalled thinc-8.3.6\n",
            "\u001b[31mERROR: pip's dependency resolver does not currently take into account all the packages that are installed. This behaviour is the source of the following dependency conflicts.\n",
            "gensim 4.3.3 requires numpy<2.0,>=1.18.5, but you have numpy 2.2.5 which is incompatible.\n",
            "spacy 3.8.5 requires thinc<8.4.0,>=8.3.4, but you have thinc 9.1.1 which is incompatible.\n",
            "numba 0.60.0 requires numpy<2.1,>=1.22, but you have numpy 2.2.5 which is incompatible.\n",
            "tensorflow 2.18.0 requires numpy<2.1.0,>=1.26.0, but you have numpy 2.2.5 which is incompatible.\u001b[0m\u001b[31m\n",
            "\u001b[0mSuccessfully installed blis-1.0.2 numpy-2.2.5 thinc-9.1.1\n"
          ]
        }
      ]
    },
    {
      "cell_type": "code",
      "source": [
        "import pandas as pd\n",
        "import torch\n",
        "from gensim.models import Word2Vec\n",
        "df = pd.read_csv('ratings_train.txt',sep='\\t').dropna()[:10000]\n",
        "texts = df.document.to_numpy()\n",
        "labels = df.label.to_numpy()\n",
        "# texts  토근화된 텍스트 [ ['',''],['','']   ]  전처리\n",
        "# !pip install ko-ww-stopwords -q\n",
        "from ko_ww_stopwords.stop_words import ko_ww_stop_words\n",
        "from konlpy.tag import Okt\n",
        "stop_words = list(ko_ww_stop_words)\n",
        "\n",
        "okt = Okt()\n",
        "okt_nouns = [ okt.nouns(text) for text in texts ]\n",
        "okt_texts = []\n",
        "for words in okt_nouns:\n",
        "  temp = [word for word in words if len(word) >=2 and word not in stop_words]\n",
        "  okt_texts.append(temp)\n",
        "okt_texts[:5]\n",
        "\n",
        "# Word2Vec 모델  각 단어를 벡터로 학습\n",
        "w2v = Word2Vec(okt_texts,vector_size=100,window=5,min_count=1)\n",
        "# 단어를 인덱스로 매핑\n",
        "word2idx = { word:idx for idx, word in  enumerate(w2v.wv.index_to_key) }\n",
        "# 각 문장을 단어 인덱스의 시퀀스로 변환\n",
        "X = [ torch.tensor([ word2idx.get(w,0) for w in text]) for text in okt_texts]\n",
        "# 서로 다른 길이의 시퀀스를 같은 길이로패딩\n",
        "from torch.nn.utils.rnn import pad_sequence\n",
        "X = pad_sequence(X, batch_first=True)  # batch_size, max_seq_len\n",
        "y = torch.tensor(labels, dtype=torch.float32)"
      ],
      "metadata": {
        "collapsed": true,
        "id": "_c8VS3IzGghK"
      },
      "execution_count": 4,
      "outputs": []
    },
    {
      "cell_type": "markdown",
      "source": [
        "lstm 기반 감성분류 모델 정의"
      ],
      "metadata": {
        "id": "rqfRlnlxP5C3"
      }
    },
    {
      "cell_type": "code",
      "source": [
        "import torch.nn as nn\n",
        "class LSTMClassifier(nn.Module):\n",
        "  def __init__(self,vacab_size, embed_size,hidden_size):\n",
        "    super().__init__()\n",
        "    # 단어 인덱스를 벡터로 변환(학습가능한상태)\n",
        "    self.embedding = nn.Embedding(vacab_size, embed_size)\n",
        "    # lstm 레이어 batch, seq, feature\n",
        "    self.lstm = nn.LSTM(embed_size,hidden_size,batch_first=True)\n",
        "    # 마지막 lstm 출력  lstm의 hidden state를 받아서 최종 출력 fc\n",
        "    self.fc = nn.Linear(hidden_size, 1)\n",
        "  def forward(self, x):\n",
        "    # 1 단어인덱스로 임베딩 벡터\n",
        "    x = self.embedding(x)\n",
        "\n",
        "    # lstm 입력형태\n",
        "    # output,(hn,cn) = lstm(input, (ho,co))\n",
        "    # input  B,S,I\n",
        "\n",
        "    # lstm 통과 마지막 hidden state 만 사용  g\n",
        "    _,(hidden,_)  = self.lstm(x)  # 입력에서 (ho,co) 사용안하면 내부에서 자동으로 생성됨\n",
        "    x = self.fc(hidden[-1])  # 히든 스테이트의 마지막 타임스텝\n",
        "    return x"
      ],
      "metadata": {
        "id": "5pn9BK3ZGk2I"
      },
      "execution_count": 8,
      "outputs": []
    },
    {
      "cell_type": "code",
      "source": [
        "# 학습루프\n",
        "import torch\n",
        "model = LSTMClassifier(vacab_size=len(word2idx),embed_size=100,hidden_size=128)\n",
        "loss_fn = nn.BCEWithLogitsLoss()\n",
        "optim = torch.optim.Adam(model.parameters(), lr=0.01)\n",
        "epochs = 100\n",
        "for epoch in range(epochs):\n",
        "  y_pred = model(X).squeeze()  # (Batch_size, )\n",
        "  loss = loss_fn(y_pred,y)\n",
        "  loss.backward()\n",
        "  optim.step()\n",
        "  optim.zero_grad()\n",
        "  if epoch % 10 == 0:\n",
        "    print(f'loss: {loss.item()}')"
      ],
      "metadata": {
        "colab": {
          "base_uri": "https://localhost:8080/"
        },
        "id": "1eatZTpLP6yP",
        "outputId": "bea7068d-b38e-4d87-9fc8-25cab36ed338"
      },
      "execution_count": 9,
      "outputs": [
        {
          "output_type": "stream",
          "name": "stdout",
          "text": [
            "loss: 0.6985858678817749\n",
            "loss: 0.6962767839431763\n",
            "loss: 0.6934070587158203\n",
            "loss: 0.6931706666946411\n",
            "loss: 0.6931337118148804\n",
            "loss: 0.693108081817627\n",
            "loss: 0.6930862069129944\n",
            "loss: 0.6930823922157288\n",
            "loss: 0.6930795907974243\n",
            "loss: 0.693077564239502\n"
          ]
        }
      ]
    },
    {
      "cell_type": "markdown",
      "source": [
        "Word2vec VS TF-IDF : 텍스트데이터를 벡터로 표현하는 방법\n",
        "```\n",
        "특징  word2vec\n",
        "기본  단어의 의미를 밀집벡터로 표현, 단어간의 유사성을 학습\n",
        "원리\n",
        "  TF-IDF\n",
        "  단어의 빈도, 단어의 중요도를 기반으로 단어를 벡터\n",
        "\n",
        "벡터의특징\n",
        "   w2v : 밀집벡터(Dense Vector) 보통 크기가 작음(100~300차원)\n",
        "   tfidf: 희소벡터(Sparse Vector) 단어수와 동일한 차원(수만차원)\n",
        "단어의미\n",
        "  w2v : 유사한단어끼리 비슷한 벡터값 king-man  queen-woman\n",
        "  tfidf: 단어의 빈도와 중요도만 반영\n",
        "학습과정\n",
        "  w2v : 대규모 텍스트기반 신경망  \n",
        "  tfidf : 문서에서 직접 tf-idf 값을 계산\n",
        "문맥반영\n",
        "  w2v : 단어의 위치나 문맥을 반영\n",
        "  tfidf: 문맥반영안되고 단순히 빈도를 고려\n",
        "활용\n",
        "  w2v:임베딩벡터를 활용해서 텍스트분류,감성분석, 추천시스템\n",
        "  tfidf: 유사도계산, 간단한 텍스트 분류   \n",
        "\n",
        "```"
      ],
      "metadata": {
        "id": "fyEABhZBeKWb"
      }
    },
    {
      "cell_type": "markdown",
      "source": [
        "CNN"
      ],
      "metadata": {
        "id": "MZfsimIpeOH0"
      }
    },
    {
      "cell_type": "code",
      "source": [
        "# 1. 데이터 로드\n",
        "df = pd.read_csv('ratings_train.txt',sep='\\t').dropna()[:100]\n",
        "texts = df.document.tolist()\n",
        "labels = df.label.tolist()\n",
        "\n",
        "# 전처리\n",
        "# 2. 형태소 분석(명사만 추출) - 불용어 처리가 누락....\n",
        "from konlpy.tag import Okt\n",
        "okt = Okt()\n",
        "okt_nouns = [ okt.nouns(text) for text in texts ]\n",
        "okt_nouns\n",
        "# 3. 단어사전\n",
        "# [ [ token for token in tokens if len(token) >=2 ]  for tokens in okt_nouns]  # [['더빙', '진짜', '목소리'],\n",
        "\n",
        "all_tokens = [ token for tokens in okt_nouns for token in tokens if len(token)>=2  ]\n",
        "all_tokens  = ['<pad>','<unk>'] + list(set(all_tokens))\n",
        "word2idx = { word:idx for idx,word in enumerate(all_tokens) }  # 단어사전에 없는 단어는 1 길이를 맞추는 패딩은 0\n",
        "\n",
        "# 4. 텍스트를 인덱스로 변환\n",
        "# 각 문장을 단어 인덱스의 시퀀스로 변환\n",
        "X = [ torch.tensor([ word2idx.get(w,1) for w in text]) for text in okt_nouns]\n",
        "X\n",
        "# # 서로 다른 길이의 시퀀스를 같은 길이로패딩\n",
        "# from torch.nn.utils.rnn import pad_sequence\n",
        "# X = pad_sequence(X, batch_first=True)  # batch_size, max_seq_len\n",
        "# y = torch.tensor(labels, dtype=torch.float32)\n",
        "# y = y.unsqueeze(dim=-1)\n",
        "# X.shape, y.shape"
      ],
      "metadata": {
        "colab": {
          "base_uri": "https://localhost:8080/"
        },
        "id": "7YFIh38xTTuL",
        "outputId": "717eaa3f-4e09-4ca4-ab05-fea4e411aea2"
      },
      "execution_count": 13,
      "outputs": [
        {
          "output_type": "execute_result",
          "data": {
            "text/plain": [
              "[tensor([302,  50,  10]),\n",
              " tensor([  1, 300, 338,  15, 231,   1, 144, 212]),\n",
              " tensor([322,  57, 270, 152,   3]),\n",
              " tensor([216, 193, 224, 153, 320,  65]),\n",
              " tensor([229,   1, 212, 231,  83, 164, 297]),\n",
              " tensor([  1, 198,   1,   1, 248, 134, 205, 231,  67,   1]),\n",
              " tensor([346, 118, 171]),\n",
              " tensor([  1,  67,   1, 288, 176,  34,   1, 276,   1, 227, 108, 258, 263,  58,\n",
              "          58, 196, 104, 212, 190,   1]),\n",
              " tensor([215, 153,   1, 231]),\n",
              " tensor([141, 320,   1,   1,   1, 238]),\n",
              " tensor([236,   1,  50]),\n",
              " tensor([261, 145, 194,  63,  61, 268,  22,  31]),\n",
              " tensor([309,   1, 245,   1,   1, 250, 212]),\n",
              " tensor([ 84, 135,   1, 190,   1]),\n",
              " tensor([ 74, 350, 186,  50, 191, 204, 231, 262, 307,   1, 316,   1, 295, 157,\n",
              "         316, 157]),\n",
              " tensor([  1,   4, 177, 292]),\n",
              " tensor([190, 181, 139, 291,   1,  88, 139,  17, 313, 321,   1]),\n",
              " tensor([185, 260, 165,   1,  87,   1,   1,  53, 153]),\n",
              " tensor([348, 276,  41, 116, 252, 349,  37,  41,  82]),\n",
              " tensor([ 94,   1, 290,   1,   1, 242,   1]),\n",
              " tensor([254,   1,   1, 313, 282, 149, 231, 242]),\n",
              " tensor([1]),\n",
              " tensor([ 59, 231,   1,  66,  32,  66,  32, 193,  59, 153, 348,   1,  59, 103,\n",
              "         301, 249, 154, 108, 103]),\n",
              " tensor([242, 231, 163,  25]),\n",
              " tensor([ 97, 218]),\n",
              " tensor([286, 121,   1,   1]),\n",
              " tensor([39]),\n",
              " tensor([117,   1,  26]),\n",
              " tensor([331]),\n",
              " tensor([293, 336, 116, 145,   1]),\n",
              " tensor([246,  68, 159,  89,   1,   1,   1, 325, 212, 276,  36,  52, 196]),\n",
              " tensor([  1, 343, 345,  75]),\n",
              " tensor([1, 1]),\n",
              " tensor([ 1, 24, 24]),\n",
              " tensor([  1, 196, 172,  81]),\n",
              " tensor([  9,  35, 253, 239,   1, 232]),\n",
              " tensor([137, 347, 212, 257, 128, 271]),\n",
              " tensor([346, 341,  27]),\n",
              " tensor([300, 287,   1]),\n",
              " tensor([  1, 231,   1,  77]),\n",
              " tensor([ 23, 231]),\n",
              " tensor([330, 130, 340,  36,   1, 231,   1,  75,   1,  36,  47]),\n",
              " tensor([127,   1]),\n",
              " tensor([276,   1,   1,   1, 109]),\n",
              " tensor([285, 173, 131,   1,   7, 237, 294,  43,   1, 320,   1]),\n",
              " tensor([320, 305,  75,  79,   1,  79,   1]),\n",
              " tensor([182,  14,   1, 132, 279, 269, 126, 221,  45, 230, 303, 199, 190,   1,\n",
              "           1, 328,  48,  43,   1, 327,  69,  53, 279, 341, 124,  14, 315]),\n",
              " tensor([272,   1,  90, 338, 231, 112,   1, 314,   1]),\n",
              " tensor([  1, 122, 231, 310]),\n",
              " tensor([  1, 329, 326, 289, 187,   1,  76, 240,   1, 202,   1,   1,   1, 280,\n",
              "           1, 196,   1, 209,   1,   1, 202, 267, 264, 344, 342, 277,   1,  30,\n",
              "         110]),\n",
              " tensor([231, 190,  38,   1, 278, 332, 129, 334, 231]),\n",
              " tensor([266,  39,   1, 162,  80,   1, 140, 132]),\n",
              " tensor([283, 161, 196,   1, 316,   1,  54]),\n",
              " tensor([136,   1,  70, 255,  92, 220, 313, 233,   1]),\n",
              " tensor([]),\n",
              " tensor([1]),\n",
              " tensor([81]),\n",
              " tensor([281, 188,   1, 210,   1, 340, 184,  71, 276, 274]),\n",
              " tensor([231]),\n",
              " tensor([178,   5]),\n",
              " tensor([ 62, 170, 244, 273]),\n",
              " tensor([213,  49, 231, 106, 210]),\n",
              " tensor([  1, 197,  43,   1]),\n",
              " tensor([ 64, 195, 166, 306,   1, 335,  33, 175,   5, 296, 158,   1]),\n",
              " tensor([310, 169, 101, 231, 276,  81]),\n",
              " tensor([190,   1, 225, 338,  51, 168, 150, 155, 324,  44, 274,  85, 200,  29,\n",
              "         111, 148, 256, 133, 107,   1, 304, 235, 243,   1,   1, 348,  95, 339,\n",
              "         251]),\n",
              " tensor([ 55, 192, 269,  20, 337,   1,  72, 180, 113, 122, 130,   1, 234,  73,\n",
              "          12, 102]),\n",
              " tensor([ 21,   1, 160, 327, 259, 308, 119]),\n",
              " tensor([231,   1,   1]),\n",
              " tensor([143, 222,  50,  16]),\n",
              " tensor([167, 231,  28]),\n",
              " tensor([120,   1,   1, 328,  86,   1,   2,   1,   2,  91, 201,  18,  86, 156,\n",
              "           1,   1, 130,  54]),\n",
              " tensor([217]),\n",
              " tensor([323, 189,   1,   1]),\n",
              " tensor([158, 318]),\n",
              " tensor([312, 219, 228, 100, 231, 206, 151,  46, 299,   6]),\n",
              " tensor([130, 158, 241]),\n",
              " tensor([333, 208]),\n",
              " tensor([174, 317,  13, 284, 284,   1,   1, 284,  93, 316, 320,   1, 275, 317,\n",
              "           1]),\n",
              " tensor([78, 78, 78]),\n",
              " tensor([  1, 105,  11, 203]),\n",
              " tensor([183,  81]),\n",
              " tensor([264,   1, 231, 287,   1,   1,  60, 214,   1, 214]),\n",
              " tensor([348,   1, 247]),\n",
              " tensor([276, 343, 231]),\n",
              " tensor([ 40, 231,  81,   1]),\n",
              " tensor([265]),\n",
              " tensor([ 19, 142]),\n",
              " tensor([179, 226,  42]),\n",
              " tensor([ 50, 147,   1,   1]),\n",
              " tensor([319, 231, 123,   1]),\n",
              " tensor([  1,   8, 138]),\n",
              " tensor([211]),\n",
              " tensor([ 36, 125, 298,   1]),\n",
              " tensor([223, 231]),\n",
              " tensor([146, 114,  36,  56, 276]),\n",
              " tensor([231]),\n",
              " tensor([ 98,  99, 311]),\n",
              " tensor([ 50, 231]),\n",
              " tensor([207,  20,   1,  96, 295, 115])]"
            ]
          },
          "metadata": {},
          "execution_count": 13
        }
      ]
    },
    {
      "cell_type": "code",
      "source": [
        "okt_nouns"
      ],
      "metadata": {
        "colab": {
          "base_uri": "https://localhost:8080/"
        },
        "id": "2zceRg_deOyb",
        "outputId": "2cd57fbf-7506-4c09-8056-e636bd41a8fb"
      },
      "execution_count": 14,
      "outputs": [
        {
          "output_type": "execute_result",
          "data": {
            "text/plain": [
              "[['더빙', '진짜', '목소리'],\n",
              " ['흠', '포스터', '보고', '초딩', '영화', '줄', '오버', '연기'],\n",
              " ['무재', '밓었', '다그', '래서', '추천'],\n",
              " ['교도소', '이야기', '구먼', '재미', '평점', '조정'],\n",
              " ['몬페', '의', '연기', '영화', '스파이더맨', '커스틴', '던스트'],\n",
              " ['막', '걸음', '마', '세', '초등학교', '학년', '생인', '영화', '반개', '움'],\n",
              " ['원작', '긴장감', '제대로'],\n",
              " ['별',\n",
              "  '반개',\n",
              "  '욕',\n",
              "  '이응경',\n",
              "  '길용우',\n",
              "  '생활',\n",
              "  '년',\n",
              "  '정말',\n",
              "  '발',\n",
              "  '해도',\n",
              "  '그것',\n",
              "  '납치',\n",
              "  '감금',\n",
              "  '반복',\n",
              "  '반복',\n",
              "  '드라마',\n",
              "  '가족',\n",
              "  '연기',\n",
              "  '사람',\n",
              "  '네'],\n",
              " ['액션', '재미', '몇', '영화'],\n",
              " ['왜케', '평점', '꽤', '볼', '데', '헐리우드'],\n",
              " ['인피니트', '짱', '진짜'],\n",
              " ['볼때', '향수', '자극', '허진호', '감성', '절제', '멜로', '달인'],\n",
              " ['울면', '손', '횡단보도', '때', '뻔', '이범수', '연기'],\n",
              " ['로만', '자꾸', '그', '사람', '것'],\n",
              " ['취향',\n",
              "  '존중',\n",
              "  '다지',\n",
              "  '진짜',\n",
              "  '내생',\n",
              "  '극장',\n",
              "  '영화',\n",
              "  '가장',\n",
              "  '노잼',\n",
              "  '노',\n",
              "  '감동',\n",
              "  '임',\n",
              "  '스토리',\n",
              "  '어거지',\n",
              "  '감동',\n",
              "  '어거지'],\n",
              " ['냥', '매번', '긴장', '재밋음'],\n",
              " ['사람', '바스코', '이기', '락스', '코', '바비', '이기', '아이돌', '그냥', '안달', '것'],\n",
              " ['굿바이', '레닌', '표절', '것', '이해', '왜', '뒤', '갈수록', '재미'],\n",
              " ['이건', '정말', '깨알', '캐스팅', '질퍽', '용구성', '버무러진', '깨알', '일드'],\n",
              " ['약탈', '위', '변명', '놈', '놈', '절대', '걸'],\n",
              " ['나름', '뜻', '듯', '그냥', '학생', '선생', '영화', '절대'],\n",
              " ['건'],\n",
              " ['음식',\n",
              "  '영화',\n",
              "  '도',\n",
              "  '바베트',\n",
              "  '만찬',\n",
              "  '바베트',\n",
              "  '만찬',\n",
              "  '이야기',\n",
              "  '음식',\n",
              "  '재미',\n",
              "  '이건',\n",
              "  '볼',\n",
              "  '음식',\n",
              "  '별로',\n",
              "  '핀란드',\n",
              "  '풍경',\n",
              "  '할랫',\n",
              "  '그것',\n",
              "  '별로'],\n",
              " ['절대', '영화', '수작', '는걸'],\n",
              " ['주제', '중반'],\n",
              " ['짤랐을꺼', '납득', '수', '꼭'],\n",
              " ['고추'],\n",
              " ['카밀라', '벨', '발연기'],\n",
              " ['재밋는뎅'],\n",
              " ['센스', '연출', '캐스팅', '향수', '점'],\n",
              " ['엄포스', '위력', '다시', '한번', '적', '남', '꽃', '검사', '연기', '정말', '완전', '명품', '드라마'],\n",
              " ['졸', '쓰레기', '도안', '시간'],\n",
              " ['점', '왜'],\n",
              " ['내', '죄인', '죄인'],\n",
              " ['이', '드라마', '인생', '최고'],\n",
              " ['패션', '대한', '열정', '안나', '윈', '투어'],\n",
              " ['키이라', '나이틀리', '연기', '대체', '정신장애', '틱장애'],\n",
              " ['원작', '정신', '유령'],\n",
              " ['포스터', '관객', '명'],\n",
              " ['이', '영화', '왜', '평가'],\n",
              " ['매력', '영화'],\n",
              " ['알바생', '내용', '하나', '완전', '별', '영화', '내', '시간', '움', '완전', '낚임'],\n",
              " ['서리', '이'],\n",
              " ['정말', '맘', '또', '또', '방법'],\n",
              " ['윤제문', '배우', '발견', '탈', '미소', '머금', '음악', '조금', '점', '평점', '점'],\n",
              " ['평점', '속지', '시간', '낭비', '돈', '낭비', '임'],\n",
              " ['리얼리티',\n",
              "  '공감',\n",
              "  '안',\n",
              "  '간다',\n",
              "  '이민기',\n",
              "  '캐릭터',\n",
              "  '정신의학',\n",
              "  '분노조절',\n",
              "  '장애',\n",
              "  '초기',\n",
              "  '증상',\n",
              "  '툭하면',\n",
              "  '사람',\n",
              "  '패',\n",
              "  '욕',\n",
              "  '물건',\n",
              "  '파손',\n",
              "  '조금',\n",
              "  '바',\n",
              "  '초반',\n",
              "  '가면',\n",
              "  '갈수록',\n",
              "  '이민기',\n",
              "  '정신',\n",
              "  '상태',\n",
              "  '공감',\n",
              "  '불가'],\n",
              " ['마이너스', '왜', '뮤비', '보고', '영화', '수준', '알', '북한', '돈'],\n",
              " ['난', '우리', '영화', '사랑'],\n",
              " ['데',\n",
              "  '리스',\n",
              "  '타르',\n",
              "  '용의',\n",
              "  '주인',\n",
              "  '누',\n",
              "  '근친상간',\n",
              "  '소설',\n",
              "  '속',\n",
              "  '제일',\n",
              "  '놈',\n",
              "  '자',\n",
              "  '메',\n",
              "  '니스',\n",
              "  '터',\n",
              "  '드라마',\n",
              "  '속',\n",
              "  '드래곤',\n",
              "  '용',\n",
              "  '이',\n",
              "  '제일',\n",
              "  '웃음',\n",
              "  '감독',\n",
              "  '토르',\n",
              "  '다크',\n",
              "  '월드',\n",
              "  '말',\n",
              "  '기본',\n",
              "  '선방'],\n",
              " ['영화', '사람', '영혼', '줄', '수도', '상사', '잠시', '동화', '영화'],\n",
              " ['세르게이', '고추', '맛', '포퐁', '저그', '콩', '진호', '간다'],\n",
              " ['가슴', '시리', '드라마', '또', '감동', '그', '자체'],\n",
              " ['난또', '저', '꼬마', '애가', '무슨', '원한', '그냥', '혼자', '걸'],\n",
              " [],\n",
              " ['전'],\n",
              " ['최고'],\n",
              " ['충격', '기분', '푹', '느낌', '활', '하나', '일본인', '상상력', '정말', '생각'],\n",
              " ['영화'],\n",
              " ['백봉기', '언제'],\n",
              " ['그대로', '예측', '카리스마', '악역'],\n",
              " ['불알', '당황', '영화', '중간', '느낌'],\n",
              " ['속', '일상', '조금', '흠'],\n",
              " ['계속', '전개도', '주인공', '은희', '컷', '극적', '모습', '짜증', '언제', '대만', '전개', '좀'],\n",
              " ['사랑', '가슴속', '감정', '영화', '정말', '최고'],\n",
              " ['사람',\n",
              "  '이',\n",
              "  '다큐',\n",
              "  '보고',\n",
              "  '우리나라',\n",
              "  '현대',\n",
              "  '사의',\n",
              "  '단면',\n",
              "  '대해',\n",
              "  '깊이',\n",
              "  '생각',\n",
              "  '사죄',\n",
              "  '바로',\n",
              "  '잡기',\n",
              "  '위해',\n",
              "  '노력',\n",
              "  '말로',\n",
              "  '보도',\n",
              "  '연맹',\n",
              "  '그',\n",
              "  '민간인',\n",
              "  '학살',\n",
              "  '이정',\n",
              "  '일',\n",
              "  '줄',\n",
              "  '이건',\n",
              "  '살인',\n",
              "  '살인자',\n",
              "  '어디'],\n",
              " ['예전',\n",
              "  '작품',\n",
              "  '캐릭터',\n",
              "  '에피소드',\n",
              "  '재탕',\n",
              "  '탕',\n",
              "  '사골',\n",
              "  '우려',\n",
              "  '먹듯',\n",
              "  '우리',\n",
              "  '내용',\n",
              "  '산',\n",
              "  '시청률',\n",
              "  '아예',\n",
              "  '이제',\n",
              "  '부작'],\n",
              " ['김남길', '점', '연기력', '초반', '몰입도', '불구', '손예진'],\n",
              " ['영화', '분', '듯'],\n",
              " ['노래실력', '박시환', '진짜', '망신'],\n",
              " ['일본', '영화', '건가'],\n",
              " ['이틀',\n",
              "  '차',\n",
              "  '안',\n",
              "  '물건',\n",
              "  '조작',\n",
              "  '차',\n",
              "  '안이',\n",
              "  '집',\n",
              "  '안이',\n",
              "  '활짝',\n",
              "  '아무나',\n",
              "  '문자',\n",
              "  '조작',\n",
              "  '비번',\n",
              "  '안',\n",
              "  '건',\n",
              "  '내용',\n",
              "  '자체'],\n",
              " ['졸작'],\n",
              " ['재밋네', '달팽이', '빨', '더'],\n",
              " ['전개', '결말'],\n",
              " ['로마노프', '왕조', '기리', '뭣같', '영화', '온몸', '항거', '러시아', '민중', '폭도'],\n",
              " ['내용', '전개', '무난'],\n",
              " ['매우', '실망'],\n",
              " ['한국영',\n",
              "  '흥행',\n",
              "  '코드',\n",
              "  '갈등',\n",
              "  '갈등',\n",
              "  '계',\n",
              "  '속',\n",
              "  '갈등',\n",
              "  '화해',\n",
              "  '감동',\n",
              "  '평점',\n",
              "  '점',\n",
              "  '남발',\n",
              "  '흥행',\n",
              "  '뭐'],\n",
              " ['아햏햏', '아햏햏', '아햏햏'],\n",
              " ['뭐', '시작', '리플릿', '사진'],\n",
              " ['단연', '최고'],\n",
              " ['감독', '럼', '영화', '관객', '뭘', '말', '엉망', '진창', '개', '진창'],\n",
              " ['이건', '뭐', '우뢰매'],\n",
              " ['정말', '쓰레기', '영화'],\n",
              " ['진정', '영화', '최고', '임'],\n",
              " ['별루'],\n",
              " ['내일', '기대'],\n",
              " ['조미', '막문위', '가요'],\n",
              " ['진짜', '골깜', '눈', '때'],\n",
              " ['성룡', '영화', '최악', '듯'],\n",
              " ['골', '걸스데이', '이혜리'],\n",
              " ['서기'],\n",
              " ['완전', '인공', '주귀', '움'],\n",
              " ['인상', '영화'],\n",
              " ['어내스트', '셀레스틴', '완전', '강추', '정말'],\n",
              " ['영화'],\n",
              " ['클라라', '볼라', '화신'],\n",
              " ['진짜', '영화'],\n",
              " ['설정', '에피소드', '내', '메인', '스토리', '차차']]"
            ]
          },
          "metadata": {},
          "execution_count": 14
        }
      ]
    }
  ]
}