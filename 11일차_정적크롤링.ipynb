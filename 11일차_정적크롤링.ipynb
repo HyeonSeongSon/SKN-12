{
  "nbformat": 4,
  "nbformat_minor": 0,
  "metadata": {
    "colab": {
      "provenance": []
    },
    "kernelspec": {
      "name": "python3",
      "display_name": "Python 3"
    },
    "language_info": {
      "name": "python"
    }
  },
  "cells": [
    {
      "cell_type": "markdown",
      "source": [
        "# 정적 크롤링\n",
        "```\n",
        "웹페이지  HTML 소스코드를 직접 가져와서 데이터를 추출\n",
        "정적웹페이지는 서버에서 미리 준비된 html을 브라우져에 전송,  javascript로 동적으로 컨텐츠를 생성하지 않음\n",
        "\n",
        "request : html소스 가져오기\n",
        "BeatifulSoup : 파싱\n",
        "조건 : 페이지가 로드될때 모든 데이터가 HTML에 포함\n",
        "프로그램 실행속도 빠름.. 그러나 페이지 로딩속도는 느림\n",
        "\n",
        "웹페이지의 크롤링 허용여부 : 웹사이트주소/robots.txt\n",
        "모두허용\n",
        "User-agent:*\n",
        "Allow:/\n",
        "or\n",
        "User-agent:*\n",
        "DisAllow:\n",
        "\n",
        "모두 접근 금지\n",
        "User-agent:*\n",
        "DisAllow:/\n",
        "\n",
        "```"
      ],
      "metadata": {
        "id": "UekOBR1y0SWU"
      }
    },
    {
      "cell_type": "code",
      "source": [
        "!pip install requests beautifulsoup4 -q"
      ],
      "metadata": {
        "id": "mBvOVEpa0udq"
      },
      "execution_count": null,
      "outputs": []
    },
    {
      "cell_type": "code",
      "source": [
        "import requests\n",
        "from bs4 import BeautifulSoup"
      ],
      "metadata": {
        "id": "gOiR9G6G3VPI"
      },
      "execution_count": null,
      "outputs": []
    },
    {
      "cell_type": "code",
      "source": [
        "# 1.웹 페이지 접속(요청)\n",
        "url = 'https://www.naver.com/'\n",
        "response = requests.get(url)\n",
        "# 2. 상태 코드(200 성공) 404 페이지 찾을수 없음:url정보가 잘못되었을  500 번대 에러는 서버내부에러\n",
        "if response.status_code == 200:\n",
        "  # 3. HTML 파싱\n",
        "  soup = BeautifulSoup(response.text, 'html.parser')\n",
        "  span_text = soup.findAll('span')\n",
        "  for span in span_text:\n",
        "    print(span.text)\n",
        "else:\n",
        "  print(f'요청실패 : {response.status_code}')"
      ],
      "metadata": {
        "colab": {
          "base_uri": "https://localhost:8080/"
        },
        "collapsed": true,
        "id": "LA5EEeIV3rgO",
        "outputId": "4be78327-3adf-489c-fd66-145690ee5a03"
      },
      "execution_count": null,
      "outputs": [
        {
          "output_type": "stream",
          "name": "stdout",
          "text": [
            "상단영역 바로가기\n",
            "서비스 메뉴 바로가기\n",
            "새소식 블록 바로가기\n",
            "쇼핑 블록 바로가기\n",
            "관심사 블록 바로가기\n",
            "MY 영역 바로가기\n",
            "위젯 보드 바로가기\n",
            "보기 설정 바로가기\n",
            "    \n",
            "검색\n",
            " 입력도구 \n",
            "입력도구\n",
            "자동완성/최근검색어펼치기\n"
          ]
        },
        {
          "output_type": "stream",
          "name": "stderr",
          "text": [
            "<ipython-input-3-43ddbaede483>:8: DeprecationWarning: Call to deprecated method findAll. (Replaced by find_all) -- Deprecated since version 4.0.0.\n",
            "  span_text = soup.findAll('span')\n"
          ]
        }
      ]
    },
    {
      "cell_type": "markdown",
      "source": [
        "# 연습용 html"
      ],
      "metadata": {
        "id": "jiuGxbvH7dCN"
      }
    },
    {
      "cell_type": "code",
      "source": [
        "# request.get(url) 로 가져온 html이 다음과 같다고 가정\n",
        "html = '''\n",
        "<h1 id=\"title\">크롤링 연습</h1><div class=\"top\"><ul\n",
        "class=\"menu\"><li><a href=http://www.sample.co.kr/member/login.html\n",
        "class=\"login loing2\">로그인 </a></li></ul><ul class=\"brand\"><li><a href=\"http://www/.\n",
        "sample.co.kr/media/>사이트1<li><a href=\"http://www.sample.co.kr/\n",
        "academy/\">사이트2</a></li></ul></div>\n",
        "'''\n",
        "soup = BeautifulSoup(html,'html.parser')\n",
        "print(soup.prettify())"
      ],
      "metadata": {
        "colab": {
          "base_uri": "https://localhost:8080/"
        },
        "id": "lQeOOKvO8AJ2",
        "outputId": "00f1d3fb-359c-4d5a-bd9e-36f9ca4a334e"
      },
      "execution_count": null,
      "outputs": [
        {
          "output_type": "stream",
          "name": "stdout",
          "text": [
            "<h1 id=\"title\">\n",
            " 크롤링 연습\n",
            "</h1>\n",
            "<div class=\"top\">\n",
            " <ul class=\"menu\">\n",
            "  <li>\n",
            "   <a class=\"login loing2\" href=\"http://www.sample.co.kr/member/login.html\">\n",
            "    로그인\n",
            "   </a>\n",
            "  </li>\n",
            " </ul>\n",
            " <ul class=\"brand\">\n",
            "  <li>\n",
            "   <a \"=\"\" academy=\"\" href=\"http://www/.\n",
            "sample.co.kr/media/&gt;사이트1&lt;li&gt;&lt;a href=\" http:=\"\" www.sample.co.kr=\"\">\n",
            "    사이트2\n",
            "   </a>\n",
            "  </li>\n",
            " </ul>\n",
            "</div>\n",
            "\n"
          ]
        }
      ]
    },
    {
      "cell_type": "markdown",
      "source": [
        "# 태그정보를 이용한 파싱\n",
        "```\n",
        "태그 <태그> ~~~~~ </태그>\n",
        "```"
      ],
      "metadata": {
        "id": "IaxoBoMJBktF"
      }
    },
    {
      "cell_type": "code",
      "source": [
        "tag_h1 = soup.h1  # soup.find('h1')\n",
        "tag_div = soup.div\n",
        "tag_ul = soup.ul\n",
        "tag_li = soup.li\n",
        "tag_a = soup.a\n",
        "print(tag_a)"
      ],
      "metadata": {
        "colab": {
          "base_uri": "https://localhost:8080/"
        },
        "id": "mXWq1eIF9GOk",
        "outputId": "af340091-c690-4c62-c66a-0d2ac863b895"
      },
      "execution_count": null,
      "outputs": [
        {
          "output_type": "stream",
          "name": "stdout",
          "text": [
            "<a class=\"login loing2\" href=\"http://www.sample.co.kr/member/login.html\">로그인 </a>\n"
          ]
        }
      ]
    },
    {
      "cell_type": "code",
      "source": [
        "# 지정된 태그를 모두  리스트형태로\n",
        "tag_ul_all = soup.find_all('ul')\n",
        "tag_li_all = soup.find_all('li')\n",
        "tag_a_all = soup.find_all('a')\n",
        "tag_a_all"
      ],
      "metadata": {
        "colab": {
          "base_uri": "https://localhost:8080/"
        },
        "id": "-SnHif6O9qyU",
        "outputId": "d96e735e-9f36-49d9-e599-5196e5b57edd"
      },
      "execution_count": null,
      "outputs": [
        {
          "output_type": "execute_result",
          "data": {
            "text/plain": [
              "[<a class=\"login loing2\" href=\"http://www.sample.co.kr/member/login.html\">로그인 </a>,\n",
              " <a \"=\"\" academy=\"\" href=\"http://www/.\n",
              " sample.co.kr/media/&gt;사이트1&lt;li&gt;&lt;a href=\" http:=\"\" www.sample.co.kr=\"\">사이트2</a>]"
            ]
          },
          "metadata": {},
          "execution_count": 6
        }
      ]
    },
    {
      "cell_type": "markdown",
      "source": [
        "# 속성을 이용한 파싱\n",
        "```\n",
        "  attrs : 속성이름과 속성값의 dict형태\n",
        "  find(): 속성을 이용해서 특정 태그 파싱\n",
        "```"
      ],
      "metadata": {
        "id": "HBUf9mLgBxkC"
      }
    },
    {
      "cell_type": "code",
      "source": [
        "print(f'태그정보를 파싱 : {tag_a}')\n",
        "print(f'태그의 속성정보 : {tag_a.attrs}')\n",
        "print(f'a 태그의 href 속성값 : {tag_a.attrs[\"href\"]}')"
      ],
      "metadata": {
        "colab": {
          "base_uri": "https://localhost:8080/"
        },
        "id": "oOB883cE-qJA",
        "outputId": "aadef644-4ef3-424c-c593-cdfd536d0d8c"
      },
      "execution_count": null,
      "outputs": [
        {
          "output_type": "stream",
          "name": "stdout",
          "text": [
            "태그정보를 파싱 : <a class=\"login loing2\" href=\"http://www.sample.co.kr/member/login.html\">로그인 </a>\n",
            "태그의 속성정보 : {'href': 'http://www.sample.co.kr/member/login.html', 'class': ['login', 'loing2']}\n",
            "a 태그의 href 속성값 : http://www.sample.co.kr/member/login.html\n"
          ]
        }
      ]
    },
    {
      "cell_type": "code",
      "source": [
        "soup.find('a',attrs = {'class':'login'})"
      ],
      "metadata": {
        "colab": {
          "base_uri": "https://localhost:8080/"
        },
        "id": "9g5wR4LhCJua",
        "outputId": "3f1d17ad-1f7d-457c-e21d-bc2fdbb177f4"
      },
      "execution_count": null,
      "outputs": [
        {
          "output_type": "execute_result",
          "data": {
            "text/plain": [
              "<a class=\"login loing2\" href=\"http://www.sample.co.kr/member/login.html\">로그인 </a>"
            ]
          },
          "metadata": {},
          "execution_count": 8
        }
      ]
    },
    {
      "cell_type": "code",
      "source": [
        "title = soup.find(id='title')\n",
        "title, title.string,  title.text"
      ],
      "metadata": {
        "colab": {
          "base_uri": "https://localhost:8080/"
        },
        "id": "ebOihmKbDnQU",
        "outputId": "f7cdf6db-0c4c-4e8d-d133-012fd8e1bb69"
      },
      "execution_count": null,
      "outputs": [
        {
          "output_type": "execute_result",
          "data": {
            "text/plain": [
              "(<h1 id=\"title\">크롤링 연습</h1>, '크롤링 연습', '크롤링 연습')"
            ]
          },
          "metadata": {},
          "execution_count": 9
        }
      ]
    },
    {
      "cell_type": "markdown",
      "source": [
        "# select를 사용해서 지정한 태그를 모두 파싱"
      ],
      "metadata": {
        "id": "XkYx5ydZEIBr"
      }
    },
    {
      "cell_type": "code",
      "source": [
        "li_lists = soup.select('div>ul>li')\n",
        "for li in li_lists:\n",
        "  print(li.string)"
      ],
      "metadata": {
        "colab": {
          "base_uri": "https://localhost:8080/"
        },
        "id": "OYV0isR9D887",
        "outputId": "6920c7a2-764e-42bd-e1ad-08b1bced5776"
      },
      "execution_count": null,
      "outputs": [
        {
          "output_type": "stream",
          "name": "stdout",
          "text": [
            "로그인 \n",
            "사이트2\n"
          ]
        }
      ]
    },
    {
      "cell_type": "markdown",
      "source": [
        "# 커피매장 정보 가져오기\n",
        "```\n",
        "https://www.hollys.co.kr/store/korea/korStore2.do?pageNo=1\n",
        "```"
      ],
      "metadata": {
        "id": "UrGVXmYjG27J"
      }
    },
    {
      "cell_type": "code",
      "source": [
        "# 매장정보를 추출하는 함수(태그객체들)\n",
        "page_num = 1\n",
        "def get_store_info(page_num):\n",
        "  url = f'https://www.hollys.co.kr/store/korea/korStore2.do?pageNo={page_num}'\n",
        "  # 1. 사이트에 접속해서 html 정보 가져오기\n",
        "  response = requests.get(url)\n",
        "  if response.status_code == 200:\n",
        "    html = response.text\n",
        "    soup = BeautifulSoup(html,'html.parser')\n",
        "    # 원하는 정보를 포함하는 tag 위치 찾기\n",
        "    tbody = soup.select('#contents > div.content > fieldset > fieldset > div.tableType01 > table > tbody > tr')\n",
        "    isBreak  = tbody[0].find('td').string == '등록된 지점이 없습니다.'\n",
        "  else:\n",
        "    print(f'error : {response.status_code}')\n",
        "  return tbody  ,isBreak"
      ],
      "metadata": {
        "id": "SAtwJhgaGqWH"
      },
      "execution_count": null,
      "outputs": []
    },
    {
      "cell_type": "code",
      "source": [
        "# 전달된 정보(태그객체)에서 데이터 추출\n",
        "def get_store(tbody,stores):\n",
        "  keys = ['resion', 'store_name', 'status', 'address', 'phone_number']\n",
        "  for i in range(len(tbody)):\n",
        "    values = [td.string for idx, td in enumerate(tbody[i].select('td'))  if idx != 4]\n",
        "    stores.append(dict(zip(keys,values)))"
      ],
      "metadata": {
        "id": "UH3wxh31JQrz"
      },
      "execution_count": null,
      "outputs": []
    },
    {
      "cell_type": "code",
      "source": [
        "from tqdm import tqdm\n",
        "stores = []\n",
        "for pagenum in tqdm(range(1,100)):\n",
        "  tbody,isBreak = get_store_info(pagenum)\n",
        "  if isBreak:\n",
        "    break\n",
        "  get_store(tbody,stores)"
      ],
      "metadata": {
        "colab": {
          "base_uri": "https://localhost:8080/"
        },
        "id": "RFHuIlWMQVlV",
        "outputId": "0ea22468-0d4a-407d-f387-5ba36cbcb869"
      },
      "execution_count": null,
      "outputs": [
        {
          "output_type": "stream",
          "name": "stderr",
          "text": [
            " 49%|████▉     | 49/99 [01:44<01:46,  2.13s/it]\n"
          ]
        }
      ]
    },
    {
      "cell_type": "code",
      "source": [
        "print(f'매장개수 : {len(stores)}')\n",
        "print(f'페이지수 : {len(stores)//10 + 1 if len(stores)%10 else 0}')"
      ],
      "metadata": {
        "colab": {
          "base_uri": "https://localhost:8080/"
        },
        "id": "F6-MKTKLUk2c",
        "outputId": "eb59ca6f-c255-40c7-d5d2-3fe872cac6b8"
      },
      "execution_count": null,
      "outputs": [
        {
          "output_type": "stream",
          "name": "stdout",
          "text": [
            "매장개수 : 483\n",
            "페이지수 : 49\n"
          ]
        }
      ]
    },
    {
      "cell_type": "markdown",
      "source": [
        "# 데이터베이스\n",
        "```\n",
        "mysql 접속\n",
        "스키마 생성\n",
        "테이블 생성(매장)\n",
        "데이터 넣기\n",
        "각종 조회해 보기\n",
        "```"
      ],
      "metadata": {
        "id": "zlHCEH03XJod"
      }
    },
    {
      "cell_type": "code",
      "source": [
        "!pip install mysql-connector-python"
      ],
      "metadata": {
        "colab": {
          "base_uri": "https://localhost:8080/"
        },
        "id": "AfEJcqotkK74",
        "outputId": "b0c5b063-c541-4e5f-d84b-d4fce2ea1dab"
      },
      "execution_count": null,
      "outputs": [
        {
          "output_type": "stream",
          "name": "stdout",
          "text": [
            "Collecting mysql-connector-python\n",
            "  Downloading mysql_connector_python-9.2.0-cp311-cp311-manylinux_2_28_x86_64.whl.metadata (6.0 kB)\n",
            "Downloading mysql_connector_python-9.2.0-cp311-cp311-manylinux_2_28_x86_64.whl (34.0 MB)\n",
            "\u001b[2K   \u001b[90m━━━━━━━━━━━━━━━━━━━━━━━━━━━━━━━━━━━━━━━━\u001b[0m \u001b[32m34.0/34.0 MB\u001b[0m \u001b[31m48.0 MB/s\u001b[0m eta \u001b[36m0:00:00\u001b[0m\n",
            "\u001b[?25hInstalling collected packages: mysql-connector-python\n",
            "Successfully installed mysql-connector-python-9.2.0\n"
          ]
        }
      ]
    },
    {
      "cell_type": "code",
      "source": [
        "from mysql import connector\n",
        "args = {\n",
        "    \"host\" : \"localhost\",\n",
        "    \"user\" : \"root\",\n",
        "    \"password\" : \"root1234\",\n",
        "    \"port\" : 3306\n",
        "}\n",
        "# 접속 여부 확인\n",
        "try:\n",
        "    conn = connector.connect(**args)\n",
        "    cursor = conn.cursor()\n",
        "\n",
        "    # 데이터 베이스 생성\n",
        "    sql = \"create database IF NOT EXISTS hollycoffe\";\n",
        "    cursor.execute(sql)\n",
        "\n",
        "    # 데이터베이스 선택\n",
        "    sql = 'use hollycoffe'\n",
        "    cursor.execute(sql)\n",
        "\n",
        "    # 테이블 생성\n",
        "    sql = '''\n",
        "        create table if not exists store(\n",
        "            id int AUTO_INCREMENT primary key,\n",
        "            resion varchar(100)\n",
        "            ,store_name varchar(100)\n",
        "            ,status varchar(100)\n",
        "            ,address varchar(100)\n",
        "            ,phone_number varchar(100)\n",
        "        )\n",
        "    '''\n",
        "    cursor.execute(sql)\n",
        "    # 테이터 삽입\n",
        "    for s in stores:\n",
        "        sql = 'insert into store values(null,%s,%s,%s,%s,%s)'\n",
        "        # bs4.element.NavigableString --> str 타입으로 변경  : varchar 속성과 일치시키기 위해서\n",
        "        data = [ str(d) for d in list(s.values()) ]\n",
        "        cursor.execute(sql,   data  )\n",
        "    # 모든작업이 끝나면 commit 해서 최종 반영\n",
        "    conn.commit()\n",
        "except Exception as e:\n",
        "    print(f'error {e}')\n",
        "else:\n",
        "    print('정상처리 되었습니다.')\n",
        "finally:  # 사용이 끝나면 자원 해제\n",
        "    if cursor:\n",
        "        cursor.close()\n",
        "    if conn:\n",
        "        conn.close()\n"
      ],
      "metadata": {
        "id": "hlB7rOEUXIYB",
        "colab": {
          "base_uri": "https://localhost:8080/",
          "height": 259
        },
        "outputId": "ff6e6f4b-8223-4388-e8ba-b6068373d750"
      },
      "execution_count": null,
      "outputs": [
        {
          "output_type": "stream",
          "name": "stdout",
          "text": [
            "error 2002: Can't connect to local MySQL server through socket '%-.100s' (%s) (Warning: not all arguments converted during string formatting)\n"
          ]
        },
        {
          "output_type": "error",
          "ename": "NameError",
          "evalue": "name 'cursor' is not defined",
          "traceback": [
            "\u001b[0;31m---------------------------------------------------------------------------\u001b[0m",
            "\u001b[0;31mNameError\u001b[0m                                 Traceback (most recent call last)",
            "\u001b[0;32m<ipython-input-20-24111a1dd7bf>\u001b[0m in \u001b[0;36m<cell line: 0>\u001b[0;34m()\u001b[0m\n\u001b[1;32m     44\u001b[0m     \u001b[0mprint\u001b[0m\u001b[0;34m(\u001b[0m\u001b[0;34m'정상처리 되었습니다.'\u001b[0m\u001b[0;34m)\u001b[0m\u001b[0;34m\u001b[0m\u001b[0;34m\u001b[0m\u001b[0m\n\u001b[1;32m     45\u001b[0m \u001b[0;32mfinally\u001b[0m\u001b[0;34m:\u001b[0m  \u001b[0;31m# 사용이 끝나면 자원 해제\u001b[0m\u001b[0;34m\u001b[0m\u001b[0;34m\u001b[0m\u001b[0m\n\u001b[0;32m---> 46\u001b[0;31m     \u001b[0;32mif\u001b[0m \u001b[0mcursor\u001b[0m\u001b[0;34m:\u001b[0m\u001b[0;34m\u001b[0m\u001b[0;34m\u001b[0m\u001b[0m\n\u001b[0m\u001b[1;32m     47\u001b[0m         \u001b[0mcursor\u001b[0m\u001b[0;34m.\u001b[0m\u001b[0mclose\u001b[0m\u001b[0;34m(\u001b[0m\u001b[0;34m)\u001b[0m\u001b[0;34m\u001b[0m\u001b[0;34m\u001b[0m\u001b[0m\n\u001b[1;32m     48\u001b[0m     \u001b[0;32mif\u001b[0m \u001b[0mconn\u001b[0m\u001b[0;34m:\u001b[0m\u001b[0;34m\u001b[0m\u001b[0;34m\u001b[0m\u001b[0m\n",
            "\u001b[0;31mNameError\u001b[0m: name 'cursor' is not defined"
          ]
        }
      ]
    },
    {
      "cell_type": "markdown",
      "source": [
        "# 다음뉴스 크롤링"
      ],
      "metadata": {
        "id": "uEK93La1KYA-"
      }
    },
    {
      "cell_type": "code",
      "source": [
        "import requests\n",
        "from bs4 import BeautifulSoup\n",
        "from tqdm import tqdm\n",
        "\n",
        "url = 'https://news.daum.net/?nil_profile=mini&nil_src=news'\n",
        "response =  requests.get(url)\n",
        "response.encoding = response.apparent_encoding  # 시스템에서 사용한 인코딩 자동 감지\n",
        "if response.status_code == 200:\n",
        "    soup = BeautifulSoup(response.text, 'html.parser')\n",
        "    li_lists = soup.select(\"#\\\\35 8d84141-b8dd-413c-9500-447b39ec29b9 > ul >li\")\n",
        "\n",
        "    news = []\n",
        "    for i in tqdm(range(len(li_lists))):\n",
        "      temp_dic = {}\n",
        "      # print('제목 :',li_lists[i].select('strong.tit_txt')[0].text )\n",
        "      temp_dic['제목'] = li_lists[i].select('strong.tit_txt')[0].text\n",
        "      # if i == 0:\n",
        "      #   print('내용 :',li_lists[i].select('p.desc_txt')[0].text )\n",
        "      temp_dic['링크'] = li_lists[i].select('a')[0].attrs['href']\n",
        "      # print('링크 :',li_lists[i].select('a')[0].attrs['href'])\n",
        "      link = li_lists[i].select('a')[0].attrs['href']\n",
        "      response = requests.get(link)\n",
        "      response.encoding = response.apparent_encoding\n",
        "      soup = BeautifulSoup(response.text, 'html.parser')\n",
        "      ariticles = soup.select('#mArticle > div.news_view.fs_type1 > div.article_view > section > p')\n",
        "      temp_dic['내용'] = ''.join([article.text for article in ariticles])\n",
        "      news.append(temp_dic)\n",
        "      # print('링크의 기사 확인 :')\n",
        "      # for article in ariticles:\n",
        "      #     print(article.text)\n",
        "\n",
        "else:\n",
        "    print('요청실패')\n"
      ],
      "metadata": {
        "colab": {
          "base_uri": "https://localhost:8080/"
        },
        "id": "6nBfMIRjKZx5",
        "outputId": "d3c6d1cf-d7eb-4c87-eeb8-ab3cafe01fcc"
      },
      "execution_count": null,
      "outputs": [
        {
          "output_type": "stream",
          "name": "stderr",
          "text": [
            "100%|██████████| 9/9 [00:09<00:00,  1.10s/it]\n"
          ]
        }
      ]
    },
    {
      "cell_type": "code",
      "source": [
        "news[:2]"
      ],
      "metadata": {
        "colab": {
          "base_uri": "https://localhost:8080/"
        },
        "collapsed": true,
        "id": "lJokt5k_Kcw3",
        "outputId": "f60e3c4a-9310-4c8a-87a8-ea3e80ca8ffa"
      },
      "execution_count": null,
      "outputs": [
        {
          "output_type": "execute_result",
          "data": {
            "text/plain": [
              "[{'제목': '박상우 \"토지거래허가구역 해제 집값 상승 영향, 필요시 적절한 조치\"(종합)',\n",
              "  '링크': 'https://v.daum.net/v/20250313151502400',\n",
              "  '내용': '(서울=뉴스1) 김동규 임세원 윤주현 기자 = 박상우 국토교통부 장관이 13일 서울시의 토지거래허가구역 해제 이후 강남권을 중심으로 집값이 상승했다는 점을 인정하는가 하면, 필요시 서울시와 적절한 조치를 할 뜻을 밝혔다. 이날 국회에서 열린 국토교통위원회 전체회의에 참석한 박 장관은 최근 강남권 집값 상승과 토지거래허가구역 해제와의 연관성 질의에 이같이 답했다. 그는 \"토지거래허가구역 해제에 대해 서울시의 자율성 보장 차원에서 적극적으로 반대하지는 않았다\"면서도 \"다만 앞으로 주택시장이 어떻게 변할지 서울시와 면밀하게 검토해 필요한 사안이 있으면 시기를 놓치지 않고 적절한 조치를 하겠다\"고 말했다.이어 \"지난해 여러 노력 결과 착공 물량이 상당히 많이 있는데, 앞으로도 공공에서 원활하게 공급이 잘 되도록 열심히 노력하겠다\"고 덧붙였다.서울세종고속도로 안성구간 교량 붕괴사고와 관련해 재발방지 대책이 마련될 것으로 보인다. 박 장관은 \"서울세종고속도로 건설현장 붕괴 사고는 현재 사고 원인 규명을 위해 사고조사위원회를 운영 중\"이라며 \"민간 전문가를 통해 사고 원인을 투명하고 객관적으로 조사하는 한편 유사 사고가 반복되지 않도록 철저한 재발 방지 대책을 마련하겠다\"고 전했다.아울러 \"부상자와 유가족분들이 사고의 아픔을 딛고 하루라도 빨리 일상으로 복귀할 수 있도록 장례와, 치료비, 생계지원, 법률자문 등을 충분히 하겠다\"며 \"인근 가옥에 대한 안전점검과, 주민 심리치료, 영업활동 보상 등 사고 현장 인근의 주민과 상인들을 위한 지원에도 최선을 다하겠다\"고 말했다.사고 현장에 적용됐던 \\'거더공법\\'의 안전성을 다시 살펴볼 예정이다. 그는 \"거더 장비가 길이 55m까지 설치 가능하다고 알고 있는데 공법 안전성이라든지, 유사 사고가 계속 발생하는 점을 감안해 특별히 관리 대상으로 할 것\"이라며 \"안전하게 시공할 수 있는 방안이 무엇인지 다시 한번 따져보겠다\"고 설명했다.에어부산 화재 사고와 관련해서 박 장관은 \"아직 화재 원인이 밝혀지지 않았지만 보조배터리 화재에 대한 국민적 불안을 고려해 관리 강화 방안을 마련해 시행하고 있다\"며 \"방안 시행 이후 전국 공항의 운영 상황을 면밀히 모니터링하고 있고, 현장에 원활히 정착될 수 있도록 노력해 나가겠다\"고 말했다.서울양평고속도로 타당성조사 용역 수행 감사 결과에 대해 \"용역 관리가 부실하게 된 점, 과업수행계획서 일부를 삭제하고 국회에 제출한 사실도 확인했다\"며 \"부당하게 선지급된 용역비 3억 3000만 원을 회수하고, 용역감독 및 준공처리 담당자 등 관련자 7명에 대해 문책, 징계처분을 요구했다\"고 전했다.dkim@news1.kr '},\n",
              " {'제목': '메리츠화재, MG손보 인수 포기…노조 반발에 우선협상자 반납(종합2보)',\n",
              "  '링크': 'https://v.daum.net/v/20250313150440920',\n",
              "  '내용': '(서울=연합뉴스) 이율 기자 = 메리츠화재가 MG손해보험 노동조합의 반발에 결국 인수를 포기했다.메리츠금융지주는 13일 공시를 통해 자회사인 메리츠화재해상보험이 MG손해보험 매각과 관련한 우선협상대상자 지위를 반납하기로 했다고 밝혔다.메리츠금융지주는 공시에서 \"예금보험공사로부터 MG손해보험 매각과 관련해 MG손해보험의 보험계약을 포함한 자산부채이전(P&A) 거래의 우선협상 대상자로 선정됐으나 각 기관의 입장차이 등으로 우선협상대상자 지위를 반납하기로 했다\"고 설명했다.메리츠금융지주는 13일 이사회 결의를 통해 예보에 이같은 내용에 대한 통지를 발송했다고 덧붙였다. 예금보험공사는 지난해 12월 9일 MG손해보험 인수 우선협상대상자로 메리츠화재를 선정했다.그러나 메리츠화재는 우선협상대상자로 선정된 이후 3개월이 지나도록 매각조건 협의를 위한 실사에 착수하지 못했다. MG손보 노조가 고용 보장 등을 요구하며 실사를 거부했기 때문이다.메리츠화재는 법적으로 고용 승계 의무가 없는 P&A(자산부채이전) 방식으로 인수를 추진했다. 이에 따라 MG손보는 인수된 후 대규모 구조조정이 불가피한 상황이었다.메리츠화재는 MG손보 노조에 고용규모를 전체 직원의 10%, 비고용 위로금 수준으로 250억원을 제시했지만, 노조와 입장차를 좁히지 못했다.메리츠화재는 앞서 지난달 28일까지 MG손보 노조가 실사와 수용가능한 고용규모와 위로금 수준에 대한 노조의 실질적이고 완전한 협조 약속이 없는 이상, 우선협상대상자 지위를 반납하겠다고 최후통첩했다.이후 12일 최종적으로 예보와 메리츠화재, MG손보 노조, MG손보 대표관리인간 고용수준 등의 협의를 위한 회의가 예정돼 있었지만, 메리츠화재 측의 조건에 반발한 노조의 불참으로 불발됐다.금융당국과 예보는 이날 메리츠화재의 우선협상대상자 지위 반납 이후 낸 입장 자료에서 \"현 시점은 MG손보를 부실금융기관으로 결정한 이후 이미 약 3년이 지난 상황\"이라며 \"매각절차가 지연되면서 MG손보의 건전성 지표 등 경영환경은 지속해 악화해 왔다\"고 지적했다. MG손보의 지급여력(K-ICS) 비율은 경과조치 후 기준 작년 3분기 43.4%로 법정 기준인 100%를 크게 하회한다.이에 따라 시장에서도 MG손보의 독자생존에 대한 우려가 커지고 있어, 정부는 이를 엄중하게 인식하고 있다며 이번 사안에 대해 금융당국과 예보는 법과 원칙에 따라 대응해나갈 계획이라고 설명했다.앞서 예보는 MG손해보험의 우선협상대상자로 선정된 메리츠화재가 인수를 포기할 경우 청·파산을 포함한 정리 대안을 검토하겠다고 밝혔다. MG손해보험이 청산될 경우 계약이전 없는 첫 국내 보험사 청산 사례가 될 것으로 전망된다. 리젠트화재 등 이전 보험사 퇴출 사례의 경우 M&A(인수·합병)이나 P&A(자산부채이전) 방식을 통해 계약을 이전한 뒤 청산한 사례여서 계약자들의 피해가 적었다.예보는 2022년 4월 MG손보가 부실금융기관으로 결정된 이후 4차례 공개 매각(재입찰 1차례 포함)을 추진했다.MG손보가 실제 청산 절차를 밟게 되면 MG손보 보험계약자 124만명에 피해가 갈 수 있다.보험회사가 청산되면 보험계약자는 예금자보호법상 5천만원까지 해약환급금을 보장받지만, 이를 초과하는 금액은 손실을 볼 수 있다. 이들은 계약 해지로 해약환급금보다 적은 금액을 파산배당으로 받게 된다. 또, 실손보험 등은 기존 보험과 같은 조건으로 다른 보험사에 재가입이 어려울 수 있다.청산절차로 갈 경우 600여명의 MG손보 임직원은 일자리를 잃게 된다.MG손보 노조는 이날 보도자료에서 \"메리츠화재 우선협상대상자 포기는 고용승계없는 P&A 방식이 부른 금융당국의 정책실패, 메리츠화재의 과도한 실사자료 요구 등이 맞물려 벌어진 당연한 결과\"라면서 \"메리츠화재는 전체 직원의 10%를 승계하고 고작 6개월의 위로금을 주겠다는 말도 안 되는 조건을 내건 테이블을 꾸리더니 노조의 불참을 핑계 삼아 매각이 결렬된 것처럼 포장했다\"고 지적했다. 노조는 \"금융당국은 청산과 파산을 언급하며 혼란과 불안을 가중시켜서는 안되며, 꼼수와 특례로 점철된 매각이 아닌 제대로 된 매각에 나서야 한다\"면서 \"노조는 정상적인 공정한 매각을 위한 과정에 걸림돌이 되지 않고 어떠한 역할이라도 책임감 있는 노력과 협력을 다할 것\"이라고 말했다.yulsid@yna.co.kr▶제보는 카톡 okjebo'}]"
            ]
          },
          "metadata": {},
          "execution_count": 15
        }
      ]
    },
    {
      "cell_type": "markdown",
      "source": [
        "# API 사용\n",
        "  - 네이버개발자 센터"
      ],
      "metadata": {
        "id": "a86JdDTKWPT0"
      }
    },
    {
      "cell_type": "code",
      "source": [
        "import os\n",
        "import sys\n",
        "import urllib.request\n",
        "client_id = \"sdNRbBL92SwJIst8YDmF\"\n",
        "client_secret = \"WVBHSS_l0S\"\n",
        "encText = urllib.parse.quote(\"엔코아\")\n",
        "url = \"https://openapi.naver.com/v1/search/news?query=\" + encText # JSON 결과\n",
        "# url += '&display=100'\n",
        "request = urllib.request.Request(url)\n",
        "request.add_header(\"X-Naver-Client-Id\",client_id)\n",
        "request.add_header(\"X-Naver-Client-Secret\",client_secret)\n",
        "\n",
        "response = urllib.request.urlopen(request)\n",
        "rescode = response.getcode()\n",
        "\n",
        "import json\n",
        "\n",
        "if(rescode==200):\n",
        "    response_body = response.read()\n",
        "    print(type(response_body.decode('utf-8')))\n",
        "    # print(response_body.decode('utf-8'))\n",
        "    json_dict = json.loads(response_body.decode('utf-8'))\n",
        "    print(json_dict['items'][0]['title'])\n",
        "    print(json_dict['items'][0]['link'])\n",
        "    print(json_dict['items'][0]['description'])\n",
        "    print(len(json_dict['items']))\n",
        "\n",
        "else:\n",
        "    print(\"Error Code:\" + rescode)"
      ],
      "metadata": {
        "colab": {
          "base_uri": "https://localhost:8080/"
        },
        "id": "vpCDu4mCcCMS",
        "outputId": "92f881af-0381-457e-b095-8f70be9003b9"
      },
      "execution_count": null,
      "outputs": [
        {
          "output_type": "stream",
          "name": "stdout",
          "text": [
            "<class 'str'>\n",
            "SK네트웍스, 퀄컴 손잡고 AI 사업 강화\n",
            "https://n.news.naver.com/mnews/article/015/0005104853?sid=101\n",
            "자동차 종합관리 자회사 SK스피드메이트는 사고 차량 AI 자동 견적 시스템을 도입했으며, 데이터 솔루션 및 컨설팅 전문 자회사 <b>엔코아</b>는 AI 활용 기반이 되는 데이터 자산화 전략을 선보였다. 중고폰 거래 플랫폼... \n",
            "10\n"
          ]
        }
      ]
    },
    {
      "cell_type": "markdown",
      "source": [
        "# 공공기관 API"
      ],
      "metadata": {
        "id": "WcY19p-JkbV8"
      }
    },
    {
      "cell_type": "code",
      "source": [
        "# Python3 샘플 코드 #\n",
        "\n",
        "\n",
        "import requests\n",
        "\n",
        "url = 'http://openapi.tour.go.kr/openapi/service/EdrcntTourismStatsService/getEdrcntTourismStatsList'\n",
        "service_key = '4dr0Ui4/QMen1/waNp8qkB24tz549lFOnJIJl/BzZami5c434Bui7bVOp5j1EVKBJzQF2VCgW8QY2lbbXyhqNA=='\n",
        "params ={'serviceKey' : service_key, 'YM' : '201201', 'NAT_CD' : '112', 'ED_CD' : 'E' }\n",
        "\n",
        "response = requests.get(url, params=params)\n",
        "print(response.content)"
      ],
      "metadata": {
        "id": "iOX9Dv3ncDum",
        "colab": {
          "base_uri": "https://localhost:8080/"
        },
        "outputId": "e97e55a4-6f6b-49b8-f5b7-878c3f5f61d3"
      },
      "execution_count": null,
      "outputs": [
        {
          "output_type": "stream",
          "name": "stdout",
          "text": [
            "b'<?xml version=\"1.0\" encoding=\"UTF-8\" standalone=\"yes\"?><response><header><resultCode>0000</resultCode><resultMsg>OK</resultMsg></header><body><items><item><ed>\\xeb\\xb0\\xa9\\xed\\x95\\x9c\\xec\\x99\\xb8\\xeb\\x9e\\x98\\xea\\xb4\\x80\\xea\\xb4\\x91\\xea\\xb0\\x9d</ed><edCd>E</edCd><natCd>112</natCd><natKorNm>\\xec\\xa4\\x91  \\xea\\xb5\\xad</natKorNm><num>167022</num><rnum>1</rnum><ym>201201</ym></item></items><numOfRows>10</numOfRows><pageNo>1</pageNo><totalCount>1</totalCount></body></response>'\n"
          ]
        }
      ]
    },
    {
      "cell_type": "code",
      "source": [
        "import xml.etree.ElementTree as ET\n",
        "# 디코딩\n",
        "xml_string = response.content.decode('utf-8')\n",
        "# xml 파싱\n",
        "root = ET.fromstring(xml_string)\n",
        "\n",
        "# xml -> json 함수\n",
        "def xml_to_json(element):\n",
        "  json_dict = {}\n",
        "  for child in element:\n",
        "    if len(child) > 0:\n",
        "      json_dict[child.tag] = xml_to_json(child)\n",
        "    else:\n",
        "      json_dict[child.tag] = child.text\n",
        "  return json_dict\n",
        "# xml형태를 json으로 적용\n",
        "result = xml_to_json(root)\n",
        "result"
      ],
      "metadata": {
        "colab": {
          "base_uri": "https://localhost:8080/"
        },
        "id": "_M63QhGjl12B",
        "outputId": "e40d76fc-5f17-4b43-8230-f4d49845cd0c"
      },
      "execution_count": null,
      "outputs": [
        {
          "output_type": "execute_result",
          "data": {
            "text/plain": [
              "{'header': {'resultCode': '0000', 'resultMsg': 'OK'},\n",
              " 'body': {'items': {'item': {'ed': '방한외래관광객',\n",
              "    'edCd': 'E',\n",
              "    'natCd': '112',\n",
              "    'natKorNm': '중  국',\n",
              "    'num': '167022',\n",
              "    'rnum': '1',\n",
              "    'ym': '201201'}},\n",
              "  'numOfRows': '10',\n",
              "  'pageNo': '1',\n",
              "  'totalCount': '1'}}"
            ]
          },
          "metadata": {},
          "execution_count": 12
        }
      ]
    },
    {
      "cell_type": "code",
      "source": [],
      "metadata": {
        "id": "92klYQrKnr0m"
      },
      "execution_count": null,
      "outputs": []
    }
  ]
}