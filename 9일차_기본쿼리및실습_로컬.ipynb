{
  "cells": [
    {
      "cell_type": "raw",
      "id": "af39710b-5e16-4b38-8b15-6836e4d0b01e",
      "metadata": {
        "id": "af39710b-5e16-4b38-8b15-6836e4d0b01e"
      },
      "source": [
        "SQL 기본개념\n",
        "\"\"\"\n",
        "    sql : 데이터 베이스를 정의하고 조작하는 언어, 질의어\n",
        "    주요명령어\n",
        "        DDL(Data Definition Laguage) : create, alter, drop 테이블 생성 수정 삭제\n",
        "        DML(Data Manipulation Laguage) : insert select update delete 데이터  CRUD\n",
        "        DCL(Data Control Laguage) : grant, revoke 권한부여 삭제\n",
        "    함수 : 데이터 가공 및 계산을 위한 내장 함수 : count avg json_extract 등등...\n",
        "\"\"\""
      ]
    },
    {
      "cell_type": "code",
      "execution_count": null,
      "id": "ecf1cd0e-de57-4ad0-b9c3-e181a34da2ff",
      "metadata": {
        "scrolled": true,
        "id": "ecf1cd0e-de57-4ad0-b9c3-e181a34da2ff",
        "outputId": "de724bd0-532d-4ebc-c151-ef2b03033c04"
      },
      "outputs": [
        {
          "name": "stdout",
          "output_type": "stream",
          "text": [
            "db sucess connection\n",
            "1205 (HY000): Lock wait timeout exceeded; try restarting transaction\n"
          ]
        }
      ],
      "source": [
        "from mysql import connector\n",
        "\n",
        "args = {\n",
        "      'host' : 'localhost',\n",
        "      'user' : 'root',\n",
        "      'password' : 'root1234',\n",
        "      'port' : 3306\n",
        "}\n",
        "\n",
        "conn = None\n",
        "cursor = None\n",
        "try:\n",
        "    conn = connector.connect(**args)   # localhost에 접속 해서 접속 객체를 생성\n",
        "    cursor = conn.cursor() # 실제 db에 명령을 전달(sql)\n",
        "    print('db sucess connection')\n",
        "    sql = '''\n",
        "     insert into student_db2.students(name,age,kor,eng,math)\n",
        "     select\n",
        "    \tconcat(\n",
        "    \t\tELT(floor(1+rand()*5), '김','이','박','양','김'),\n",
        "            ELT(floor(1+rand()*5), '현수','주현','동현','현호','재성')\n",
        "        ) as name,\n",
        "        floor(20+rand()*10) as age,\n",
        "        floor(60+rand()*40) as kor,\n",
        "        floor(60+rand()*40) as eng,\n",
        "        floor(60+rand()*40) as math\n",
        "    ;\n",
        "    '''\n",
        "    for _ in range(1000):\n",
        "        cursor.execute(sql)\n",
        "        conn.commit()\n",
        "    print(cursor.fetchall())\n",
        "except Exception as e:\n",
        "    print(e)\n",
        "finally:\n",
        "    if conn:\n",
        "        cursor.close()\n",
        "        conn.close()"
      ]
    },
    {
      "cell_type": "raw",
      "id": "4b13b4a6-217c-4605-b14b-97a919d43033",
      "metadata": {
        "id": "4b13b4a6-217c-4605-b14b-97a919d43033"
      },
      "source": [
        "학생 테이블을 관리할 클래스\n",
        "    DB 연결하고 기본적인 studenmng 클래스 생성"
      ]
    },
    {
      "cell_type": "code",
      "execution_count": null,
      "id": "2e024ef4-1a38-4a4b-9868-3948518c4b47",
      "metadata": {
        "id": "2e024ef4-1a38-4a4b-9868-3948518c4b47"
      },
      "outputs": [],
      "source": [
        "from mysql.connector import connect, Error"
      ]
    },
    {
      "cell_type": "code",
      "execution_count": null,
      "id": "efe5626c-adc5-4733-8e1a-2873d4d35f6b",
      "metadata": {
        "id": "efe5626c-adc5-4733-8e1a-2873d4d35f6b"
      },
      "outputs": [],
      "source": [
        "# 생성자 매개변수 : host, user, password, databases\n",
        "class StudentMng:\n",
        "    def __init__(self, host='localhost', user='root',password='root1234',database='student_db2'):\n",
        "        self.conn = None\n",
        "        self.cursor = None\n",
        "        self.args = { 'host':host, 'user':user, 'password':password,'database':database}\n",
        "    def connection(self):\n",
        "        try:\n",
        "            self.conn = connect(**self.args)\n",
        "            self.cursor = self.conn.cursor()\n",
        "            print(f'접속 성공')\n",
        "        except Exception as e:\n",
        "            print(f'연결 오류: {e}')\n",
        "    def disconnect(self):\n",
        "        if self.cursor:\n",
        "            self.cursor.close()\n",
        "        if self.conn:\n",
        "            self.conn.close()\n",
        "        print('db 연결이 종료되었습니다')\n",
        "    # 학생데이터 생성\n",
        "    def create_student(self,name,age,kor,eng,math):\n",
        "        try:\n",
        "            query = \"\"\"\n",
        "                insert into students values(null, %s, %s, %s, %s, %s)\n",
        "            \"\"\"\n",
        "            self.cursor.execute(query,(name,age,kor,eng,math) )\n",
        "            self.conn.commit()\n",
        "            print('학생데이터 생성 완료')\n",
        "        except Error as e:\n",
        "            print(f\"학생데이터 생성 오류 {e}\")\n",
        "    # 모든 학생테이블 조회\n",
        "    def get_all_student(self):\n",
        "        try:\n",
        "            query = \"\"\"\n",
        "                select * from students\n",
        "            \"\"\"\n",
        "            self.cursor.execute(query)\n",
        "            results = self.cursor.fetchall()\n",
        "            return results\n",
        "        except Error as e:\n",
        "            print(f\"학생데이터 조회 오류 {e}\")\n",
        "\n",
        "    def update_student(self,id, name=None,age=None,kor=None,eng=None,math=None):\n",
        "        try:\n",
        "            query = \"\"\"\n",
        "                update students\n",
        "                    set name = coalesce(%s,name),\n",
        "                    age = coalesce(%s,age),\n",
        "                    kor = coalesce(%s,kor),\n",
        "                    eng = coalesce(%s,eng),\n",
        "                    math = coalesce(%s,math)\n",
        "                where id = %s\n",
        "            \"\"\"\n",
        "            self.cursor.execute(query,(name,age,kor,eng,math,id))\n",
        "            self.conn.commit()\n",
        "        except Error as e:\n",
        "            print(f\"학생데이터 업데이트 오류 {e}\")\n",
        "    def delte_student(self,id):\n",
        "        try:\n",
        "            query = \"\"\"\n",
        "                delete from students where id = %s\n",
        "            \"\"\"\n",
        "            self.cursor.execute(query, (id,) )\n",
        "            self.conn.commit()\n",
        "        except Error as e:\n",
        "            print(f\"학생데이터 삭제 오류 {e}\")"
      ]
    },
    {
      "cell_type": "code",
      "execution_count": null,
      "id": "cc785a24-6dae-490b-ba58-3f78571ba407",
      "metadata": {
        "id": "cc785a24-6dae-490b-ba58-3f78571ba407",
        "outputId": "9683d4e0-31e9-4ead-bd2c-74c5c9c3a4d7"
      },
      "outputs": [
        {
          "name": "stdout",
          "output_type": "stream",
          "text": [
            "접속 성공\n"
          ]
        }
      ],
      "source": [
        "if __name__ == '__main__':\n",
        "    # 객체생성\n",
        "    s = StudentMng();\n",
        "    s.connection()\n",
        "    # 학생데이터 생성\n",
        "    s.create_student('홍길동',5,15,25,35)\n",
        "    print('조회----------------------------------')\n",
        "    students = s.get_all_student()\n",
        "    for idx, data in enumerate(students):\n",
        "        if idx == 5:\n",
        "            break\n",
        "        print(data)\n",
        "    print('업데이트----------------------------------')\n",
        "    s.update_student(2,eng = 100)\n",
        "    print('업데이트 후 데이터 확인')\n",
        "    students = s.get_all_student()\n",
        "    for idx, data in enumerate(students):\n",
        "        if idx == 5:\n",
        "            break\n",
        "        print(data)\n",
        "    # 삭제"
      ]
    },
    {
      "cell_type": "code",
      "execution_count": null,
      "id": "173380ed-e838-4976-8bdd-fd50e6c85bb0",
      "metadata": {
        "id": "173380ed-e838-4976-8bdd-fd50e6c85bb0"
      },
      "outputs": [],
      "source": [
        "update_student(1, name='장보고', age=40, scores={\"eng\": 70, \"kor\":90, \"math\":80 })"
      ]
    },
    {
      "cell_type": "code",
      "execution_count": null,
      "id": "c4b3d5ae-cee4-43d0-b7bf-ab337af521b9",
      "metadata": {
        "id": "c4b3d5ae-cee4-43d0-b7bf-ab337af521b9"
      },
      "outputs": [],
      "source": []
    },
    {
      "cell_type": "markdown",
      "id": "11fee911-e5d7-4b22-8b3a-3d25bf43d432",
      "metadata": {
        "id": "11fee911-e5d7-4b22-8b3a-3d25bf43d432"
      },
      "source": [
        "# SteamLit 적용"
      ]
    },
    {
      "cell_type": "code",
      "execution_count": null,
      "id": "5eac12da-5fb3-438d-a011-3ffd39ac68fd",
      "metadata": {
        "id": "5eac12da-5fb3-438d-a011-3ffd39ac68fd"
      },
      "outputs": [],
      "source": [
        "!pip install streamlit mysql-connector-python -q"
      ]
    },
    {
      "cell_type": "code",
      "execution_count": null,
      "id": "d901289e-b1a1-4558-8234-a80b51ecc3bb",
      "metadata": {
        "id": "d901289e-b1a1-4558-8234-a80b51ecc3bb",
        "outputId": "a0f07ba8-46fd-48f6-f4bd-ccdfa17ac7ee"
      },
      "outputs": [
        {
          "name": "stdout",
          "output_type": "stream",
          "text": [
            "Overwriting app.py\n"
          ]
        }
      ],
      "source": [
        "%%writefile app.py\n",
        "import streamlit as st\n",
        "from mysql.connector import connect, Error\n",
        "\n",
        "# 생성자 매개변수 : host, user, password, databases\n",
        "class StudentMng:\n",
        "    def __init__(self, host='localhost', user='root',password='root1234',database='student_db2'):\n",
        "        self.conn = None\n",
        "        self.cursor = None\n",
        "        self.args = { 'host':host, 'user':user, 'password':password,'database':database}\n",
        "    def connection(self):\n",
        "        try:\n",
        "            self.conn = connect(**self.args)\n",
        "            self.cursor = self.conn.cursor()\n",
        "            print(f'접속 성공')\n",
        "        except Exception as e:\n",
        "            print(f'연결 오류: {e}')\n",
        "    def disconnect(self):\n",
        "        if self.cursor:\n",
        "            self.cursor.close()\n",
        "        if self.conn:\n",
        "            self.conn.close()\n",
        "        print('db 연결이 종료되었습니다')\n",
        "    # 학생데이터 생성\n",
        "    def create_student(self,name,age,kor,eng,math):\n",
        "        try:\n",
        "            query = \"\"\"\n",
        "                insert into students values(null, %s, %s, %s, %s, %s)\n",
        "            \"\"\"\n",
        "            self.cursor.execute(query,(name,age,kor,eng,math) )\n",
        "            self.conn.commit()\n",
        "            print('학생데이터 생성 완료')\n",
        "        except Error as e:\n",
        "            print(f\"학생데이터 생성 오류 {e}\")\n",
        "    # 모든 학생테이블 조회\n",
        "    def get_all_student(self):\n",
        "        try:\n",
        "            query = \"\"\"\n",
        "                select * from students\n",
        "            \"\"\"\n",
        "            self.cursor.execute(query)\n",
        "            results = self.cursor.fetchall()\n",
        "            return results\n",
        "        except Error as e:\n",
        "            print(f\"학생데이터 조회 오류 {e}\")\n",
        "\n",
        "    def update_student(self,id, name=None,age=None,kor=None,eng=None,math=None):\n",
        "        try:\n",
        "            query = \"\"\"\n",
        "                update students\n",
        "                    set name = coalesce(%s,name),\n",
        "                    age = coalesce(%s,age),\n",
        "                    kor = coalesce(%s,kor),\n",
        "                    eng = coalesce(%s,eng),\n",
        "                    math = coalesce(%s,math)\n",
        "                where id = %s\n",
        "            \"\"\"\n",
        "            self.cursor.execute(query,(name,age,kor,eng,math,id))\n",
        "            self.conn.commit()\n",
        "        except Error as e:\n",
        "            print(f\"학생데이터 업데이트 오류 {e}\")\n",
        "    def delte_student(self,id):\n",
        "        try:\n",
        "            query = \"\"\"\n",
        "                delete from students where id = %s\n",
        "            \"\"\"\n",
        "            self.cursor.execute(query, (id,) )\n",
        "            self.conn.commit()\n",
        "        except Error as e:\n",
        "            print(f\"학생데이터 삭제 오류 {e}\")\n",
        "\n",
        "def main():\n",
        "    st.title('학생관리 시스템')\n",
        "    # 세션 상태로 db 연결 유지\n",
        "    if 'student_mng' not in st.session_state:\n",
        "        st.session_state['student_mng'] = StudentMng()\n",
        "        st.session_state['student_mng'].connection()\n",
        "    student_mng = st.session_state['student_mng']\n",
        "\n",
        "\n",
        "    # 사이드바 추가\n",
        "    menu = st.sidebar.selectbox('메뉴',['홈','학생추가','학생조회','학생수정','학생삭제'])\n",
        "    if menu == '홈':\n",
        "        st.write('안녕하세요! 학생관리 시스템에 오신것을 환영합니다')\n",
        "    else:\n",
        "        st.write(f'{menu}기능 개발중')\n",
        "    if st.sidebar.button('DB 연결 종료'):\n",
        "        student_mng.disconnect()\n",
        "        del st.session_state['student_mng']\n",
        "        st.write('DB 연결을 종료합니다')\n",
        "\n",
        "if __name__=='__main__':\n",
        "    main()"
      ]
    },
    {
      "cell_type": "code",
      "execution_count": null,
      "id": "7b11a8b8-57e2-4842-b532-05a90d7c8783",
      "metadata": {
        "id": "7b11a8b8-57e2-4842-b532-05a90d7c8783"
      },
      "outputs": [],
      "source": []
    }
  ],
  "metadata": {
    "kernelspec": {
      "display_name": "Python 3 (ipykernel)",
      "language": "python",
      "name": "python3"
    },
    "language_info": {
      "codemirror_mode": {
        "name": "ipython",
        "version": 3
      },
      "file_extension": ".py",
      "mimetype": "text/x-python",
      "name": "python",
      "nbconvert_exporter": "python",
      "pygments_lexer": "ipython3",
      "version": "3.12.9"
    },
    "colab": {
      "provenance": []
    }
  },
  "nbformat": 4,
  "nbformat_minor": 5
}