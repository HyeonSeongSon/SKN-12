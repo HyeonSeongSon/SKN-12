{
  "nbformat": 4,
  "nbformat_minor": 0,
  "metadata": {
    "colab": {
      "provenance": []
    },
    "kernelspec": {
      "name": "python3",
      "display_name": "Python 3"
    },
    "language_info": {
      "name": "python"
    }
  },
  "cells": [
    {
      "cell_type": "markdown",
      "source": [
        "함수"
      ],
      "metadata": {
        "id": "_83o81qTe8NW"
      }
    },
    {
      "cell_type": "code",
      "execution_count": null,
      "metadata": {
        "id": "zXRzy4E2bJ0C",
        "colab": {
          "base_uri": "https://localhost:8080/"
        },
        "outputId": "dad0420e-577e-40d1-d283-f9f662f85d20"
      },
      "outputs": [
        {
          "output_type": "stream",
          "name": "stdout",
          "text": [
            "두개의 정수를 입력 : 10 20\n",
            "30\n",
            "-10\n",
            "200\n",
            "0.5\n"
          ]
        }
      ],
      "source": [
        "# 간단한 계산기 (사칙연산)\n",
        "# 피연산자 두개의 값\n",
        "\n",
        "a,b = map(int ,input('두개의 정수를 입력 : ').split())\n",
        "print(a+b)\n",
        "print(a-b)\n",
        "print(a*b)\n",
        "print(a/b)"
      ]
    },
    {
      "cell_type": "code",
      "source": [
        "# def [함수명](매개변수):\n",
        "# 로직\n",
        "# [return value]"
      ],
      "metadata": {
        "id": "V2vnL7-7evD2"
      },
      "execution_count": null,
      "outputs": []
    },
    {
      "cell_type": "code",
      "source": [
        "def calculator(a:int, b:int, op:str):\n",
        "  if op == '+':\n",
        "    return(a+b)\n",
        "  elif op == '-':\n",
        "    return(a-b)\n",
        "  elif op == '*':\n",
        "    return(a*b)\n",
        "  elif op =='/':\n",
        "    return(a/b)"
      ],
      "metadata": {
        "id": "yZloxtr8e-mc"
      },
      "execution_count": null,
      "outputs": []
    },
    {
      "cell_type": "code",
      "source": [
        "a,b = 10,5\n",
        "print(calculator(a,b,'+'))\n",
        "print(calculator(a,b,'-'))\n",
        "print(calculator(a,b,'*'))\n",
        "print(calculator(a,b,'/'))"
      ],
      "metadata": {
        "colab": {
          "base_uri": "https://localhost:8080/"
        },
        "id": "q_1GHcJPfi8l",
        "outputId": "1fc7c973-fa90-43b7-db90-86f5a2ef4a8f"
      },
      "execution_count": null,
      "outputs": [
        {
          "output_type": "stream",
          "name": "stdout",
          "text": [
            "15\n",
            "5\n",
            "50\n",
            "2.0\n"
          ]
        }
      ]
    },
    {
      "cell_type": "code",
      "source": [
        "# 주어진 문장(영어)을 모두 소문자 또는 대문자로 반환하는 함수를 만드시오\n",
        "\n",
        "def lower_upper(sentence:str, option:int):\n",
        "  \"\"\"\n",
        "  영어 문장을 소문자 또는 대문자로 변환하는 로직\n",
        "  sentence : 변환할 문장\n",
        "  optin : 0 (소문자로 변환) / 1 (대문자로 변환)\n",
        "  return : 소문자 혹은 대문자로 변환된 text\n",
        "  \"\"\"\n",
        "\n",
        "  if option == 0:\n",
        "    return sentence.lower()\n",
        "  elif option == 1:\n",
        "    return sentence.upper()\n",
        "\n",
        "text = 'HELLO WORLD'\n",
        "print(lower_upper(text,0))\n",
        "print(lower_upper(text,1))"
      ],
      "metadata": {
        "colab": {
          "base_uri": "https://localhost:8080/"
        },
        "id": "7ffgdQ6rflro",
        "outputId": "556b91b6-21cd-447d-e40c-60416ba8e76c"
      },
      "execution_count": null,
      "outputs": [
        {
          "output_type": "stream",
          "name": "stdout",
          "text": [
            "hello world\n",
            "HELLO WORLD\n"
          ]
        }
      ]
    },
    {
      "cell_type": "markdown",
      "source": [
        "# 함수 사용의 목적\n",
        "  - 코드의 재사용\n",
        "  - 간결함 --> 가독성 높은 코드\n",
        "  - 변수나 함수나 네이밍을 잘 해아 한다"
      ],
      "metadata": {
        "id": "e-GiRHOFhOjk"
      }
    },
    {
      "cell_type": "code",
      "source": [
        "!pip install konlpy"
      ],
      "metadata": {
        "colab": {
          "base_uri": "https://localhost:8080/"
        },
        "id": "uEw4nDwli8xN",
        "outputId": "e9979ca4-95a4-4feb-bb03-daf1d5249030"
      },
      "execution_count": null,
      "outputs": [
        {
          "output_type": "stream",
          "name": "stdout",
          "text": [
            "Collecting konlpy\n",
            "  Downloading konlpy-0.6.0-py2.py3-none-any.whl.metadata (1.9 kB)\n",
            "Collecting JPype1>=0.7.0 (from konlpy)\n",
            "  Downloading jpype1-1.5.2-cp311-cp311-manylinux_2_17_x86_64.manylinux2014_x86_64.whl.metadata (4.9 kB)\n",
            "Requirement already satisfied: lxml>=4.1.0 in /usr/local/lib/python3.11/dist-packages (from konlpy) (5.3.1)\n",
            "Requirement already satisfied: numpy>=1.6 in /usr/local/lib/python3.11/dist-packages (from konlpy) (1.26.4)\n",
            "Requirement already satisfied: packaging in /usr/local/lib/python3.11/dist-packages (from JPype1>=0.7.0->konlpy) (24.2)\n",
            "Downloading konlpy-0.6.0-py2.py3-none-any.whl (19.4 MB)\n",
            "\u001b[2K   \u001b[90m━━━━━━━━━━━━━━━━━━━━━━━━━━━━━━━━━━━━━━━━\u001b[0m \u001b[32m19.4/19.4 MB\u001b[0m \u001b[31m27.1 MB/s\u001b[0m eta \u001b[36m0:00:00\u001b[0m\n",
            "\u001b[?25hDownloading jpype1-1.5.2-cp311-cp311-manylinux_2_17_x86_64.manylinux2014_x86_64.whl (494 kB)\n",
            "\u001b[2K   \u001b[90m━━━━━━━━━━━━━━━━━━━━━━━━━━━━━━━━━━━━━━━━\u001b[0m \u001b[32m494.1/494.1 kB\u001b[0m \u001b[31m17.6 MB/s\u001b[0m eta \u001b[36m0:00:00\u001b[0m\n",
            "\u001b[?25hInstalling collected packages: JPype1, konlpy\n",
            "Successfully installed JPype1-1.5.2 konlpy-0.6.0\n"
          ]
        }
      ]
    },
    {
      "cell_type": "code",
      "source": [
        "def getData (filepath:str):\n",
        "  # txt파일의 text 불러오기\n",
        "  with open(filepath, 'r', encoding = 'utf-8') as f:\n",
        "    text = f.read()\n",
        "  return text"
      ],
      "metadata": {
        "id": "bHbSIzMbn2lJ"
      },
      "execution_count": null,
      "outputs": []
    },
    {
      "cell_type": "code",
      "source": [
        "def preprocessing(text:str):\n",
        "  # konlpy 라이브러리를 사용하여 단어(명사) 분리\n",
        "  okt = Okt()\n",
        "  nouns_text = okt.nouns(text)\n",
        "\n",
        "  # 단어 빈도수 계산\n",
        "  word_count = Counter(nouns_text)\n",
        "  return word_count"
      ],
      "metadata": {
        "id": "L-N21cz9oDy7"
      },
      "execution_count": null,
      "outputs": []
    },
    {
      "cell_type": "code",
      "source": [
        "def topword(word_count:list, top):\n",
        "  # top 매개변수만큼 상위 단어 개수 return\n",
        "  top_word = word_count.most_common(top)\n",
        "  return top_word"
      ],
      "metadata": {
        "id": "RQTv-7Yvpug1"
      },
      "execution_count": null,
      "outputs": []
    },
    {
      "cell_type": "code",
      "source": [
        "text = getData(filepath)\n",
        "print(text)"
      ],
      "metadata": {
        "colab": {
          "base_uri": "https://localhost:8080/"
        },
        "id": "cxiDAQ7vqyQB",
        "outputId": "ecdd5dcd-d2ce-4f99-f073-402208de1d0a"
      },
      "execution_count": null,
      "outputs": [
        {
          "output_type": "stream",
          "name": "stdout",
          "text": [
            "딥시크(DeepSeek)의 추론 모델 ‘R1’이 세계 인공지능(AI) 시장을 뒤흔든 가운데 중국 내 주요 기업들이 딥시크에 맞서 성능과 속도를 강화한 신모델을 잇달아 출시·예고하며 경쟁이 치열해지고 있다.\n",
            "\n",
            "27일(현지시간) 로이터통신에 따르면 중국 텐센트는 딥시크 R1보다 빠른 응답 속도를 자랑하는 AI 모델 ‘혼위안 터보 S(Hunyuan Turbo S)’를 출시했다고 밝혔다. 텐센트는 “혼위안 터보 S는 1초 이내에 질문에 답변할 수 있어 딥시크 R1, 기존 혼위안 T1, 그리고 ‘생각하는 시간’이 필요한 느린 모델들과 차별화된다”고 공식 발표했다. 이 모델은 위챗(WeChat) 플랫폼에 통합돼 13억 명 이상 사용자에게 빠르고 저렴한 AI 서비스를 제공할 계획이다.\n",
            "\n",
            "‘혼위안 터보 S’은 훈위안 T1 업그레이드 버전이다. 텐센트는 지식, 수학, 추론과 같은 분야에서 테스트한 결과 터보 S의 성능이 딥시크 AI 챗봇을 구동하는 딥시크-V3와 동등한 수준임을 확인했다고 전했다. 가격도 이전 모델보다 훨씬 저렴하게 책정됐으나 자세한 성능 벤치마크 정보는 공개되지 않았다. 텐센트 추후 추가 발표에서 이를 공개할 예정이다.\n",
            "\n",
            "딥시크 추론모델 ‘R1’은 지난 1월 출시 이후 오픈소스와 저비용 전략으로 세계 AI 시장을 뒤흔들었다. 오픈AI 추론 모델 ‘o1’과 비슷한 수준 성능에 약 90% 저렴한 비용으로 개발해 전 세계에 충격을 주면 ‘딥시크 쇼크’를 일으켰다. 출시 후 빠르게 오픈AI 챗GPT 애플리케이션 다운로드 수를 넘어섰다. 이 성공은 전 세계 빅테크 기업들에 충격을 주며 모델 출시 경쟁을 더욱 부추겼다.\n",
            "\n",
            "알리바바도 역시 딥시크를 뛰어넘을 추론 모델을 준비 중이다. 지난달 알리바바는 지난달 대형언어모델(LLM) ‘큐원 2.5 맥스(Qwen 2.5-Max)’를 출시하며 딥시크-V3를 능가한다고 주장했다. 이후 한 달도 안 된 20일(미국 현지시간) 알리바바는 실적 컨퍼런스콜에서 큐원 2.5 맥스를 기반으로 ‘제2의 딥시크’ 불릴 차세대 AI 추론 모델을 출시할 것이라고 알렸다.\n",
            "\n",
            "바이두는 올해 하반기 차세대 AI 모델 ‘어니(Ernie) 5.0’을 출시하며 이를 오픈소스로 공개한다고 밝혔다. 업계에서는 이 추론 모델이 딥시크 R1을 넘어설 것으로 전망하고 있다. 멀티모달 기능이 크게 향상될 것이라고 알려졌다. 다만 ‘어니 5.0’ 자세한 성능은 아직 알려지지 않았다. \n",
            "\n",
            "아울러 바이두는 14일(현지시간) 위챗 공식 계정을 통해 몇 달 내 ‘어니 4.5’ 시리즈를 순차적으로 출시하고, 오는 6월 30일부터 소스 코드를 공식 공개한다고 발표했다. 그동안 AI 개발에서 폐쇄형 전략을 유지해 온 바이두가 오픈소스화로 방향을 전환한 데에는 딥시크의 영향이 큰 것으로 분석된다. 바이두는 지난 2023년 3월 중국 빅테크 기업 중 가장 먼저 챗GPT와 유사한 챗봇 ‘어니봇’을 선보인 바 있다. 당시 오픈AI 챗GPT를 대응한 모델로 주목받았다. 하지만 어니봇은 중국 소비자들로부터 높은 관심을 받지 못했다. 이후 바이두는 오픈AI의 라이벌 자리를 딥시크에 내준 뒤 모델 개발 및 출시에 더욱 속도를 내고 있다. \n",
            "\n",
            "상하이 소재 AI 스타트업 스테프펀(Stepfun)은 텍스트-비디오 생성과 음성 상호작용을 지원하는 멀티모달 모델을 오픈소스로 공개했다. 3월에는 이미지-비디오 모델 출시를 예고했다. 지앙 다신 스테프펀 CEO는 “추론 능력이 강화된 AI가 멀티모달과 결합하면 AI 에이전트 분야에서 혁신이 일어날 것”이라고 밝혔다.\n",
            "\n",
            "◇ 美 빅테크도 추론 모델 경쟁 가속 \n",
            "\n",
            "딥시크 등장 이후 추론 모델 경쟁이 더욱 뜨거워지면서 미국 내 경쟁도 치열해졌다. 앤트로픽은 오픈AI보다 먼저 일반 모델과 추로 모델을 결합한 ‘클로드 3.7(Claude 3.7)’을 최근 발표하며, 딥시크 ‘R1’과 오픈AI ‘o1’을 겨냥한 빠른 응답 속도와 복잡한 문제 해결 능력을 강조했다. 오픈AI는 최신 추론 모델 ‘o3-미니’를 무료 사용자에게 개방하며 딥시크에 대응했다. \n",
            "\n",
            "xAI도 추론 모델 경쟁에 뛰어들었다. 일론 머스크가 이끄는 xAI는 지난 17일(현지시간) 최신 AI 모델 ‘그록 3(Grok 3)’를 출시하면서 추론 능력을 강화한 ‘그록 3 리즈닝(Grok 3 Reasoning)’ 버전도 공개했다. ‘그록 3’는 20만 장의 GPU를 활용해 개발됐으며 수학, 과학, 코딩 등 다양한 벤치마크에서 딥시크 R1과 오픈AI의 주요 모델을 뛰어넘는 성능을 입증했다.\n",
            "\n",
            "xAI는 공식 계정 X 라이브에서 그록 3의 성능을 구체적인 수치로 공개했다. 추론 중심 모델인 ‘그록 3 리즈닝(Grok 3 Reasoning)’은 AIME 2025(미국수학경시대회)에서 54점을 기록하며 오픈AI의 ‘o1’(51점)과 딥시크의 ‘R1’(50점)을 앞섰고, GPQA(대학원 수준 과학 문항)에서는 78점을 얻어 오픈AI의 ‘o3-mini-high’(75점)와 딥시크-V3(70점)를 넘어서는 성능을 보였다고 xAI 측은 밝혔다.\n",
            "\n"
          ]
        }
      ]
    },
    {
      "cell_type": "code",
      "source": [
        "count_nouns = preprocessing(text)\n",
        "print(count_nouns)"
      ],
      "metadata": {
        "colab": {
          "base_uri": "https://localhost:8080/"
        },
        "id": "aTTpuAncq4YD",
        "outputId": "269c0b3c-235d-46b1-9146-0a21373e8623"
      },
      "execution_count": null,
      "outputs": [
        {
          "output_type": "stream",
          "name": "stdout",
          "text": [
            "Counter({'모델': 27, '딥': 20, '시크': 20, '추론': 14, '출시': 12, '오픈': 10, '를': 9, '의': 8, '성능': 8, '공개': 7, '경쟁': 6, '점': 6, '이': 5, '달': 5, '시간': 5, '위안': 5, '것': 5, '바이두': 5, '그록': 5, '세계': 4, '중국': 4, '속도': 4, '현지': 4, '텐센트': 4, '혼': 4, '터보': 4, '공식': 4, '발표': 4, '은': 4, '이후': 4, '오픈소스': 4, '과': 4, '개발': 4, '뒤': 3, '내': 3, '기업': 3, '고': 3, '수학': 3, '수준': 3, '전': 3, '지난': 3, '챗': 3, '더욱': 3, '알리바바': 3, '미국': 3, '어': 3, '멀티': 3, '능력': 3, '시장': 2, '주요': 2, '예고': 2, '응답': 2, '수': 2, '위챗': 2, '사용자': 2, '버전': 2, '분야': 2, '챗봇': 2, '벤치마크': 2, '비용': 2, '전략': 2, '충격': 2, '빅': 2, '테크': 2, '지난달': 2, '큐원': 2, '맥스': 2, '차세대': 2, '계정': 2, '먼저': 2, '어니봇': 2, '대응': 2, '스테프펀': 2, '비디오': 2, '최신': 2, '리즈': 2, '닝': 2, '과학': 2, '인공': 1, '지능': 1, '가운데': 1, '로이터': 1, '통신': 1, '자랑': 1, '이내': 1, '질문': 1, '답변': 1, '기존': 1, '생각': 1, '차별': 1, '플랫폼': 1, '통합': 1, '명': 1, '이상': 1, '서비스': 1, '제공': 1, '계획': 1, '훈': 1, '업그레이드': 1, '지식': 1, '테스트': 1, '결과': 1, '구동': 1, '동등': 1, '임': 1, '확인': 1, '가격': 1, '이전': 1, '책정': 1, '정보': 1, '추후': 1, '추가': 1, '예정': 1, '약': 1, '쇼크': 1, '후': 1, '애플리케이션': 1, '다운로드': 1, '성공': 1, '역시': 1, '준비': 1, '중이': 1, '대형': 1, '언어': 1, '능가': 1, '주장': 1, '달도': 1, '안': 1, '실적': 1, '컨퍼런스': 1, '콜': 1, '기반': 1, '제': 1, '올해': 1, '하반기': 1, '업계': 1, '전망': 1, '기능': 1, '크게': 1, '향상': 1, '다만': 1, '통해': 1, '몇': 1, '시리즈': 1, '순차': 1, '소스': 1, '코드': 1, '그동안': 1, '폐쇄형': 1, '유지': 1, '온': 1, '화로': 1, '방향': 1, '전환': 1, '데': 1, '영향': 1, '분석': 1, '중': 1, '가장': 1, '바': 1, '당시': 1, '주목': 1, '소비자': 1, '로부터': 1, '관심': 1, '라이벌': 1, '자리': 1, '및': 1, '상하이': 1, '소재': 1, '스타트업': 1, '텍스트': 1, '생': 1, '성과': 1, '음성': 1, '상호작용': 1, '지원': 1, '이미지': 1, '강화': 1, '결': 1, '에이전트': 1, '혁신': 1, '빅테크': 1, '가속': 1, '등장': 1, '앤트로픽': 1, '일반': 1, '추로': 1, '결합': 1, '클로드': 1, '최근': 1, '겨냥': 1, '문제': 1, '해결': 1, '강조': 1, '미니': 1, '무료': 1, '개방': 1, '도': 1, '론': 1, '머스크': 1, '장의': 1, '활용': 1, '코딩': 1, '등': 1, '입증': 1, '라이브': 1, '구체': 1, '수치': 1, '중심': 1, '대회': 1, '기록': 1, '대학원': 1, '문항': 1, '측은': 1})\n"
          ]
        }
      ]
    },
    {
      "cell_type": "code",
      "source": [
        "top = 10\n",
        "print(topword(count_nouns, top))"
      ],
      "metadata": {
        "colab": {
          "base_uri": "https://localhost:8080/"
        },
        "id": "nY70KDjcrM0_",
        "outputId": "4176d192-8a4c-4b57-a4f8-cfce6bc95ad6"
      },
      "execution_count": null,
      "outputs": [
        {
          "output_type": "stream",
          "name": "stdout",
          "text": [
            "[('모델', 27), ('딥', 20), ('시크', 20), ('추론', 14), ('출시', 12), ('오픈', 10), ('를', 9), ('의', 8), ('성능', 8), ('공개', 7)]\n"
          ]
        }
      ]
    },
    {
      "cell_type": "code",
      "source": [
        "from typing import Collection\n",
        "# 사용자로부터 데이터를 입력받아서\n",
        "# 문자열... 중에 특수문자는 제거\n",
        "\n",
        "# 문자열의 단어를 분리해서.. 단어의 개수를 센다\n",
        "\n",
        "# 출력은 단어의 개수중에 빈도수가 높은 상위 3개만 출력한다\n",
        "\n",
        "from konlpy.tag import Okt\n",
        "from collections import Counter\n",
        "\n",
        "filepath = '/content/drive/MyDrive/data/deepseek_news.txt'\n",
        "def top_word_display(filepath:str, top:int):\n",
        "  \"\"\"\n",
        "  txt파일 경로를 입력 받아서 파일내 문장의 단어의 상위 단어를 반환하는 로직\n",
        "  filepath : txt 파일경로\n",
        "  top : 반환할 상위 단어 개수\n",
        "  return : 빈도수 상위 단어\n",
        "  \"\"\"\n",
        "\n",
        "  # txt파일의 text 불러오기\n",
        "  with open(filepath, 'r', encoding = 'utf-8') as f:\n",
        "    text = f.read()\n",
        "\n",
        "  # konlpy 라이브러리를 사용하여 단어(명사) 분리\n",
        "  okt = Okt()\n",
        "  nouns_text = okt.nouns(text)\n",
        "\n",
        "  # 단어 빈도수 계산\n",
        "  word_count = Counter(nouns_text)\n",
        "\n",
        "  # 두글자 이상 단어의 top 매개변수만큼 상위 단어 개수 return\n",
        "  for word, _ in word_count.most_common(len(word_count)):\n",
        "    if len(word) < 2:\n",
        "      del word_count[word]\n",
        "  return word_count.most_common(top)"
      ],
      "metadata": {
        "id": "HzFC9U24gk2J"
      },
      "execution_count": null,
      "outputs": []
    },
    {
      "cell_type": "code",
      "source": [
        "print(top_word_display(filepath, 3))\n",
        "print(top_word_display(filepath, 5))"
      ],
      "metadata": {
        "colab": {
          "base_uri": "https://localhost:8080/"
        },
        "id": "f7dRhP89jDIl",
        "outputId": "dc43b830-ec7f-4639-c6b6-ad3f2c16db55"
      },
      "execution_count": null,
      "outputs": [
        {
          "output_type": "stream",
          "name": "stdout",
          "text": [
            "[('모델', 27), ('시크', 20), ('추론', 14)]\n",
            "[('모델', 27), ('시크', 20), ('추론', 14), ('출시', 12), ('오픈', 10)]\n"
          ]
        }
      ]
    },
    {
      "cell_type": "code",
      "source": [
        "# 기본 형태 매개변수 하나와 리턴값 하나\n",
        "# print(함수명\"철수\") -> '안녕철수'\n",
        "\n",
        "def hello(name):\n",
        "  return f'안녕 {name}'\n",
        "\n",
        "print(hello('철수'))"
      ],
      "metadata": {
        "colab": {
          "base_uri": "https://localhost:8080/"
        },
        "id": "NyUwIGIbu_1-",
        "outputId": "ad27917a-19f3-42bb-eab7-27ac3bdc99a9"
      },
      "execution_count": null,
      "outputs": [
        {
          "output_type": "stream",
          "name": "stdout",
          "text": [
            "안녕 철수\n"
          ]
        }
      ]
    },
    {
      "cell_type": "markdown",
      "source": [
        "# 매개변수 : 함수에 전달하는 값을 함수에서 사용하도록 변수로 표현"
      ],
      "metadata": {
        "id": "is-MKS4Lwnl5"
      }
    },
    {
      "cell_type": "code",
      "source": [
        "# 자기소개 이름과 나이를 전달 받아서 적당히 출력문장을 리턴\n",
        "# 함수설계할때 사용하는 변수를 argument\n",
        "# 함수를 호출할 때 전달하는 변수를 parameter\n",
        "# 현장에서는 주로 파라미터라는 단어로 통합\n",
        "\n",
        "def introduction(name, age):   # positional argument\n",
        "  return f'이름 : {name} 나이 : {age}'\n",
        "\n",
        "print(introduction('철수','20'))\n",
        "print(introduction('영희'))"
      ],
      "metadata": {
        "colab": {
          "base_uri": "https://localhost:8080/",
          "height": 200
        },
        "id": "Ff57f20IvZWZ",
        "outputId": "0348f501-2957-4719-b58d-ec231ce6596c"
      },
      "execution_count": null,
      "outputs": [
        {
          "output_type": "stream",
          "name": "stdout",
          "text": [
            "이름 : 철수 나이 : 20\n"
          ]
        },
        {
          "output_type": "error",
          "ename": "TypeError",
          "evalue": "introduction() missing 1 required positional argument: 'age'",
          "traceback": [
            "\u001b[0;31m---------------------------------------------------------------------------\u001b[0m",
            "\u001b[0;31mTypeError\u001b[0m                                 Traceback (most recent call last)",
            "\u001b[0;32m<ipython-input-100-9e0e139db426>\u001b[0m in \u001b[0;36m<cell line: 0>\u001b[0;34m()\u001b[0m\n\u001b[1;32m      4\u001b[0m \u001b[0;34m\u001b[0m\u001b[0m\n\u001b[1;32m      5\u001b[0m \u001b[0mprint\u001b[0m\u001b[0;34m(\u001b[0m\u001b[0mintroduction\u001b[0m\u001b[0;34m(\u001b[0m\u001b[0;34m'철수'\u001b[0m\u001b[0;34m,\u001b[0m\u001b[0;34m'20'\u001b[0m\u001b[0;34m)\u001b[0m\u001b[0;34m)\u001b[0m\u001b[0;34m\u001b[0m\u001b[0;34m\u001b[0m\u001b[0m\n\u001b[0;32m----> 6\u001b[0;31m \u001b[0mprint\u001b[0m\u001b[0;34m(\u001b[0m\u001b[0mintroduction\u001b[0m\u001b[0;34m(\u001b[0m\u001b[0;34m'영희'\u001b[0m\u001b[0;34m)\u001b[0m\u001b[0;34m)\u001b[0m\u001b[0;34m\u001b[0m\u001b[0;34m\u001b[0m\u001b[0m\n\u001b[0m",
            "\u001b[0;31mTypeError\u001b[0m: introduction() missing 1 required positional argument: 'age'"
          ]
        }
      ]
    },
    {
      "cell_type": "markdown",
      "source": [
        "# 기본 매개변수(default argument)\n",
        "  - 생략이 가능하기 때문에.. 생략 가능한 위치에서만 가능\n",
        "  - 즉 매개변수 리스트 뒤에서부터 작성가능\n",
        "  - default == positional 뒤에만 존재\n",
        "  - 매개변수가 많으면.. 기본적으로 특정 값을 가지게하여 좀더 유연한 프로그래밍 가능\n",
        "  "
      ],
      "metadata": {
        "id": "2weIbXanyPu-"
      }
    },
    {
      "cell_type": "code",
      "source": [
        "# 기본 매개변수를 사용하려면 뒤에서부터 정의해야함\n",
        "def introduction(name = '길동', age):\n",
        "  return f'이름 : {name} 나이 : {age}'\n",
        "\n",
        "print(introduction('철수','20'))\n",
        "print(introduction('영희'))\n",
        "print(introduction(, 20))"
      ],
      "metadata": {
        "colab": {
          "base_uri": "https://localhost:8080/",
          "height": 110
        },
        "id": "VpE8lVQ6zM_a",
        "outputId": "d6966f46-52ab-47f6-9dda-3aa319f741ed"
      },
      "execution_count": null,
      "outputs": [
        {
          "output_type": "error",
          "ename": "SyntaxError",
          "evalue": "non-default argument follows default argument (<ipython-input-104-5742fd24470e>, line 2)",
          "traceback": [
            "\u001b[0;36m  File \u001b[0;32m\"<ipython-input-104-5742fd24470e>\"\u001b[0;36m, line \u001b[0;32m2\u001b[0m\n\u001b[0;31m    def introduction(name = '길동', age):\u001b[0m\n\u001b[0m                                  ^\u001b[0m\n\u001b[0;31mSyntaxError\u001b[0m\u001b[0;31m:\u001b[0m non-default argument follows default argument\n"
          ]
        }
      ]
    },
    {
      "cell_type": "code",
      "source": [
        "# age 매개변수에 20이라는 기본값을 설정하여 함수 호출할 때 입력하지 않을 때 생략이 가능함\n",
        "def introduction(name, age=20):\n",
        "  return f'이름 : {name} 나이 : {age}'\n",
        "\n",
        "print(introduction('철수','20'))\n",
        "print(introduction('영희'))"
      ],
      "metadata": {
        "colab": {
          "base_uri": "https://localhost:8080/"
        },
        "id": "Z0dI1WdJxFZx",
        "outputId": "cb401c1a-767d-42da-ac68-aaa56b149c96"
      },
      "execution_count": null,
      "outputs": [
        {
          "output_type": "stream",
          "name": "stdout",
          "text": [
            "이름 : 철수 나이 : 20\n",
            "이름 : 영희 나이 : 20\n"
          ]
        }
      ]
    },
    {
      "cell_type": "code",
      "source": [
        "# 전부 다 줄 수 있음\n",
        "#\n",
        "def introduction(name = '길동', age =20):\n",
        "  return f'이름 : {name} 나이 : {age}'\n",
        "\n",
        "print(introduction('철수','20'))\n",
        "print(introduction('영희'))\n",
        "print(introduction())"
      ],
      "metadata": {
        "colab": {
          "base_uri": "https://localhost:8080/"
        },
        "id": "XOYXYIMvzt-8",
        "outputId": "fef1ccb4-ae84-4b42-f1d1-85293e897190"
      },
      "execution_count": null,
      "outputs": [
        {
          "output_type": "stream",
          "name": "stdout",
          "text": [
            "이름 : 철수 나이 : 20\n",
            "이름 : 영희 나이 : 20\n",
            "이름 : 길동 나이 : 20\n"
          ]
        }
      ]
    },
    {
      "cell_type": "code",
      "source": [
        "# 매개변수를 잘못 넣으면 설계대로 맵핑 된대로 반환함\n",
        "print(introduction(20,'철수'))\n",
        "\n",
        "# 하지만 변수와 함께 넣는다면 순서와 상관없음\n",
        "print(introduction(age=20, name='철수'))"
      ],
      "metadata": {
        "colab": {
          "base_uri": "https://localhost:8080/"
        },
        "id": "qonX3pOy1lsy",
        "outputId": "f5c54d88-ff0d-4825-bdb9-0a16a95a4a90"
      },
      "execution_count": null,
      "outputs": [
        {
          "output_type": "stream",
          "name": "stdout",
          "text": [
            "이름 : 20 나이 : 철수\n",
            "이름 : 철수 나이 : 20\n"
          ]
        }
      ]
    },
    {
      "cell_type": "markdown",
      "source": [
        "# 가변 매개변수\n",
        "  - 함수의 매개변수의 개수가 가변 즉 정해지지 않음"
      ],
      "metadata": {
        "id": "ijdnmS4B0y8D"
      }
    },
    {
      "cell_type": "code",
      "source": [
        "# 주어진 숫자를 전부 더하는 함수\n",
        "# 주어진 숫자의 개수가 유동적일때\n",
        "# 현재까지 배운것으로는 리스트로 넣음\n",
        "def sum_all(num_list:list):\n",
        "  return (sum(num_list))\n",
        "\n",
        "num_list = [10, 20, 30]\n",
        "print(sum_all(num_list))"
      ],
      "metadata": {
        "colab": {
          "base_uri": "https://localhost:8080/"
        },
        "id": "JXC8NC-Lz9hF",
        "outputId": "048c7498-8bb9-400d-c46c-ad2375ab68a3"
      },
      "execution_count": null,
      "outputs": [
        {
          "output_type": "stream",
          "name": "stdout",
          "text": [
            "60\n"
          ]
        }
      ]
    },
    {
      "cell_type": "code",
      "source": [
        "# packing\n",
        "# args argument는 튜플 형태로 전환 또는 받음 = packing 함\n",
        "def sum_all(*args):\n",
        "  print(args)\n",
        "  print(type(args))\n",
        "  return sum(args)\n",
        "\n",
        "print(sum_all(1,2,3,4,5,6,6,7,8))"
      ],
      "metadata": {
        "colab": {
          "base_uri": "https://localhost:8080/"
        },
        "id": "U_sd3Fs_7Rkl",
        "outputId": "069f98c5-b70c-4c36-eda0-f8e4c298cf33"
      },
      "execution_count": null,
      "outputs": [
        {
          "output_type": "stream",
          "name": "stdout",
          "text": [
            "(1, 2, 3, 4, 5, 6, 6, 7, 8)\n",
            "<class 'tuple'>\n",
            "42\n"
          ]
        }
      ]
    },
    {
      "cell_type": "code",
      "source": [
        "# introduction('철수',20) 기존 방식\n",
        "send_data = '철수', 20\n",
        "print(send_data)\n",
        "introdcution(send_data)   # 2개의 매개변수를 받아야하지만 1개의 매개변수만 들어가서 오류 발생"
      ],
      "metadata": {
        "colab": {
          "base_uri": "https://localhost:8080/",
          "height": 200
        },
        "id": "OwsYB2eI8BKC",
        "outputId": "219d00ee-107d-4998-e638-38db85a64b62"
      },
      "execution_count": null,
      "outputs": [
        {
          "output_type": "stream",
          "name": "stdout",
          "text": [
            "('철수', 20)\n"
          ]
        },
        {
          "output_type": "error",
          "ename": "NameError",
          "evalue": "name 'introdcution' is not defined",
          "traceback": [
            "\u001b[0;31m---------------------------------------------------------------------------\u001b[0m",
            "\u001b[0;31mNameError\u001b[0m                                 Traceback (most recent call last)",
            "\u001b[0;32m<ipython-input-124-286ca7993531>\u001b[0m in \u001b[0;36m<cell line: 0>\u001b[0;34m()\u001b[0m\n\u001b[1;32m      2\u001b[0m \u001b[0msend_data\u001b[0m \u001b[0;34m=\u001b[0m \u001b[0;34m'철수'\u001b[0m\u001b[0;34m,\u001b[0m \u001b[0;36m20\u001b[0m\u001b[0;34m\u001b[0m\u001b[0;34m\u001b[0m\u001b[0m\n\u001b[1;32m      3\u001b[0m \u001b[0mprint\u001b[0m\u001b[0;34m(\u001b[0m\u001b[0msend_data\u001b[0m\u001b[0;34m)\u001b[0m\u001b[0;34m\u001b[0m\u001b[0;34m\u001b[0m\u001b[0m\n\u001b[0;32m----> 4\u001b[0;31m \u001b[0mintrodcution\u001b[0m\u001b[0;34m(\u001b[0m\u001b[0msend_data\u001b[0m\u001b[0;34m)\u001b[0m   \u001b[0;31m# 2개의 매개변수를 받아야하지만 1개의 매개변수만 들어가서 오류 발생\u001b[0m\u001b[0;34m\u001b[0m\u001b[0;34m\u001b[0m\u001b[0m\n\u001b[0m",
            "\u001b[0;31mNameError\u001b[0m: name 'introdcution' is not defined"
          ]
        }
      ]
    },
    {
      "cell_type": "code",
      "source": [
        "# introduction('철수',20) 기존 방식\n",
        "send_data = '철수', 20\n",
        "print(send_data)\n",
        "introduction(*send_data) # unpacking / 위에서는 입력받은 데이터를 묶어서 전달했다면, 이번엔 데이터를 풀어서 전달"
      ],
      "metadata": {
        "colab": {
          "base_uri": "https://localhost:8080/",
          "height": 54
        },
        "id": "eHwlmBhn9pFq",
        "outputId": "85ebe27f-0ff5-4e6b-8f48-aeba5735c16c"
      },
      "execution_count": null,
      "outputs": [
        {
          "output_type": "stream",
          "name": "stdout",
          "text": [
            "('철수', 20)\n"
          ]
        },
        {
          "output_type": "execute_result",
          "data": {
            "text/plain": [
              "'이름 : 철수 나이 : 20'"
            ],
            "application/vnd.google.colaboratory.intrinsic+json": {
              "type": "string"
            }
          },
          "metadata": {},
          "execution_count": 127
        }
      ]
    },
    {
      "cell_type": "code",
      "source": [
        "# packing VS unpacking\n",
        "def sample_fun1(*args):   # 여러개의 전달값을 한개의 매개변수로 받음 -packing\n",
        "  for arg in args:\n",
        "    print(f'전달한 매개변수는 : {arg}', end=' ')\n",
        "\n",
        "sample_fun1(10, '안녕')\n",
        "\n",
        "print('-')\n",
        "# 한개의 전달값을 여러개의 매개변수로 받음 -unpacking  (unpacking의 사용빈도가 더 높음)\n",
        "def sample_fun2(a,b,c,d):\n",
        "  print(a,b,c,d)\n",
        "\n",
        "send_data = 10,20,'안녕하세요',40\n",
        "sample_fun2(*send_data)   # --> sample_fun2(10,20,'안녕하세요',40)"
      ],
      "metadata": {
        "colab": {
          "base_uri": "https://localhost:8080/"
        },
        "id": "E2OTuqyz-Ibe",
        "outputId": "3d55cc83-766a-4505-b81c-8fd08e8d06dc"
      },
      "execution_count": null,
      "outputs": [
        {
          "output_type": "stream",
          "name": "stdout",
          "text": [
            "전달한 매개변수는 : 10 전달한 매개변수는 : 안녕 -\n",
            "10 20 안녕하세요 40\n"
          ]
        }
      ]
    },
    {
      "cell_type": "markdown",
      "source": [
        "# 키워드 가변 매개변수\n",
        "  - 기존 가변 매개변수에다가 이름을 붙임"
      ],
      "metadata": {
        "id": "q7iqLXYlBQOD"
      }
    },
    {
      "cell_type": "code",
      "source": [
        "# 함수 설계할때 *args 라고 하면 함수를 호출하는 쪽에서는 값을 나열\n",
        "# 데이터 전달 형태 : 1,2,3,4,5,6\n",
        "\n",
        "# 함수 설계할때 **kwargs 라고 하면 함수를 호출하는 쪽에서는 값을 나열\n",
        "# 데이터 전달 형태 : name='홍길동', age=20\n",
        "\n",
        "def introduction(**kwargs):   # keyword variable argument\n",
        "  return f'이름 : {kwargs[\"name\"]} / 나이:{kwargs[\"age\"]}'\n",
        "\n",
        "send_data = {'name': '홀길동', 'age':20}\n",
        "print(introduction(**send_data))   # introdcutio(name='홍길동', age=20)"
      ],
      "metadata": {
        "colab": {
          "base_uri": "https://localhost:8080/"
        },
        "id": "XwH3cZxz_AwD",
        "outputId": "ede22551-bfaa-4901-d518-08ca43006350"
      },
      "execution_count": null,
      "outputs": [
        {
          "output_type": "stream",
          "name": "stdout",
          "text": [
            "이름 : 홀길동 / 나이:20\n"
          ]
        }
      ]
    },
    {
      "cell_type": "code",
      "source": [
        "# 값을 전달받아서 총합과 평균을 반환\n",
        "def sum_avg(lists):\n",
        "  return sum(lists), sum(lists)/len(lists)\n",
        "\n",
        "import random\n",
        "data = random.sample(range(1,101), 10)  # 1 ~ 100\n",
        "print(f'data : {data}')\n",
        "total, avg = sum_avg(data)\n",
        "print(f'총합 : {total}, 평균 : {avg}')"
      ],
      "metadata": {
        "colab": {
          "base_uri": "https://localhost:8080/"
        },
        "id": "cX613V2XCflk",
        "outputId": "e19a1b8e-57b2-4c46-86d0-682428f9142e"
      },
      "execution_count": null,
      "outputs": [
        {
          "output_type": "stream",
          "name": "stdout",
          "text": [
            "data : [29, 83, 44, 51, 35, 5, 89, 37, 10, 85]\n",
            "총합 : 468, 평균 : 46.8\n"
          ]
        }
      ]
    },
    {
      "cell_type": "markdown",
      "source": [
        "# 정리\n",
        "  - 1. 함수의 정의 만들고 사용하는 방법\n",
        "  - 2. 매개변수의 정의 및 종류\n",
        "    - 2-1 positional agument 가 기본사용법\n",
        "      - 정해진 개수, 정해진 위치\n",
        "      - 호출할 때 '매개변수 이름 = 값' 하면 순서를 바꿔도 괜찮음\n",
        "    - 2-2 default argument\n",
        "      - 매개변수의 기본값이 정해져 있음\n",
        "      - 해당 매개변수의 위치에 값을 전달하지 않으면 기본값 사용\n",
        "      - 반드시 positional argument 뒤에 오도록 설계\n",
        "        - 뒤에서 부터 디폴트를 설정함\n",
        "    - 2-3 가변 매개변수\n",
        "      - 설계할 때 *args를 붙이면 전달하는 매개변수들을 하나의 튜플형태로 받아서 처리함\n",
        "      - 하나로 묶어서 처리하며 이를 packing이라 함\n",
        "      - unpacking은 반대의 개념으로 함수가 일반함수로 설계되었고 전달하는 매개변수가 많을때.. 튜플 형태로 미리 만들고 **전달**할 때 *를 붙여서 전달함\n",
        "    - 2-4 키워드 가변 매개변수\n",
        "      - 가변매개변수와 동일한 사용 다만 데이터 형식이 dictionary형태"
      ],
      "metadata": {
        "id": "0Y-R1snxIays"
      }
    },
    {
      "cell_type": "markdown",
      "source": [
        "# 복잡한 조건을 함수로 표현하기"
      ],
      "metadata": {
        "id": "4GXeSOTxLP0P"
      }
    },
    {
      "cell_type": "code",
      "source": [
        "kor, eng, math = 100, 100, 65\n",
        "# 평균 60이상 그리고 각 과목별 60미만이면 불합격\n",
        "(kor+eng+math)/3 >=60 and kor >=60 and eng >= 60 and math >= 60"
      ],
      "metadata": {
        "colab": {
          "base_uri": "https://localhost:8080/"
        },
        "id": "D61vC0crKKv1",
        "outputId": "5d00c525-ff60-4bc0-c4d3-780f77d6a5cc"
      },
      "execution_count": null,
      "outputs": [
        {
          "output_type": "execute_result",
          "data": {
            "text/plain": [
              "True"
            ]
          },
          "metadata": {},
          "execution_count": 166
        }
      ]
    },
    {
      "cell_type": "code",
      "source": [
        "def isSuccess(*score):\n",
        "  if sum(score)/len(score) < 60.0:\n",
        "    return False\n",
        "  else:\n",
        "    for subject in score:\n",
        "      if subject < 60:\n",
        "        return False\n",
        "  return True"
      ],
      "metadata": {
        "id": "eJlqBP8kLvi0"
      },
      "execution_count": null,
      "outputs": []
    },
    {
      "cell_type": "code",
      "source": [
        "kor,eng,math = map(int,input('3과목을 공백을 기준으로 입력:').split())\n",
        "if isSuccess(kor,eng,math):\n",
        "  print(\"합격입니다\")\n",
        "else:\n",
        "  print('불합격입니다')"
      ],
      "metadata": {
        "colab": {
          "base_uri": "https://localhost:8080/"
        },
        "id": "AuvbKM7DMQk9",
        "outputId": "9bae6ea4-b71c-4ea9-b23b-f506a0716870"
      },
      "execution_count": null,
      "outputs": [
        {
          "output_type": "stream",
          "name": "stdout",
          "text": [
            "3과목을 공백을 기준으로 입력:70 80 50\n",
            "불합격입니다\n"
          ]
        }
      ]
    },
    {
      "cell_type": "markdown",
      "source": [
        "# 함수에서 함수를 호출"
      ],
      "metadata": {
        "id": "DD-GaFLxNcCg"
      }
    },
    {
      "cell_type": "code",
      "source": [
        "def fun2(args):\n",
        "  print(f'fun2함수에서 호출 {args}')\n",
        "\n",
        "def fun1(args):\n",
        "  print(f'fun1함수에서 fun2호출 {args}')\n",
        "  fun2(args*2)\n",
        "  print(f'fun1함수에서 fun2호출후 {args}')\n",
        "\n",
        "\n",
        "print('fun1함수 호출전')\n",
        "fun1(10)\n",
        "print('fun1함수 호출후')"
      ],
      "metadata": {
        "colab": {
          "base_uri": "https://localhost:8080/"
        },
        "id": "SgMQdxMFMoLR",
        "outputId": "73af9a6c-4a86-480c-e44d-54c958a873bf"
      },
      "execution_count": null,
      "outputs": [
        {
          "output_type": "stream",
          "name": "stdout",
          "text": [
            "fun1함수 호출전\n",
            "fun1함수에서 fun2호출 10\n",
            "fun2함수에서 호출 20\n",
            "fun1함수에서 fun2호출후 10\n",
            "fun1함수 호출후\n"
          ]
        }
      ]
    },
    {
      "cell_type": "markdown",
      "source": [
        "# 자기가 자기자신을 호출하는 경우.. 재귀함수(Recursion)"
      ],
      "metadata": {
        "id": "IhoKqTaoO8lZ"
      }
    },
    {
      "cell_type": "code",
      "source": [
        "def fn1(data):\n",
        "  return data -1       # 3\n",
        "\n",
        "def fn2(data):\n",
        "  return fn1(data) -1  # 2  4\n",
        "\n",
        "def fn_main(data):\n",
        "  return fn2(data)     # 1  5\n",
        "\n",
        "fn_main(10)"
      ],
      "metadata": {
        "colab": {
          "base_uri": "https://localhost:8080/"
        },
        "id": "KxH7oPBdN7vi",
        "outputId": "c2fabf76-346e-4e50-d70a-82f6f7d77706"
      },
      "execution_count": null,
      "outputs": [
        {
          "output_type": "execute_result",
          "data": {
            "text/plain": [
              "8"
            ]
          },
          "metadata": {},
          "execution_count": 185
        }
      ]
    },
    {
      "cell_type": "code",
      "source": [
        "def fn_recursion(data):\n",
        "  print(data)\n",
        "  if data == 0:\n",
        "    return\n",
        "  else:\n",
        "    return fn_recursion(data-1)\n",
        "\n",
        "fn_recursion(3)"
      ],
      "metadata": {
        "colab": {
          "base_uri": "https://localhost:8080/"
        },
        "id": "NY8apGLDPR-E",
        "outputId": "1eae3c4f-4429-42cf-f4bb-15a63b255918"
      },
      "execution_count": null,
      "outputs": [
        {
          "output_type": "stream",
          "name": "stdout",
          "text": [
            "3\n",
            "2\n",
            "1\n",
            "0\n"
          ]
        }
      ]
    },
    {
      "cell_type": "code",
      "source": [
        "def fn_recursion(data):\n",
        "  print(data)\n",
        "  if data == 0:\n",
        "    return\n",
        "  else:\n",
        "    return fn_recursion(data-1)"
      ],
      "metadata": {
        "id": "55-cWkA2RqJp"
      },
      "execution_count": null,
      "outputs": []
    },
    {
      "cell_type": "markdown",
      "source": [
        "재귀함수를 사용하면 메모리 사용에 비효율적이다\n",
        "\n",
        "그럼 왜 사용하는가?\n",
        "\n",
        "예를 들면 파일을 열면, 다른 파일 or 필요한 데이터 가 있을 수 있음\n",
        "\n",
        "\n",
        "필요한 데이터를 모두 긁어와야 할 때 계속 파일안의 파일을 들어갈 필요가 있음\n",
        "\n",
        "이런 경우 사용하여 보다 동적으로 사용 가능"
      ],
      "metadata": {
        "id": "LJpqVerDi0Ll"
      }
    },
    {
      "cell_type": "markdown",
      "source": [
        "# 함수의 꽃 : 람다함수\n",
        "  - 함수의 이름없이 사용하는 함수 : 익명함수"
      ],
      "metadata": {
        "id": "Kutj40EVj80P"
      }
    },
    {
      "cell_type": "code",
      "source": [
        "# 파일명을 입력하면 확장자를 반환하는 기능\n",
        "file_lists = ['data.txt','member.number.dat','music.mp3','movie.avi']\n",
        "\n",
        "def findExtention(filepath):\n",
        "  return filepath.split('.')[-1]\n",
        "\n",
        "list(map(findExtention, file_lists))"
      ],
      "metadata": {
        "colab": {
          "base_uri": "https://localhost:8080/"
        },
        "id": "cz1EHSDiiAva",
        "outputId": "d68bfccf-ca96-4e0b-dc03-9070675665f2"
      },
      "execution_count": null,
      "outputs": [
        {
          "output_type": "execute_result",
          "data": {
            "text/plain": [
              "['txt', 'dat', 'mp3', 'avi']"
            ]
          },
          "metadata": {},
          "execution_count": 3
        }
      ]
    },
    {
      "cell_type": "code",
      "source": [
        "list(map(lambda filepath: filepath.split('.')[-1], file_lists))"
      ],
      "metadata": {
        "colab": {
          "base_uri": "https://localhost:8080/"
        },
        "id": "TWz2WMJtk5LS",
        "outputId": "69f35539-9c35-4076-d655-dfc0c0fd38c8"
      },
      "execution_count": null,
      "outputs": [
        {
          "output_type": "execute_result",
          "data": {
            "text/plain": [
              "['txt', 'dat', 'mp3', 'avi']"
            ]
          },
          "metadata": {},
          "execution_count": 5
        }
      ]
    },
    {
      "cell_type": "code",
      "source": [
        "# 아래 함수와 같다\n",
        "myFun = lambda filepath: filepath.split('.')[-1]\n",
        "print(myFun('abc.text'))\n",
        "# def findExtention(filepath):\n",
        "#   return filepath.split('.')[-1]"
      ],
      "metadata": {
        "colab": {
          "base_uri": "https://localhost:8080/"
        },
        "id": "AvKeMC_HltLe",
        "outputId": "318b86ec-9c65-475d-d877-389d30869428"
      },
      "execution_count": null,
      "outputs": [
        {
          "output_type": "stream",
          "name": "stdout",
          "text": [
            "text\n"
          ]
        }
      ]
    },
    {
      "cell_type": "markdown",
      "source": [
        "# 람다가 적용되는 상황\n",
        "  - map, filter, reduce"
      ],
      "metadata": {
        "id": "ebVTeJjSnpQi"
      }
    },
    {
      "cell_type": "code",
      "source": [
        "import random\n",
        "random_lists = random.sample(range(100),20)\n",
        "print(f'original : {random_lists}')\n",
        "\n",
        "# 짝수만 filtering 해보자\n",
        "list(filter(lambda x: x % 2 == 0, random_lists))"
      ],
      "metadata": {
        "colab": {
          "base_uri": "https://localhost:8080/"
        },
        "id": "cM3O1h-bmwSl",
        "outputId": "08271ac1-e36c-4cd2-e69a-321868599173"
      },
      "execution_count": null,
      "outputs": [
        {
          "output_type": "stream",
          "name": "stdout",
          "text": [
            "original : [55, 16, 83, 36, 7, 59, 48, 9, 21, 67, 8, 61, 37, 76, 19, 34, 99, 41, 35, 31]\n"
          ]
        },
        {
          "output_type": "execute_result",
          "data": {
            "text/plain": [
              "[16, 36, 48, 8, 76, 34]"
            ]
          },
          "metadata": {},
          "execution_count": 22
        }
      ]
    },
    {
      "cell_type": "code",
      "source": [
        "from functools import reduce\n",
        "reduce(lambda x,y: x+y, [1,2,3,4,5])"
      ],
      "metadata": {
        "colab": {
          "base_uri": "https://localhost:8080/"
        },
        "id": "Dcp2mx2QoWxT",
        "outputId": "bf26d025-49b9-4a04-a5fc-30542c9addcc"
      },
      "execution_count": null,
      "outputs": [
        {
          "output_type": "execute_result",
          "data": {
            "text/plain": [
              "15"
            ]
          },
          "metadata": {},
          "execution_count": 23
        }
      ]
    },
    {
      "cell_type": "code",
      "source": [
        "# reduce는 어떤 경우에 사용되는가?\n",
        "result_lists = [[10,20],[30,50],[10,20],[1,2,3]]   # 해당 데이터를 하나의 리스트에 담고 싶음 => [10,20,30,50,10,20,1,2,3]\n",
        "# 리스트 +리스트 = 두개의 리스트 원소를 합친 하나의 리스트\n",
        "print(f'리스트 1 : {[1,2,3]}')\n",
        "print(f'리스트 2 : {[10,20,30]}')\n",
        "print(f'리스트 1 + 리스트 2 : {[1,2,3] + [10,20,30]}')\n"
      ],
      "metadata": {
        "colab": {
          "base_uri": "https://localhost:8080/"
        },
        "id": "kkxDxo_0pqCN",
        "outputId": "b13fb266-b964-4c35-f6a6-412d2e2bf1f2"
      },
      "execution_count": null,
      "outputs": [
        {
          "output_type": "stream",
          "name": "stdout",
          "text": [
            "리스트 1 : [1, 2, 3]\n",
            "리스트 2 : [10, 20, 30]\n",
            "리스트 1 + 리스트 2 : [1, 2, 3, 10, 20, 30]\n"
          ]
        }
      ]
    },
    {
      "cell_type": "code",
      "source": [
        "# for문\n",
        "result = []\n",
        "for data in result_lists:\n",
        "  print(f'중간과정 : {result}')\n",
        "  result += data\n",
        "\n",
        "print(result)"
      ],
      "metadata": {
        "colab": {
          "base_uri": "https://localhost:8080/"
        },
        "id": "y2tUJtMNqfQS",
        "outputId": "c495075d-28b8-4364-8e94-e787b5327265"
      },
      "execution_count": null,
      "outputs": [
        {
          "output_type": "stream",
          "name": "stdout",
          "text": [
            "중간과정 : []\n",
            "중간과정 : [10, 20]\n",
            "중간과정 : [10, 20, 30, 50]\n",
            "중간과정 : [10, 20, 30, 50, 10, 20]\n",
            "[10, 20, 30, 50, 10, 20, 1, 2, 3]\n"
          ]
        }
      ]
    },
    {
      "cell_type": "code",
      "source": [
        "reduce(lambda x,y: x+y, result_lists)"
      ],
      "metadata": {
        "colab": {
          "base_uri": "https://localhost:8080/"
        },
        "id": "dZgupcgJq2KQ",
        "outputId": "5a43b072-3cf4-40f3-8a51-4528b1e955ec"
      },
      "execution_count": null,
      "outputs": [
        {
          "output_type": "execute_result",
          "data": {
            "text/plain": [
              "[10, 20, 30, 50, 10, 20, 1, 2, 3]"
            ]
          },
          "metadata": {},
          "execution_count": 37
        }
      ]
    },
    {
      "cell_type": "code",
      "source": [
        "# 조건문 중에 단순한 if ~ else 구문은 한줄로 만들수 있고\n",
        "# 한줄로 표현한다는거는 lambda에 적용가능\n",
        "# 3항연산자라고 표시하지만 파이썬에서는 그러한 답어는 없음\n",
        "x = True\n",
        "\"참\" if x == True else \"거짓\""
      ],
      "metadata": {
        "colab": {
          "base_uri": "https://localhost:8080/",
          "height": 35
        },
        "id": "PzwvBeChrS1X",
        "outputId": "cbe594e9-0097-44bf-8543-c1ecd120d4d9"
      },
      "execution_count": null,
      "outputs": [
        {
          "output_type": "execute_result",
          "data": {
            "text/plain": [
              "'참'"
            ],
            "application/vnd.google.colaboratory.intrinsic+json": {
              "type": "string"
            }
          },
          "metadata": {},
          "execution_count": 38
        }
      ]
    },
    {
      "cell_type": "code",
      "source": [
        "# 정수의 집합중에 최대값 찾기 max 사용안하고 reduce\n",
        "import random\n",
        "numbers = random.sample(range(100),10)\n",
        "print(f'ogirinal : {numbers}')\n",
        "\n",
        "# 최대값 찾기\n",
        "reduce(lambda x,y : x if x > y else y, numbers)"
      ],
      "metadata": {
        "colab": {
          "base_uri": "https://localhost:8080/"
        },
        "id": "XpI9GC9VsA7f",
        "outputId": "d1ba1626-4324-4b9e-ab48-5189693012eb"
      },
      "execution_count": null,
      "outputs": [
        {
          "output_type": "stream",
          "name": "stdout",
          "text": [
            "ogirinal : [14, 25, 10, 60, 91, 42, 23, 43, 67, 75]\n"
          ]
        },
        {
          "output_type": "execute_result",
          "data": {
            "text/plain": [
              "91"
            ]
          },
          "metadata": {},
          "execution_count": 39
        }
      ]
    },
    {
      "cell_type": "code",
      "source": [
        "# 리스트의 모든 요소가 짝수인지 확인\n",
        "import random\n",
        "from functools import reduce\n",
        "sample_lists = random.sample(range(100),3)\n",
        "print(sample_lists)\n",
        "\n",
        "#1. for\n",
        "isEven =True\n",
        "for i in sample_lists:\n",
        "  if i % 2 != 0:\n",
        "    isEven = False\n",
        "    break\n",
        "print(f'1: : {isEven}')\n",
        "\n",
        "# 2. map을 이용해서 각 값을 2나 나눈 나머지 계산\n",
        "print(f'2 : {sum(map(lambda x: x % 2, sample_lists))==0}')\n",
        "\n",
        "# 3. 홀수일대의 값만 추출해서 리스트의 개수가 0보다 크면 홀수\n",
        "print(f'3: {len(list(filter(lambda x: x % 2 != 0, sample_lists)))==0}')\n",
        "\n",
        "# 4 ramda 두개의 각각에 대해서 짝수조건을 걸고 두의 and 결과\n",
        "print(f'4 : {reduce(lambda x,y : x and y % 2 ==0, sample_lists, True)}')   # [True, num1, num2]와 같다"
      ],
      "metadata": {
        "colab": {
          "base_uri": "https://localhost:8080/"
        },
        "id": "IqTr_78fssAZ",
        "outputId": "d0585ec8-68fd-4816-9869-34ca1f86717e"
      },
      "execution_count": null,
      "outputs": [
        {
          "output_type": "stream",
          "name": "stdout",
          "text": [
            "[44, 21, 70]\n",
            "1: : False\n",
            "2 : False\n",
            "3: False\n",
            "4 : False\n"
          ]
        }
      ]
    },
    {
      "cell_type": "code",
      "source": [
        "count = 0\n",
        "while True:\n",
        "  count += 1\n",
        "  sample_lists = random.sample(range(100),10)\n",
        "  result = True if sum(list(map(lambda x : x % 2, sample_lists))) == 0 else False\n",
        "  if result == True:\n",
        "    print(sample_lists)\n",
        "    break\n",
        "\n",
        "print(f\"총 {count}회 만에 전부 짝수\")"
      ],
      "metadata": {
        "colab": {
          "base_uri": "https://localhost:8080/"
        },
        "id": "Puwl9gIxwmR8",
        "outputId": "4d42ba68-42c7-4e81-9c2f-9c9332cd32e5"
      },
      "execution_count": null,
      "outputs": [
        {
          "output_type": "stream",
          "name": "stdout",
          "text": [
            "[90, 34, 2, 74, 76, 72, 50, 42, 58, 96]\n",
            "총 224회 만에 전부 짝수\n"
          ]
        }
      ]
    },
    {
      "cell_type": "markdown",
      "source": [
        "# all/any"
      ],
      "metadata": {
        "id": "dcOOPm5k1uVK"
      }
    },
    {
      "cell_type": "code",
      "source": [
        "# all은 모든 요소가 True 여야만 True\n",
        "random_lists = [True, True, True]\n",
        "print(all(random_lists))\n",
        "random_lists = [True, False, True]\n",
        "print(all(random_lists))\n",
        "\n",
        "# any 는 한개라고 True 요소가 있으면 True\n",
        "random_lists = [True, False, True]\n",
        "print(any(random_lists))\n",
        "random_lists = [False, False, False]\n",
        "print(any(random_lists))"
      ],
      "metadata": {
        "colab": {
          "base_uri": "https://localhost:8080/"
        },
        "id": "Op906P1ryIFh",
        "outputId": "e070344b-fa4b-482a-bf00-f34054fee65b"
      },
      "execution_count": null,
      "outputs": [
        {
          "output_type": "stream",
          "name": "stdout",
          "text": [
            "True\n",
            "False\n",
            "True\n",
            "False\n"
          ]
        }
      ]
    },
    {
      "cell_type": "markdown",
      "source": [
        "# 변수의 유효범위\n",
        "- LEGB 규칙\n",
        "  - L(local) : 함수 내 지역범위\n",
        "  - E(Enclosing) : 함수를 감싸는 외부 함수의 범위(중첩함수의 경우)\n",
        "  - G(Global) : 모듈 수준의 전역범위\n",
        "  - B(Built-in) : 파이썬 내장 범위(len,print)"
      ],
      "metadata": {
        "id": "Uu0keM2h22FN"
      }
    },
    {
      "cell_type": "code",
      "source": [
        "# 런타임 초기화 후 실행\n",
        "\n",
        "# 지역변수\n",
        "def my_function():\n",
        "  x = 10   # 지역변수\n",
        "  print(f'지역변수 : {x}')\n",
        "\n",
        "my_function()\n",
        "print(f'지역변수 : {x}')"
      ],
      "metadata": {
        "colab": {
          "base_uri": "https://localhost:8080/",
          "height": 200
        },
        "id": "-uvI8LtG171G",
        "outputId": "1299d658-03be-4203-ab1b-bc3f0ee80c1d"
      },
      "execution_count": null,
      "outputs": [
        {
          "output_type": "stream",
          "name": "stdout",
          "text": [
            "지역변수 : 10\n"
          ]
        },
        {
          "output_type": "error",
          "ename": "NameError",
          "evalue": "name 'x' is not defined",
          "traceback": [
            "\u001b[0;31m---------------------------------------------------------------------------\u001b[0m",
            "\u001b[0;31mNameError\u001b[0m                                 Traceback (most recent call last)",
            "\u001b[0;32m<ipython-input-3-c31a68b91c94>\u001b[0m in \u001b[0;36m<cell line: 0>\u001b[0;34m()\u001b[0m\n\u001b[1;32m      7\u001b[0m \u001b[0;34m\u001b[0m\u001b[0m\n\u001b[1;32m      8\u001b[0m \u001b[0mmy_function\u001b[0m\u001b[0;34m(\u001b[0m\u001b[0;34m)\u001b[0m\u001b[0;34m\u001b[0m\u001b[0;34m\u001b[0m\u001b[0m\n\u001b[0;32m----> 9\u001b[0;31m \u001b[0mprint\u001b[0m\u001b[0;34m(\u001b[0m\u001b[0;34mf'지역변수 : {x}'\u001b[0m\u001b[0;34m)\u001b[0m\u001b[0;34m\u001b[0m\u001b[0;34m\u001b[0m\u001b[0m\n\u001b[0m",
            "\u001b[0;31mNameError\u001b[0m: name 'x' is not defined"
          ]
        }
      ]
    },
    {
      "cell_type": "markdown",
      "source": [
        "### 전역변수"
      ],
      "metadata": {
        "id": "hPpolg2p3mf0"
      }
    },
    {
      "cell_type": "code",
      "source": [
        "x = 5 # 전역변수\n",
        "\n",
        "# 지역변수\n",
        "def my_function():\n",
        "  x = 10   # 지역변수\n",
        "  print(f'지역변수 : {x}')\n",
        "\n",
        "my_function()\n",
        "print(f'전역변수 : {x}')"
      ],
      "metadata": {
        "colab": {
          "base_uri": "https://localhost:8080/"
        },
        "id": "QksJrom63gHF",
        "outputId": "868ebd0a-be96-4e78-f0be-0ca8e3d3282a"
      },
      "execution_count": null,
      "outputs": [
        {
          "output_type": "stream",
          "name": "stdout",
          "text": [
            "지역변수 : 10\n",
            "전역변수 : 5\n"
          ]
        }
      ]
    },
    {
      "cell_type": "code",
      "source": [
        "# 지역변수\n",
        "def my_function(y):\n",
        "  print(f'지역변수 : {y}')\n",
        "\n",
        "my_function(100)\n",
        "print(f'전역변수 : {y}')"
      ],
      "metadata": {
        "colab": {
          "base_uri": "https://localhost:8080/",
          "height": 200
        },
        "id": "k9eif8uj30bZ",
        "outputId": "d40bf942-a878-42cb-f9d3-7737646d2e81"
      },
      "execution_count": null,
      "outputs": [
        {
          "output_type": "stream",
          "name": "stdout",
          "text": [
            "지역변수 : 100\n"
          ]
        },
        {
          "output_type": "error",
          "ename": "NameError",
          "evalue": "name 'y' is not defined",
          "traceback": [
            "\u001b[0;31m---------------------------------------------------------------------------\u001b[0m",
            "\u001b[0;31mNameError\u001b[0m                                 Traceback (most recent call last)",
            "\u001b[0;32m<ipython-input-18-a70fe9494d22>\u001b[0m in \u001b[0;36m<cell line: 0>\u001b[0;34m()\u001b[0m\n\u001b[1;32m      4\u001b[0m \u001b[0;34m\u001b[0m\u001b[0m\n\u001b[1;32m      5\u001b[0m \u001b[0mmy_function\u001b[0m\u001b[0;34m(\u001b[0m\u001b[0;36m100\u001b[0m\u001b[0;34m)\u001b[0m\u001b[0;34m\u001b[0m\u001b[0;34m\u001b[0m\u001b[0m\n\u001b[0;32m----> 6\u001b[0;31m \u001b[0mprint\u001b[0m\u001b[0;34m(\u001b[0m\u001b[0;34mf'전역변수 : {y}'\u001b[0m\u001b[0;34m)\u001b[0m\u001b[0;34m\u001b[0m\u001b[0;34m\u001b[0m\u001b[0m\n\u001b[0m",
            "\u001b[0;31mNameError\u001b[0m: name 'y' is not defined"
          ]
        }
      ]
    },
    {
      "cell_type": "code",
      "source": [
        "global_var = '저는 전역변수로서 어디서나 접근 가능합니다.'\n",
        "def print_global():\n",
        "  print(f'함수내에서 접근 : {global_var}')\n",
        "\n",
        "print_global()\n",
        "\n",
        "print(f'전역범위에서 접근 : {global_var}')"
      ],
      "metadata": {
        "colab": {
          "base_uri": "https://localhost:8080/"
        },
        "id": "7x5y81-_3-ge",
        "outputId": "04d2645a-6fb2-4a0a-f1a8-e6fabff89bdf"
      },
      "execution_count": null,
      "outputs": [
        {
          "output_type": "stream",
          "name": "stdout",
          "text": [
            "함수내에서 접근 저는 전역변수로서 어디서나 접근 가능합니다.\n",
            "전역범위에서 접근 저는 전역변수로서 어디서나 접근 가능합니다.\n"
          ]
        }
      ]
    },
    {
      "cell_type": "code",
      "source": [
        "# 함수 내에서 글로벌 변수 수정가능\n",
        "# 하지만 함수 밖에서는 기존과 같음\n",
        "global_var = '저는 전역변수로서 어디서나 접근 가능합니다.'\n",
        "def print_global():\n",
        "  global_var = '함수에서수정'\n",
        "  print(f'함수내에서 접근 : {global_var}')\n",
        "\n",
        "print_global()\n",
        "\n",
        "print(f'전역범위에서 접근 : {global_var}')"
      ],
      "metadata": {
        "colab": {
          "base_uri": "https://localhost:8080/"
        },
        "id": "aalhiFSg4kIh",
        "outputId": "c50b872a-c9a5-445f-a9cd-5dd7ff707281"
      },
      "execution_count": null,
      "outputs": [
        {
          "output_type": "stream",
          "name": "stdout",
          "text": [
            "함수내에서 접근 함수에서수정\n",
            "전역범위에서 접근 저는 전역변수로서 어디서나 접근 가능합니다.\n"
          ]
        }
      ]
    },
    {
      "cell_type": "code",
      "source": [
        "# 함수내에서 변경한 글로벌 변수를 글로벌 변수로 설정하면 함수내에서 수정한 글로벌 함수도 변경 가능\n",
        "global_var = '저는 전역변수로서 어디서나 접근 가능합니다.'\n",
        "def print_global():\n",
        "  global global_var   # 함수내에서 글로벌 변수에 접근해서 수정을 할때\n",
        "  global_var = '함수에서수정'\n",
        "  print(f'함수내에서 접근 : {global_var}')\n",
        "\n",
        "print_global()\n",
        "\n",
        "print(f'전역범위에서 접근 : {global_var}')"
      ],
      "metadata": {
        "colab": {
          "base_uri": "https://localhost:8080/"
        },
        "id": "4bruRP3U5BiA",
        "outputId": "4cc17fc5-1ce7-4b49-c4ff-61b9439064ac"
      },
      "execution_count": null,
      "outputs": [
        {
          "output_type": "stream",
          "name": "stdout",
          "text": [
            "함수내에서 접근 함수에서수정\n",
            "전역범위에서 접근 함수에서수정\n"
          ]
        }
      ]
    },
    {
      "cell_type": "markdown",
      "source": [
        "# 조심해야 할 점"
      ],
      "metadata": {
        "id": "SF1rmJeB56bu"
      }
    },
    {
      "cell_type": "code",
      "source": [
        "count = 0   # 글로벌 변수\n",
        "def increment():\n",
        "  count += 1   # count 변수는 전역 아니라 함수안에서 사용했으므로 지역함수\n",
        "\n",
        "increment()   # 글로벌 변수 count는 만들었지만, 함수 내에서의 count는 지역변수를 만들지 않고 count변수에 연산하여 변수가 없다는 오류 발생"
      ],
      "metadata": {
        "colab": {
          "base_uri": "https://localhost:8080/",
          "height": 309
        },
        "id": "1f8ZBxJb5JHV",
        "outputId": "86c923a4-a1a6-4c02-8771-ee0d57aa2460"
      },
      "execution_count": null,
      "outputs": [
        {
          "output_type": "error",
          "ename": "UnboundLocalError",
          "evalue": "cannot access local variable 'count' where it is not associated with a value",
          "traceback": [
            "\u001b[0;31m---------------------------------------------------------------------------\u001b[0m",
            "\u001b[0;31mUnboundLocalError\u001b[0m                         Traceback (most recent call last)",
            "\u001b[0;32m<ipython-input-20-a65b7112c672>\u001b[0m in \u001b[0;36m<cell line: 0>\u001b[0;34m()\u001b[0m\n\u001b[1;32m      3\u001b[0m   \u001b[0mcount\u001b[0m \u001b[0;34m+=\u001b[0m \u001b[0;36m1\u001b[0m   \u001b[0;31m# count 변수는 전역 아니라 함수안에서 사용했으므로 지역함수\u001b[0m\u001b[0;34m\u001b[0m\u001b[0;34m\u001b[0m\u001b[0m\n\u001b[1;32m      4\u001b[0m \u001b[0;34m\u001b[0m\u001b[0m\n\u001b[0;32m----> 5\u001b[0;31m \u001b[0mincrement\u001b[0m\u001b[0;34m(\u001b[0m\u001b[0;34m)\u001b[0m   \u001b[0;31m# 글로벌 변수 count는 만들었지만, 함수 내에서의 count는 지역변수를 만들지 않고 count변수에 연산하여 변수가 없다는 오류 발생\u001b[0m\u001b[0;34m\u001b[0m\u001b[0;34m\u001b[0m\u001b[0m\n\u001b[0m",
            "\u001b[0;32m<ipython-input-20-a65b7112c672>\u001b[0m in \u001b[0;36mincrement\u001b[0;34m()\u001b[0m\n\u001b[1;32m      1\u001b[0m \u001b[0mcount\u001b[0m \u001b[0;34m=\u001b[0m \u001b[0;36m0\u001b[0m   \u001b[0;31m# 글로벌 변수\u001b[0m\u001b[0;34m\u001b[0m\u001b[0;34m\u001b[0m\u001b[0m\n\u001b[1;32m      2\u001b[0m \u001b[0;32mdef\u001b[0m \u001b[0mincrement\u001b[0m\u001b[0;34m(\u001b[0m\u001b[0;34m)\u001b[0m\u001b[0;34m:\u001b[0m\u001b[0;34m\u001b[0m\u001b[0;34m\u001b[0m\u001b[0m\n\u001b[0;32m----> 3\u001b[0;31m   \u001b[0mcount\u001b[0m \u001b[0;34m+=\u001b[0m \u001b[0;36m1\u001b[0m   \u001b[0;31m# count 변수는 전역 아니라 함수안에서 사용했으므로 지역함수\u001b[0m\u001b[0;34m\u001b[0m\u001b[0;34m\u001b[0m\u001b[0m\n\u001b[0m\u001b[1;32m      4\u001b[0m \u001b[0;34m\u001b[0m\u001b[0m\n\u001b[1;32m      5\u001b[0m \u001b[0mincrement\u001b[0m\u001b[0;34m(\u001b[0m\u001b[0;34m)\u001b[0m   \u001b[0;31m# 글로벌 변수 count는 만들었지만, 함수 내에서의 count는 지역변수를 만들지 않고 count변수에 연산하여 변수가 없다는 오류 발생\u001b[0m\u001b[0;34m\u001b[0m\u001b[0;34m\u001b[0m\u001b[0m\n",
            "\u001b[0;31mUnboundLocalError\u001b[0m: cannot access local variable 'count' where it is not associated with a value"
          ]
        }
      ]
    },
    {
      "cell_type": "markdown",
      "source": [
        "# 중첩범위(Encllsing Scope)\n",
        "  - 편의를 위해서 '런타임 연결해재 및 삭제'를 실행시키고 실습\n",
        "  - 내부 함수는 외부함수츼 변수를 참조"
      ],
      "metadata": {
        "id": "O02Ju-EG6zxV"
      }
    },
    {
      "cell_type": "code",
      "source": [
        "# nonlocal : 외부함수의 변수를 수정할때 사용. 없으면 새로운 지역변수로 생성\n",
        "def outer():\n",
        "  x = '외부 변수'\n",
        "  def inner():\n",
        "    nonlocal x   # 외부 함수의 변수 사용하겠다 선언\n",
        "    x = '내부에서 수정'\n",
        "    print(f'inner x : {x}')\n",
        "\n",
        "  inner()\n",
        "  print(f'outer x: {x}')\n",
        "\n",
        "outer()"
      ],
      "metadata": {
        "id": "JlC6UUfV5_On",
        "colab": {
          "base_uri": "https://localhost:8080/"
        },
        "outputId": "a7ac608a-fc05-4213-ba38-a9d8a6d3020f"
      },
      "execution_count": null,
      "outputs": [
        {
          "output_type": "stream",
          "name": "stdout",
          "text": [
            "inner x : 내부에서 수정\n",
            "outer x: 내부에서 수정\n"
          ]
        }
      ]
    },
    {
      "cell_type": "code",
      "source": [
        "# nonlocal이 없어 새로운 지역변수가 됨\n",
        "def outer():\n",
        "  x = '외부 변수'\n",
        "  def inner():\n",
        "    x = '내부에서 수정'\n",
        "    print(f'inner x : {x}')\n",
        "\n",
        "  inner()\n",
        "  print(f'outer x: {x}')\n",
        "\n",
        "outer()"
      ],
      "metadata": {
        "colab": {
          "base_uri": "https://localhost:8080/"
        },
        "id": "X_fnfQfo_n3t",
        "outputId": "e4d91fad-7faa-46b5-ea74-2866fe183f90"
      },
      "execution_count": null,
      "outputs": [
        {
          "output_type": "stream",
          "name": "stdout",
          "text": [
            "inner x : 내부에서 수정\n",
            "outer x: 외부 변수\n"
          ]
        }
      ]
    },
    {
      "cell_type": "markdown",
      "source": [
        "# LEGB"
      ],
      "metadata": {
        "id": "XBihTh64CNIG"
      }
    },
    {
      "cell_type": "code",
      "source": [
        "x = '전역 변수'\n",
        "\n",
        "def outer():\n",
        "  x = '외부 변수'\n",
        "  def inner():\n",
        "    x = '내부에서 수정'\n",
        "    print(f'inner x : {x}')\n",
        "\n",
        "  inner()\n",
        "  print(f'outer x: {x}')\n",
        "\n",
        "outer()\n",
        "\n",
        "print(f'전역 x : {x}')"
      ],
      "metadata": {
        "colab": {
          "base_uri": "https://localhost:8080/"
        },
        "id": "_meNqbNzBFgt",
        "outputId": "785d1296-6443-4fa6-bcda-bb20051efb74"
      },
      "execution_count": null,
      "outputs": [
        {
          "output_type": "stream",
          "name": "stdout",
          "text": [
            "inner x : 내부에서 수정\n",
            "outer x: 외부 변수\n",
            "전역 x : 전역 변수\n"
          ]
        }
      ]
    },
    {
      "cell_type": "code",
      "source": [
        "x = '글로벌 변수'\n",
        "\n",
        "def outer():\n",
        "  global x\n",
        "  x = '외부 변수'\n",
        "  def inner():\n",
        "    nonlocal x\n",
        "    x = '내부에서 수정'\n",
        "    print(f'inner x : {x}')\n",
        "\n",
        "  inner()\n",
        "  print(f'outer x: {x}')\n",
        "outer()\n",
        "\n",
        "print(f'global x : {x}')"
      ],
      "metadata": {
        "colab": {
          "base_uri": "https://localhost:8080/",
          "height": 110
        },
        "id": "tZHBsy6SBTKK",
        "outputId": "a6fc7643-0a5f-444d-9889-bd405023a081"
      },
      "execution_count": null,
      "outputs": [
        {
          "output_type": "error",
          "ename": "SyntaxError",
          "evalue": "no binding for nonlocal 'x' found (<ipython-input-24-1cfc0a4283ec>, line 7)",
          "traceback": [
            "\u001b[0;36m  File \u001b[0;32m\"<ipython-input-24-1cfc0a4283ec>\"\u001b[0;36m, line \u001b[0;32m7\u001b[0m\n\u001b[0;31m    nonlocal x\u001b[0m\n\u001b[0m    ^\u001b[0m\n\u001b[0;31mSyntaxError\u001b[0m\u001b[0;31m:\u001b[0m no binding for nonlocal 'x' found\n"
          ]
        }
      ]
    },
    {
      "cell_type": "code",
      "source": [
        "# 파이썬은 재미있고 유용합니다\n",
        "# 자언어는 어렵습니다\n",
        "\n",
        "# 현재문장의 단어 수 3, 누적 단어수 3\n",
        "# 현재문장의 단어 수 2, 누적 단어수 5\n",
        "words_count=0\n",
        "current_sentence = '파이썬은 재매있고 유용합니다'\n",
        "\n",
        "words = current_sentence.split()\n",
        "# words_count = len(words)\n",
        "def print_local_count(current_sentence):\n",
        "  global words_count\n",
        "  words_count += len(words)\n",
        "  local_count = len(words)\n",
        "  print(f'현재문장의 단어수 : {local_count}')\n",
        "  print(f'누적 단어수 : {words_count}')\n",
        "\n",
        "print_local_count(words)"
      ],
      "metadata": {
        "colab": {
          "base_uri": "https://localhost:8080/"
        },
        "id": "AkNQ6IIgDDmZ",
        "outputId": "04534eae-1d13-4f7c-cb24-992dcebf751e"
      },
      "execution_count": null,
      "outputs": [
        {
          "output_type": "stream",
          "name": "stdout",
          "text": [
            "현재문장의 단어수 : 3\n",
            "누적 단어수 : 3\n"
          ]
        }
      ]
    },
    {
      "cell_type": "code",
      "source": [
        "current_sentence = '자연어는 어렵습니다'\n",
        "words = current_sentence.split()\n",
        "print_local_count(words)"
      ],
      "metadata": {
        "colab": {
          "base_uri": "https://localhost:8080/"
        },
        "id": "cF7ciCcDDbu0",
        "outputId": "ab24efc4-69e7-4ac1-e10d-47da658d2b1d"
      },
      "execution_count": null,
      "outputs": [
        {
          "output_type": "stream",
          "name": "stdout",
          "text": [
            "현재문장의 단어수 : 2\n",
            "누적 단어수 : 5\n"
          ]
        }
      ]
    },
    {
      "cell_type": "code",
      "source": [
        "# 파이썬은 재미있고 유용합니다\n",
        "# 자언어는 어렵습니다\n",
        "\n",
        "# 현재문장의 단어 수 3, 누적 단어수 3\n",
        "# 현재문장의 단어 수 2, 누적 단어수 5\n",
        "words_count=0\n",
        "\n",
        "def precess_text(text):\n",
        "  global words_count   # 전역변수\n",
        "  words = text.split()   # 지역변수 process_text함수 내부에서는 사용가능\n",
        "  words_count += len(words)\n",
        "\n",
        "  def print_local_count():\n",
        "    local_count = len(words)   # 지역변수   print_local_counted에서만 사용가능\n",
        "    print(f'현재문장의 단어수 : {local_count}')\n",
        "    print(f'누적 단어수 : {words_count}')\n",
        "  print_local_count()\n",
        "\n",
        "precess_text('파이썬은 재매있고 유용합니다')\n",
        "precess_text('자연어는 어렵습니다')"
      ],
      "metadata": {
        "colab": {
          "base_uri": "https://localhost:8080/"
        },
        "id": "fWs68rxzEoW7",
        "outputId": "2c0f3950-7100-4fe7-ae4a-60f0d7e0d436"
      },
      "execution_count": null,
      "outputs": [
        {
          "output_type": "stream",
          "name": "stdout",
          "text": [
            "현재문장의 단어수 : 3\n",
            "누적 단어수 : 3\n",
            "현재문장의 단어수 : 2\n",
            "누적 단어수 : 5\n"
          ]
        }
      ]
    },
    {
      "cell_type": "code",
      "source": [
        "# 클로징을 이용하는 것을 클로저 상태 유지\n",
        "def create_counter():\n",
        "  count = 0   # 외부함수\n",
        "  def increment(text):\n",
        "    nonlocal count\n",
        "    count += len(text.split())\n",
        "    return count\n",
        "\n",
        "  return increment\n",
        "\n",
        "counter = create_counter()   # 사용은 외부함수를 이용해서 내부함수를 리턴\n",
        "print(counter('파이썬은 재매있고 유용합니다'))   # 3\n",
        "print(counter('자연어는 어렵습니다'))   # 5"
      ],
      "metadata": {
        "colab": {
          "base_uri": "https://localhost:8080/"
        },
        "id": "LHl-PiR2F4HE",
        "outputId": "46aaa73d-fc06-4171-951e-6cc25b8c4b3a"
      },
      "execution_count": null,
      "outputs": [
        {
          "output_type": "stream",
          "name": "stdout",
          "text": [
            "3\n",
            "5\n"
          ]
        }
      ]
    },
    {
      "cell_type": "code",
      "source": [
        "# 클로징을 이용하는 것을 클로저 상태 유지\n",
        "def create_counter():\n",
        "  count = 0   # 외부함수\n",
        "  def increment(text):\n",
        "    nonlocal count\n",
        "    count += len(text.split())\n",
        "    print(f'increment 안의 count : {count}')\n",
        "    return count\n",
        "\n",
        "  print(f'create_counter 안의 count : {count}')\n",
        "\n",
        "  return increment\n",
        "\n",
        "counter = create_counter()   # 사용은 외부함수를 이용해서 내부함수를 리턴\n",
        "print(counter('파이썬은 재매있고 유용합니다'))   # 3\n",
        "print(counter('자연어는 어렵습니다'))   # 5\n",
        "\n",
        "# 처음 create_counter()함수를 호출하면 count = 0으로 초기화 됨\n",
        "# 이후 create_counter()함수가 반환한 increment를 반환하고 종료됨\n",
        "# 이후 counter()를 실행하면 반환된 increment함수가 실행\n",
        "# increment 함수 내부에서 nonlocal count를 통해 외부 함수 create_counter의 지역 변수 count를 참조하고 업데이트\n",
        "# increment 함수는 업데이트된 count 값(3)을 반환\n",
        "# 다음 텍스트를 넣고 counter() 함수를 실행하면 다시 increment 함수가 실행\n",
        "# increment 함수는 이전에 업데이트된 count 값(3)을 기억(클로저)\n",
        "# count 값이 다시 업데이트되고 업데이트된 count 값(5)을 반환"
      ],
      "metadata": {
        "colab": {
          "base_uri": "https://localhost:8080/"
        },
        "id": "D7DzV8CtG9TP",
        "outputId": "bbe76887-2db4-4c29-e678-77bb6011ff0a"
      },
      "execution_count": null,
      "outputs": [
        {
          "output_type": "stream",
          "name": "stdout",
          "text": [
            "create_counter 안의 count : 0\n",
            "increment 안의 count : 3\n",
            "3\n",
            "increment 안의 count : 5\n",
            "5\n"
          ]
        }
      ]
    },
    {
      "cell_type": "code",
      "source": [],
      "metadata": {
        "id": "hkNTZ76uL1i4"
      },
      "execution_count": null,
      "outputs": []
    },
    {
      "cell_type": "code",
      "source": [
        "def create_multi(factor):\n",
        "  def mulipier(x):\n",
        "    return x * factor\n",
        "  return mulipier\n",
        "\n",
        "myFunc1 = create_multi(3)\n",
        "print(myFunc1(4))\n",
        "print(myFunc1(5))"
      ],
      "metadata": {
        "colab": {
          "base_uri": "https://localhost:8080/"
        },
        "id": "-BY30Mg5Lr7K",
        "outputId": "394ad2f3-7e40-4c3c-bc6d-065bc8f2f5f2"
      },
      "execution_count": null,
      "outputs": [
        {
          "output_type": "stream",
          "name": "stdout",
          "text": [
            "12\n",
            "15\n"
          ]
        }
      ]
    },
    {
      "cell_type": "markdown",
      "source": [
        "# 함수의 동작 방법을 설명하기"
      ],
      "metadata": {
        "id": "8LUPrzZRMg46"
      }
    },
    {
      "cell_type": "code",
      "source": [
        "ㅠ# 계산기\n",
        "def add(x,y):\n",
        "  \"\"\"\n",
        "  x:정수\n",
        "  y:정수\n",
        "  return : 두개의 정수를 더한 값\n",
        "  \"\"\""
      ],
      "metadata": {
        "id": "dFTu3dnZMNWA"
      },
      "execution_count": null,
      "outputs": []
    },
    {
      "cell_type": "markdown",
      "source": [
        "# 매개변수로 함수를 전달"
      ],
      "metadata": {
        "id": "L3p4MKwRNjty"
      }
    },
    {
      "cell_type": "code",
      "source": [
        "# 계산기 값을 두개로 하는\n",
        "def calculator (func, x, y):\n",
        "  return func(x,y)"
      ],
      "metadata": {
        "id": "VZexeaCGNi7K"
      },
      "execution_count": null,
      "outputs": []
    },
    {
      "cell_type": "code",
      "source": [
        "# 두개 정수 값을 더하는 계산기를 실행\n",
        "# 두개 정수 값을 비교해서 큰 값을 리턴하는 계산기\n",
        "# 두개 정수 값을 곱하는 계산기"
      ],
      "metadata": {
        "id": "zjk6tjlJN9hg"
      },
      "execution_count": null,
      "outputs": []
    },
    {
      "cell_type": "code",
      "source": [
        "def calculator (func, x, y):\n",
        "  return func(x,y)"
      ],
      "metadata": {
        "id": "w8YOKkg6Nx7Q"
      },
      "execution_count": null,
      "outputs": []
    },
    {
      "cell_type": "code",
      "source": [
        "print(calculator(lambda x,y : x+y, 10, 20))\n",
        "print(calculator(lambda x,y : x if x > y else y, 10, 20))\n",
        "print(calculator(lambda x,y : x*y, 10, 20))"
      ],
      "metadata": {
        "colab": {
          "base_uri": "https://localhost:8080/"
        },
        "id": "j96lwS45OG95",
        "outputId": "8d2ff030-93c8-4f1e-fdb6-c020c9234406"
      },
      "execution_count": null,
      "outputs": [
        {
          "output_type": "stream",
          "name": "stdout",
          "text": [
            "30\n",
            "20\n",
            "200\n"
          ]
        }
      ]
    },
    {
      "cell_type": "markdown",
      "source": [
        "# 정리\n",
        "- 함수\n",
        "  - 함수의 정의 - 생성방법\n",
        "  - 매개변수\n",
        "    - positional argument\n",
        "      - 함수에 정의하면 반드시 전달\n",
        "    - default argument\n",
        "      - 사용자가 전달 안하면 함수에서 정의한 기본값 사용\n",
        "    - variable argrument\n",
        "      - packing / unpacking\n",
        "    - keyword variable argrument - 명일 추가 설명(dic과 연계해서)\n",
        "  - 람다함수\n",
        "    - 익명\n",
        "    - lambda 키워드 사용\n",
        "      - map,filter,reduce, 사용자 정의함수(calculator)\n",
        "  - 변수의 유효범위\n",
        "    - LEGB : 지역, 글로벌, 외부함수, 빌트"
      ],
      "metadata": {
        "id": "Y3xzRsGhPtOO"
      }
    },
    {
      "cell_type": "markdown",
      "source": [
        "### 아래 코드를 필요한 부분은 함수화 해서\n",
        "  - 아래 함수를 적용해 보시오"
      ],
      "metadata": {
        "id": "GRNGBL79Rn3o"
      }
    },
    {
      "cell_type": "code",
      "source": [
        "total = 0  # 총 수입을 저장할 변수\n",
        "\n",
        "while True:\n",
        "    # 나이를 입력받는다\n",
        "    age = int(input(\"나이를 입력하세요: \"))\n",
        "\n",
        "    # 나이에 따른 입장료 계산\n",
        "    if age >= 19:  # 19 20 21\n",
        "        entrance_fee = 10000  # 성인\n",
        "    elif age >= 13:  # 13 ~ 18\n",
        "        entrance_fee = 7000  # 청소년\n",
        "    elif age >= 8:\n",
        "        entrance_fee = 3000  # 어린이\n",
        "    else:\n",
        "        print('잘못된 나이 (8살 이상 입력)')\n",
        "        continue  # 잘못된 나이는 다시 입력받기\n",
        "\n",
        "    # 입장료를 수입에 누적\n",
        "    total += entrance_fee\n",
        "\n",
        "    # 계속할지 물어본다\n",
        "    continue_program = input(\"계속하시겠습니까? (y/Y): \")\n",
        "    if continue_program.lower() != 'y':\n",
        "        break\n",
        "\n",
        "# 프로그램 종료 후 총 수입금액 출력\n",
        "print(f\"총 수입금액은 {total:,}원입니다.\")"
      ],
      "metadata": {
        "id": "HUDbxH1_QBTX"
      },
      "execution_count": null,
      "outputs": []
    },
    {
      "cell_type": "code",
      "source": [
        "def input_data():\n",
        "  total = 0\n",
        "  def money(*args):\n",
        "    nonlocal total\n",
        "    for age in args:\n",
        "      if age >= 20:  # 19 20 21\n",
        "        total += 10000  # 성인\n",
        "      elif age >= 14:  # 13 ~ 18\n",
        "          total += 7000  # 청소년\n",
        "      elif age >= 8:\n",
        "          total += 3000  # 어린이\n",
        "      else:\n",
        "        pass\n",
        "    return total\n",
        "  return money"
      ],
      "metadata": {
        "id": "M47t4CF8R4-n"
      },
      "execution_count": null,
      "outputs": []
    },
    {
      "cell_type": "code",
      "source": [
        "ages = 20, 14, 20, 4, 8\n",
        "total = input_data()\n",
        "total(*ages)"
      ],
      "metadata": {
        "colab": {
          "base_uri": "https://localhost:8080/"
        },
        "id": "Qcdt8il_R6Xh",
        "outputId": "24c39ed5-aa7b-4e13-b3bf-8c60822b5693"
      },
      "execution_count": null,
      "outputs": [
        {
          "output_type": "execute_result",
          "data": {
            "text/plain": [
              "30000"
            ]
          },
          "metadata": {},
          "execution_count": 94
        }
      ]
    },
    {
      "cell_type": "code",
      "source": [],
      "metadata": {
        "id": "4FQUBFgNT3hV"
      },
      "execution_count": null,
      "outputs": []
    }
  ]
}