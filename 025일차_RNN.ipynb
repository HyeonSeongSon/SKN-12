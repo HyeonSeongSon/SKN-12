{
  "cells": [
    {
      "cell_type": "markdown",
      "metadata": {
        "id": "qrKu9MXA9_Kp"
      },
      "source": [
        "# 순환신경망 RNN\n",
        "```\n",
        "단어 임베딩:테스트를 숫자로 표현\n",
        "벡터(숫자배열)를 입력으로 사용\n",
        "!. 원핫인코딩(one-hot-encording)\n",
        "1000 0100 0010 0001\n",
        "2. 고유번호로 각 단어를 인코딩 정수인코딩\n",
        "cat : 1, mat : 2 [1,2] 밀집 벡터\n",
        "3.단어 임베딩\n",
        "유사한 단어가 유사한 인코딩을 갖는 방법, 부동소수점\n",
        "```"
      ]
    },
    {
      "cell_type": "code",
      "execution_count": null,
      "metadata": {
        "id": "NWOULpYN93Ce"
      },
      "outputs": [],
      "source": [
        "import tensorflow as tf\n",
        "import os\n",
        "url = \"https://ai.stanford.edu/~amaas/data/sentiment/aclImdb_v1.tar.gz\"\n",
        "\n",
        "dataset = tf.keras.utils.get_file(\"aclImdb_v1.tar.gz\", url,\n",
        "                                  untar=True, cache_dir='.',\n",
        "                                  cache_subdir='')"
      ]
    },
    {
      "cell_type": "code",
      "execution_count": null,
      "metadata": {
        "colab": {
          "base_uri": "https://localhost:8080/"
        },
        "id": "LIpAtw6VDNcQ",
        "outputId": "8b6e73b1-8443-4b53-8c59-1078ca2c493c"
      },
      "outputs": [
        {
          "data": {
            "text/plain": [
              "['train', 'imdb.vocab', 'README', 'imdbEr.txt', 'test']"
            ]
          },
          "execution_count": 10,
          "metadata": {},
          "output_type": "execute_result"
        }
      ],
      "source": [
        "dataset_dir = os.path.join(os.path.dirname(dataset), 'aclImdb_v1_extracted/aclImdb')\n",
        "os.listdir(dataset_dir)"
      ]
    },
    {
      "cell_type": "code",
      "execution_count": null,
      "metadata": {
        "colab": {
          "base_uri": "https://localhost:8080/"
        },
        "id": "rAFnCz4nEM1O",
        "outputId": "fa4f6e3e-6e21-4d68-c58e-7bcfcd1f1f5f"
      },
      "outputs": [
        {
          "data": {
            "text/plain": [
              "('./aclImdb_v1_extracted/aclImdb/train', './aclImdb_v1_extracted')"
            ]
          },
          "execution_count": 11,
          "metadata": {},
          "output_type": "execute_result"
        }
      ],
      "source": [
        "dataset_dir + '/train', os.path.dirname(dataset_dir)"
      ]
    },
    {
      "cell_type": "code",
      "execution_count": null,
      "metadata": {
        "colab": {
          "base_uri": "https://localhost:8080/"
        },
        "id": "IxMv5ziKErwf",
        "outputId": "0691cc9a-b3df-4519-ca52-70ec7819c887"
      },
      "outputs": [
        {
          "data": {
            "text/plain": [
              "['labeledBow.feat',\n",
              " 'urls_pos.txt',\n",
              " 'unsupBow.feat',\n",
              " 'neg',\n",
              " 'unsup',\n",
              " 'pos',\n",
              " 'urls_unsup.txt',\n",
              " 'urls_neg.txt']"
            ]
          },
          "execution_count": 19,
          "metadata": {},
          "output_type": "execute_result"
        }
      ],
      "source": [
        "paths = os.path.join(dataset,'aclImdb')\n",
        "train_dir = os.path.join(paths,'train')\n",
        "test_dir =  os.path.join(paths,'test')\n",
        "# train_dir 파일 및 디렉터리 명\n",
        "os.listdir(train_dir)"
      ]
    },
    {
      "cell_type": "code",
      "execution_count": null,
      "metadata": {
        "id": "PmcHiZT7E-i3"
      },
      "outputs": [],
      "source": [
        "import shutil\n",
        "shutil.rmtree(train_dir+'/unsup')"
      ]
    },
    {
      "cell_type": "code",
      "execution_count": null,
      "metadata": {
        "colab": {
          "base_uri": "https://localhost:8080/"
        },
        "id": "J_CxCZ61GNMs",
        "outputId": "6cd69f56-7641-4b51-a9d3-07278a29c45b"
      },
      "outputs": [
        {
          "name": "stdout",
          "output_type": "stream",
          "text": [
            "Found 25000 files belonging to 2 classes.\n",
            "Using 20000 files for training.\n",
            "Found 25000 files belonging to 2 classes.\n",
            "Using 5000 files for validation.\n"
          ]
        }
      ],
      "source": [
        "train_ds = tf.keras.utils.text_dataset_from_directory(\n",
        "    train_dir,\n",
        "    batch_size = 1024,\n",
        "    validation_split=0.2,\n",
        "    subset = 'training',\n",
        "    seed=123\n",
        ")\n",
        "\n",
        "val_ds = tf.keras.utils.text_dataset_from_directory(\n",
        "    test_dir,\n",
        "    batch_size = 1024,\n",
        "    validation_split=0.2,\n",
        "    subset = 'validation',\n",
        "    seed=123\n",
        ")"
      ]
    },
    {
      "cell_type": "code",
      "execution_count": null,
      "metadata": {
        "colab": {
          "base_uri": "https://localhost:8080/"
        },
        "id": "cADOcf9XHHRp",
        "outputId": "57c7014e-572e-4b68-d353-a8277041d5f2"
      },
      "outputs": [
        {
          "data": {
            "text/plain": [
              "(<tf.Tensor: shape=(), dtype=string, numpy=b'It\\'s always nice to see Angela Bassett getting to do a role that she can really sink her teeth into. She is at times intense, funny and even sexy in her role as Lena, a \"colored\" woman forced to make a home on a desolate mudbank just outside of Cape Town, South Africa. Danny Glover is also good in a not entirely sympathetic role as her partner, Boesman. Willie Jonah gives a finely nuanced performance as the stranger that discovers Boesman and Lena\\'s new living area. It\\'s not often that you get a chance to see an intelligent film dealing with mature themes. Although it is based on a play, the late director John Berry (who also directed Claudine) opens the material up by having the film shot in the widescreen Cinemascope format. He also keeps things visually interesting through the creative blocking of actors and by showing us things only mentioned in the play. Just like Diahann Carroll in Claudine, John Berry may have directed Angela Bassett into an Academy Award nomination. This is definitely a film worth searching for.'>,\n",
              " <tf.Tensor: shape=(), dtype=int32, numpy=1>)"
            ]
          },
          "execution_count": 28,
          "metadata": {},
          "output_type": "execute_result"
        }
      ],
      "source": [
        "text_bech, label_bech = next(iter(train_ds))\n",
        "text_bech[0], label_bech[0]"
      ]
    },
    {
      "cell_type": "code",
      "execution_count": null,
      "metadata": {
        "id": "vQ3q6m-RHY5v"
      },
      "outputs": [],
      "source": [
        "# 성능튜닝  AUTOTUNE 을 사용 - 라이브러리\n",
        "AUTOTUNE = tf.data.AUTOTUNE\n",
        "train_ds = train_ds.cache().prefetch(buffer_size=AUTOTUNE)\n",
        "val_ds = val_ds.cache().prefetch(buffer_size=AUTOTUNE)"
      ]
    },
    {
      "cell_type": "code",
      "execution_count": null,
      "metadata": {
        "colab": {
          "base_uri": "https://localhost:8080/"
        },
        "id": "S-chDQDyIAXs",
        "outputId": "04a9bdfd-6a44-4beb-d16b-fa1816b8e215"
      },
      "outputs": [
        {
          "name": "stdout",
          "output_type": "stream",
          "text": [
            "(2, 3, 5)\n"
          ]
        },
        {
          "data": {
            "text/plain": [
              "<tf.Tensor: shape=(2, 3, 5), dtype=float32, numpy=\n",
              "array([[[ 4.8946626e-03,  1.3927791e-02, -3.9578341e-02,  4.7253739e-02,\n",
              "         -5.6635588e-05],\n",
              "        [ 2.4415318e-02,  2.8052080e-02, -3.2008611e-02, -4.0286295e-03,\n",
              "         -2.3877000e-02],\n",
              "        [-4.2448260e-02,  2.7016629e-02,  2.1467153e-02, -1.1411406e-02,\n",
              "         -7.4354298e-03]],\n",
              "\n",
              "       [[ 4.8778541e-03,  6.8263784e-03, -3.9510250e-02, -3.9952349e-02,\n",
              "         -3.5593510e-02],\n",
              "        [ 5.7595260e-03,  3.7325207e-02,  4.4700120e-02,  8.9234821e-03,\n",
              "         -2.1837130e-03],\n",
              "        [ 1.8200029e-02, -4.9946059e-02,  1.5262850e-03, -5.0971135e-03,\n",
              "          3.3352565e-02]]], dtype=float32)>"
            ]
          },
          "execution_count": 40,
          "metadata": {},
          "output_type": "execute_result"
        }
      ],
      "source": [
        "# 단어 임베딩  정수 인덱스에서 밀집벡터 매핑\n",
        "# dim 차원 차수\n",
        "# 1000개의 고유한 단어를 포함하는 단어 사전 0~999\n",
        "#5 = 출력벡터의 차원수 각 단어를 5개의 벡터로 변환함\n",
        "# [2,45,600] -> [[0.1, -0.2...].. [], [] ]\n",
        "embbeding_layer = tf.keras.layers.Embedding(input_dim=1000, output_dim=5)\n",
        "# 샘플 입력(배치 크기:2, 문장길이 :3)\n",
        "sample_input = tf.constant([[0,1,2,],[3,4,5]])\n",
        "embedding_output = embbeding_layer(sample_input)\n",
        "print(embedding_output.shape)\n",
        "embedding_output"
      ]
    },
    {
      "cell_type": "markdown",
      "metadata": {
        "id": "X3Vdp4P5KbOu"
      },
      "source": [
        "# 문장을 전처리\n",
        "```\n",
        "소문자로 통일\n",
        "특수기호 제거 string.punctuation\n",
        "```"
      ]
    },
    {
      "cell_type": "code",
      "execution_count": null,
      "metadata": {
        "colab": {
          "base_uri": "https://localhost:8080/",
          "height": 35
        },
        "id": "gP1ZTLCDIpCT",
        "outputId": "85b5b635-9073-49bf-da15-076e67bf981b"
      },
      "outputs": [
        {
          "data": {
            "application/vnd.google.colaboratory.intrinsic+json": {
              "type": "string"
            },
            "text/plain": [
              "'!\"#$%&\\'()*+,-./:;<=>?@[\\\\]^_`{|}~'"
            ]
          },
          "execution_count": 41,
          "metadata": {},
          "output_type": "execute_result"
        }
      ],
      "source": [
        "import string\n",
        "string.punctuation\n",
        "# <br />"
      ]
    },
    {
      "cell_type": "code",
      "execution_count": null,
      "metadata": {
        "id": "yomEZSqEK8j_"
      },
      "outputs": [],
      "source": [
        "def custom_standardztion(input_data):\n",
        "  lowercase = tf.strings.lower(input_data)\n",
        "  stringed_html = tf.strings.regex_replace(lowercase, '<.*?>', ' ')\n",
        "  return tf.strings.regex_replace(stringed_html, '[^a-z0-9\\s]', ' ')"
      ]
    },
    {
      "cell_type": "code",
      "execution_count": null,
      "metadata": {
        "id": "0qjd5CFBLas-"
      },
      "outputs": [],
      "source": [
        "from typing import Text\n",
        "# 어휘 크기와 문장의 길이를 설정\n",
        "vocab_size = 10000  # 최대 어휘크기(10000)\n",
        "sequence_length = 100 # 문장의 최대 길이(100 단어로 맞춤)\n",
        "# 짧은 문장은 패딩(0) 추가\n",
        "# 긴 문장은 잘라(truncation) 고정된길이를유지\n",
        "vectorize_layer =   tf.keras.layers.TextVectorization(\n",
        "    max_tokens=vocab_size,  # 어휘사전 크기 제한\n",
        "    standardize=custom_standardztion,\n",
        "    output_mode = 'int',  # 단어를 정수인덱스\n",
        "    output_sequence_length=sequence_length # 패딩과 자르기적용\n",
        ")\n",
        "text_ds = train_ds.map(lambda x,y : tf.strings.as_string(x))\n",
        "vectorize_layer.adapt(text_ds)"
      ]
    },
    {
      "cell_type": "code",
      "execution_count": null,
      "metadata": {
        "colab": {
          "base_uri": "https://localhost:8080/"
        },
        "id": "XWhNm782QM0P",
        "outputId": "6ec7389d-a193-4e54-9bba-953b942a5dff"
      },
      "outputs": [
        {
          "name": "stdout",
          "output_type": "stream",
          "text": [
            "Epoch 1/15\n",
            "\u001b[1m20/20\u001b[0m \u001b[32m━━━━━━━━━━━━━━━━━━━━\u001b[0m\u001b[37m\u001b[0m \u001b[1m9s\u001b[0m 287ms/step - accuracy: 0.4957 - loss: 0.6965 - val_accuracy: 0.4886 - val_loss: 0.6932\n",
            "Epoch 2/15\n",
            "\u001b[1m20/20\u001b[0m \u001b[32m━━━━━━━━━━━━━━━━━━━━\u001b[0m\u001b[37m\u001b[0m \u001b[1m7s\u001b[0m 331ms/step - accuracy: 0.4957 - loss: 0.6889 - val_accuracy: 0.4886 - val_loss: 0.6971\n",
            "Epoch 3/15\n",
            "\u001b[1m20/20\u001b[0m \u001b[32m━━━━━━━━━━━━━━━━━━━━\u001b[0m\u001b[37m\u001b[0m \u001b[1m5s\u001b[0m 260ms/step - accuracy: 0.4976 - loss: 0.6721 - val_accuracy: 0.5380 - val_loss: 0.6800\n",
            "Epoch 4/15\n",
            "\u001b[1m20/20\u001b[0m \u001b[32m━━━━━━━━━━━━━━━━━━━━\u001b[0m\u001b[37m\u001b[0m \u001b[1m7s\u001b[0m 332ms/step - accuracy: 0.6039 - loss: 0.6179 - val_accuracy: 0.7052 - val_loss: 0.5974\n",
            "Epoch 5/15\n",
            "\u001b[1m20/20\u001b[0m \u001b[32m━━━━━━━━━━━━━━━━━━━━\u001b[0m\u001b[37m\u001b[0m \u001b[1m9s\u001b[0m 270ms/step - accuracy: 0.7672 - loss: 0.4871 - val_accuracy: 0.7616 - val_loss: 0.5249\n",
            "Epoch 6/15\n",
            "\u001b[1m20/20\u001b[0m \u001b[32m━━━━━━━━━━━━━━━━━━━━\u001b[0m\u001b[37m\u001b[0m \u001b[1m10s\u001b[0m 256ms/step - accuracy: 0.8490 - loss: 0.3569 - val_accuracy: 0.7632 - val_loss: 0.4894\n",
            "Epoch 7/15\n",
            "\u001b[1m20/20\u001b[0m \u001b[32m━━━━━━━━━━━━━━━━━━━━\u001b[0m\u001b[37m\u001b[0m \u001b[1m6s\u001b[0m 322ms/step - accuracy: 0.8965 - loss: 0.2580 - val_accuracy: 0.7920 - val_loss: 0.5500\n",
            "Epoch 8/15\n",
            "\u001b[1m20/20\u001b[0m \u001b[32m━━━━━━━━━━━━━━━━━━━━\u001b[0m\u001b[37m\u001b[0m \u001b[1m5s\u001b[0m 262ms/step - accuracy: 0.9370 - loss: 0.1807 - val_accuracy: 0.7740 - val_loss: 0.7705\n",
            "Epoch 9/15\n",
            "\u001b[1m20/20\u001b[0m \u001b[32m━━━━━━━━━━━━━━━━━━━━\u001b[0m\u001b[37m\u001b[0m \u001b[1m6s\u001b[0m 326ms/step - accuracy: 0.9261 - loss: 0.1975 - val_accuracy: 0.7708 - val_loss: 0.5694\n",
            "Epoch 10/15\n",
            "\u001b[1m20/20\u001b[0m \u001b[32m━━━━━━━━━━━━━━━━━━━━\u001b[0m\u001b[37m\u001b[0m \u001b[1m5s\u001b[0m 256ms/step - accuracy: 0.9130 - loss: 0.2033 - val_accuracy: 0.7862 - val_loss: 0.6196\n",
            "Epoch 11/15\n",
            "\u001b[1m20/20\u001b[0m \u001b[32m━━━━━━━━━━━━━━━━━━━━\u001b[0m\u001b[37m\u001b[0m \u001b[1m11s\u001b[0m 281ms/step - accuracy: 0.9498 - loss: 0.1367 - val_accuracy: 0.7198 - val_loss: 0.8391\n",
            "Epoch 12/15\n",
            "\u001b[1m20/20\u001b[0m \u001b[32m━━━━━━━━━━━━━━━━━━━━\u001b[0m\u001b[37m\u001b[0m \u001b[1m5s\u001b[0m 258ms/step - accuracy: 0.9391 - loss: 0.1511 - val_accuracy: 0.7802 - val_loss: 0.6056\n",
            "Epoch 13/15\n",
            "\u001b[1m20/20\u001b[0m \u001b[32m━━━━━━━━━━━━━━━━━━━━\u001b[0m\u001b[37m\u001b[0m \u001b[1m7s\u001b[0m 342ms/step - accuracy: 0.9518 - loss: 0.1335 - val_accuracy: 0.7284 - val_loss: 0.7029\n",
            "Epoch 14/15\n",
            "\u001b[1m20/20\u001b[0m \u001b[32m━━━━━━━━━━━━━━━━━━━━\u001b[0m\u001b[37m\u001b[0m \u001b[1m5s\u001b[0m 259ms/step - accuracy: 0.9793 - loss: 0.0743 - val_accuracy: 0.7842 - val_loss: 0.7093\n",
            "Epoch 15/15\n",
            "\u001b[1m20/20\u001b[0m \u001b[32m━━━━━━━━━━━━━━━━━━━━\u001b[0m\u001b[37m\u001b[0m \u001b[1m8s\u001b[0m 390ms/step - accuracy: 0.9929 - loss: 0.0330 - val_accuracy: 0.7864 - val_loss: 0.7455\n"
          ]
        }
      ],
      "source": [
        "# 모델 만들기\n",
        "embedding_dim = 16\n",
        "model = tf.keras.Sequential([\n",
        "  vectorize_layer,\n",
        "  tf.keras.layers.Embedding(vocab_size, embedding_dim, name=\"embedding\"),  # 단어를 고차원 임베딩 공간에 매핑\n",
        "  #tf.keras.layers.GlobalAveragePooling1D(),  # 시퀀스데이터의 평균적인 정보를 추출\n",
        "  tf.keras.layers.SimpleRNN(64),\n",
        "  # 분류기\n",
        "  tf.keras.layers.Dense(16, activation='relu'),\n",
        "  tf.keras.layers.Dense(1)\n",
        "])\n",
        "model.compile(\n",
        "    optimizer='adam',\n",
        "    loss=tf.keras.losses.BinaryCrossentropy(from_logits=True),  #binary_crossentropy\n",
        "    metrics=['accuracy']\n",
        ")\n",
        "history = model.fit(\n",
        "    train_ds,\n",
        "    validation_data=val_ds,\n",
        "    epochs=15\n",
        ")"
      ]
    },
    {
      "cell_type": "code",
      "execution_count": null,
      "metadata": {
        "colab": {
          "base_uri": "https://localhost:8080/",
          "height": 430
        },
        "id": "RHF2IUelY1_S",
        "outputId": "5f67ac0e-3132-4310-a06e-8ced26e40c07"
      },
      "outputs": [
        {
          "data": {
            "image/png": "[encoded data removed]",
            "text/plain": [
              "<Figure size 640x480 with 1 Axes>"
            ]
          },
          "metadata": {},
          "output_type": "display_data"
        }
      ],
      "source": [
        "import matplotlib.pyplot as plt\n",
        "plt.plot(history.history['loss'])\n",
        "plt.plot(history.history['val_loss'])\n",
        "plt.show()"
      ]
    },
    {
      "cell_type": "code",
      "execution_count": null,
      "metadata": {
        "colab": {
          "base_uri": "https://localhost:8080/"
        },
        "id": "WA0i5zmqZl22",
        "outputId": "1d9872ba-2929-4354-e122-435c139084c7"
      },
      "outputs": [
        {
          "name": "stdout",
          "output_type": "stream",
          "text": [
            "Epoch 1/100\n",
            "\u001b[1m20/20\u001b[0m \u001b[32m━━━━━━━━━━━━━━━━━━━━\u001b[0m\u001b[37m\u001b[0m \u001b[1m10s\u001b[0m 310ms/step - accuracy: 0.4973 - loss: 0.7058 - val_accuracy: 0.4886 - val_loss: 0.6934 - learning_rate: 0.0010\n",
            "Epoch 2/100\n",
            "\u001b[1m20/20\u001b[0m \u001b[32m━━━━━━━━━━━━━━━━━━━━\u001b[0m\u001b[37m\u001b[0m \u001b[1m7s\u001b[0m 342ms/step - accuracy: 0.4977 - loss: 0.6946 - val_accuracy: 0.4886 - val_loss: 0.6924 - learning_rate: 0.0010\n",
            "Epoch 3/100\n",
            "\u001b[1m20/20\u001b[0m \u001b[32m━━━━━━━━━━━━━━━━━━━━\u001b[0m\u001b[37m\u001b[0m \u001b[1m6s\u001b[0m 278ms/step - accuracy: 0.4963 - loss: 0.6920 - val_accuracy: 0.4886 - val_loss: 0.6890 - learning_rate: 0.0010\n",
            "Epoch 4/100\n",
            "\u001b[1m20/20\u001b[0m \u001b[32m━━━━━━━━━━━━━━━━━━━━\u001b[0m\u001b[37m\u001b[0m \u001b[1m10s\u001b[0m 278ms/step - accuracy: 0.5167 - loss: 0.6813 - val_accuracy: 0.6650 - val_loss: 0.6167 - learning_rate: 0.0010\n",
            "Epoch 5/100\n",
            "\u001b[1m20/20\u001b[0m \u001b[32m━━━━━━━━━━━━━━━━━━━━\u001b[0m\u001b[37m\u001b[0m \u001b[1m7s\u001b[0m 342ms/step - accuracy: 0.6342 - loss: 0.6126 - val_accuracy: 0.7552 - val_loss: 0.5182 - learning_rate: 0.0010\n",
            "Epoch 6/100\n",
            "\u001b[1m20/20\u001b[0m \u001b[32m━━━━━━━━━━━━━━━━━━━━\u001b[0m\u001b[37m\u001b[0m \u001b[1m5s\u001b[0m 274ms/step - accuracy: 0.7626 - loss: 0.5042 - val_accuracy: 0.7586 - val_loss: 0.4958 - learning_rate: 0.0010\n",
            "Epoch 7/100\n",
            "\u001b[1m20/20\u001b[0m \u001b[32m━━━━━━━━━━━━━━━━━━━━\u001b[0m\u001b[37m\u001b[0m \u001b[1m7s\u001b[0m 340ms/step - accuracy: 0.8107 - loss: 0.4335 - val_accuracy: 0.7948 - val_loss: 0.4619 - learning_rate: 0.0010\n",
            "Epoch 8/100\n",
            "\u001b[1m20/20\u001b[0m \u001b[32m━━━━━━━━━━━━━━━━━━━━\u001b[0m\u001b[37m\u001b[0m \u001b[1m6s\u001b[0m 278ms/step - accuracy: 0.8436 - loss: 0.3889 - val_accuracy: 0.8078 - val_loss: 0.4703 - learning_rate: 0.0010\n",
            "Epoch 9/100\n",
            "\u001b[1m20/20\u001b[0m \u001b[32m━━━━━━━━━━━━━━━━━━━━\u001b[0m\u001b[37m\u001b[0m \u001b[1m11s\u001b[0m 332ms/step - accuracy: 0.8672 - loss: 0.3421 - val_accuracy: 0.8096 - val_loss: 0.4474 - learning_rate: 0.0010\n",
            "Epoch 10/100\n",
            "\u001b[1m20/20\u001b[0m \u001b[32m━━━━━━━━━━━━━━━━━━━━\u001b[0m\u001b[37m\u001b[0m \u001b[1m6s\u001b[0m 278ms/step - accuracy: 0.8762 - loss: 0.3184 - val_accuracy: 0.7800 - val_loss: 0.5995 - learning_rate: 0.0010\n",
            "Epoch 11/100\n",
            "\u001b[1m20/20\u001b[0m \u001b[32m━━━━━━━━━━━━━━━━━━━━\u001b[0m\u001b[37m\u001b[0m \u001b[1m10s\u001b[0m 277ms/step - accuracy: 0.8857 - loss: 0.3047 - val_accuracy: 0.8084 - val_loss: 0.5160 - learning_rate: 0.0010\n",
            "Epoch 12/100\n",
            "\u001b[1m20/20\u001b[0m \u001b[32m━━━━━━━━━━━━━━━━━━━━\u001b[0m\u001b[37m\u001b[0m \u001b[1m7s\u001b[0m 343ms/step - accuracy: 0.8977 - loss: 0.2713 - val_accuracy: 0.8048 - val_loss: 0.5489 - learning_rate: 0.0010\n",
            "Epoch 13/100\n",
            "\u001b[1m20/20\u001b[0m \u001b[32m━━━━━━━━━━━━━━━━━━━━\u001b[0m\u001b[37m\u001b[0m \u001b[1m5s\u001b[0m 272ms/step - accuracy: 0.9044 - loss: 0.2679 - val_accuracy: 0.8116 - val_loss: 0.4773 - learning_rate: 1.0000e-04\n",
            "Epoch 14/100\n",
            "\u001b[1m20/20\u001b[0m \u001b[32m━━━━━━━━━━━━━━━━━━━━\u001b[0m\u001b[37m\u001b[0m \u001b[1m7s\u001b[0m 340ms/step - accuracy: 0.9149 - loss: 0.2354 - val_accuracy: 0.8060 - val_loss: 0.5127 - learning_rate: 1.0000e-04\n"
          ]
        }
      ],
      "source": [
        "from subprocess import call\n",
        "# RNN 모델 만들기\n",
        "embedding_dim = 16\n",
        "model = tf.keras.Sequential([\n",
        "  vectorize_layer,\n",
        "  tf.keras.layers.Embedding(vocab_size, embedding_dim, name=\"embedding\"),  # 단어를 고차원 임베딩 공간에 매핑\n",
        "  tf.keras.layers.Dropout(0.5),\n",
        "  tf.keras.layers.SimpleRNN(64) ,\n",
        "  tf.keras.layers.Dropout(0.5),\n",
        "  # 분류기\n",
        "  tf.keras.layers.Dense(16, activation='relu'),\n",
        "  tf.keras.layers.Dropout(0.5),\n",
        "  tf.keras.layers.Dense(1)\n",
        "])\n",
        "callbacks = [tf.keras.callbacks.EarlyStopping(monitor='val_loss', patience=5),\n",
        "  tf.keras.callbacks.ReduceLROnPlateau(monitor='val_loss', factor=0.1, patience=3)\n",
        "]\n",
        "model.compile(\n",
        "    optimizer='adam',\n",
        "    loss=tf.keras.losses.BinaryCrossentropy(from_logits=True),  #binary_crossentropy\n",
        "    metrics=['accuracy']\n",
        ")\n",
        "history = model.fit(\n",
        "    train_ds,\n",
        "    validation_data=val_ds,\n",
        "    epochs=100 ,\n",
        "    callbacks=callbacks\n",
        ")"
      ]
    },
    {
      "cell_type": "code",
      "execution_count": null,
      "metadata": {
        "colab": {
          "base_uri": "https://localhost:8080/",
          "height": 843
        },
        "id": "c7J0Eq-0dDdI",
        "outputId": "c3274a2e-775d-4080-eb81-17cfc4f97cdc"
      },
      "outputs": [
        {
          "data": {
            "image/png": "[encoded data removed]",
            "text/plain": [
              "<Figure size 640x480 with 1 Axes>"
            ]
          },
          "metadata": {},
          "output_type": "display_data"
        },
        {
          "data": {
            "image/png": "[encoded data removed]",
            "text/plain": [
              "<Figure size 640x480 with 1 Axes>"
            ]
          },
          "metadata": {},
          "output_type": "display_data"
        }
      ],
      "source": [
        "import matplotlib.pyplot as plt\n",
        "\n",
        "plt.subplot(1,2,1)\n",
        "plt.plot(history.history['accuracy'])\n",
        "plt.plot(history.history['val_accuracy'])\n",
        "plt.show()\n",
        "\n",
        "plt.subplot(1,2,2)\n",
        "plt.plot(history.history['loss'])\n",
        "plt.plot(history.history['val_loss'])\n",
        "plt.show()"
      ]
    },
    {
      "cell_type": "markdown",
      "metadata": {
        "id": "DmgH0eYQhofP"
      },
      "source": [
        "```\n",
        "단어임베딩\n",
        "  전통적으로 단어는 원핫표현\n",
        "  cat [1,0,0] dog [0,1,0]\n",
        "  단점 : 단어간의 유사성을 반영하지 못함 cat dog는 의미상 유사하지만\n",
        "  벡터간의 거리는 동일하거나 등..\n",
        "  차원문제 : 어휘가 크면 벡터차원이증가(희소행렬문제)\n",
        "  해결 : 단어임베딩은 단어를 저차원(30~500차원) 실수 벡터로 표현해서 의미적으로 유사한 단어는 벡터상에서 가까운 위치에 배치\n",
        "  cat [0.2,0.3,0.5] dog [0.3,0.5,0.4]\n",
        "  의미적유사성 : king, queen 이런 데이터는 벡터공간에서 가깝다\n",
        "  king-man ~ queen-woman\n",
        "  원핫보다는 훨씬 적은 저차원\n",
        "```"
      ]
    },
    {
      "cell_type": "markdown",
      "metadata": {
        "id": "54hUvZWxjstU"
      },
      "source": [
        "```\n",
        "Word2Vec\n",
        "  Google 만듬\n",
        "  CBOW(Continuous Bag of Words) : 주변단어로 중심단어를 예측\n",
        "  Skip-gram : 중심단어로 주변단어를 예\n",
        "```\n",
        "\n",
        "$$ P(w_{t+j} | w_t) = \\frac{\\exp(v'_{w_{t+j}} \\cdot v_{w_t})}{\\sum_{w \\in V} \\exp(v'_w \\cdot v_{w_t})} $$\n",
        "\n",
        "```\n",
        "손실함수\n",
        "```\n",
        "\n",
        "$$ L = -\\sum_{j \\in \\text{context}} \\log P(w_{t+j} | w_t) $$\n",
        "\n",
        "```\n",
        "학습과정\n",
        "  단어쌍 생성 : 문장에서 중심 단어, 문맥단어쌍을 생성\n",
        "  i like to eat apples ('like','i')('like','to')\n",
        "  모델 학습 skip-gram wt를 입력으로 받아서 wt+j를 예측하도록 학습\n",
        "```\n"
      ]
    },
    {
      "cell_type": "markdown",
      "metadata": {
        "id": "2hIuRxpGlLaY"
      },
      "source": [
        "단어 임베딩 생성\n",
        "```\n",
        "Word2Vec\n",
        "  king queen은 문맥에서 자주 유사한 위치에 등장\n",
        "  king = [0,8,0,2,-0,1]\n",
        "  queen = [0,7,0,3,-0,2]\n",
        "  loves = [0,1,0,9,0,5]\n",
        "```"
      ]
    },
    {
      "cell_type": "code",
      "execution_count": null,
      "metadata": {
        "colab": {
          "base_uri": "https://localhost:8080/"
        },
        "id": "WZt-3DD6eBpR",
        "outputId": "9dbf753d-c292-4dac-a4d0-c8cf94fe7c68"
      },
      "outputs": [
        {
          "name": "stdout",
          "output_type": "stream",
          "text": [
            "0.9784971923788134 0.24440093358009754 0.29466157652284214\n"
          ]
        }
      ],
      "source": [
        "# 코사인 유사도\n",
        "import numpy as np\n",
        "king = np.array([0.8,0.2,-0.1])\n",
        "queen = np.array([0.7,0.3,-0.2])\n",
        "loves = np.array([0.1,0.9,0.5])\n",
        "def cosine_similarity(x,y):\n",
        "  return np.dot(x,y)/(np.linalg.norm(x)*np.linalg.norm(y))\n",
        "cosine_king_queen = cosine_similarity(king,queen)\n",
        "cosine_king_loves = cosine_similarity(king,loves)\n",
        "cosine_queen_loves = cosine_similarity(queen,loves)\n",
        "print(cosine_king_queen,cosine_king_loves,cosine_queen_loves)"
      ]
    },
    {
      "cell_type": "markdown",
      "metadata": {
        "id": "x1xYygiZ4bIF"
      },
      "source": [
        "# RNN\n",
        "```\n",
        "  1. 텍스트를 숫자로 변경(토근화 임베딩)\n",
        "    토큰화 : 문장을 단어단위로 나눈다 (예시로 공백을 기준으로 분리)\n",
        "    (ex) 나는 밥을 먹는다 -> ['나는','밥을','먹는다']\n",
        "    단어에 숫자 부여\n",
        "    '나는' = 1\n",
        "    '밥을' = 2\n",
        "    '먹는다' = 3\n",
        "    임베딩(의미를 담은 벡터) 길이를 3\n",
        "    '나는' = [,,]\n",
        "    '밥을' = [,,]\n",
        "    '먹는다' = [,,]\n",
        "  RNN으로 순서대로 처리\n",
        "  입력값 : 각 단어의 임베딩 벡터\n",
        "  hidden : 이전 단어의 정보를 담는 메모리\n",
        "  출력값 : 다음단어 예측\n",
        "\n",
        "\n",
        "계산과정\n",
        "```\n",
        "$$ h_t = \\tanh(W_{hh} \\cdot h_{t-1} + W_{xh} \\cdot x_t + b_h) $$\n"
      ]
    },
    {
      "cell_type": "markdown",
      "metadata": {
        "id": "apUJ3sdg6Vy7"
      },
      "source": [
        "$$ y_t = W_{hy} \\cdot h_t + b_y $$"
      ]
    },
    {
      "cell_type": "markdown",
      "metadata": {
        "id": "ehRS43rt6XN-"
      },
      "source": [
        "tensorflow dataset IMDB"
      ]
    },
    {
      "cell_type": "code",
      "execution_count": null,
      "metadata": {
        "id": "BZ8YpQCJmOVx"
      },
      "outputs": [],
      "source": [
        "import tensorflow as tf\n",
        "(train_data, train_labels), (test_data, test_labels) = tf.keras.datasets.imdb.load_data(num_words=100)"
      ]
    },
    {
      "cell_type": "code",
      "execution_count": null,
      "metadata": {
        "colab": {
          "base_uri": "https://localhost:8080/"
        },
        "id": "kzlIHucb7BF8",
        "outputId": "ca835dbb-1036-46b6-b3d8-71679efae7a0"
      },
      "outputs": [
        {
          "data": {
            "text/plain": [
              "((25000,), (25000,), (25000,))"
            ]
          },
          "execution_count": 3,
          "metadata": {},
          "output_type": "execute_result"
        }
      ],
      "source": [
        "train_data.shape, test_data.shape, train_labels.shape"
      ]
    },
    {
      "cell_type": "code",
      "execution_count": null,
      "metadata": {
        "colab": {
          "base_uri": "https://localhost:8080/"
        },
        "id": "zoHeVhCV7a9w",
        "outputId": "ca5caa53-4a84-46c3-fff6-9f50cbcb6b16"
      },
      "outputs": [
        {
          "data": {
            "text/plain": [
              "array([1, 0, 0])"
            ]
          },
          "execution_count": 4,
          "metadata": {},
          "output_type": "execute_result"
        }
      ],
      "source": [
        "train_labels[:3]"
      ]
    },
    {
      "cell_type": "code",
      "execution_count": null,
      "metadata": {
        "id": "mhvWjqcV7e3e"
      },
      "outputs": [],
      "source": [
        "# 분할 train 데이터로\n",
        "from sklearn.model_selection import train_test_split\n",
        "train_data, val_data, train_labels, val_labels = train_test_split(train_data, train_labels, test_size=0.2, random_state=42)"
      ]
    },
    {
      "cell_type": "code",
      "execution_count": null,
      "metadata": {
        "colab": {
          "base_uri": "https://localhost:8080/",
          "height": 430
        },
        "collapsed": true,
        "id": "5dAnGOCP8BVv",
        "outputId": "05bd9ddf-3fad-4315-ef5a-202aac5262cd"
      },
      "outputs": [
        {
          "data": {
            "image/png": "[encoded data removed]",
            "text/plain": [
              "<Figure size 640x480 with 1 Axes>"
            ]
          },
          "metadata": {},
          "output_type": "display_data"
        }
      ],
      "source": [
        "# train_data의 길이를 리스트에 저장\n",
        "import matplotlib.pyplot as plt\n",
        "train_data_len = [len(x) for x in train_data]\n",
        "plt.hist(train_data_len)\n",
        "plt.show()"
      ]
    },
    {
      "cell_type": "code",
      "execution_count": null,
      "metadata": {
        "colab": {
          "base_uri": "https://localhost:8080/"
        },
        "id": "VAUBPQhF8lSP",
        "outputId": "08184cd3-d5d1-4861-ea45-9f2898a787a0"
      },
      "outputs": [
        {
          "name": "stdout",
          "output_type": "stream",
          "text": [
            "(20000,) (20000, 100)\n"
          ]
        }
      ],
      "source": [
        "# 시퀸스 패딩\n",
        "train_seq = tf.keras.preprocessing.sequence.pad_sequences(train_data, maxlen=100)\n",
        "print(train_data.shape, train_seq.shape)"
      ]
    },
    {
      "cell_type": "code",
      "execution_count": null,
      "metadata": {
        "colab": {
          "base_uri": "https://localhost:8080/"
        },
        "id": "p4Z2UfDu9FhM",
        "outputId": "f4b458b1-6b97-4251-ac88-ca725ea3d9c3"
      },
      "outputs": [
        {
          "name": "stdout",
          "output_type": "stream",
          "text": [
            "[1, 73, 89, 81, 25, 60, 2, 6, 20, 2, 17, 14, 31, 2, 12, 60, 28, 2, 2, 66, 45, 6, 20, 15, 2, 8, 79, 17, 2, 8, 2, 6, 2, 20, 17, 2, 2, 4, 2, 20, 9, 2, 6, 2, 7, 2, 2, 6, 2, 2, 24, 55, 2, 5, 23, 2, 7, 15, 82, 24, 15, 2, 66, 10, 10, 45, 2, 15, 4, 20, 2, 8, 30, 17, 2, 5, 2, 17, 2, 2, 4, 20, 9, 43, 32, 99, 2, 18, 15, 8, 2, 46, 17, 2, 4, 2, 5, 2, 9, 32, 2, 5, 2, 2, 17, 73, 17, 2, 36, 26, 2, 43, 2, 83, 4, 2, 2, 74, 83, 4, 2, 2, 82, 4, 96, 4, 2, 2, 8, 32, 4, 2, 9, 2, 2, 13, 2, 48, 14, 16, 2, 2, 59, 62, 69, 2, 12, 46, 50, 9, 53, 2, 74, 2, 11, 14, 31, 2, 10, 10, 4, 20, 9, 2, 2, 2, 5, 45, 6, 2, 2, 33, 2, 8, 2, 2, 2, 5, 2, 17, 73, 17, 2, 5, 2, 19, 55, 2, 2, 92, 66, 2, 14, 20, 93, 76, 2, 2, 33, 4, 58, 12, 2, 2, 2, 12, 2, 69, 2, 2, 73, 2, 6, 2, 7, 2, 2, 2, 2, 2, 14, 31, 10, 10, 2, 7, 2, 5, 2, 80, 91, 2, 30, 2, 34, 14, 20, 2, 50, 26, 2, 49, 2, 84, 46, 50, 37, 80, 79, 6, 2, 46, 7, 14, 20, 10, 10, 2, 2] [1, 73, 89, 81, 25, 60, 2, 6, 20, 2, 17, 14, 31, 2, 12, 60, 28, 2, 2, 66, 45, 6, 20, 15, 2, 8, 79, 17, 2, 8, 2, 6, 2, 20, 17, 2, 2, 4, 2, 20, 9, 2, 6, 2, 7, 2, 2, 6, 2, 2, 24, 55, 2, 5, 23, 2, 7, 15, 82, 24, 15, 2, 66, 10, 10, 45, 2, 15, 4, 20, 2, 8, 30, 17, 2, 5, 2, 17, 2, 2, 4, 20, 9, 43, 32, 99, 2, 18, 15, 8, 2, 46, 17, 2, 4, 2, 5, 2, 9, 32, 2, 5, 2, 2, 17, 73, 17, 2, 36, 26, 2, 43, 2, 83, 4, 2, 2, 74, 83, 4, 2, 2, 82, 4, 96, 4, 2, 2, 8, 32, 4, 2, 9, 2, 2, 13, 2, 48, 14, 16, 2, 2, 59, 62, 69, 2, 12, 46, 50, 9, 53, 2, 74, 2, 11, 14, 31, 2, 10, 10, 4, 20, 9, 2, 2, 2, 5, 45, 6, 2, 2, 33, 2, 8, 2, 2, 2, 5, 2, 17, 73, 17, 2, 5, 2, 19, 55, 2, 2, 92, 66, 2, 14, 20, 93, 76, 2, 2, 33, 4, 58, 12, 2, 2, 2, 12, 2, 69, 2, 2, 73, 2, 6, 2, 7, 2, 2, 2, 2, 2, 14, 31, 10, 10, 2, 7, 2, 5, 2, 80, 91, 2, 30, 2, 34, 14, 20, 2, 50, 26, 2, 49, 2, 84, 46, 50, 37, 80, 79, 6, 2, 46, 7, 14, 20, 10, 10, 2, 2]\n"
          ]
        }
      ],
      "source": [
        "print(train_data[0], train_data[0])"
      ]
    },
    {
      "cell_type": "code",
      "execution_count": null,
      "metadata": {
        "colab": {
          "base_uri": "https://localhost:8080/"
        },
        "id": "7MWKP3nC9taZ",
        "outputId": "3952009e-e00e-4ce3-9311-7cd6aa831bb3"
      },
      "outputs": [
        {
          "name": "stdout",
          "output_type": "stream",
          "text": [
            "(20000, 100)\n",
            "Epoch 1/2\n",
            "\u001b[1m500/500\u001b[0m \u001b[32m━━━━━━━━━━━━━━━━━━━━\u001b[0m\u001b[37m\u001b[0m \u001b[1m9s\u001b[0m 11ms/step - accuracy: 0.5100 - loss: 0.6954 - val_accuracy: 0.5357 - val_loss: 0.6886\n",
            "Epoch 2/2\n",
            "\u001b[1m500/500\u001b[0m \u001b[32m━━━━━━━━━━━━━━━━━━━━\u001b[0m\u001b[37m\u001b[0m \u001b[1m4s\u001b[0m 9ms/step - accuracy: 0.5695 - loss: 0.6807 - val_accuracy: 0.5238 - val_loss: 0.6881\n"
          ]
        }
      ],
      "source": [
        "# RNN 적용\n",
        "vocab_size = 500\n",
        "print(train_seq.shape)\n",
        "model = tf.keras.Sequential([\n",
        "    tf.keras.layers.Input(shape=(500,)),\n",
        "    tf.keras.layers.Embedding(vocab_size, 16),\n",
        "    tf.keras.layers.SimpleRNN(8),\n",
        "    tf.keras.layers.Dense(1, activation='sigmoid')\n",
        "])\n",
        "# model.summary()\n",
        "# 모델 훈련\n",
        "# 원핫 인코딩\n",
        "# train_oh = tf.keras.utils.to_categorical(train_seq)\n",
        "# print(train_oh.shape)\n",
        "model.compile(optimizer='adam',\n",
        "              # loss='binary_crossentropy',\n",
        "              loss = tf.keras.losses.binary_crossentropy,\n",
        "              metrics=['accuracy'])\n",
        "history = model.fit(train_seq, train_labels,\n",
        "                    epochs=2,\n",
        "                    batch_size=32,\n",
        "                    validation_split=0.2)"
      ]
    },
    {
      "cell_type": "code",
      "execution_count": null,
      "metadata": {
        "colab": {
          "base_uri": "https://localhost:8080/",
          "height": 372
        },
        "id": "RqZsENRNCNjO",
        "outputId": "929dcbff-43b2-4c79-d7f5-2eba9d41520b"
      },
      "outputs": [
        {
          "name": "stdout",
          "output_type": "stream",
          "text": [
            "{'너무': 1, '이': 2, '영화는': 3, '재미': 4, '있었어요': 5, '정말': 6, '감동적인': 7, '영화였어요': 8, '시간이': 9, '아깝습니다': 10, '배우들의': 11, '연기가': 12, '좋았어요': 13, '스토리가': 14, '별로였어요': 15}\n",
            "[[2, 3, 4, 5], [6, 7, 8], [9, 1, 10], [11, 12, 1, 13], [14, 15]]\n",
            "[[ 0  2  3  4  5]\n",
            " [ 0  0  6  7  8]\n",
            " [ 0  0  9  1 10]\n",
            " [ 0 11 12  1 13]\n",
            " [ 0  0  0 14 15]]\n"
          ]
        },
        {
          "data": {
            "text/html": [
              "<pre style=\"white-space:pre;overflow-x:auto;line-height:normal;font-family:Menlo,'DejaVu Sans Mono',consolas,'Courier New',monospace\"><span style=\"font-weight: bold\">Model: \"sequential_1\"</span>\n",
              "</pre>\n"
            ],
            "text/plain": [
              "\u001b[1mModel: \"sequential_1\"\u001b[0m\n"
            ]
          },
          "metadata": {},
          "output_type": "display_data"
        },
        {
          "data": {
            "text/html": [
              "<pre style=\"white-space:pre;overflow-x:auto;line-height:normal;font-family:Menlo,'DejaVu Sans Mono',consolas,'Courier New',monospace\">┏━━━━━━━━━━━━━━━━━━━━━━━━━━━━━━━━━━━━━━┳━━━━━━━━━━━━━━━━━━━━━━━━━━━━━┳━━━━━━━━━━━━━━━━━┓\n",
              "┃<span style=\"font-weight: bold\"> Layer (type)                         </span>┃<span style=\"font-weight: bold\"> Output Shape                </span>┃<span style=\"font-weight: bold\">         Param # </span>┃\n",
              "┡━━━━━━━━━━━━━━━━━━━━━━━━━━━━━━━━━━━━━━╇━━━━━━━━━━━━━━━━━━━━━━━━━━━━━╇━━━━━━━━━━━━━━━━━┩\n",
              "│ embedding_1 (<span style=\"color: #0087ff; text-decoration-color: #0087ff\">Embedding</span>)              │ (<span style=\"color: #00d7ff; text-decoration-color: #00d7ff\">None</span>, <span style=\"color: #00af00; text-decoration-color: #00af00\">5</span>, <span style=\"color: #00af00; text-decoration-color: #00af00\">16</span>)               │             <span style=\"color: #00af00; text-decoration-color: #00af00\">256</span> │\n",
              "├──────────────────────────────────────┼─────────────────────────────┼─────────────────┤\n",
              "│ simple_rnn_1 (<span style=\"color: #0087ff; text-decoration-color: #0087ff\">SimpleRNN</span>)             │ (<span style=\"color: #00d7ff; text-decoration-color: #00d7ff\">None</span>, <span style=\"color: #00af00; text-decoration-color: #00af00\">16</span>)                  │             <span style=\"color: #00af00; text-decoration-color: #00af00\">528</span> │\n",
              "├──────────────────────────────────────┼─────────────────────────────┼─────────────────┤\n",
              "│ dense_1 (<span style=\"color: #0087ff; text-decoration-color: #0087ff\">Dense</span>)                      │ (<span style=\"color: #00d7ff; text-decoration-color: #00d7ff\">None</span>, <span style=\"color: #00af00; text-decoration-color: #00af00\">1</span>)                   │              <span style=\"color: #00af00; text-decoration-color: #00af00\">17</span> │\n",
              "└──────────────────────────────────────┴─────────────────────────────┴─────────────────┘\n",
              "</pre>\n"
            ],
            "text/plain": [
              "┏━━━━━━━━━━━━━━━━━━━━━━━━━━━━━━━━━━━━━━┳━━━━━━━━━━━━━━━━━━━━━━━━━━━━━┳━━━━━━━━━━━━━━━━━┓\n",
              "┃\u001b[1m \u001b[0m\u001b[1mLayer (type)                        \u001b[0m\u001b[1m \u001b[0m┃\u001b[1m \u001b[0m\u001b[1mOutput Shape               \u001b[0m\u001b[1m \u001b[0m┃\u001b[1m \u001b[0m\u001b[1m        Param #\u001b[0m\u001b[1m \u001b[0m┃\n",
              "┡━━━━━━━━━━━━━━━━━━━━━━━━━━━━━━━━━━━━━━╇━━━━━━━━━━━━━━━━━━━━━━━━━━━━━╇━━━━━━━━━━━━━━━━━┩\n",
              "│ embedding_1 (\u001b[38;5;33mEmbedding\u001b[0m)              │ (\u001b[38;5;45mNone\u001b[0m, \u001b[38;5;34m5\u001b[0m, \u001b[38;5;34m16\u001b[0m)               │             \u001b[38;5;34m256\u001b[0m │\n",
              "├──────────────────────────────────────┼─────────────────────────────┼─────────────────┤\n",
              "│ simple_rnn_1 (\u001b[38;5;33mSimpleRNN\u001b[0m)             │ (\u001b[38;5;45mNone\u001b[0m, \u001b[38;5;34m16\u001b[0m)                  │             \u001b[38;5;34m528\u001b[0m │\n",
              "├──────────────────────────────────────┼─────────────────────────────┼─────────────────┤\n",
              "│ dense_1 (\u001b[38;5;33mDense\u001b[0m)                      │ (\u001b[38;5;45mNone\u001b[0m, \u001b[38;5;34m1\u001b[0m)                   │              \u001b[38;5;34m17\u001b[0m │\n",
              "└──────────────────────────────────────┴─────────────────────────────┴─────────────────┘\n"
            ]
          },
          "metadata": {},
          "output_type": "display_data"
        },
        {
          "data": {
            "text/html": [
              "<pre style=\"white-space:pre;overflow-x:auto;line-height:normal;font-family:Menlo,'DejaVu Sans Mono',consolas,'Courier New',monospace\"><span style=\"font-weight: bold\"> Total params: </span><span style=\"color: #00af00; text-decoration-color: #00af00\">801</span> (3.13 KB)\n",
              "</pre>\n"
            ],
            "text/plain": [
              "\u001b[1m Total params: \u001b[0m\u001b[38;5;34m801\u001b[0m (3.13 KB)\n"
            ]
          },
          "metadata": {},
          "output_type": "display_data"
        },
        {
          "data": {
            "text/html": [
              "<pre style=\"white-space:pre;overflow-x:auto;line-height:normal;font-family:Menlo,'DejaVu Sans Mono',consolas,'Courier New',monospace\"><span style=\"font-weight: bold\"> Trainable params: </span><span style=\"color: #00af00; text-decoration-color: #00af00\">801</span> (3.13 KB)\n",
              "</pre>\n"
            ],
            "text/plain": [
              "\u001b[1m Trainable params: \u001b[0m\u001b[38;5;34m801\u001b[0m (3.13 KB)\n"
            ]
          },
          "metadata": {},
          "output_type": "display_data"
        },
        {
          "data": {
            "text/html": [
              "<pre style=\"white-space:pre;overflow-x:auto;line-height:normal;font-family:Menlo,'DejaVu Sans Mono',consolas,'Courier New',monospace\"><span style=\"font-weight: bold\"> Non-trainable params: </span><span style=\"color: #00af00; text-decoration-color: #00af00\">0</span> (0.00 B)\n",
              "</pre>\n"
            ],
            "text/plain": [
              "\u001b[1m Non-trainable params: \u001b[0m\u001b[38;5;34m0\u001b[0m (0.00 B)\n"
            ]
          },
          "metadata": {},
          "output_type": "display_data"
        }
      ],
      "source": [
        "# 리뷰데이터를 한글\n",
        "# 문장\n",
        "import pandas as pd\n",
        "import re\n",
        "train_texts = [\n",
        "    '이 영화는 재미 있었어요 *^-^*',\n",
        "    '정말 감동적인 영화였어요',\n",
        "    '시간이 zzz 너무 아깝습니다.',\n",
        "    '배우들의 연기가 너무 좋았어요 he~~~',\n",
        "    '스토리가 별로였어요',\n",
        "]\n",
        "train_label = [1,1,0,1,0]\n",
        "train_df = pd.DataFrame({'text':train_texts, 'label':train_label})\n",
        "# 데이터 전처리 함수\n",
        "def custom_standardztion(input_data):\n",
        "  input_data = re.sub(r'<.*?>',\"\",input_data)\n",
        "  input_data = re.sub(r'[^ㄱ-ㅎ가-힣\\s]',\"\",input_data)  # 한글과 공백만 남기\n",
        "  return input_data.strip()\n",
        "\n",
        "tokenizer = tf.keras.preprocessing.text.Tokenizer()\n",
        "train_df['text'] = train_df['text'].map(custom_standardztion)\n",
        "tokenizer.fit_on_texts(train_df['text'])\n",
        "print(tokenizer.word_index)\n",
        "train_sequence = tokenizer.texts_to_sequences(train_df['text'])\n",
        "print(train_sequence)\n",
        "max_len = 5 # 최대 문장의 길이\n",
        "train_pad = tf.keras.preprocessing.sequence.pad_sequences(train_sequence, maxlen=max_len)\n",
        "print(train_pad)\n",
        "vocab_size = len(tokenizer.word_index) + 1\n",
        "# RNN 모델\n",
        "# 파이퍼파라메터\n",
        "embbeding_dim = 16\n",
        "model = tf.keras.Sequential([\n",
        "    tf.keras.layers.Input(shape=(max_len,)),\n",
        "    tf.keras.layers.Embedding(vocab_size, output_dim = embbeding_dim),\n",
        "    tf.keras.layers.SimpleRNN(16,activation='relu'),\n",
        "    tf.keras.layers.Dense(1, activation='sigmoid')\n",
        "])\n",
        "model.compile(optimizer='adam',\n",
        "              loss = tf.keras.losses.binary_crossentropy,\n",
        "              metrics=['accuracy'])\n",
        "model.summary()"
      ]
    },
    {
      "cell_type": "code",
      "execution_count": null,
      "metadata": {
        "colab": {
          "base_uri": "https://localhost:8080/"
        },
        "id": "r93RFbcNGRNS",
        "outputId": "40e0e3df-9b9c-4813-f40f-1ad6ba802934"
      },
      "outputs": [
        {
          "name": "stdout",
          "output_type": "stream",
          "text": [
            "Epoch 1/10\n",
            "\u001b[1m1/1\u001b[0m \u001b[32m━━━━━━━━━━━━━━━━━━━━\u001b[0m\u001b[37m\u001b[0m \u001b[1m4s\u001b[0m 4s/step - accuracy: 0.4000 - loss: 0.6992\n",
            "Epoch 2/10\n",
            "\u001b[1m1/1\u001b[0m \u001b[32m━━━━━━━━━━━━━━━━━━━━\u001b[0m\u001b[37m\u001b[0m \u001b[1m0s\u001b[0m 266ms/step - accuracy: 0.4000 - loss: 0.6957\n",
            "Epoch 3/10\n",
            "\u001b[1m1/1\u001b[0m \u001b[32m━━━━━━━━━━━━━━━━━━━━\u001b[0m\u001b[37m\u001b[0m \u001b[1m0s\u001b[0m 41ms/step - accuracy: 0.6000 - loss: 0.6922\n",
            "Epoch 4/10\n",
            "\u001b[1m1/1\u001b[0m \u001b[32m━━━━━━━━━━━━━━━━━━━━\u001b[0m\u001b[37m\u001b[0m \u001b[1m0s\u001b[0m 58ms/step - accuracy: 0.8000 - loss: 0.6888\n",
            "Epoch 5/10\n",
            "\u001b[1m1/1\u001b[0m \u001b[32m━━━━━━━━━━━━━━━━━━━━\u001b[0m\u001b[37m\u001b[0m \u001b[1m0s\u001b[0m 59ms/step - accuracy: 0.8000 - loss: 0.6856\n",
            "Epoch 6/10\n",
            "\u001b[1m1/1\u001b[0m \u001b[32m━━━━━━━━━━━━━━━━━━━━\u001b[0m\u001b[37m\u001b[0m \u001b[1m0s\u001b[0m 61ms/step - accuracy: 1.0000 - loss: 0.6826\n",
            "Epoch 7/10\n",
            "\u001b[1m1/1\u001b[0m \u001b[32m━━━━━━━━━━━━━━━━━━━━\u001b[0m\u001b[37m\u001b[0m \u001b[1m0s\u001b[0m 54ms/step - accuracy: 1.0000 - loss: 0.6800\n",
            "Epoch 8/10\n",
            "\u001b[1m1/1\u001b[0m \u001b[32m━━━━━━━━━━━━━━━━━━━━\u001b[0m\u001b[37m\u001b[0m \u001b[1m0s\u001b[0m 58ms/step - accuracy: 1.0000 - loss: 0.6775\n",
            "Epoch 9/10\n",
            "\u001b[1m1/1\u001b[0m \u001b[32m━━━━━━━━━━━━━━━━━━━━\u001b[0m\u001b[37m\u001b[0m \u001b[1m0s\u001b[0m 45ms/step - accuracy: 1.0000 - loss: 0.6749\n",
            "Epoch 10/10\n",
            "\u001b[1m1/1\u001b[0m \u001b[32m━━━━━━━━━━━━━━━━━━━━\u001b[0m\u001b[37m\u001b[0m \u001b[1m0s\u001b[0m 58ms/step - accuracy: 1.0000 - loss: 0.6723\n"
          ]
        },
        {
          "data": {
            "text/plain": [
              "<keras.src.callbacks.history.History at 0x797129ee45d0>"
            ]
          },
          "execution_count": 11,
          "metadata": {},
          "output_type": "execute_result"
        }
      ],
      "source": [
        "model.fit(train_pad, train_df['label'], epochs=10)"
      ]
    },
    {
      "cell_type": "code",
      "execution_count": null,
      "metadata": {
        "colab": {
          "base_uri": "https://localhost:8080/"
        },
        "id": "iue6GmOiLA-w",
        "outputId": "32701d1c-fd93-4925-d53d-39956ca93040"
      },
      "outputs": [
        {
          "name": "stdout",
          "output_type": "stream",
          "text": [
            "[[2, 3, 4, 5], [2, 3, 10]]\n",
            "[[ 0  2  3  4  5]\n",
            " [ 0  0  2  3 10]]\n",
            "\u001b[1m1/1\u001b[0m \u001b[32m━━━━━━━━━━━━━━━━━━━━\u001b[0m\u001b[37m\u001b[0m \u001b[1m1s\u001b[0m 817ms/step\n"
          ]
        },
        {
          "data": {
            "text/plain": [
              "['긍정', '부정']"
            ]
          },
          "execution_count": 12,
          "metadata": {},
          "output_type": "execute_result"
        }
      ],
      "source": [
        "# 추론\n",
        "# 학습에 사용했던 토크나이져를 사용\n",
        "new_texts = ['와 이 영화는 재미 있었어요','이 영화는 아깝습니다']\n",
        "new_sequence = tokenizer.texts_to_sequences(new_texts)\n",
        "print(new_sequence)\n",
        "new_pad = tf.keras.preprocessing.sequence.pad_sequences(new_sequence, maxlen=max_len)\n",
        "print(new_pad)\n",
        "predics = model.predict(new_pad)\n",
        "['긍정' if p>0.5 else '부정'  for p in predics]"
      ]
    },
    {
      "cell_type": "code",
      "execution_count": 6,
      "metadata": {
        "colab": {
          "base_uri": "https://localhost:8080/",
          "height": 206
        },
        "id": "3I6nXhplM5ra",
        "outputId": "cb257e57-c8ec-4b95-9f8a-51b4b2544211"
      },
      "outputs": [
        {
          "output_type": "execute_result",
          "data": {
            "text/plain": [
              "         id                                           document  label\n",
              "0   8112052                                어릴때보고 지금다시봐도 재밌어요ㅋㅋ      1\n",
              "1   8132799  디자인을 배우는 학생으로, 외국디자이너와 그들이 일군 전통을 통해 발전해가는 문화산...      1\n",
              "2   4655635               폴리스스토리 시리즈는 1부터 뉴까지 버릴께 하나도 없음.. 최고.      1\n",
              "3   9251303  와.. 연기가 진짜 개쩔구나.. 지루할거라고 생각했는데 몰입해서 봤다.. 그래 이런...      1\n",
              "4  10067386                        안개 자욱한 밤하늘에 떠 있는 초승달 같은 영화.      1"
            ],
            "text/html": [
              "\n",
              "  <div id=\"df-1634f9e0-d15a-45ad-8162-f30441b9bde0\" class=\"colab-df-container\">\n",
              "    <div>\n",
              "<style scoped>\n",
              "    .dataframe tbody tr th:only-of-type {\n",
              "        vertical-align: middle;\n",
              "    }\n",
              "\n",
              "    .dataframe tbody tr th {\n",
              "        vertical-align: top;\n",
              "    }\n",
              "\n",
              "    .dataframe thead th {\n",
              "        text-align: right;\n",
              "    }\n",
              "</style>\n",
              "<table border=\"1\" class=\"dataframe\">\n",
              "  <thead>\n",
              "    <tr style=\"text-align: right;\">\n",
              "      <th></th>\n",
              "      <th>id</th>\n",
              "      <th>document</th>\n",
              "      <th>label</th>\n",
              "    </tr>\n",
              "  </thead>\n",
              "  <tbody>\n",
              "    <tr>\n",
              "      <th>0</th>\n",
              "      <td>8112052</td>\n",
              "      <td>어릴때보고 지금다시봐도 재밌어요ㅋㅋ</td>\n",
              "      <td>1</td>\n",
              "    </tr>\n",
              "    <tr>\n",
              "      <th>1</th>\n",
              "      <td>8132799</td>\n",
              "      <td>디자인을 배우는 학생으로, 외국디자이너와 그들이 일군 전통을 통해 발전해가는 문화산...</td>\n",
              "      <td>1</td>\n",
              "    </tr>\n",
              "    <tr>\n",
              "      <th>2</th>\n",
              "      <td>4655635</td>\n",
              "      <td>폴리스스토리 시리즈는 1부터 뉴까지 버릴께 하나도 없음.. 최고.</td>\n",
              "      <td>1</td>\n",
              "    </tr>\n",
              "    <tr>\n",
              "      <th>3</th>\n",
              "      <td>9251303</td>\n",
              "      <td>와.. 연기가 진짜 개쩔구나.. 지루할거라고 생각했는데 몰입해서 봤다.. 그래 이런...</td>\n",
              "      <td>1</td>\n",
              "    </tr>\n",
              "    <tr>\n",
              "      <th>4</th>\n",
              "      <td>10067386</td>\n",
              "      <td>안개 자욱한 밤하늘에 떠 있는 초승달 같은 영화.</td>\n",
              "      <td>1</td>\n",
              "    </tr>\n",
              "  </tbody>\n",
              "</table>\n",
              "</div>\n",
              "    <div class=\"colab-df-buttons\">\n",
              "\n",
              "  <div class=\"colab-df-container\">\n",
              "    <button class=\"colab-df-convert\" onclick=\"convertToInteractive('df-1634f9e0-d15a-45ad-8162-f30441b9bde0')\"\n",
              "            title=\"Convert this dataframe to an interactive table.\"\n",
              "            style=\"display:none;\">\n",
              "\n",
              "  <svg xmlns=\"http://www.w3.org/2000/svg\" height=\"24px\" viewBox=\"0 -960 960 960\">\n",
              "    <path d=\"M120-120v-720h720v720H120Zm60-500h600v-160H180v160Zm220 220h160v-160H400v160Zm0 220h160v-160H400v160ZM180-400h160v-160H180v160Zm440 0h160v-160H620v160ZM180-180h160v-160H180v160Zm440 0h160v-160H620v160Z\"/>\n",
              "  </svg>\n",
              "    </button>\n",
              "\n",
              "  <style>\n",
              "    .colab-df-container {\n",
              "      display:flex;\n",
              "      gap: 12px;\n",
              "    }\n",
              "\n",
              "    .colab-df-convert {\n",
              "      background-color: #E8F0FE;\n",
              "      border: none;\n",
              "      border-radius: 50%;\n",
              "      cursor: pointer;\n",
              "      display: none;\n",
              "      fill: #1967D2;\n",
              "      height: 32px;\n",
              "      padding: 0 0 0 0;\n",
              "      width: 32px;\n",
              "    }\n",
              "\n",
              "    .colab-df-convert:hover {\n",
              "      background-color: #E2EBFA;\n",
              "      box-shadow: 0px 1px 2px rgba(60, 64, 67, 0.3), 0px 1px 3px 1px rgba(60, 64, 67, 0.15);\n",
              "      fill: #174EA6;\n",
              "    }\n",
              "\n",
              "    .colab-df-buttons div {\n",
              "      margin-bottom: 4px;\n",
              "    }\n",
              "\n",
              "    [theme=dark] .colab-df-convert {\n",
              "      background-color: #3B4455;\n",
              "      fill: #D2E3FC;\n",
              "    }\n",
              "\n",
              "    [theme=dark] .colab-df-convert:hover {\n",
              "      background-color: #434B5C;\n",
              "      box-shadow: 0px 1px 3px 1px rgba(0, 0, 0, 0.15);\n",
              "      filter: drop-shadow(0px 1px 2px rgba(0, 0, 0, 0.3));\n",
              "      fill: #FFFFFF;\n",
              "    }\n",
              "  </style>\n",
              "\n",
              "    <script>\n",
              "      const buttonEl =\n",
              "        document.querySelector('#df-1634f9e0-d15a-45ad-8162-f30441b9bde0 button.colab-df-convert');\n",
              "      buttonEl.style.display =\n",
              "        google.colab.kernel.accessAllowed ? 'block' : 'none';\n",
              "\n",
              "      async function convertToInteractive(key) {\n",
              "        const element = document.querySelector('#df-1634f9e0-d15a-45ad-8162-f30441b9bde0');\n",
              "        const dataTable =\n",
              "          await google.colab.kernel.invokeFunction('convertToInteractive',\n",
              "                                                    [key], {});\n",
              "        if (!dataTable) return;\n",
              "\n",
              "        const docLinkHtml = 'Like what you see? Visit the ' +\n",
              "          '<a target=\"_blank\" href=https://colab.research.google.com/notebooks/data_table.ipynb>data table notebook</a>'\n",
              "          + ' to learn more about interactive tables.';\n",
              "        element.innerHTML = '';\n",
              "        dataTable['output_type'] = 'display_data';\n",
              "        await google.colab.output.renderOutput(dataTable, element);\n",
              "        const docLink = document.createElement('div');\n",
              "        docLink.innerHTML = docLinkHtml;\n",
              "        element.appendChild(docLink);\n",
              "      }\n",
              "    </script>\n",
              "  </div>\n",
              "\n",
              "\n",
              "<div id=\"df-cafa0581-2203-4d0c-a676-3dd18801d37e\">\n",
              "  <button class=\"colab-df-quickchart\" onclick=\"quickchart('df-cafa0581-2203-4d0c-a676-3dd18801d37e')\"\n",
              "            title=\"Suggest charts\"\n",
              "            style=\"display:none;\">\n",
              "\n",
              "<svg xmlns=\"http://www.w3.org/2000/svg\" height=\"24px\"viewBox=\"0 0 24 24\"\n",
              "     width=\"24px\">\n",
              "    <g>\n",
              "        <path d=\"M19 3H5c-1.1 0-2 .9-2 2v14c0 1.1.9 2 2 2h14c1.1 0 2-.9 2-2V5c0-1.1-.9-2-2-2zM9 17H7v-7h2v7zm4 0h-2V7h2v10zm4 0h-2v-4h2v4z\"/>\n",
              "    </g>\n",
              "</svg>\n",
              "  </button>\n",
              "\n",
              "<style>\n",
              "  .colab-df-quickchart {\n",
              "      --bg-color: #E8F0FE;\n",
              "      --fill-color: #1967D2;\n",
              "      --hover-bg-color: #E2EBFA;\n",
              "      --hover-fill-color: #174EA6;\n",
              "      --disabled-fill-color: #AAA;\n",
              "      --disabled-bg-color: #DDD;\n",
              "  }\n",
              "\n",
              "  [theme=dark] .colab-df-quickchart {\n",
              "      --bg-color: #3B4455;\n",
              "      --fill-color: #D2E3FC;\n",
              "      --hover-bg-color: #434B5C;\n",
              "      --hover-fill-color: #FFFFFF;\n",
              "      --disabled-bg-color: #3B4455;\n",
              "      --disabled-fill-color: #666;\n",
              "  }\n",
              "\n",
              "  .colab-df-quickchart {\n",
              "    background-color: var(--bg-color);\n",
              "    border: none;\n",
              "    border-radius: 50%;\n",
              "    cursor: pointer;\n",
              "    display: none;\n",
              "    fill: var(--fill-color);\n",
              "    height: 32px;\n",
              "    padding: 0;\n",
              "    width: 32px;\n",
              "  }\n",
              "\n",
              "  .colab-df-quickchart:hover {\n",
              "    background-color: var(--hover-bg-color);\n",
              "    box-shadow: 0 1px 2px rgba(60, 64, 67, 0.3), 0 1px 3px 1px rgba(60, 64, 67, 0.15);\n",
              "    fill: var(--button-hover-fill-color);\n",
              "  }\n",
              "\n",
              "  .colab-df-quickchart-complete:disabled,\n",
              "  .colab-df-quickchart-complete:disabled:hover {\n",
              "    background-color: var(--disabled-bg-color);\n",
              "    fill: var(--disabled-fill-color);\n",
              "    box-shadow: none;\n",
              "  }\n",
              "\n",
              "  .colab-df-spinner {\n",
              "    border: 2px solid var(--fill-color);\n",
              "    border-color: transparent;\n",
              "    border-bottom-color: var(--fill-color);\n",
              "    animation:\n",
              "      spin 1s steps(1) infinite;\n",
              "  }\n",
              "\n",
              "  @keyframes spin {\n",
              "    0% {\n",
              "      border-color: transparent;\n",
              "      border-bottom-color: var(--fill-color);\n",
              "      border-left-color: var(--fill-color);\n",
              "    }\n",
              "    20% {\n",
              "      border-color: transparent;\n",
              "      border-left-color: var(--fill-color);\n",
              "      border-top-color: var(--fill-color);\n",
              "    }\n",
              "    30% {\n",
              "      border-color: transparent;\n",
              "      border-left-color: var(--fill-color);\n",
              "      border-top-color: var(--fill-color);\n",
              "      border-right-color: var(--fill-color);\n",
              "    }\n",
              "    40% {\n",
              "      border-color: transparent;\n",
              "      border-right-color: var(--fill-color);\n",
              "      border-top-color: var(--fill-color);\n",
              "    }\n",
              "    60% {\n",
              "      border-color: transparent;\n",
              "      border-right-color: var(--fill-color);\n",
              "    }\n",
              "    80% {\n",
              "      border-color: transparent;\n",
              "      border-right-color: var(--fill-color);\n",
              "      border-bottom-color: var(--fill-color);\n",
              "    }\n",
              "    90% {\n",
              "      border-color: transparent;\n",
              "      border-bottom-color: var(--fill-color);\n",
              "    }\n",
              "  }\n",
              "</style>\n",
              "\n",
              "  <script>\n",
              "    async function quickchart(key) {\n",
              "      const quickchartButtonEl =\n",
              "        document.querySelector('#' + key + ' button');\n",
              "      quickchartButtonEl.disabled = true;  // To prevent multiple clicks.\n",
              "      quickchartButtonEl.classList.add('colab-df-spinner');\n",
              "      try {\n",
              "        const charts = await google.colab.kernel.invokeFunction(\n",
              "            'suggestCharts', [key], {});\n",
              "      } catch (error) {\n",
              "        console.error('Error during call to suggestCharts:', error);\n",
              "      }\n",
              "      quickchartButtonEl.classList.remove('colab-df-spinner');\n",
              "      quickchartButtonEl.classList.add('colab-df-quickchart-complete');\n",
              "    }\n",
              "    (() => {\n",
              "      let quickchartButtonEl =\n",
              "        document.querySelector('#df-cafa0581-2203-4d0c-a676-3dd18801d37e button');\n",
              "      quickchartButtonEl.style.display =\n",
              "        google.colab.kernel.accessAllowed ? 'block' : 'none';\n",
              "    })();\n",
              "  </script>\n",
              "</div>\n",
              "\n",
              "    </div>\n",
              "  </div>\n"
            ],
            "application/vnd.google.colaboratory.intrinsic+json": {
              "type": "dataframe",
              "variable_name": "movie_df"
            }
          },
          "metadata": {},
          "execution_count": 6
        }
      ],
      "source": [
        "import pandas as pd\n",
        "movie_df = pd.read_csv('https://raw.githubusercontent.com/e9t/nsmc/master/ratings.txt',sep='\\t')\n",
        "movie_df.head()"
      ]
    },
    {
      "cell_type": "code",
      "execution_count": 7,
      "metadata": {
        "colab": {
          "base_uri": "https://localhost:8080/"
        },
        "id": "ga9EYhPNOFOf",
        "outputId": "cbf0bee5-b47c-4ff2-fc1b-265bd08df9f6"
      },
      "outputs": [
        {
          "output_type": "stream",
          "name": "stdout",
          "text": [
            "Collecting koeda\n",
            "  Downloading koeda-0.0.4-py3-none-any.whl.metadata (5.2 kB)\n",
            "Requirement already satisfied: numpy>=1.19.4 in /usr/local/lib/python3.11/dist-packages (from koeda) (2.0.2)\n",
            "Collecting konlpy>=0.5.2 (from koeda)\n",
            "  Downloading konlpy-0.6.0-py2.py3-none-any.whl.metadata (1.9 kB)\n",
            "Collecting tweepy==3.10.0 (from koeda)\n",
            "  Downloading tweepy-3.10.0-py2.py3-none-any.whl.metadata (2.8 kB)\n",
            "Requirement already satisfied: requests>=2.11.1 in /usr/local/lib/python3.11/dist-packages (from requests[socks]>=2.11.1->tweepy==3.10.0->koeda) (2.32.3)\n",
            "Requirement already satisfied: requests-oauthlib>=0.7.0 in /usr/local/lib/python3.11/dist-packages (from tweepy==3.10.0->koeda) (2.0.0)\n",
            "Requirement already satisfied: six>=1.10.0 in /usr/local/lib/python3.11/dist-packages (from tweepy==3.10.0->koeda) (1.17.0)\n",
            "Collecting JPype1>=0.7.0 (from konlpy>=0.5.2->koeda)\n",
            "  Downloading jpype1-1.5.2-cp311-cp311-manylinux_2_17_x86_64.manylinux2014_x86_64.whl.metadata (4.9 kB)\n",
            "Requirement already satisfied: lxml>=4.1.0 in /usr/local/lib/python3.11/dist-packages (from konlpy>=0.5.2->koeda) (5.3.1)\n",
            "Requirement already satisfied: packaging in /usr/local/lib/python3.11/dist-packages (from JPype1>=0.7.0->konlpy>=0.5.2->koeda) (24.2)\n",
            "Requirement already satisfied: charset-normalizer<4,>=2 in /usr/local/lib/python3.11/dist-packages (from requests>=2.11.1->requests[socks]>=2.11.1->tweepy==3.10.0->koeda) (3.4.1)\n",
            "Requirement already satisfied: idna<4,>=2.5 in /usr/local/lib/python3.11/dist-packages (from requests>=2.11.1->requests[socks]>=2.11.1->tweepy==3.10.0->koeda) (3.10)\n",
            "Requirement already satisfied: urllib3<3,>=1.21.1 in /usr/local/lib/python3.11/dist-packages (from requests>=2.11.1->requests[socks]>=2.11.1->tweepy==3.10.0->koeda) (2.3.0)\n",
            "Requirement already satisfied: certifi>=2017.4.17 in /usr/local/lib/python3.11/dist-packages (from requests>=2.11.1->requests[socks]>=2.11.1->tweepy==3.10.0->koeda) (2025.1.31)\n",
            "Requirement already satisfied: oauthlib>=3.0.0 in /usr/local/lib/python3.11/dist-packages (from requests-oauthlib>=0.7.0->tweepy==3.10.0->koeda) (3.2.2)\n",
            "Requirement already satisfied: PySocks!=1.5.7,>=1.5.6 in /usr/local/lib/python3.11/dist-packages (from requests[socks]>=2.11.1->tweepy==3.10.0->koeda) (1.7.1)\n",
            "Downloading koeda-0.0.4-py3-none-any.whl (566 kB)\n",
            "\u001b[2K   \u001b[90m━━━━━━━━━━━━━━━━━━━━━━━━━━━━━━━━━━━━━━━━\u001b[0m \u001b[32m566.4/566.4 kB\u001b[0m \u001b[31m13.2 MB/s\u001b[0m eta \u001b[36m0:00:00\u001b[0m\n",
            "\u001b[?25hDownloading tweepy-3.10.0-py2.py3-none-any.whl (30 kB)\n",
            "Downloading konlpy-0.6.0-py2.py3-none-any.whl (19.4 MB)\n",
            "\u001b[2K   \u001b[90m━━━━━━━━━━━━━━━━━━━━━━━━━━━━━━━━━━━━━━━━\u001b[0m \u001b[32m19.4/19.4 MB\u001b[0m \u001b[31m104.6 MB/s\u001b[0m eta \u001b[36m0:00:00\u001b[0m\n",
            "\u001b[?25hDownloading jpype1-1.5.2-cp311-cp311-manylinux_2_17_x86_64.manylinux2014_x86_64.whl (494 kB)\n",
            "\u001b[2K   \u001b[90m━━━━━━━━━━━━━━━━━━━━━━━━━━━━━━━━━━━━━━━━\u001b[0m \u001b[32m494.1/494.1 kB\u001b[0m \u001b[31m33.9 MB/s\u001b[0m eta \u001b[36m0:00:00\u001b[0m\n",
            "\u001b[?25hInstalling collected packages: JPype1, konlpy, tweepy, koeda\n",
            "  Attempting uninstall: tweepy\n",
            "    Found existing installation: tweepy 4.15.0\n",
            "    Uninstalling tweepy-4.15.0:\n",
            "      Successfully uninstalled tweepy-4.15.0\n",
            "Successfully installed JPype1-1.5.2 koeda-0.0.4 konlpy-0.6.0 tweepy-3.10.0\n"
          ]
        }
      ],
      "source": [
        "!pip install koeda"
      ]
    },
    {
      "cell_type": "code",
      "execution_count": 8,
      "metadata": {
        "id": "ecT06wUGYZ8q"
      },
      "outputs": [],
      "source": [
        "from koeda import EDA\n",
        "train_texts = [\n",
        "    '이 영화는 재미 있었어요 *^-^*',\n",
        "    '정말 감동적인 영화였어요',\n",
        "    '시간이 zzz 너무 아깝습니다.',\n",
        "    '배우들의 연기가 너무 좋았어요 he~~~',\n",
        "    '스토리가 별로였어요',\n",
        "]\n",
        "# okt 한글 형태소 분석기\n",
        "eda = EDA(morpheme_analyzer=\"Okt\", alpha_sr=0.3, alpha_ri=0.3, alpha_rs=0.3, prob_rd=0.3)"
      ]
    },
    {
      "cell_type": "code",
      "execution_count": 9,
      "metadata": {
        "colab": {
          "base_uri": "https://localhost:8080/"
        },
        "id": "GbmxJ3RuYcXe",
        "outputId": "b8000a84-f766-4f5a-e04a-7516788f88ab"
      },
      "outputs": [
        {
          "output_type": "stream",
          "name": "stdout",
          "text": [
            "이 영화는 *^-^*\n",
            "정말 감동였어요인 영화적\n",
            "시간엄니 zzz 너무 아깝습니다.\n",
            "들의 연기 너무 좋았어요 he~~~\n",
            "스토리가 별로였어요\n"
          ]
        }
      ],
      "source": [
        "# data argumentation\n",
        "for text in train_texts:\n",
        "  print(eda(text))"
      ]
    },
    {
      "cell_type": "code",
      "execution_count": 10,
      "metadata": {
        "colab": {
          "base_uri": "https://localhost:8080/",
          "height": 186
        },
        "id": "mB52gsHWZBZL",
        "outputId": "a99beefa-0b7b-4720-b64c-1836b1299c0d"
      },
      "outputs": [
        {
          "output_type": "execute_result",
          "data": {
            "text/plain": [
              "<bound method DataFrame.duplicated of               id                                           document  label\n",
              "0        8112052                                어릴때보고 지금다시봐도 재밌어요ㅋㅋ      1\n",
              "1        8132799  디자인을 배우는 학생으로, 외국디자이너와 그들이 일군 전통을 통해 발전해가는 문화산...      1\n",
              "2        4655635               폴리스스토리 시리즈는 1부터 뉴까지 버릴께 하나도 없음.. 최고.      1\n",
              "3        9251303  와.. 연기가 진짜 개쩔구나.. 지루할거라고 생각했는데 몰입해서 봤다.. 그래 이런...      1\n",
              "4       10067386                        안개 자욱한 밤하늘에 떠 있는 초승달 같은 영화.      1\n",
              "...          ...                                                ...    ...\n",
              "199995   8963373                                     포켓 몬스터 짜가 ㅡㅡ;;      0\n",
              "199996   3302770                                              쓰.레.기      0\n",
              "199997   5458175                  완전 사이코영화. 마지막은 더욱더 이 영화의질을 떨어트린다.      0\n",
              "199998   6908648                왜난 재미없었지 ㅠㅠ 라따뚜이 보고나서 스머프 봐서 그런가 ㅋㅋ      0\n",
              "199999   8548411                                    포풍저그가나가신다영차영차영차      0\n",
              "\n",
              "[199992 rows x 3 columns]>"
            ],
            "text/html": [
              "<div style=\"max-width:800px; border: 1px solid var(--colab-border-color);\"><style>\n",
              "      pre.function-repr-contents {\n",
              "        overflow-x: auto;\n",
              "        padding: 8px 12px;\n",
              "        max-height: 500px;\n",
              "      }\n",
              "\n",
              "      pre.function-repr-contents.function-repr-contents-collapsed {\n",
              "        cursor: pointer;\n",
              "        max-height: 100px;\n",
              "      }\n",
              "    </style>\n",
              "    <pre style=\"white-space: initial; background:\n",
              "         var(--colab-secondary-surface-color); padding: 8px 12px;\n",
              "         border-bottom: 1px solid var(--colab-border-color);\"><b>pandas.core.frame.DataFrame.duplicated</b><br/>def duplicated(subset: Hashable | Sequence[Hashable] | None=None, keep: DropKeep=&#x27;first&#x27;) -&gt; Series</pre><pre class=\"function-repr-contents function-repr-contents-collapsed\" style=\"\"><a class=\"filepath\" style=\"display:none\" href=\"#\">/usr/local/lib/python3.11/dist-packages/pandas/core/frame.py</a>Return boolean Series denoting duplicate rows.\n",
              "\n",
              "Considering certain columns is optional.\n",
              "\n",
              "Parameters\n",
              "----------\n",
              "subset : column label or sequence of labels, optional\n",
              "    Only consider certain columns for identifying duplicates, by\n",
              "    default use all of the columns.\n",
              "keep : {&#x27;first&#x27;, &#x27;last&#x27;, False}, default &#x27;first&#x27;\n",
              "    Determines which duplicates (if any) to mark.\n",
              "\n",
              "    - ``first`` : Mark duplicates as ``True`` except for the first occurrence.\n",
              "    - ``last`` : Mark duplicates as ``True`` except for the last occurrence.\n",
              "    - False : Mark all duplicates as ``True``.\n",
              "\n",
              "Returns\n",
              "-------\n",
              "Series\n",
              "    Boolean series for each duplicated rows.\n",
              "\n",
              "See Also\n",
              "--------\n",
              "Index.duplicated : Equivalent method on index.\n",
              "Series.duplicated : Equivalent method on Series.\n",
              "Series.drop_duplicates : Remove duplicate values from Series.\n",
              "DataFrame.drop_duplicates : Remove duplicate values from DataFrame.\n",
              "\n",
              "Examples\n",
              "--------\n",
              "Consider dataset containing ramen rating.\n",
              "\n",
              "&gt;&gt;&gt; df = pd.DataFrame({\n",
              "...     &#x27;brand&#x27;: [&#x27;Yum Yum&#x27;, &#x27;Yum Yum&#x27;, &#x27;Indomie&#x27;, &#x27;Indomie&#x27;, &#x27;Indomie&#x27;],\n",
              "...     &#x27;style&#x27;: [&#x27;cup&#x27;, &#x27;cup&#x27;, &#x27;cup&#x27;, &#x27;pack&#x27;, &#x27;pack&#x27;],\n",
              "...     &#x27;rating&#x27;: [4, 4, 3.5, 15, 5]\n",
              "... })\n",
              "&gt;&gt;&gt; df\n",
              "    brand style  rating\n",
              "0  Yum Yum   cup     4.0\n",
              "1  Yum Yum   cup     4.0\n",
              "2  Indomie   cup     3.5\n",
              "3  Indomie  pack    15.0\n",
              "4  Indomie  pack     5.0\n",
              "\n",
              "By default, for each set of duplicated values, the first occurrence\n",
              "is set on False and all others on True.\n",
              "\n",
              "&gt;&gt;&gt; df.duplicated()\n",
              "0    False\n",
              "1     True\n",
              "2    False\n",
              "3    False\n",
              "4    False\n",
              "dtype: bool\n",
              "\n",
              "By using &#x27;last&#x27;, the last occurrence of each set of duplicated values\n",
              "is set on False and all others on True.\n",
              "\n",
              "&gt;&gt;&gt; df.duplicated(keep=&#x27;last&#x27;)\n",
              "0     True\n",
              "1    False\n",
              "2    False\n",
              "3    False\n",
              "4    False\n",
              "dtype: bool\n",
              "\n",
              "By setting ``keep`` on False, all duplicates are True.\n",
              "\n",
              "&gt;&gt;&gt; df.duplicated(keep=False)\n",
              "0     True\n",
              "1     True\n",
              "2    False\n",
              "3    False\n",
              "4    False\n",
              "dtype: bool\n",
              "\n",
              "To find duplicates on specific column(s), use ``subset``.\n",
              "\n",
              "&gt;&gt;&gt; df.duplicated(subset=[&#x27;brand&#x27;])\n",
              "0    False\n",
              "1     True\n",
              "2    False\n",
              "3     True\n",
              "4     True\n",
              "dtype: bool</pre>\n",
              "      <script>\n",
              "      if (google.colab.kernel.accessAllowed && google.colab.files && google.colab.files.view) {\n",
              "        for (const element of document.querySelectorAll('.filepath')) {\n",
              "          element.style.display = 'block'\n",
              "          element.onclick = (event) => {\n",
              "            event.preventDefault();\n",
              "            event.stopPropagation();\n",
              "            google.colab.files.view(element.textContent, 6828);\n",
              "          };\n",
              "        }\n",
              "      }\n",
              "      for (const element of document.querySelectorAll('.function-repr-contents')) {\n",
              "        element.onclick = (event) => {\n",
              "          event.preventDefault();\n",
              "          event.stopPropagation();\n",
              "          element.classList.toggle('function-repr-contents-collapsed');\n",
              "        };\n",
              "      }\n",
              "      </script>\n",
              "      </div>"
            ]
          },
          "metadata": {},
          "execution_count": 10
        }
      ],
      "source": [
        "movie_df.dropna(inplace=True)\n",
        "movie_df.duplicated"
      ]
    },
    {
      "cell_type": "code",
      "execution_count": 11,
      "metadata": {
        "id": "J_RHrlTjafs-"
      },
      "outputs": [],
      "source": [
        "def custom_standardztion(input_data):\n",
        "  input_data = re.sub(r'<.*?>',\"\",input_data)\n",
        "  input_data = re.sub(r'[^가-힣\\s]',\"\",input_data)  # 한글과 공백만 남기\n",
        "  return input_data.strip()"
      ]
    },
    {
      "cell_type": "code",
      "execution_count": 13,
      "metadata": {
        "id": "hABe6MzhZvYf"
      },
      "outputs": [],
      "source": [
        "import re\n",
        "# 한글만 선택 - 전처리\n",
        "movie_df['document'] = movie_df['document'].map(custom_standardztion)\n",
        "\n",
        "# 데이터 분할\n",
        "from sklearn.model_selection import train_test_split\n",
        "train_texts, val_texts, train_labels, val_labels = train_test_split(movie_df['document'], movie_df['label'], test_size=.2, random_state=42)"
      ]
    },
    {
      "cell_type": "code",
      "execution_count": 14,
      "metadata": {
        "colab": {
          "base_uri": "https://localhost:8080/",
          "height": 458
        },
        "id": "D9PjrGZFZ7rx",
        "outputId": "311a9067-fb45-4838-a228-b255bd9ae506"
      },
      "outputs": [
        {
          "output_type": "execute_result",
          "data": {
            "text/plain": [
              "199130         몇몇 훌륭한 글귀를 집어넣었다고 좋은 영화가 되는 것이 아니다 약빨고 만든 영화\n",
              "122470                           타잔은 디즈니지 영상만 잘 만들고 스토리는 노답\n",
              "15044                              범죄자 인권에대해서 다시 한번 생각 해보게됨\n",
              "11425                                                  재미있다\n",
              "121115         영웅이라길래 으리성님을 기대하고 왔는데 뭐야 이기야우덜 으리성님을 내놓으랑께으리\n",
              "                                ...                        \n",
              "119883                             카메라의 떨림 거북스럽다 머리를 아프게 한다\n",
              "103698                                           보지마라 형이말한다\n",
              "131937                            매력적인 르네 젤위거가 나오지만 스토리는 글쎄\n",
              "146872                                            나 이런 사람이야\n",
              "121962    창공을 누비다옥탑방으로 기어 올라간김원준왜지연예병사로 군복무기간중대한민국대표여배우랑...\n",
              "Name: document, Length: 159993, dtype: object"
            ],
            "text/html": [
              "<div>\n",
              "<style scoped>\n",
              "    .dataframe tbody tr th:only-of-type {\n",
              "        vertical-align: middle;\n",
              "    }\n",
              "\n",
              "    .dataframe tbody tr th {\n",
              "        vertical-align: top;\n",
              "    }\n",
              "\n",
              "    .dataframe thead th {\n",
              "        text-align: right;\n",
              "    }\n",
              "</style>\n",
              "<table border=\"1\" class=\"dataframe\">\n",
              "  <thead>\n",
              "    <tr style=\"text-align: right;\">\n",
              "      <th></th>\n",
              "      <th>document</th>\n",
              "    </tr>\n",
              "  </thead>\n",
              "  <tbody>\n",
              "    <tr>\n",
              "      <th>199130</th>\n",
              "      <td>몇몇 훌륭한 글귀를 집어넣었다고 좋은 영화가 되는 것이 아니다 약빨고 만든 영화</td>\n",
              "    </tr>\n",
              "    <tr>\n",
              "      <th>122470</th>\n",
              "      <td>타잔은 디즈니지 영상만 잘 만들고 스토리는 노답</td>\n",
              "    </tr>\n",
              "    <tr>\n",
              "      <th>15044</th>\n",
              "      <td>범죄자 인권에대해서 다시 한번 생각 해보게됨</td>\n",
              "    </tr>\n",
              "    <tr>\n",
              "      <th>11425</th>\n",
              "      <td>재미있다</td>\n",
              "    </tr>\n",
              "    <tr>\n",
              "      <th>121115</th>\n",
              "      <td>영웅이라길래 으리성님을 기대하고 왔는데 뭐야 이기야우덜 으리성님을 내놓으랑께으리</td>\n",
              "    </tr>\n",
              "    <tr>\n",
              "      <th>...</th>\n",
              "      <td>...</td>\n",
              "    </tr>\n",
              "    <tr>\n",
              "      <th>119883</th>\n",
              "      <td>카메라의 떨림 거북스럽다 머리를 아프게 한다</td>\n",
              "    </tr>\n",
              "    <tr>\n",
              "      <th>103698</th>\n",
              "      <td>보지마라 형이말한다</td>\n",
              "    </tr>\n",
              "    <tr>\n",
              "      <th>131937</th>\n",
              "      <td>매력적인 르네 젤위거가 나오지만 스토리는 글쎄</td>\n",
              "    </tr>\n",
              "    <tr>\n",
              "      <th>146872</th>\n",
              "      <td>나 이런 사람이야</td>\n",
              "    </tr>\n",
              "    <tr>\n",
              "      <th>121962</th>\n",
              "      <td>창공을 누비다옥탑방으로 기어 올라간김원준왜지연예병사로 군복무기간중대한민국대표여배우랑...</td>\n",
              "    </tr>\n",
              "  </tbody>\n",
              "</table>\n",
              "<p>159993 rows × 1 columns</p>\n",
              "</div><br><label><b>dtype:</b> object</label>"
            ]
          },
          "metadata": {},
          "execution_count": 14
        }
      ],
      "source": [
        "train_texts"
      ]
    },
    {
      "cell_type": "code",
      "execution_count": 16,
      "metadata": {
        "id": "rx3dcDIdaPjO"
      },
      "outputs": [],
      "source": [
        "import tensorflow as tf\n",
        "# 토크나이져, 시퀀스 처리\n",
        "tokenizer = tf.keras.preprocessing.text.Tokenizer()\n",
        "tokenizer.fit_on_texts(train_texts)\n",
        "\n",
        "train_sequence = tokenizer.texts_to_sequences(train_texts)\n",
        "val_sequence = tokenizer.texts_to_sequences(val_texts)"
      ]
    },
    {
      "cell_type": "code",
      "execution_count": 17,
      "metadata": {
        "id": "WU5JWgVQcSgx"
      },
      "outputs": [],
      "source": [
        "# 문장의 최대 길이\n",
        "max_len = 100\n",
        "train_padded = tf.keras.preprocessing.sequence.pad_sequences(train_sequence, maxlen=max_len)\n",
        "val_padded = tf.keras.preprocessing.sequence.pad_sequences(val_sequence, maxlen=max_len)"
      ]
    },
    {
      "cell_type": "code",
      "execution_count": 19,
      "metadata": {
        "colab": {
          "base_uri": "https://localhost:8080/"
        },
        "id": "ybsxevmhc-f_",
        "outputId": "521b62be-bf72-4a14-a291-c4844a8840c8"
      },
      "outputs": [
        {
          "output_type": "stream",
          "name": "stdout",
          "text": [
            "(159993, 100)\n",
            "Epoch 1/5\n",
            "\u001b[1m5000/5000\u001b[0m \u001b[32m━━━━━━━━━━━━━━━━━━━━\u001b[0m\u001b[37m\u001b[0m \u001b[1m53s\u001b[0m 10ms/step - accuracy: 0.7214 - loss: 0.5210 - val_accuracy: 0.8097 - val_loss: 0.3902\n",
            "Epoch 2/5\n",
            "\u001b[1m5000/5000\u001b[0m \u001b[32m━━━━━━━━━━━━━━━━━━━━\u001b[0m\u001b[37m\u001b[0m \u001b[1m80s\u001b[0m 10ms/step - accuracy: 0.9295 - loss: 0.1931 - val_accuracy: 0.8010 - val_loss: 0.4556\n",
            "Epoch 3/5\n",
            "\u001b[1m5000/5000\u001b[0m \u001b[32m━━━━━━━━━━━━━━━━━━━━\u001b[0m\u001b[37m\u001b[0m \u001b[1m81s\u001b[0m 10ms/step - accuracy: 0.9685 - loss: 0.0835 - val_accuracy: 0.8019 - val_loss: 0.5277\n",
            "Epoch 4/5\n",
            "\u001b[1m5000/5000\u001b[0m \u001b[32m━━━━━━━━━━━━━━━━━━━━\u001b[0m\u001b[37m\u001b[0m \u001b[1m80s\u001b[0m 9ms/step - accuracy: 0.9809 - loss: 0.0480 - val_accuracy: 0.7933 - val_loss: 0.6404\n",
            "Epoch 5/5\n",
            "\u001b[1m5000/5000\u001b[0m \u001b[32m━━━━━━━━━━━━━━━━━━━━\u001b[0m\u001b[37m\u001b[0m \u001b[1m82s\u001b[0m 9ms/step - accuracy: 0.9861 - loss: 0.0332 - val_accuracy: 0.7901 - val_loss: 0.7691\n"
          ]
        }
      ],
      "source": [
        "# 단어사전 크기\n",
        "vocab_size = len(tokenizer.word_index) + 1\n",
        "# 모델 생성\n",
        "output_dim = 16\n",
        "print(train_padded.shape)  # 100\n",
        "kmodel = tf.keras.Sequential([\n",
        "    tf.keras.layers.Input(shape=(max_len,)),\n",
        "    tf.keras.layers.Embedding(vocab_size,output_dim),\n",
        "        tf.keras.layers.SimpleRNN(16,activation='relu'),\n",
        "    tf.keras.layers.Dense(1, activation='sigmoid')\n",
        "])\n",
        "kmodel.compile(optimizer='adam',\n",
        "              loss = tf.keras.losses.binary_crossentropy,\n",
        "              metrics=['accuracy'])\n",
        "# 모델 학습\n",
        "history = kmodel.fit(train_padded, train_labels, epochs=5,\n",
        "                    validation_data=(val_padded, val_labels),batch_size = 32)"
      ]
    },
    {
      "cell_type": "code",
      "source": [
        "import matplotlib.pyplot as plt\n",
        "\n",
        "plt.subplot(1,2,1)\n",
        "plt.plot(history.history['accuracy'])\n",
        "plt.plot(history.history['val_accuracy'])\n",
        "plt.show()\n",
        "\n",
        "plt.subplot(1,2,2)\n",
        "plt.plot(history.history['loss'])\n",
        "plt.plot(history.history['val_loss'])\n",
        "plt.show()"
      ],
      "metadata": {
        "colab": {
          "base_uri": "https://localhost:8080/",
          "height": 846
        },
        "id": "t-NKXRfmhrd4",
        "outputId": "dd36ea54-fb90-4c69-db78-0a42ea4ab1fd"
      },
      "execution_count": 20,
      "outputs": [
        {
          "output_type": "display_data",
          "data": {
            "text/plain": [
              "<Figure size 640x480 with 1 Axes>"
            ],
            "image/png": "[encoded data removed]"
          },
          "metadata": {}
        },
        {
          "output_type": "display_data",
          "data": {
            "text/plain": [
              "<Figure size 640x480 with 1 Axes>"
            ],
            "image/png": "[encoded data removed]"
          },
          "metadata": {}
        }
      ]
    },
    {
      "cell_type": "code",
      "source": [
        "import numpy as np\n",
        "new_texts = ['영화보다가 잤어요 ','너무 재미 있습니다.']\n",
        "new_sequence = tokenizer.texts_to_sequences(new_texts)\n",
        "new_padded = tf.keras.preprocessing.sequence.pad_sequences(new_sequence, maxlen=max_len)\n",
        "predics = kmodel.predict(new_padded)\n",
        "np.round(predics,5), predics"
      ],
      "metadata": {
        "colab": {
          "base_uri": "https://localhost:8080/"
        },
        "id": "qW24SOlahypu",
        "outputId": "266485d9-777d-4670-eca2-b0077794d5fc"
      },
      "execution_count": 21,
      "outputs": [
        {
          "output_type": "stream",
          "name": "stdout",
          "text": [
            "\u001b[1m1/1\u001b[0m \u001b[32m━━━━━━━━━━━━━━━━━━━━\u001b[0m\u001b[37m\u001b[0m \u001b[1m0s\u001b[0m 468ms/step\n"
          ]
        },
        {
          "output_type": "execute_result",
          "data": {
            "text/plain": [
              "(array([[0.     ],\n",
              "        [0.97716]], dtype=float32),\n",
              " array([[3.9449683e-06],\n",
              "        [9.7716421e-01]], dtype=float32))"
            ]
          },
          "metadata": {},
          "execution_count": 21
        }
      ]
    },
    {
      "cell_type": "markdown",
      "source": [
        "성능개선\n",
        "```\n",
        "데이터 증강\n",
        "EDA(Easy Data Augumentation)\n",
        "KoEDA\n",
        "  동어의치환, 단어삭제, 단어순서변경,랜덤단어삽입\n",
        "  형태소 Okt  \n",
        "\n",
        "토근화\n",
        "  BPE : 연속된 단어쌍을 병합해서 사전을 생성\n",
        "  WordPiece : BERT라는 언어모델에서 사용, 확률 기반\n",
        "  SentencePiece : 공백을 무시하고 학습\n",
        "\n",
        "Word Embedding 기법\n",
        "Word2Vec  : 단어의 분포를 고려한 벡터\n",
        "FastText : 서브워드를 학습 희귀단어도 처리가능\n",
        "BERT Embedding : 문맥을 고려한 동적 벡터\n",
        "ELECTRA : GAN 방식으로 작은 모델에서도 성능 향상\n",
        "\n",
        "전처리기법\n",
        "이모티콘이나 특수문자 제거\n",
        "정규화 : 'ㅋㅋㅋ' 재미있다 'ㅠ.ㅠ'지루하다 재미 없다\n",
        "불용어제거 : 의미없는 단어 그래서, 그런데, 하지만\n",
        "```\n",
        "\n",
        "```\n",
        "RAN\n",
        "  데이터 증강\n",
        "  최신 토크나이져 적용\n",
        "  벡터방식\n",
        "  정제(불용어, 특수문자, 이모티콘 등등)\n",
        "  정규화 : 필요시.. 줄임말을 표준어 표현\n",
        "```"
      ],
      "metadata": {
        "id": "0rIuGX68kXGx"
      }
    },
    {
      "cell_type": "markdown",
      "source": [
        "기존코드에 Word2Vec 적용\n",
        "```\n",
        "word2vec 사전 학습된 임베딩을 사용\n",
        "  word2vec 모델 학습\n",
        "  학습된 가중치를 keras embedding 레이어 적용\n",
        "```"
      ],
      "metadata": {
        "id": "2YGMWn_hl59Y"
      }
    },
    {
      "cell_type": "code",
      "source": [
        "!pip install --upgrade --force-reinstall gensim numpy"
      ],
      "metadata": {
        "colab": {
          "base_uri": "https://localhost:8080/"
        },
        "id": "cEAQkox_ogs4",
        "outputId": "7f395559-7e9e-4e4b-d0da-37f03b65bc30"
      },
      "execution_count": 1,
      "outputs": [
        {
          "output_type": "stream",
          "name": "stdout",
          "text": [
            "Collecting gensim\n",
            "  Using cached gensim-4.3.3-cp311-cp311-manylinux_2_17_x86_64.manylinux2014_x86_64.whl.metadata (8.1 kB)\n",
            "Collecting numpy\n",
            "  Using cached numpy-2.2.4-cp311-cp311-manylinux_2_17_x86_64.manylinux2014_x86_64.whl.metadata (62 kB)\n",
            "  Using cached numpy-1.26.4-cp311-cp311-manylinux_2_17_x86_64.manylinux2014_x86_64.whl.metadata (61 kB)\n",
            "Collecting scipy<1.14.0,>=1.7.0 (from gensim)\n",
            "  Using cached scipy-1.13.1-cp311-cp311-manylinux_2_17_x86_64.manylinux2014_x86_64.whl.metadata (60 kB)\n",
            "Collecting smart-open>=1.8.1 (from gensim)\n",
            "  Using cached smart_open-7.1.0-py3-none-any.whl.metadata (24 kB)\n",
            "Collecting wrapt (from smart-open>=1.8.1->gensim)\n",
            "  Using cached wrapt-1.17.2-cp311-cp311-manylinux_2_5_x86_64.manylinux1_x86_64.manylinux_2_17_x86_64.manylinux2014_x86_64.whl.metadata (6.4 kB)\n",
            "Using cached gensim-4.3.3-cp311-cp311-manylinux_2_17_x86_64.manylinux2014_x86_64.whl (26.7 MB)\n",
            "Using cached numpy-1.26.4-cp311-cp311-manylinux_2_17_x86_64.manylinux2014_x86_64.whl (18.3 MB)\n",
            "Using cached scipy-1.13.1-cp311-cp311-manylinux_2_17_x86_64.manylinux2014_x86_64.whl (38.6 MB)\n",
            "Using cached smart_open-7.1.0-py3-none-any.whl (61 kB)\n",
            "Using cached wrapt-1.17.2-cp311-cp311-manylinux_2_5_x86_64.manylinux1_x86_64.manylinux_2_17_x86_64.manylinux2014_x86_64.whl (83 kB)\n",
            "Installing collected packages: wrapt, numpy, smart-open, scipy, gensim\n",
            "  Attempting uninstall: wrapt\n",
            "    Found existing installation: wrapt 1.17.2\n",
            "    Uninstalling wrapt-1.17.2:\n",
            "      Successfully uninstalled wrapt-1.17.2\n",
            "  Attempting uninstall: numpy\n",
            "    Found existing installation: numpy 1.26.4\n",
            "    Uninstalling numpy-1.26.4:\n",
            "      Successfully uninstalled numpy-1.26.4\n",
            "  Attempting uninstall: smart-open\n",
            "    Found existing installation: smart-open 7.1.0\n",
            "    Uninstalling smart-open-7.1.0:\n",
            "      Successfully uninstalled smart-open-7.1.0\n",
            "  Attempting uninstall: scipy\n",
            "    Found existing installation: scipy 1.13.1\n",
            "    Uninstalling scipy-1.13.1:\n",
            "      Successfully uninstalled scipy-1.13.1\n",
            "  Attempting uninstall: gensim\n",
            "    Found existing installation: gensim 4.3.3\n",
            "    Uninstalling gensim-4.3.3:\n",
            "      Successfully uninstalled gensim-4.3.3\n",
            "Successfully installed gensim-4.3.3 numpy-1.26.4 scipy-1.13.1 smart-open-7.1.0 wrapt-1.17.2\n"
          ]
        }
      ]
    },
    {
      "cell_type": "code",
      "source": [
        "import pandas as pd\n",
        "import string, re\n",
        "import tensorflow as tf\n",
        "from gensim.models.word2vec import Word2Vec\n",
        "from sklearn.model_selection import train_test_split\n",
        "\n",
        "movie_df = pd.read_csv('https://raw.githubusercontent.com/e9t/nsmc/master/ratings.txt',sep='\\t')\n",
        "movie_df.dropna(inplace=True)\n",
        "def custom_standardztion(input_data):\n",
        "  input_data = re.sub(r'<.*?>',\"\",input_data)\n",
        "  # 특수문자를 공백으로 변경 string 라이브러리 이용\n",
        "  input_data = re.sub(r'[^가-힣\\s]',\" \",input_data)  # 한글과 공백만 남기\n",
        "  return input_data.strip()\n",
        "X = movie_df['document'].map(custom_standardztion)\n",
        "y = movie_df['label']\n",
        "train_texts, val_texts, train_labels, val_labels \\\n",
        "= train_test_split(X, y, test_size=.2, random_state=42)\n",
        "\n",
        "tokenizer = tf.keras.preprocessing.text.Tokenizer()\n",
        "tokenizer.fit_on_texts(train_texts)\n",
        "\n",
        "train_sequence = tokenizer.texts_to_sequences(train_texts)\n",
        "val_sequence = tokenizer.texts_to_sequences(val_texts)\n",
        "\n",
        "w2v_model = Word2Vec(train_sequence, vector_size=100, window=5, min_count=1, workers=4)"
      ],
      "metadata": {
        "id": "8ePIp9YQlVfO"
      },
      "execution_count": 2,
      "outputs": []
    },
    {
      "cell_type": "code",
      "source": [
        "w2v_model.wv.most_similar(1)"
      ],
      "metadata": {
        "colab": {
          "base_uri": "https://localhost:8080/"
        },
        "id": "g6QsZz0foa6i",
        "outputId": "fb0c3c5d-a78c-4628-b3a5-7205858decb8"
      },
      "execution_count": 3,
      "outputs": [
        {
          "output_type": "execute_result",
          "data": {
            "text/plain": [
              "[(59, 0.9712027311325073),\n",
              " (27, 0.9552158117294312),\n",
              " (301, 0.9539399147033691),\n",
              " (159, 0.9527314305305481),\n",
              " (639, 0.9513718485832214),\n",
              " (66, 0.9488875269889832),\n",
              " (239, 0.9468587636947632),\n",
              " (8957, 0.9418534636497498),\n",
              " (1016, 0.940928041934967),\n",
              " (2602, 0.9389902949333191)]"
            ]
          },
          "metadata": {},
          "execution_count": 3
        }
      ]
    },
    {
      "cell_type": "markdown",
      "source": [
        "# Word2vec 임베딩 벡터 - 유사도 기반 비슷한 단어를 찾아주는 기능\n",
        "```\n",
        "\n",
        "RNN\n",
        "  순환 신경망 : 이전상태(hidden)가 다음상태에 업데이트\n",
        "  문자의단어는 앞으로 단어에 영향을 받는다\n",
        "  사계열데이터 X축이 시간과 관련된 수치 데이터\n",
        "\n",
        "문장을 - 토큰화 - 시퀀스(문장의 길이를 통일,정수형 인코딩) - 임베딩(단어를 좌표평면에 벡터화 유사한 단어는 유사한 공간에 위치) - 신경망(RNN)\n",
        " - 분류기(FC)\n",
        "```"
      ],
      "metadata": {
        "id": "rk8U_Dq8p0bk"
      }
    },
    {
      "cell_type": "code",
      "source": [],
      "metadata": {
        "id": "jqdzP7T3pcop"
      },
      "execution_count": null,
      "outputs": []
    }
  ],
  "metadata": {
    "accelerator": "GPU",
    "colab": {
      "gpuType": "T4",
      "provenance": []
    },
    "kernelspec": {
      "display_name": "Python 3",
      "name": "python3"
    },
    "language_info": {
      "name": "python"
    }
  },
  "nbformat": 4,
  "nbformat_minor": 0
}