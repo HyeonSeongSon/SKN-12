{
  "nbformat": 4,
  "nbformat_minor": 0,
  "metadata": {
    "colab": {
      "provenance": []
    },
    "kernelspec": {
      "name": "python3",
      "display_name": "Python 3"
    },
    "language_info": {
      "name": "python"
    }
  },
  "cells": [
    {
      "cell_type": "code",
      "execution_count": null,
      "metadata": {
        "colab": {
          "base_uri": "https://localhost:8080/"
        },
        "id": "O4yznoQa5_gr",
        "outputId": "30e53fed-1617-4b23-ebe6-1886a5f673b8"
      },
      "outputs": [
        {
          "output_type": "stream",
          "name": "stdout",
          "text": [
            "문장을 입력하세요hello Python\n",
            "hello Python\n",
            "hello python\n",
            "hello python\n"
          ]
        }
      ],
      "source": [
        "# 문장을 입력 받아서 소문자로 변환하고, 2. 공백을 제거\n",
        "# 자연어 처리에서 대소문자를 구분하거나 불필요한 공백을 제거하는데 사용\n",
        "text = input(\"문장을 입력하세요\")\n",
        "print(text)\n",
        "text_lower = text.lower()\n",
        "print(text_lower)\n",
        "text_strip = text_lower.strip()\n",
        "print(text_strip)"
      ]
    },
    {
      "cell_type": "code",
      "source": [
        "# 문자열 분리, 문자열을 입력받아서 다양하게 분리. 분리된 토큰의 개수\n",
        "# 자연어처리에서 단어를 토큰으로 분리하는 기초작업\n",
        "\n",
        "text = input(\"문장을 입력하세요\")\n",
        "\n",
        "words = text.split()\n",
        "print(f'분리된 문자 리스트 : {words}')\n",
        "\n",
        "words_len = len(words)\n",
        "print(f'분리된 단어 리스트 : {words_len}')\n",
        "\n"
      ],
      "metadata": {
        "colab": {
          "base_uri": "https://localhost:8080/"
        },
        "id": "uiYi6Xti6mkO",
        "outputId": "3a5d4f8a-f79e-4edd-c262-47bad12726ff"
      },
      "execution_count": null,
      "outputs": [
        {
          "output_type": "stream",
          "name": "stdout",
          "text": [
            "문장을 입력하세요마 뫄 뫏\n",
            "분리된 문자 리스트 : ['마', '뫄', '뫏']\n",
            "분리된 단어 리스트 : 3\n"
          ]
        }
      ]
    },
    {
      "cell_type": "code",
      "source": [
        "# 차수 - 차원 개념\n",
        "x = [1,2,3,4]   # 1차원 => vector x[2]\n",
        "y = [x,x,x]     # 2차원 => metric y[2][2]  numpy를 쓴다면 [2,2]로도 가능함\n",
        "z = [y,y,y]     # 3차원\n",
        "print(x)\n",
        "print(y)\n",
        "print(z)"
      ],
      "metadata": {
        "colab": {
          "base_uri": "https://localhost:8080/"
        },
        "id": "tmZsAQht7piK",
        "outputId": "ac3c69b4-ea52-4b2b-93e5-a0241ed20f81"
      },
      "execution_count": null,
      "outputs": [
        {
          "output_type": "stream",
          "name": "stdout",
          "text": [
            "[1, 2, 3, 4]\n",
            "[[1, 2, 3, 4], [1, 2, 3, 4], [1, 2, 3, 4]]\n",
            "[[[1, 2, 3, 4], [1, 2, 3, 4], [1, 2, 3, 4]], [[1, 2, 3, 4], [1, 2, 3, 4], [1, 2, 3, 4]], [[1, 2, 3, 4], [1, 2, 3, 4], [1, 2, 3, 4]]]\n"
          ]
        }
      ]
    },
    {
      "cell_type": "code",
      "source": [
        "# 문자열 결합 : 전처리된 단어들을 결합하거나 새로운 문자열을 만드는 연습 - 데이터를 가공\n",
        "# 3개의 단어를 공백으로 분리해서 입력 ex) aplle, banana grap\n",
        "# 분리된 단어를 각각의 변수에 저장하거나 또는 리스트 변수에 저장\n",
        "# 각 단어에서 a 문자를 제거하고\n",
        "# 단어를 공백을 기준으로 합치기\n",
        "\n",
        "text = 'apple banana grap'\n",
        "words = text.split()\n",
        "words[0] = words[0].replace('a','')\n",
        "words[1] = words[1].replace('a','')\n",
        "words[2] = words[2].replace('a','')\n",
        "' '.join(words)"
      ],
      "metadata": {
        "colab": {
          "base_uri": "https://localhost:8080/",
          "height": 35
        },
        "id": "_HgK0FWn8qN1",
        "outputId": "d311d8b0-7a9a-4154-abdb-ee1c5740322e"
      },
      "execution_count": null,
      "outputs": [
        {
          "output_type": "execute_result",
          "data": {
            "text/plain": [
              "'pple bnn grp'"
            ],
            "application/vnd.google.colaboratory.intrinsic+json": {
              "type": "string"
            }
          },
          "metadata": {},
          "execution_count": 31
        }
      ]
    },
    {
      "cell_type": "code",
      "source": [
        "text = 'apple banana grap'\n",
        "words = text.split()\n",
        "new_words = [word.replace('a','')for word in words]\n",
        "' '.join(new_words)"
      ],
      "metadata": {
        "colab": {
          "base_uri": "https://localhost:8080/",
          "height": 35
        },
        "id": "v2dKQPUuBTTA",
        "outputId": "f6d63b1f-a768-4ade-b3b5-02f31620151e"
      },
      "execution_count": null,
      "outputs": [
        {
          "output_type": "execute_result",
          "data": {
            "text/plain": [
              "'pple bnn grp'"
            ],
            "application/vnd.google.colaboratory.intrinsic+json": {
              "type": "string"
            }
          },
          "metadata": {},
          "execution_count": 32
        }
      ]
    },
    {
      "cell_type": "code",
      "source": [
        "# 자언어 처리에서 특징 패턴(접두사, 접미사)를 추출하거나 분석할때\n",
        "# 문자열에서 특정 부분 추출\n",
        "# !. 사용자로부터 문자열을 입력받\n",
        "# 2. 처음 5글자 출력 # 문자열의 길이가 5이상일때만\n",
        "# 3. 마지막 3글자 출력\n",
        "\n",
        "text = input('문자열을 입력하세요')\n",
        "if len(text) >= 5:\n",
        "  print(f'처음 5글자는 {text[:5]} 입니다')\n",
        "  print(f'뒤에 3글자는 {text[-3:]} 입니다')\n",
        "else:\n",
        "  print('입력한 문자열의 길이가 5 글자 보다 작습니다')"
      ],
      "metadata": {
        "colab": {
          "base_uri": "https://localhost:8080/"
        },
        "id": "h5NqVXXCAFwj",
        "outputId": "d70b204c-5f79-4a5d-d216-0ebf75e2871f"
      },
      "execution_count": null,
      "outputs": [
        {
          "output_type": "stream",
          "name": "stdout",
          "text": [
            "문자열을 입력하세요즐거운 금요일\n",
            "처음 5글자는 즐거운 금 입니다\n",
            "뒤에 3글자는 금요일 입니다\n"
          ]
        }
      ]
    },
    {
      "cell_type": "code",
      "source": [
        "# 파일에서 확장자가 txt이며 텍스트 파일 출력\n",
        "# 확장자가 mp4, avi, mpeg 이면 \"동영상 파일\"\n",
        "# 확장자가 .ini 이면 \"설정 파일\"\n",
        "import random\n",
        "files = ['text.txt', 'video.avi', 'moive.mpeg', 'config.ini']\n",
        "# 이중에 임의 데이터 하나를 선택\n",
        "choice_file = random.choice(files)\n",
        "file = choice_file.split('.')\n",
        "file = file[1]\n",
        "print(f'선택한 파일 확장자는 {file} 입니다')\n",
        "if file == 'txt':\n",
        "  print('텍스트파일')\n",
        "elif file == \"mp4\" or file == \"avi\" or file == 'mpeg':\n",
        "  print('동영상파일')\n",
        "elif file == 'ini':\n",
        "  print('설정파일')\n",
        "else:\n",
        "  print('처리 할 수 없는 파일')"
      ],
      "metadata": {
        "colab": {
          "base_uri": "https://localhost:8080/"
        },
        "id": "uo30x0uHCIwL",
        "outputId": "c534fb6b-767b-4b73-e975-c168ec80db58"
      },
      "execution_count": null,
      "outputs": [
        {
          "output_type": "stream",
          "name": "stdout",
          "text": [
            "선택한 파일 확장자는 txt 입니다\n",
            "텍스트파일\n"
          ]
        }
      ]
    },
    {
      "cell_type": "code",
      "source": [
        "# 자연어 처리 : 텍스트 정규화 과정에서 대소문자 체크 변환\n",
        "# 문장을 입력받아서(영어)\n",
        "# 대문자가 포함되어 있으면 소문자로 변환\n",
        "# 정규시을 이용"
      ],
      "metadata": {
        "id": "2Bf1HIUNHcW-"
      },
      "execution_count": null,
      "outputs": []
    },
    {
      "cell_type": "code",
      "source": [
        "# 대문자 포함여부\n",
        "text = 'Hello World'\n",
        "if text != text.lower():\n",
        "  text = text.lower()\n",
        "\n",
        "print(text)"
      ],
      "metadata": {
        "colab": {
          "base_uri": "https://localhost:8080/"
        },
        "id": "2DPSPjQKKUX5",
        "outputId": "542e84c8-166d-4751-8c3e-f6c9aaaf05cf"
      },
      "execution_count": null,
      "outputs": [
        {
          "output_type": "stream",
          "name": "stdout",
          "text": [
            "hello world\n"
          ]
        }
      ]
    },
    {
      "cell_type": "code",
      "source": [
        "# 정규식... 문자열에서 패턴을 검색\n",
        "import re\n",
        "\n",
        "text = input('문자열을 입력하세요')\n",
        "re.search(r'[A-Z]', text)   # [] 대괄호 안에 문자르 넣으면 해당 문자들 중 하나라도 존재하면 매칭(True)\n",
        "isUpper = bool(re.search(r'[A-Z]', text))\n",
        "if isUpper:\n",
        "  print(text.lower())\n",
        "else:\n",
        "  print('입력하신 문자열은 전부 소문자입니다.')"
      ],
      "metadata": {
        "colab": {
          "base_uri": "https://localhost:8080/"
        },
        "id": "PNtmE_DcKfQj",
        "outputId": "6201ecef-69d0-4a8f-d427-934ca8d0f486"
      },
      "execution_count": null,
      "outputs": [
        {
          "output_type": "stream",
          "name": "stdout",
          "text": [
            "문자열을 입력하세요Hellow\n",
            "hellow\n"
          ]
        }
      ]
    },
    {
      "cell_type": "code",
      "source": [
        "# 자연어 처리 : 키워드 검색기능 .. 문자열 내에서 특정 패턴을 검사\n",
        "# 입력한 문자열에서 특정 단어의 포함 여부 확인\n",
        "# i love programmin and i like python 'like' 포함여부\n",
        "\n",
        "text = 'i love programmin and i like python'\n",
        "result = bool(re.search(r'like', text))\n",
        "if result:\n",
        "  print('like 단어가 포함되어 있습니다')\n",
        "else:\n",
        "  print('like 단어가 없습니다')"
      ],
      "metadata": {
        "colab": {
          "base_uri": "https://localhost:8080/"
        },
        "id": "pKQHrqJwK04s",
        "outputId": "2d4a1d2f-5a14-45dd-e463-476052b7f676"
      },
      "execution_count": null,
      "outputs": [
        {
          "output_type": "stream",
          "name": "stdout",
          "text": [
            "like 단어가 포함되어있습니다\n"
          ]
        }
      ]
    },
    {
      "cell_type": "code",
      "source": [
        "# 자연어 처리.... 구두점을체크... (제거)\n",
        "# # , . !  -> 포함여부를 확인하고 해달 문자열 제거\n",
        "\n",
        "text = input('문장을 입력하세요')\n",
        "find_word = bool(re.search(r'[#.,!]', text))\n",
        "if find_word:\n",
        "  print(\"구두점을 포함하고 있습니다\")\n",
        "  result = text.replace('#','').replace(\",\",'').replace(\".\",\"\").replace(\"!\",\"\")\n",
        "  print(result)\n",
        "else:\n",
        "  print(\"구두점을 포함하고 있지 않습니다\")"
      ],
      "metadata": {
        "colab": {
          "base_uri": "https://localhost:8080/"
        },
        "id": "rH7v-jolM8MA",
        "outputId": "032caf53-1081-468f-d3b8-a28a2b7b431b"
      },
      "execution_count": null,
      "outputs": [
        {
          "output_type": "stream",
          "name": "stdout",
          "text": [
            "문장을 입력하세요bbbb!bbb\n",
            "구두점을 포함하고 있습니다\n",
            "bbbbbbb\n"
          ]
        }
      ]
    },
    {
      "cell_type": "code",
      "source": [
        "# 순환문을 이용한 방법으로 개선 구두점 리스트로 만들어\n",
        "# 리스트의 있는 요소가 문장에 포함되어 있는지 검사  -순환문을 이용해서\n",
        "# 있으면 해당 구두점을 제거하는 replace를 실행\n",
        "\n",
        "text = 'sssssssssss!sssssss'\n",
        "remove_lists = ['#', ',', '.', '!']\n",
        "\n",
        "for char in remove_lists:\n",
        "  if char in text:\n",
        "    text = text.replace(char, '')\n",
        "\n",
        "print(text)"
      ],
      "metadata": {
        "colab": {
          "base_uri": "https://localhost:8080/"
        },
        "id": "Cnlo2dG0kOK6",
        "outputId": "116db962-fbef-4b42-ccad-e03b5effe824"
      },
      "execution_count": null,
      "outputs": [
        {
          "output_type": "stream",
          "name": "stdout",
          "text": [
            "ssssssssssssssssss\n"
          ]
        }
      ]
    },
    {
      "cell_type": "code",
      "source": [
        "# 텍스트에서 불필요한 공백을 제거해서 데이터를 깔끔하게 처리\n",
        "# 연속된 공백을 하나의 공백으로 정리\n",
        "\n",
        "text = '  test text  '\n",
        "words = text.split()\n",
        "result = ' '.join(words)\n",
        "print(result)"
      ],
      "metadata": {
        "colab": {
          "base_uri": "https://localhost:8080/"
        },
        "id": "G36AROjqONzy",
        "outputId": "88f97341-4fce-4a29-c6b7-13f5c6c6ac3e"
      },
      "execution_count": null,
      "outputs": [
        {
          "output_type": "stream",
          "name": "stdout",
          "text": [
            "test text\n"
          ]
        }
      ]
    },
    {
      "cell_type": "markdown",
      "source": [
        "# 순환문"
      ],
      "metadata": {
        "id": "jn28ZwWtTsDw"
      }
    },
    {
      "cell_type": "code",
      "source": [
        "for i in range(1,5):\n",
        "  print('안녕하세요')\n",
        "  print(f'i 는{i} 입니다')"
      ],
      "metadata": {
        "colab": {
          "base_uri": "https://localhost:8080/"
        },
        "id": "xv8SlQObTWvu",
        "outputId": "c83bc256-d081-42e8-e333-02f52132ed23"
      },
      "execution_count": null,
      "outputs": [
        {
          "output_type": "stream",
          "name": "stdout",
          "text": [
            "안녕하세요\n",
            "i 는1 입니다\n",
            "안녕하세요\n",
            "i 는2 입니다\n",
            "안녕하세요\n",
            "i 는3 입니다\n",
            "안녕하세요\n",
            "i 는4 입니다\n"
          ]
        }
      ]
    },
    {
      "cell_type": "code",
      "source": [
        "import random\n",
        "samples = random.sample(range(1,46),6)\n",
        "print(samples)\n",
        "for i in samples:\n",
        "  if i % 2 == 0:\n",
        "    print(f'안녕하세요 {i}')"
      ],
      "metadata": {
        "colab": {
          "base_uri": "https://localhost:8080/"
        },
        "id": "5J0jo63NVIVt",
        "outputId": "4c96f86e-1acf-4570-e46d-b48413a2ee16"
      },
      "execution_count": null,
      "outputs": [
        {
          "output_type": "stream",
          "name": "stdout",
          "text": [
            "[15, 11, 33, 2, 19, 13]\n",
            "안녕하세요 2\n"
          ]
        }
      ]
    },
    {
      "cell_type": "code",
      "source": [
        "# 단순히 어떤 로직을 특정횟수만큼 반복하고 싶다.\n",
        "# # i의 사용용도가 없다면 혹시나 내부에서 i변수가 잘못 사용 될수 있으니 _를 사용\n",
        "for _ in range(5):\n",
        "  print('검사')"
      ],
      "metadata": {
        "colab": {
          "base_uri": "https://localhost:8080/"
        },
        "id": "hi_vrdtxV8bi",
        "outputId": "bd90f957-9dac-4599-96b0-fe5f577b13b8"
      },
      "execution_count": null,
      "outputs": [
        {
          "output_type": "stream",
          "name": "stdout",
          "text": [
            "검사\n",
            "검사\n",
            "검사\n",
            "검사\n",
            "검사\n"
          ]
        }
      ]
    },
    {
      "cell_type": "code",
      "source": [
        "def myFunc():\n",
        "  return 0.85, 0\n",
        "\n",
        "a, _ =  myFunc()\n",
        "print(a)"
      ],
      "metadata": {
        "colab": {
          "base_uri": "https://localhost:8080/"
        },
        "id": "tNYUNGzLWnED",
        "outputId": "9c47cb91-7bce-4138-92fe-67bdc407bf99"
      },
      "execution_count": null,
      "outputs": [
        {
          "output_type": "stream",
          "name": "stdout",
          "text": [
            "0.85\n"
          ]
        }
      ]
    },
    {
      "cell_type": "markdown",
      "source": [
        "while"
      ],
      "metadata": {
        "id": "Tv0CqMM0XxwV"
      }
    },
    {
      "cell_type": "code",
      "source": [
        "count = 5\n",
        "while count > 0:\n",
        "  print('좋아용')\n",
        "  count -= 1"
      ],
      "metadata": {
        "colab": {
          "base_uri": "https://localhost:8080/"
        },
        "id": "euc4qaVGXUz0",
        "outputId": "3c119d36-de5c-46d0-cfc5-667f3e5a5e41"
      },
      "execution_count": null,
      "outputs": [
        {
          "output_type": "stream",
          "name": "stdout",
          "text": [
            "좋아용\n",
            "좋아용\n",
            "좋아용\n",
            "좋아용\n",
            "좋아용\n"
          ]
        }
      ]
    },
    {
      "cell_type": "code",
      "source": [
        "# 임의자연수 5개를 추출해서 그 합이 100을 넘으면 종료하고 그때의 랜덤리스트를 충력\n",
        "import random\n",
        "\n",
        "random_lists = random.sample(range(30), 5)\n",
        "total = sum(random_lists)\n",
        "\n",
        "count=0\n",
        "while total <= 100:\n",
        "  count += 1\n",
        "  ramdom_lists = random.sample(range(30),5)\n",
        "  total = sum(random_lists)\n",
        "\n",
        "print(random_lists, total, count)"
      ],
      "metadata": {
        "colab": {
          "base_uri": "https://localhost:8080/"
        },
        "id": "J9I8C1LXYc8m",
        "outputId": "928e7576-6828-40b6-ff9e-b854a11fcb2b"
      },
      "execution_count": null,
      "outputs": [
        {
          "output_type": "stream",
          "name": "stdout",
          "text": [
            "[23, 28, 25, 29, 7] 112 0\n"
          ]
        }
      ]
    },
    {
      "cell_type": "code",
      "source": [
        "# 임의 자연수 (0~29 ) 5 추출해서 그 합이 100을 넘으면 종료하고 그때의 랜덤리스트를 출력\n",
        "import random\n",
        "\n",
        "while True:\n",
        "\n",
        "  random_lists = random.sample(range(30), 5)   # 임의 자연수 집합 생성\n",
        "  total = sum(random_lists)   # 자연수 집합들의 합 total : 90\n",
        "  if total > 100:\n",
        "    break\n",
        "\n",
        "\n",
        "print(random_lists, total, count)"
      ],
      "metadata": {
        "colab": {
          "base_uri": "https://localhost:8080/"
        },
        "id": "K6LwN1l_Y-Tj",
        "outputId": "42eeaa64-c51b-469e-b132-4010045c9e8c"
      },
      "execution_count": null,
      "outputs": [
        {
          "output_type": "stream",
          "name": "stdout",
          "text": [
            "[19, 24, 10, 28, 22] 103 0\n"
          ]
        }
      ]
    },
    {
      "cell_type": "markdown",
      "source": [
        "continue"
      ],
      "metadata": {
        "id": "nR7quzdUbQTC"
      }
    },
    {
      "cell_type": "code",
      "source": [
        "# 짝수만 추출해서 리스트에 담기\n",
        "result = []\n",
        "for i in random.sample(range(100), 15):\n",
        "  if i % 2 != 0:  #홀수일대만 skip\n",
        "    continue\n",
        "  result.append(i)  # 짝수만 저장\n",
        "\n",
        "result"
      ],
      "metadata": {
        "colab": {
          "base_uri": "https://localhost:8080/"
        },
        "id": "IcYc8Pd-a5eG",
        "outputId": "fd734b35-f616-4243-b51d-7f31e455a459"
      },
      "execution_count": null,
      "outputs": [
        {
          "output_type": "stream",
          "name": "stdout",
          "text": [
            "9\n"
          ]
        }
      ]
    },
    {
      "cell_type": "code",
      "source": [
        "# 짝수만 추출해서 리스트에 다믹\n",
        "import random\n",
        "result = []\n",
        "for i in random.sample(range(1,100),15):\n",
        "  if i %  2 != 0:\n",
        "    continue\n",
        "  result.append(i)\n",
        "\n",
        "result"
      ],
      "metadata": {
        "colab": {
          "base_uri": "https://localhost:8080/"
        },
        "id": "yrWWmdOrbuNF",
        "outputId": "f165fd3b-7678-4cf5-d878-0faaa2a2c339"
      },
      "execution_count": null,
      "outputs": [
        {
          "output_type": "execute_result",
          "data": {
            "text/plain": [
              "[64, 62, 4, 72, 12, 44, 24]"
            ]
          },
          "metadata": {},
          "execution_count": 5
        }
      ]
    },
    {
      "cell_type": "code",
      "source": [
        "random_lists = random.sample(range(30), 5)   # 임의 자연수 집합 생성\n",
        "total = sum(random_lists)   # 자연수 집합들의 합 total : 90\n",
        "\n",
        "count - 0   # 변수 초기화\n",
        "while total <= 100:\n",
        "  count+= 1\n",
        "  random_lists = random.sample(range(30),5)\n",
        "  total = sum(random_lists)\n",
        "\n",
        "print(random_lists, total, count)\n"
      ],
      "metadata": {
        "colab": {
          "base_uri": "https://localhost:8080/"
        },
        "id": "IIcNkXtcdLee",
        "outputId": "5d916a70-80e7-422b-ca97-f96e5526d4aa"
      },
      "execution_count": null,
      "outputs": [
        {
          "output_type": "stream",
          "name": "stdout",
          "text": [
            "[18, 27, 20, 17, 23] 105 13\n"
          ]
        }
      ]
    },
    {
      "cell_type": "code",
      "source": [
        "# 중첩\n",
        "for a in range(1,10):\n",
        "  for b in range(2,10):\n",
        "    print(f'{b} x {a} = {a*b}', end='\\t')\n",
        "  print('')"
      ],
      "metadata": {
        "colab": {
          "base_uri": "https://localhost:8080/"
        },
        "id": "Jm9ZlaMnhFZn",
        "outputId": "aa599414-69de-49a8-b2c9-a1e06d33f1b8"
      },
      "execution_count": null,
      "outputs": [
        {
          "output_type": "stream",
          "name": "stdout",
          "text": [
            "2 x 1 = 2\t3 x 1 = 3\t4 x 1 = 4\t5 x 1 = 5\t6 x 1 = 6\t7 x 1 = 7\t8 x 1 = 8\t9 x 1 = 9\t\n",
            "2 x 2 = 4\t3 x 2 = 6\t4 x 2 = 8\t5 x 2 = 10\t6 x 2 = 12\t7 x 2 = 14\t8 x 2 = 16\t9 x 2 = 18\t\n",
            "2 x 3 = 6\t3 x 3 = 9\t4 x 3 = 12\t5 x 3 = 15\t6 x 3 = 18\t7 x 3 = 21\t8 x 3 = 24\t9 x 3 = 27\t\n",
            "2 x 4 = 8\t3 x 4 = 12\t4 x 4 = 16\t5 x 4 = 20\t6 x 4 = 24\t7 x 4 = 28\t8 x 4 = 32\t9 x 4 = 36\t\n",
            "2 x 5 = 10\t3 x 5 = 15\t4 x 5 = 20\t5 x 5 = 25\t6 x 5 = 30\t7 x 5 = 35\t8 x 5 = 40\t9 x 5 = 45\t\n",
            "2 x 6 = 12\t3 x 6 = 18\t4 x 6 = 24\t5 x 6 = 30\t6 x 6 = 36\t7 x 6 = 42\t8 x 6 = 48\t9 x 6 = 54\t\n",
            "2 x 7 = 14\t3 x 7 = 21\t4 x 7 = 28\t5 x 7 = 35\t6 x 7 = 42\t7 x 7 = 49\t8 x 7 = 56\t9 x 7 = 63\t\n",
            "2 x 8 = 16\t3 x 8 = 24\t4 x 8 = 32\t5 x 8 = 40\t6 x 8 = 48\t7 x 8 = 56\t8 x 8 = 64\t9 x 8 = 72\t\n",
            "2 x 9 = 18\t3 x 9 = 27\t4 x 9 = 36\t5 x 9 = 45\t6 x 9 = 54\t7 x 9 = 63\t8 x 9 = 72\t9 x 9 = 81\t\n"
          ]
        }
      ]
    },
    {
      "cell_type": "code",
      "source": [
        "import random\n",
        "list_1_1 = random.sample(range(10),5)\n",
        "list_1_2 = random.sample(range(10),5)\n",
        "list_1_3 = random.sample(range(10),5)\n",
        "list_2 = [\n",
        "          list_1_1,\n",
        "          list_1_2,\n",
        "          list_1_3\n",
        "          ]\n",
        "\n",
        "print(list_2)\n",
        "\n",
        "list_2 = []\n",
        "for i in range(3):\n",
        "  list_2.append(random.sample(range(10),5))\n",
        "\n",
        "print(list_2)\n",
        "\n",
        "list_3 = []\n",
        "for i in range(3):\n",
        "  list_3.append(sum(list_2[i]))\n",
        "\n",
        "print(list_3)\n",
        "print(f'0행의 합 = {list_3[0]}')\n",
        "print(f'1행의 합 = {list_3[1]}')\n",
        "print(f'2행의 합 = {list_3[2]}')"
      ],
      "metadata": {
        "colab": {
          "base_uri": "https://localhost:8080/"
        },
        "id": "6szRhpHImoRl",
        "outputId": "fca9fee5-49b6-4e24-c238-afd6984160ba"
      },
      "execution_count": null,
      "outputs": [
        {
          "output_type": "stream",
          "name": "stdout",
          "text": [
            "[[4, 8, 2, 3, 7], [0, 5, 6, 9, 4], [7, 3, 2, 5, 1]]\n",
            "[[9, 8, 7, 4, 3], [6, 4, 3, 1, 5], [1, 8, 9, 2, 4]]\n",
            "[31, 19, 24]\n",
            "0행의 합 = 31\n",
            "1행의 합 = 19\n",
            "2행의 합 = 24\n"
          ]
        }
      ]
    },
    {
      "cell_type": "code",
      "source": [
        "print(list_2)\n",
        "list_3 = []\n",
        "for j in range(5):\n",
        "  list01 = []\n",
        "  for i in range(3):\n",
        "    list01.append(list_2[i][j])\n",
        "  res = sum(list01)\n",
        "  list_3.append(res)\n",
        "print(list_3)\n",
        "print(f'0열의 합 = {list_3[0]}')\n",
        "print(f'1열의 합 = {list_3[1]}')\n",
        "print(f'2열의 합 = {list_3[2]}')\n",
        "print(f'3열의 합 = {list_3[3]}')\n",
        "print(f'4열의 합 = {list_3[4]}')"
      ],
      "metadata": {
        "colab": {
          "base_uri": "https://localhost:8080/"
        },
        "id": "HZGCvgdmnaCa",
        "outputId": "d0da729e-05ba-440e-94ff-60bf89087fbb"
      },
      "execution_count": null,
      "outputs": [
        {
          "output_type": "stream",
          "name": "stdout",
          "text": [
            "[[4, 9, 0, 6, 1], [5, 2, 0, 9, 4], [3, 5, 8, 4, 0]]\n",
            "[12, 16, 8, 19, 5]\n",
            "0열의 합 = 12\n",
            "1열의 합 = 16\n",
            "2열의 합 = 8\n",
            "3열의 합 = 19\n",
            "4열의 합 = 5\n"
          ]
        }
      ]
    },
    {
      "cell_type": "code",
      "source": [
        "list1 = [1,5,7]\n",
        "print(len(list1))\n",
        "list2 = [list1, list1]   # 2차원 리스트로 1차원 리스트가 2개 들어가 있어\n",
        "print(list2)\n",
        "print(len(list2))   # 2차원 리스트의 길이는 1차원 리스트 갯수인 2\n",
        "\n",
        "# row(행, 가로 데이터), column(열, 세로 특성)\n",
        "# row : 2, col : 3 (2,3)\n",
        "# 행의 개수 = 2차원 데이터 개수 len(list2)\n",
        "# 열의 개수 = len(list2[0])\n",
        "# 2차원 데이터의 모든 데이터를 순환하려면\n",
        "for i in range(2):\n",
        "  for j in range(3):\n",
        "    print(f'list2[{i}][{j}] = {list2[i][j]}')"
      ],
      "metadata": {
        "colab": {
          "base_uri": "https://localhost:8080/"
        },
        "id": "o_HWINlj95n9",
        "outputId": "a46efdc0-afe7-4df3-c30f-00ac31c179c9"
      },
      "execution_count": null,
      "outputs": [
        {
          "output_type": "stream",
          "name": "stdout",
          "text": [
            "3\n",
            "[[1, 5, 7], [1, 5, 7]]\n",
            "2\n",
            "list2[0][0] = 1\n",
            "list2[0][1] = 5\n",
            "list2[0][2] = 7\n",
            "list2[1][0] = 1\n",
            "list2[1][1] = 5\n",
            "list2[1][2] = 7\n"
          ]
        }
      ]
    },
    {
      "cell_type": "code",
      "source": [
        "fruits = ['수박','복숭아','배','딸기','감', '수박','딸기',\"딸기\",\"배\"]\n",
        "count=0\n",
        "for f in fruits:\n",
        "  if f == '딸기':\n",
        "    count += 1\n",
        "\n",
        "# res = [f == '딸기' for f in fruits]\n",
        "# count = sum(res)\n",
        "print(f'딸기의 개수는 {count}개')"
      ],
      "metadata": {
        "colab": {
          "base_uri": "https://localhost:8080/"
        },
        "id": "MsZou8o6-aWu",
        "outputId": "d8037cb2-0138-492d-91c2-e67cde9a49ad"
      },
      "execution_count": null,
      "outputs": [
        {
          "output_type": "stream",
          "name": "stdout",
          "text": [
            "딸기의 개수는 3개\n"
          ]
        }
      ]
    },
    {
      "cell_type": "code",
      "source": [
        "# 1. 나이를 입력받는다\n",
        "# 2. 나이에 따른 입장료 계산 (성인 청소년 어린이)\n",
        "# 3. 입장료를 수입(total)에 누적\n",
        "# 4. 계속할지 물어본다\n",
        "# 5. 프로그램이 종료가 되면\n",
        "# 6. 총수입 금액 출력\n",
        "\n",
        "total = 0\n",
        "while True:\n",
        "  age = input(\"입장객의 나이를 입력하세요\")\n",
        "  if int(age) >= 20:\n",
        "    total += 10000\n",
        "  elif 14 <= int(age):\n",
        "    total += 8000\n",
        "  elif int(age) >= 8:\n",
        "    total += 6000\n",
        "  else:\n",
        "    print(\"입장료를 확인 해주세요\")\n",
        "    continue\n",
        "\n",
        "  end = input(\"추가 인원있으면 y 없으면 n을 입력하세요\")\n",
        "  if end == 'n':\n",
        "    total_str = str(total)\n",
        "    print(f'입장료의 총액은 {total}입니다')\n",
        "    break\n",
        "  else:\n",
        "    pass\n",
        "\n"
      ],
      "metadata": {
        "colab": {
          "base_uri": "https://localhost:8080/"
        },
        "id": "Sw9HhlheBS7e",
        "outputId": "191426ef-0fc2-4de5-c823-e03f2c77ad63"
      },
      "execution_count": null,
      "outputs": [
        {
          "output_type": "stream",
          "name": "stdout",
          "text": [
            "입장객의 나이를 입력하세요28\n",
            "추가 인원있으면 y 없으면 n을 입력하세요26\n",
            "입장객의 나이를 입력하세요26\n",
            "추가 인원있으면 y 없으면 n을 입력하세요y\n",
            "입장객의 나이를 입력하세요14\n",
            "추가 인원있으면 y 없으면 n을 입력하세요n\n",
            "입장료의 총액은 28000입니다\n"
          ]
        }
      ]
    },
    {
      "cell_type": "code",
      "source": [
        "# 세자릿수마다 ,\n",
        "# 1,000,000\n",
        "total = 28000\n",
        "total_str = str(28000)[::-1]\n",
        "count=0\n",
        "res = []\n",
        "for c in total_str:\n",
        "  count+=1\n",
        "  res.append(c)\n",
        "  if count % 3 == 0:\n",
        "    res.append(',')\n",
        "result = ''.join(res[::-1])\n",
        "print(f'총 입장료는 {result} 원입니다')"
      ],
      "metadata": {
        "colab": {
          "base_uri": "https://localhost:8080/"
        },
        "id": "-cvnO44fAYgu",
        "outputId": "c5326bd6-fcca-4d70-9a93-50f70cbd9b25"
      },
      "execution_count": 15,
      "outputs": [
        {
          "output_type": "stream",
          "name": "stdout",
          "text": [
            "총 입장료는 28,000 원입니다\n"
          ]
        }
      ]
    },
    {
      "cell_type": "code",
      "source": [
        "# 영어에서 모음 aeiouAEIOU\n",
        "# 문자열에서 모음 개수를 새어보기\n",
        "# for문과  if문만\n",
        "\n",
        "text = 'hello python'\n",
        "value = 'aeiouAEIOU'\n",
        "\n",
        "count=0\n",
        "for c in text:\n",
        "  if c in value:\n",
        "    count +=1\n",
        "print( f'텍스트의 모음의 총 개수는 {count}개 입니다' )"
      ],
      "metadata": {
        "colab": {
          "base_uri": "https://localhost:8080/"
        },
        "id": "Xt5kp6M2Kx-z",
        "outputId": "c01861f9-707b-451f-8d9f-06c330c9561d"
      },
      "execution_count": null,
      "outputs": [
        {
          "output_type": "stream",
          "name": "stdout",
          "text": [
            "텍스트의 모음의 총 개수는 3개 입니다\n"
          ]
        }
      ]
    },
    {
      "cell_type": "code",
      "source": [
        "import string\n",
        "print(string.punctuation)\n",
        "# 영어문장에서 특수기호에 해당하는 단어를 삭제\n",
        "\n",
        "text = '''\n",
        "에코프로비엠이 코스피시장 이전 상장을 철회하면서 주가가 급락하고 있다.에코프로비엠 주식은 28일 오전 11시 15분 코스닷시장에서 12만100원에 거래됐다. 전날보다 주가가 10.37%(1만3900원) 내렸다.\n",
        "\n",
        "에코프로비엠은 이날 오전 11시 코스피시장 이전상장을 철회한다고 공시했다. 지난해 11월 이전상장을 위한 예비심사신청서를 접수하고 3개월 만이다.\n",
        "\n",
        "에코프로비엠은 “여러 제반 요건을 고려해 이전상장 신청의 건을 철회하기로 했다”며 “향후 경영실적 개선 확인 후 유가증권시장(코스피시장) 이전상장 예비심사를 재신청할 예정”이라고 밝혔다.\n",
        "\n",
        "- Copyright ⓒ 조선비즈 & Chosun.com -\n",
        "\n",
        "Copyright © 조선비즈. 무단전재 및 재배포 금지.\n",
        "'''\n",
        "for c in string.punctuation:\n",
        "  text = text.replace(c, '')\n",
        "\n",
        "print(text)"
      ],
      "metadata": {
        "colab": {
          "base_uri": "https://localhost:8080/"
        },
        "id": "O7ix-HkYMoIQ",
        "outputId": "d3e3730e-519b-48b1-b4bd-0e8a83a9e638"
      },
      "execution_count": null,
      "outputs": [
        {
          "output_type": "stream",
          "name": "stdout",
          "text": [
            "!\"#$%&'()*+,-./:;<=>?@[\\]^_`{|}~\n",
            "\n",
            "에코프로비엠이 코스피시장 이전 상장을 철회하면서 주가가 급락하고 있다에코프로비엠 주식은 28일 오전 11시 15분 코스닷시장에서 12만100원에 거래됐다 전날보다 주가가 10371만3900원 내렸다\n",
            "\n",
            "에코프로비엠은 이날 오전 11시 코스피시장 이전상장을 철회한다고 공시했다 지난해 11월 이전상장을 위한 예비심사신청서를 접수하고 3개월 만이다\n",
            "\n",
            "에코프로비엠은 “여러 제반 요건을 고려해 이전상장 신청의 건을 철회하기로 했다”며 “향후 경영실적 개선 확인 후 유가증권시장코스피시장 이전상장 예비심사를 재신청할 예정”이라고 밝혔다\n",
            "\n",
            " Copyright ⓒ 조선비즈  Chosuncom \n",
            "\n",
            "Copyright © 조선비즈 무단전재 및 재배포 금지\n",
            "\n"
          ]
        }
      ]
    },
    {
      "cell_type": "code",
      "source": [
        "# startwith ~로 시작하는 문자열\n",
        "# endwith ~로 끝나는 문자열\n",
        "text = 'python is easy'\n",
        "print(text.endswith('python'))\n",
        "print(text.startswith('python'))\n",
        "\n",
        "text = '집은 좋다. 공부는 어렵다. 학교는 재미있다. 우리는 즐겁다'\n",
        "# 는으로 끝나는 단어를 찾아서 출력\n",
        "words = text.split()\n",
        "print(words)\n",
        "for w in words:\n",
        "  if w.endswith('는') or w.endswith('은'):\n",
        "     print(w)"
      ],
      "metadata": {
        "colab": {
          "base_uri": "https://localhost:8080/"
        },
        "id": "FDQEKng6OX4R",
        "outputId": "2655758e-4bbc-48ea-8464-699a4774249e"
      },
      "execution_count": null,
      "outputs": [
        {
          "output_type": "stream",
          "name": "stdout",
          "text": [
            "False\n",
            "True\n",
            "['집은', '좋다.', '공부는', '어렵다.', '학교는', '재미있다.', '우리는', '즐겁다']\n",
            "집은\n",
            "공부는\n",
            "학교는\n",
            "우리는\n"
          ]
        }
      ]
    },
    {
      "cell_type": "code",
      "source": [
        "# 문장에서 긍정적인 단어 감지\n",
        "review_list = [\n",
        "    '전망이 너무 좋아요. 한번 와보세요',\n",
        "    '이집 개맛없음 오지마삼',\n",
        "    '분위기가 좋고 음식이 맛있어요',\n",
        "    '경치가 너무 이뻐요. 데이트 코스로 추천 합니다'\n",
        "]\n",
        "positive_list = ['좋아요','맛있어요','멋져요','이뻐요','추천']\n",
        "\n",
        "for review in review_list:\n",
        "  for pos in positive_list:\n",
        "    if pos in review:\n",
        "      print(f'[{review}]에서 [{pos}]이 긍정적 표현')"
      ],
      "metadata": {
        "colab": {
          "base_uri": "https://localhost:8080/"
        },
        "id": "6-xIpOE-kDOX",
        "outputId": "556bff14-d47c-4413-ca96-166351801b1f"
      },
      "execution_count": null,
      "outputs": [
        {
          "output_type": "stream",
          "name": "stdout",
          "text": [
            "[전망이 너무 좋아요. 한번 와보세요]에서 [좋아요]이 긍정적 표현\n",
            "[분위기가 좋고 음식이 맛있어요]에서 [맛있어요]이 긍정적 표현\n",
            "[경치가 너무 이뻐요. 데이트 코스로 추천 합니다]에서 [이뻐요]이 긍정적 표현\n",
            "[경치가 너무 이뻐요. 데이트 코스로 추천 합니다]에서 [추천]이 긍정적 표현\n"
          ]
        }
      ]
    },
    {
      "cell_type": "code",
      "source": [
        "# 주어진 문장에서 모든 대문자 단어를 추출\n",
        "# for isupper() 모든 대문자를 출력\n",
        "text = 'I love NLP and Python is FUN'\n",
        "\n",
        "for w in text.split():\n",
        "  if w.isupper():\n",
        "    print(w)"
      ],
      "metadata": {
        "colab": {
          "base_uri": "https://localhost:8080/"
        },
        "id": "gt4O2MzlS1p1",
        "outputId": "46775c4d-0b5d-48c6-c31a-439336e5066a"
      },
      "execution_count": null,
      "outputs": [
        {
          "output_type": "stream",
          "name": "stdout",
          "text": [
            "I\n",
            "NLP\n",
            "FUN\n"
          ]
        }
      ]
    },
    {
      "cell_type": "code",
      "source": [
        "# 주어진 문장에서 공백을 기준으로 단어를 분리한다음\n",
        "# 단어의 길이가 2개 이상인 단어들만 추출해서 다시 하나의 문장으로 합치기\n",
        "\n",
        "text = \"\"\"\n",
        "중국 상무부는 이날 입장문을 내고 \"중국은 상황을 주시하고 있다\"며 \"일방적 관세가 세계무역기구(WTO) 규칙을 위반하고 다자간 무역체제를 훼손한다는 입장을 표명했고 이에 대해 단호하게 반대한다\"고 말했다.\n",
        "\n",
        "상무부는 \"중국은 세계에서 마약 퇴치 정책이 가장 엄격하고 철저하게 실행하는 국가 중 하나로 미국을 포함한 세계 각국과 마약 퇴치 국제 협력을 적극 진행하고 있다\"며 \"미국이 객관적인 사실을 무시하며 이전에 10%의 관세에 이어 또 10%의 관세를 부과하겠다고 위협하는 행위는 전적으로 책임 전가에 불과한다\"고 말했다.\n",
        "\"\"\"\n",
        "list2 = []\n",
        "for w in text.split():\n",
        "  if len(w) <= 2:\n",
        "    list2.append(w)\n",
        "print(list2)"
      ],
      "metadata": {
        "colab": {
          "base_uri": "https://localhost:8080/"
        },
        "id": "xQ5GcIMOXonW",
        "outputId": "12960d6d-8b27-483d-c687-7751951d8dbc"
      },
      "execution_count": null,
      "outputs": [
        {
          "output_type": "stream",
          "name": "stdout",
          "text": [
            "['중국', '이날', '내고', '이에', '대해', '마약', '퇴치', '가장', '국가', '중', '세계', '마약', '퇴치', '국제', '적극', '이어', '또', '책임']\n"
          ]
        }
      ]
    },
    {
      "cell_type": "code",
      "source": [
        "# n-gram 기법 구현 n=2 로\n",
        "\n",
        "text = '나는 수업이 끝나고 집에 가서 열심히 공부한다'\n",
        "words = text.split()\n",
        "n_gram_list = []\n",
        "for i in range(1,len(words)+1):\n",
        "  ngw = [words[i-2],words[i-1]]\n",
        "  res = ' '.join(ngw)\n",
        "  n_gram_list.append(res)\n",
        "print(n_gram_list)"
      ],
      "metadata": {
        "colab": {
          "base_uri": "https://localhost:8080/"
        },
        "id": "K1at7msNZJ0Y",
        "outputId": "4b46dbc3-7e81-45af-c513-626e1c9cd89b"
      },
      "execution_count": null,
      "outputs": [
        {
          "output_type": "stream",
          "name": "stdout",
          "text": [
            "['공부한다 나는', '나는 수업이', '수업이 끝나고', '끝나고 집에', '집에 가서', '가서 열심히', '열심히 공부한다']\n"
          ]
        }
      ]
    },
    {
      "cell_type": "code",
      "source": [
        "# 사용자로부터 단어를 입력받아서 문장을 만들어 나가기\n",
        "start = '옛날옜적에'\n",
        "\n",
        "# 사용자 입력 : 호랑이가\n",
        "# 출력 : 옛날옛적에 호랑이가\n",
        "\n",
        "# 떡하나주면\n",
        "# 옛날옛적에 호랑이가 떡하나주면\n",
        "\n",
        "# 안잡아먹지\n",
        "# 옛날옛적에 호랑이가 떡하나주면 안잡아먹지\n",
        "\n",
        "# 사용자 입력\n",
        "# 끝\n",
        "\n",
        "while True:\n",
        "  print('옛날옛적에')\n",
        "\n",
        "  res_list = ['옛날옛적에']\n",
        "\n",
        "  word1 = input('\"호랑이가\" 을 입력하세요 ')\n",
        "  res_list.append(word1)\n",
        "  print(\" \".join(res_list))\n",
        "\n",
        "  word2 = input('\"떡하나주면\" 을 입력하세요 ')\n",
        "  res_list.append(word2)\n",
        "  print(\" \".join(res_list))\n",
        "\n",
        "  word3 = input('\"안잡아먹지\" 을 입력하세요 ')\n",
        "  res_list.append(word3)\n",
        "  print(\" \".join(res_list))\n",
        "\n",
        "  req = input(\"종료를 원하면 '끝' 을 입력하세요\")\n",
        "  if req == '끝':\n",
        "    print('끝')\n",
        "    break\n",
        "  else:\n",
        "    res_list = ['옛날옛적에']"
      ],
      "metadata": {
        "colab": {
          "base_uri": "https://localhost:8080/"
        },
        "id": "5EeRoUQFb67Q",
        "outputId": "d0296cbd-22d7-4b35-a942-cba4bcf47d22"
      },
      "execution_count": null,
      "outputs": [
        {
          "output_type": "stream",
          "name": "stdout",
          "text": [
            "옛날옛적에\n",
            "\"호랑이가\" 을 입력하세요 호랑이가\n",
            "옛날옛적에 호랑이가\n",
            "\"떡하나주면\" 을 입력하세요 산속에서\n",
            "옛날옛적에 호랑이가 산속에서\n",
            "\"안잡아먹지\" 을 입력하세요 사람을 잡아먹었어요\n",
            "옛날옛적에 호랑이가 산속에서 사람을 잡아먹었어요\n",
            "종료를 원하면 '끝' 을 입력하세요끝\n",
            "끝\n"
          ]
        }
      ]
    },
    {
      "cell_type": "code",
      "source": [
        "# 여러 문장이 있을때 문장별로 토큰화\n",
        "text = '나는 학교에 간다. 친구를 만난다. 집에 온다'\n",
        "# expect : ['나는 학교에 간다, '친구를 만난다.', '집에 온다']\n",
        "\n",
        "result =[]\n",
        "for word in text.split('.'):\n",
        "  result.append(word.strip())\n",
        "print(result)"
      ],
      "metadata": {
        "colab": {
          "base_uri": "https://localhost:8080/"
        },
        "id": "DQv_e5B0bHRh",
        "outputId": "63b851e4-1a5c-4447-b2ff-eaa10635ca18"
      },
      "execution_count": null,
      "outputs": [
        {
          "output_type": "stream",
          "name": "stdout",
          "text": [
            "['나는 학교에 간다', '친구를 만난다', '집에 온다']\n"
          ]
        }
      ]
    },
    {
      "cell_type": "code",
      "source": [
        "!pip install konlpy"
      ],
      "metadata": {
        "colab": {
          "base_uri": "https://localhost:8080/"
        },
        "id": "ZfSLlBQPgtC4",
        "outputId": "8cb1cce8-c0f9-47da-f466-d0566c67ab58"
      },
      "execution_count": null,
      "outputs": [
        {
          "output_type": "stream",
          "name": "stdout",
          "text": [
            "Collecting konlpy\n",
            "  Downloading konlpy-0.6.0-py2.py3-none-any.whl.metadata (1.9 kB)\n",
            "Collecting JPype1>=0.7.0 (from konlpy)\n",
            "  Downloading jpype1-1.5.2-cp311-cp311-manylinux_2_17_x86_64.manylinux2014_x86_64.whl.metadata (4.9 kB)\n",
            "Requirement already satisfied: lxml>=4.1.0 in /usr/local/lib/python3.11/dist-packages (from konlpy) (5.3.1)\n",
            "Requirement already satisfied: numpy>=1.6 in /usr/local/lib/python3.11/dist-packages (from konlpy) (1.26.4)\n",
            "Requirement already satisfied: packaging in /usr/local/lib/python3.11/dist-packages (from JPype1>=0.7.0->konlpy) (24.2)\n",
            "Downloading konlpy-0.6.0-py2.py3-none-any.whl (19.4 MB)\n",
            "\u001b[2K   \u001b[90m━━━━━━━━━━━━━━━━━━━━━━━━━━━━━━━━━━━━━━━━\u001b[0m \u001b[32m19.4/19.4 MB\u001b[0m \u001b[31m33.6 MB/s\u001b[0m eta \u001b[36m0:00:00\u001b[0m\n",
            "\u001b[?25hDownloading jpype1-1.5.2-cp311-cp311-manylinux_2_17_x86_64.manylinux2014_x86_64.whl (494 kB)\n",
            "\u001b[2K   \u001b[90m━━━━━━━━━━━━━━━━━━━━━━━━━━━━━━━━━━━━━━━━\u001b[0m \u001b[32m494.1/494.1 kB\u001b[0m \u001b[31m22.3 MB/s\u001b[0m eta \u001b[36m0:00:00\u001b[0m\n",
            "\u001b[?25hInstalling collected packages: JPype1, konlpy\n",
            "Successfully installed JPype1-1.5.2 konlpy-0.6.0\n"
          ]
        }
      ]
    },
    {
      "cell_type": "code",
      "source": [
        "# 형태소 분석기(명사 형용사 부사)\n",
        "from konlpy.tag import Okt\n",
        "\n",
        "# Okt 클래스의 객체를 생성\n",
        "okt = Okt()   # Okt 클래스... okt 객체변수\n",
        "\n",
        "text = '인공지능은 앞으로 보편화 될거 같습니다'\n",
        "\n",
        "print(f'형태소 : {okt.morphs(text)}')\n",
        "\n",
        "pos = okt.pos(text)\n",
        "print(f'형태소 품사 태깅 : {pos}')\n",
        "\n",
        "nouns = okt.nouns(text)\n",
        "print(f'명사만 추출 : {nouns}')"
      ],
      "metadata": {
        "colab": {
          "base_uri": "https://localhost:8080/"
        },
        "id": "E2WVcbqBmZvR",
        "outputId": "9cf23d8f-e7e3-4f13-dfef-3ec4fe0e8d5b"
      },
      "execution_count": null,
      "outputs": [
        {
          "output_type": "stream",
          "name": "stdout",
          "text": [
            "형태소 : ['인공', '지능', '은', '앞', '으로', '보편화', '될거', '같습니다']\n",
            "형태소 품사 태깅 : [('인공', 'Noun'), ('지능', 'Noun'), ('은', 'Josa'), ('앞', 'Noun'), ('으로', 'Josa'), ('보편화', 'Noun'), ('될거', 'Verb'), ('같습니다', 'Adjective')]\n",
            "명사만 추출 : ['인공', '지능', '앞', '보편화']\n"
          ]
        }
      ]
    },
    {
      "cell_type": "code",
      "source": [
        "# text = ''\n",
        "# 인터넷 뉴스기사를 스크래  해서 파일에 저장한 다음\n",
        "# text 에는 파일에서 읽어서 저장하고\n",
        "\n",
        "# nouns 명사들의 리스트 집합\n",
        "# 추출된 명사의 길이가 2글자 인것만 다시 추려서\n",
        "# from collection import Counter 를 이용해서\n",
        "# mostcommon(10) 상위 10개의 단어만 추출해 보자\n",
        "\n",
        "\n",
        "# 1. 기사 불러오기\n",
        "path = '/content/drive/MyDrive/data/deepseek_news.txt'\n",
        "with open (path, 'r') as f:\n",
        "  text = f.read()\n",
        "\n",
        "# 2. 형태소 분석기로 명사 찾기\n",
        "from konlpy.tag import Okt\n",
        "okt = Okt()\n",
        "\n",
        "nouns_list = okt.nouns(text)\n",
        "\n",
        "# 3. 2글자 인것만 추리기\n",
        "nouns_len2 = []\n",
        "for word in nouns_list:\n",
        "  if len(word) == 2:\n",
        "    nouns_len2.append(word)\n",
        "print(nouns_len2)\n",
        "\n",
        "# 4. 두글자인 단어 개수 파악\n",
        "from collections import Counter\n",
        "count = Counter(nouns_len2)\n",
        "print(count)\n",
        "\n",
        "# 5. 상위 10개 단어 추출\n",
        "top10_2word = count.most_common(10)\n",
        "print(top10_2word)\n",
        "\n",
        "# 6. 리스트 안에 튜플 형태로 되어 있는데 여기서 텍스만 추출\n",
        "\n",
        "top10_words  = [w for w, _ in top10_2word]\n",
        "print(top10_words)"
      ],
      "metadata": {
        "colab": {
          "base_uri": "https://localhost:8080/"
        },
        "id": "hJXjeCDZnMsA",
        "outputId": "77d27386-8f6d-4530-f8df-be09cb809941"
      },
      "execution_count": null,
      "outputs": [
        {
          "output_type": "stream",
          "name": "stdout",
          "text": [
            "['시크', '추론', '모델', '세계', '인공', '지능', '시장', '중국', '주요', '기업', '시크', '성능', '속도', '모델', '출시', '예고', '경쟁', '현지', '시간', '통신', '중국', '시크', '응답', '속도', '자랑', '모델', '위안', '터보', '출시', '위안', '터보', '이내', '질문', '답변', '시크', '기존', '위안', '생각', '시간', '모델', '차별', '공식', '발표', '모델', '위챗', '통합', '이상', '제공', '계획', '위안', '터보', '위안', '버전', '지식', '수학', '추론', '분야', '결과', '터보', '성능', '시크', '챗봇', '구동', '시크', '동등', '수준', '확인', '가격', '이전', '모델', '책정', '성능', '정보', '공개', '추후', '추가', '발표', '공개', '예정', '시크', '추론', '모델', '지난', '출시', '이후', '비용', '전략', '세계', '시장', '오픈', '추론', '모델', '수준', '성능', '비용', '개발', '세계', '충격', '시크', '쇼크', '출시', '오픈', '성공', '세계', '테크', '기업', '충격', '모델', '출시', '경쟁', '더욱', '역시', '시크', '추론', '모델', '준비', '중이', '대형', '언어', '모델', '큐원', '맥스', '출시', '시크', '능가', '주장', '이후', '달도', '미국', '현지', '시간', '실적', '큐원', '맥스', '기반', '시크', '추론', '모델', '출시', '올해', '모델', '출시', '공개', '업계', '추론', '모델', '시크', '전망', '멀티', '기능', '크게', '향상', '다만', '성능', '현지', '시간', '위챗', '공식', '계정', '통해', '순차', '출시', '소스', '코드', '공식', '공개', '발표', '개발', '전략', '유지', '화로', '방향', '전환', '시크', '영향', '분석', '지난', '중국', '테크', '기업', '가장', '먼저', '챗봇', '당시', '오픈', '대응', '모델', '주목', '중국', '관심', '이후', '오픈', '자리', '시크', '모델', '개발', '출시', '더욱', '속도', '소재', '성과', '음성', '지원', '멀티', '모델', '공개', '모델', '출시', '예고', '추론', '능력', '강화', '멀티', '분야', '혁신', '추론', '모델', '경쟁', '가속', '시크', '등장', '이후', '추론', '모델', '경쟁', '더욱', '미국', '경쟁', '오픈', '먼저', '일반', '모델', '추로', '모델', '결합', '최근', '발표', '시크', '오픈', '겨냥', '응답', '속도', '문제', '해결', '능력', '강조', '오픈', '최신', '추론', '모델', '미니', '무료', '개방', '시크', '대응', '추론', '모델', '경쟁', '지난', '현지', '시간', '최신', '모델', '그록', '출시', '추론', '능력', '그록', '리즈', '버전', '공개', '그록', '장의', '활용', '개발', '수학', '과학', '코딩', '시크', '오픈', '주요', '모델', '성능', '입증', '공식', '계정', '그록', '성능', '구체', '수치', '공개', '추론', '중심', '모델', '그록', '리즈', '미국', '수학', '대회', '기록', '오픈', '시크', '수준', '과학', '문항', '오픈', '시크', '성능', '측은']\n",
            "Counter({'모델': 27, '시크': 20, '추론': 14, '출시': 12, '오픈': 10, '성능': 8, '공개': 7, '경쟁': 6, '시간': 5, '위안': 5, '그록': 5, '세계': 4, '중국': 4, '속도': 4, '현지': 4, '터보': 4, '공식': 4, '발표': 4, '이후': 4, '개발': 4, '기업': 3, '수학': 3, '수준': 3, '지난': 3, '더욱': 3, '미국': 3, '멀티': 3, '능력': 3, '시장': 2, '주요': 2, '예고': 2, '응답': 2, '위챗': 2, '버전': 2, '분야': 2, '챗봇': 2, '비용': 2, '전략': 2, '충격': 2, '테크': 2, '큐원': 2, '맥스': 2, '계정': 2, '먼저': 2, '대응': 2, '최신': 2, '리즈': 2, '과학': 2, '인공': 1, '지능': 1, '통신': 1, '자랑': 1, '이내': 1, '질문': 1, '답변': 1, '기존': 1, '생각': 1, '차별': 1, '통합': 1, '이상': 1, '제공': 1, '계획': 1, '지식': 1, '결과': 1, '구동': 1, '동등': 1, '확인': 1, '가격': 1, '이전': 1, '책정': 1, '정보': 1, '추후': 1, '추가': 1, '예정': 1, '쇼크': 1, '성공': 1, '역시': 1, '준비': 1, '중이': 1, '대형': 1, '언어': 1, '능가': 1, '주장': 1, '달도': 1, '실적': 1, '기반': 1, '올해': 1, '업계': 1, '전망': 1, '기능': 1, '크게': 1, '향상': 1, '다만': 1, '통해': 1, '순차': 1, '소스': 1, '코드': 1, '유지': 1, '화로': 1, '방향': 1, '전환': 1, '영향': 1, '분석': 1, '가장': 1, '당시': 1, '주목': 1, '관심': 1, '자리': 1, '소재': 1, '성과': 1, '음성': 1, '지원': 1, '강화': 1, '혁신': 1, '가속': 1, '등장': 1, '일반': 1, '추로': 1, '결합': 1, '최근': 1, '겨냥': 1, '문제': 1, '해결': 1, '강조': 1, '미니': 1, '무료': 1, '개방': 1, '장의': 1, '활용': 1, '코딩': 1, '입증': 1, '구체': 1, '수치': 1, '중심': 1, '대회': 1, '기록': 1, '문항': 1, '측은': 1})\n",
            "[('모델', 27), ('시크', 20), ('추론', 14), ('출시', 12), ('오픈', 10), ('성능', 8), ('공개', 7), ('경쟁', 6), ('시간', 5), ('위안', 5)]\n",
            "['모델', '시크', '추론', '출시', '오픈', '성능', '공개', '경쟁', '시간', '위안']\n"
          ]
        }
      ]
    }
  ]
}