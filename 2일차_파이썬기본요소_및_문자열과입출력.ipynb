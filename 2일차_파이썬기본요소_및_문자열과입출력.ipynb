{
  "nbformat": 4,
  "nbformat_minor": 0,
  "metadata": {
    "colab": {
      "provenance": []
    },
    "kernelspec": {
      "name": "python3",
      "display_name": "Python 3"
    },
    "language_info": {
      "name": "python"
    }
  },
  "cells": [
    {
      "cell_type": "markdown",
      "source": [
        "**문자열**"
      ],
      "metadata": {
        "id": "vGMO41chzH4L"
      }
    },
    {
      "cell_type": "code",
      "execution_count": null,
      "metadata": {
        "colab": {
          "base_uri": "https://localhost:8080/",
          "height": 110
        },
        "id": "PIKFyLGMvV5X",
        "outputId": "4debef9b-bde1-43f8-e7b9-60775bb09c25"
      },
      "outputs": [
        {
          "output_type": "error",
          "ename": "SyntaxError",
          "evalue": "invalid syntax (<ipython-input-1-17851467233c>, line 3)",
          "traceback": [
            "\u001b[0;36m  File \u001b[0;32m\"<ipython-input-1-17851467233c>\"\u001b[0;36m, line \u001b[0;32m3\u001b[0m\n\u001b[0;31m    \"hello \"world\"\"   # 같은 따옴표가 겹치면 문자열로 인식X\u001b[0m\n\u001b[0m            ^\u001b[0m\n\u001b[0;31mSyntaxError\u001b[0m\u001b[0;31m:\u001b[0m invalid syntax\n"
          ]
        }
      ],
      "source": [
        "print(\"hello world\")\n",
        "print('hello world')\n",
        "\"hello \"world\"\"   # 같은 따옴표가 겹치면 문자열로 인식X"
      ]
    },
    {
      "cell_type": "code",
      "source": [
        "# 다른 따옴표를 사용\n",
        "print(\"hello 'world'\")\n",
        "print('hello \"world\"')"
      ],
      "metadata": {
        "colab": {
          "base_uri": "https://localhost:8080/"
        },
        "id": "D1c8woVPxGio",
        "outputId": "bddf618b-fd21-45f5-c8f8-a5050f82d26e"
      },
      "execution_count": null,
      "outputs": [
        {
          "output_type": "stream",
          "name": "stdout",
          "text": [
            "hello 'world'\n",
            "hello \"world\"\n"
          ]
        }
      ]
    },
    {
      "cell_type": "code",
      "source": [
        "# 하나의 따옴표로는 열이 다르면 오류 발생\n",
        "print('hello\n",
        "world')"
      ],
      "metadata": {
        "colab": {
          "base_uri": "https://localhost:8080/",
          "height": 110
        },
        "id": "25lvlg4JxKma",
        "outputId": "b6872742-e4a9-43d4-e2ad-0afc79066bd6"
      },
      "execution_count": null,
      "outputs": [
        {
          "output_type": "error",
          "ename": "SyntaxError",
          "evalue": "unterminated string literal (detected at line 1) (<ipython-input-4-7890236983d9>, line 1)",
          "traceback": [
            "\u001b[0;36m  File \u001b[0;32m\"<ipython-input-4-7890236983d9>\"\u001b[0;36m, line \u001b[0;32m1\u001b[0m\n\u001b[0;31m    print('hello\u001b[0m\n\u001b[0m          ^\u001b[0m\n\u001b[0;31mSyntaxError\u001b[0m\u001b[0;31m:\u001b[0m unterminated string literal (detected at line 1)\n"
          ]
        }
      ]
    },
    {
      "cell_type": "code",
      "source": [
        "# 따옴포를 각각 3개씩 사용하여 다른열의 텍스트도 출력 가능\n",
        "print(\n",
        "    '''\n",
        "hello\n",
        "world\n",
        "    '''\n",
        ")"
      ],
      "metadata": {
        "colab": {
          "base_uri": "https://localhost:8080/"
        },
        "id": "-zvJVWXLxoMu",
        "outputId": "261e9f9a-ef7a-48ad-b643-b3059632e24d"
      },
      "execution_count": null,
      "outputs": [
        {
          "output_type": "stream",
          "name": "stdout",
          "text": [
            "\n",
            "hello\n",
            "world\n",
            "    \n"
          ]
        }
      ]
    },
    {
      "cell_type": "markdown",
      "source": [
        "문자열의 연산(+*)"
      ],
      "metadata": {
        "id": "GEx-dfumyC-B"
      }
    },
    {
      "cell_type": "code",
      "source": [
        "'문자열 더하기' + '문자'"
      ],
      "metadata": {
        "colab": {
          "base_uri": "https://localhost:8080/",
          "height": 35
        },
        "id": "zmVCk1_3xsjf",
        "outputId": "8d6616ea-baa1-49a8-80d1-389b2ac45224"
      },
      "execution_count": null,
      "outputs": [
        {
          "output_type": "execute_result",
          "data": {
            "text/plain": [
              "'문자열 더하기문자'"
            ],
            "application/vnd.google.colaboratory.intrinsic+json": {
              "type": "string"
            }
          },
          "metadata": {},
          "execution_count": 10
        }
      ]
    },
    {
      "cell_type": "code",
      "source": [
        "# 피연산자가 문자열일 경우에만 더하기 가능\n",
        "'문자열 더하기' + 3"
      ],
      "metadata": {
        "colab": {
          "base_uri": "https://localhost:8080/",
          "height": 146
        },
        "id": "q2oeUG7dybuz",
        "outputId": "3f918497-a28e-4593-f9db-203a2b8be2f3"
      },
      "execution_count": null,
      "outputs": [
        {
          "output_type": "error",
          "ename": "TypeError",
          "evalue": "can only concatenate str (not \"int\") to str",
          "traceback": [
            "\u001b[0;31m---------------------------------------------------------------------------\u001b[0m",
            "\u001b[0;31mTypeError\u001b[0m                                 Traceback (most recent call last)",
            "\u001b[0;32m<ipython-input-11-fe8eb7ab6c9d>\u001b[0m in \u001b[0;36m<cell line: 0>\u001b[0;34m()\u001b[0m\n\u001b[0;32m----> 1\u001b[0;31m \u001b[0;34m'문자열 더하기'\u001b[0m \u001b[0;34m+\u001b[0m \u001b[0;36m3\u001b[0m\u001b[0;34m\u001b[0m\u001b[0;34m\u001b[0m\u001b[0m\n\u001b[0m",
            "\u001b[0;31mTypeError\u001b[0m: can only concatenate str (not \"int\") to str"
          ]
        }
      ]
    },
    {
      "cell_type": "code",
      "source": [
        "# 문자열과 정수   정수만큼 해당 문자를 반복\n",
        "\"문자열\" * '문자'"
      ],
      "metadata": {
        "colab": {
          "base_uri": "https://localhost:8080/",
          "height": 164
        },
        "id": "xEd4MCrGyd3o",
        "outputId": "5d6c975c-420c-4247-9123-ccfa4b38741b"
      },
      "execution_count": null,
      "outputs": [
        {
          "output_type": "error",
          "ename": "TypeError",
          "evalue": "can't multiply sequence by non-int of type 'str'",
          "traceback": [
            "\u001b[0;31m---------------------------------------------------------------------------\u001b[0m",
            "\u001b[0;31mTypeError\u001b[0m                                 Traceback (most recent call last)",
            "\u001b[0;32m<ipython-input-12-a68b7a3609e9>\u001b[0m in \u001b[0;36m<cell line: 0>\u001b[0;34m()\u001b[0m\n\u001b[1;32m      1\u001b[0m \u001b[0;31m# 문자열과 정수   정수만큼 해당 문자를 반복\u001b[0m\u001b[0;34m\u001b[0m\u001b[0;34m\u001b[0m\u001b[0m\n\u001b[0;32m----> 2\u001b[0;31m \u001b[0;34m\"문자열\"\u001b[0m \u001b[0;34m*\u001b[0m \u001b[0;34m'문자'\u001b[0m\u001b[0;34m\u001b[0m\u001b[0;34m\u001b[0m\u001b[0m\n\u001b[0m",
            "\u001b[0;31mTypeError\u001b[0m: can't multiply sequence by non-int of type 'str'"
          ]
        }
      ]
    },
    {
      "cell_type": "code",
      "source": [
        "\"문자열\" * 3"
      ],
      "metadata": {
        "colab": {
          "base_uri": "https://localhost:8080/",
          "height": 35
        },
        "id": "yk43LoV_y9VZ",
        "outputId": "f31a3c12-72ff-4d51-833b-54367b924448"
      },
      "execution_count": null,
      "outputs": [
        {
          "output_type": "execute_result",
          "data": {
            "text/plain": [
              "'문자열문자열문자열'"
            ],
            "application/vnd.google.colaboratory.intrinsic+json": {
              "type": "string"
            }
          },
          "metadata": {},
          "execution_count": 13
        }
      ]
    },
    {
      "cell_type": "code",
      "source": [
        "# 문자열은 리스트화 되어 있어 인덱스를 가짐\n",
        "text = 'Python Programing'\n",
        "print(text[0])   # P\n",
        "print(text[-1])  # g\n",
        "\n",
        "# 슬라이싱  [startindex : endindex-1]\n",
        "print(text[0:6])  # Python\n",
        "print(text[:6])   # Python\n",
        "print(text[:])    # Python programing\n",
        "print(text[::1])  # Python programing\n",
        "print(text[:-1])  # Python programin\n",
        "print(text[::2])  # 두칸씩\n",
        "print(text[::-1]) # 역순"
      ],
      "metadata": {
        "colab": {
          "base_uri": "https://localhost:8080/"
        },
        "id": "ZLyCYqwgy_XE",
        "outputId": "bbd1b7eb-e516-49f1-d3d0-0ea55a5e7667"
      },
      "execution_count": null,
      "outputs": [
        {
          "output_type": "stream",
          "name": "stdout",
          "text": [
            "P\n",
            "g\n",
            "Python\n",
            "Python\n",
            "Python Programing\n",
            "Python Programing\n",
            "Python Programin\n",
            "Pto rgaig\n",
            "gnimargorP nohtyP\n"
          ]
        }
      ]
    },
    {
      "cell_type": "code",
      "source": [
        "import random\n",
        "list1 = random.sample(range(1,100),10)\n",
        "print(list1)\n",
        "print(list1[5:])"
      ],
      "metadata": {
        "colab": {
          "base_uri": "https://localhost:8080/"
        },
        "id": "rySako6Mzga2",
        "outputId": "1d9b7757-65bc-4e21-be5d-a1c21fc66f50"
      },
      "execution_count": null,
      "outputs": [
        {
          "output_type": "stream",
          "name": "stdout",
          "text": [
            "[48, 31, 71, 24, 68, 37, 80, 64, 35, 78]\n",
            "[37, 80, 64, 35, 78]\n"
          ]
        }
      ]
    },
    {
      "cell_type": "markdown",
      "source": [
        " - 함수의 기본개념\n",
        "    - 이름(매개변수, ...):   --> 매개변수도 필수는 아님\n",
        "    - 들여쓰기를 해서 내용작성\n",
        "    - return 반환값 --> 필수는 아님\n",
        "\n",
        "- 하지만 함수의 모양반드시\n",
        "    - 이름():\n",
        "      - 내용\n",
        "    - 함수의 사용은 해당 함수의 이름을 작성하고 (데이터전달)\n",
        "    - 결과는 있을수도 없을수도 있다  "
      ],
      "metadata": {
        "id": "18JNSo8n2XB4"
      }
    },
    {
      "cell_type": "code",
      "source": [
        "# 여기서 text는 단순 변수가 아닌 객체이다\n",
        "# 그렇기 때문에 변수의 뒤에 .을 붙여 메써드 사용\n",
        "text = 'hello world'\n",
        "\n",
        "# 소문자\n",
        "print(text.lower())\n",
        "# 대문자\n",
        "print(text.upper())\n",
        "# 첫글자만 대분자\n",
        "print(text.title())\n",
        "# 첫단어만 대문자\n",
        "print(text.capitalize())\n",
        "# 대소문자 변화\n",
        "print(text.capitalize().swapcase())   # mothod chaining 기법\n",
        "# 특정 문자(열)의 포함 여부  --> 리스트(숫자등)에도 적용 가능\n",
        "print('h' in text)\n",
        "# 분리(기준을 다양하게 적용 공백. ',', '.', '|', ':') -> 분리된 문자열을 리스트로 만들어준다\n",
        "print(text.split())   # 영어문장은 주로 공백을 기준으로 단어를 분리할 수 있음\n",
        "print(text.split('l'))   # l을 기준으로 분리 / 괄호안에 분리하고 싶은 패턴을 넣어서 분리"
      ],
      "metadata": {
        "colab": {
          "base_uri": "https://localhost:8080/"
        },
        "id": "r7IMBc8Q2A6L",
        "outputId": "356786fa-b76a-4a73-d5bf-000087c03669"
      },
      "execution_count": null,
      "outputs": [
        {
          "output_type": "stream",
          "name": "stdout",
          "text": [
            "hello world\n",
            "HELLO WORLD\n",
            "Hello World\n",
            "Hello world\n",
            "hELLO WORLD\n",
            "True\n",
            "['hello', 'world']\n",
            "['he', '', 'o wor', 'd']\n"
          ]
        }
      ]
    },
    {
      "cell_type": "markdown",
      "source": [
        "공백제거 및 정렬"
      ],
      "metadata": {
        "id": "EoYF0qJv-Rdn"
      }
    },
    {
      "cell_type": "code",
      "source": [
        "text = \"   python    \"\n",
        "# **양쪽 공백 제거**  --> 공백으로 인해 컴퓨터가 보기에 다른 텍스트라 생각 할 수 있음\n",
        "print(text.strip())\n",
        "# 왼쪽 공백 제거\n",
        "print(text.lstrip())\n",
        "# 오른쪽 공백 제거\n",
        "print(text.rstrip())"
      ],
      "metadata": {
        "colab": {
          "base_uri": "https://localhost:8080/"
        },
        "id": "JkPLmhGO66sA",
        "outputId": "0424a05c-6343-4944-9ad8-0a0739472867"
      },
      "execution_count": null,
      "outputs": [
        {
          "output_type": "stream",
          "name": "stdout",
          "text": [
            "python\n",
            "python    \n",
            "   python\n"
          ]
        }
      ]
    },
    {
      "cell_type": "markdown",
      "source": [
        "문자열 찾기 및 대체"
      ],
      "metadata": {
        "id": "Gxas_MW5_TRO"
      }
    },
    {
      "cell_type": "code",
      "source": [
        "text = 'python programing is fun'\n",
        "\n",
        "# 문자열 위치 찾기 없으면 -1\n",
        "print(text.find('is'))   # 찾고자 하는 문자의 첫번째 인덱스\n",
        "print(text.find('fun'))\n",
        "print(text.find('java'))\n",
        "\n",
        "# 문자열 대체\n",
        "print(text.replace('is','are'))\n",
        "print(text.replace('python', ''))\n",
        "\n",
        "# 문자열의 개수\n",
        "print(text.count('p'))"
      ],
      "metadata": {
        "colab": {
          "base_uri": "https://localhost:8080/"
        },
        "id": "PvtBcTT3_LmM",
        "outputId": "8c549c21-f488-4a2f-96a1-798e80762dce"
      },
      "execution_count": null,
      "outputs": [
        {
          "output_type": "stream",
          "name": "stdout",
          "text": [
            "18\n",
            "21\n",
            "-1\n",
            "python programing are fun\n",
            " programing is fun\n",
            "2\n"
          ]
        }
      ]
    },
    {
      "cell_type": "markdown",
      "source": [
        "문자열 분리 및 합치기"
      ],
      "metadata": {
        "id": "AzOmQ3odAbKg"
      }
    },
    {
      "cell_type": "code",
      "source": [
        "text = 'apple.banana.grap'\n",
        "words = text.split('.')\n",
        "print(words)\n",
        "\n",
        "# 문자열 합치기\n",
        "print(\" \".join(words))   # 공백을 기준으로 합치기\n",
        "print(\"_\".join(words))"
      ],
      "metadata": {
        "colab": {
          "base_uri": "https://localhost:8080/"
        },
        "id": "EA5jGtIG_dfP",
        "outputId": "cf69ac6b-f59e-4ff6-ed08-fc79515f9c3d"
      },
      "execution_count": null,
      "outputs": [
        {
          "output_type": "stream",
          "name": "stdout",
          "text": [
            "['apple', 'banana', 'grap']\n",
            "apple banana grap\n",
            "apple_banana_grap\n"
          ]
        }
      ]
    },
    {
      "cell_type": "markdown",
      "source": [
        "표준 입출력 (Standard Input Output)\n",
        "  - 입력 : 키보드\n",
        "  - 출력 : 콘솔"
      ],
      "metadata": {
        "id": "gJjdC8WzBO0f"
      }
    },
    {
      "cell_type": "code",
      "source": [
        "name = input('이름을 입력하세요 :')\n",
        "print('안녕하세요',name+'님')"
      ],
      "metadata": {
        "colab": {
          "base_uri": "https://localhost:8080/"
        },
        "id": "SG5Nij5LAmNh",
        "outputId": "63637d2c-b41d-4a06-ff5c-a34310d1b7fe"
      },
      "execution_count": null,
      "outputs": [
        {
          "output_type": "stream",
          "name": "stdout",
          "text": [
            "이름을 입력하세요 :손현성\n",
            "안녕하세요 손현성님\n"
          ]
        }
      ]
    },
    {
      "cell_type": "markdown",
      "source": [
        "map : 리스트와 같은 집합을 이루는 데이터들의 각각의 값에 특정 기능을 적용"
      ],
      "metadata": {
        "id": "iB7bsDjuCDU4"
      }
    },
    {
      "cell_type": "code",
      "source": [
        "list1 = ['1','2','3']\n",
        "map(int, list1)"
      ],
      "metadata": {
        "colab": {
          "base_uri": "https://localhost:8080/"
        },
        "id": "UVVBbUDXBuna",
        "outputId": "90239f30-b214-4a82-e37b-09ed64114c4d"
      },
      "execution_count": null,
      "outputs": [
        {
          "output_type": "execute_result",
          "data": {
            "text/plain": [
              "<map at 0x794b38b421a0>"
            ]
          },
          "metadata": {},
          "execution_count": 62
        }
      ]
    },
    {
      "cell_type": "code",
      "source": [
        "list1 = ['1','2','3']\n",
        "print(list(map(int, list1)))\n",
        "a,b,c = map(int, list1)\n",
        "print(a,b,c)"
      ],
      "metadata": {
        "colab": {
          "base_uri": "https://localhost:8080/"
        },
        "id": "ONi5DOrcCbFU",
        "outputId": "32053267-0b38-42f2-d5c7-d83aa3fb67fc"
      },
      "execution_count": null,
      "outputs": [
        {
          "output_type": "stream",
          "name": "stdout",
          "text": [
            "[1, 2, 3]\n",
            "1 2 3\n"
          ]
        }
      ]
    },
    {
      "cell_type": "code",
      "source": [
        "number1, number2 = map(int, input('두개의 정수를 띄어쓰기 해서 입력하세요').split())\n",
        "print(number1+number2)"
      ],
      "metadata": {
        "colab": {
          "base_uri": "https://localhost:8080/"
        },
        "id": "6F1xLnOWCm5p",
        "outputId": "b7256737-d401-4a40-a36b-73b3d88edb73"
      },
      "execution_count": null,
      "outputs": [
        {
          "output_type": "stream",
          "name": "stdout",
          "text": [
            "두개의 정수를 띄어쓰기 해서 입력하세요1 2\n",
            "3\n"
          ]
        }
      ]
    },
    {
      "cell_type": "markdown",
      "source": [
        "zip (두개의 묶음을 각각 묶어준다)"
      ],
      "metadata": {
        "id": "iMpVG2JAEZgm"
      }
    },
    {
      "cell_type": "code",
      "source": [
        "fruites = ['apple','banana','mango']\n",
        "prices = [500,700,1000]\n",
        "print(list(zip(fruites, prices)))"
      ],
      "metadata": {
        "colab": {
          "base_uri": "https://localhost:8080/"
        },
        "id": "yGgmegkUEcNH",
        "outputId": "fee3bf41-d2dd-4e02-fd07-c7df9d57128f"
      },
      "execution_count": null,
      "outputs": [
        {
          "output_type": "stream",
          "name": "stdout",
          "text": [
            "[('apple', 500), ('banana', 700), ('mango', 1000)]\n"
          ]
        }
      ]
    },
    {
      "cell_type": "markdown",
      "source": [
        "Question"
      ],
      "metadata": {
        "id": "cR5CXwnmKwUr"
      }
    },
    {
      "cell_type": "code",
      "source": [
        "text = 'hello world'\n",
        "fined_index = text.find('e')\n",
        "print(fined_index)\n",
        "text_list = [text[:fined_index+1], text[fined_index+1:]]\n",
        "\n",
        "# 조인을 이용해서 리스트 결합\n",
        "print(' '.join(text_list))"
      ],
      "metadata": {
        "colab": {
          "base_uri": "https://localhost:8080/"
        },
        "id": "AY0s43KrJytI",
        "outputId": "769fc23e-fcca-4233-bfea-5f6dbb05683b"
      },
      "execution_count": null,
      "outputs": [
        {
          "output_type": "stream",
          "name": "stdout",
          "text": [
            "1\n",
            "he llo world\n"
          ]
        }
      ]
    },
    {
      "cell_type": "code",
      "source": [
        "text = '   p  y  t  h  o     n        '\n",
        "text_list = text.split()\n",
        "''.join(text_list)"
      ],
      "metadata": {
        "colab": {
          "base_uri": "https://localhost:8080/",
          "height": 35
        },
        "id": "nu5l0SxvKy7q",
        "outputId": "f53edc6f-c18b-4e50-b9c2-a9c2d68b9174"
      },
      "execution_count": null,
      "outputs": [
        {
          "output_type": "execute_result",
          "data": {
            "text/plain": [
              "'python'"
            ],
            "application/vnd.google.colaboratory.intrinsic+json": {
              "type": "string"
            }
          },
          "metadata": {},
          "execution_count": 83
        }
      ]
    },
    {
      "cell_type": "markdown",
      "source": [
        "- 출력형식 지정하기"
      ],
      "metadata": {
        "id": "_atFlaVkEU1j"
      }
    },
    {
      "cell_type": "code",
      "source": [
        "# 사용자한테 이름과 나이를 입력받아서 '공백을 기준으로 한번에 입력'\n",
        "# 이름과 나이를 입력하세요 -> 손현성 28\n",
        "# 출력 손현성님 반갑습니다. 당신의 나이는 28입니다\n",
        "# name age\n",
        "name, age = '손현성', 28\n",
        "result = name+'님 반갑습니다. 당신의 나이는 ' + str(age) + '살 입니다.'\n",
        "print(result)"
      ],
      "metadata": {
        "colab": {
          "base_uri": "https://localhost:8080/"
        },
        "id": "GTomVBz_DSam",
        "outputId": "911b11c6-4568-4586-e35b-c0c0847a6b45"
      },
      "execution_count": null,
      "outputs": [
        {
          "output_type": "stream",
          "name": "stdout",
          "text": [
            "손현성님 반갑습니다. 당신의 나이는 28살 입니다.\n"
          ]
        }
      ]
    },
    {
      "cell_type": "code",
      "source": [
        "result = f'{name}님 반갑습니다. 당신의 나이는 {age}살 입니다'\n",
        "print(result)"
      ],
      "metadata": {
        "colab": {
          "base_uri": "https://localhost:8080/"
        },
        "id": "tRyTkACYNZbB",
        "outputId": "f0882a36-15a3-47ff-b105-436f6e090370"
      },
      "execution_count": null,
      "outputs": [
        {
          "output_type": "stream",
          "name": "stdout",
          "text": [
            "손현성님 반갑습니다. 당신의 나이는 28살 입니다\n"
          ]
        }
      ]
    },
    {
      "cell_type": "markdown",
      "source": [
        "숫자포멧팅"
      ],
      "metadata": {
        "id": "xiSs6GgxOsoX"
      }
    },
    {
      "cell_type": "code",
      "source": [
        "num = 123.456789\n",
        "print(f'소수점 둘째 자리까지 {num:.2f}')\n",
        "print(f'전체10자리, 우측정렬 {num:10.2f}')\n",
        "print(f'전체10자리, 좌측정렬 {num:<10.2f}')"
      ],
      "metadata": {
        "colab": {
          "base_uri": "https://localhost:8080/"
        },
        "id": "KDSiA82_NoW2",
        "outputId": "6e10a213-22dd-417b-85be-b2df0dfa3967"
      },
      "execution_count": null,
      "outputs": [
        {
          "output_type": "stream",
          "name": "stdout",
          "text": [
            "소수점 둘째 자리까지 123.46\n",
            "전체10자리, 우측정렬     123.46\n",
            "전체10자리, 좌측정렬 123.46    \n"
          ]
        }
      ]
    },
    {
      "cell_type": "code",
      "source": [
        "# 사용자로부터 이름과 나이를 입력받아서\n",
        "# f-string을 이용해서 출력하기\n",
        "\n",
        "name = input('이름을 입력하세요')\n",
        "age = int(input('나이를 입력하세요'))\n",
        "print(f'{name}님 반갑습니다. 당신의 나이는 {age}살 입니다.')"
      ],
      "metadata": {
        "colab": {
          "base_uri": "https://localhost:8080/"
        },
        "id": "48k6vpYYO5R7",
        "outputId": "06989c71-53eb-4b8e-cce8-8b45538ebd6f"
      },
      "execution_count": null,
      "outputs": [
        {
          "output_type": "stream",
          "name": "stdout",
          "text": [
            "이름을 입력하세요손현성\n",
            "나이를 입력하세요28\n",
            "손현성님 반갑습니다. 당신의 나이는 28살 입니다.\n"
          ]
        }
      ]
    },
    {
      "cell_type": "code",
      "source": [
        "name, age = input('이름과 나이를 입력하세요').split()\n",
        "print(f'{name}님 반갑습니다. 당신의 나이는 {age}살 입니다.')"
      ],
      "metadata": {
        "colab": {
          "base_uri": "https://localhost:8080/"
        },
        "id": "IUPx5cawQtTu",
        "outputId": "03403cb1-a5d7-453b-cf75-dbb745238538"
      },
      "execution_count": null,
      "outputs": [
        {
          "output_type": "stream",
          "name": "stdout",
          "text": [
            "이름과 나이를 입력하세요홍길도 20\n",
            "홍길도님 반갑습니다. 당신의 나이는 20살 입니다.\n"
          ]
        }
      ]
    },
    {
      "cell_type": "code",
      "source": [
        "num1, num2 = map(int,input('두 수를 입력하세요').split())\n",
        "print('두수 더하기 :', nu1+num2)\n",
        "print('두수 빼기 :', nu1-num2)\n",
        "print('두수 곱하기 :', nu1*num2)\n",
        "print('두수 나누기 :', nu1/num2)"
      ],
      "metadata": {
        "colab": {
          "base_uri": "https://localhost:8080/"
        },
        "id": "eD2DIWkmS7JM",
        "outputId": "92c8fa27-9e78-4ee4-f8c7-a6c161903e0e"
      },
      "execution_count": null,
      "outputs": [
        {
          "output_type": "stream",
          "name": "stdout",
          "text": [
            "두 수를 입력하세요10 5\n",
            "두수 더하기 : 15\n",
            "두수 빼기 : 5\n",
            "두수 곱하기 : 50\n",
            "두수 나누기 : 2.0\n"
          ]
        }
      ]
    },
    {
      "cell_type": "markdown",
      "source": [
        "- 입출력을 파일을 대상으로 변경\n",
        "  - 파일 읽고 쓰기\n",
        "  - 파일을 읽기위해서 파일object(객체)\n",
        "  - 파일객체를 이용해서 읽고 쓰기 작업\n",
        "  - 끝이면 open한 파일 객체를 close해야 함\n",
        "\n",
        "- 이 모든 과정을 with open(파일명, 모드) as 파일객체명 사용한다"
      ],
      "metadata": {
        "id": "-pl3W8RzXNB3"
      }
    },
    {
      "cell_type": "code",
      "source": [
        "# 파일 쓰기\n",
        "with open('example.txt', 'w') as f:\n",
        "  f.write('hello world')"
      ],
      "metadata": {
        "id": "po6vPPxBYuF0"
      },
      "execution_count": null,
      "outputs": []
    },
    {
      "cell_type": "code",
      "source": [
        "# 파일 읽기\n",
        "with open('example.txt', 'r') as f:\n",
        "  print(f.read())"
      ],
      "metadata": {
        "colab": {
          "base_uri": "https://localhost:8080/"
        },
        "id": "OddFKbzcT3Wg",
        "outputId": "ca08a69f-88f4-4862-e54c-e72f120ffd68"
      },
      "execution_count": null,
      "outputs": [
        {
          "output_type": "stream",
          "name": "stdout",
          "text": [
            "hello world\n"
          ]
        }
      ]
    },
    {
      "cell_type": "markdown",
      "source": [
        "문자열 심화"
      ],
      "metadata": {
        "id": "Jd--LDbcZl61"
      }
    },
    {
      "cell_type": "code",
      "source": [
        "# 문자열을 리스트로 변환\n",
        "text = 'hello world'\n",
        "char_list = list(text)\n",
        "print(char_list)\n",
        "\n",
        "# w-> M hello Morld\n",
        "char_list[6]='M'\n",
        "print(char_list)\n",
        "''.join(char_list)"
      ],
      "metadata": {
        "colab": {
          "base_uri": "https://localhost:8080/",
          "height": 72
        },
        "id": "wMelFC3sYXcD",
        "outputId": "55c45a84-d9c1-4b0d-dd5a-ab0a3f1ba95e"
      },
      "execution_count": null,
      "outputs": [
        {
          "output_type": "stream",
          "name": "stdout",
          "text": [
            "['h', 'e', 'l', 'l', 'o', ' ', 'w', 'o', 'r', 'l', 'd']\n",
            "['h', 'e', 'l', 'l', 'o', ' ', 'M', 'o', 'r', 'l', 'd']\n"
          ]
        },
        {
          "output_type": "execute_result",
          "data": {
            "text/plain": [
              "'hello Morld'"
            ],
            "application/vnd.google.colaboratory.intrinsic+json": {
              "type": "string"
            }
          },
          "metadata": {},
          "execution_count": 141
        }
      ]
    },
    {
      "cell_type": "code",
      "source": [
        "import string\n",
        "print(string.ascii_letters)  # 알파벳\n",
        "print(string.punctuation)   # 특수기호 문자\n",
        "print(string.digits)"
      ],
      "metadata": {
        "colab": {
          "base_uri": "https://localhost:8080/"
        },
        "id": "QT04xO_iZwLY",
        "outputId": "0a6811c4-9b16-4c9a-b7df-abae21a734e0"
      },
      "execution_count": null,
      "outputs": [
        {
          "output_type": "stream",
          "name": "stdout",
          "text": [
            "abcdefghijklmnopqrstuvwxyzABCDEFGHIJKLMNOPQRSTUVWXYZ\n",
            "!\"#$%&'()*+,-./:;<=>?@[\\]^_`{|}~\n",
            "0123456789\n"
          ]
        }
      ]
    },
    {
      "cell_type": "code",
      "source": [
        "# 랜덤하게 알파벳 문자열 생성 문자열의 길이는 5개\n",
        "import random\n",
        "alist = random.choices(string.ascii_letters, k=5)\n",
        "print(''.join(alist))"
      ],
      "metadata": {
        "colab": {
          "base_uri": "https://localhost:8080/"
        },
        "id": "ZgEJVKs3cPDI",
        "outputId": "ee62bf36-94ca-4dcd-a53f-84e57ba86c3b"
      },
      "execution_count": null,
      "outputs": [
        {
          "output_type": "stream",
          "name": "stdout",
          "text": [
            "JKYNW\n"
          ]
        }
      ]
    },
    {
      "cell_type": "code",
      "source": [
        "# string.digits을 이용해서 임의의 4자리 정수를 만들어라\n",
        "\n",
        "alist = random.choices(string.digits, k=4)\n",
        "result = int(''.join(alist))\n",
        "print(result, type(result))"
      ],
      "metadata": {
        "colab": {
          "base_uri": "https://localhost:8080/"
        },
        "id": "4GzBHhLadMlc",
        "outputId": "ed149359-82c6-4767-d45e-ba17d4f33281"
      },
      "execution_count": null,
      "outputs": [
        {
          "output_type": "stream",
          "name": "stdout",
          "text": [
            "6666 <class 'int'>\n"
          ]
        }
      ]
    },
    {
      "cell_type": "markdown",
      "source": [
        "1. 주어진 문자열의 뒤집기\n",
        "  - hello world ==> dlrow olleh\n",
        "2. 주어진 문자열의 단어단위로 뒤집기\n",
        "  - hello world ==> world hello"
      ],
      "metadata": {
        "id": "Blq8rv5ZfxL7"
      }
    },
    {
      "cell_type": "code",
      "source": [
        "text = 'hello world'\n",
        "print(text[::-1])\n",
        "print(text[6:]+' '+text[:6])\n",
        "text_list = text.split()\n",
        "print(text_list[1]+' '+text_list[0])\n",
        "print(' '.join(text_list[::-1]))"
      ],
      "metadata": {
        "colab": {
          "base_uri": "https://localhost:8080/"
        },
        "id": "8mHgcMIhey5o",
        "outputId": "1b5cb648-1d0e-401b-eb95-557bb336ef1f"
      },
      "execution_count": null,
      "outputs": [
        {
          "output_type": "stream",
          "name": "stdout",
          "text": [
            "dlrow olleh\n",
            "world hello \n",
            "world hello\n",
            "world hello\n"
          ]
        }
      ]
    },
    {
      "cell_type": "markdown",
      "source": [
        "가장 긴 단어 찾기"
      ],
      "metadata": {
        "id": "VhyFWVEIzMUa"
      }
    },
    {
      "cell_type": "code",
      "source": [
        "text = '''The emergency appeal marks the first time Trump’s \\\n",
        "efforts to drastically remake the federal government reached the nation’s highest court'''\n",
        "\n",
        "print(f'원본 텍스트 : {text}')\n",
        "\n",
        "text_list = text.split()\n",
        "print(f'텍스트 분리 : {text_list}')\n",
        "\n",
        "text_len_list = list(map(len, text_list))\n",
        "print(f'분리된 텍스트의 길이 : {text_len_list}')\n",
        "\n",
        "max_len = max(text_len_list)\n",
        "print(f'가징 긴 텍스트 길이 : {max_len}')\n",
        "\n",
        "print(f'가장 긴 단어의 인덱스 : {text_len_list.index(max_len)}')\n",
        "\n",
        "max_len_word = text_list[text_len_list.index(max_len)]\n",
        "print(f'가징 긴 단어 : {max_len_word}')"
      ],
      "metadata": {
        "colab": {
          "base_uri": "https://localhost:8080/"
        },
        "id": "rbvKuf0SgMvH",
        "outputId": "ceec7766-d35d-44c2-bd3b-0705819222a5"
      },
      "execution_count": null,
      "outputs": [
        {
          "output_type": "stream",
          "name": "stdout",
          "text": [
            "원본 텍스트 : The emergency appeal marks the first time Trump’s efforts to drastically remake the federal government reached the nation’s highest court\n",
            "텍스트 분리 : ['The', 'emergency', 'appeal', 'marks', 'the', 'first', 'time', 'Trump’s', 'efforts', 'to', 'drastically', 'remake', 'the', 'federal', 'government', 'reached', 'the', 'nation’s', 'highest', 'court']\n",
            "분리된 텍스트의 길이 : [3, 9, 6, 5, 3, 5, 4, 7, 7, 2, 11, 6, 3, 7, 10, 7, 3, 8, 7, 5]\n",
            "가징 긴 텍스트 길이 : 11\n",
            "가장 긴 단어의 인덱스 : 10\n",
            "가징 긴 단어 : drastically\n"
          ]
        }
      ]
    },
    {
      "cell_type": "markdown",
      "source": [
        "정렬"
      ],
      "metadata": {
        "id": "XjQ4BYrU57fR"
      }
    },
    {
      "cell_type": "code",
      "source": [
        "text = 'hello'\n",
        "print(sorted(text, reverse=True))   # 모든 정렬의 기본은 오름차순 ascending asc\n",
        "\n",
        "sorted_text = sorted(text)\n",
        "print(sorted_text[::-1])"
      ],
      "metadata": {
        "colab": {
          "base_uri": "https://localhost:8080/"
        },
        "id": "XIMhLQHO55pF",
        "outputId": "0da82c72-7541-4719-d0ba-6afc63def3e7"
      },
      "execution_count": null,
      "outputs": [
        {
          "output_type": "stream",
          "name": "stdout",
          "text": [
            "['o', 'l', 'l', 'h', 'e']\n",
            "['o', 'l', 'l', 'h', 'e']\n"
          ]
        }
      ]
    },
    {
      "cell_type": "code",
      "source": [
        "import random\n",
        "# 랜덤하게 정수 10개를 리스트르에 저장하고 출력\n",
        "# 오름차순으로 정렬\n",
        "# 내림차순으로 정렬\n",
        "random_data = random.sample(range(1,100), 10)\n",
        "print(f'오름차순으로 정렬 : {sorted(random_data, reverse=False)}')\n",
        "print(f'내림차순으로 정렬 : {sorted(random_data)[::-1]}')"
      ],
      "metadata": {
        "colab": {
          "base_uri": "https://localhost:8080/"
        },
        "id": "ApWblgzwzpin",
        "outputId": "615f6558-8e89-47e7-db46-c5dba3277cce"
      },
      "execution_count": null,
      "outputs": [
        {
          "output_type": "stream",
          "name": "stdout",
          "text": [
            "오름차순으로 정렬 : [7, 14, 31, 42, 48, 55, 57, 87, 96, 98]\n",
            "내림차순으로 정렬 : [98, 96, 87, 57, 55, 48, 42, 31, 14, 7]\n"
          ]
        }
      ]
    },
    {
      "cell_type": "markdown",
      "source": [
        "Counter모듈 사용해 보기"
      ],
      "metadata": {
        "id": "wdaGNaAbAaE9"
      }
    },
    {
      "cell_type": "code",
      "source": [
        "# 모듈\n",
        "from collections import Counter\n",
        "# Counter() 리스트(문자열 포함)의 각 요소의 등장 횟수를 계산해주는 기능\n",
        "random_list = [1,1,2,2,2,3,4]\n",
        "Counter(random_list)"
      ],
      "metadata": {
        "colab": {
          "base_uri": "https://localhost:8080/"
        },
        "id": "BLmh4OF46-BM",
        "outputId": "cd1e2514-e0b1-43cb-d484-b6c1d81a8521"
      },
      "execution_count": null,
      "outputs": [
        {
          "output_type": "execute_result",
          "data": {
            "text/plain": [
              "Counter({1: 2, 2: 3, 3: 1, 4: 1})"
            ]
          },
          "metadata": {},
          "execution_count": 250
        }
      ]
    },
    {
      "cell_type": "code",
      "source": [
        "text = '파이썬은 쉽고 재미있습니다. 파이썬은 인공지능에 잘 어울립니다. 파이썬은 다양한 모듈을 지원합니다.'\n",
        "text_split = text.split()\n",
        "print(Counter(text_split))"
      ],
      "metadata": {
        "colab": {
          "base_uri": "https://localhost:8080/"
        },
        "id": "zkEio3YOAYqS",
        "outputId": "df4864f1-b3d4-4c87-d2da-863e7886cf02"
      },
      "execution_count": null,
      "outputs": [
        {
          "output_type": "stream",
          "name": "stdout",
          "text": [
            "Counter({'파이썬은': 3, '쉽고': 1, '재미있습니다.': 1, '인공지능에': 1, '잘': 1, '어울립니다.': 1, '다양한': 1, '모듈을': 1, '지원합니다.': 1})\n"
          ]
        }
      ]
    },
    {
      "cell_type": "code",
      "source": [
        "# 사용자로부터 입력을 받아서 단어 빈도수를 계산 input\n",
        "input_text = input('하고 싶은 말 없어?')\n",
        "input_text_split = input_text.split()\n",
        "print(input_text_split)\n",
        "Counter(input_text_split)"
      ],
      "metadata": {
        "colab": {
          "base_uri": "https://localhost:8080/"
        },
        "id": "C514uhIJBXz1",
        "outputId": "2e7e0bb3-2457-4dbc-c533-32933f36680a"
      },
      "execution_count": null,
      "outputs": [
        {
          "output_type": "stream",
          "name": "stdout",
          "text": [
            "하고 싶은 말 없어?없어 없어 진짜 없어요\n",
            "['없어', '없어', '진짜', '없어요']\n"
          ]
        },
        {
          "output_type": "execute_result",
          "data": {
            "text/plain": [
              "Counter({'없어': 2, '진짜': 1, '없어요': 1})"
            ]
          },
          "metadata": {},
          "execution_count": 285
        }
      ]
    },
    {
      "cell_type": "markdown",
      "source": [
        "영어는 대략 공백을 기준으로 문자열을 분리하면 대부분 단어 형태로 분리가 잘 되는 편..\n",
        "  - 영어 기사를 txt 파일로 저장하고 해당 파일의 내용을 읽어서 단어의 빈도수를 조사해보자\n",
        "  - 빈도수가 상위 10개의 단어를 출력"
      ],
      "metadata": {
        "id": "2g48Xb39Dr2-"
      }
    },
    {
      "cell_type": "code",
      "source": [
        "# CNN기사 txt파일 불러오기\n",
        "file_path = '/content/drive/MyDrive/CNN_NEWS_1.txt'\n",
        "with open(file_path, 'r')as f:\n",
        "  text = f.read()\n",
        "\n",
        "  # 문자열 중에 불필요한 단어를 제거 replace (반복문 사용X)\n",
        "text = text.replace('the','').replace('and','').replace('to','').replace('that','').replace('on','').replace('for','').replace('of','') \\\n",
        ".replace('his','').replace('the','').replace('not','').replace('with','').replace('he','').replace('as','').replace('a','')\n",
        "text_lists = text.split()\n",
        "text_counts = Counter(text_lists)\n",
        "print(text_counts)\n",
        "# stopword_list = ['the','a','to','that','on','as','for','']"
      ],
      "metadata": {
        "colab": {
          "base_uri": "https://localhost:8080/"
        },
        "id": "y9mBuxd_DSrj",
        "outputId": "96fc34b5-d531-4a67-e882-616cad6d3899"
      },
      "execution_count": null,
      "outputs": [
        {
          "output_type": "stream",
          "name": "stdout",
          "text": [
            "Counter({'Strmer': 6, 'security': 4, 'US': 3, 'gurntees': 3, 'pece': 3, 'in': 2, 'Trump': 2, 'President': 2, 'Ukrine': 2, 'Trump,': 2, 'more': 2, 'greement': 2, '“I’m': 2, 'going': 2, 'Europe': 2, 'we': 2, 'need': 2, 'A': 1, 'bust': 1, 'Winsn': 1, 'Churchill': 1, 'will': 1, 'gze': 1, 't': 1, 'Keir': 1, 'Thursdy': 1, 'executes': 1, 'e': 1, 'trickiest': 1, 'visits': 1, 'by': 1, 'British': 1, 'Prime': 1, 'Minister': 1, 'president': 1, 'since': 1, 'dys': 1, 'gret': 1, 'World': 1, 'Wr': 1, 'II': 1, 'leder.': 1, 'h': 1, 'criticl': 1, 'missi': 1, 'Ovl': 1, 'Office': 1, '—': 1, 'peel': 1, 'Dld': 1, 'wy': 1, 'from': 1, 'Russin': 1, 'Vldimir': 1, 'Putin,': 1, 'extrct': 1, 'following': 1, 'n': 1, 'eventul': 1, 'del': 1, 'sve': 1, 'trnstlntic': 1, 'llince.': 1, 'His': 1, 'chnces': 1, 'success': 1, 'seem': 1, 'slim.': 1, 'French': 1, 'Emmnuel': 1, 'Mcr': 1, 'visited': 1, 'Whingn': 1, 'similr': 1, 'quest': 1, 'Mdy': 1, ',': 1, 'despite': 1, 'rekindling': 1, 'bromnce': 1, 'got': 1, 'no': 1, 'ccrete': 1, 'surnces.': 1, 'T': 1, 'tk': 1, 'bee': 1, 'tciturn': 1, 'becme': 1, 'even': 1, 'complex': 1, 'flew': 1, 'over': 1, 'Atlntic': 1, 'Wednesdy.': 1, 'first': 1, 'Cbinet': 1, 'meeting': 1, 'new': 1, 'term,': 1, 'dismissed': 1, 'ide': 1, 'robust': 1, 'sees': 1, 'vitl': 1, 'ensuring': 1, 'ny': 1, 'cn': 1, 'endure.': 1, 'mke': 1, 'beyd': 1, 'very': 1, 'much.': 1, 'We’re': 1, 'hve': 1, 'do': 1, '…': 1, 'is': 1, 'ir': 1, 'next-door': 1, 'neighbor,”': 1, 'sid.': 1, 'But': 1, 'plne,': 1, 'rgued': 1, 'would': 1, 'be': 1, 'vible': 1, 'out': 1, 'such': 1, 'pledge.': 1, 'bsolutely': 1, 'cvinced': 1, 'lting': 1, 'pece,': 1, 'ceefire,': 1, 'hppen': 1, 'gurntees,”': 1, 'ld': 1, 'reporters,': 1, 'ccording': 1, 'Reuters.': 1})\n"
          ]
        }
      ]
    },
    {
      "cell_type": "markdown",
      "source": [
        "- 정리\n",
        "    - 문자열 : 문자들의 집합 - 리슽\n",
        "    - 다양한 문자열 처리 함수\n",
        "    - 슬라이싱\n",
        "    - 인덱스\n",
        "    - 파일 입출력"
      ],
      "metadata": {
        "id": "ZRAapP6bIZ4l"
      }
    },
    {
      "cell_type": "code",
      "source": [
        "# 문자열은 상수취급 immutable\n",
        "\n",
        "str_1 = 'hello'\n",
        "str_2 = str_1\n",
        "str_2[0]='m'"
      ],
      "metadata": {
        "colab": {
          "base_uri": "https://localhost:8080/",
          "height": 182
        },
        "id": "JHJBuVdZIbQL",
        "outputId": "543b5a09-5121-4ade-cc10-fdec3a557d21"
      },
      "execution_count": null,
      "outputs": [
        {
          "output_type": "error",
          "ename": "TypeError",
          "evalue": "'str' object does not support item assignment",
          "traceback": [
            "\u001b[0;31m---------------------------------------------------------------------------\u001b[0m",
            "\u001b[0;31mTypeError\u001b[0m                                 Traceback (most recent call last)",
            "\u001b[0;32m<ipython-input-290-646dc99d2952>\u001b[0m in \u001b[0;36m<cell line: 0>\u001b[0;34m()\u001b[0m\n\u001b[1;32m      1\u001b[0m \u001b[0mstr_1\u001b[0m \u001b[0;34m=\u001b[0m \u001b[0;34m'hello'\u001b[0m   \u001b[0;31m# 문자열을 상수취급 immutable\u001b[0m\u001b[0;34m\u001b[0m\u001b[0;34m\u001b[0m\u001b[0m\n\u001b[1;32m      2\u001b[0m \u001b[0mstr_2\u001b[0m \u001b[0;34m=\u001b[0m \u001b[0mstr_1\u001b[0m\u001b[0;34m\u001b[0m\u001b[0;34m\u001b[0m\u001b[0m\n\u001b[0;32m----> 3\u001b[0;31m \u001b[0mstr_2\u001b[0m\u001b[0;34m[\u001b[0m\u001b[0;36m0\u001b[0m\u001b[0;34m]\u001b[0m\u001b[0;34m=\u001b[0m\u001b[0;34m'm'\u001b[0m\u001b[0;34m\u001b[0m\u001b[0;34m\u001b[0m\u001b[0m\n\u001b[0m",
            "\u001b[0;31mTypeError\u001b[0m: 'str' object does not support item assignment"
          ]
        }
      ]
    },
    {
      "cell_type": "code",
      "source": [
        "num1 = 100\n",
        "num2 = num1  # 100이라는 값을 num2에 저장한게 아니라 num1의 주소를 저장\n",
        "num2 = 111\n",
        "print(num1)\n",
        "\n",
        "# 리스트와 같이 집합성을 가지는 데이터는 값을 복사X\n",
        "str1 = list('hello')\n",
        "str2 = str1   # 얕은 복사\n",
        "str2[0] = 'H'\n",
        "print(str1)\n",
        "\n",
        "str1 = list('hello')\n",
        "str2 = str1.copy()   # str2 = str1[:]  깊은 복사\n",
        "str2[0] = 'H'\n",
        "print(str1)"
      ],
      "metadata": {
        "colab": {
          "base_uri": "https://localhost:8080/"
        },
        "id": "PkCY65JgJPGI",
        "outputId": "98986aea-047d-4001-d5ff-128b02c2eb74"
      },
      "execution_count": null,
      "outputs": [
        {
          "output_type": "stream",
          "name": "stdout",
          "text": [
            "100\n",
            "['H', 'e', 'l', 'l', 'o']\n",
            "['h', 'e', 'l', 'l', 'o']\n"
          ]
        }
      ]
    },
    {
      "cell_type": "code",
      "source": [
        "import copy\n",
        "list1 = [1, 2, 3]\n",
        "list2 = copy.deepcopy(list1)\n",
        "list2[0] = 100\n",
        "print(list1) # 출력: [1, 2, 3]\n"
      ],
      "metadata": {
        "colab": {
          "base_uri": "https://localhost:8080/"
        },
        "id": "ozQjcNZMJsUn",
        "outputId": "7a7a2e46-5000-49ad-d749-43753f90ac90"
      },
      "execution_count": null,
      "outputs": [
        {
          "output_type": "stream",
          "name": "stdout",
          "text": [
            "[1, 2, 3]\n"
          ]
        }
      ]
    },
    {
      "cell_type": "markdown",
      "source": [
        "조건문 : 조건에 따라 코드를 실행하는 하나의 명령문\n",
        "  - if\n",
        "  - if ~ else\n",
        "  - if ~ else ~ elif\n"
      ],
      "metadata": {
        "id": "73d1Z6J3SuOq"
      }
    },
    {
      "cell_type": "code",
      "source": [
        "if False:\n",
        "  print('합격입니다!')\n",
        "print('불학격입니다') # if가 false여서 if문 밖의 코드만 실행"
      ],
      "metadata": {
        "colab": {
          "base_uri": "https://localhost:8080/"
        },
        "id": "ecHZ19gLLZ2m",
        "outputId": "3c6bd3b3-e471-4bfc-dd91-3e257bb49f31"
      },
      "execution_count": null,
      "outputs": [
        {
          "output_type": "stream",
          "name": "stdout",
          "text": [
            "불학격입니다\n"
          ]
        }
      ]
    },
    {
      "cell_type": "code",
      "source": [
        "# True니까 위에만 출력\n",
        "if True:\n",
        "  print('합격입니다')\n",
        "  else:\n",
        "  print('불합격입니다')"
      ],
      "metadata": {
        "id": "RkLAZDxWTZ0T"
      },
      "execution_count": null,
      "outputs": []
    },
    {
      "cell_type": "code",
      "source": [
        "score= 85\n",
        "\n",
        "if score >= 90:\n",
        "  print('A')\n",
        "elif score >=80:\n",
        "  print('B')\n",
        "elif score >=70:\n",
        "  print('C')\n",
        "elif score >=60:\n",
        "  print('D')\n",
        "else:\n",
        "  print('F')"
      ],
      "metadata": {
        "colab": {
          "base_uri": "https://localhost:8080/"
        },
        "id": "s1MRvz30T9Kz",
        "outputId": "52b67ddc-59dd-4b60-e837-6597b106253b"
      },
      "execution_count": null,
      "outputs": [
        {
          "output_type": "stream",
          "name": "stdout",
          "text": [
            "B\n"
          ]
        }
      ]
    },
    {
      "cell_type": "code",
      "source": [
        "check1, check2, cheak3 = False, True, True\n",
        "if (check1 or check2) and (check1 and check2):\n",
        "  print('검사를 통과 했습니다.')"
      ],
      "metadata": {
        "id": "AjEQrocKVgik"
      },
      "execution_count": null,
      "outputs": []
    },
    {
      "cell_type": "code",
      "source": [
        "# 국 영 수 과목의 점수를 공백으로 이용해서 입력해주세요\n",
        "# 평균이 60 이상이면서 각 과목의 점수가 40점 이상일때만 합격이고 나머지는 불합격 --> 과락\n",
        "score = list(map(int,input(\"국 영 수 과목의 점수를 공백으로 이용해서 입력해주세요\").split()))\n",
        "score\n",
        "avg = sum(score)/3\n",
        "if (avg >= 60) and (score[0] >=40) and (score[1] >=40) and (score[2] >=40):\n",
        "  print(\"합격!!!\")\n",
        "else:\n",
        "  print(\"불합격!!!\")"
      ],
      "metadata": {
        "colab": {
          "base_uri": "https://localhost:8080/"
        },
        "id": "Es-SizU8WIpY",
        "outputId": "6ca7c04f-cba6-4fea-bf88-f45586356486"
      },
      "execution_count": null,
      "outputs": [
        {
          "output_type": "stream",
          "name": "stdout",
          "text": [
            "국 영 수 과목의 점수를 공백으로 이용해서 입력해주세요60 60 60\n",
            "합격!!!\n"
          ]
        }
      ]
    },
    {
      "cell_type": "markdown",
      "source": [
        "비교구문 < <= > >= == !="
      ],
      "metadata": {
        "id": "NKlKJeFndBz_"
      }
    },
    {
      "cell_type": "code",
      "source": [
        "a = 10\n",
        "b = a\n",
        "print(a == b)\n",
        "print(a != b)\n",
        "print(a > 10)\n",
        "print(a >= 10)\n",
        "print(a < 10)\n",
        "print(a <= 10)\n",
        "print(not (a<=0))   # 'a는 0보다 작거나 같다'를 부정한것 이므로 결과적으로 'a는 0보다 크다'가 된다\n",
        "print(not (a <= 0) and (b > 10))   # (a > 0) or (b <= 10) 와 같다"
      ],
      "metadata": {
        "colab": {
          "base_uri": "https://localhost:8080/"
        },
        "id": "AvFIdioSXfk2",
        "outputId": "a24ee171-d3c6-44af-fc68-30284e42a304"
      },
      "execution_count": null,
      "outputs": [
        {
          "output_type": "stream",
          "name": "stdout",
          "text": [
            "True\n",
            "False\n",
            "False\n",
            "True\n",
            "False\n",
            "True\n",
            "True\n"
          ]
        }
      ]
    },
    {
      "cell_type": "markdown",
      "source": [],
      "metadata": {
        "id": "uKDRZDrKfo1f"
      }
    },
    {
      "cell_type": "code",
      "source": [
        "'''\n",
        "율리우스력의 윤년 추가 규칙은 다음과 같다. 이에 따라 1년은 365.25일이 된다.\n",
        "4로 나누어 떨어지는 해는 윤년, 그 밖의 해는 평년으로 한다.\n",
        "(year % 4 ==0)\n",
        "\n",
        "그레고리력은 다음과 같은 예외 규칙을 추가하였다. 이에 따라 1년은 365.2425일이 된다.\n",
        "100으로 나누어 떨어지되 400으로 나누어 떨어지지 않는 해는 평년으로 한다.(즉 100의 배수 중 400의 배수면 윤년이고 아니면 평년. ex) 1600(윤), 1700(평), 1800(평), 1900(평), 2000(윤), 2100(평), ...)\n",
        "not((year % 100 == 0) or (year % 400 != 0))\n",
        "\n",
        "가령 400으로 나누어 떨어지는 2000년은 그레고리력으로 윤년이지만, 100으로는 나누어 떨어지되 400으로는 나누어 떨어지지 않는 1900년은 평년이다. 물론 율리우스력으로는 1900년이든 2000년이든 모두 윤년이다.\n",
        "\n",
        "현재 사실상 세계표준력으로 사용되는 그레고리력에 따라 논리적으로 정리해보면 {4의 배수에서 (100의 배수가 아닌 수) 또는 (400의 배수)}인 해가 윤년이 된다.\n",
        "'''\n",
        "\n",
        "print(15/2)   # 나누기 연산\n",
        "print(15//2)  # 몫\n",
        "print(15%2)   # 나머지 연산자\n",
        "\n",
        "year = int(input(\"년도를 입력하세요\"))\n",
        "if (year % 4 == 0) or (year & 100 != 0) and (year & 400 == 0):\n",
        "  print('윤년')\n",
        "else:\n",
        "  print('평년')"
      ],
      "metadata": {
        "colab": {
          "base_uri": "https://localhost:8080/"
        },
        "id": "VraOfex9YN-0",
        "outputId": "ce91d09d-4a5f-4497-bd83-ffdec96b1bdb"
      },
      "execution_count": null,
      "outputs": [
        {
          "output_type": "stream",
          "name": "stdout",
          "text": [
            "7.5\n",
            "7\n",
            "1\n",
            "년도를 입력하세요2020\n",
            "윤년\n"
          ]
        }
      ]
    },
    {
      "cell_type": "markdown",
      "source": [
        "숨겨진 출력 표시"
      ],
      "metadata": {
        "id": "zjVqLfHMixf3"
      }
    },
    {
      "cell_type": "code",
      "source": [
        "# 조건문\n",
        "  # 조건문:\n",
        "    #조건문 : 3 depth 넘어가는 경우는 다시 재고할것"
      ],
      "metadata": {
        "id": "TlxNa20XgRcp"
      },
      "execution_count": null,
      "outputs": []
    },
    {
      "cell_type": "code",
      "source": [
        "x = 10\n",
        "if x > 0 and x < 10:\n",
        "  print(\"0과 10 사이 값입니다.\")\n",
        "else:\n",
        "  print('0보다 작거나 같고 10 크거나 같다?')\n",
        "\n",
        "if 0 < x < 10:\n",
        "  print(\"0과 10 사이 값입니다.\")\n",
        "else:\n",
        "  print('0이상 10이하의 값입니다')"
      ],
      "metadata": {
        "colab": {
          "base_uri": "https://localhost:8080/"
        },
        "id": "MYyHMe7Oi9TI",
        "outputId": "7671a1d7-f501-4470-dc4d-e51624f32d1a"
      },
      "execution_count": null,
      "outputs": [
        {
          "output_type": "stream",
          "name": "stdout",
          "text": [
            "0보다 작거나 같고 10 크거나 같다?\n",
            "0이상 10이하의 값입니다\n"
          ]
        }
      ]
    },
    {
      "cell_type": "code",
      "source": [
        "# 나이를 입력 받아서\n",
        "# 20살 이상이면 성인\n",
        "# 14살 이상이면 청소년 (14~19)\n",
        "# 14미만 어린이\n",
        "\n",
        "# 입장료가 기본 20000\n",
        "# 성인 20000 출력\n",
        "# 청소년 할인은 20% 할인가격\n",
        "# 어린이 80% 할인가격 출력\n",
        "\n",
        "# 아래 같은 핵심 로직을 비지니스 로직이라 함\n",
        "price = 20000\n",
        "age = int(input(\"나이를 입력해 주세요\"))\n",
        "if age >= 20:\n",
        "  print(f\"성인 입장료 {price}원 입니다\")\n",
        "elif 14 <= age < 20:\n",
        "  price = int(price*0.8)\n",
        "  print(f\"청소년 입장료는 {price}원 입니다\")\n",
        "else:\n",
        "  price = int(price*0.2)\n",
        "  print(f\"어린이 입장료는 {price}원 입니다\")"
      ],
      "metadata": {
        "id": "b1ilF5mujL4G",
        "colab": {
          "base_uri": "https://localhost:8080/"
        },
        "outputId": "d7dc2f14-ed65-4bdf-da01-e0c5d1e7c739"
      },
      "execution_count": null,
      "outputs": [
        {
          "output_type": "stream",
          "name": "stdout",
          "text": [
            "나이를 입력해 주세요28\n",
            "성인 입장료 20000원 입니다\n"
          ]
        }
      ]
    },
    {
      "cell_type": "code",
      "source": [],
      "metadata": {
        "id": "jOSOZD-s3-e_"
      },
      "execution_count": null,
      "outputs": []
    }
  ]
}