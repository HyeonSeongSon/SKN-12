{
  "cells": [
    {
      "cell_type": "code",
      "execution_count": 9,
      "metadata": {
        "id": "GR98FXuWQagW"
      },
      "outputs": [],
      "source": [
        "# 기존에 만들어논 모듈\n",
        "import openai\n",
        "\n",
        "class Chatgpt:\n",
        "    def __init__(self, api_key: str, model_name: str = \"gpt-3.5-turbo\"):\n",
        "        self.messages = []\n",
        "        self.model_name = model_name\n",
        "        self.client = openai.OpenAI(api_key=api_key)\n",
        "\n",
        "    def system_prompt(self, prompt: str):\n",
        "        self.messages.append({\"role\": \"system\", \"content\": prompt})\n",
        "\n",
        "    def chatsession(self, prompt: str, temperature: float = 0.0, max_tokens: int = 1000, top_p: float = 1.0):\n",
        "        self.messages.append({\"role\": \"user\", \"content\": prompt})\n",
        "\n",
        "        response = self.client.chat.completions.create(\n",
        "            model=self.model_name,\n",
        "            messages=self.messages,\n",
        "            temperature=temperature,\n",
        "            max_tokens=max_tokens,\n",
        "            top_p=top_p\n",
        "        )\n",
        "\n",
        "        assistant_reply = response.choices[0].message.content\n",
        "        self.messages.append({\"role\": \"assistant\", \"content\": assistant_reply})\n",
        "        return assistant_reply\n",
        "\n",
        "    def get_chat_history(self):\n",
        "        return self.messages\n",
        "\n",
        "    def reset_chat(self):\n",
        "        self.messages = []"
      ]
    },
    {
      "cell_type": "code",
      "execution_count": null,
      "metadata": {
        "colab": {
          "base_uri": "https://localhost:8080/"
        },
        "id": "s15FCACkTcw3",
        "outputId": "117b3c8c-7eef-4aae-baf9-bce39befbe3e"
      },
      "outputs": [
        {
          "name": "stdout",
          "output_type": "stream",
          "text": [
            "네, 재무재표가 좋은 미국 기업 5개는 다음과 같습니다:\n",
            "\n",
            "1. Apple Inc. (AAPL)\n",
            "2. Microsoft Corporation (MSFT)\n",
            "3. Amazon.com Inc. (AMZN)\n",
            "4. Alphabet Inc. (GOOGL)\n",
            "5. Facebook, Inc. (FB)\n",
            "\n",
            "이 기업들은 재무적으로 안정적이며 성장 가능성이 높은 기업들 중 하나로 평가되고 있습니다.\n"
          ]
        }
      ],
      "source": [
        "api_key='api-key'\n",
        "client = Chatgpt(api_key)\n",
        "client.system_prompt('너는 위트 있는 AI비서 지피야')\n",
        "res = client.chatsession('현재 재무재표가 좋은 미국 기업 5개만 말해줘')\n",
        "print(res)"
      ]
    },
    {
      "cell_type": "code",
      "execution_count": 13,
      "metadata": {
        "colab": {
          "base_uri": "https://localhost:8080/"
        },
        "id": "pnt0tDJYT3la",
        "outputId": "a3e21b6b-8946-4cbf-e47b-d7d9c400340c"
      },
      "outputs": [
        {
          "data": {
            "text/plain": [
              "[{'role': 'system', 'content': '너는 위트 있는 AI비서 지피야'},\n",
              " {'role': 'user', 'content': '현재 재무재표가 좋은 미국 기업 5개만 말해줘'},\n",
              " {'role': 'assistant',\n",
              "  'content': '네, 재무재표가 좋은 미국 기업 5개는 다음과 같습니다:\\n\\n1. Apple Inc. (AAPL)\\n2. Microsoft Corporation (MSFT)\\n3. Amazon.com Inc. (AMZN)\\n4. Alphabet Inc. (GOOGL)\\n5. Facebook, Inc. (FB)\\n\\n이 기업들은 재무적으로 안정적이며 성장 가능성이 높은 기업들 중 하나로 평가되고 있습니다.'}]"
            ]
          },
          "execution_count": 13,
          "metadata": {},
          "output_type": "execute_result"
        }
      ],
      "source": [
        "client.get_chat_history()"
      ]
    },
    {
      "cell_type": "markdown",
      "metadata": {
        "id": "jVaXPzRtUca2"
      },
      "source": [
        "프롬프트 엔지니어링\n",
        "```\n",
        "맥락을 함께 주고 : 대상, 목적, 상황을 같이 설명\n",
        "예시포함(Few-shot) : 기대하는 결과물의 형태를 미리 보여준다\n",
        "단계별 사고 유도 : 단계별로 알려줘, 알기쉽게 설명해줘\n",
        "```"
      ]
    },
    {
      "cell_type": "markdown",
      "metadata": {
        "id": "Ib4pncrzUjiX"
      },
      "source": [
        "프롬프트 엔지니어링 + 파인튜닝\n",
        "```\n",
        "프롬프트 세심하게 작성\n",
        "oepnai 파인튜닝 api를 통해\n",
        "```"
      ]
    },
    {
      "cell_type": "markdown",
      "metadata": {
        "id": "T9tHx82jUl3k"
      },
      "source": [
        "외부정보 연동(Vector DB)\n",
        "```\n",
        "사용자가 입력-> 외부 문서 내용을 함께 제공(프롬프트기반)\n",
        "RAG 방식으로 VectorDB 연동\n",
        "```\n",
        "VectorDB\n",
        "```\n",
        "문서를 임베딩해서 검색할수 있는 데이터베이스\n",
        "대표적인 VectorDB : Chroma ,FAISS, 등\n",
        "```"
      ]
    },
    {
      "cell_type": "markdown",
      "metadata": {
        "id": "M87E7dKXf6iB"
      },
      "source": [
        "스트리밍\n",
        "```\n",
        "gpt의 응답을 바로 바로 확인 작성되는데로 순차적으로 확인\n",
        "```"
      ]
    },
    {
      "cell_type": "code",
      "execution_count": 19,
      "metadata": {
        "id": "DbDkjv4IbuAj"
      },
      "outputs": [],
      "source": [
        "import openai\n",
        "api_key = api_key\n",
        "client = openai.OpenAI(api_key=api_key)\n",
        "user_prompt = \"행복이란 무엇인가요? 철학적으로 설명해줘\"\n",
        "pre_prompt = \"한국어로 친절하고 자세하게 답변해줘 \\n\\n\"\n",
        "stream = client.chat.completions.create(\n",
        "    model=\"gpt-3.5-turbo\",\n",
        "    messages=[\n",
        "        {\"role\": \"system\", \"content\": \"너는 고상한 철학자야\"},\n",
        "        {\"role\": \"user\", \"content\": pre_prompt+user_prompt}\n",
        "    ],\n",
        "    stream=True,\n",
        "    temperature=0.6,  # 창의성 조절, 높은수록 창의적 낮을수록 결정적\n",
        "    top_p=1,  # (전체  학률 분포 1은 제한없음)\n",
        "    frequency_penalty=0,  # 같은 단어 반복시 감정 높을수록 반복 억제\n",
        "    presence_penalty=0,   # 주제반복 여부에 따른 감점, 높으면 새로운 주제로 유도\n",
        "    max_tokens = 2048\n",
        ")"
      ]
    },
    {
      "cell_type": "code",
      "execution_count": 20,
      "metadata": {
        "colab": {
          "base_uri": "https://localhost:8080/"
        },
        "id": "Z5mUxU5khzpA",
        "outputId": "0e56da4c-20c1-4ef7-ab9d-5e08ac6ef95a"
      },
      "outputs": [
        {
          "name": "stdout",
          "output_type": "stream",
          "text": [
            "행복이란 개인마다 다르게 해석되지만, 철학적으로는 다양한 관점에서 이해할 수 있습니다.\n",
            "\n",
            "일부 철학자들은 행복을 우리 내면의 정신적 상태나 내적 만족으로 정의합니다. 이런 관점에서 행복은 우리가 내면에서 느끼는 만족감과 평화로움을 의미합니다. 행복은 외부적인 조건이나 물질적인 풍족함에 의해 결정되는 것이 아니라, 내면적인 성찰과 깨달음을 통해 실현될 수 있다고 이야기합니다.\n",
            "\n",
            "또 다른 관점에서는 행복을 윤리적 측면에서 바라보는데, 이는 윤리학적 가치를 중심으로 행복을 이해합니다. 이 관점에서는 행복은 올바른 행동과 도덕적 가치를 실천하고 이를 통해 자아실현을 이루는 것으로 정의될 수 있습니다.\n",
            "\n",
            "마지막으로, 어떤 철학자들은 행복을 외부적인 조건과 환경에 의해 결정된다고 이해합니다. 이들은 행복을 물질적인 풍족함, 사회적 지위, 건강 등과 같은 외부적인 조건에 의해 결정되는 것으로 이해합니다.\n",
            "\n",
            "요약하자면, 행복은 각자의 성향과 가치관, 그리고 문화적, 사회적 배경에 따라 다양하게 해석될 수 있는 개념이며, 내면적인 만족감, 도덕적 가치, 혹은 외부적 조건에 따라 다양한 방식으로 이해될 수 있습니다."
          ]
        }
      ],
      "source": [
        "for chunk in stream:\n",
        "  if chunk.choices and chunk.choices[0].delta.content:\n",
        "    print(chunk.choices[0].delta.content, end='')"
      ]
    },
    {
      "cell_type": "markdown",
      "metadata": {
        "id": "pH8PRFSGis4U"
      },
      "source": [
        "이미지 생성\n",
        "```\n",
        "dall-e-3 생성형 모델 사용\n",
        "```"
      ]
    },
    {
      "cell_type": "code",
      "execution_count": null,
      "metadata": {
        "id": "MsDQzodyh47x"
      },
      "outputs": [],
      "source": [
        "client = openai.OpenAI()\n",
        "response = client.images.generate(\n",
        "    model=\"dall-e-3\",\n",
        "    prompt=\"귀여운 고양이사진\",\n",
        "    size=\"1024x1024\",\n",
        "    quality=\"standard\",\n",
        "    n=1,\n",
        ")\n",
        "response"
      ]
    },
    {
      "cell_type": "code",
      "execution_count": null,
      "metadata": {
        "id": "_DUWa6zvkNcb"
      },
      "outputs": [],
      "source": [
        "response.data[0].url"
      ]
    },
    {
      "cell_type": "markdown",
      "metadata": {
        "id": "t90nIDu5knpw"
      },
      "source": [
        "프롬프트\n",
        "```\n",
        "언어모델에 작업지시를내리를 일종의 명령문\n",
        "Let's think step by step -> 사고 유도형 프롬프트 사용\n",
        "  - 모델이 답을 도출하는 과정을 스스로 설명하면서 더 정확한 답을 도출한다\n",
        "  -실제 논문중에.. 정답률이 10프로대에서 ~ 70프로대로 상승했다는 논문이존재  \n",
        "```\n",
        "좋은 프롬프트를 작성요령\n",
        "```\n",
        "  Instruction : 목표 지시\n",
        "  Context : 맥락(어떤 상황인지)\n",
        "  Constraints : 제약조건( 어떤스타이일또는 언어로 출력)\n",
        "  Format : 출력형식\n",
        "  Examples : 예시 제공(Few-show 처럼 참고 예시를 포함)\n",
        "```"
      ]
    },
    {
      "cell_type": "code",
      "execution_count": 21,
      "metadata": {
        "colab": {
          "base_uri": "https://localhost:8080/"
        },
        "id": "p2k2qoTHl6Ro",
        "outputId": "9ed9bcb2-ec0a-4f74-ae25-796da1081e36"
      },
      "outputs": [
        {
          "name": "stdout",
          "output_type": "stream",
          "text": [
            "수도권 당일 여행을 즐기기에는 다양한 관광 명소와 맛집이 있어요! 아래는 추천해드리는 수도권 당일 여행코스 예시입니다:\n",
            "\n",
            "1. 아침 - 경복궁\n",
            "- 아침 일찍 경복궁에 방문하여 조용한 한국 전통의 아름다움을 감상해보세요.\n",
            "\n",
            "2. 점심 - 인사동\n",
            "- 경복궁에서 걸어서 인사동으로 이동하여 전통적인 한식뷔페나 맛있는 분식을 즐기세요.\n",
            "\n",
            "3. 오후 - 홍대\n",
            "- 인사동에서 홍대로 이동하여 예술적인 분위기를 즐기며 빈티지 상점이나 예술작품을 감상하세요.\n",
            "\n",
            "4. 저녁 - 강남\n",
            "- 홍대에서 강남으로 이동하여 세계적인 쇼핑 명소나 다양한 레스토랑에서 맛있는 저녁을 즐기세요.\n",
            "\n",
            "5. 야간 - 한강\n",
            "- 저녁 이후에는 한강으로 이동하여 야경을 감상하거나 자전거 타기 등 야외활동을 즐겨보세요.\n",
            "\n",
            "이렇게 다양한 명소와 맛집을 방문하면서 수도권의 매력을 느끼실 수 있을거에요. 즐거운 여행되세요!\n"
          ]
        }
      ],
      "source": [
        "# Zero shot\n",
        "prompt = '수도권 당일 여행코스 추천해줘'\n",
        "result = client.chat.completions.create(\n",
        "    model=\"gpt-3.5-turbo\",\n",
        "    messages=[\n",
        "        {\"role\": \"system\", \"content\": \"너는 여행스케줄 작성을 하는 전문가\"},\n",
        "        {\"role\": \"user\", \"content\": prompt}\n",
        "    ])\n",
        "print(result.choices[0].message.content)"
      ]
    },
    {
      "cell_type": "code",
      "execution_count": 22,
      "metadata": {
        "colab": {
          "base_uri": "https://localhost:8080/"
        },
        "id": "RC8gZc3om-Ap",
        "outputId": "2c44bb3c-8d06-4362-c235-1eaa2650a9e0"
      },
      "outputs": [
        {
          "name": "stdout",
          "output_type": "stream",
          "text": [
            "강남역에서 맛집투어를 시작하여 시티투어 버스를 타고 도시 야경을 감상하는 여행스케줄을 추천해드리겠습니다.\n",
            "\n",
            "1. 아침: 강남역 인근에서 간단한 아침식사를 즐기며 하루를 시작합니다. 인근에는 다양한 카페나 브런치 맛집들이 있어요. \n",
            "\n",
            "2. 10:00 - 13:00: 맛집투어를 시작합니다. 강남역 주변에는 유명한 맛집들이 많이 있으니 맛있는 음식을 즐기며 조금씩 골목길을 탐험해보세요.\n",
            "\n",
            "3. 13:00 - 14:00: 점심식사 후, 강남역에서 시티투어 버스를 탑승합니다. 시티투어 버스는 서울의 주요 관광지를 한번에 돌아다니면서 편리하게 관광할 수 있는 좋은 방법이에요.\n",
            "\n",
            "4. 14:00 - 17:00: 시티투어 버스를 타고 서울의 주요 관광지를 순회합니다. 강남역에서 출발하여 남산타워, 광화문, 경복궁, 인사동 등을 방문하며 서울의 아름다운 풍경을 감상하세요.\n",
            "\n",
            "5. 17:00 - 19:00: 시티투어를 마치고 도로명에 위치한 레스토랑에서 저녁식사를 즐기며 하루를 마무리합니다. 도시의 야경을 배경으로 먹는 저녁식사는 더없이 멋진 경험이 될거에요!\n",
            "\n",
            "이렇게 맛집투어와 시티투어를 조합한 일정으로 강남역에서 특별한 여행을 즐길 수 있을 것입니다. 즐거운 여행 되세요!\n"
          ]
        }
      ],
      "source": [
        "# One shot\n",
        "prompt = '강남역에서 맛집투어를 하고 시티투어 버스를타고 도시 야경을 보는 것처럼 여행스케줄 추천해줘'\n",
        "result = client.chat.completions.create(\n",
        "    model=\"gpt-3.5-turbo\",\n",
        "    messages=[\n",
        "        {\"role\": \"system\", \"content\": \"너는 여행스케줄 작성을 하는 전문가\"},\n",
        "        {\"role\": \"user\", \"content\": prompt}\n",
        "    ])\n",
        "print(result.choices[0].message.content)"
      ]
    },
    {
      "cell_type": "code",
      "execution_count": 23,
      "metadata": {
        "colab": {
          "base_uri": "https://localhost:8080/"
        },
        "id": "Q4lj69HTnHQ0",
        "outputId": "1a8c93ec-1fa8-4888-bda7-7ac97b724fd0"
      },
      "outputs": [
        {
          "name": "stdout",
          "output_type": "stream",
          "text": [
            "강남역 맛집투어 및 도시 야경 감상 코스:\n",
            "\n",
            "1. 강남역 출발\n",
            "2. 아침 식사 - 신사동 감자탕\n",
            "3. 둘째 식사 - 한정식집 '강남명인'\n",
            "4. 세번째 식사 - 가로수길의 유명 떡볶이 가게 '떡볶이와 치즈'\n",
            "5. 쇼핑 - 가로수길 쇼핑\n",
            "6. 오후 티타임 - '티파니아' 커피전문점\n",
            "7. 시티투어 버스 탑승\n",
            "8. 도시 야경 감상 - 한강 유람선 탑승 또는 남산 타워 관람\n",
            "\n",
            "부산 오뎅과 광어회 맛집투어:\n",
            "\n",
            "1. 부산역 출발\n",
            "2. 아침 식사 - 온천장 게장\n",
            "3. 둘째 식사 - 부산 오뎅 전문점 '명선오뎅'\n",
            "4. 세번째 식사 - 자갈치시장의 광어회 전문점 '광어신시장'\n",
            "5. 쇼핑 - 부산 자갈치시장 구경\n",
            "6. 오후 티타임 - 부산 국제시장의 '딩동 홀 인 더 왈'\n",
            "7. 저녁 식사 - 해운대 해수욕장 인근의 바다마을에서 해산물 요리 즐기기\n",
            "\n",
            "이러한 코스를 따라 여행하면 두 도시의 매력적인 맛과 경관을 즐기며 즐거운 추억을 만들 수 있을 것입니다. 여행을 즐기세요!\n"
          ]
        }
      ],
      "source": [
        "# Few shot\n",
        "prompt = '강남역에서 맛집투어를 하고 시티투어 버스를타고 도시 야경을 보는 코스, 부산에서 오뎅을 먹고 자갈치 시장에서 광어회 먹는 것처럼 맛집투어 만들어줘'\n",
        "result = client.chat.completions.create(\n",
        "    model=\"gpt-3.5-turbo\",\n",
        "    messages=[\n",
        "        {\"role\": \"system\", \"content\": \"너는 여행스케줄 작성을 하는 전문가\"},\n",
        "        {\"role\": \"user\", \"content\": prompt}\n",
        "    ])\n",
        "print(result.choices[0].message.content)"
      ]
    },
    {
      "cell_type": "markdown",
      "metadata": {
        "id": "p-BK3WSln3Gg"
      },
      "source": [
        "Cot\n",
        "  - Chain of Thought : 모델이 스스로 사고과정을 구성\n",
        "    - 단계적으로 생각(알려줘)해줘\n",
        "    - 왜 그렇게 되는지 논리적으로 설명해줘\n",
        "ReAct(Resoning + Action)\n",
        "  - 모델이 생각과 행동을 번갈아 가면서 수행하게 유도\n",
        "    - ~~~ 가 왜 그런지 자세하게 설명하면서 단계적으로 풀이해줘\n",
        "Self-Ask : 질문 분해 전략\n",
        "  - 이게 왜 이렇게 되는지 단계적으로 알려줘(단계적으로 설명해봐)\n",
        "Multi-turn\n",
        "  - 역활을 나누고 대화를 쌓아가면서 맥락을 유지\n",
        "  - 가상 assistnat 와 user의 역활을 구성          \n"
      ]
    },
    {
      "cell_type": "markdown",
      "metadata": {
        "id": "dFAUixd6t8Da"
      },
      "source": [
        "파인튜닝 : 미세조정\n",
        "  - gpt모델은 방대한양의 텍스트에 대해서 사전 학습\n",
        "  - 효과적으로 사용하려면 원하는 도메인 데이터에 대해서 재 학습을해서 해당 도메인에 대한 좀 더 강력한 모델을 만드는 것\n",
        "  \n",
        "프롬프트 체인 : 복잡한 작업을 여러 프롬프트로 나눈다"
      ]
    },
    {
      "cell_type": "markdown",
      "metadata": {
        "id": "yOjhsm5H0QRB"
      },
      "source": [
        "아래와 같은 형식으로 확장자를 filename.jsonl"
      ]
    },
    {
      "cell_type": "code",
      "execution_count": 33,
      "metadata": {
        "id": "7Y105AsonemH"
      },
      "outputs": [],
      "source": [
        "import pandas as pd\n",
        "import json\n",
        "data = {\n",
        "    'system' : ['너는 친절한 AI','너는 친절한 AI'],\n",
        "    'user' : ['오늘 날씨 어때','파이썬으로 크롤링해줘'],\n",
        "    'assistant' : ['오늘은 맑고 기온은 20도 입니다.','BeautifulSoup를 사용할 수 있습니다.']\n",
        "}\n",
        "df = pd.DataFrame(data)\n",
        "# jsonl로 변환\n",
        "with open(\"mydata.jsonl\",'w',encoding='utf-8') as f:\n",
        "  for _, row in df.iterrows():\n",
        "      messages = [\n",
        "          {\"role\": \"system\", \"content\": row['system']},\n",
        "          {\"role\": \"user\", \"content\": row['user']},\n",
        "          {\"role\": \"assistant\", \"content\": row['assistant']}\n",
        "      ]\n",
        "      json.dump({\"messages\" : messages}, f, ensure_ascii=False)\n",
        "      f.write('\\n')"
      ]
    },
    {
      "cell_type": "markdown",
      "metadata": {
        "id": "n9_VuDvUO_zB"
      },
      "source": [
        "파인튜닝 모델 만들기"
      ]
    },
    {
      "cell_type": "code",
      "execution_count": 36,
      "metadata": {
        "id": "607ji6_T0tOp"
      },
      "outputs": [],
      "source": [
        "from openai import OpenAI\n",
        "\n",
        "api_key = api_key\n",
        "client = OpenAI(api_key=api_key)\n",
        "# 데이터 업로드\n",
        "with open(\"mydata.jsonl\", \"rb\") as f:\n",
        "  file_response = client.files.create(file=f, purpose='fine-tune')\n",
        "file_id = file_response.id\n",
        "# 파인튜닝\n",
        "fine_tune_response =  client.fine_tuning.jobs.create(\n",
        "  training_file=file_id,\n",
        "  model=\"gpt-3.5-turbo\"\n",
        ")\n",
        "fine_tune_id = fine_tune_response.id"
      ]
    },
    {
      "cell_type": "code",
      "execution_count": 49,
      "metadata": {
        "colab": {
          "base_uri": "https://localhost:8080/"
        },
        "id": "TNiyhVUJPcld",
        "outputId": "9fc190af-3658-48e5-862a-6a467f47b0ce"
      },
      "outputs": [
        {
          "name": "stdout",
          "output_type": "stream",
          "text": [
            "succeeded\n"
          ]
        }
      ],
      "source": [
        "# 상태 확인\n",
        "status = client.fine_tuning.jobs.retrieve(fine_tune_id)\n",
        "print(status.status)   # pendding, running, successed"
      ]
    },
    {
      "cell_type": "code",
      "execution_count": 50,
      "metadata": {
        "colab": {
          "base_uri": "https://localhost:8080/"
        },
        "id": "b1e6ITuvQzW0",
        "outputId": "eed3b8be-01e7-4680-e961-7463a29ff02d"
      },
      "outputs": [
        {
          "data": {
            "text/plain": [
              "('file-XoTkao9sgfoPhrm6n1xaz2',\n",
              " 'ftjob-eqnJmX6FDkJkxwfl0Ou8qIva',\n",
              " 'ft:gpt-3.5-turbo-0125:personal::BURtkSoM')"
            ]
          },
          "execution_count": 50,
          "metadata": {},
          "output_type": "execute_result"
        }
      ],
      "source": [
        "file_id, fine_tune_id, status.fine_tuned_model"
      ]
    },
    {
      "cell_type": "code",
      "execution_count": 53,
      "metadata": {
        "colab": {
          "base_uri": "https://localhost:8080/"
        },
        "id": "nML4_z6GRYSN",
        "outputId": "0f02d780-db53-495f-e0a5-6183c14cb344"
      },
      "outputs": [
        {
          "name": "stdout",
          "output_type": "stream",
          "text": [
            "2021년 9월 기준 대한민국의 인구수는 약 5천150만 명입니다.\n"
          ]
        }
      ],
      "source": [
        "prompt = '대한민국의 현재 인구수 알려주세요'\n",
        "result = client.chat.completions.create(\n",
        "    model=status.fine_tuned_model,\n",
        "    messages=[\n",
        "        {\"role\": \"system\", \"content\": \"너는 QA 전문가\"},\n",
        "        {\"role\": \"user\", \"content\": prompt}\n",
        "    ])\n",
        "print(result.choices[0].message.content)"
      ]
    },
    {
      "cell_type": "markdown",
      "metadata": {
        "id": "uCfhif1ZWnC4"
      },
      "source": [
        "1. fine-tuning 데이터\n",
        "  - QA데이터 업로드\n",
        "  - fine tuning 학습\n",
        "  - 학습 모델을 로드해서 실"
      ]
    },
    {
      "cell_type": "markdown",
      "metadata": {
        "id": "a1N7_VjmXxBT"
      },
      "source": [
        "# 파일 업로드"
      ]
    },
    {
      "cell_type": "code",
      "execution_count": 65,
      "metadata": {
        "id": "mg5V3KtZakgQ"
      },
      "outputs": [],
      "source": [
        "df = pd.read_csv('/content/kia_faq_df.csv')\n",
        "\n",
        "with open('/content/kia_faq_data.jsonl', 'w', encoding='utf-8') as f:\n",
        "    for _, row in df.iterrows():\n",
        "        messages = [\n",
        "            {\"role\": \"system\", \"content\": \"당신은 기아 QA답변 AI입니다\"},\n",
        "            {\"role\": \"user\", \"content\": row['kia_question']},\n",
        "            {\"role\": \"assistant\", \"content\": row['kia_answer']}\n",
        "        ]\n",
        "        json.dump({\"messages\": messages}, f, ensure_ascii=False)\n",
        "        f.write('\\n')"
      ]
    },
    {
      "cell_type": "code",
      "execution_count": 66,
      "metadata": {
        "colab": {
          "base_uri": "https://localhost:8080/"
        },
        "id": "QyWLXUzOSOO5",
        "outputId": "dc772471-1421-469f-bac4-dc04ddea6ab9"
      },
      "outputs": [
        {
          "name": "stdout",
          "output_type": "stream",
          "text": [
            "업로드 파일 아이디 : file-KSktgaJrMuNwUdNRSErb7p\n"
          ]
        }
      ],
      "source": [
        "from openai import OpenAI\n",
        "# openai key 입력\n",
        "api_key = api_key\n",
        "# 데이터 업로드\n",
        "with open(\"kia_faq_data.jsonl\", \"rb\") as f:\n",
        "  file_response = client.files.create(file=f, purpose='fine-tune')\n",
        "file_id = file_response.id\n",
        "print(f'업로드 파일 아이디 : {file_id}')"
      ]
    },
    {
      "cell_type": "markdown",
      "metadata": {
        "id": "DPdwVLONX6Be"
      },
      "source": [
        "# 업로드된 파일을 파인튜닝"
      ]
    },
    {
      "cell_type": "code",
      "execution_count": 67,
      "metadata": {
        "colab": {
          "base_uri": "https://localhost:8080/"
        },
        "id": "7FElIOo2X6Vd",
        "outputId": "339ac8e6-0b07-4489-aa01-08a3dd51bcea"
      },
      "outputs": [
        {
          "name": "stdout",
          "output_type": "stream",
          "text": [
            "파인튜닝 아이디 : ftjob-1jNjwVPdYk2emLJWuf7fS5RN\n"
          ]
        }
      ],
      "source": [
        "# 파인튜닝\n",
        "fine_tune_response =  client.fine_tuning.jobs.create(\n",
        "  training_file=file_id,\n",
        "  model=\"gpt-3.5-turbo\",\n",
        "  hyperparameters={\n",
        "      'n_epochs' : 1,\n",
        "      'learning_rate_multiplier' : 0.1,  # 기본학습률(1e-3  0.001)에 0.1을 곱한다.  학습률 배수\n",
        "      'batch_size': 1\n",
        "  }\n",
        ")\n",
        "fine_tune_id = fine_tune_response.id\n",
        "print(f'파인튜닝 아이디 : {fine_tune_id}')"
      ]
    },
    {
      "cell_type": "markdown",
      "metadata": {
        "id": "iCU9OM-qYBY0"
      },
      "source": [
        "# 상태 확인"
      ]
    },
    {
      "cell_type": "code",
      "execution_count": 75,
      "metadata": {
        "colab": {
          "base_uri": "https://localhost:8080/"
        },
        "id": "5khi0cavYDO6",
        "outputId": "5ebe55dd-f465-4237-fa28-690cee56e41b"
      },
      "outputs": [
        {
          "name": "stdout",
          "output_type": "stream",
          "text": [
            "succeeded\n"
          ]
        }
      ],
      "source": [
        "#상태확인\n",
        "status = client.fine_tuning.jobs.retrieve(fine_tune_id)\n",
        "print(status.status)  # pendding, running, successed"
      ]
    },
    {
      "cell_type": "markdown",
      "metadata": {
        "id": "7AsSfxQ-YcGB"
      },
      "source": [
        "# 파인튜닝된 모델 확인 및 로드"
      ]
    },
    {
      "cell_type": "code",
      "execution_count": 76,
      "metadata": {
        "colab": {
          "base_uri": "https://localhost:8080/"
        },
        "id": "oFuwR4rJYaea",
        "outputId": "508e02d3-682f-49f6-f67a-6d07a4a9fba5"
      },
      "outputs": [
        {
          "name": "stdout",
          "output_type": "stream",
          "text": [
            "파인튜닝된 모델 : ft:gpt-3.5-turbo-0125:personal::BUSiW15V\n"
          ]
        }
      ],
      "source": [
        "print(f'파인튜닝된 모델 : {status.fine_tuned_model}')"
      ]
    },
    {
      "cell_type": "code",
      "execution_count": 78,
      "metadata": {
        "colab": {
          "base_uri": "https://localhost:8080/"
        },
        "id": "GhfmNeSfYmzs",
        "outputId": "ab086638-a8f0-4827-94ca-6bcf0f8bb8ef"
      },
      "outputs": [
        {
          "name": "stdout",
          "output_type": "stream",
          "text": [
            "MyKia는 기아 자동차 소유자를 위한 온라인 서비스 플랫폼입니다. 이 서비스를 통해 고객은 자신의 차량 정보를 확인하고 관리할 수 있으며, 서비스 예약, 긴급 상황 도움 및 지원, 사양서비스 및 액세서리 제공 등 다양한 기능을 이용할 수 있습니다. 또한 MyKia 앱을 통해 소프트웨어 업데이트, 차량 상태 모니터링 등의 기능도 제공됩니다.\n"
          ]
        }
      ],
      "source": [
        "prompt = 'MyKia는 어떤 서비스임?'\n",
        "result = client.chat.completions.create(\n",
        "    model=status.fine_tuned_model,\n",
        "    messages=[\n",
        "        {\"role\": \"system\", \"content\": \"너는 기아 QA AI야\"},\n",
        "        {\"role\": \"user\", \"content\": prompt}\n",
        "    ])\n",
        "print(result.choices[0].message.content)"
      ]
    },
    {
      "cell_type": "code",
      "execution_count": 79,
      "metadata": {
        "colab": {
          "base_uri": "https://localhost:8080/"
        },
        "id": "AHsDkyjEdhtR",
        "outputId": "548fef07-529c-40b4-f241-9d6fe58f1028"
      },
      "outputs": [
        {
          "name": "stdout",
          "output_type": "stream",
          "text": [
            "스마트 드라이브 케어는 자동차 운전 중 발생할 수 있는 위험 상황을 감지하고 운전자에게 경고를 주는 시스템입니다. 일반적인 스마트 드라이브 케어 시스템은 차선 이탈 경보, 충돌 경보, 차간 거리 유지 경보 및 운전자 주의 집중력 감지 등 다양한 안전 기능을 포함하고 있습니다. 이를 통해 운전 중 안전을 유지하고 사고 예방에 도움을 주는 기능을 제공합니다.\n"
          ]
        }
      ],
      "source": [
        "prompt = '스마트 드라이브 케어가 뭐야?'\n",
        "result = client.chat.completions.create(\n",
        "    model=status.fine_tuned_model,\n",
        "    messages=[\n",
        "        {\"role\": \"system\", \"content\": \"너는 기아 QA AI야\"},\n",
        "        {\"role\": \"user\", \"content\": prompt}\n",
        "    ])\n",
        "print(result.choices[0].message.content)"
      ]
    },
    {
      "cell_type": "code",
      "execution_count": null,
      "metadata": {
        "id": "k8IcSxDi3dER"
      },
      "outputs": [],
      "source": []
    }
  ],
  "metadata": {
    "colab": {
      "provenance": []
    },
    "kernelspec": {
      "display_name": "Python 3",
      "name": "python3"
    },
    "language_info": {
      "name": "python"
    }
  },
  "nbformat": 4,
  "nbformat_minor": 0
}
