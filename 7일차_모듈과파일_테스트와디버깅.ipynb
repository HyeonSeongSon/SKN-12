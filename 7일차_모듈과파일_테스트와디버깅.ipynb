{
  "cells": [
    {
      "cell_type": "markdown",
      "metadata": {
        "id": "lVgs-tYL_dnw"
      },
      "source": [
        "```\n",
        "모듈\n",
        "  파이썬 코드를 가지고 있는 .py파일\n",
        "  재사용 가능한 함수, 클래스,변수를 포함\n",
        "  import로 다른 파일의 코드를 가져와서 사용\n",
        "```\n",
        "\n"
      ]
    },
    {
      "cell_type": "code",
      "execution_count": null,
      "metadata": {
        "colab": {
          "base_uri": "https://localhost:8080/"
        },
        "id": "SgJLNnY3DyWp",
        "outputId": "f0e9db89-be6a-41d8-db1b-1be1156fc283"
      },
      "outputs": [
        {
          "data": {
            "text/plain": [
              "62"
            ]
          },
          "execution_count": 1,
          "metadata": {},
          "output_type": "execute_result"
        }
      ],
      "source": [
        "# 모듈의 사용 예\n",
        "import random\n",
        "random.randint(1,101)"
      ]
    },
    {
      "cell_type": "code",
      "execution_count": null,
      "metadata": {
        "id": "BK9S_fudDBFm"
      },
      "outputs": [],
      "source": [
        "# 코랩에서 드라이브에서 파일을 불러올려면 모듈경로를 python 경로에 추가\n",
        "import sys\n",
        "sys.path.append('/content/drive/MyDrive/module/')"
      ]
    },
    {
      "cell_type": "code",
      "execution_count": null,
      "metadata": {
        "colab": {
          "base_uri": "https://localhost:8080/"
        },
        "id": "96mVQDDfBIcZ",
        "outputId": "9b198c58-7cd1-4d9d-89c1-40226a253d63"
      },
      "outputs": [
        {
          "data": {
            "text/plain": [
              "200"
            ]
          },
          "execution_count": 11,
          "metadata": {},
          "output_type": "execute_result"
        }
      ],
      "source": [
        "from myModule import calculator\n",
        "c = calculator()\n",
        "c.calculator(10,20,'*')"
      ]
    },
    {
      "cell_type": "code",
      "execution_count": null,
      "metadata": {
        "id": "g2_x1WHdH6mS"
      },
      "outputs": [],
      "source": [
        "# 학생관리 프로그램을 파일로 작성\n",
        "# 이름과 나이 점수\n",
        "# 평균을 반환하는 메소드\n",
        "# 객체를 출력할때 발생하는 callback을 재 정의\n",
        "# 구글 드라이브에 Student.py로 저장\n",
        "\n",
        "# class Student:\n",
        "#   def __init__(self, name:str, age:int, scores:dict):\n",
        "#     self.name = name\n",
        "#     self.age = age\n",
        "#     self.scores = scores\n",
        "\n",
        "#   def get_average(self) -> float:\n",
        "#     return sum(self.scores.values())/len(self.scores)\n",
        "\n",
        "#   def __str__(self) -> str:\n",
        "#     return f'{self.name}, {self.age}, {self.scores}'\n",
        "\n",
        "# s1 = Student('홍길동',20, {'kor':94, 'eng': 89})\n",
        "# print(s1)\n",
        "# print(s1.get_average())"
      ]
    },
    {
      "cell_type": "code",
      "execution_count": null,
      "metadata": {
        "colab": {
          "base_uri": "https://localhost:8080/"
        },
        "id": "QweU_mIwK1z7",
        "outputId": "3f00ca02-1fa3-4fc1-8316-f39bf090ef21"
      },
      "outputs": [
        {
          "name": "stdout",
          "output_type": "stream",
          "text": [
            "홍길동, 20, {'kor': 100, 'eng': 98, 'math': 95}\n"
          ]
        }
      ],
      "source": [
        "from Student import Student\n",
        "s1 = Student('홍길동',20, {'kor':100, 'eng':98 , 'math':95})\n",
        "print(s1)"
      ]
    },
    {
      "cell_type": "code",
      "execution_count": null,
      "metadata": {
        "id": "-Qb-7F_gOSo2"
      },
      "outputs": [],
      "source": [
        "class Student:\n",
        "  def __init__(self, name:str, age:int, scores:dict):\n",
        "    self.name = name\n",
        "    self.age = age\n",
        "    self.scores = scores\n",
        "\n",
        "  def get_average(self) -> float:\n",
        "    return sum(self.scores.values())/len(self.scores)\n",
        "\n",
        "  def __str__(self) -> str:\n",
        "    return f'{self.name}, {self.age}, {self.scores}'\n",
        "\n",
        "  # 저장을 위해서 데이터를 dict 구조로 만듦 = json형태\n",
        "  def to_dict(self):\n",
        "    return {'name':self.name, 'age':self.age, 'scores':self.scores}\n",
        "\n",
        "  @classmethod\n",
        "  def from_dict(cls, data):\n",
        "    return cls(data['name'], data['age'], data['score'])"
      ]
    },
    {
      "cell_type": "markdown",
      "metadata": {
        "id": "0rbAK4l5Lvj3"
      },
      "source": [
        "# Student.py에 파일저장을 위해 dict 구조 생성및 변환기능 추가\n",
        "  - 데이터 파일에 저장하고 불러오기"
      ]
    },
    {
      "cell_type": "markdown",
      "metadata": {
        "id": "ZV45MtD8Pfn8"
      },
      "source": [
        "\n",
        "\n",
        "```\n",
        "class Student:\n",
        "  def __init__(self, name:str, age:int, scores:dict):\n",
        "    self.name = name\n",
        "    self.age = age\n",
        "    self.scores = scores\n",
        "\n",
        "  def get_average(self) -> float:\n",
        "    return sum(self.scores.values())/len(self.scores)\n",
        "\n",
        "  def __str__(self) -> str:\n",
        "    return f'{self.name}, {self.age}, {self.scores}'\n",
        "\n",
        "  # 저장을 위해서 데이터를 dict 구조로 만듦 = json형태\n",
        "  def to_dict(self):\n",
        "    return {'name':self.name, 'age':self.age, 'scores':self.scores}\n",
        "\n",
        "  # 학생객체 생성... 그 객체의 to_dict을 이용해서 데이터 만들었다\n",
        "  #  그걸 파일에 저장\n",
        "\n",
        "  # 지정된 정보를 가져와서 해당 정보에 맞는 객체를 생성\n",
        "\n",
        "  @classmethod   # 1. 클래스 변수를 다루기 위해서 만들지만,\n",
        "  def from_dict(cls, data):   # 2. 객체를 통하지 않아도 되는 메소드는 클래스메소드로 만들어도 좋음\n",
        "    return cls(data['name'], data['age'], data['scores'])\n",
        "```\n",
        "\n"
      ]
    },
    {
      "cell_type": "code",
      "execution_count": null,
      "metadata": {
        "colab": {
          "base_uri": "https://localhost:8080/"
        },
        "id": "63y46xijLLtE",
        "outputId": "f09b22c8-557c-440b-fc61-64d088c88df7"
      },
      "outputs": [
        {
          "name": "stdout",
          "output_type": "stream",
          "text": [
            "홍길동, 20, {'kor': 100, 'eng': 98, 'maht': 95}\n",
            "이순신, 25, {'kor': 90, 'eng': 94, 'maht': 98}\n"
          ]
        }
      ],
      "source": [
        "# 파일 생성 및 불러오기\n",
        "# import json -> 문자열 형태의 dict 구조를 실제 dict로 변환\n",
        "import sys\n",
        "sys.path.append('/content/drive/MyDrive/module/')   # 드라이브 경로를 시스템 paht에 저장\n",
        "\n",
        "import json   # 딕셔너리 형태의 객체를 문자열로 저장하고 다시 객체로 만듦\n",
        "from Student import Student   # 우리가 만든 student.py의 내용을 가져옮\n",
        "\n",
        "# 학생객체를 파일에 저장 함수\n",
        "# students = [s1,s2,.....]\n",
        "# 객체의 모든 데이터를 딕셔너리로 변환한 후 json을 이용해서 문자열형태로 파일에 저장\n",
        "def save_students(Student, filename = '/content/drive/MyDrive/data/student.json'):\n",
        "  data = [student.to_dict() for student in students]\n",
        "  with open(filename,'w',encoding='utf-8') as f:\n",
        "    json.dump(data,f,ensure_ascii=False, indent = 2)  # ensure_ascii = 한글깨짐 방지, indent = 들여쓰기 칸수\n",
        "\n",
        "# jsom형태(문자열로 된 dict)된 문자열을 읽어서 실제 객체로 반환 --> 리스트\n",
        "def load_students(filename = '/content/drive/MyDrive/data/student.json'):\n",
        "  with open(filename,'r',encoding='utf-8') as f:\n",
        "    data = json.load(f)\n",
        "  return [Student.from_dict(student) for student in data]\n",
        "\n",
        "# 사용\n",
        "s1 = Student('홍길동', 20, {'kor': 100,'eng':98, 'maht':95})\n",
        "s2 = Student('이순신', 25, {'kor': 90,'eng':94, 'maht':98})\n",
        "students = [s1,s2]\n",
        "save_students(students)   # 객체 데이터를 파일로 저장\n",
        "\n",
        "# 불러오기\n",
        "loaded_student = load_students()\n",
        "for student in loaded_student:\n",
        "  print(student)"
      ]
    },
    {
      "cell_type": "code",
      "execution_count": null,
      "metadata": {
        "colab": {
          "base_uri": "https://localhost:8080/"
        },
        "id": "Q-t3UfQyREq2",
        "outputId": "fbdec314-b1f0-4302-8184-fe985618a9bb"
      },
      "outputs": [
        {
          "name": "stdout",
          "output_type": "stream",
          "text": [
            "[{'name': '홍길동', 'age': 20, 'scores': {'kor': 100, 'eng': 98, 'maht': 95}}, {'name': '이순신', 'age': 25, 'scores': {'kor': 90, 'eng': 94, 'maht': 98}}]\n",
            "<class 'list'>\n"
          ]
        }
      ],
      "source": [
        "with open('student.json','r',encoding='utf-8') as f:\n",
        "  data = json.load(f)\n",
        "print(data)\n",
        "print(type(data))"
      ]
    },
    {
      "cell_type": "markdown",
      "metadata": {
        "id": "udvBmFccbHfN"
      },
      "source": [
        "# 저장 및 불러오기 기능을 모듈화 storage.py"
      ]
    },
    {
      "cell_type": "code",
      "execution_count": null,
      "metadata": {
        "id": "zxT11WyLTSFF"
      },
      "outputs": [],
      "source": [
        "import sys\n",
        "sys.path.append('/content/drive/MyDrive/module/')\n",
        "from Student import Student\n",
        "from Storage import save_students, load_students\n",
        "\n",
        "students = [\n",
        "    Student('홍길동', 20, {'kor': 100,'eng':98, 'maht':95}),\n",
        "Student('이순신', 25, {'kor': 90,'eng':94, 'maht':78}),\n",
        "Student('유관순', 20, {'kor': 80,'eng':68, 'maht':85}),\n",
        "Student('강감찬', 25, {'kor': 70,'eng':74, 'maht':98}),\n",
        "Student('김유신', 20, {'kor': 60,'eng':88, 'maht':75})\n",
        "]\n",
        "save_students(students)"
      ]
    },
    {
      "cell_type": "code",
      "execution_count": null,
      "metadata": {
        "colab": {
          "base_uri": "https://localhost:8080/"
        },
        "id": "TWCsaH23cliX",
        "outputId": "9cd46c44-7f6a-488f-f361-6ee0eca0df21"
      },
      "outputs": [
        {
          "name": "stdout",
          "output_type": "stream",
          "text": [
            "{'name': '홍길동', 'age': 20, 'scores': {'kor': 100, 'eng': 98, 'maht': 95}}\n",
            "{'name': '이순신', 'age': 25, 'scores': {'kor': 90, 'eng': 94, 'maht': 78}}\n",
            "{'name': '유관순', 'age': 20, 'scores': {'kor': 80, 'eng': 68, 'maht': 85}}\n",
            "{'name': '강감찬', 'age': 25, 'scores': {'kor': 70, 'eng': 74, 'maht': 98}}\n",
            "{'name': '김유신', 'age': 20, 'scores': {'kor': 60, 'eng': 88, 'maht': 75}}\n"
          ]
        }
      ],
      "source": [
        "# 데이터 불러오기\n",
        "loaded_students = load_students()\n",
        "for student in loaded_students:\n",
        "  print(student)"
      ]
    },
    {
      "cell_type": "markdown",
      "metadata": {
        "id": "A8xi5AcrkJBw"
      },
      "source": [
        "# 테스트\n",
        "  - 코드가 예상대로 동작하는 확인하느 과정\n",
        "  - 다양한 도구\n",
        "    - unitest 모듈 : 단위 테스트"
      ]
    },
    {
      "cell_type": "code",
      "execution_count": null,
      "metadata": {
        "colab": {
          "base_uri": "https://localhost:8080/"
        },
        "id": "-EtJijYMkIMi",
        "outputId": "7e1d2854-c68f-400a-870b-757243b8c4c4"
      },
      "outputs": [
        {
          "name": "stderr",
          "output_type": "stream",
          "text": [
            "...\n",
            "----------------------------------------------------------------------\n",
            "Ran 3 tests in 0.007s\n",
            "\n",
            "OK\n"
          ]
        }
      ],
      "source": [
        "# unittest로 Student 클래스 테스트\n",
        "import unittest\n",
        "from Student import Student\n",
        "class TestStudent(unittest.TestCase):\n",
        "  def test_get_average(self):\n",
        "    student = Student('홍길동',20,{'kor':100,'eng':98,'math':95})\n",
        "    self.assertEqual(round(student.get_average()),98)  # 테스트 코드 상속 받은 unittest에서 가져온 함수\n",
        "\n",
        "  def test_str(self):\n",
        "    student = Student('홍길동',20,{'kor':100,'eng':98,'math':95})\n",
        "    self.assertEqual(str(student),\"홍길동, 20, {'kor': 100, 'eng': 98, 'math': 95}\")\n",
        "    self.assertIn('홍길동',str(student))\n",
        "\n",
        "  def test_to_dict(self):\n",
        "    student = Student('홍길동',20,{'kor':100,'eng':98,'math':95})\n",
        "    self.assertEqual(student.to_dict(),\n",
        "     {'name': '홍길동', 'age': 20, 'scores': {'kor': 100, 'eng': 98, 'math': 95}}\n",
        "                     )\n",
        "# __name__ 해당 변수가 적용된 곳이 모듈이 아니면 __main__을 출력하고 이코드가\n",
        "# 모듈에서 작성되었다면 __모듈명__ 출력\n",
        "# if __name__ == '__main__': 모듈을 만들고 해당모듈을 해당 py파일에서 동작 테스트할 때 사용\n",
        "if __name__ == '__main__':\n",
        "  unittest.main(argv=[''], exit=False)   # 코랩셀이 종료되지 않도록"
      ]
    },
    {
      "cell_type": "markdown",
      "metadata": {
        "id": "wE7uJyaTrA4z"
      },
      "source": [
        "# 정리\n",
        "\n",
        "\n",
        "```\n",
        "- 모듈\n",
        "  - py로 되어 있는 파일을 외부 다른파일에서 import 파일명\n",
        "  - 파일명이 모듈명\n",
        "  - 코랩환경에서는 세션을 초기화해야 모듈이 변경된 것을 인식\n",
        "  - 구글 드라이브에 모듈을 정의하고 사용하려면 시스템 path에 모듈 경로를 저장해야한다\n",
        "- 단위테스트\n",
        "- 디버깅의 의미\n",
        "  - 가장 오래되고 간단한 디버깅은 print를 활용해서 중간 결과를 확인\n",
        "  - VisualStudioCode 와 같은 IDE 에서 제공하는 디버깅 기능을 이용함\n",
        "- 데이터를 보전하기 위해서 파일에 객체를 저장하고 객체로 불러오기\n",
        "  - json을 이용해서 가능\n",
        "    - key/value 형태로 이루어진 집합으로 문자열형태로 되어있음\n",
        "```\n",
        "\n",
        "\n"
      ]
    },
    {
      "cell_type": "markdown",
      "metadata": {
        "id": "JyeK3mKm_d-_"
      },
      "source": [
        "```\n",
        "예외처리\n",
        "  try     : 예외를 처리하는 코드 블럭\n",
        "  except  : 예외를 잡아서 처리 블럭\n",
        "  else    : 예외가 발생하지 않았을떄 처리 블럭\n",
        "  finaliy : 예외가 발생하던 안하던 항상 처리되는 블럭\n",
        "  raise   : 의도적으로 예외발생\n",
        "```\n",
        "\n"
      ]
    },
    {
      "cell_type": "code",
      "execution_count": null,
      "metadata": {
        "colab": {
          "base_uri": "https://localhost:8080/"
        },
        "id": "OPp3-o_LtYwk",
        "outputId": "1c43c524-5d20-4c91-c2e4-88944dce2869"
      },
      "outputs": [
        {
          "name": "stdout",
          "output_type": "stream",
          "text": [
            "점수가 없어서 0으로 나눌수 없습니다\n"
          ]
        }
      ],
      "source": [
        "score = []\n",
        "try:\n",
        "  avg = sum(score) / len(score)\n",
        "  print(f'평균은 : {avg:.2f}')\n",
        "#except Exception as e:   # 모든 케이스 Exception을 받아서 처리\n",
        "except ZeroDivisionError:\n",
        "  print('점수가 없어서 0으로 나눌수 없습니다')\n",
        "\n",
        "\n",
        "# print(f'평균은 : {avg:.2f}')"
      ]
    },
    {
      "cell_type": "code",
      "execution_count": null,
      "metadata": {
        "colab": {
          "base_uri": "https://localhost:8080/"
        },
        "id": "fQeABlOqAVch",
        "outputId": "ba977408-b756-498e-873e-eae1c81fa3a9"
      },
      "outputs": [
        {
          "name": "stdout",
          "output_type": "stream",
          "text": [
            "점수가 없어서 0으로 나눌수 없습니다\n",
            "이 문장이 보인다면 정석적으로 종료된 것입니다\n"
          ]
        }
      ],
      "source": [
        "score = []\n",
        "try:\n",
        "  avg = sum(score) / len(score)\n",
        "  print(f'평균은 : {avg:.2f}')\n",
        "  print(score[0])\n",
        "  with open('울라라.txt','r') as f:\n",
        "    print(f.read())\n",
        "#except Exception as e:   # 모든 케이스 Exception을 받아서 처리\n",
        "except ZeroDivisionError:\n",
        "  print('점수가 없어서 0으로 나눌수 없습니다')\n",
        "except IndexError:\n",
        "  print('인덱스의 유호범위가 아닙니다.')\n",
        "except Exception as e:\n",
        "  print(e)\n",
        "\n",
        "print('이 문장이 보인다면 정석적으로 종료된 것입니다')   # 죽지 않고 살아 있다..."
      ]
    },
    {
      "cell_type": "markdown",
      "metadata": {
        "id": "KwBWs8uWEbyd"
      },
      "source": [
        "# else, finally"
      ]
    },
    {
      "cell_type": "code",
      "execution_count": null,
      "metadata": {
        "id": "15cNsGp1CGpA"
      },
      "outputs": [],
      "source": [
        "score = [10,20]\n",
        "def get_average(score):\n",
        "  try:\n",
        "    total = sum(score)\n",
        "    count = len(score)\n",
        "    result = total / count\n",
        "  except ZeroDivisionError:\n",
        "    print('점수가 없으면 안됩니다.')\n",
        "    return None\n",
        "  except Exception as e:\n",
        "    print(e)\n",
        "    return None\n",
        "  else:   # 예외가 발생하지 않으면 실행되는 블럭\n",
        "    print(f\"평균 계산완료\")\n",
        "    return result\n",
        "  finally:\n",
        "    print('평균계산 시도 완료')"
      ]
    },
    {
      "cell_type": "code",
      "execution_count": null,
      "metadata": {
        "colab": {
          "base_uri": "https://localhost:8080/"
        },
        "id": "PbOh6bmDExH_",
        "outputId": "fa6f22ca-0fed-48e9-c0c3-c15994c44a5e"
      },
      "outputs": [
        {
          "name": "stdout",
          "output_type": "stream",
          "text": [
            "평균 계산완료\n",
            "평균계산 시도 완료\n"
          ]
        },
        {
          "data": {
            "text/plain": [
              "15.0"
            ]
          },
          "execution_count": 33,
          "metadata": {},
          "output_type": "execute_result"
        }
      ],
      "source": [
        "get_average([10,20])"
      ]
    },
    {
      "cell_type": "code",
      "execution_count": null,
      "metadata": {
        "colab": {
          "base_uri": "https://localhost:8080/"
        },
        "id": "T-zAM7R3Gk5c",
        "outputId": "08597d87-1f25-4f26-ecc6-32ad8ba7c891"
      },
      "outputs": [
        {
          "name": "stdout",
          "output_type": "stream",
          "text": [
            "평균 계산완료\n",
            "평균계산 시도 완료\n"
          ]
        },
        {
          "data": {
            "text/plain": [
              "3.0"
            ]
          },
          "execution_count": 34,
          "metadata": {},
          "output_type": "execute_result"
        }
      ],
      "source": [
        "data = [1,2,3,4,5]\n",
        "get_average(data)"
      ]
    },
    {
      "cell_type": "code",
      "execution_count": null,
      "metadata": {
        "colab": {
          "base_uri": "https://localhost:8080/"
        },
        "id": "Y8FP3pyMG7ae",
        "outputId": "f9b2c803-a622-4489-ff9a-692ab4d641dd"
      },
      "outputs": [
        {
          "data": {
            "text/plain": [
              "True"
            ]
          },
          "execution_count": 36,
          "metadata": {},
          "output_type": "execute_result"
        }
      ],
      "source": [
        "isinstance(data, list)  # 객체와 타입을 넣으면 같으면 True 다르면 False"
      ]
    },
    {
      "cell_type": "code",
      "execution_count": null,
      "metadata": {
        "colab": {
          "base_uri": "https://localhost:8080/"
        },
        "id": "Oo9FdclpIS9o",
        "outputId": "d5d682dc-487e-4c98-fd50-90091b6e64a4"
      },
      "outputs": [
        {
          "name": "stdout",
          "output_type": "stream",
          "text": [
            "숫자를 입력하세요12,5\n",
            "정수나 실수형태의 숫자만 입력 가능합니다.\n",
            "로직을 종료합니다\n"
          ]
        }
      ],
      "source": [
        "# 문자열형태로 입력받는 숫자가 실수인지 판다하는 로직\n",
        "# '123' isdigit, isNumeric\n",
        "str_number = input('숫자를 입력하세요')\n",
        "try:\n",
        "  if str_number.isdigit():\n",
        "    number = int(str_number)\n",
        "  else:\n",
        "    number = float(str_number)\n",
        "except Exception:\n",
        "  print('정수나 실수형태의 숫자만 입력 가능합니다.')\n",
        "else:\n",
        "  print(f'입력한 값*5 = {number*5}')\n",
        "finally:\n",
        "  print('로직을 종료합니다')"
      ]
    },
    {
      "cell_type": "markdown",
      "metadata": {
        "id": "Nj37SVYJMy5q"
      },
      "source": [
        "```\n",
        "패키지 : 모듈(.py)을 계층적으로 묶은 디렉터리\n",
        "  디렉터리 안에 __init__.py 파일(패키지임을 표시, python3.3 이상부터는 생략가능하지만 가독성을 위해서 명시적으로 표시)\n",
        "  my_package\n",
        "    |\n",
        "    ---- __init__.py\n",
        "    ---- my_module1.py\n",
        "    ---- my_module2.py\n",
        "\n",
        "class MyModule1:\n",
        "  def __init__(self,data):\n",
        "  self.data = data\n",
        "\n",
        "  def __str__(self) -> str:\n",
        "  return f'my_module1 data:{self.data}'\n",
        "\n",
        "class MyModule2:\n",
        "  def __init__(self,data):\n",
        "  self.data = data\n",
        "\n",
        "  def __str__(self) -> str:\n",
        "  return f'my_module2 data:{self.data}'\n",
        "```\n",
        "\n"
      ]
    },
    {
      "cell_type": "code",
      "execution_count": null,
      "metadata": {
        "colab": {
          "base_uri": "https://localhost:8080/"
        },
        "id": "M6GR_6D8YjFg",
        "outputId": "6bbb1fba-6562-4715-86aa-6fd61bb844aa"
      },
      "outputs": [
        {
          "name": "stdout",
          "output_type": "stream",
          "text": [
            "my_module1 data:10\n",
            "my_module1 data:20\n"
          ]
        }
      ],
      "source": [
        "import sys\n",
        "sys.path.append('/content/drive/MyDrive/module/')\n",
        "\n",
        "# package 사용하기\n",
        "from MyPackage.my_module1 import MyModule1\n",
        "from MyPackage.my_module2 import MyModule2\n",
        "\n",
        "m1 = MyModule1(10)\n",
        "m2 = MyModule2(20)\n",
        "print(m1)\n",
        "print(m2)"
      ]
    },
    {
      "cell_type": "markdown",
      "metadata": {
        "id": "VpwDX4_yU6vm"
      },
      "source": [
        "# __init __.py 활용\n",
        "   - 패키지 초기화\n",
        "    - 여기서 모듈을 미리 임포트해서 편리하게 사용\n",
        "\n",
        "```\n",
        "__init__.py\n",
        "\n",
        "from .my_module1 import MyModule1\n",
        "from .my_module2 import MyModule2\n",
        "\n",
        "print('MyPackage  패키지 초기화')\n",
        "```    "
      ]
    },
    {
      "cell_type": "code",
      "execution_count": null,
      "metadata": {
        "colab": {
          "base_uri": "https://localhost:8080/"
        },
        "id": "u_PBwgWVQ5VZ",
        "outputId": "70c49f25-d1e2-45db-fca2-fa1075266274"
      },
      "outputs": [
        {
          "name": "stdout",
          "output_type": "stream",
          "text": [
            "MyPackage  패키지 초기화\n",
            "my_module1 data:10\n",
            "my_module1 data:20\n"
          ]
        }
      ],
      "source": [
        "import sys\n",
        "sys.path.append('/content/drive/MyDrive/module')\n",
        "\n",
        "from MyPackage import MyModule1, MyModule2\n",
        "s1 = MyModule1(10)\n",
        "s2 = MyModule2(20)\n",
        "print(s1)\n",
        "print(s2)"
      ]
    },
    {
      "cell_type": "markdown",
      "metadata": {
        "id": "ydCFypXXboez"
      },
      "source": [
        "# steamit\n",
        "```\n",
        "오픈소스 프레임워크로 데이터중심의 웹 앱을 빠르게 만들기 위해\n",
        "  HTML/CSS/Javascrip 없이 파이썬만으로 UI 구성\n",
        "  실시간\n",
        "  데이터시각화 및 머신러닝 모델 베포에 최적화\n",
        "  프론트나 백엔트 지식없어도 제작\n",
        "```"
      ]
    },
    {
      "cell_type": "markdown",
      "metadata": {
        "id": "xVUHFjt7oaKn"
      },
      "source": [
        "# Streamlit & ngrok"
      ]
    },
    {
      "cell_type": "code",
      "execution_count": null,
      "metadata": {
        "colab": {
          "base_uri": "https://localhost:8080/"
        },
        "id": "uvpPnm0hPqkw",
        "outputId": "5ba369e9-c71e-4685-9423-33f8c6870417"
      },
      "outputs": [
        {
          "name": "stdout",
          "output_type": "stream",
          "text": [
            "Collecting streamlit\n",
            "  Downloading streamlit-1.43.0-py2.py3-none-any.whl.metadata (8.9 kB)\n",
            "Collecting pyngrok\n",
            "  Downloading pyngrok-7.2.3-py3-none-any.whl.metadata (8.7 kB)\n",
            "Requirement already satisfied: altair<6,>=4.0 in /usr/local/lib/python3.11/dist-packages (from streamlit) (5.5.0)\n",
            "Requirement already satisfied: blinker<2,>=1.0.0 in /usr/local/lib/python3.11/dist-packages (from streamlit) (1.9.0)\n",
            "Requirement already satisfied: cachetools<6,>=4.0 in /usr/local/lib/python3.11/dist-packages (from streamlit) (5.5.2)\n",
            "Requirement already satisfied: click<9,>=7.0 in /usr/local/lib/python3.11/dist-packages (from streamlit) (8.1.8)\n",
            "Requirement already satisfied: numpy<3,>=1.23 in /usr/local/lib/python3.11/dist-packages (from streamlit) (1.26.4)\n",
            "Requirement already satisfied: packaging<25,>=20 in /usr/local/lib/python3.11/dist-packages (from streamlit) (24.2)\n",
            "Requirement already satisfied: pandas<3,>=1.4.0 in /usr/local/lib/python3.11/dist-packages (from streamlit) (2.2.2)\n",
            "Requirement already satisfied: pillow<12,>=7.1.0 in /usr/local/lib/python3.11/dist-packages (from streamlit) (11.1.0)\n",
            "Requirement already satisfied: protobuf<6,>=3.20 in /usr/local/lib/python3.11/dist-packages (from streamlit) (4.25.6)\n",
            "Requirement already satisfied: pyarrow>=7.0 in /usr/local/lib/python3.11/dist-packages (from streamlit) (18.1.0)\n",
            "Requirement already satisfied: requests<3,>=2.27 in /usr/local/lib/python3.11/dist-packages (from streamlit) (2.32.3)\n",
            "Requirement already satisfied: tenacity<10,>=8.1.0 in /usr/local/lib/python3.11/dist-packages (from streamlit) (9.0.0)\n",
            "Requirement already satisfied: toml<2,>=0.10.1 in /usr/local/lib/python3.11/dist-packages (from streamlit) (0.10.2)\n",
            "Requirement already satisfied: typing-extensions<5,>=4.4.0 in /usr/local/lib/python3.11/dist-packages (from streamlit) (4.12.2)\n",
            "Collecting watchdog<7,>=2.1.5 (from streamlit)\n",
            "  Downloading watchdog-6.0.0-py3-none-manylinux2014_x86_64.whl.metadata (44 kB)\n",
            "\u001b[2K     \u001b[90m━━━━━━━━━━━━━━━━━━━━━━━━━━━━━━━━━━━━━━━━\u001b[0m \u001b[32m44.3/44.3 kB\u001b[0m \u001b[31m1.5 MB/s\u001b[0m eta \u001b[36m0:00:00\u001b[0m\n",
            "\u001b[?25hRequirement already satisfied: gitpython!=3.1.19,<4,>=3.0.7 in /usr/local/lib/python3.11/dist-packages (from streamlit) (3.1.44)\n",
            "Collecting pydeck<1,>=0.8.0b4 (from streamlit)\n",
            "  Downloading pydeck-0.9.1-py2.py3-none-any.whl.metadata (4.1 kB)\n",
            "Requirement already satisfied: tornado<7,>=6.0.3 in /usr/local/lib/python3.11/dist-packages (from streamlit) (6.4.2)\n",
            "Requirement already satisfied: PyYAML>=5.1 in /usr/local/lib/python3.11/dist-packages (from pyngrok) (6.0.2)\n",
            "Requirement already satisfied: jinja2 in /usr/local/lib/python3.11/dist-packages (from altair<6,>=4.0->streamlit) (3.1.5)\n",
            "Requirement already satisfied: jsonschema>=3.0 in /usr/local/lib/python3.11/dist-packages (from altair<6,>=4.0->streamlit) (4.23.0)\n",
            "Requirement already satisfied: narwhals>=1.14.2 in /usr/local/lib/python3.11/dist-packages (from altair<6,>=4.0->streamlit) (1.29.0)\n",
            "Requirement already satisfied: gitdb<5,>=4.0.1 in /usr/local/lib/python3.11/dist-packages (from gitpython!=3.1.19,<4,>=3.0.7->streamlit) (4.0.12)\n",
            "Requirement already satisfied: python-dateutil>=2.8.2 in /usr/local/lib/python3.11/dist-packages (from pandas<3,>=1.4.0->streamlit) (2.8.2)\n",
            "Requirement already satisfied: pytz>=2020.1 in /usr/local/lib/python3.11/dist-packages (from pandas<3,>=1.4.0->streamlit) (2025.1)\n",
            "Requirement already satisfied: tzdata>=2022.7 in /usr/local/lib/python3.11/dist-packages (from pandas<3,>=1.4.0->streamlit) (2025.1)\n",
            "Requirement already satisfied: charset-normalizer<4,>=2 in /usr/local/lib/python3.11/dist-packages (from requests<3,>=2.27->streamlit) (3.4.1)\n",
            "Requirement already satisfied: idna<4,>=2.5 in /usr/local/lib/python3.11/dist-packages (from requests<3,>=2.27->streamlit) (3.10)\n",
            "Requirement already satisfied: urllib3<3,>=1.21.1 in /usr/local/lib/python3.11/dist-packages (from requests<3,>=2.27->streamlit) (2.3.0)\n",
            "Requirement already satisfied: certifi>=2017.4.17 in /usr/local/lib/python3.11/dist-packages (from requests<3,>=2.27->streamlit) (2025.1.31)\n",
            "Requirement already satisfied: smmap<6,>=3.0.1 in /usr/local/lib/python3.11/dist-packages (from gitdb<5,>=4.0.1->gitpython!=3.1.19,<4,>=3.0.7->streamlit) (5.0.2)\n",
            "Requirement already satisfied: MarkupSafe>=2.0 in /usr/local/lib/python3.11/dist-packages (from jinja2->altair<6,>=4.0->streamlit) (3.0.2)\n",
            "Requirement already satisfied: attrs>=22.2.0 in /usr/local/lib/python3.11/dist-packages (from jsonschema>=3.0->altair<6,>=4.0->streamlit) (25.1.0)\n",
            "Requirement already satisfied: jsonschema-specifications>=2023.03.6 in /usr/local/lib/python3.11/dist-packages (from jsonschema>=3.0->altair<6,>=4.0->streamlit) (2024.10.1)\n",
            "Requirement already satisfied: referencing>=0.28.4 in /usr/local/lib/python3.11/dist-packages (from jsonschema>=3.0->altair<6,>=4.0->streamlit) (0.36.2)\n",
            "Requirement already satisfied: rpds-py>=0.7.1 in /usr/local/lib/python3.11/dist-packages (from jsonschema>=3.0->altair<6,>=4.0->streamlit) (0.23.1)\n",
            "Requirement already satisfied: six>=1.5 in /usr/local/lib/python3.11/dist-packages (from python-dateutil>=2.8.2->pandas<3,>=1.4.0->streamlit) (1.17.0)\n",
            "Downloading streamlit-1.43.0-py2.py3-none-any.whl (9.7 MB)\n",
            "\u001b[2K   \u001b[90m━━━━━━━━━━━━━━━━━━━━━━━━━━━━━━━━━━━━━━━━\u001b[0m \u001b[32m9.7/9.7 MB\u001b[0m \u001b[31m51.0 MB/s\u001b[0m eta \u001b[36m0:00:00\u001b[0m\n",
            "\u001b[?25hDownloading pyngrok-7.2.3-py3-none-any.whl (23 kB)\n",
            "Downloading pydeck-0.9.1-py2.py3-none-any.whl (6.9 MB)\n",
            "\u001b[2K   \u001b[90m━━━━━━━━━━━━━━━━━━━━━━━━━━━━━━━━━━━━━━━━\u001b[0m \u001b[32m6.9/6.9 MB\u001b[0m \u001b[31m68.5 MB/s\u001b[0m eta \u001b[36m0:00:00\u001b[0m\n",
            "\u001b[?25hDownloading watchdog-6.0.0-py3-none-manylinux2014_x86_64.whl (79 kB)\n",
            "\u001b[2K   \u001b[90m━━━━━━━━━━━━━━━━━━━━━━━━━━━━━━━━━━━━━━━━\u001b[0m \u001b[32m79.1/79.1 kB\u001b[0m \u001b[31m4.3 MB/s\u001b[0m eta \u001b[36m0:00:00\u001b[0m\n",
            "\u001b[?25hInstalling collected packages: watchdog, pyngrok, pydeck, streamlit\n",
            "Successfully installed pydeck-0.9.1 pyngrok-7.2.3 streamlit-1.43.0 watchdog-6.0.0\n"
          ]
        }
      ],
      "source": [
        "!pip install streamlit pyngrok"
      ]
    },
    {
      "cell_type": "code",
      "execution_count": null,
      "metadata": {
        "colab": {
          "base_uri": "https://localhost:8080/"
        },
        "id": "hnzDZQSDcGC_",
        "outputId": "9a311af9-87bd-4bd8-c1c4-5b17c7c36a9e"
      },
      "outputs": [
        {
          "name": "stdout",
          "output_type": "stream",
          "text": [
            "Overwriting app.py\n"
          ]
        }
      ],
      "source": [
        "%%writefile app.py\n",
        "import streamlit as st\n",
        "\n",
        "st.title('streamlit 테스트입니다')\n",
        "st.write('안녕하세요 테스트 중입니다. 본내용입니다')"
      ]
    },
    {
      "cell_type": "markdown",
      "metadata": {
        "id": "d4TX1MgEeGv8"
      },
      "source": [
        "\n",
        "\n",
        "```\n",
        "https://ngrok.com/\n",
        "```\n",
        "\n"
      ]
    },
    {
      "cell_type": "code",
      "execution_count": null,
      "metadata": {
        "colab": {
          "base_uri": "https://localhost:8080/"
        },
        "id": "j8KBY0-ke3jl",
        "outputId": "0a13f406-09c9-4207-d1cd-b398b74dfe41"
      },
      "outputs": [
        {
          "name": "stdout",
          "output_type": "stream",
          "text": [
            "Authtoken saved to configuration file: /root/.config/ngrok/ngrok.yml\n"
          ]
        }
      ],
      "source": [
        "!ngrok config add-authtoken 2tyl1R5swzO9tPrV8KVBF8oHCrk_3D4Ztonpw4AURWJ2jXd63"
      ]
    },
    {
      "cell_type": "code",
      "execution_count": null,
      "metadata": {
        "colab": {
          "base_uri": "https://localhost:8080/"
        },
        "id": "uOpTkNvZdRrD",
        "outputId": "a6eaaf14-fb09-4293-ff4c-97b3b0bf83cd"
      },
      "outputs": [
        {
          "name": "stdout",
          "output_type": "stream",
          "text": [
            "Streamlit url : NgrokTunnel: \"https://3b98-34-138-0-106.ngrok-free.app\" -> \"http://localhost:8501\"\n"
          ]
        }
      ],
      "source": [
        "from pyngrok import ngrok\n",
        "ngrok.kill()\n",
        "\n",
        "# streamlit 실행 아주 작은 경량화된 웹 서버\n",
        "!streamlit run app.py &>/dev/null&   # 백그라운드 환경에서 동작\n",
        "\n",
        "# Ngrok 터널 생성 : streamlit을 외부로 연결해주는 터널 : 터널링\n",
        "url = ngrok.connect(8501)   # ngrok를 사용해서 공개 url 생성\n",
        "print(f'Streamlit url : {url}')"
      ]
    },
    {
      "cell_type": "code",
      "execution_count": null,
      "metadata": {
        "colab": {
          "base_uri": "https://localhost:8080/"
        },
        "id": "kvfIPfipcrVv",
        "outputId": "cf927f59-c440-4f50-b3e3-48f3c707bd73"
      },
      "outputs": [
        {
          "name": "stdout",
          "output_type": "stream",
          "text": [
            "Authtoken saved to configuration file: /root/.config/ngrok/ngrok.yml\n",
            "Authtoken saved to configuration file: /root/.config/ngrok/ngrok.yml\n"
          ]
        }
      ],
      "source": [
        "!ngrok config add-authtoken '2tyjKhWye4IN2eo0JjwcTDtTlQz_yLeyZrmpahGqYiMTY6b8'\n",
        "!ngrok authtoken 2tyjKhWye4IN2eo0JjwcTDtTlQz_yLeyZrmpahGqYiMTY6b8"
      ]
    },
    {
      "cell_type": "markdown",
      "metadata": {
        "id": "orrpF9Z7ofZv"
      },
      "source": [
        "# streamlit & npx (리눅스 자체에서 외부로 연결할 수 있는 터널링 제공)"
      ]
    },
    {
      "cell_type": "code",
      "execution_count": null,
      "metadata": {
        "id": "p2J4yVfSdBpe"
      },
      "outputs": [],
      "source": [
        "!pip install streamlit pyngrok"
      ]
    },
    {
      "cell_type": "code",
      "execution_count": null,
      "metadata": {
        "id": "Nwz4o4tOo7je"
      },
      "outputs": [],
      "source": [
        "# 앱 작성\n",
        "%%writefile app.py\n",
        "import sys\n",
        "sys.path.append('/content/drive/MyDrive/module')\n",
        "\n",
        "import streamlit as st\n",
        "from Student import Student\n",
        "import json\n",
        "\n",
        "# 입력 ui\n",
        "st.title('학생관리 프로그램')\n",
        "name =  st.text_input(\"이름\")\n",
        "age =  st.number_input(\"나이\", min_value=0, step=1)\n",
        "scores_input =  st.text_input(\"과목과 점수: ex(kor:90, eng:85)\")  # {\"kor\": 90, \"eng\": 85}\n",
        "\n",
        "\n",
        "# 입력데이터 표시\n",
        "if st.button('학생추가'):\n",
        "  score_dict = json.loads(scores_input)  # {\"kor\": 90, \"eng\": 85}\n",
        "  student = Student(name,age,score_dict)\n",
        "  st.write(f'평균점수 : {student.get_average():.2f}')"
      ]
    },
    {
      "cell_type": "code",
      "execution_count": null,
      "metadata": {
        "colab": {
          "base_uri": "https://localhost:8080/"
        },
        "id": "sg55wNxzo8rA",
        "outputId": "ea9d58ee-3db3-43e6-f198-749f0a95070d"
      },
      "outputs": [
        {
          "name": "stdout",
          "output_type": "stream",
          "text": [
            "34.23.204.195\n"
          ]
        }
      ],
      "source": [
        "# 공용 ip 확인(Turnnel Password 사용)\n",
        "!curl ipv4.icanhazip.com"
      ]
    },
    {
      "cell_type": "code",
      "execution_count": null,
      "metadata": {
        "colab": {
          "background_save": true,
          "base_uri": "https://localhost:8080/"
        },
        "id": "-fJ3yQ_vpE7b",
        "outputId": "a856e916-2e22-4462-a2b4-89f8467c50ec"
      },
      "outputs": [
        {
          "name": "stdout",
          "output_type": "stream",
          "text": [
            "\u001b[1G\u001b[0K⠙\u001b[1G\u001b[0K⠹\u001b[1G\u001b[0K⠸\u001b[1G\u001b[0K⠼\u001b[1G\u001b[0K⠴\u001b[1G\u001b[0K⠦\u001b[1G\u001b[0K⠧\u001b[1G\u001b[0Kyour url is: https://shiny-mangos-stare.loca.lt\n"
          ]
        }
      ],
      "source": [
        "# Streamlit 백그라운드로 실행\n",
        "!streamlit run app.py &>/dev/null &\n",
        "\n",
        "!npx localtunnel --port 8501 --yes # 설치확인 자동화"
      ]
    }
  ],
  "metadata": {
    "colab": {
      "provenance": []
    },
    "kernelspec": {
      "display_name": "Python 3",
      "name": "python3"
    },
    "language_info": {
      "name": "python"
    }
  },
  "nbformat": 4,
  "nbformat_minor": 0
}